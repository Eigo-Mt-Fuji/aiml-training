{
 "cells": [
  {
   "cell_type": "markdown",
   "metadata": {
    "chapterId": "SJHW_A7-lbM",
    "id": "chapter_name"
   },
   "source": [
    "#  OpenCVの利用と画像データの前処理"
   ]
  },
  {
   "cell_type": "markdown",
   "metadata": {
    "id": "table"
   },
   "source": [
    "- **[3.1 画像データの基礎](#3.1-画像データの基礎)**\n",
    "    - **[3.1.1 RGBデータ](#3.1.1-RGBデータ)**\n",
    "    - **[3.1.2 画像データのフォーマット](#3.1.2-画像データのフォーマット)**\n",
    "    - **[3.1.3 透過データ](#3.1.3-透過データ)**\n",
    "<br><br>\n",
    "- **[3.2 OpenCVの基礎](#3.2-OpenCVの基礎)**\n",
    "    - **[3.2.1 画像の読み込み・表示](#3.2.1-画像の読み込み・表示)**\n",
    "    - **[3.2.2 画像の作成・保存](#3.2.2-画像の作成・保存)**\n",
    "    - **[3.2.3 トリミングとリサイズ](#3.2.3-トリミングとリサイズ)**\n",
    "    - **[3.2.4 回転・反転](#3.2.4-回転・反転)**\n",
    "    - **[3.2.5 色調変換・色反転](#3.2.5-色調変換・色反転)**\n",
    "<br><br>\n",
    "- **[3.3 OpenCVの利用](#3.3-OpenCVの利用)**\n",
    "    - **<a href = \"#3.3.1-閾値処理(二値化)\">3.3.1 閾値処理(二値化)</a>**\n",
    "    - **[3.3.2 マスキング](#3.3.2-マスキング)**\n",
    "    - **[3.3.3 ぼかし・モザイク](#3.3.3-ぼかし・モザイク)**\n",
    "    - **[3.3.4 ノイズ除去](#3.3.4-ノイズ除去)**\n",
    "    - **[3.3.5 膨張・収縮](#3.3.5-膨張・収縮)**\n",
    "- **[3.5 添削問題](#3.5-添削問題)**"
   ]
  },
  {
   "cell_type": "markdown",
   "metadata": {},
   "source": [
    "***"
   ]
  },
  {
   "cell_type": "markdown",
   "metadata": {
    "config": [
     "Tutor"
    ]
   },
   "source": [
    "## <font color=\"Red\"><重要>本講座を開始する前にこちらのコードを実行してください。</font>"
   ]
  },
  {
   "cell_type": "code",
   "execution_count": 1,
   "metadata": {
    "config": [
     "Tutor"
    ]
   },
   "outputs": [
    {
     "ename": "ModuleNotFoundError",
     "evalue": "No module named 'cv2'",
     "output_type": "error",
     "traceback": [
      "\u001b[0;31m---------------------------------------------------------------------------\u001b[0m",
      "\u001b[0;31mModuleNotFoundError\u001b[0m                       Traceback (most recent call last)",
      "\u001b[0;32m<ipython-input-1-5a7e9871d3cd>\u001b[0m in \u001b[0;36m<module>\u001b[0;34m\u001b[0m\n\u001b[1;32m      1\u001b[0m \u001b[0;32mimport\u001b[0m \u001b[0mmatplotlib\u001b[0m\u001b[0;34m.\u001b[0m\u001b[0mpyplot\u001b[0m \u001b[0;32mas\u001b[0m \u001b[0mplt\u001b[0m\u001b[0;34m\u001b[0m\u001b[0m\n\u001b[0;32m----> 2\u001b[0;31m \u001b[0;32mimport\u001b[0m \u001b[0mcv2\u001b[0m\u001b[0;34m\u001b[0m\u001b[0m\n\u001b[0m\u001b[1;32m      3\u001b[0m \u001b[0;32mimport\u001b[0m \u001b[0mnumpy\u001b[0m \u001b[0;32mas\u001b[0m \u001b[0mnp\u001b[0m\u001b[0;34m\u001b[0m\u001b[0m\n\u001b[1;32m      4\u001b[0m \u001b[0;32mimport\u001b[0m \u001b[0mtime\u001b[0m\u001b[0;34m\u001b[0m\u001b[0m\n\u001b[1;32m      5\u001b[0m \u001b[0mget_ipython\u001b[0m\u001b[0;34m(\u001b[0m\u001b[0;34m)\u001b[0m\u001b[0;34m.\u001b[0m\u001b[0mrun_line_magic\u001b[0m\u001b[0;34m(\u001b[0m\u001b[0;34m'matplotlib'\u001b[0m\u001b[0;34m,\u001b[0m \u001b[0;34m'inline'\u001b[0m\u001b[0;34m)\u001b[0m\u001b[0;34m\u001b[0m\u001b[0m\n",
      "\u001b[0;31mModuleNotFoundError\u001b[0m: No module named 'cv2'"
     ]
    }
   ],
   "source": [
    "import matplotlib.pyplot as plt\n",
    "import cv2\n",
    "import numpy as np\n",
    "import time\n",
    "%matplotlib inline\n",
    "def aidemy_imshow(name, img):\n",
    "    b,g,r = cv2.split(img)\n",
    "    img = cv2.merge([r,g,b])\n",
    "    plt.imshow(img)\n",
    "    plt.show()\n",
    "\n",
    "cv2.imshow = aidemy_imshow"
   ]
  },
  {
   "cell_type": "markdown",
   "metadata": {
    "id": "section_name",
    "sectionId": "ryI-u07ZeWf"
   },
   "source": [
    "## 3.1 画像データの基礎"
   ]
  },
  {
   "cell_type": "markdown",
   "metadata": {
    "courseId": 4050,
    "exerciseId": "BJtvth8jIlM",
    "id": "quiz_session_name",
    "important": true,
    "isDL": false,
    "timeoutSecs": 5
   },
   "source": [
    "### 3.1.1 RGBデータ"
   ]
  },
  {
   "cell_type": "markdown",
   "metadata": {
    "id": "description"
   },
   "source": [
    "実はコンピュータ上ではたった3色の組み合わせでおおよそ全ての色を表現できます。これを「光の三原色」と言い、赤（Red）緑（Green）青（Blue）の3色です。余談になりますが、プリンターはCMYK、つまりシアン、マゼンダ、イエロー、ブラックを混ぜて色を表現する事が多いです。パソコンのディスプレイは光の発光を利用して色を表現しますが、印刷物は光の吸収を利用して色を表現するためこのような違いがでるのです。<br>\n",
    "<br>\n",
    "さて、コンピュータは画像を点の集まりとして扱っています。この点は**ピクセル**と呼ばれ、例えば縦が100ピクセルで横が100ピクセルの画像は100 x 100 = 10,000個のピクセルの集まりと言う事になります。各ピクセルは色の情報を保存する必要があります。例えば、カラー画像であればRGBの3色がそれぞれどのくらいの明るさ(濃さ)であるかを持つ必要があり、多くの場合0から255の範囲で色の明るさを表現しています。数字が大きいほど明るくなり、例えば、ただの赤は(255, 0, 0)と表現できます。紫色は(255, 0, 255)となります。(0, 0, 0)は黒を、(255, 255, 255)は白を表します。<br>\n",
    "<br>\n",
    "カラー画像は各ピクセルに3色の全ての情報を保存しなければならないので非常にサイズが大きくなります。モノクロ画像は1色分の明るさ(0から255)のみを保存すれば良いのでカラー画像に比べてデータ量は3分の1ですみます。<br>\n",
    "後に扱うOpenCVで、1つのピクセルを表すための色要素の数を **チャンネル数** と呼びます。例えばRGBの画像はチャンネル数が3、モノクロ画像はチャンネル数が1です"
   ]
  },
  {
   "cell_type": "markdown",
   "metadata": {},
   "source": [
    "#### 問題"
   ]
  },
  {
   "cell_type": "markdown",
   "metadata": {
    "id": "question"
   },
   "source": [
    "- RGBデータではある色の明るさについての情報が与えられます。どの色の情報が与えられるか答えてください。"
   ]
  },
  {
   "cell_type": "markdown",
   "metadata": {
    "id": "choices"
   },
   "source": [
    "1. 赤 \n",
    "1. 緑\n",
    "1. 青\n",
    "1. 上記のすべて"
   ]
  },
  {
   "cell_type": "markdown",
   "metadata": {},
   "source": [
    "#### ヒント"
   ]
  },
  {
   "cell_type": "markdown",
   "metadata": {
    "id": "hint"
   },
   "source": [
    "- RGBが何を意味しているのかを考えてみてください。"
   ]
  },
  {
   "cell_type": "markdown",
   "metadata": {},
   "source": [
    "#### 解答"
   ]
  },
  {
   "cell_type": "markdown",
   "metadata": {
    "id": "answer"
   },
   "source": [
    "上記のすべて"
   ]
  },
  {
   "cell_type": "markdown",
   "metadata": {},
   "source": [
    "***"
   ]
  },
  {
   "cell_type": "markdown",
   "metadata": {
    "courseId": 4050,
    "exerciseId": "Hy9wKnIoLgG",
    "id": "quiz_session_name",
    "important": false,
    "isDL": false,
    "timeoutSecs": 5
   },
   "source": [
    "### 3.1.2 画像データのフォーマット"
   ]
  },
  {
   "cell_type": "markdown",
   "metadata": {
    "id": "description"
   },
   "source": [
    "画像にはいくつかの種類があります。代表的なものを以下に紹介します。\n",
    "\n",
    "<img src=\"https://aidemyexstorage.blob.core.windows.net/aidemycontents/152974608457650.png\">\n",
    "\n",
    "既に説明した通り、画像は点の集合であり、それぞれの点がRed, Green, Blueの色情報を持っているので、そのままでは非常にサイズが大きくなってしまいます。上の表の右端のBMPは無圧縮、つまり色の情報をそのまま保持します。そのため赤一色の画像（つまり緑と青の分の色情報は使っていない）であっても緑と青の色情報を保存する領域を確保するため、サイズが非常に大きくなります。\n",
    "BMP以外は色情報を効率的に圧縮する工夫をしています。JPGは写真を扱う事が得意で元の写真を大きく圧縮できますが、圧縮後の写真を元の写真に戻せなくなってしまう特徴があります。（非可逆圧縮と言います）。それに対してPNGは写真の圧縮率はJPGに劣るものの、可逆圧縮であり、圧縮した画像を元のクオリティに完全に戻す事もできます。GIFは古いフォーマットなので色数や圧縮率では劣りますが、簡単なアニメーションを表現する事ができます。"
   ]
  },
  {
   "cell_type": "markdown",
   "metadata": {},
   "source": [
    "#### 問題"
   ]
  },
  {
   "cell_type": "markdown",
   "metadata": {
    "id": "question"
   },
   "source": [
    "- アニメーションの表現に適している画像フォーマットを選択してください。"
   ]
  },
  {
   "cell_type": "markdown",
   "metadata": {
    "id": "choices"
   },
   "source": [
    "1. PNG \n",
    "1. JPG\n",
    "1. BMP\n",
    "1. GIF"
   ]
  },
  {
   "cell_type": "markdown",
   "metadata": {},
   "source": [
    "#### ヒント"
   ]
  },
  {
   "cell_type": "markdown",
   "metadata": {
    "id": "hint"
   },
   "source": [
    "- 表現できる色は少ないです。"
   ]
  },
  {
   "cell_type": "markdown",
   "metadata": {},
   "source": [
    "#### 解答"
   ]
  },
  {
   "cell_type": "markdown",
   "metadata": {
    "id": "answer"
   },
   "source": [
    "GIF"
   ]
  },
  {
   "cell_type": "markdown",
   "metadata": {},
   "source": [
    "***"
   ]
  },
  {
   "cell_type": "markdown",
   "metadata": {
    "courseId": 4050,
    "exerciseId": "SkiDt38oLgG",
    "id": "quiz_session_name",
    "important": false,
    "isDL": false,
    "timeoutSecs": 5
   },
   "source": [
    "### 3.1.3 透過データ"
   ]
  },
  {
   "cell_type": "markdown",
   "metadata": {
    "id": "description"
   },
   "source": [
    "画像の背景を透明にすることを透過といいます。透過させる方法は、ソフトを使ったり、画像の作成段階で透過させたりといろいろあります。後に紹介するOpenCVでも可能ですが、今回は扱いません。<br>\n",
    "非透過PNG\n",
    "<img src=\"https://aidemyexstorage.blob.core.windows.net/aidemycontents/1529748720992822.png\" alt=\"非透過\">\n",
    "<br>\n",
    "<br>\n",
    "透過PNG\n",
    "<img src=\"https://aidemyexstorage.blob.core.windows.net/aidemycontents/1529750614672625.png\" alt=\"透過\">\n",
    "<br>\n",
    "透過処理は表示するプログラムがどのように色を扱うかにもよります。例えば、BMPは画像としては透過処理をサポートしていませんが、BMPで作られているアイコン画像は透過しているように見える時があります。これはアイコンを表示するプログラムが特定の位置の色を透過色として扱っているためです。画像として透過をサポートしているのはGIFとPNGです。"
   ]
  },
  {
   "cell_type": "markdown",
   "metadata": {},
   "source": [
    "#### 問題"
   ]
  },
  {
   "cell_type": "markdown",
   "metadata": {
    "id": "question"
   },
   "source": [
    "- 透過処理がサポートされていない画像フォーマットを選択してください。"
   ]
  },
  {
   "cell_type": "markdown",
   "metadata": {
    "id": "choices"
   },
   "source": [
    "1. JPG\n",
    "1. GIF\n",
    "1. PNG\n",
    "1. 上記の全て"
   ]
  },
  {
   "cell_type": "markdown",
   "metadata": {},
   "source": [
    "#### ヒント"
   ]
  },
  {
   "cell_type": "markdown",
   "metadata": {
    "id": "hint"
   },
   "source": [
    "- 比較的容量が小さいものです。"
   ]
  },
  {
   "cell_type": "markdown",
   "metadata": {},
   "source": [
    "#### 解答"
   ]
  },
  {
   "cell_type": "markdown",
   "metadata": {
    "id": "answer"
   },
   "source": [
    "JPG"
   ]
  },
  {
   "cell_type": "markdown",
   "metadata": {},
   "source": [
    "***"
   ]
  },
  {
   "cell_type": "markdown",
   "metadata": {
    "id": "section_name",
    "sectionId": "BJDZ_RQZe-M"
   },
   "source": [
    "## 3.2 OpenCVの基礎"
   ]
  },
  {
   "cell_type": "markdown",
   "metadata": {
    "courseId": 4050,
    "exerciseId": "HJ3PY2Us8xM",
    "id": "code_session_name",
    "important": true,
    "isDL": false,
    "timeoutSecs": 5
   },
   "source": [
    "### 3.2.1 画像の読み込み・表示"
   ]
  },
  {
   "cell_type": "markdown",
   "metadata": {
    "id": "description"
   },
   "source": [
    "OpenCVは、画像を扱うのに便利なライブラリです。まずは画像を読み込んで、出力してみます。\n",
    "```python\n",
    "# インポートです\n",
    "\n",
    "import numpy as np\n",
    "import cv2\n",
    "\n",
    "# 画像を読み込みます\n",
    "\n",
    "img = cv2.imread(\"cleansing_data/sample.jpg\")\n",
    "\n",
    "# sampleはウィンドウの名前です\n",
    "\n",
    "cv2.imshow(\"sample\", img)\n",
    "```"
   ]
  },
  {
   "cell_type": "markdown",
   "metadata": {},
   "source": [
    "#### 問題"
   ]
  },
  {
   "cell_type": "markdown",
   "metadata": {
    "id": "question"
   },
   "source": [
    "- cleansing_dataフォルダ内の画像sample.jpgを出力してください。\n",
    "- ウィンドウ名は\"sample\"としてください。"
   ]
  },
  {
   "cell_type": "code",
   "execution_count": null,
   "metadata": {
    "id": "index"
   },
   "outputs": [],
   "source": [
    "import numpy as np\n",
    "import cv2\n",
    "\n",
    "# ここに解答を書いてください\n"
   ]
  },
  {
   "cell_type": "markdown",
   "metadata": {},
   "source": [
    "#### ヒント"
   ]
  },
  {
   "cell_type": "markdown",
   "metadata": {
    "id": "hint"
   },
   "source": [
    "- `cv2.imread(\"ファイル名\")`で画像を読み込むことができます。\n",
    "- `cv2.imshow(\"ウィンドウ名\", 画像データ)`で画像の出力ができます。"
   ]
  },
  {
   "cell_type": "markdown",
   "metadata": {},
   "source": [
    "#### 解答例"
   ]
  },
  {
   "cell_type": "code",
   "execution_count": null,
   "metadata": {
    "config": [
     "tutor"
    ],
    "id": "answer",
    "scrolled": true
   },
   "outputs": [],
   "source": [
    "import numpy as np\n",
    "import cv2\n",
    "import matplotlib.pyplot as plt\n",
    "%matplotlib inline\n",
    "\n",
    "# OpenCVを用いて画像を読み込んでください\n",
    "img = cv2.imread(\"cleansing_data/sample.jpg\")\n",
    "\n",
    "# 画像を出力してください\n",
    "cv2.imshow(\"sample\", img)"
   ]
  },
  {
   "cell_type": "markdown",
   "metadata": {},
   "source": [
    "***"
   ]
  },
  {
   "cell_type": "markdown",
   "metadata": {
    "courseId": 4050,
    "exerciseId": "rk6vt2LsUgG",
    "id": "code_session_name",
    "important": true,
    "isDL": false,
    "timeoutSecs": 5
   },
   "source": [
    "### 3.2.2 画像の作成・保存"
   ]
  },
  {
   "cell_type": "markdown",
   "metadata": {
    "id": "description"
   },
   "source": [
    "次は自分で画像を作ってみます。cv2で画像を処理するさいはRGBの順番ではなく、BGRの順番になることに注意しましょう。 <br>\n",
    "画像は `[B, G, R]` の値を指定して作ります。今回は赤色の画像を作成します。 <br>\n",
    "```python\n",
    "import numpy as np\n",
    "import cv2\n",
    "\n",
    "# 画像のサイズを決めます。\n",
    "\n",
    "img_size = (512, 512)\n",
    "\n",
    "# 画像の情報を持つ行列を作ります\n",
    "# 今回は赤い画像なので、各要素が[0, 0, 255]の512 * 512の行列を作ることを考えます\n",
    "# 行列が転置されることに注意しましょう\n",
    "# 画像データの各要素は、0~255の値しかとりません。このことを明示するためにdtypeオプションでデータの型を定めます。\n",
    "\n",
    "my_img = np.array([[[0, 0, 255] for _ in range(img_size[1])] for _ in range(img_size[0])], dtype=\"uint8\")\n",
    "\n",
    "# 表示\n",
    "\n",
    "cv2.imshow(\"sample\", my_img)\n",
    "\n",
    "# 保存\n",
    "# ファイル名はmy_img.jpg\n",
    "\n",
    "cv2.imwrite(\"my_red_img.jpg\", my_img)\n",
    "```\n",
    "\n",
    "「`for _ in range`」の \\_ は、for文で繰り返す際に、\\_ にあたる変数をfor文の中で使わない場合に使用します。1つめのforで横に512枚の画像、2つめのforでさらに縦に512枚の画像を作成する多重ループになっています。"
   ]
  },
  {
   "cell_type": "markdown",
   "metadata": {},
   "source": [
    "#### 問題"
   ]
  },
  {
   "cell_type": "markdown",
   "metadata": {
    "id": "question"
   },
   "source": [
    "- サイズが512 $\\times$ 512の緑色の画像を作り、表示してください。\n",
    "- 画像の出力はcv2.imshow()を用いてください。"
   ]
  },
  {
   "cell_type": "code",
   "execution_count": null,
   "metadata": {
    "id": "index"
   },
   "outputs": [],
   "source": [
    "import numpy as np\n",
    "import cv2\n",
    "\n",
    "# 画像のサイズを決める\n",
    "\n",
    "img_size = (512, 512)\n",
    "\n",
    "# サイズが512 × 512の緑色の画像を作ってください\n",
    "\n",
    "\n"
   ]
  },
  {
   "cell_type": "markdown",
   "metadata": {},
   "source": [
    "#### ヒント"
   ]
  },
  {
   "cell_type": "markdown",
   "metadata": {
    "id": "hint"
   },
   "source": [
    "- 各要素が`[0, 255, 0]`の、512 $\\times$ 512のnp.arrayを作ってください。"
   ]
  },
  {
   "cell_type": "markdown",
   "metadata": {},
   "source": [
    "#### 解答例"
   ]
  },
  {
   "cell_type": "code",
   "execution_count": null,
   "metadata": {
    "id": "answer"
   },
   "outputs": [],
   "source": [
    "import numpy as np\n",
    "import cv2\n",
    "\n",
    "# 画像のサイズを決める\n",
    "\n",
    "img_size = (512, 512)\n",
    "\n",
    "# サイズが512 × 512の緑色の画像を作ってください\n",
    "\n",
    "img = np.array([[[0, 255, 0] for _ in range(img_size[1])] for _ in range(img_size[0])], dtype=\"uint8\")\n",
    "\n",
    "cv2.imshow(\"sample\", img)"
   ]
  },
  {
   "cell_type": "markdown",
   "metadata": {},
   "source": [
    "***"
   ]
  },
  {
   "cell_type": "markdown",
   "metadata": {
    "courseId": 4050,
    "exerciseId": "HyCPt28o8lz",
    "id": "code_session_name",
    "important": true,
    "isDL": false,
    "timeoutSecs": 5
   },
   "source": [
    "### 3.2.3 トリミングとリサイズ"
   ]
  },
  {
   "cell_type": "markdown",
   "metadata": {
    "id": "description"
   },
   "source": [
    "続いて、画像をトリミングとリサイズをします。トリミングとは、画像の一部を取り出す操作のことです。リサイズとは、画像のサイズを変える(拡大、縮小)することです。\n",
    "\n",
    "```python\n",
    "import numpy as np\n",
    "import cv2\n",
    "\n",
    "img = cv2.imread(\"cleansing_data/sample.jpg\")\n",
    "size = img.shape\n",
    "\n",
    "# 画像を表す行列の一部を取り出してくれば、それがトリミングとなります\n",
    "# n等分したい時はサイズの商を取りますが、小数点切り下げをしましょう\n",
    "\n",
    "my_img = img[: size[0] // 2, : size[1] // 3]\n",
    "\n",
    "# 今回はもとの倍率を保ったまま幅と高さをそれぞれ2倍します。新たにサイズを指定する際、(幅、高さ)の順になることに注意してください\n",
    "\n",
    "my_img = cv2.resize(my_img, (my_img.shape[1] * 2, my_img.shape[0] * 2))\n",
    "\n",
    "cv2.imshow(\"sample\", my_img)\n",
    "```\n",
    "***\n",
    "リサイズの応用として、画像を縮小して画素数を落としてから元のサイズに戻すことで画像にモザイクをかけることができます。"
   ]
  },
  {
   "cell_type": "markdown",
   "metadata": {},
   "source": [
    "#### 問題"
   ]
  },
  {
   "cell_type": "markdown",
   "metadata": {
    "id": "question"
   },
   "source": [
    "- sample.jpgの幅、高さをそれぞれ1/3にリサイズしてください。"
   ]
  },
  {
   "cell_type": "code",
   "execution_count": null,
   "metadata": {
    "id": "index"
   },
   "outputs": [],
   "source": [
    "import numpy as np\n",
    "import cv2\n",
    "\n",
    "img = cv2.imread(\"cleansing_data/sample.jpg\")\n",
    "\n",
    "# ここに解答を書いてください\n",
    "\n",
    "\n",
    "\n",
    "cv2.imshow(\"sample\", my_img)\n"
   ]
  },
  {
   "cell_type": "markdown",
   "metadata": {},
   "source": [
    "#### ヒント"
   ]
  },
  {
   "cell_type": "markdown",
   "metadata": {
    "id": "hint"
   },
   "source": [
    "- `cv2.resize()` を使ってください。"
   ]
  },
  {
   "cell_type": "markdown",
   "metadata": {},
   "source": [
    "#### 解答例"
   ]
  },
  {
   "cell_type": "code",
   "execution_count": null,
   "metadata": {
    "id": "answer"
   },
   "outputs": [],
   "source": [
    "import numpy as np\n",
    "import cv2\n",
    "\n",
    "img = cv2.imread(\"cleansing_data/sample.jpg\")\n",
    "\n",
    "# ここに解答を書いてください\n",
    "\n",
    "my_img = cv2.resize(img, (img.shape[1] // 3, img.shape[0] // 3))\n",
    "\n",
    "cv2.imshow(\"sample\", my_img)\n"
   ]
  },
  {
   "cell_type": "markdown",
   "metadata": {},
   "source": [
    "***"
   ]
  },
  {
   "cell_type": "markdown",
   "metadata": {
    "courseId": 4050,
    "exerciseId": "ryJuKn8sUeG",
    "id": "code_session_name",
    "important": true,
    "isDL": false,
    "timeoutSecs": 5
   },
   "source": [
    "### 3.2.4 回転・反転"
   ]
  },
  {
   "cell_type": "markdown",
   "metadata": {
    "id": "description"
   },
   "source": [
    "回転するときは`cv2.warpAffine()`を使います。この関数ではアフィン変換という変換を行っています。その際に必要となる行列は`cv2.getRotationMatrix2D`で入手することができます。<br>\n",
    "また、反転はcv2.flip(画像, 対象とする軸)を用いることで可能です。\n",
    "```python\n",
    "import numpy as np\n",
    "import cv2\n",
    "\n",
    "img = cv2.imread(\"cleansing_data/sample.jpg\")\n",
    "\n",
    "# warpAffine()を用いるのに必要な行列をつくります\n",
    "# 第一引数が回転の中心(今回は画像の中心)です\n",
    "# 第二引数は回転角度(今回は180度)です\n",
    "# 第三引数は倍率(今回は2倍に拡大)です\n",
    "\n",
    "mat = cv2.getRotationMatrix2D(tuple(np.array([img.shape[1], img.shape[0]]) / 2), 180, 2.0)\n",
    "\n",
    "# アフィン変換をします\n",
    "# 第一引数が変換したい画像です\n",
    "# 第二引数が上で生成した行列(mat)です\n",
    "# 第三引数がサイズです\n",
    "\n",
    "my_img = cv2.warpAffine(img, mat, img.shape[:2])\n",
    "\n",
    "cv2.imshow(\"sample\", my_img)\n",
    "```"
   ]
  },
  {
   "cell_type": "markdown",
   "metadata": {},
   "source": [
    "#### 問題"
   ]
  },
  {
   "cell_type": "markdown",
   "metadata": {
    "id": "question"
   },
   "source": [
    "- `cv2.flip()`をもちいて画像をx軸中心に反転させてください。 "
   ]
  },
  {
   "cell_type": "code",
   "execution_count": null,
   "metadata": {
    "id": "index"
   },
   "outputs": [],
   "source": [
    "import numpy as np\n",
    "import cv2\n",
    "\n",
    "img = cv2.imread(\"cleansing_data/sample.jpg\")\n",
    "\n",
    "# ここに解答を書いてください\n",
    "\n",
    "\n",
    "\n",
    "cv2.imshow(\"sample\", my_img)"
   ]
  },
  {
   "cell_type": "markdown",
   "metadata": {},
   "source": [
    "#### ヒント"
   ]
  },
  {
   "cell_type": "markdown",
   "metadata": {
    "id": "hint"
   },
   "source": [
    "- `cv2.flip()`は引数が0のときx軸中心に、正のときy軸中心に、負のとき両方の軸を中心に反転します。"
   ]
  },
  {
   "cell_type": "markdown",
   "metadata": {},
   "source": [
    "#### 解答例"
   ]
  },
  {
   "cell_type": "code",
   "execution_count": null,
   "metadata": {
    "id": "answer"
   },
   "outputs": [],
   "source": [
    "import numpy as np\n",
    "import cv2\n",
    "\n",
    "img = cv2.imread(\"cleansing_data/sample.jpg\")\n",
    "\n",
    "# ここに解答を書いてください\n",
    "\n",
    "my_img = cv2.flip(img, 0)\n",
    "\n",
    "cv2.imshow(\"sample\", my_img)"
   ]
  },
  {
   "cell_type": "markdown",
   "metadata": {},
   "source": [
    "***"
   ]
  },
  {
   "cell_type": "markdown",
   "metadata": {
    "courseId": 4050,
    "exerciseId": "SJg_K3UsIgf",
    "id": "code_session_name",
    "important": true,
    "isDL": false,
    "timeoutSecs": 15
   },
   "source": [
    "### 3.2.5 色調変換・色反転"
   ]
  },
  {
   "cell_type": "markdown",
   "metadata": {
    "id": "description"
   },
   "source": [
    "画像はRGBで構成されていると説明しました。このRGBを別のものにします。今回はLab色空間というものに変換します。Lab色空間は、人間の視覚に近似するよう設計されている点で優れています。\n",
    "```python\n",
    "import numpy as np\n",
    "import cv2\n",
    "\n",
    "img = cv2.imread(\"cleansing_data/sample.jpg\")\n",
    "\n",
    "# 色空間の変換\n",
    "\n",
    "my_img = cv2.cvtColor(img, cv2.COLOR_RGB2LAB)\n",
    "\n",
    "cv2.imshow(\"sample\", my_img)\n",
    "```\n",
    "\n",
    "`cv2.cvtColor` の第二引数をCOLOR_RGB2GRAYにすることで、モノクロ画像に変換することもできます。\n",
    "***\n",
    "また、画像の色を反転させることをネガポジ反転といいます。opencvでネガポジ反転を行う際は\n",
    "```python\n",
    "img = cv2.bitwise_not(img)\n",
    "```\n",
    "とします。`cv2.bitwise` 関数は8bitで表現されている各画素のビットを操作することが出来ます。`not` は各ビットを反転させます。"
   ]
  },
  {
   "cell_type": "markdown",
   "metadata": {},
   "source": [
    "#### 問題"
   ]
  },
  {
   "cell_type": "markdown",
   "metadata": {
    "id": "question"
   },
   "source": [
    "- sample.jpgの色を反転してください。\n",
    "- bitwise_notの仕組みを理解するために、for文を用いて自力でbitwise_notと同じ処理を実装してみましょう。"
   ]
  },
  {
   "cell_type": "code",
   "execution_count": null,
   "metadata": {
    "id": "index"
   },
   "outputs": [],
   "source": [
    "import numpy as np\n",
    "import cv2\n",
    "\n",
    "img = cv2.imread(\"cleansing_data/sample.jpg\")\n",
    "\n",
    "# ここに解答を書いてください\n",
    "\n",
    "\n",
    "\n",
    "cv2.imshow(\"sample\", img)"
   ]
  },
  {
   "cell_type": "markdown",
   "metadata": {},
   "source": [
    "#### ヒント"
   ]
  },
  {
   "cell_type": "markdown",
   "metadata": {
    "id": "hint"
   },
   "source": [
    "- RGBの値は0~255で構成されているので、ある値xを255-xに置き換えることで変換できます。\n",
    "- OpenCVで読み込まれた画像データは3次元のnumpy配列となっており、\n",
    "```python\n",
    "img[i][j][k]=x\n",
    "```\n",
    "のようにすると、(i, j)座標の、kが指定するRGBいずれかの値をxに書き換えることができます。  \n",
    "- for文と、`len(img[i])`のように長さを取得する`len`関数を利用してそれぞれの画素に順番にアクセスし、それぞれの画素値を指定しましょう。"
   ]
  },
  {
   "cell_type": "markdown",
   "metadata": {},
   "source": [
    "#### 解答例"
   ]
  },
  {
   "cell_type": "code",
   "execution_count": null,
   "metadata": {
    "id": "answer"
   },
   "outputs": [],
   "source": [
    "import numpy as np\n",
    "import cv2\n",
    "\n",
    "img = cv2.imread(\"cleansing_data/sample.jpg\")\n",
    "\n",
    "# ここに解答を書いてください\n",
    "\n",
    "for i in range(len(img)):\n",
    "    for j in range(len(img[i])):\n",
    "        for k in range(len(img[i][j])):\n",
    "            img[i][j][k] = 255 - img[i][j][k]\n",
    "\n",
    "cv2.imshow(\"sample\", img)"
   ]
  },
  {
   "cell_type": "markdown",
   "metadata": {},
   "source": [
    "***"
   ]
  },
  {
   "cell_type": "markdown",
   "metadata": {
    "id": "section_name",
    "sectionId": "rkubu0X-e-f"
   },
   "source": [
    "## 3.3 openCVの利用"
   ]
  },
  {
   "cell_type": "markdown",
   "metadata": {
    "courseId": 4050,
    "exerciseId": "HkbOY2Io8xf",
    "id": "code_session_name",
    "important": true,
    "isDL": false,
    "timeoutSecs": 5
   },
   "source": [
    "### 3.3.1 閾値処理(二値化)"
   ]
  },
  {
   "cell_type": "markdown",
   "metadata": {
    "id": "description"
   },
   "source": [
    "画像の容量を小さくするために、一定以上明るいもの、あるいは一定以上暗いものを全て同じ値にしてしまうことを閾値（しきいち）処理といいます。`cv2.threshold()`を使うことで実現可能です。\n",
    "引数を用いることで様々な閾値処理を行うことが出来ます。\n",
    "```python\n",
    "import numpy as np\n",
    "import cv2\n",
    "\n",
    "img = cv2.imread(\"cleansing_data/sample.jpg\")\n",
    "\n",
    "# 第一引数が処理する画像です\n",
    "# 第二引数が閾値です\n",
    "# 第三引数が最大値(maxvalueとする)です\n",
    "# 第四引数はTHRESH_BINARY, THRESH_BINARY_INV, THRESH_TOZERO, THRESH_TRUNC, THRESH_TOZERO_INVのいずれかとなります。解説は以下の通りです\n",
    "\n",
    "#THRESH_BINARY　  ：  閾値を超えるピクセルは maxValue に，それ以外のピクセルは 0 になります\n",
    "#THRESH_BINARY_INV：　閾値を超えるピクセルは 0 に，それ以外のピクセルは maxValue になります\n",
    "#THRESH_TRUNC　   ：　閾値を超えるピクセルは 閾値 に，それ以外のピクセルは変更されません\n",
    "#THRESH_TOZERO　  ：　閾値を超えるピクセルは変更されず，それ以外のピクセルは 0 になります\n",
    "#THRESH_TOZERO_INV：　閾値を超えるピクセルは 0 に，それ以外のピクセルは変更されません\n",
    "\n",
    "# 今回は閾値を75,最大値を255(今回は使用されない)にして、THRESH_TOZEROを使う\n",
    "# 閾値も返されるのでretvalで受け取ります\n",
    "\n",
    "retval, my_img = cv2.threshold(img, 75, 255, cv2.THRESH_TOZERO)\n",
    "\n",
    "cv2.imshow(\"sample\", my_img)\n",
    "```"
   ]
  },
  {
   "cell_type": "markdown",
   "metadata": {},
   "source": [
    "#### 問題"
   ]
  },
  {
   "cell_type": "markdown",
   "metadata": {
    "id": "question"
   },
   "source": [
    "- 閾値を100にし、それ以下を0, それ以上を255にしてください。"
   ]
  },
  {
   "cell_type": "code",
   "execution_count": null,
   "metadata": {
    "id": "index"
   },
   "outputs": [],
   "source": [
    "import numpy as np\n",
    "import cv2\n",
    "\n",
    "img = cv2.imread(\"cleansing_data/sample.jpg\")\n",
    "\n",
    "# ここに解答を書いてください\n",
    "\n",
    "\n"
   ]
  },
  {
   "cell_type": "markdown",
   "metadata": {},
   "source": [
    "#### ヒント"
   ]
  },
  {
   "cell_type": "markdown",
   "metadata": {
    "id": "hint"
   },
   "source": [
    "- `THRESH_BINARY` を用います。\n",
    "- `THRESH_BINARY`を用いると閾値より大きい値はmaxvalueに、そうでないものは0になります。"
   ]
  },
  {
   "cell_type": "markdown",
   "metadata": {},
   "source": [
    "#### 解答"
   ]
  },
  {
   "cell_type": "code",
   "execution_count": null,
   "metadata": {
    "id": "answer"
   },
   "outputs": [],
   "source": [
    "import numpy as np\n",
    "import cv2\n",
    " \n",
    "img = cv2.imread(\"cleansing_data/sample.jpg\")\n",
    "\n",
    "# ここに解答を書いてください\n",
    "\n",
    "retval, my_img = cv2.threshold(img, 100, 255, cv2.THRESH_BINARY)\n",
    "\n",
    "cv2.imshow(\"sample\", my_img)"
   ]
  },
  {
   "cell_type": "markdown",
   "metadata": {},
   "source": [
    "***"
   ]
  },
  {
   "cell_type": "markdown",
   "metadata": {
    "courseId": 4050,
    "exerciseId": "SJMdt2LjLxG",
    "id": "code_session_name",
    "important": false,
    "isDL": false,
    "timeoutSecs": 5
   },
   "source": [
    "### 3.3.2 マスキング"
   ]
  },
  {
   "cell_type": "markdown",
   "metadata": {
    "id": "description"
   },
   "source": [
    "画像の一部分のみをとりだします。白黒で、チャンネル数が1の画像を用意します。これをマスク用の画像と呼ぶことにします。ある画像の、マスク用画像の白い部分と同じ部分だけ抽出することができます。\n",
    "```python\n",
    "import numpy as np\n",
    "import cv2\n",
    "\n",
    "img = cv2.imread(\"cleansing_data/sample.jpg\")\n",
    "\n",
    "# 第二引数に0を指定すると、チャンネル数が1の画像に変換して読み込みます\n",
    "\n",
    "mask = cv2.imread(\"cleansing_data/mask.png\", 0)\n",
    "\n",
    "# 元の画像と同じサイズにします\n",
    "\n",
    "mask = cv2.resize(mask, (img.shape[1], img.shape[0]))\n",
    "\n",
    "# 第三引数でマスク用の画像を選びます\n",
    "\n",
    "my_img = cv2.bitwise_and(img, img, mask = mask)\n",
    "\n",
    "cv2.imshow(\"sample\", my_img)\n",
    "```\n",
    "***\n",
    "今回使うマスク画像は以下のようなものです。\n",
    "\n",
    "<img src=\"https://aidemyexcontentspic.blob.core.windows.net/contents-pic/4050_data_cleansing/cleansing_chap3_20.png\" width=\"100px\">"
   ]
  },
  {
   "cell_type": "markdown",
   "metadata": {},
   "source": [
    "#### 問題"
   ]
  },
  {
   "cell_type": "markdown",
   "metadata": {
    "id": "question"
   },
   "source": [
    "- sample.jpgの、mask.pngの黒い部分だけ取り出すようにしてください 。"
   ]
  },
  {
   "cell_type": "code",
   "execution_count": null,
   "metadata": {
    "id": "index"
   },
   "outputs": [],
   "source": [
    "import numpy as np\n",
    "import cv2\n",
    "\n",
    "img = cv2.imread(\"cleansing_data/sample.jpg\")\n",
    "\n",
    "mask = cv2.imread(\"cleansing_data/mask.png\", 0)\n",
    "\n",
    "mask = cv2.resize(mask, (img.shape[1], img.shape[0]))\n",
    "\n",
    "# ここに解答を書いてください\n",
    "\n",
    "retval, mask = \n",
    "\n",
    "my_img = \n",
    "\n",
    "cv2.imshow(\"sample\", my_img)"
   ]
  },
  {
   "cell_type": "markdown",
   "metadata": {},
   "source": [
    "#### ヒント"
   ]
  },
  {
   "cell_type": "markdown",
   "metadata": {
    "id": "hint"
   },
   "source": [
    "- `cv2.threshold()`で画像を反転してください。\n",
    "- `bitwise_and` を用いてマスク処理をしてください。"
   ]
  },
  {
   "cell_type": "markdown",
   "metadata": {},
   "source": [
    "#### 解答例"
   ]
  },
  {
   "cell_type": "code",
   "execution_count": null,
   "metadata": {
    "id": "answer"
   },
   "outputs": [],
   "source": [
    "import numpy as np\n",
    "import cv2\n",
    "\n",
    "img = cv2.imread(\"cleansing_data/sample.jpg\")\n",
    "\n",
    "mask = cv2.imread(\"cleansing_data/mask.png\", 0)\n",
    "\n",
    "mask = cv2.resize(mask, (img.shape[1], img.shape[0]))\n",
    "\n",
    "# ここに解答を書いてください\n",
    "\n",
    "retval, mask = cv2.threshold(mask, 0, 255, cv2.THRESH_BINARY_INV)\n",
    "\n",
    "my_img = cv2.bitwise_and(img, img, mask = mask)\n",
    "\n",
    "cv2.imshow(\"sample\", my_img)\n"
   ]
  },
  {
   "cell_type": "markdown",
   "metadata": {},
   "source": [
    "***"
   ]
  },
  {
   "cell_type": "markdown",
   "metadata": {
    "courseId": 4050,
    "exerciseId": "rkQOtnUs8lf",
    "id": "code_session_name",
    "important": false,
    "isDL": false,
    "timeoutSecs": 5
   },
   "source": [
    "### 3.3.3 ぼかし"
   ]
  },
  {
   "cell_type": "markdown",
   "metadata": {
    "id": "description"
   },
   "source": [
    "画像をぼかすために、あるピクセルの周りのn✕n個のピクセルとの平均を取ります。ぼかしの関数は `GaussianBlur` を用います。\n",
    "```python\n",
    "import numpy as np\n",
    "import cv2\n",
    "\n",
    "img = cv2.imread(\"cleansing_data/sample.jpg\")\n",
    "\n",
    "# 第一引数は元の画像です\n",
    "# 第二引数はn✕nのnの値を指定します(nは奇数)\n",
    "# 第三引数はx軸方向の偏差(通常は0でよい)です\n",
    "\n",
    "my_img = cv2.GaussianBlur(img, (5, 5), 0)\n",
    "\n",
    "cv2.imshow(\"sample\", my_img)\n",
    "```"
   ]
  },
  {
   "cell_type": "markdown",
   "metadata": {},
   "source": [
    "#### 問題"
   ]
  },
  {
   "cell_type": "markdown",
   "metadata": {
    "id": "question"
   },
   "source": [
    "- 画像にぼかしを施してください。"
   ]
  },
  {
   "cell_type": "code",
   "execution_count": null,
   "metadata": {
    "id": "index"
   },
   "outputs": [],
   "source": [
    "import numpy as np\n",
    "import cv2\n",
    "\n",
    "img = cv2.imread(\"cleansing_data/sample.jpg\")\n",
    "\n",
    "# ここに解答を書いてください\n",
    " \n",
    "\n",
    "\n",
    "cv2.imshow(\"sample\", my_img)\n"
   ]
  },
  {
   "cell_type": "markdown",
   "metadata": {},
   "source": [
    "#### ヒント"
   ]
  },
  {
   "cell_type": "markdown",
   "metadata": {
    "id": "hint"
   },
   "source": [
    "- `GaussianBlur` を用いましょう。"
   ]
  },
  {
   "cell_type": "markdown",
   "metadata": {},
   "source": [
    "#### 解答例"
   ]
  },
  {
   "cell_type": "code",
   "execution_count": null,
   "metadata": {
    "id": "answer"
   },
   "outputs": [],
   "source": [
    "import numpy as np\n",
    "import cv2\n",
    "\n",
    "img = cv2.imread(\"cleansing_data/sample.jpg\")\n",
    "\n",
    "# ここに解答を書いてください\n",
    "\n",
    "my_img = cv2.GaussianBlur(img, (21, 21), 0)\n",
    "\n",
    "cv2.imshow(\"sample\", my_img)\n"
   ]
  },
  {
   "cell_type": "markdown",
   "metadata": {},
   "source": [
    "***"
   ]
  },
  {
   "cell_type": "markdown",
   "metadata": {
    "courseId": 4050,
    "exerciseId": "r14dt38iLlz",
    "id": "quiz_session_name",
    "important": false,
    "isDL": false,
    "timeoutSecs": 5
   },
   "source": [
    "### 3.3.4 ノイズの除去"
   ]
  },
  {
   "cell_type": "markdown",
   "metadata": {
    "id": "description"
   },
   "source": [
    "ノイズの除去のためには<br>\n",
    "`cv2.fastNlMeansDenoisingColored()`を使います。\n",
    "```python\n",
    "\n",
    "import numpy as np\n",
    "import cv2\n",
    "\n",
    "img = cv2.imread(\"cleansing_data/sample.jpg\")\n",
    "\n",
    "my_img = cv2.fastNlMeansDenoisingColored(img)\n",
    "\n",
    "cv2.imshow(\"sample\", my_img)\n",
    "```"
   ]
  },
  {
   "cell_type": "markdown",
   "metadata": {},
   "source": [
    "#### 問題"
   ]
  },
  {
   "cell_type": "markdown",
   "metadata": {
    "id": "question"
   },
   "source": [
    "- 今回用いたノイズ処理のための関数の名前を答えてください"
   ]
  },
  {
   "cell_type": "markdown",
   "metadata": {
    "id": "choices"
   },
   "source": [
    "- `fastNlMeansNoisingColored`\n",
    "- `fastNlMeansDenoisingColored`\n",
    "- `fastNlMeansNoisingDeColored`\n",
    "- `fastNlMeansDenoisingDeColored`"
   ]
  },
  {
   "cell_type": "markdown",
   "metadata": {
    "id": "hint"
   },
   "source": [
    "- ノイズ処理はDenoisingです。"
   ]
  },
  {
   "cell_type": "markdown",
   "metadata": {},
   "source": [
    "#### 解答"
   ]
  },
  {
   "cell_type": "markdown",
   "metadata": {
    "collapsed": true,
    "id": "answer"
   },
   "source": [
    "- `fastNlMeansDenoisingColored`"
   ]
  },
  {
   "cell_type": "markdown",
   "metadata": {},
   "source": [
    "***"
   ]
  },
  {
   "cell_type": "markdown",
   "metadata": {
    "courseId": 4050,
    "exerciseId": "SJSdKhUiIgG",
    "id": "code_session_name",
    "important": false,
    "isDL": false,
    "timeoutSecs": 5
   },
   "source": [
    "### 3.3.5 膨張・収縮"
   ]
  },
  {
   "cell_type": "markdown",
   "metadata": {
    "id": "description"
   },
   "source": [
    "膨張と収縮は主に2値画像で行われます。あるピクセルを中心とし、フィルタ内の最大値をその中心の値にすることを膨張、逆に最小値をその中心の値にすることを収縮といいます。フィルタは、中心のピクセルの上下左右4つを用いる方法と、自身を囲む8つを用いる方法の2通りが主です。<br>\n",
    "膨張は`cv2.dilate()`<br>\n",
    "収縮は`cv2.erode()`<br>\n",
    "を使います\n",
    "```python\n",
    "import numpy as np\n",
    "import cv2\n",
    "\n",
    "img = cv2.imread(\"cleansing_data/sample.jpg\")\n",
    "\n",
    "# フィルタの定義\n",
    "\n",
    "filt = np.array([[0, 1, 0],\n",
    "                [1, 0, 1],\n",
    "                [0, 1, 0]], np.uint8)\n",
    "\n",
    "# 膨張\n",
    "\n",
    "my_img = cv2.dilate(img, filt)\n",
    "\n",
    "cv2.imshow(\"sample\", my_img)\n",
    "```\n",
    "\n",
    "np.uint8とはデータの型を表しています。uint8は8ビットで表された符号なしの整数を示します。"
   ]
  },
  {
   "cell_type": "markdown",
   "metadata": {},
   "source": [
    "#### 問題 "
   ]
  },
  {
   "cell_type": "markdown",
   "metadata": {
    "id": "question"
   },
   "source": [
    "- 説明で用いたものと同じフィルタで収縮してください。"
   ]
  },
  {
   "cell_type": "code",
   "execution_count": null,
   "metadata": {
    "id": "index"
   },
   "outputs": [],
   "source": [
    "import numpy as np\n",
    "import cv2\n",
    "\n",
    "img = cv2.imread(\"cleansing_data/sample.jpg\")\n",
    "\n",
    "# ここに解答を書いてください\n",
    "\n",
    "\n",
    "\n",
    "cv2.imshow(\"sample\", my_img)\n",
    "\n",
    "# 比較のため元の写真を表示します。\n",
    "cv2.imshow(\"original\", img)"
   ]
  },
  {
   "cell_type": "markdown",
   "metadata": {},
   "source": [
    "#### ヒント"
   ]
  },
  {
   "cell_type": "markdown",
   "metadata": {
    "id": "hint"
   },
   "source": [
    "- 収縮は`cv2.erode()`を用います。"
   ]
  },
  {
   "cell_type": "markdown",
   "metadata": {},
   "source": [
    "#### 解答例"
   ]
  },
  {
   "cell_type": "code",
   "execution_count": null,
   "metadata": {
    "id": "answer"
   },
   "outputs": [],
   "source": [
    "import numpy as np\n",
    "import cv2\n",
    "import matplotlib.pyplot as plt\n",
    "\n",
    "img = cv2.imread(\"cleansing_data/sample.jpg\")\n",
    "\n",
    "# ここに解答を書いてください\n",
    "\n",
    "filt = np.array([[0, 1, 0],\n",
    "                [1, 0, 1],\n",
    "                [0, 1, 0]], np.uint8)\n",
    "\n",
    "# 収縮\n",
    "\n",
    "my_img = cv2.erode(img, filt)\n",
    "\n",
    "cv2.imshow(\"sample\", my_img)\n",
    "# 比較のため元の写真を表示します。\n",
    "cv2.imshow(\"original\", img)"
   ]
  },
  {
   "cell_type": "markdown",
   "metadata": {},
   "source": [
    "***"
   ]
  }
 ],
 "metadata": {
  "celltoolbar": "Edit Metadata",
  "kernelspec": {
   "display_name": "Python 3",
   "language": "python",
   "name": "python3"
  },
  "language_info": {
   "codemirror_mode": {
    "name": "ipython",
    "version": 3
   },
   "file_extension": ".py",
   "mimetype": "text/x-python",
   "name": "python",
   "nbconvert_exporter": "python",
   "pygments_lexer": "ipython3",
   "version": "3.7.0"
  },
  "toc": {
   "base_numbering": 1,
   "nav_menu": {},
   "number_sections": true,
   "sideBar": true,
   "skip_h1_title": false,
   "title_cell": "Table of Contents",
   "title_sidebar": "Contents",
   "toc_cell": false,
   "toc_position": {
    "height": "calc(100% - 180px)",
    "left": "10px",
    "top": "150px",
    "width": "304.797px"
   },
   "toc_section_display": true,
   "toc_window_display": true
  },
  "varInspector": {
   "cols": {
    "lenName": 16,
    "lenType": 16,
    "lenVar": 40
   },
   "kernels_config": {
    "python": {
     "delete_cmd_postfix": "",
     "delete_cmd_prefix": "del ",
     "library": "var_list.py",
     "varRefreshCmd": "print(var_dic_list())"
    },
    "r": {
     "delete_cmd_postfix": ") ",
     "delete_cmd_prefix": "rm(",
     "library": "var_list.r",
     "varRefreshCmd": "cat(var_dic_list()) "
    }
   },
   "types_to_exclude": [
    "module",
    "function",
    "builtin_function_or_method",
    "instance",
    "_Feature"
   ],
   "window_display": false
  }
 },
 "nbformat": 4,
 "nbformat_minor": 2
}
