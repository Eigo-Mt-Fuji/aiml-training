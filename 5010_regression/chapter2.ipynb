{
 "cells": [
  {
   "cell_type": "markdown",
   "metadata": {
    "chapterId": "Hyn-OCmZgbf",
    "id": "chapter_name"
   },
   "source": [
    "#  教師あり学習（回帰）の応用"
   ]
  },
  {
   "cell_type": "markdown",
   "metadata": {
    "id": "table"
   },
   "source": [
    "- **[2.1 モデルの汎化](#2.1-モデルの汎化)**\n",
    "    - **[2.1.1 汎化とは](#2.1.1-汎化とは)**\n",
    "    - **[2.1.2 正則化](#2.1.2-正則化)**\n",
    "    - **[2.1.3 ラッソ回帰](#2.1.3-ラッソ回帰)**\n",
    "    - **[2.1.4 リッジ回帰](#2.1.4-リッジ回帰)**\n",
    "    - **[2.1.5 ElasticNet回帰](#2.1.5-ElasticNet回帰)**\n",
    "<br><br>\n",
    "- **[2.2 添削問題](#2.2-添削問題)**"
   ]
  },
  {
   "cell_type": "markdown",
   "metadata": {},
   "source": [
    "***"
   ]
  },
  {
   "cell_type": "markdown",
   "metadata": {
    "id": "section_name",
    "sectionId": "HJTWu07blWG"
   },
   "source": [
    "## 2.1 モデルの汎化"
   ]
  },
  {
   "cell_type": "markdown",
   "metadata": {
    "courseId": 5010,
    "exerciseId": "Hkq2Ui8lG",
    "id": "quiz_session_name",
    "important": true,
    "isDL": false,
    "timeoutSecs": 5
   },
   "source": [
    "### 2.1.1 汎化とは"
   ]
  },
  {
   "cell_type": "markdown",
   "metadata": {
    "id": "description"
   },
   "source": [
    "回帰分析の目的は、過去のデータからモデルを学習し、未知のデータを予測することです。  Chapter1では回帰分析を過去のデータを用いて値を予測するようにモデルを設定しました。\n",
    "\n",
    "しかし、過去のデータは株価変動や売り上げ変動などの事象を完全に説明しているわけではありません。  \n",
    "データの予測には幅が存在し、また入力するデータが同じでも実際の結果が変わってしまうということもあり得ます。\n",
    "\n",
    "**過去のデータを信頼しすぎることによってデータの予測に破綻** が生じる場合があります。  \n",
    "これを **<font color=#AA0000>過学習</font>** と呼び、予測精度が下がってしまう原因となります。\n",
    "\n",
    "過学習を防ぐために取られるアプローチが **<font color=#AA0000>汎化</font>** です。汎化を意識したモデルを作ることで、学習に使ったデータに適合しすぎず、一般的なケースに対応できるようになります。具体的な汎化手法は今後のセッションを見てみましょう。<img src=\"https://aidemyexstorage.blob.core.windows.net/aidemycontents/1534508850370590.png\" width=\"500px\">"
   ]
  },
  {
   "cell_type": "markdown",
   "metadata": {},
   "source": [
    "#### 問題"
   ]
  },
  {
   "cell_type": "markdown",
   "metadata": {
    "id": "question"
   },
   "source": [
    "- 以下の文章のうち汎化について正しいものを選んでください。"
   ]
  },
  {
   "cell_type": "markdown",
   "metadata": {
    "id": "choices"
   },
   "source": [
    "- モデルの予測精度を下げるために汎化が行われる。\n",
    "- 過去のデータに特化した予測が行えるようにすること。\n",
    "- モデルによるデータの推定を一般化すること。\n",
    "- モデルは複雑な方が関係性を説明できて良い。"
   ]
  },
  {
   "cell_type": "markdown",
   "metadata": {},
   "source": [
    "#### ヒント"
   ]
  },
  {
   "cell_type": "markdown",
   "metadata": {
    "id": "hint"
   },
   "source": [
    "- 汎化によってデータの関係性はよりシンプルになる傾向があります。"
   ]
  },
  {
   "cell_type": "markdown",
   "metadata": {},
   "source": [
    "#### 解答"
   ]
  },
  {
   "cell_type": "markdown",
   "metadata": {
    "id": "answer"
   },
   "source": [
    "モデルによるデータの推定を一般化すること。"
   ]
  },
  {
   "cell_type": "markdown",
   "metadata": {},
   "source": [
    "***"
   ]
  },
  {
   "cell_type": "markdown",
   "metadata": {
    "courseId": 5010,
    "exerciseId": "Bkl93IiUgz",
    "id": "quiz_session_name",
    "important": true,
    "isDL": false,
    "timeoutSecs": 5
   },
   "source": [
    "### 2.1.2 正則化"
   ]
  },
  {
   "cell_type": "markdown",
   "metadata": {
    "id": "description"
   },
   "source": [
    "線形回帰では、 **汎化手法として<font color=#AA0000>正則化</font>** が用いられます。\n",
    "正則化とは、回帰分析を行うモデルに対し、モデルが推定したデータ同士の関係性の複雑さに対してペナルティを加えることによってモデルが推定するデータ同士の関係性を一般化しようとするアプローチです。\n",
    "\n",
    "正則化には二種類存在し一つはL1正則化、もう一つはL2正則化です。\n",
    "\n",
    "**L1正則化** は予測に用いられるデータのうち、「予測したいデータに対する寄与が薄いデータ」や「他の予測に用いられるデータとの関係性が強いデータ」の正則化に向いており、これらを回帰分析の際に結果に対する寄与が小さくなるように係数を小さくする方法です。  **データとして余分な情報がたくさん存在するようなデータ** の回帰分析を行う際に重宝します。\n",
    "\n",
    "**L2正則化** は予測に用いるデータの範囲を算出し、データの範囲を揃えるようにデータに対する係数を小さくすることによって回帰分析のモデルの一般化を図ろうとする方法です。  データの範囲とは、データが取りうる数値の範囲のことで、揃える場合は大抵は0から1の範囲になるように調整されます。データの範囲を揃えることによって同じ尺度で全てのデータの予測に対する寄与が比較可能になり、 **滑らかなモデルを得やすい（汎化しやすい）** という特徴があります。"
   ]
  },
  {
   "cell_type": "markdown",
   "metadata": {},
   "source": [
    "#### 問題"
   ]
  },
  {
   "cell_type": "markdown",
   "metadata": {
    "id": "question"
   },
   "source": [
    "- 正則化について述べたもののうち正しいものを選んでください。"
   ]
  },
  {
   "cell_type": "markdown",
   "metadata": {
    "collapsed": true,
    "id": "choices"
   },
   "source": [
    "- 予測精度を上げるためにデータに対して行う処理のこと。\n",
    "- 予測に用いるデータの比重を下げること。\n",
    "- L1正則化は予測するデータとの関係性が高いものを削ってモデルの説明力を高めたものです。\n",
    "- L2正則化はデータの値の範囲を揃えるように係数を操作することで説明力を高めようとするアプローチです。"
   ]
  },
  {
   "cell_type": "markdown",
   "metadata": {},
   "source": [
    "#### ヒント"
   ]
  },
  {
   "cell_type": "markdown",
   "metadata": {
    "id": "hint"
   },
   "source": [
    "- L1正則化とL2正則化の違いも理解しましょう。"
   ]
  },
  {
   "cell_type": "markdown",
   "metadata": {},
   "source": [
    "#### 解答"
   ]
  },
  {
   "cell_type": "markdown",
   "metadata": {
    "collapsed": true,
    "id": "answer"
   },
   "source": [
    "L2正則化はデータの値の範囲を揃えるように係数を操作することで説明力を高めようとするアプローチです。"
   ]
  },
  {
   "cell_type": "markdown",
   "metadata": {},
   "source": [
    "***"
   ]
  },
  {
   "cell_type": "markdown",
   "metadata": {
    "courseId": 5010,
    "exerciseId": "B1Z9h8oIxz",
    "id": "code_session_name",
    "important": true,
    "isDL": false,
    "timeoutSecs": 5
   },
   "source": [
    "### 2.1.3 ラッソ回帰"
   ]
  },
  {
   "cell_type": "markdown",
   "metadata": {
    "id": "description"
   },
   "source": [
    "**<font color=#AA0000>ラッソ回帰</font>** とは **L1正則化を行いながら線形回帰の適切なパラメータを設定する回帰モデル** です。\n",
    "\n",
    "機械学習では予測に用いるデータ同士の関連性を人間が認識しにくい場合があります。L1正則化では、 **データとして余分な情報がたくさん存在するようなデータの回帰分析を行う際** に重宝すると確認しました。そのため、データセットの数（行数）に比べて、パラメータの数（列数）が多いなどといった場合には、ラッソ回帰を利用するのが良いでしょう。\n",
    "\n",
    "scikit-learnのlinear_modelモジュール内にあるLasso()というモデルがラッソ回帰のモデルにあたります。\n",
    "\n",
    "```Python\n",
    "from sklearn.linear_model import Lasso\n",
    "from sklearn.datasets import make_regression\n",
    "from sklearn.model_selection import train_test_split\n",
    "\n",
    "X, y = make_regression(n_samples=100, n_features=100, n_informative=60, n_targets=1, random_state=42)\n",
    "train_X, test_X, train_y, test_y = train_test_split(X, y, random_state=42)\n",
    "\n",
    "model = Lasso()\n",
    "model.fit(train_X, train_y)\n",
    "print(model.score(test_X, test_y))\n",
    "```\n",
    "\n",
    "線形回帰の`model =LinearRegression()`を`model = Lasso()`に変更するだけで、ラッソ回帰で分析ができます。"
   ]
  },
  {
   "cell_type": "markdown",
   "metadata": {},
   "source": [
    "#### 問題"
   ]
  },
  {
   "cell_type": "markdown",
   "metadata": {
    "id": "question"
   },
   "source": [
    "- 正則化を行わない線形回帰とラッソ回帰のモデルの説明力の違いの比較を行います。\n",
    "- 余計な情報が多分に含まれたデータを渡しますので線形回帰とラッソ回帰を行い、test_X, test_yに対する決定係数を出力してください。"
   ]
  },
  {
   "cell_type": "code",
   "execution_count": null,
   "metadata": {
    "collapsed": true,
    "id": "index"
   },
   "outputs": [],
   "source": [
    "from sklearn.linear_model import LinearRegression\n",
    "from sklearn.linear_model import Lasso\n",
    "from sklearn.datasets import make_regression\n",
    "from sklearn.model_selection import train_test_split\n",
    "\n",
    "# データを生成\n",
    "X, y = make_regression(n_samples=100, n_features=100, n_informative=60, n_targets=1, random_state=42)\n",
    "train_X, test_X, train_y, test_y = train_test_split(X, y, random_state=42)\n",
    "\n",
    "# 以下にコードを記述してください\n",
    "# 線形回帰\n",
    "\n",
    "\n",
    "# test_X, test_yに対する決定係数を出力してください\n",
    "\n",
    "# ラッソ回帰\n",
    "\n",
    "\n",
    "# test_X, test_yに対する決定係数を出力してください\n"
   ]
  },
  {
   "cell_type": "markdown",
   "metadata": {},
   "source": [
    "#### ヒント"
   ]
  },
  {
   "cell_type": "markdown",
   "metadata": {
    "id": "hint"
   },
   "source": [
    "- 線形回帰とラッソ回帰の学習の流れは同じです。\n",
    "- 今回のデータは予測に用いるデータが100のうち余分なデータが40あるデータです。"
   ]
  },
  {
   "cell_type": "markdown",
   "metadata": {},
   "source": [
    "#### 解答例"
   ]
  },
  {
   "cell_type": "code",
   "execution_count": null,
   "metadata": {
    "collapsed": true,
    "id": "answer"
   },
   "outputs": [],
   "source": [
    "from sklearn.linear_model import LinearRegression\n",
    "from sklearn.linear_model import Lasso\n",
    "from sklearn.datasets import make_regression\n",
    "from sklearn.model_selection import train_test_split\n",
    "\n",
    "# データを生成\n",
    "X, y = make_regression(n_samples=100, n_features=100, n_informative=60, n_targets=1, random_state=42)\n",
    "train_X, test_X, train_y, test_y = train_test_split(X, y, random_state=42)\n",
    "\n",
    "# 以下にコードを記述してください\n",
    "# 線形回帰\n",
    "model = LinearRegression()\n",
    "model.fit(train_X, train_y)\n",
    "# test_X, test_yに対する決定係数を出力してください\n",
    "print(\"線形回帰:{}\".format(model.score(test_X, test_y)))\n",
    "# ラッソ回帰\n",
    "model = Lasso()\n",
    "model.fit(train_X, train_y)\n",
    "# test_X, test_yに対する決定係数を出力してください\n",
    "print(\"ラッソ回帰:{}\".format(model.score(test_X, test_y)))"
   ]
  },
  {
   "cell_type": "markdown",
   "metadata": {},
   "source": [
    "***"
   ]
  },
  {
   "cell_type": "markdown",
   "metadata": {
    "courseId": 5010,
    "exerciseId": "SJz9hLiIez",
    "id": "code_session_name",
    "important": true,
    "isDL": false,
    "timeoutSecs": 5
   },
   "source": [
    "### 2.1.4 リッジ回帰"
   ]
  },
  {
   "cell_type": "markdown",
   "metadata": {
    "id": "description"
   },
   "source": [
    "**<font color=#AA0000>リッジ回帰</font>** とは **L2正則化を行いながら線形回帰の適切なパラメータを設定する回帰モデル** です。\n",
    "\n",
    "リッジ回帰には、シンプルな線形回帰モデルよりも **滑らかなモデルを得やすい（汎化しやすい）** という特徴がありましたね。\n",
    "scikit-learnのlinear_modelモジュール内にある`Ridge()`というモデルがリッジ回帰のモデルにあたります。\n",
    "\n",
    "実装方法は、シンプルな線形回帰モデル、ラッソ回帰と全く同じでモデル名を差し替えるだけでOKです。\n",
    "\n",
    "```python\n",
    "from sklearn.linear_model import Ridge\n",
    "from sklearn.datasets import make_regression\n",
    "from sklearn.model_selection import train_test_split\n",
    "\n",
    "X, y = make_regression(n_samples=100, n_features=50, n_informative=50, n_targets=1, noise=100.0, random_state=42)\n",
    "train_X, test_X, train_y, test_y = train_test_split(X, y, random_state=42)\n",
    "\n",
    "model = Ridge()\n",
    "model.fit(train_X, train_y)\n",
    "print(model.score(test_X, test_y))\n",
    "```"
   ]
  },
  {
   "cell_type": "markdown",
   "metadata": {},
   "source": [
    "#### 問題"
   ]
  },
  {
   "cell_type": "markdown",
   "metadata": {
    "id": "question"
   },
   "source": [
    "- 線形回帰とリッジ回帰によるモデルの説明力の違いを確認したいと思います。\n",
    "- データが渡されるのでtest_X, test_yに対する決定係数を出力してください。"
   ]
  },
  {
   "cell_type": "code",
   "execution_count": null,
   "metadata": {
    "collapsed": true,
    "id": "index"
   },
   "outputs": [],
   "source": [
    "from sklearn.linear_model import Ridge\n",
    "from sklearn.linear_model import LinearRegression\n",
    "from sklearn.datasets import make_regression\n",
    "from sklearn.model_selection import train_test_split\n",
    "\n",
    "# データを生成\n",
    "X, y = make_regression(n_samples=100, n_features=50, n_informative=50, n_targets=1, noise=100.0, random_state=42)\n",
    "train_X, test_X, train_y, test_y = train_test_split(X, y, random_state=42)\n",
    "\n",
    "# 以下にコードを記述してください\n",
    "# 線形回帰\n",
    "\n",
    "\n",
    "# test_X, test_yに対する決定係数を出力してください\n",
    "\n",
    "# リッジ回帰\n",
    "\n",
    "\n",
    "# test_X, test_yに対する決定係数を出力してください\n"
   ]
  },
  {
   "cell_type": "markdown",
   "metadata": {},
   "source": [
    "#### ヒント"
   ]
  },
  {
   "cell_type": "markdown",
   "metadata": {
    "id": "hint"
   },
   "source": [
    "- リッジ回帰もモデルの学習の流れは線形回帰と同じです。\n",
    "- ラッソ回帰のときほど大きな違いは出ません。"
   ]
  },
  {
   "cell_type": "markdown",
   "metadata": {},
   "source": [
    "#### 解答例"
   ]
  },
  {
   "cell_type": "code",
   "execution_count": null,
   "metadata": {
    "collapsed": true,
    "id": "answer"
   },
   "outputs": [],
   "source": [
    "from sklearn.linear_model import Ridge\n",
    "from sklearn.linear_model import LinearRegression\n",
    "from sklearn.datasets import make_regression\n",
    "from sklearn.model_selection import train_test_split\n",
    "\n",
    "# データを生成\n",
    "X, y = make_regression(n_samples=100, n_features=50, n_informative=50, n_targets=1, noise=100.0, random_state=42)\n",
    "train_X, test_X, train_y, test_y = train_test_split(X, y, random_state=42)\n",
    "\n",
    "# 以下にコードを記述してください\n",
    "# 線形回帰\n",
    "model = LinearRegression()\n",
    "model.fit(train_X, train_y)\n",
    "# test_X, test_yに対する決定係数を出力してください\n",
    "print(\"線形回帰:{}\".format(model.score(test_X, test_y)))\n",
    "# リッジ回帰\n",
    "model = Ridge()\n",
    "model.fit(train_X, train_y)\n",
    "# test_X, test_yに対する決定係数を出力してください\n",
    "print(\"リッジ回帰:{}\".format(model.score(test_X, test_y)))"
   ]
  },
  {
   "cell_type": "markdown",
   "metadata": {},
   "source": [
    "***"
   ]
  },
  {
   "cell_type": "markdown",
   "metadata": {
    "courseId": 5010,
    "exerciseId": "Sy75hIiLez",
    "id": "quiz_session_name",
    "important": false,
    "isDL": false,
    "timeoutSecs": 5
   },
   "source": [
    "### 2.1.5 ElasticNet回帰"
   ]
  },
  {
   "cell_type": "markdown",
   "metadata": {
    "id": "description"
   },
   "source": [
    "さて、最後にElasticNet回帰を紹介します。 **<font color=#AA0000>ElasticNet回帰</font>とは、ラッソ回帰とリッジ回帰を組み合わせて正則化項を作るモデル** となります。\n",
    "\n",
    "メリットとしては、ラッソ回帰で取り扱った **余分な情報がたくさん存在するようなデータに対して情報を取捨選択してくれる点** と、リッジ回帰で取り扱った **滑らかなモデルを得やすい（汎化しやすい）点** の組み合わせとなるので、両方のメリットをバランスよく用いてモデルを作りたい時にはベストな手法となります。\n",
    "\n",
    "ElasticNet回帰を使ってモデルを構築する場合、いままでと同じように以下のようにモデルを呼び出せばOKです。\n",
    "```python\n",
    "model = ElasticNet()\n",
    "```\n",
    "なお、scikit-learnのElasticNet()には`l1_ratio`という引数を指定できます。\n",
    "```python\n",
    "model = ElasticNet(l1_ratio=0.3)\n",
    "```\n",
    "\n",
    "以上のように設定すると、L1正則化とL2正則化の割合を指定することができます。以上の場合、L1正則化が30％、L2正則化が70％効いていることを示しています。（指定しないと、丁度半々のElasticNet回帰モデルで指定されます。）"
   ]
  },
  {
   "cell_type": "markdown",
   "metadata": {},
   "source": [
    "#### 問題"
   ]
  },
  {
   "cell_type": "markdown",
   "metadata": {
    "id": "question"
   },
   "source": [
    "- ElasticNet回帰に関して説明している以下の文章のうち **間違っているもの** を選んでください。"
   ]
  },
  {
   "cell_type": "markdown",
   "metadata": {
    "id": "choices"
   },
   "source": [
    "- Lasso回帰とRidge回帰を組み合わせて正則化項を作るモデル。\n",
    "- Lasso回帰の「余分な情報がたくさん存在するようなデータに対して情報を取捨選択してくれる」メリットがある。\n",
    "- Ridge回帰の「滑らかなモデルを得やすい（汎化しやすい）」メリットがある。\n",
    "- L1正則化とL2正則化の割合は常に半々である。"
   ]
  },
  {
   "cell_type": "markdown",
   "metadata": {},
   "source": [
    "#### ヒント"
   ]
  },
  {
   "cell_type": "markdown",
   "metadata": {
    "id": "hint"
   },
   "source": [
    "- `l1_ratio`という引数の使い方を確認しましょう。"
   ]
  },
  {
   "cell_type": "markdown",
   "metadata": {},
   "source": [
    "#### 解答"
   ]
  },
  {
   "cell_type": "markdown",
   "metadata": {
    "id": "answer"
   },
   "source": [
    "L1正則化とL2正則化の割合は常に半々である。"
   ]
  },
  {
   "cell_type": "markdown",
   "metadata": {},
   "source": [
    "***"
   ]
  },
  {
   "cell_type": "markdown",
   "metadata": {
    "id": "chapter_exam",
    "timeout": 10
   },
   "source": [
    "## 2.2 添削問題"
   ]
  },
  {
   "cell_type": "markdown",
   "metadata": {
    "id": "description"
   },
   "source": [
    "これまでの課題ではかなり回帰の決定係数が高くなるように生成されたデータを用いて学習を行いました。\n",
    "\n",
    "実際のデータは線形では決定できないくらい複雑なモデルになると思います。  \n",
    "整形されたデータではありますが生のデータに近いデータセットを用いた学習を行ってみましょう。"
   ]
  },
  {
   "cell_type": "markdown",
   "metadata": {},
   "source": [
    "#### 問題"
   ]
  },
  {
   "cell_type": "markdown",
   "metadata": {
    "id": "question"
   },
   "source": [
    "- ボストンの家屋に関するデータセットが渡されます。\n",
    "- ラッソ回帰やリッジ回帰を用いて決定係数を出力してください。"
   ]
  },
  {
   "cell_type": "code",
   "execution_count": null,
   "metadata": {
    "collapsed": true,
    "id": "index"
   },
   "outputs": [],
   "source": [
    "# 必要なモジュールのインポート\n",
    "from sklearn.datasets import load_boston\n",
    "from sklearn.model_selection import train_test_split\n",
    "# 以下に必要なモジュールを追記してください\n",
    "\n",
    "\n",
    "# データの取得\n",
    "boston_data = load_boston()\n",
    "train_X, test_X, train_y, test_y = train_test_split(boston_data.data, boston_data.target, random_state=42)\n",
    "\n",
    "# 以下にコードを記述してください。\n"
   ]
  },
  {
   "cell_type": "markdown",
   "metadata": {},
   "source": [
    "#### ヒント"
   ]
  },
  {
   "cell_type": "markdown",
   "metadata": {
    "id": "hint"
   },
   "source": [
    "- 今回はモジュールのインポートを行っていません。必要なモジュールをインポートしてください。\n",
    "- データセットに関する詳しい情報は`print(boston_data.DESCR)`を実行してみてください。"
   ]
  },
  {
   "cell_type": "markdown",
   "metadata": {},
   "source": [
    "#### 解答例"
   ]
  },
  {
   "cell_type": "code",
   "execution_count": null,
   "metadata": {
    "collapsed": true,
    "id": "answer"
   },
   "outputs": [],
   "source": [
    "# 必要なモジュールのインポート\n",
    "from sklearn.datasets import load_boston\n",
    "from sklearn.model_selection import train_test_split\n",
    "# 以下に必要なモジュールを追記してください\n",
    "from sklearn.linear_model import LinearRegression\n",
    "from sklearn.linear_model import Lasso\n",
    "from sklearn.linear_model import Ridge\n",
    "\n",
    "# データの取得\n",
    "boston_data = load_boston()\n",
    "train_X, test_X, train_y, test_y = train_test_split(boston_data.data, boston_data.target, random_state=42)\n",
    "\n",
    "# 以下にコードを記述してください。\n",
    "# 線形回帰\n",
    "model = LinearRegression()\n",
    "model.fit(train_X, train_y)\n",
    "print(\"線形回帰:{}\".format(model.score(test_X, test_y)))\n",
    "\n",
    "# ラッソ回帰\n",
    "model = Lasso()\n",
    "model.fit(train_X, train_y)\n",
    "print(\"ラッソ回帰:{}\".format(model.score(test_X, test_y)))\n",
    "\n",
    "# リッジ回帰\n",
    "model = Ridge()\n",
    "model.fit(train_X, train_y)\n",
    "print(\"リッジ回帰:{}\".format(model.score(test_X, test_y)))"
   ]
  },
  {
   "cell_type": "markdown",
   "metadata": {
    "id": "commentary"
   },
   "source": [
    "解答例の三種類では線形回帰が一番モデルを説明できているという結果になりました。  \n",
    "整形がすでに行われているためさらに正則化を行う必要がなかったと思われます。"
   ]
  },
  {
   "cell_type": "markdown",
   "metadata": {},
   "source": [
    "***"
   ]
  }
 ],
 "metadata": {
  "celltoolbar": "Edit Metadata",
  "kernelspec": {
   "display_name": "Python 3",
   "language": "python",
   "name": "python3"
  },
  "language_info": {
   "codemirror_mode": {
    "name": "ipython",
    "version": 3
   },
   "file_extension": ".py",
   "mimetype": "text/x-python",
   "name": "python",
   "nbconvert_exporter": "python",
   "pygments_lexer": "ipython3",
   "version": "3.6.4"
  },
  "toc": {
   "base_numbering": 1,
   "nav_menu": {},
   "number_sections": true,
   "sideBar": true,
   "skip_h1_title": false,
   "title_cell": "Table of Contents",
   "title_sidebar": "Contents",
   "toc_cell": false,
   "toc_position": {},
   "toc_section_display": true,
   "toc_window_display": false
  }
 },
 "nbformat": 4,
 "nbformat_minor": 2
}