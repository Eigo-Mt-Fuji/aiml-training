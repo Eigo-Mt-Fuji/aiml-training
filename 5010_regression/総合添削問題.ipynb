{
 "cells": [
  {
   "cell_type": "markdown",
   "metadata": {
    "id": "final_exam",
    "timeout": 30
   },
   "source": [
    "# 総合添削問題"
   ]
  },
  {
   "cell_type": "markdown",
   "metadata": {
    "id": "description"
   },
   "source": [
    "総合添削問題ではコンクリートのデータを用いて複雑な回帰分析に挑戦していただきます。"
   ]
  },
  {
   "cell_type": "markdown",
   "metadata": {},
   "source": [
    "#### 問題"
   ]
  },
  {
   "cell_type": "markdown",
   "metadata": {
    "id": "question"
   },
   "source": [
    "- コンクリートの圧縮強度について回帰分析を行いたいデータが渡されます。\n",
    "- 回帰分析を行い、最もよい決定係数を算出したモデルとその値を出力してください。\n",
    "- また、concrete_train_X, concrete_test_Xに関しては処理を加えても構いません。"
   ]
  },
  {
   "cell_type": "code",
   "execution_count": 224,
   "metadata": {
    "id": "index",
    "scrolled": true
   },
   "outputs": [
    {
     "name": "stdout",
     "output_type": "stream",
     "text": [
      "[-1.23720016  0.5274709   0.35247578  0.32762641  0.3125442   0.22064086\n",
      "  0.48962716  0.65231292  0.57869199  0.55656575]\n",
      "平均スコア : 0.27807558197878\n",
      "[-1.19294362  0.505827    0.33808585  0.32456037  0.31500926  0.20544051\n",
      "  0.48126547  0.65251845  0.58485267  0.55869605]\n",
      "平均スコア : 0.2773312008493888\n",
      "[LinearRegression] score: 0.6536634398308467, predict: Concrete_Data_LinearRegression.xlsx\n",
      "[Lasso] score: 0.653842055545407, predict: Concrete_Data_Lasso.xlsx\n",
      "[Ridge] score: 0.6536637307569726, predict: Concrete_Data_Ridge.xlsx\n",
      "[ElasticNet L1_RATIO_0.1] score: 0.6538543368787346, predict: Concrete_Data_ElasticNet L1_RATIO_0.1.xlsx\n",
      "[ElasticNet L1_RATIO_0.3] score: 0.6538674731928495, predict: Concrete_Data_ElasticNet L1_RATIO_0.3.xlsx\n",
      "[ElasticNet L1_RATIO_0.5] score: 0.6538722484736974, predict: Concrete_Data_ElasticNet L1_RATIO_0.5.xlsx\n",
      "[ElasticNet L1_RATIO_0.7] score: 0.6538679324162372, predict: Concrete_Data_ElasticNet L1_RATIO_0.7.xlsx\n",
      "[ElasticNet L1_RATIO_0.9] score: 0.6538533746484565, predict: Concrete_Data_ElasticNet L1_RATIO_0.9.xlsx\n",
      "一番いい結果: score                                                  0.653872\n",
      "model                                   ElasticNet L1_RATIO_0.5\n",
      "predict_data_path    Concrete_Data_ElasticNet L1_RATIO_0.5.xlsx\n",
      "Name: 5, dtype: object\n"
     ]
    }
   ],
   "source": [
    "import pandas as pd\n",
    "from sklearn.model_selection import train_test_split\n",
    "from sklearn import model_selection\n",
    "# 必要なモジュールを追記してください。\n",
    "from sklearn.linear_model import LinearRegression\n",
    "from sklearn.linear_model import Lasso\n",
    "from sklearn.linear_model import Ridge\n",
    "from sklearn.linear_model import ElasticNet\n",
    "\n",
    "import time \n",
    "\n",
    "def plot_data(concrete_data):\n",
    "        \n",
    "    predict_target_column = 'Concrete compressive strength(MPa, megapascals) '\n",
    "\n",
    "    concrete_data.plot.scatter(x='Cement (component 1)(kg in a m^3 mixture)', y=predict_target_column, c='Green')\n",
    "    concrete_data.plot.scatter(x='Blast Furnace Slag (component 2)(kg in a m^3 mixture)', y=predict_target_column, c='Green')\n",
    "    concrete_data.plot.scatter(x='Fly Ash (component 3)(kg in a m^3 mixture)', y=predict_target_column, c='Green')\n",
    "    concrete_data.plot.scatter(x='Water  (component 4)(kg in a m^3 mixture)', y=predict_target_column, c='Green')\n",
    "    concrete_data.plot.scatter(x='Superplasticizer (component 5)(kg in a m^3 mixture)', y=predict_target_column, c='Green')\n",
    "    concrete_data.plot.scatter(x='Coarse Aggregate  (component 6)(kg in a m^3 mixture)', y=predict_target_column, c='Green')\n",
    "    concrete_data.plot.scatter(x='Fine Aggregate (component 7)(kg in a m^3 mixture)', y=predict_target_column, c='Green')\n",
    "    concrete_data.plot.scatter(x='Age (day)', y=predict_target_column, c='Green')\n",
    "\n",
    "def save_predict_data(model_name, test_data, answer_correct, answer_predict):\n",
    "    data = test_data.copy()\n",
    "    data['Strength(MPa) '] = answer_correct\n",
    "    data['Strength(MPa)  - Predict'] = pd.Series(answer_predict, index=answer_correct.index)\n",
    "    \n",
    "    predict_data_path = 'Concrete_Data_%s.xlsx' % (model_name)\n",
    "    writer = pd.ExcelWriter(predict_data_path)\n",
    "    data.to_excel(writer,'Sheet1')\n",
    "    writer.save()\n",
    "    return predict_data_path\n",
    "\n",
    "def make_analyze_response(model_name, concrete_test_X, concrete_test_y, result, score):\n",
    "    predict_data_path = save_predict_data(model_name, concrete_test_X, concrete_test_y, result)\n",
    "    print(\"[%s] score: %s, predict: %s\" % (model_name, score, predict_data_path))\n",
    "    \n",
    "    return {\n",
    "        \"model\": model_name,\n",
    "        \"score\":  score,\n",
    "        \"predict_data_path\": predict_data_path\n",
    "    }\n",
    "\n",
    "def analyze_Lasso(concrete_train_X, concrete_test_X, concrete_train_y, concrete_test_y):\n",
    "    model = Lasso()\n",
    "\n",
    "    model.fit(concrete_train_X, concrete_train_y)\n",
    "    predict = model.predict(concrete_test_X)\n",
    "    score = model.score(concrete_test_X, concrete_test_y)\n",
    "\n",
    "    return make_analyze_response(\"Lasso\", concrete_test_X, concrete_test_y, predict, score)\n",
    "\n",
    "def analyze_Ridge(concrete_train_X, concrete_test_X, concrete_train_y, concrete_test_y):\n",
    "    model = Ridge()\n",
    "\n",
    "    model.fit(concrete_train_X, concrete_train_y)\n",
    "    predict = model.predict(concrete_test_X)\n",
    "    score = model.score(concrete_test_X, concrete_test_y)\n",
    "\n",
    "    return make_analyze_response(\"Ridge\", concrete_test_X, concrete_test_y, predict, score)\n",
    "\n",
    "def analyze_LinearRegression(concrete_train_X, concrete_test_X, concrete_train_y, concrete_test_y):\n",
    "    model = LinearRegression(normalize=True)\n",
    "\n",
    "    model.fit(concrete_train_X, concrete_train_y)\n",
    "    \n",
    "    predict = model.predict(concrete_test_X)\n",
    "    score = model.score(concrete_test_X, concrete_test_y)\n",
    "\n",
    "    return make_analyze_response(\"LinearRegression\", concrete_test_X, concrete_test_y, predict, score)\n",
    "\n",
    "def analyze_ElasticNet(l1_ratio, concrete_train_X, concrete_test_X, concrete_train_y, concrete_test_y):\n",
    "    model = ElasticNet(l1_ratio=l1_ratio)\n",
    "\n",
    "    model.fit(concrete_train_X, concrete_train_y)\n",
    "    \n",
    "    predict = model.predict(concrete_test_X)\n",
    "    score = model.score(concrete_test_X, concrete_test_y)\n",
    "\n",
    "    return make_analyze_response(\"ElasticNet L1_RATIO_%s\" % (l1_ratio), concrete_test_X, concrete_test_y, predict, score)\n",
    "\n",
    "\n",
    "def cross_validate_LinearRegression(X, y):\n",
    "    test_model = LinearRegression(normalize=True)\n",
    "    scores = model_selection.cross_val_score(test_model, X, y, cv=10)\n",
    "    print (scores)\n",
    "    print (\"平均スコア :\", scores.mean())\n",
    "\n",
    "def cross_validate_Lasso(X, y):\n",
    "    test_model = Lasso()\n",
    "    scores = model_selection.cross_val_score(test_model, X, y, cv=10)\n",
    "    print (scores)\n",
    "    print (\"平均スコア :\", scores.mean())\n",
    "\n",
    "\n",
    "# データの読み込み\n",
    "concrete_data = pd.read_excel(\"https://archive.ics.uci.edu/ml/machine-learning-databases/concrete/compressive/Concrete_Data.xls\")\n",
    "\n",
    "# データ可視化\n",
    "# plot_data(concrete_data)\n",
    "\n",
    "X = concrete_data.drop(['Concrete compressive strength(MPa, megapascals) ', ], axis=1)\n",
    "y = concrete_data['Concrete compressive strength(MPa, megapascals) ']\n",
    "concrete_train_X, concrete_test_X, concrete_train_y, concrete_test_y = train_test_split(\n",
    "    X,\n",
    "    y,\n",
    "    random_state=int(time.time()))\n",
    "\n",
    "# 交差検証\n",
    "cross_validate_LinearRegression(X, y)\n",
    "cross_validate_Lasso(X, y)\n",
    "\n",
    "# 以下にコードを記述してください。\n",
    "\n",
    "results = []\n",
    "\n",
    "## 解析 - 線形重回帰\n",
    "results.append(analyze_LinearRegression(concrete_train_X, concrete_test_X, concrete_train_y, concrete_test_y))\n",
    "results.append(analyze_Lasso(concrete_train_X, concrete_test_X, concrete_train_y, concrete_test_y))\n",
    "results.append(analyze_Ridge(concrete_train_X, concrete_test_X, concrete_train_y, concrete_test_y))\n",
    "# Lidge + Lasso ratio\n",
    "results.append(analyze_ElasticNet(0.1, concrete_train_X, concrete_test_X, concrete_train_y, concrete_test_y))\n",
    "results.append(analyze_ElasticNet(0.3, concrete_train_X, concrete_test_X, concrete_train_y, concrete_test_y))\n",
    "results.append(analyze_ElasticNet(0.5, concrete_train_X, concrete_test_X, concrete_train_y, concrete_test_y))\n",
    "results.append(analyze_ElasticNet(0.7, concrete_train_X, concrete_test_X, concrete_train_y, concrete_test_y))\n",
    "results.append(analyze_ElasticNet(0.9, concrete_train_X, concrete_test_X, concrete_train_y, concrete_test_y))\n",
    "\n",
    "# 一番いい結果を出力\n",
    "df = pd.DataFrame.from_records(results, columns=[\"score\", \"model\", \"predict_data_path\"])\n",
    "best = df.loc[ df['score'].idxmax()]\n",
    "print (\"一番いい結果: %s\" % (best))"
   ]
  },
  {
   "cell_type": "markdown",
   "metadata": {},
   "source": [
    "#### ヒント"
   ]
  },
  {
   "cell_type": "markdown",
   "metadata": {
    "id": "hint"
   },
   "source": [
    "- 必要なモジュールは追記してください。\n",
    "- データの処理に関しては行わなくても問題ありません。"
   ]
  },
  {
   "cell_type": "markdown",
   "metadata": {},
   "source": [
    "##  解答例"
   ]
  },
  {
   "cell_type": "markdown",
   "metadata": {
    "id": "commentary"
   },
   "source": [
    "添削課題の提出は以下のアドレスから提出いただきますようお願いします。<br>\n",
    "\b\n",
    "https://goo.gl/forms/fW7CAspZMwHuWuqk2<br><br>\n",
    "以下のアドレスからアンケートにご協力頂きたく存じます。<br>\n",
    "ご回答のほど、よろしくお願いいたします。\n",
    "\n",
    "https://goo.gl/forms/WHjJQYeodIndRvyz2"
   ]
  }
 ],
 "metadata": {
  "celltoolbar": "Edit Metadata",
  "kernelspec": {
   "display_name": "Python 3",
   "language": "python",
   "name": "python3"
  },
  "language_info": {
   "codemirror_mode": {
    "name": "ipython",
    "version": 3
   },
   "file_extension": ".py",
   "mimetype": "text/x-python",
   "name": "python",
   "nbconvert_exporter": "python",
   "pygments_lexer": "ipython3",
   "version": "3.7.0"
  },
  "toc": {
   "base_numbering": 1,
   "nav_menu": {},
   "number_sections": true,
   "sideBar": true,
   "skip_h1_title": false,
   "title_cell": "Table of Contents",
   "title_sidebar": "Contents",
   "toc_cell": false,
   "toc_position": {},
   "toc_section_display": true,
   "toc_window_display": false
  }
 },
 "nbformat": 4,
 "nbformat_minor": 2
}
