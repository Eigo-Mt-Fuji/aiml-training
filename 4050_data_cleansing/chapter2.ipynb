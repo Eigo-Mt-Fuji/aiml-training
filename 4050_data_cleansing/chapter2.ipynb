{
 "cells": [
  {
   "cell_type": "markdown",
   "metadata": {
    "chapterId": "rJe-OAmWlWf",
    "id": "chapter_name"
   },
   "source": [
    "#  DataFrameを用いたデータクレンジング\n"
   ]
  },
  {
   "cell_type": "markdown",
   "metadata": {
    "id": "table"
   },
   "source": [
    "- **[2.1 CSV](#2.1-CSV)**\n",
    "    - **[2.1.1 CSVの読み込み](#2.1.1-CSVの読み込み)**\n",
    "    - **[2.1.2 CSVの作成](#2.1.2-CSVの作成)**\n",
    "    - **[2.1.3 書き込み](#2.1.3-書き込み)**\n",
    "<br><br>\n",
    "- **[2.2 DataFrameの復習](#2.2-DataFrameの復習)**\n",
    "    - **[2.2.1 DataFrameの復習](#2.2.1-DataFrameの復習)**\n",
    "<br><br>\n",
    "- **[2.3 欠損値](#2.3-欠損値)**\n",
    "    - **[2.3.1 リストワイズ/ペアワイズ削除](#2.3.1-リストワイズ/ペアワイズ削除)**\n",
    "    - **[2.3.2 欠損値の補完](#2.3.2-欠損値の補完)**\n",
    "    - **[2.3.3 欠損値の補完（平均値代入法）](#2.3.3-欠損値の補完（平均値代入法）)**\n",
    "<br><br>\n",
    "- **[2.4 データ集約](#2.4-データ集約)**\n",
    "    - **[2.4.1 キーごとの統計量の算出](#2.4.1-キーごとの統計量の算出)**\n",
    "    - **[2.4.2 重複データ](#2.4.2-重複データ)**\n",
    "    - **[2.4.3 マッピング](#2.4.3-マッピング)**\n",
    "    - **[2.4.4 ビン分割](#2.4.4-ビン分割)**\n",
    "<br><br>\n",
    "- **[2.5 添削問題](#2.5-添削問題)**"
   ]
  },
  {
   "cell_type": "markdown",
   "metadata": {},
   "source": [
    "***"
   ]
  },
  {
   "cell_type": "markdown",
   "metadata": {
    "id": "section_name",
    "sectionId": "r1--uAX-l-G"
   },
   "source": [
    "## 2.1 CSV"
   ]
  },
  {
   "cell_type": "markdown",
   "metadata": {
    "courseId": 4050,
    "exerciseId": "SkCUK3LoLeG",
    "id": "code_session_name",
    "important": true,
    "isDL": false,
    "timeoutSecs": 5
   },
   "source": [
    "### 2.1.1 Pandasを用いたCSVの読み込み"
   ]
  },
  {
   "cell_type": "markdown",
   "metadata": {
    "id": "description"
   },
   "source": [
    "ここではCSVと呼ばれるデータ形式を扱っていきます。CSVは値をカンマ区切りで格納したファイルであり、データ分析等において非常に扱いやすいので、一般的によく使われます。pandasを用いてCSVを読み込みそれをDataFrameにしてみましょう。今回はデータセットとしてワインのデータセットをオンラインでCSV形式で取得してみます。そのままでは数値が何を表しているのかわからないので、その情報を表すカラムを追加します。\n",
    "\n",
    "```python\n",
    "import pandas as pd\n",
    "\n",
    "df = pd.read_csv(\"http://archive.ics.uci.edu/ml/machine-learning-databases/wine/wine.data\", header=None)\n",
    "#カラムにそれぞれの数値が何を表しているかを追加します\n",
    "df.columns=[\"\", \"Alcohol\", \"Malic acid\", \"Ash\", \"Alcalinity of ash\", \"Magnesium\",\"Total phenols\", \"Flavanoids\", \"Nonflavanoid phenols\", \"Proanthocyanins\",\"Color intensity\", \"Hue\", \"OD280/OD315 of diluted wines\", \"Proline\"]\n",
    "df\n",
    "```\n",
    "\n",
    "<img src=\"https://aidemyexcontentspic.blob.core.windows.net/contents-pic/4050_data_cleansing/cleansing_chap2_10.png\" >\n"
   ]
  },
  {
   "cell_type": "markdown",
   "metadata": {},
   "source": [
    "#### 問題"
   ]
  },
  {
   "cell_type": "markdown",
   "metadata": {
    "id": "question"
   },
   "source": [
    "- オンラインでアヤメのデータ(パスは、cleansing_data/iris.csv )をCSV形式で取得し、PandasのDataFrame形式で出力してください。カラムとして左の列から順に`\"sepal length\", \"sepal width\", \"petal length\", \"petal width\", \"class\"`を指定してください。"
   ]
  },
  {
   "cell_type": "code",
   "execution_count": null,
   "metadata": {
    "id": "index"
   },
   "outputs": [],
   "source": [
    "import pandas as pd\n",
    "# ここに解答を記述してください\n"
   ]
  },
  {
   "cell_type": "markdown",
   "metadata": {},
   "source": [
    "#### ヒント"
   ]
  },
  {
   "cell_type": "markdown",
   "metadata": {
    "id": "hint"
   },
   "source": [
    "- 最後の行にはDataFrameを格納した変数を入力してください。\n",
    "- Aidemyの学習環境では、最終行に設置された Pandas の DataFrame を自動的に HTML として装飾して描画するように設定しているため、print文を使わなくても最終行にDataFrameを格納した変数を記述するだけで綺麗に表示されます。"
   ]
  },
  {
   "cell_type": "markdown",
   "metadata": {},
   "source": [
    "#### 解答例"
   ]
  },
  {
   "cell_type": "code",
   "execution_count": null,
   "metadata": {
    "id": "answer"
   },
   "outputs": [],
   "source": [
    "import pandas as pd\n",
    "\n",
    "df = pd.read_csv(\"cleansing_data/iris.csv\", header=None)\n",
    "df.columns = [\"sepal length\", \"sepal width\", \"petal length\", \"petal width\", \"class\"] \n",
    "df\n"
   ]
  },
  {
   "cell_type": "markdown",
   "metadata": {},
   "source": [
    "***"
   ]
  },
  {
   "cell_type": "markdown",
   "metadata": {
    "courseId": 4050,
    "exerciseId": "Hkyvt3IjUef",
    "id": "code_session_name",
    "important": false,
    "isDL": false,
    "timeoutSecs": 5
   },
   "source": [
    "### 2.1.2 CSVライブラリを用いたCSVの作成"
   ]
  },
  {
   "cell_type": "markdown",
   "metadata": {
    "id": "description"
   },
   "source": [
    "Python3に標準で搭載されているCSVライブラリを用いてCSVデータを作成してみます。過去10回分のオリンピックについてのデータを表にしてみます。\n",
    "```python\n",
    "import csv\n",
    "\n",
    "#with文を用いて実行します\n",
    "with open(\"./cleansing_data/csv0.csv\", \"w\") as csvfile:\n",
    "    #writerメソッドには引数としてここではcsvfileと改行コード（\\n）を指定します\n",
    "    writer = csv.writer(csvfile, lineterminator=\"\\n\")\n",
    "    #writerow（リスト）を用いて行を追加していきます\n",
    "    writer.writerow([\"city\", \"year\", \"season\"])\n",
    "    writer.writerow([\"Nagano\", 1998, \"winter\"])\n",
    "    writer.writerow([\"Sydney\", 2000, \"summer\"])\n",
    "    writer.writerow([\"Salt Lake City\", 2002, \"winter\"])\n",
    "    writer.writerow([\"Athens\", 2004, \"summer\"])\n",
    "    writer.writerow([\"Torino\", 2006, \"winter\"])\n",
    "    writer.writerow([\"Beijing\", 2008, \"summer\"])\n",
    "    writer.writerow([\"Vancouver\", 2010, \"winter\"])\n",
    "    writer.writerow([\"London\", 2012, \"summer\"])\n",
    "    writer.writerow([\"Sochi\", 2014, \"winter\"])\n",
    "    writer.writerow([\"Rio de Janeiro\", 2016, \"summer\"])\n",
    "```\n",
    "これを実行するとcsv0.csvというCSVデータが作成されていることがわかります。\n",
    "\n",
    "<img src=\"https://aidemyexcontentspic.blob.core.windows.net/contents-pic/4050_data_cleansing/cleansing_chap2_20.png\">"
   ]
  },
  {
   "cell_type": "markdown",
   "metadata": {},
   "source": [
    "#### 問題"
   ]
  },
  {
   "cell_type": "markdown",
   "metadata": {
    "id": "question"
   },
   "source": [
    "- 自分で一つcsvデータを作成して出力してください。"
   ]
  },
  {
   "cell_type": "code",
   "execution_count": null,
   "metadata": {
    "id": "index"
   },
   "outputs": [],
   "source": [
    "import csv\n",
    "# ここに解答を記述してください\n"
   ]
  },
  {
   "cell_type": "markdown",
   "metadata": {},
   "source": [
    "#### ヒント"
   ]
  },
  {
   "cell_type": "markdown",
   "metadata": {
    "id": "hint"
   },
   "source": [
    "- 行を追加するにはwriterow(リスト)を用います。\n",
    "- import os をした後にprint(os.getcwd())とするとcsvが格納された場所がわかります。"
   ]
  },
  {
   "cell_type": "markdown",
   "metadata": {},
   "source": [
    "#### 解答例"
   ]
  },
  {
   "cell_type": "code",
   "execution_count": null,
   "metadata": {
    "id": "answer"
   },
   "outputs": [],
   "source": [
    "import csv\n",
    "\n",
    "with open(\"./cleansing_data/csv0.csv\", \"w\") as csvfile:\n",
    "    writer = csv.writer(csvfile, lineterminator=\"\\n\")\n",
    "    writer.writerow([\"city\", \"year\", \"season\"])\n",
    "    writer.writerow([\"Nagano\", 1998, \"winter\"])\n",
    "    writer.writerow([\"Sydney\", 2000, \"summer\"])\n",
    "    writer.writerow([\"Salt Lake City\", 2002, \"winter\"])\n",
    "    writer.writerow([\"Athens\", 2004, \"summer\"])\n",
    "    writer.writerow([\"Torino\", 2006, \"winter\"])\n",
    "    writer.writerow([\"Beijing\", 2008, \"summer\"])\n",
    "    writer.writerow([\"Vancouver\", 2010, \"winter\"])\n",
    "    writer.writerow([\"London\", 2012, \"summer\"])\n",
    "    writer.writerow([\"Sochi\", 2014, \"winter\"])\n",
    "    writer.writerow([\"Rio de Janeiro\", 2016, \"summer\"])\n"
   ]
  },
  {
   "cell_type": "markdown",
   "metadata": {},
   "source": [
    "***"
   ]
  },
  {
   "cell_type": "markdown",
   "metadata": {
    "courseId": 4050,
    "exerciseId": "S1gDthLjIeG",
    "id": "code_session_name",
    "important": true,
    "isDL": false,
    "timeoutSecs": 5
   },
   "source": [
    "### 2.1.3 Pandasを用いたCSVの作成"
   ]
  },
  {
   "cell_type": "markdown",
   "metadata": {
    "id": "description"
   },
   "source": [
    "なお、CSVライブラリを用いず、 **Pandasを用いてCSVデータを作成** することもできます。PandasDataFrame形式のものをCSVにする時はこの形式のほうが便利でしょう。DataFrameの例としてオリンピック開催の都市、年、季節をまとめて、それをCSVにしてみます。\n",
    "\n",
    "```python\n",
    "import pandas as pd\n",
    "\n",
    "data = {\"city\": [\"Nagano\", \"Sydney\", \"Salt Lake City\", \"Athens\", \"Torino\", \"Beijing\", \"Vancouver\", \"London\", \"Sochi\", \"Rio de Janeiro\"], \n",
    "        \"year\": [1998, 2000, 2002, 2004, 2006, 2008, 2010, 2012, 2014, 2016],\n",
    "        \"season\": [\"winter\", \"summer\", \"winter\", \"summer\", \"winter\", \"summer\", \"winter\", \"summer\", \"winter\", \"summer\"]}\n",
    "\n",
    "df = pd.DataFrame(data)\n",
    "\n",
    "df.to_csv(\"cleansing_data/csv1.csv\")\n",
    "```\n",
    "\n",
    "これを実行するとcleansing_data/csv1.csvというCSVデータが同じディレクトリに作成されます。\n",
    "\n",
    "<img src=\"https://aidemyexcontentspic.blob.core.windows.net/contents-pic/4050_data_cleansing/cleansing_chap2_30.png \">"
   ]
  },
  {
   "cell_type": "markdown",
   "metadata": {},
   "source": [
    "#### 問題"
   ]
  },
  {
   "cell_type": "markdown",
   "metadata": {
    "id": "question"
   },
   "source": [
    "- コード中のPandasのDataFrameを\"OSlist.csv\"というファイル名のCSV形式にして出力してください。"
   ]
  },
  {
   "cell_type": "code",
   "execution_count": null,
   "metadata": {
    "id": "index"
   },
   "outputs": [],
   "source": [
    "import pandas as pd\n",
    "\n",
    "data = {\"OS\": [\"Machintosh\", \"Windows\", \"Linux\"],\n",
    "        \"release\": [1984, 1985, 1991],\n",
    "        \"country\": [\"US\", \"US\", \"\"]}\n",
    "# ここに解答を記述してください\n"
   ]
  },
  {
   "cell_type": "markdown",
   "metadata": {},
   "source": [
    "#### ヒント"
   ]
  },
  {
   "cell_type": "markdown",
   "metadata": {
    "id": "hint"
   },
   "source": [
    "- to_csv(\"ファイル名\")メソッドを用います。"
   ]
  },
  {
   "cell_type": "markdown",
   "metadata": {},
   "source": [
    "#### 解答例"
   ]
  },
  {
   "cell_type": "code",
   "execution_count": null,
   "metadata": {
    "id": "answer"
   },
   "outputs": [],
   "source": [
    "import pandas as pd\n",
    "\n",
    "data = {\"OS\": [\"Machintosh\", \"Windows\", \"Linux\"],\n",
    "        \"release\": [1984, 1985, 1991],\n",
    "        \"country\": [\"US\", \"US\", \"\"]}\n",
    "\n",
    "df = pd.DataFrame(data)\n",
    "\n",
    "df.to_csv(\"OSlist.csv\")"
   ]
  },
  {
   "cell_type": "markdown",
   "metadata": {},
   "source": [
    "***"
   ]
  },
  {
   "cell_type": "markdown",
   "metadata": {
    "id": "section_name",
    "sectionId": "SyGb_C7Zxbz"
   },
   "source": [
    "## 2.2 DataFrameの復習"
   ]
  },
  {
   "cell_type": "markdown",
   "metadata": {
    "courseId": 4050,
    "exerciseId": "r1bPF3LiIgG",
    "id": "code_session_name",
    "important": false,
    "isDL": false,
    "timeoutSecs": 5
   },
   "source": [
    "### 2.2.1 DataFrameの復習"
   ]
  },
  {
   "cell_type": "markdown",
   "metadata": {
    "id": "description"
   },
   "source": [
    "DataFrameについてはPandasの「DataFrameの連結」で扱いました。ここでは簡単な問題を解いて復習してみましょう。"
   ]
  },
  {
   "cell_type": "markdown",
   "metadata": {},
   "source": [
    "#### 問題"
   ]
  },
  {
   "cell_type": "markdown",
   "metadata": {
    "id": "question"
   },
   "source": [
    "- `attri_data_frame1`へ`attri_data_frame2`の行を追加し出力してください。ただし行を追加した後のDataFrameはIDの昇順になるようにし、行番号も昇順になるようにしてください。\n",
    "- 出力には`print`を使用せずDataFrameをそのまま記述してください。"
   ]
  },
  {
   "cell_type": "code",
   "execution_count": null,
   "metadata": {
    "id": "index"
   },
   "outputs": [],
   "source": [
    "import pandas as pd\n",
    "from pandas import Series, DataFrame\n",
    "\n",
    "attri_data1 = {\"ID\": [\"100\", \"101\", \"102\", \"103\", \"104\", \"106\", \"108\", \"110\", \"111\", \"113\"],\n",
    "               \"city\": [\"Tokyo\", \"Osaka\", \"Kyoto\", \"Hokkaido\", \"Tokyo\", \"Tokyo\", \"Osaka\", \"Kyoto\", \"Hokkaido\", \"Tokyo\"],\n",
    "               \"birth_year\": [1990, 1989, 1992, 1997, 1982, 1991, 1988, 1990, 1995, 1981],\n",
    "               \"name\": [\"Hiroshi\", \"Akiko\", \"Yuki\", \"Satoru\", \"Steeve\", \"Mituru\", \"Aoi\", \"Tarou\", \"Suguru\", \"Mitsuo\"]}\n",
    "attri_data_frame1 = DataFrame(attri_data1)\n",
    "\n",
    "attri_data2 = {\"ID\": [\"107\", \"109\"],\n",
    "               \"city\": [\"Sendai\", \"Nagoya\"],\n",
    "               \"birth_year\": [1994, 1988]}\n",
    "attri_data_frame2 = DataFrame(attri_data2)\n",
    "\n",
    "# ここに解答を記述してください\n"
   ]
  },
  {
   "cell_type": "markdown",
   "metadata": {
    "heading_collapsed": true
   },
   "source": [
    "#### ヒント"
   ]
  },
  {
   "cell_type": "markdown",
   "metadata": {
    "hidden": true,
    "id": "hint"
   },
   "source": [
    "- 行の追加には `append(行を追加したいDataFrameが格納された変数)`を用います。\n",
    "- データの並び替えには`sort_values(by=\"列の名前\")`を用います。\n",
    "- 行番号を振り直すには`reset_index(drop=True)`を用います。"
   ]
  },
  {
   "cell_type": "markdown",
   "metadata": {},
   "source": [
    "#### 解答例"
   ]
  },
  {
   "cell_type": "code",
   "execution_count": null,
   "metadata": {
    "id": "answer",
    "scrolled": true
   },
   "outputs": [],
   "source": [
    "import pandas as pd\n",
    "from pandas import Series, DataFrame\n",
    "\n",
    "attri_data1 = {\"ID\": [\"100\", \"101\", \"102\", \"103\", \"104\", \"106\", \"108\", \"110\", \"111\", \"113\"],\n",
    "               \"city\": [\"Tokyo\", \"Osaka\", \"Kyoto\", \"Hokkaido\", \"Tokyo\", \"Tokyo\", \"Osaka\", \"Kyoto\", \"Hokkaido\", \"Tokyo\"],\n",
    "               \"birth_year\": [1990, 1989, 1992, 1997, 1982, 1991, 1988, 1990, 1995, 1981],\n",
    "               \"name\": [\"Hiroshi\", \"Akiko\", \"Yuki\", \"Satoru\", \"Steeve\", \"Mituru\", \"Aoi\", \"Tarou\", \"Suguru\", \"Mitsuo\"]}\n",
    "attri_data_frame1 = DataFrame(attri_data1)\n",
    "\n",
    "attri_data2 = {\"ID\": [\"107\", \"109\"],\n",
    "               \"city\": [\"Sendai\", \"Nagoya\"],\n",
    "               \"birth_year\": [1994, 1988]}\n",
    "attri_data_frame2 = DataFrame(attri_data2)\n",
    "\n",
    "attri_data_frame1.append(attri_data_frame2).sort_values(\n",
    "    by=\"ID\", ascending=True).reset_index(drop=True)"
   ]
  },
  {
   "cell_type": "markdown",
   "metadata": {},
   "source": [
    "***"
   ]
  },
  {
   "cell_type": "markdown",
   "metadata": {
    "id": "section_name",
    "sectionId": "HJ7-uRXZlWz"
   },
   "source": [
    "## 2.3 欠損値"
   ]
  },
  {
   "cell_type": "markdown",
   "metadata": {
    "courseId": 4050,
    "exerciseId": "BkfPFn8s8xG",
    "id": "code_session_name",
    "important": true,
    "isDL": false,
    "timeoutSecs": 5
   },
   "source": [
    "### 2.3.1 リストワイズ/ペアワイズ削除"
   ]
  },
  {
   "cell_type": "markdown",
   "metadata": {
    "id": "description"
   },
   "source": [
    "2.3では欠損値の扱いについて学びます。まずはランダムに表を作成し、わざと表の一部を欠損させてみます。\n",
    "\n",
    "```python\n",
    "import numpy as np\n",
    "from numpy import nan as NA\n",
    "import pandas as pd\n",
    "\n",
    "sample_data_frame = pd.DataFrame(np.random.rand(10,4))\n",
    "\n",
    "#一部のデータをわざと欠損させます\n",
    "sample_data_frame.iloc[1,0] = NA\n",
    "sample_data_frame.iloc[2,2] = NA\n",
    "sample_data_frame.iloc[5:,3] = NA\n",
    "\n",
    "sample_data_frame\n",
    "```\n",
    "\n",
    "次のようなDataFrameが生成されます。\n",
    "\n",
    "<img src=\"https://aidemyexcontentspic.blob.core.windows.net/contents-pic/4050_data_cleansing/cleansing_chap2_40.png\" >\n",
    "\n",
    "このときデータ欠損のある行（NaNを含む行）をまるごと消去することをリストワイズ削除といいます。dropnaを用いると、NaNのある行を全て取り除いてくれます。\n",
    "```python\n",
    "sample_data_frame.dropna()\n",
    "```\n",
    "\n",
    "<img src=\"https://aidemyexcontentspic.blob.core.windows.net/contents-pic/4050_data_cleansing/cleansing_chap2_50.png\" >\n",
    "\n",
    "また、利用可能なデータのみ用いるという方法もあります。欠損の少ない列（例: 0列目と1列目）だけを残すことを考えます。これをペアワイズ削除といいます。\n",
    "```python\n",
    "sample_data_frame[[0,1]].dropna()\n",
    "```\n",
    "\n",
    "<img src=\"https://aidemyexcontentspic.blob.core.windows.net/contents-pic/4050_data_cleansing/cleansing_chap2_60.png\" >"
   ]
  },
  {
   "cell_type": "markdown",
   "metadata": {},
   "source": [
    "#### 問題"
   ]
  },
  {
   "cell_type": "markdown",
   "metadata": {
    "id": "question"
   },
   "source": [
    "- 問題文中のDataFrameの第0列と第2列を残し、NaNを含む行を削除して出力してください。"
   ]
  },
  {
   "cell_type": "code",
   "execution_count": null,
   "metadata": {
    "id": "index"
   },
   "outputs": [],
   "source": [
    "import numpy as np\n",
    "from numpy import nan as NA\n",
    "import pandas as pd\n",
    "np.random.seed(0)\n",
    "\n",
    "sample_data_frame = pd.DataFrame(np.random.rand(10, 4))\n",
    "\n",
    "sample_data_frame.iloc[1, 0] = NA\n",
    "sample_data_frame.iloc[2, 2] = NA\n",
    "sample_data_frame.iloc[5:, 3] = NA\n",
    "\n",
    "#ここに解答を記述してください\n"
   ]
  },
  {
   "cell_type": "markdown",
   "metadata": {},
   "source": [
    "#### ヒント"
   ]
  },
  {
   "cell_type": "markdown",
   "metadata": {
    "id": "hint"
   },
   "source": [
    "- ペアワイズ削除の考え方を用います。最初に第0列と第2列を残し、その後でNaNを含む行を削除します。"
   ]
  },
  {
   "cell_type": "markdown",
   "metadata": {},
   "source": [
    "#### 解答例"
   ]
  },
  {
   "cell_type": "code",
   "execution_count": null,
   "metadata": {
    "id": "answer"
   },
   "outputs": [],
   "source": [
    "import numpy as np\n",
    "from numpy import nan as NA\n",
    "import pandas as pd\n",
    "np.random.seed(0)\n",
    "\n",
    "sample_data_frame = pd.DataFrame(np.random.rand(10, 4))\n",
    "\n",
    "sample_data_frame.iloc[1, 0] = NA\n",
    "sample_data_frame.iloc[2, 2] = NA\n",
    "sample_data_frame.iloc[5:, 3] = NA\n",
    "\n",
    "sample_data_frame[[0, 2]].dropna()"
   ]
  },
  {
   "cell_type": "markdown",
   "metadata": {},
   "source": [
    "***"
   ]
  },
  {
   "cell_type": "markdown",
   "metadata": {
    "courseId": 4050,
    "exerciseId": "ryXwYhLsIgG",
    "id": "code_session_name",
    "important": true,
    "isDL": false,
    "timeoutSecs": 5
   },
   "source": [
    "### 2.3.2 欠損値の補完"
   ]
  },
  {
   "cell_type": "markdown",
   "metadata": {
    "id": "description"
   },
   "source": [
    "前セクションでは欠損値のある列や行を削除しましたが、ここでは代替するデータをNaNの部分に代入してみます。\n",
    "```python\n",
    "import numpy as np\n",
    "from numpy import nan as NA\n",
    "import pandas as pd\n",
    "\n",
    "sample_data_frame = pd.DataFrame(np.random.rand(10,4))\n",
    "\n",
    "#一部のデータをわざと欠損させます\n",
    "sample_data_frame.iloc[1,0] = NA\n",
    "sample_data_frame.iloc[2,2] = NA\n",
    "sample_data_frame.iloc[5:,3] = NA\n",
    "```\n",
    "\n",
    "fillna()を用いると、引数として与えた数をNaNの部分に代入します。今回は0で埋めてみます。\n",
    "```python\n",
    "sample_data_frame.fillna(0)\n",
    "```\n",
    "\n",
    "<img src=\"https://aidemyexcontentspic.blob.core.windows.net/contents-pic/4050_data_cleansing/cleansing_chap2_70.png\" >\n",
    "\n",
    "methodにffillを指定することで前の値で埋めることができます。\n",
    "```python\n",
    "sample_data_frame.fillna(method=\"ffill\")\n",
    "```\n",
    "\n",
    "<img src=\"https://aidemyexcontentspic.blob.core.windows.net/contents-pic/4050_data_cleansing/cleansing_chap2_80.png\" >\n"
   ]
  },
  {
   "cell_type": "markdown",
   "metadata": {},
   "source": [
    "#### 問題"
   ]
  },
  {
   "cell_type": "markdown",
   "metadata": {
    "id": "question"
   },
   "source": [
    "- 問題文中のDataFrameのNaNの部分を前の値で埋めて出力してください。"
   ]
  },
  {
   "cell_type": "code",
   "execution_count": null,
   "metadata": {
    "id": "index"
   },
   "outputs": [],
   "source": [
    "import numpy as np\n",
    "from numpy import nan as NA\n",
    "import pandas as pd\n",
    "np.random.seed(0)\n",
    "\n",
    "sample_data_frame = pd.DataFrame(np.random.rand(10, 4))\n",
    "\n",
    "sample_data_frame.iloc[1, 0] = NA\n",
    "sample_data_frame.iloc[6:, 2] = NA\n",
    "\n",
    "#ここに解答を記述してください\n"
   ]
  },
  {
   "cell_type": "markdown",
   "metadata": {},
   "source": [
    "#### ヒント"
   ]
  },
  {
   "cell_type": "markdown",
   "metadata": {
    "id": "hint"
   },
   "source": [
    "- fillnaでmethodを指定してください。"
   ]
  },
  {
   "cell_type": "markdown",
   "metadata": {},
   "source": [
    "#### 解答例"
   ]
  },
  {
   "cell_type": "code",
   "execution_count": 1,
   "metadata": {
    "id": "answer"
   },
   "outputs": [
    {
     "data": {
      "text/html": [
       "<div>\n",
       "<style scoped>\n",
       "    .dataframe tbody tr th:only-of-type {\n",
       "        vertical-align: middle;\n",
       "    }\n",
       "\n",
       "    .dataframe tbody tr th {\n",
       "        vertical-align: top;\n",
       "    }\n",
       "\n",
       "    .dataframe thead th {\n",
       "        text-align: right;\n",
       "    }\n",
       "</style>\n",
       "<table border=\"1\" class=\"dataframe\">\n",
       "  <thead>\n",
       "    <tr style=\"text-align: right;\">\n",
       "      <th></th>\n",
       "      <th>0</th>\n",
       "      <th>1</th>\n",
       "      <th>2</th>\n",
       "      <th>3</th>\n",
       "    </tr>\n",
       "  </thead>\n",
       "  <tbody>\n",
       "    <tr>\n",
       "      <th>0</th>\n",
       "      <td>0.548814</td>\n",
       "      <td>0.715189</td>\n",
       "      <td>0.602763</td>\n",
       "      <td>0.544883</td>\n",
       "    </tr>\n",
       "    <tr>\n",
       "      <th>1</th>\n",
       "      <td>0.548814</td>\n",
       "      <td>0.645894</td>\n",
       "      <td>0.437587</td>\n",
       "      <td>0.891773</td>\n",
       "    </tr>\n",
       "    <tr>\n",
       "      <th>2</th>\n",
       "      <td>0.963663</td>\n",
       "      <td>0.383442</td>\n",
       "      <td>0.791725</td>\n",
       "      <td>0.528895</td>\n",
       "    </tr>\n",
       "    <tr>\n",
       "      <th>3</th>\n",
       "      <td>0.568045</td>\n",
       "      <td>0.925597</td>\n",
       "      <td>0.071036</td>\n",
       "      <td>0.087129</td>\n",
       "    </tr>\n",
       "    <tr>\n",
       "      <th>4</th>\n",
       "      <td>0.020218</td>\n",
       "      <td>0.832620</td>\n",
       "      <td>0.778157</td>\n",
       "      <td>0.870012</td>\n",
       "    </tr>\n",
       "    <tr>\n",
       "      <th>5</th>\n",
       "      <td>0.978618</td>\n",
       "      <td>0.799159</td>\n",
       "      <td>0.461479</td>\n",
       "      <td>0.780529</td>\n",
       "    </tr>\n",
       "    <tr>\n",
       "      <th>6</th>\n",
       "      <td>0.118274</td>\n",
       "      <td>0.639921</td>\n",
       "      <td>0.461479</td>\n",
       "      <td>0.944669</td>\n",
       "    </tr>\n",
       "    <tr>\n",
       "      <th>7</th>\n",
       "      <td>0.521848</td>\n",
       "      <td>0.414662</td>\n",
       "      <td>0.461479</td>\n",
       "      <td>0.774234</td>\n",
       "    </tr>\n",
       "    <tr>\n",
       "      <th>8</th>\n",
       "      <td>0.456150</td>\n",
       "      <td>0.568434</td>\n",
       "      <td>0.461479</td>\n",
       "      <td>0.617635</td>\n",
       "    </tr>\n",
       "    <tr>\n",
       "      <th>9</th>\n",
       "      <td>0.612096</td>\n",
       "      <td>0.616934</td>\n",
       "      <td>0.461479</td>\n",
       "      <td>0.681820</td>\n",
       "    </tr>\n",
       "  </tbody>\n",
       "</table>\n",
       "</div>"
      ],
      "text/plain": [
       "          0         1         2         3\n",
       "0  0.548814  0.715189  0.602763  0.544883\n",
       "1  0.548814  0.645894  0.437587  0.891773\n",
       "2  0.963663  0.383442  0.791725  0.528895\n",
       "3  0.568045  0.925597  0.071036  0.087129\n",
       "4  0.020218  0.832620  0.778157  0.870012\n",
       "5  0.978618  0.799159  0.461479  0.780529\n",
       "6  0.118274  0.639921  0.461479  0.944669\n",
       "7  0.521848  0.414662  0.461479  0.774234\n",
       "8  0.456150  0.568434  0.461479  0.617635\n",
       "9  0.612096  0.616934  0.461479  0.681820"
      ]
     },
     "execution_count": 1,
     "metadata": {},
     "output_type": "execute_result"
    }
   ],
   "source": [
    "import numpy as np\n",
    "from numpy import nan as NA\n",
    "import pandas as pd\n",
    "np.random.seed(0)\n",
    "\n",
    "sample_data_frame = pd.DataFrame(np.random.rand(10, 4))\n",
    "\n",
    "sample_data_frame.iloc[1, 0] = NA\n",
    "sample_data_frame.iloc[6:, 2] = NA\n",
    "\n",
    "sample_data_frame.fillna(method=\"ffill\")"
   ]
  },
  {
   "cell_type": "markdown",
   "metadata": {},
   "source": [
    "***"
   ]
  },
  {
   "cell_type": "markdown",
   "metadata": {
    "courseId": 4050,
    "exerciseId": "rJVPtnIoLlz",
    "id": "code_session_name",
    "important": true,
    "isDL": false,
    "timeoutSecs": 5
   },
   "source": [
    "### 2.3.3 欠損値の補完（平均値代入法）"
   ]
  },
  {
   "cell_type": "markdown",
   "metadata": {
    "id": "description"
   },
   "source": [
    "欠損値をその列（または行）の平均値によって穴埋めをする方法を平均値代入法といいます。\n",
    "```python\n",
    "import numpy as np\n",
    "from numpy import nan as NA\n",
    "import pandas as pd\n",
    "\n",
    "sample_data_frame = pd.DataFrame(np.random.rand(10, 4))\n",
    "\n",
    "#一部のデータをわざと欠損させます\n",
    "sample_data_frame.iloc[1, 0] = NA\n",
    "sample_data_frame.iloc[2, 2] = NA\n",
    "sample_data_frame.iloc[5:, 3] = NA\n",
    "\n",
    "#fillnaを用いてNaNの部分にその列の平均値を代入します\n",
    "sample_data_frame.fillna(sample_data_frame.mean())\n",
    "```\n",
    "\n",
    "<img src=\"https://aidemyexcontentspic.blob.core.windows.net/contents-pic/4050_data_cleansing/cleansing_chap2_90.png\" >"
   ]
  },
  {
   "cell_type": "markdown",
   "metadata": {},
   "source": [
    "#### 問題"
   ]
  },
  {
   "cell_type": "markdown",
   "metadata": {
    "id": "question"
   },
   "source": [
    "- 問題文中のDataFrameのNaNの部分を列の平均値で埋めて出力してください。"
   ]
  },
  {
   "cell_type": "code",
   "execution_count": null,
   "metadata": {
    "id": "index"
   },
   "outputs": [],
   "source": [
    "import numpy as np\n",
    "from numpy import nan as NA\n",
    "import pandas as pd\n",
    "np.random.seed(0)\n",
    "\n",
    "sample_data_frame = pd.DataFrame(np.random.rand(10, 4))\n",
    "\n",
    "sample_data_frame.iloc[1, 0] = NA\n",
    "sample_data_frame.iloc[6:, 2] = NA\n",
    "\n",
    "# ここに解答を記述してください\n"
   ]
  },
  {
   "cell_type": "markdown",
   "metadata": {},
   "source": [
    "#### ヒント"
   ]
  },
  {
   "cell_type": "markdown",
   "metadata": {
    "id": "hint"
   },
   "source": [
    "- fillnaを用います。"
   ]
  },
  {
   "cell_type": "markdown",
   "metadata": {},
   "source": [
    "#### 解答例"
   ]
  },
  {
   "cell_type": "code",
   "execution_count": null,
   "metadata": {
    "id": "answer"
   },
   "outputs": [],
   "source": [
    "import numpy as np\n",
    "from numpy import nan as NA\n",
    "import pandas as pd\n",
    "np.random.seed(0)\n",
    "\n",
    "sample_data_frame = pd.DataFrame(np.random.rand(10, 4))\n",
    "\n",
    "sample_data_frame.iloc[1, 0] = NA\n",
    "sample_data_frame.iloc[6:, 2] = NA\n",
    "\n",
    "sample_data_frame.fillna(sample_data_frame.mean())"
   ]
  },
  {
   "cell_type": "markdown",
   "metadata": {},
   "source": [
    "***"
   ]
  },
  {
   "cell_type": "markdown",
   "metadata": {
    "id": "section_name",
    "sectionId": "S1NbuCm-eWf"
   },
   "source": [
    "## 2.4 データ集約"
   ]
  },
  {
   "cell_type": "markdown",
   "metadata": {
    "courseId": 4050,
    "exerciseId": "SyBvF3UiUxz",
    "id": "code_session_name",
    "important": true,
    "isDL": false,
    "timeoutSecs": 5
   },
   "source": [
    "### 2.4.1 キーごとの統計量の算出"
   ]
  },
  {
   "cell_type": "markdown",
   "metadata": {
    "id": "description"
   },
   "source": [
    "キーごとに統計量を算出します。同Chapter「**CSVの読み込み**」で用いたワインのデータセットをここでも利用して、列の平均値を算出して見ましょう。\n",
    "```python\n",
    "import pandas as pd\n",
    "\n",
    "df = pd.read_csv(\"http://archive.ics.uci.edu/ml/machine-learning-databases/wine/wine.data\", header=None)\n",
    "df.columns=[\"\", \"Alcohol\", \"Malic acid\", \"Ash\", \"Alcalinity of ash\", \"Magnesium\",\"Total phenols\", \"Flavanoids\", \"Nonflavanoid phenols\", \"Proanthocyanins\",\"Color intensity\", \"Hue\", \"OD280/OD315 of diluted wines\", \"Proline\"]\n",
    "df[\"Alcohol\"].mean()\n",
    "# 出力結果\n",
    "13.000617977528083\n",
    "```\n",
    "となります。\n"
   ]
  },
  {
   "cell_type": "markdown",
   "metadata": {},
   "source": [
    "#### 問題"
   ]
  },
  {
   "cell_type": "markdown",
   "metadata": {
    "id": "question"
   },
   "source": [
    "- 解説文のワインのデータセットでMagnesiumの平均値を出力してください。"
   ]
  },
  {
   "cell_type": "code",
   "execution_count": null,
   "metadata": {
    "id": "index"
   },
   "outputs": [],
   "source": [
    "import pandas as pd\n",
    "\n",
    "df = pd.read_csv(\"cleansing_data/wine.csv\", header=None)\n",
    "df.columns = [\"\", \"Alcohol\", \"Malic acid\", \"Ash\", \"Alcalinity of ash\", \"Magnesium\", \"Total phenols\", \"Flavanoids\",\n",
    "              \"Nonflavanoid phenols\", \"Proanthocyanins\", \"Color intensity\", \"Hue\", \"OD280/OD315 of diluted wines\", \"Proline\"]\n",
    "\n",
    "# ここに解答を記述してください\n"
   ]
  },
  {
   "cell_type": "markdown",
   "metadata": {},
   "source": [
    "#### ヒント"
   ]
  },
  {
   "cell_type": "markdown",
   "metadata": {
    "id": "hint"
   },
   "source": [
    "- Magnesiumの列を抽出し、meanメソッドを使ってその平均値を求めてください。"
   ]
  },
  {
   "cell_type": "markdown",
   "metadata": {},
   "source": [
    "#### 解答例"
   ]
  },
  {
   "cell_type": "code",
   "execution_count": null,
   "metadata": {
    "id": "answer"
   },
   "outputs": [],
   "source": [
    "import pandas as pd\n",
    "\n",
    "df = pd.read_csv(\n",
    "    \"cleansing_data/wine.csv\", header=None)\n",
    "df.columns = [\"\", \"Alcohol\", \"Malic acid\", \"Ash\", \"Alcalinity of ash\", \"Magnesium\", \"Total phenols\", \"Flavanoids\",\n",
    "              \"Nonflavanoid phenols\", \"Proanthocyanins\", \"Color intensity\", \"Hue\", \"OD280/OD315 of diluted wines\", \"Proline\"]\n",
    "\n",
    "df[\"Magnesium\"].mean()"
   ]
  },
  {
   "cell_type": "markdown",
   "metadata": {},
   "source": [
    "***"
   ]
  },
  {
   "cell_type": "markdown",
   "metadata": {
    "courseId": 4050,
    "exerciseId": "r1IwYn8j8lz",
    "id": "code_session_name",
    "important": true,
    "isDL": false,
    "timeoutSecs": 5
   },
   "source": [
    "### 2.4.2 重複データ"
   ]
  },
  {
   "cell_type": "markdown",
   "metadata": {
    "id": "description"
   },
   "source": [
    "ここでは重複するデータがある場合にそのデータを削除する方法を学びます。重複のあるデータを作成してみます。\n",
    "```python\n",
    "import pandas as pd\n",
    "from pandas import DataFrame\n",
    "\n",
    "dupli_data = DataFrame({\"col1\":[1, 1, 2, 3, 4, 4, 6, 6]\n",
    "                       ,\"col2\":[\"a\", \"b\", \"b\", \"b\", \"c\", \"c\", \"b\", \"b\"]})\n",
    "dupli_data\n",
    "```\n",
    "\n",
    "<img src=\"https://aidemyexcontentspic.blob.core.windows.net/contents-pic/4050_data_cleansing/cleansing_chap2_100.png\" >\n",
    "\n",
    "duplicatedを用いると、重複のある行にTrueと表示してくれます。出力結果は、今まで扱ってきたDataFrame型とは違うSeries型となっており、見た目が異なっています。\n",
    "```python\n",
    "dupli_data.duplicated()\n",
    "# 出力結果\n",
    "0    False\n",
    "1    False\n",
    "2    False\n",
    "3    False\n",
    "4    False\n",
    "5     True\n",
    "6    False\n",
    "7     True\n",
    "dtype: bool\n",
    "```\n",
    "dtype とは \"Data Type\" のことで、要素の型を示しています。  \n",
    "drop_duplicatesを用いると、重複したデータの削除後のデータを表示します。\n",
    "```python\n",
    "dupli_data.drop_duplicates()\n",
    "```\n",
    "\n",
    "<img src=\"https://aidemyexcontentspic.blob.core.windows.net/contents-pic/4050_data_cleansing/cleansing_chap2_110.png\" >"
   ]
  },
  {
   "cell_type": "markdown",
   "metadata": {},
   "source": [
    "#### 問題"
   ]
  },
  {
   "cell_type": "markdown",
   "metadata": {
    "id": "question"
   },
   "source": [
    "- 問題文中のDataFrameには重複したデータがあります。それを削除して新たなDataFrameを出力してください。"
   ]
  },
  {
   "cell_type": "code",
   "execution_count": null,
   "metadata": {
    "id": "index"
   },
   "outputs": [],
   "source": [
    "import pandas as pd\n",
    "from pandas import DataFrame\n",
    "\n",
    "dupli_data = DataFrame({\"col1\":[1, 1, 2, 3, 4, 4, 6, 6, 7, 7, 7, 8, 9, 9]\n",
    "                       ,\"col2\":[\"a\", \"b\", \"b\", \"b\", \"c\", \"c\", \"b\", \"b\", \"d\", \"d\", \"c\", \"b\", \"c\", \"c\"]})\n",
    "\n",
    "# ここに解答を記述してください\n"
   ]
  },
  {
   "cell_type": "markdown",
   "metadata": {},
   "source": [
    "#### ヒント"
   ]
  },
  {
   "cell_type": "markdown",
   "metadata": {
    "id": "hint"
   },
   "source": [
    "- drop_duplicatesを用いてください。"
   ]
  },
  {
   "cell_type": "markdown",
   "metadata": {},
   "source": [
    "#### 解答例"
   ]
  },
  {
   "cell_type": "code",
   "execution_count": null,
   "metadata": {
    "id": "answer"
   },
   "outputs": [],
   "source": [
    "import pandas as pd\n",
    "from pandas import DataFrame\n",
    "\n",
    "dupli_data = DataFrame({\"col1\":[1, 1, 2, 3, 4, 4, 6, 6, 7, 7, 7, 8, 9, 9]\n",
    "                       ,\"col2\":[\"a\", \"b\", \"b\", \"b\", \"c\", \"c\", \"b\", \"b\", \"d\", \"d\", \"c\", \"b\", \"c\", \"c\"]})\n",
    "\n",
    "\n",
    "dupli_data.drop_duplicates()"
   ]
  },
  {
   "cell_type": "markdown",
   "metadata": {},
   "source": [
    "***"
   ]
  },
  {
   "cell_type": "markdown",
   "metadata": {
    "courseId": 4050,
    "exerciseId": "HkvPKnLi8gM",
    "id": "code_session_name",
    "important": false,
    "isDL": false,
    "timeoutSecs": 5
   },
   "source": [
    "### 2.4.3 マッピング"
   ]
  },
  {
   "cell_type": "markdown",
   "metadata": {
    "id": "description"
   },
   "source": [
    "マッピングとは共通のキーとなるデータに対して、テーブルからそのキーに対応するデータをもってくる処理です。説明だけでは実体が掴みづらいので実際の操作を通して学んでいきましょう。\n",
    "```python\n",
    "import pandas as pd\n",
    "from pandas import DataFrame\n",
    "\n",
    "attri_data1 = {\"ID\": [\"100\", \"101\", \"102\", \"103\", \"104\", \"106\", \"108\", \"110\", \"111\", \"113\"]\n",
    "        ,\"city\": [\"Tokyo\", \"Osaka\", \"Kyoto\", \"Hokkaido\", \"Tokyo\", \"Tokyo\", \"Osaka\", \"Kyoto\", \"Hokkaido\", \"Tokyo\"]\n",
    "        ,\"birth_year\" :[1990, 1989, 1992, 1997, 1982, 1991, 1988, 1990, 1995, 1981]\n",
    "        ,\"name\" :[\"Hiroshi\", \"Akiko\", \"Yuki\", \"Satoru\", \"Steeve\", \"Mituru\", \"Aoi\", \"Tarou\", \"Suguru\", \"Mitsuo\"]}\n",
    "attri_data_frame1 = DataFrame(attri_data1)\n",
    "\n",
    "attri_data_frame1\n",
    "```\n",
    "\n",
    "<img src=\"https://aidemyexcontentspic.blob.core.windows.net/contents-pic/4050_data_cleansing/cleansing_chap2_120.png\" >\n",
    "\n",
    "ではここで新しい辞書を作成します。\n",
    "```python\n",
    "city_map ={\"Tokyo\":\"Kanto\"\n",
    "          ,\"Hokkaido\":\"Hokkaido\"\n",
    "          ,\"Osaka\":\"Kansai\"\n",
    "          ,\"Kyoto\":\"Kansai\"}\n",
    "city_map\n",
    "```\n",
    "\n",
    "はじめに用意したattri_data_frame1のcityカラムをベースとして、上の参照データに対応する地域名データをもってきて、新しいカラムを追加していきます。これがマッピング処理です。Excelに詳しい方であればvlookupのような処理といえばわかりやすいかと思います。\n",
    "```python\n",
    "# 新しいカラムとしてregionを追加します。対応するデータがない場合はNaNとなります\n",
    "attri_data_frame1[\"region\"] = attri_data_frame1[\"city\"].map(city_map)\n",
    "attri_data_frame1\n",
    "```\n",
    "出力結果です。regionカラムに地方名が追加されているのがわかります。\n",
    "\n",
    "<img src=\"https://aidemyexcontentspic.blob.core.windows.net/contents-pic/4050_data_cleansing/cleansing_chap2_130.png\" >\n"
   ]
  },
  {
   "cell_type": "markdown",
   "metadata": {},
   "source": [
    "#### 問題"
   ]
  },
  {
   "cell_type": "markdown",
   "metadata": {
    "id": "question"
   },
   "source": [
    "- 問題文中のDataFrameで`city`が `Tokyo、Hokkaido`のものを`east` 、`Osaka、Kyoto`のものを`west`となるようにして、新しい列を追加し、その結果を出力してください。カラム名はWEにしてください。"
   ]
  },
  {
   "cell_type": "code",
   "execution_count": null,
   "metadata": {
    "id": "index"
   },
   "outputs": [],
   "source": [
    "import pandas as pd\n",
    "from pandas import DataFrame\n",
    "\n",
    "attri_data1 = {\"ID\": [\"100\", \"101\", \"102\", \"103\", \"104\", \"106\", \"108\", \"110\", \"111\", \"113\"]\n",
    "        ,\"city\": [\"Tokyo\", \"Osaka\", \"Kyoto\", \"Hokkaido\", \"Tokyo\", \"Tokyo\", \"Osaka\", \"Kyoto\", \"Hokkaido\", \"Tokyo\"]\n",
    "        ,\"birth_year\" :[1990, 1989, 1992, 1997, 1982, 1991, 1988, 1990, 1995, 1981]\n",
    "        ,\"name\" :[\"Hiroshi\", \"Akiko\", \"Yuki\", \"Satoru\", \"Steeve\", \"Mituru\", \"Aoi\", \"Tarou\", \"Suguru\", \"Mitsuo\"]}\n",
    "attri_data_frame1 = DataFrame(attri_data1)\n",
    "\n",
    "# ここに解答を記述してください\n"
   ]
  },
  {
   "cell_type": "markdown",
   "metadata": {},
   "source": [
    "#### ヒント"
   ]
  },
  {
   "cell_type": "markdown",
   "metadata": {
    "id": "hint"
   },
   "source": [
    "- mapを例のように用いてください。"
   ]
  },
  {
   "cell_type": "markdown",
   "metadata": {},
   "source": [
    "#### 解答例"
   ]
  },
  {
   "cell_type": "code",
   "execution_count": null,
   "metadata": {
    "id": "answer"
   },
   "outputs": [],
   "source": [
    "import pandas as pd\n",
    "from pandas import DataFrame\n",
    "\n",
    "attri_data1 = {\"ID\": [\"100\", \"101\", \"102\", \"103\", \"104\", \"106\", \"108\", \"110\", \"111\", \"113\"]\n",
    "        ,\"city\": [\"Tokyo\", \"Osaka\", \"Kyoto\", \"Hokkaido\", \"Tokyo\", \"Tokyo\", \"Osaka\", \"Kyoto\", \"Hokkaido\", \"Tokyo\"]\n",
    "        ,\"birth_year\" :[1990, 1989, 1992, 1997, 1982, 1991, 1988, 1990, 1995, 1981]\n",
    "        ,\"name\" :[\"Hiroshi\", \"Akiko\", \"Yuki\", \"Satoru\", \"Steeve\", \"Mituru\", \"Aoi\", \"Tarou\", \"Suguru\", \"Mitsuo\"]}\n",
    "attri_data_frame1 = DataFrame(attri_data1)\n",
    "\n",
    "WE_map = {\"Tokyo\":\"east\"\n",
    "          ,\"Hokkaido\":\"east\"\n",
    "          ,\"Osaka\":\"west\"\n",
    "          ,\"Kyoto\":\"west\"}\n",
    "\n",
    "attri_data_frame1[\"WE\"] = attri_data_frame1[\"city\"].map(WE_map)\n",
    "\n",
    "attri_data_frame1"
   ]
  },
  {
   "cell_type": "markdown",
   "metadata": {},
   "source": [
    "***"
   ]
  },
  {
   "cell_type": "markdown",
   "metadata": {
    "courseId": 4050,
    "exerciseId": "rJdDt3LjIgM",
    "id": "code_session_name",
    "important": false,
    "isDL": false,
    "timeoutSecs": 5
   },
   "source": [
    "### 2.4.4 ビン分割"
   ]
  },
  {
   "cell_type": "markdown",
   "metadata": {
    "id": "description"
   },
   "source": [
    "ビン分割とは、ある離散的な範囲にデータを分割して集計したい場合に用いる便利な機能です。あらかじめビン分割したリストを用意してpandasのcut関数を使って、処理します。\"マッピング\"と同じDataFrameを用いてみましょう。\n",
    "```python\n",
    "import pandas as pd\n",
    "from pandas import DataFrame\n",
    "\n",
    "attri_data1 = {\"ID\": [\"100\", \"101\", \"102\", \"103\", \"104\", \"106\", \"108\", \"110\", \"111\", \"113\"]\n",
    "        ,\"city\": [\"Tokyo\", \"Osaka\", \"Kyoto\", \"Hokkaido\", \"Tokyo\", \"Tokyo\", \"Osaka\", \"Kyoto\", \"Hokkaido\", \"Tokyo\"]\n",
    "        ,\"birth_year\" :[1990, 1989, 1992, 1997, 1982, 1991, 1988, 1990, 1995, 1981]\n",
    "        ,\"name\" :[\"Hiroshi\", \"Akiko\", \"Yuki\", \"Satoru\", \"Steeve\", \"Mituru\", \"Aoi\", \"Tarou\", \"Suguru\", \"Mitsuo\"]}\n",
    "attri_data_frame1 = DataFrame(attri_data1)\n",
    "```\n",
    "分割の粒度をリストで指定し、ビン分割を実施します。ここでは`birth_year`に着目したいと思います。\n",
    "```python\n",
    "#分割の粒度リストを作成します。\n",
    "birth_year_bins = [1980,1985,1990,1995,2000]\n",
    "#ビン分割を実施します\n",
    "birth_year_cut_data = pd.cut(attri_data_frame1.birth_year,birth_year_bins)\n",
    "birth_year_cut_data\n",
    "```\n",
    "出力結果は以下のようになります。\"()\"はその値を含まず、\"[]\"はその値を含むことを意味します。例えば `(1985, 1990]` の場合、1985年は含まず，1990年は含まれます。\n",
    "```python\n",
    "0    (1985, 1990]\n",
    "1    (1985, 1990]\n",
    "2    (1990, 1995]\n",
    "3    (1995, 2000]\n",
    "4    (1980, 1985]\n",
    "5    (1990, 1995]\n",
    "6    (1985, 1990]\n",
    "7    (1985, 1990]\n",
    "8    (1990, 1995]\n",
    "9    (1980, 1985]\n",
    "Name: birth_year, dtype: category\n",
    "Categories (4, interval[int64]): [(1980, 1985] < (1985, 1990] < (1990, 1995] < (1995, 2000]]\n",
    "```\n",
    "それぞれのビンの数を集計したい場合は、value_countsを使います。\n",
    "```python\n",
    "pd.value_counts(birth_year_cut_data)\n",
    "# 出力結果\n",
    "(1985, 1990]    4\n",
    "(1990, 1995]    3\n",
    "(1980, 1985]    2\n",
    "(1995, 2000]    1\n",
    "Name: birth_year, dtype: int64\n",
    "```\n",
    "それぞれのビンに名前をつけることも可能です。\n",
    "```python\n",
    "group_names = [\"first1980\", \"second1980\", \"first1990\", \"second1990\"]\n",
    "birth_year_cut_data = pd.cut(attri_data_frame1.birth_year,birth_year_bins,labels = group_names)\n",
    "pd.value_counts(birth_year_cut_data)\n",
    "# 出力結果\n",
    "second1980    4\n",
    "first1990     3\n",
    "first1980     2\n",
    "second1990    1\n",
    "Name: birth_year, dtype: int64\n",
    "```\n",
    "あらかじめ分割数を指定して分割することも可能です。これを用いればほぼ同じサイズのビンを作成することができます。cutの第2引数に分割数を渡します。\n",
    "```python\n",
    "pd.cut(attri_data_frame1.birth_year,2)\n",
    "# 出力結果\n",
    "0      (1989.0, 1997.0]\n",
    "1    (1980.984, 1989.0]\n",
    "2      (1989.0, 1997.0]\n",
    "3      (1989.0, 1997.0]\n",
    "4    (1980.984, 1989.0]\n",
    "5      (1989.0, 1997.0]\n",
    "6    (1980.984, 1989.0]\n",
    "7      (1989.0, 1997.0]\n",
    "8      (1989.0, 1997.0]\n",
    "9    (1980.984, 1989.0]\n",
    "Name: birth_year, dtype: category\n",
    "Categories (2, interval[float64]): [(1980.984, 1989.0] < (1989.0, 1997.0]]\n",
    "```\n"
   ]
  },
  {
   "cell_type": "markdown",
   "metadata": {},
   "source": [
    "#### 問題"
   ]
  },
  {
   "cell_type": "markdown",
   "metadata": {
    "id": "question"
   },
   "source": [
    "- 問題文中のDataFrameをIDで2つにビン分割して出力してください。"
   ]
  },
  {
   "cell_type": "code",
   "execution_count": null,
   "metadata": {
    "id": "index"
   },
   "outputs": [],
   "source": [
    "import pandas as pd\n",
    "from pandas import DataFrame\n",
    "\n",
    "attri_data1 = {\"ID\":[100,101,102,103,104,106,108,110,111,113]\n",
    "        ,\"city\":[\"Tokyo\",\"Osaka\",\"Kyoto\",\"Hokkaido\",\"Tokyo\",\"Tokyo\",\"Osaka\",\"Kyoto\",\"Hokkaido\",\"Tokyo\"]\n",
    "        ,\"birth_year\":[1990,1989,1992,1997,1982,1991,1988,1990,1995,1981]\n",
    "        ,\"name\":[\"Hiroshi\",\"Akiko\",\"Yuki\",\"Satoru\",\"Steeve\",\"Mituru\",\"Aoi\",\"Tarou\",\"Suguru\",\"Mitsuo\"]}\n",
    "attri_data_frame1 = DataFrame(attri_data1)\n",
    "\n",
    "# ここに解答を記述してください\n"
   ]
  },
  {
   "cell_type": "markdown",
   "metadata": {},
   "source": [
    "#### ヒント"
   ]
  },
  {
   "cell_type": "markdown",
   "metadata": {
    "id": "hint"
   },
   "source": [
    "- cutの第2引数に分割数を渡します。"
   ]
  },
  {
   "cell_type": "markdown",
   "metadata": {},
   "source": [
    "#### 解答例"
   ]
  },
  {
   "cell_type": "code",
   "execution_count": null,
   "metadata": {
    "id": "answer"
   },
   "outputs": [],
   "source": [
    "import pandas as pd\n",
    "from pandas import DataFrame\n",
    "\n",
    "attri_data1 = {\"ID\":[100,101,102,103,104,106,108,110,111,113]\n",
    "        ,\"city\":[\"Tokyo\",\"Osaka\",\"Kyoto\",\"Hokkaido\",\"Tokyo\",\"Tokyo\",\"Osaka\",\"Kyoto\",\"Hokkaido\",\"Tokyo\"]\n",
    "        ,\"birth_year\":[1990,1989,1992,1997,1982,1991,1988,1990,1995,1981]\n",
    "        ,\"name\":[\"Hiroshi\",\"Akiko\",\"Yuki\",\"Satoru\",\"Steeve\",\"Mituru\",\"Aoi\",\"Tarou\",\"Suguru\",\"Mitsuo\"]}\n",
    "attri_data_frame1 = DataFrame(attri_data1)\n",
    "\n",
    "pd.cut(attri_data_frame1.ID, 2)"
   ]
  },
  {
   "cell_type": "markdown",
   "metadata": {},
   "source": [
    "***"
   ]
  },
  {
   "cell_type": "markdown",
   "metadata": {
    "id": "chapter_exam"
   },
   "source": [
    "## 1.5 添削問題"
   ]
  },
  {
   "cell_type": "markdown",
   "metadata": {
    "id": "description"
   },
   "source": [
    "今までの復習をします"
   ]
  },
  {
   "cell_type": "markdown",
   "metadata": {},
   "source": [
    "#### 問題"
   ]
  },
  {
   "cell_type": "markdown",
   "metadata": {
    "id": "question"
   },
   "source": [
    "以下のコメントアウトの下にコードを書いてください。"
   ]
  },
  {
   "cell_type": "code",
   "execution_count": null,
   "metadata": {
    "id": "index"
   },
   "outputs": [],
   "source": [
    "import pandas as pd\n",
    "import numpy as np\n",
    "from numpy import nan as NA\n",
    "\n",
    "\n",
    "df = pd.read_csv(\"http://archive.ics.uci.edu/ml/machine-learning-databases/wine/wine.data\", header=None)\n",
    "#カラムにそれぞれの数値が何を表しているかを追加します\n",
    "df.columns=[\"\", \"Alcohol\", \"Malic acid\", \"Ash\", \"Alcalinity of ash\", \"Magnesium\",\n",
    "            \"Total phenols\", \"Flavanoids\", \"Nonflavanoid phenols\", \"Proanthocyanins\",\n",
    "            \"Color intensity\", \"Hue\", \"OD280/OD315 of diluted wines\", \"Proline\"]\n",
    "\n",
    "#変数dfの上から１０行を変数df_tenに代入し、表示してください\n",
    "df_ten = \n",
    "print(df_ten)\n",
    "\n",
    "#データの一部を欠損させてください\n",
    "df_ten.iloc[1,0] = \n",
    "df_ten.iloc[2,3] = \n",
    "df_ten.iloc[4,8] = \n",
    "df_ten.iloc[7,3] = \n",
    "print(df_ten)\n",
    "\n",
    "#fillnaを用いてNaNの部分にその列の平均値を代入しください\n",
    "print()\n",
    "print(df_ten)\n",
    "\n",
    "#重複している行を削除してください\n",
    "df_ten.append(df_ten.loc[3])\n",
    "df_ten.append(df_ten.loc[6])\n",
    "df_ten.append(df_ten.loc[9])\n",
    "df_ten = \n",
    "print(df_ten)\n",
    "\n",
    "#Alcohol列の分割の粒度リストを作成してください\n",
    "alcohol_bins = [0,5,10,15,20,25]\n",
    "alcoholr_cut_data = \n",
    "\n",
    "#ビン数の集計し出力ください\n",
    "print()"
   ]
  },
  {
   "cell_type": "markdown",
   "metadata": {},
   "source": [
    "#### ヒント"
   ]
  },
  {
   "cell_type": "markdown",
   "metadata": {
    "id": "hint"
   },
   "source": [
    "このチャプターで学んだことを確認しましょう。"
   ]
  },
  {
   "cell_type": "markdown",
   "metadata": {},
   "source": [
    "#### 解答例"
   ]
  },
  {
   "cell_type": "code",
   "execution_count": null,
   "metadata": {
    "id": "answer"
   },
   "outputs": [],
   "source": [
    "import pandas as pd\n",
    "\n",
    "df = pd.read_csv(\"http://archive.ics.uci.edu/ml/machine-learning-databases/wine/wine.data\", header=None)\n",
    "#カラムにそれぞれの数値が何を表しているかを追加します\n",
    "df.columns=[\"\", \"Alcohol\", \"Malic acid\", \"Ash\", \"Alcalinity of ash\", \"Magnesium\",\n",
    "            \"Total phenols\", \"Flavanoids\", \"Nonflavanoid phenols\", \"Proanthocyanins\",\n",
    "            \"Color intensity\", \"Hue\", \"OD280/OD315 of diluted wines\", \"Proline\"]\n",
    "\n",
    "#変数dfの上から１０行を変数df_tenに代入し、表示してください\n",
    "df_ten = df.head(10)\n",
    "print(df_ten)\n",
    "\n",
    "#データの一部を欠損させてください\n",
    "df_ten.iloc[1,0] = NA\n",
    "df_ten.iloc[2,3] = NA\n",
    "df_ten.iloc[4,8] = NA\n",
    "df_ten.iloc[7,3] = NA\n",
    "print(df_ten)\n",
    "\n",
    "#fillnaを用いてNaNの部分にその列の平均値を代入しください\n",
    "df_ten.fillna(df_ten.mean())\n",
    "print(df_ten)\n",
    "\n",
    "#\"Alcohol\"列の平均を出力してください\n",
    "print(df_ten[\"Alcohol\"].mean())\n",
    "\n",
    "#重複している行を削除してください\n",
    "df_ten.append(df_ten.loc[3])\n",
    "df_ten.append(df_ten.loc[6])\n",
    "df_ten.append(df_ten.loc[9])\n",
    "df_ten = df_ten.drop_duplicates()\n",
    "print(df_ten)\n",
    "\n",
    "#マッピングの問題\n",
    "\n",
    "#Alcohol列の分割の粒度リストを作成してください\n",
    "alcohol_bins = [0,5,10,15,20,25]\n",
    "alcoholr_cut_data = pd.cut(df_ten[\"Alcohol\"],alcohol_bins)\n",
    "\n",
    "#ビン数の集計\n",
    "print(pd.value_counts(alcoholr_cut_data))"
   ]
  },
  {
   "cell_type": "markdown",
   "metadata": {
    "id": "commentary"
   },
   "source": []
  },
  {
   "cell_type": "markdown",
   "metadata": {},
   "source": [
    "***"
   ]
  }
 ],
 "metadata": {
  "anaconda-cloud": {},
  "celltoolbar": "Edit Metadata",
  "kernelspec": {
   "display_name": "Python 3",
   "language": "python",
   "name": "python3"
  },
  "language_info": {
   "codemirror_mode": {
    "name": "ipython",
    "version": 3
   },
   "file_extension": ".py",
   "mimetype": "text/x-python",
   "name": "python",
   "nbconvert_exporter": "python",
   "pygments_lexer": "ipython3",
   "version": "3.7.0"
  },
  "toc": {
   "base_numbering": 1,
   "nav_menu": {},
   "number_sections": true,
   "sideBar": true,
   "skip_h1_title": false,
   "title_cell": "Table of Contents",
   "title_sidebar": "Contents",
   "toc_cell": false,
   "toc_position": {
    "height": "calc(100% - 180px)",
    "left": "10px",
    "top": "150px",
    "width": "258.391px"
   },
   "toc_section_display": true,
   "toc_window_display": true
  }
 },
 "nbformat": 4,
 "nbformat_minor": 2
}
