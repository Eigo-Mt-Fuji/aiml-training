{
  "cells": [
    {
      "cell_type": "markdown",
      "metadata": {
        "id": "final_exam"
      },
      "source": [
        "# 総合添削問題"
      ]
    },
    {
      "cell_type": "markdown",
      "metadata": {
        "id": "description"
      },
      "source": [
        "***"
      ]
    },
    {
      "cell_type": "markdown",
      "metadata": {},
      "source": [
        "#### 問題"
      ]
    },
    {
      "cell_type": "markdown",
      "metadata": {
        "id": "question"
      },
      "source": [
        "- 空欄を埋めてsearcherクラスを完成させてください。\n",
        "- searchクラスを利用して、program study で検索した結果推薦度の高い10のURLを表示してください。\n",
        "- より柔軟に対応できるように以下の要件を満たすようにsearcherクラスを変更してください。\n",
        "\n",
        "\n",
        "- get_match_rows関数でwordlistにない単語が入力されるとエラーを出力してしまいます。   \n",
        "try,exceptメソッドを利用することでエラーではなく　`探しているページは見つかりませんでした。`と出力するようにしてください。   \n",
        "\n",
        "\n",
        "- distancescore関数はクエリに入力したときに隣接した単語間の距離の和を計算しています。   \n",
        "    これをクエリのすべての単語間の距離の和を計算するようにしてください。   \n",
        "    \n",
        "\n",
        "- 現在のsearcherクラスは入力されたクエリでwordlistに存在しないものは無視されます。   \n",
        "すべてのクエリの含まれるURLのみを評価対象にしてください。   \n",
        "含まない単語が存在するとき`含まなかった単語を含むページはありません`と表示してください。   \n",
        "またorを使うことで、例えば a or b c であればaまたはbとcが含まれたページを評価対象となるようにしてください。   \n"
      ]
    },
    {
      "cell_type": "code",
      "execution_count": null,
      "metadata": {
        "collapsed": true,
        "id": "index"
      },
      "outputs": [],
      "source": [
        "import sqlite3\n",
        "\n",
        "# 空欄を埋めてsearcher関数を完成させてください。\n",
        "class searcher:\n",
        "    def __init__(self,dbname):\n",
        "        self.conn = sqlite3.connect(dbname)\n",
        "        \n",
        "    def __del__(self):\n",
        "        self.conn.close()\n",
        "    \n",
        "    def get_match_rows(self,q):\n",
        "        columnlist = 'w0.url'\n",
        "        tablelist = ''\n",
        "        conditionlist = ''\n",
        "        words_list = []\n",
        "\n",
        "        words = q.split(' ')\n",
        "        tablenumber = 0\n",
        "        for word in words:\n",
        "            wordrow = self.conn.execute(\"select word from wordlist where word='%s'\" %word).fetchone()\n",
        "            if wordrow :\n",
        "                words_list.append(word)\n",
        "                if tablenumber > 0:\n",
        "                    tablelist += ','\n",
        "                    conditionlist += ' and w%d.url=w%d.url and ' % (tablenumber-1,tablenumber)\n",
        "                columnlist += ',w%d.location' % tablenumber\n",
        "                tablelist += 'wordlocation w%d' % tablenumber\n",
        "                conditionlist+=\"w%d.word='%s'\" % (tablenumber,word) \n",
        "                tablenumber += 1\n",
        "\n",
        "\n",
        "        sql=\"select %s from %s where %s\" % (columnlist,tablelist,conditionlist)\n",
        "        cur=self.conn.execute(sql)\n",
        "        rows=[row for row in cur]\n",
        "        return rows,words_list\n",
        "\n",
        "    def normalizescores(self, scores, small_flag=0):\n",
        "        vsmall = 0.00001\n",
        "        if small_flag:\n",
        "            minscore = min(scores.values())\n",
        "            return dict([(url,float(minscore)/max(vsmall,l)) for (url,l) in scores.items()])\n",
        "        else:\n",
        "            # 値が大きいほうが１となる正規化関数を完成させてください。\n",
        "\n",
        "\n",
        "    def frequeryscore(self, rows):\n",
        "        counts = dict([(row[0], 0) for row in rows])\n",
        "        for row in rows:\n",
        "            counts[row[0]] += 1\n",
        "        return self.normalizescores(counts)\n",
        "\n",
        "    def locationscore(self, rows):\n",
        "        locations = dict([(row[0],1000000) for row in rows])\n",
        "        for row in rows:\n",
        "            location = sum(row[1:])\n",
        "            if location < locations[row[0]]:\n",
        "                locations[row[0]] = location\n",
        "            return self.normalizescores(locations, small_flag=1)\n",
        "    \n",
        "    def distancescore(self,rows):\n",
        "        if len(rows[0]) <= 2:\n",
        "            return dict([(row[0],1.0) for row in rows])\n",
        "        mindistance = dict([(row[0],1000000) for row in rows])\n",
        "        for row in rows:\n",
        "            dist = sum([abs(row[i] - row[i-1]) for i in range(2,len(row))])\n",
        "            if dist < mindistance[row[0]]:\n",
        "                mindistance[row[0]] = dist\n",
        "        return self.normalizescores(mindistance, small_flag=1)\n",
        "\n",
        "    \n",
        "    def pagerankscore(self,rows):\n",
        "        pagerank = dict([(row[0], self.conn.execute(\"select score from pagerank where url = '%s'\" % row[0]).fetchone()[0]) for row in rows])\n",
        "        return self.normalizescores(pagerank)\n",
        "\n",
        "    def weightlist(self,rows):\n",
        "        totalscores = dict([(row[0],0) for row in rows])\n",
        "        # 評価関数を設定してください。\n",
        "        # 評価関数の重みは、frequeryscore : 1 , locationscore : 2 , distancescore : 2 ,pagerankscore :3 としてください。\n",
        "        weights = []\n",
        "\n",
        "        for (weight, scores) in weights:\n",
        "            for url in totalscores:\n",
        "                totalscores[url] += weight * scores[url]\n",
        "        return totalscores\n",
        "\n",
        "\n",
        "\n",
        "    def query(self, q):\n",
        "        rows,words = self.get_match_rows(q)\n",
        "        scores = self.weightlist(rows)\n",
        "        rankedscores = sorted([(score, url) for (url,score) in scores.items()], reverse = 1)\n",
        "        recommend_list = []\n",
        "        for i,(score, url) in enumerate(rankedscores[0:10]):\n",
        "            recommend_list.append((url,score))\n",
        "        return recommend_list\n",
        "\n",
        "# program studyで検索してください。\n"
      ]
    },
    {
      "cell_type": "markdown",
      "metadata": {},
      "source": [
        "#### ヒント"
      ]
    },
    {
      "cell_type": "markdown",
      "metadata": {
        "id": "hint"
      },
      "source": [
        "- リストからリストの要素のみを抜き出したいときはextendメソッドが便利です。   \n",
        "リスト1.extend(リスト2)でリスト２の要素をリスト1に付け加えられます。"
      ]
    },
    {
      "cell_type": "markdown",
      "metadata": {},
      "source": [
        "## 解答例"
      ]
    },
    {
      "cell_type": "markdown",
      "metadata": {},
      "source": [
        "### 講座を終えてのアンケート"
      ]
    },
    {
      "cell_type": "markdown",
      "metadata": {
        "id": "commentary"
      },
      "source": [
        "添削課題の提出は以下のアドレスから提出いただきますようお願いします。<br>\n\b",
        "\n",
        "https://goo.gl/forms/fW7CAspZMwHuWuqk2<br><br>\n",
        "以下のアドレスからアンケートにご協力頂きたく存じます。<br>\n",
        "ご回答のほど、よろしくお願いいたします。\n",
        "\n",
        "https://goo.gl/forms/WHjJQYeodIndRvyz2"
      ]
    }
  ],
  "metadata": {
    "celltoolbar": "Edit Metadata",
    "kernelspec": {
      "display_name": "Python 3",
      "language": "python",
      "name": "python3"
    },
    "language_info": {
      "codemirror_mode": {
        "name": "ipython",
        "version": 3
      },
      "file_extension": ".py",
      "mimetype": "text/x-python",
      "name": "python",
      "nbconvert_exporter": "python",
      "pygments_lexer": "ipython3",
      "version": "3.6.6"
    }
  },
  "nbformat": 4,
  "nbformat_minor": 2
}