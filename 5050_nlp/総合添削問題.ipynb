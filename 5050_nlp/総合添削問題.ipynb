{
  "cells": [
    {
      "cell_type": "markdown",
      "metadata": {
        "id": "final_exam"
      },
      "source": [
        "# 総合添削問題"
      ]
    },
    {
      "cell_type": "markdown",
      "metadata": {
        "id": "description"
      },
      "source": []
    },
    {
      "cell_type": "markdown",
      "metadata": {},
      "source": [
        "#### 問題"
      ]
    },
    {
      "cell_type": "markdown",
      "metadata": {
        "id": "question"
      },
      "source": [
        "- ランダムフォレスト、ナイーブベイズ分析を用いてlive door newsコーパスの精度を調べてください。\n",
        "- また、livedoor newsコーパスの名詞、動詞、形容詞、形容動詞のみ取り出した時の精度を同様に調べてください。"
      ]
    },
    {
      "cell_type": "markdown",
      "metadata": {},
      "source": [
        "#### ヒント"
      ]
    },
    {
      "cell_type": "markdown",
      "metadata": {
        "id": "hint"
      },
      "source": [
        "- \n",
        "- "
      ]
    },
    {
      "cell_type": "code",
      "execution_count": null,
      "metadata": {
        "collapsed": true,
        "id": "index"
      },
      "outputs": [],
      "source": []
    },
    {
      "cell_type": "markdown",
      "metadata": {},
      "source": [
        "##  解答例"
      ]
    },
    {
      "cell_type": "code",
      "execution_count": null,
      "metadata": {
        "collapsed": true
      },
      "outputs": [],
      "source": []
    }
  ],
  "metadata": {
    "celltoolbar": "Edit Metadata",
    "kernelspec": {
      "display_name": "Python 3",
      "language": "python",
      "name": "python3"
    },
    "language_info": {
      "codemirror_mode": {
        "name": "ipython",
        "version": 3
      },
      "file_extension": ".py",
      "mimetype": "text/x-python",
      "name": "python",
      "nbconvert_exporter": "python",
      "pygments_lexer": "ipython3",
      "version": "3.6.6"
    }
  },
  "nbformat": 4,
  "nbformat_minor": 2
}