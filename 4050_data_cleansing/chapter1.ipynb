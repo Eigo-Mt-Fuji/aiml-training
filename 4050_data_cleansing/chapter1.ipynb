{
 "cells": [
  {
   "cell_type": "markdown",
   "metadata": {
    "chapterId": "BJjluCQZg-f",
    "id": "chapter_name"
   },
   "source": [
    "#  lambdaやmapなどの便利なPython記法"
   ]
  },
  {
   "cell_type": "markdown",
   "metadata": {
    "id": "table"
   },
   "source": [
    "</span>\n",
    "\n",
    "- **[1.1 lambda式の基礎](#1.1-lambda式の基礎)**\n",
    "    - **[1.1.1 無名関数の作成](#1.1.1-無名関数の作成)**\n",
    "    - **[1.1.2 lambdaによる計算](#1.1.2-lambdaによる計算)**\n",
    "    - **[1.1.3 ifを用いたlambda](#1.1.3-ifを用いたlambda)**\n",
    "<br><br>\n",
    "- **[1.2 lambda式の利用](#1.2-lambda式の利用)**\n",
    "    - **[1.2.1 listの分割（split）](#1.2.1-listの分割（split）)**\n",
    "    - **[1.2.2 listの分割（re.split）](#1.2.2-listの分割（re.split）)**\n",
    "    - **[1.2.3 高階関数（map）](#1.2.3-高階関数（map）)**\n",
    "    - **[1.2.4 filter](#1.2.4-filter)**\n",
    "    - **[1.2.5 sorted](#1.2.5-sorted)**\n",
    "<br><br>\n",
    "- **[1.3 リスト内包表記](#1.3-リスト内包表記)**\n",
    "    - **[1.3.1 リストの生成](#1.3.1-リストの生成)**\n",
    "    - **[1.3.2 if文を用いたループ](#1.3.2-if文を用いたループ)**\n",
    "    - **[1.3.3 複数配列の同時ループ](#1.3.3-複数配列の同時ループ)**\n",
    "    - **[1.3.4 多重ループ](#1.3.4-多重ループ)**\n",
    "<br><br>\n",
    "- **[1.4 辞書オブジェクト](#1.4-辞書オブジェクト)**\n",
    "    - **[1.4.1 defaultdict](#1.4.1-defaultdict)**\n",
    "    - **[1.4.2 要素の追加](#1.4.2-要素の追加)**\n",
    "    - **[1.4.3 Counter](#1.4.3-Counter)**\n",
    "<br><br>\n",
    "- **[1.5 添削問題](#1.5-添削問題)**"
   ]
  },
  {
   "cell_type": "markdown",
   "metadata": {},
   "source": [
    "***"
   ]
  },
  {
   "cell_type": "markdown",
   "metadata": {
    "id": "section_name",
    "sectionId": "rJneOCmZlZM"
   },
   "source": [
    "## 1.1 lambda式の基礎"
   ]
  },
  {
   "cell_type": "markdown",
   "metadata": {
    "courseId": 4050,
    "exerciseId": "H1x8FnUjUeG",
    "id": "code_session_name",
    "important": true,
    "isDL": false,
    "timeoutSecs": 5
   },
   "source": [
    "### 1.1.1 無名関数の作成"
   ]
  },
  {
   "cell_type": "markdown",
   "metadata": {
    "id": "description"
   },
   "source": [
    "Pythonで関数を作成する際には\n",
    "```python\n",
    "# 例: x^2を出力する関数pow1(x)\n",
    "def pow1(x):\n",
    "    return x ** 2 \n",
    "```\n",
    "\n",
    "として関数を定義しますが、以下の **無名関数(lambda式)** を用いることでコードを簡素化できます。\n",
    "```python\n",
    "# pow1(x)と同じ働きを持つ無名関数pow2\n",
    "pow2 = lambda x: x ** 2\n",
    "```\n",
    "\n",
    "lambda式を用いることで、式を`pow2`という **変数** に格納できます。\n",
    "***\n",
    "lambda式の構造は\n",
    "\n",
    "    lambda (引数): (返り値)\n",
    "    \n",
    "となっており、上記の`pow2`では引数 `x` を `x**2` にして返すことを意味しています。\n",
    "\n",
    "lambda式に引数を渡して実際に計算する場合は、\n",
    "```python\n",
    "# pow2に引数aを渡して、計算結果をbに格納する\n",
    "b = pow2(a)\n",
    "```\n",
    "\n",
    "とすればよく、`def`によって作成された関数と同様に使えます。"
   ]
  },
  {
   "cell_type": "markdown",
   "metadata": {},
   "source": [
    "#### 問題"
   ]
  },
  {
   "cell_type": "markdown",
   "metadata": {
    "id": "question"
   },
   "source": [
    "引数$a$に対する以下の関数を作成し、$a=4$の際の返り値をそれぞれ出力して下さい。\n",
    "- `def` を用いて $2a^2 - 3a + 1$ を出力する関数 `func1`\n",
    "- `lambda` を用いて $2a^2 - 3a + 1$ を出力する関数 `func2`"
   ]
  },
  {
   "cell_type": "code",
   "execution_count": 3,
   "metadata": {
    "id": "index"
   },
   "outputs": [
    {
     "name": "stdout",
     "output_type": "stream",
     "text": [
      "21\n",
      "21\n"
     ]
    }
   ],
   "source": [
    "# 代入する引数a\n",
    "a = 4\n",
    "\n",
    "# defを用いてfunc1を作成して下さい\n",
    "def func1(a):\n",
    "    return 2 * a ** 2 - 3 * a + 1\n",
    "\n",
    "\n",
    "# lambdaを用いてfunc2を作成して下さい\n",
    "func2 = lambda a: 2 * a ** 2 - 3 * a + 1\n",
    "\n",
    "# 返り値の出力\n",
    "print(func1(a))\n",
    "print(func2(a))"
   ]
  },
  {
   "cell_type": "markdown",
   "metadata": {},
   "source": [
    "#### ヒント"
   ]
  },
  {
   "cell_type": "markdown",
   "metadata": {
    "id": "hint"
   },
   "source": [
    "```python\n",
    "def function(引数):\n",
    "    return 返り値\n",
    "\n",
    "function = lambda 引数: 返り値\n",
    "```"
   ]
  },
  {
   "cell_type": "markdown",
   "metadata": {},
   "source": [
    "#### 解答"
   ]
  },
  {
   "cell_type": "code",
   "execution_count": null,
   "metadata": {
    "id": "answer"
   },
   "outputs": [],
   "source": [
    "# 代入する引数a\n",
    "a = 4\n",
    "\n",
    "# defを用いてfunc1を作成して下さい\n",
    "def func1(x):\n",
    "    return 2 * x**2 - 3*x + 1\n",
    "\n",
    "# lambdaを用いてfunc2を作成して下さい\n",
    "func2 = lambda x: 2 * x**2 - 3*x + 1\n",
    "\n",
    "# 返り値の出力\n",
    "print(func1(a))\n",
    "print(func2(a))"
   ]
  },
  {
   "cell_type": "markdown",
   "metadata": {},
   "source": [
    "***"
   ]
  },
  {
   "cell_type": "markdown",
   "metadata": {
    "courseId": 4050,
    "exerciseId": "rk-IFnLiLeG",
    "id": "code_session_name",
    "important": true,
    "isDL": false,
    "timeoutSecs": 5
   },
   "source": [
    "### 1.1.2 lambdaによる計算"
   ]
  },
  {
   "cell_type": "markdown",
   "metadata": {
    "id": "description"
   },
   "source": [
    "lambda式で多変数の関数を作成したい時には、\n",
    "```python\n",
    "# 例: ２つの引数を足し合わせる関数add1\n",
    "add1 = lambda x, y: x + y\n",
    "```\n",
    "\n",
    "とします。\n",
    "\n",
    "lambda式は「無名関数の作成」の章のように変数に格納できますが、変数に格納せずとも利用することができます。例えば上記の`add1`のようなlambda式に２つの引数 `3, 5` を代入した結果が直接欲しければ、\n",
    "```python\n",
    "(lambda x, y: x + y)(3, 5)\n",
    "# 出力結果\n",
    "8\n",
    "```\n",
    "とすることで値が得られます。\n",
    "\n",
    "このままでは全く意味が無い上にむしろ手間が増えただけですが、この「変数に格納する」= **「関数に名前を付けて定義する」** 必要が無いことは、関数の利用を大幅に簡単にします。"
   ]
  },
  {
   "cell_type": "markdown",
   "metadata": {},
   "source": [
    "#### 問題"
   ]
  },
  {
   "cell_type": "markdown",
   "metadata": {
    "id": "question"
   },
   "source": [
    "引数$(x, y, z)$に対する以下の関数を作成し、$(x, y, z)=(5, 6, 2)$の際の返り値をそれぞれ出力して下さい。\n",
    "- `def` を用いて $xy + z$ を出力する関数 `func3`\n",
    "- `lambda` を用いて $xy + z$ を出力する関数 `func4`"
   ]
  },
  {
   "cell_type": "code",
   "execution_count": 6,
   "metadata": {
    "id": "index"
   },
   "outputs": [
    {
     "name": "stdout",
     "output_type": "stream",
     "text": [
      "32\n",
      "32\n"
     ]
    }
   ],
   "source": [
    "# 代入する引数x, y, z\n",
    "x = 5\n",
    "y = 6\n",
    "z = 2\n",
    "\n",
    "# defを用いてfunc3を作成して下さい\n",
    "def func3 (x, y, z):\n",
    "    return x * y + z\n",
    "\n",
    "\n",
    "# lambdaを用いてfunc4を作成して下さい\n",
    "func4 = lambda x, y, z: x * y + z\n",
    "\n",
    "# 出力\n",
    "print(func3(x, y, z))\n",
    "print(func4(x, y, z))"
   ]
  },
  {
   "cell_type": "markdown",
   "metadata": {},
   "source": [
    "#### ヒント"
   ]
  },
  {
   "cell_type": "markdown",
   "metadata": {
    "id": "hint"
   },
   "source": [
    "```python\n",
    "lambda 引数１, 引数２, 引数３, … : 返り値\n",
    "```"
   ]
  },
  {
   "cell_type": "markdown",
   "metadata": {},
   "source": [
    "#### 解答例"
   ]
  },
  {
   "cell_type": "code",
   "execution_count": null,
   "metadata": {
    "id": "answer"
   },
   "outputs": [],
   "source": [
    "# 代入する引数x, y, z\n",
    "x = 5\n",
    "y = 6\n",
    "z = 2\n",
    "\n",
    "# defを用いてfunc3を作成して下さい\n",
    "def func3(x, y, z):\n",
    "    return x*y + z\n",
    "\n",
    "# lambdaを用いてfunc4を作成して下さい\n",
    "func4 = lambda x, y, z: x*y + z\n",
    "\n",
    "# 出力\n",
    "print(func3(x, y, z))\n",
    "print(func4(x, y, z))"
   ]
  },
  {
   "cell_type": "markdown",
   "metadata": {},
   "source": [
    "***"
   ]
  },
  {
   "cell_type": "markdown",
   "metadata": {
    "courseId": 4050,
    "exerciseId": "S1MLF2LoUgz",
    "id": "code_session_name",
    "important": true,
    "isDL": false,
    "timeoutSecs": 5
   },
   "source": [
    "### 1.1.3 ifを用いたlambda"
   ]
  },
  {
   "cell_type": "markdown",
   "metadata": {
    "id": "description"
   },
   "source": [
    "lambdaはdefによる関数と異なり、返り値の部分には式のみ入れることができます。<br>\n",
    "例えばdefによる関数では、\n",
    "```python\n",
    "# \"hello.\"と出力する関数\n",
    "def say_hello():\n",
    "    print(\"hello.\")\n",
    "```\n",
    "\n",
    "といった処理が可能でしたが、これをlambdaで表現することはできません。\n",
    "***\n",
    "ただし、ifを用いた条件分岐に関しては三項演算子という手法を用いることでlambdaでも作成することができます。<br>\n",
    "例えば\n",
    "```python\n",
    "# 引数が3未満ならば2を掛け、3以上ならば3で割って5で足す関数\n",
    "def lower_three1(x):\n",
    "    if x < 3:\n",
    "        return x * 2\n",
    "    else:\n",
    "        return x/3 + 5\n",
    "```\n",
    "上記の関数をlambdaで表現すると、\n",
    "```python\n",
    "# lower_three1と同じ関数\n",
    "lower_three2 = lambda x: x * 2 if x < 3 else x/3 + 5\n",
    "```\n",
    "このように書くことができます。三項演算子の表記は以下のようになっています。\n",
    "```python\n",
    "条件を満たす時の処理 if 条件 else 条件を満たさない時の処理\n",
    "```\n",
    "このように、lambda以外にも様々な場面でコードの節約をすることができます。"
   ]
  },
  {
   "cell_type": "markdown",
   "metadata": {},
   "source": [
    "#### 問題"
   ]
  },
  {
   "cell_type": "markdown",
   "metadata": {
    "id": "question"
   },
   "source": [
    "lambdaを用いて以下の関数を作成し、引数$a$に対する返り値を出力して下さい。\n",
    "- $a$が10以上30未満ならば$a^2 - 40a + 350$を、それ以外なら$50$を返す関数`func5`"
   ]
  },
  {
   "cell_type": "code",
   "execution_count": null,
   "metadata": {
    "id": "index"
   },
   "outputs": [],
   "source": [
    "# 代入する引数a1, a2\n",
    "a1 = 13\n",
    "a2 = 32\n",
    "\n",
    "# lambdaを用いてfunc5を作成して下さい\n",
    "\n",
    "\n",
    "# 返り値の出力\n",
    "print(func5(a1))\n",
    "print(func5(a2))"
   ]
  },
  {
   "cell_type": "markdown",
   "metadata": {},
   "source": [
    "#### ヒント"
   ]
  },
  {
   "cell_type": "markdown",
   "metadata": {
    "id": "hint"
   },
   "source": [
    "- 三項演算子を使います。\n",
    "```python\n",
    "    func = lambda 引数 : 条件を満たす時の処理 if 条件 else 条件を満たさない時の処理\n",
    "```"
   ]
  },
  {
   "cell_type": "markdown",
   "metadata": {},
   "source": [
    "#### 解答例"
   ]
  },
  {
   "cell_type": "code",
   "execution_count": null,
   "metadata": {
    "id": "answer"
   },
   "outputs": [],
   "source": [
    "# 代入する引数a1, a2\n",
    "a1 = 13\n",
    "a2 = 32\n",
    "\n",
    "# lambdaを用いてfunc5を作成して下さい\n",
    "func5 = lambda x: x**2 - 40*x + 350 if x >= 10 and x < 30 else 50\n",
    "\n",
    "# 返り値の出力\n",
    "print(func5(a1))\n",
    "print(func5(a2))"
   ]
  },
  {
   "cell_type": "markdown",
   "metadata": {},
   "source": [
    "***"
   ]
  },
  {
   "cell_type": "markdown",
   "metadata": {
    "id": "section_name",
    "sectionId": "BJTl_RX-ebf"
   },
   "source": [
    "## 1.2 lambda式の利用"
   ]
  },
  {
   "cell_type": "markdown",
   "metadata": {
    "courseId": 4050,
    "exerciseId": "Hy7IYnIoLlz",
    "id": "code_session_name",
    "important": true,
    "isDL": false,
    "timeoutSecs": 5
   },
   "source": [
    "### 1.2.1 listの分割（split）"
   ]
  },
  {
   "cell_type": "markdown",
   "metadata": {
    "id": "description"
   },
   "source": [
    "文字列を空白やスラッシュなどで切り分けたいときには、`split`関数を使います。\n",
    "例えば下記のように英文を空白で区切って単語のリストにすることができます。\n",
    "```python\n",
    "# 切り分けたい文字列\n",
    "test_sentence = \"this is a test sentence.\"\n",
    "# splitでリストにする\n",
    "test_sentence.split(\" \")\n",
    "# 出力結果\n",
    "[\"this\", \"is\", \"a\", \"test\", \"sentence.\"] \n",
    "```\n",
    "***\n",
    "`split`の使い方は\n",
    "```python\n",
    "切り分けたい文字列.split(\"区切る記号\", 区切る回数)\n",
    "```\n",
    "となっており、区切る回数を指定することで先頭から何回区切るかを指定することができます。"
   ]
  },
  {
   "cell_type": "markdown",
   "metadata": {},
   "source": [
    "#### 問題"
   ]
  },
  {
   "cell_type": "markdown",
   "metadata": {
    "id": "question"
   },
   "source": [
    "- `\"My name is ○○\"` という構造を持っている文字列`self_data`を切り分け、 `\"○○\"` の部分を抜き出して出力して下さい。"
   ]
  },
  {
   "cell_type": "code",
   "execution_count": 5,
   "metadata": {
    "id": "index"
   },
   "outputs": [
    {
     "name": "stdout",
     "output_type": "stream",
     "text": [
      "Yamada\n"
     ]
    }
   ],
   "source": [
    "# 自己紹介文が入っている文字列self_data\n",
    "self_data = \"My name is Yamada\"\n",
    "\n",
    "# self_dataを切り分けて、listを作成して下さい。\n",
    "contexts = self_data.split(\" \")\n",
    "\n",
    "# \"○○\"の部分を出力して下さい。\n",
    "print(contexts[len(contexts ) - 1])"
   ]
  },
  {
   "cell_type": "markdown",
   "metadata": {},
   "source": [
    "#### ヒント"
   ]
  },
  {
   "cell_type": "markdown",
   "metadata": {
    "id": "hint"
   },
   "source": [
    "- 空白で切り分ける必要があるため、`split`関数を使います。\n",
    "- `split`で切り分けられた文字列は`list`で返されます。"
   ]
  },
  {
   "cell_type": "markdown",
   "metadata": {},
   "source": [
    "#### 解答"
   ]
  },
  {
   "cell_type": "code",
   "execution_count": 6,
   "metadata": {
    "id": "answer"
   },
   "outputs": [
    {
     "name": "stdout",
     "output_type": "stream",
     "text": [
      "Yamada\n"
     ]
    }
   ],
   "source": [
    "# 自己紹介文が入っている文字列self_data\n",
    "self_data = \"My name is Yamada\"\n",
    "\n",
    "# self_dataを切り分けて、listを作成して下さい。\n",
    "word_list = self_data.split(\" \")\n",
    "\n",
    "# \"○○\"の部分を出力して下さい。\n",
    "print(word_list[3])"
   ]
  },
  {
   "cell_type": "markdown",
   "metadata": {},
   "source": [
    "***"
   ]
  },
  {
   "cell_type": "markdown",
   "metadata": {
    "courseId": 4050,
    "exerciseId": "B1sWMjqgz",
    "heading_collapsed": true,
    "id": "code_session_name",
    "important": false,
    "isDL": false,
    "timeoutSecs": 5
   },
   "source": [
    "### 1.2.2 listの分割（re.split）"
   ]
  },
  {
   "cell_type": "markdown",
   "metadata": {
    "hidden": true,
    "id": "description"
   },
   "source": [
    "標準の`split`関数では一度に複数の記号で切り分けることができません。一度に複数の記号で文字列を切り分ける際には`re`モジュールの`re.split`関数を用います。\n",
    "```python\n",
    "# reモジュールのインポート\n",
    "import re\n",
    "# 切り分けたい文字列\n",
    "test_sentence = \"this,is a.test,sentence\"\n",
    "# \",\"と\" \"と\".\"で切り分け、リストにする\n",
    "re.split(\"[, .]\", test_sentence)\n",
    "# 出力結果\n",
    "[\"this\", \"is\", \"a\", \"test\", \"sentence\"]\n",
    "```\n",
    "***\n",
    "`re.split`の使い方は\n",
    "```python\n",
    "re.split(\"[区切る記号]\", 区切りたい文字列)\n",
    "```\n",
    "となっており、(区切る記号)の部分に上記のように複数指定することで、一度に複数の記号で切り分けられます。"
   ]
  },
  {
   "cell_type": "markdown",
   "metadata": {
    "hidden": true
   },
   "source": [
    "#### 問題"
   ]
  },
  {
   "cell_type": "markdown",
   "metadata": {
    "hidden": true,
    "id": "question"
   },
   "source": [
    "- `\"年/月/日_時:分\"`という構造を持っている文字列`time_data`を切り分け、\"月\"の部分と\"時\"の部分を抜き出して出力して下さい。"
   ]
  },
  {
   "cell_type": "code",
   "execution_count": 7,
   "metadata": {
    "hidden": true,
    "id": "index"
   },
   "outputs": [
    {
     "name": "stdout",
     "output_type": "stream",
     "text": [
      "月4 -　時22\n"
     ]
    }
   ],
   "source": [
    "import re\n",
    "# 時間データが入っている文字列time_data\n",
    "time_data = \"2017/4/1_22:15\"\n",
    "\n",
    "# time_dataを切り分けて、listを作成して下さい。\n",
    "contexts = re.split(\"[/_:]\", time_data)\n",
    "# \"月\"と\"時\"の部分を出力して下さい。\n",
    "print(\"月{0} -　時{1}\".format(contexts[1], contexts[3]))\n"
   ]
  },
  {
   "cell_type": "markdown",
   "metadata": {
    "hidden": true
   },
   "source": [
    "#### ヒント"
   ]
  },
  {
   "cell_type": "markdown",
   "metadata": {
    "hidden": true,
    "id": "hint"
   },
   "source": [
    "- `\"/\"`と`\"_\"`と`\":\"`で切り分ける必要があるため、`re.split`関数を使います。\n",
    "- `re.split`で切り分けられた文字列は`list`で返されます。"
   ]
  },
  {
   "cell_type": "markdown",
   "metadata": {
    "hidden": true
   },
   "source": [
    "#### 解答"
   ]
  },
  {
   "cell_type": "code",
   "execution_count": null,
   "metadata": {
    "hidden": true,
    "id": "answer"
   },
   "outputs": [],
   "source": [
    "import re\n",
    "# 時間データが入っている文字列time_data\n",
    "time_data = \"2017/4/1_22:15\"\n",
    "\n",
    "# time_dataを切り分けて、listを作成して下さい。\n",
    "time_list = re.split(\"[/_:]\",time_data)\n",
    "\n",
    "# \"月\"と\"時\"の部分を出力して下さい。\n",
    "print(time_list[1])\n",
    "print(time_list[3])"
   ]
  },
  {
   "cell_type": "markdown",
   "metadata": {
    "hidden": true
   },
   "source": [
    "***"
   ]
  },
  {
   "cell_type": "markdown",
   "metadata": {
    "courseId": 4050,
    "exerciseId": "HJVLK38oLlM",
    "id": "code_session_name",
    "important": true,
    "isDL": false,
    "timeoutSecs": 5
   },
   "source": [
    "### 1.2.3 高階関数（map）"
   ]
  },
  {
   "cell_type": "markdown",
   "metadata": {
    "id": "description"
   },
   "source": [
    "Pythonの関数の中には、他の関数を引数とする関数があります。そのような関数を **高階関数** とよびます。`list`の各要素に関数を適用したい場合は、`map`関数を用います。<br>\n",
    "例えば`a = [1, -2, 3, -4, 5]`という配列の各要素の絶対値を取るには`for`ループを用いて\n",
    "```python\n",
    "# forループで関数適用\n",
    "new = []\n",
    "for x in a:\n",
    "    new.append(abs(x))\n",
    "```\n",
    "と書けますが、`map`を用いることで\n",
    "```python\n",
    "# mapで関数適用\n",
    "list(map(abs, a))\n",
    "# 出力結果\n",
    "[1, 2, 3, 4, 5]\n",
    "```\n",
    "と簡潔に書くことができます。\n",
    "***\n",
    "`map`の使い方は\n",
    "```python\n",
    "# イテレータ(計算の方法を格納)を返す 計算はしない\n",
    "map(適用したい関数, 配列)\n",
    "\n",
    "# listに格納する方法\n",
    "list(map(関数, 配列))\n",
    "```\n",
    "となります。<br>\n",
    "ここで、イテレータとは複数の要素を順番に取り出す機能をもったクラスを指します。\n",
    "この要素を順番に取り出す機能を使うことで`for`ループを用いる場合より実行時間を短くすることができるので、膨大な要素を持つ配列に関数を適用させたい場合は`map`関数を用いるようにしましょう。"
   ]
  },
  {
   "cell_type": "markdown",
   "metadata": {},
   "source": [
    "#### 問題"
   ]
  },
  {
   "cell_type": "markdown",
   "metadata": {
    "id": "question"
   },
   "source": [
    "- `\"年/月/日_時:分\"`という構造を持っている文字列を要素に持つ配列`time_list`を切り分け、\"時\"の部分を整数として配列にまとめ、出力して下さい。"
   ]
  },
  {
   "cell_type": "code",
   "execution_count": 10,
   "metadata": {
    "id": "index"
   },
   "outputs": [
    {
     "name": "stdout",
     "output_type": "stream",
     "text": [
      "[2, 23, 14, 7, 22]\n"
     ]
    }
   ],
   "source": [
    "import re\n",
    "# 配列time_list\n",
    "time_list = [\n",
    "    \"2006/11/26_2:40\",\n",
    "    \"2009/1/16_23:35\",\n",
    "    \"2014/5/4_14:26\",\n",
    "    \"2017/8/9_7:5\",\n",
    "    \"2017/4/1_22:15\"\n",
    "]\n",
    "# 文字列から\"時\"を取り出す関数を作成して下さい\n",
    "def convert(item):\n",
    "    return int(re.split(\"[/_:]\", item)[3])\n",
    "\n",
    "# 上で作った関数を用いて各要素の\"時\"を取り出し、配列にして下さい\n",
    "result = list(map(convert,  time_list))\n",
    "\n",
    "print(result)\n",
    "# 出力して下さい\n"
   ]
  },
  {
   "cell_type": "markdown",
   "metadata": {},
   "source": [
    "#### ヒント"
   ]
  },
  {
   "cell_type": "markdown",
   "metadata": {
    "id": "hint"
   },
   "source": [
    "- 文字列から`\"時\"`を切り分ける関数は **listの分割（re.split）** を参考にして下さい。\n",
    "```python\n",
    "list(map(関数, 配列))\n",
    "```\n",
    "\n",
    "- 切り分けただけではデータ型は文字列になってしまうので、`int()` を用いて型を変更しましょう。"
   ]
  },
  {
   "cell_type": "markdown",
   "metadata": {},
   "source": [
    "#### 解答例"
   ]
  },
  {
   "cell_type": "code",
   "execution_count": null,
   "metadata": {
    "id": "answer"
   },
   "outputs": [],
   "source": [
    "import re\n",
    "# 配列time_list\n",
    "time_list = [\n",
    "    \"2006/11/26_2:40\",\n",
    "    \"2009/1/16_23:35\",\n",
    "    \"2014/5/4_14:26\",\n",
    "    \"2017/8/9_7:5\",\n",
    "    \"2017/4/1_22:15\"\n",
    "]\n",
    "# 文字列から\"時\"を取り出す関数を作成して下さい\n",
    "get_hour = lambda x: int(re.split(\"[/_:]\",x)[3]) # int()でstring型をint型に替える\n",
    "\n",
    "# 各要素の\"時\"を取り出して配列にして下さい\n",
    "hour_list = list(map(get_hour, time_list))\n",
    "\n",
    "# 出力して下さい\n",
    "print(hour_list)"
   ]
  },
  {
   "cell_type": "markdown",
   "metadata": {},
   "source": [
    "***"
   ]
  },
  {
   "cell_type": "markdown",
   "metadata": {
    "courseId": 4050,
    "exerciseId": "BJr8FhIjIxG",
    "id": "code_session_name",
    "important": true,
    "isDL": false,
    "timeoutSecs": 5
   },
   "source": [
    "### 1.2.4 filter"
   ]
  },
  {
   "cell_type": "markdown",
   "metadata": {
    "id": "description"
   },
   "source": [
    "listの各要素から条件を満たす要素だけを取り出したいときは`filter`関数を用います。<br>\n",
    "例えば`a = [1, -2, 3, -4, 5]`という配列から正の要素を取り出すには`for`ループを用いて\n",
    "```python\n",
    "# forループでフィルタリング\n",
    "new = []\n",
    "for x in a:\n",
    "    if x > 0:\n",
    "        new.append(x)\n",
    "```\n",
    "と書けますが、`filter`を用いることで\n",
    "```python\n",
    "# filterでフィルタリング\n",
    "list(filter(lambda x: x>0, a))\n",
    "# 出力結果\n",
    "[1, 3, 5]\n",
    "```\n",
    "と書くことができます。\n",
    "***\n",
    "`filter`の使い方は\n",
    "```python\n",
    "# イテレータ\n",
    "filter(条件となる関数, 配列)\n",
    "\n",
    "# listに格納\n",
    "list(filter(関数, 配列))\n",
    "```\n",
    "となります。ここで（条件となる関数）というのは、`lambda x: x>0` のように入力に対して`True/False`を返す関数のことをいいます。"
   ]
  },
  {
   "cell_type": "markdown",
   "metadata": {},
   "source": [
    "#### 問題"
   ]
  },
  {
   "cell_type": "markdown",
   "metadata": {
    "id": "question"
   },
   "source": [
    "- `time_list`内の`\"月\"`の部分が1以上から6以下となっている要素を抜き出し、配列にして出力して下さい。"
   ]
  },
  {
   "cell_type": "code",
   "execution_count": 19,
   "metadata": {
    "id": "index"
   },
   "outputs": [
    {
     "name": "stdout",
     "output_type": "stream",
     "text": [
      "['2009/1/16_23:35', '2014/5/4_14:26', '2017/4/1_22:15']\n"
     ]
    }
   ],
   "source": [
    "import re\n",
    "# time_list...\"年/月/日_時:分\"\n",
    "time_list = [\n",
    "    \"2006/11/26_2:40\",\n",
    "    \"2009/1/16_23:35\",\n",
    "    \"2014/5/4_14:26\",\n",
    "    \"2017/8/9_7:5\",\n",
    "    \"2017/4/1_22:15\"\n",
    "]\n",
    "# 文字列の\"月\"が条件を満たすときにTrueを返す関数を作成して下さい\n",
    "func = lambda t: int(re.split(\"[/_:]\", t)[1]) <= 6\n",
    "\n",
    "# 上で作った関数を用いて条件を満たす要素を抜き出し、配列にして下さい\n",
    "result = list(filter(func, time_list))\n",
    "\n",
    "# 出力して下さい\n",
    "print(result)"
   ]
  },
  {
   "cell_type": "markdown",
   "metadata": {},
   "source": [
    "#### ヒント"
   ]
  },
  {
   "cell_type": "markdown",
   "metadata": {
    "id": "hint"
   },
   "source": [
    "- `\"月\"`は`re.split`によって取得して下さい。"
   ]
  },
  {
   "cell_type": "markdown",
   "metadata": {},
   "source": [
    "#### 解答例"
   ]
  },
  {
   "cell_type": "code",
   "execution_count": null,
   "metadata": {
    "id": "answer"
   },
   "outputs": [],
   "source": [
    "import re\n",
    "# time_list...\"年/月/日_時:分\"\n",
    "time_list = [\n",
    "    \"2006/11/26_2:40\",\n",
    "    \"2009/1/16_23:35\",\n",
    "    \"2014/5/4_14:26\",\n",
    "    \"2017/8/9_7:5\",\n",
    "    \"2017/4/1_22:15\"\n",
    "]\n",
    "# 文字列の\"月\"が条件を満たすときにTrueを返す関数を作成して下さい\n",
    "is_first_half = lambda x: int(re.split(\"[/_:]\", x)[1]) - 7 < 0\n",
    "\n",
    "# 上で作った関数を用いて条件を満たす要素を抜き出し、配列にして下さい\n",
    "first_half_list = list(filter(is_first_half, time_list))\n",
    "\n",
    "# 出力して下さい\n",
    "print(first_half_list)"
   ]
  },
  {
   "cell_type": "markdown",
   "metadata": {},
   "source": [
    "***"
   ]
  },
  {
   "cell_type": "markdown",
   "metadata": {
    "courseId": 4050,
    "exerciseId": "rJUIYh8iIez",
    "id": "code_session_name",
    "important": false,
    "isDL": false,
    "timeoutSecs": 5
   },
   "source": [
    "### 1.2.5 sorted"
   ]
  },
  {
   "cell_type": "markdown",
   "metadata": {
    "id": "description"
   },
   "source": [
    "`list`をソートするには`sort`関数がありますが、より複雑な条件でソートをしたい時には`sorted`関数を使います。\n",
    "\n",
    "例えば要素数2の配列を要素に持つ配列(入れ子の配列)について各要素中の第二要素が昇順になるようにソートをかけたければ\n",
    "```python\n",
    "# 入れ子の配列\n",
    "nest_list = [\n",
    "    [0, 9],\n",
    "    [1, 8],\n",
    "    [2, 7],\n",
    "    [3, 6],\n",
    "    [4, 5]\n",
    "]\n",
    "# 第二要素をキーとしてソート\n",
    "sorted(nest_list, key=lambda x: x[1])\n",
    "# 出力結果\n",
    "[[4, 5], [3, 6], [2, 7], [1, 8], [0, 9]]\n",
    "```\n",
    "とします。\n",
    "***\n",
    "`sorted`の使い方は\n",
    "```python\n",
    "# キーを設定してソート\n",
    "sorted(ソートしたい配列, key=キーとなる関数, reverse=True または False)\n",
    "```\n",
    "となります。ここでの（キーとなる関数）とは何を昇順にソートするかのことで、`lambda x: x[n]`とすることで第`n`要素を昇順にソートすることができます。`reverse`を`True`にすることで降順にソートできます。"
   ]
  },
  {
   "cell_type": "markdown",
   "metadata": {},
   "source": [
    "#### 問題"
   ]
  },
  {
   "cell_type": "markdown",
   "metadata": {
    "id": "question"
   },
   "source": [
    "- `\"時\"`の部分が昇順になるように`time_data`をソートし、出力して下さい。\n",
    "- `time_data`は`time_list`を`[年, 月, 日, 時, 分]`に分割した配列です。"
   ]
  },
  {
   "cell_type": "code",
   "execution_count": 21,
   "metadata": {
    "id": "index"
   },
   "outputs": [
    {
     "name": "stdout",
     "output_type": "stream",
     "text": [
      "[[2006, 11, 26, 2, 40], [2017, 8, 9, 7, 5], [2014, 5, 4, 14, 26], [2017, 4, 1, 22, 15], [2009, 1, 16, 23, 35]]\n"
     ]
    }
   ],
   "source": [
    "# time_data...[年, 月, 日, 時, 分]\n",
    "time_data = [\n",
    "    [2006, 11, 26,  2, 40],\n",
    "    [2009,  1, 16, 23, 35],\n",
    "    [2014,  5,  4, 14, 26],\n",
    "    [2017,  8,  9,  7,  5],\n",
    "    [2017,  4,  1, 22, 15]\n",
    "]\n",
    "# \"時\"をキーとしてソートし、配列にして下さい\n",
    "result = sorted(time_data, key=lambda x: x[3], reverse=False)\n",
    "\n",
    "# 出力して下さい\n",
    "print(result)"
   ]
  },
  {
   "cell_type": "markdown",
   "metadata": {},
   "source": [
    "#### ヒント"
   ]
  },
  {
   "cell_type": "markdown",
   "metadata": {
    "id": "hint"
   },
   "source": [
    "- ソートには `sorted` を使いましょう。\n",
    "```python\n",
    "ソートされた配列 = sorted(ソートしたい配列, key=lambda)\n",
    "```"
   ]
  },
  {
   "cell_type": "markdown",
   "metadata": {},
   "source": [
    "#### 解答例"
   ]
  },
  {
   "cell_type": "code",
   "execution_count": null,
   "metadata": {
    "id": "answer"
   },
   "outputs": [],
   "source": [
    "# time_data...[年, 月, 日, 時, 分]\n",
    "time_data = [\n",
    "    [2006, 11, 26,  2, 40],\n",
    "    [2009,  1, 16, 23, 35],\n",
    "    [2014,  5,  4, 14, 26],\n",
    "    [2017,  8,  9,  7,  5],\n",
    "    [2017,  4,  1, 22, 15]\n",
    "]\n",
    "# \"時\"をキーとしてソートし、配列にして下さい\n",
    "sort_by_time = sorted(time_data, key=lambda x: x[3])\n",
    "\n",
    "# 出力して下さい\n",
    "print(sort_by_time)"
   ]
  },
  {
   "cell_type": "markdown",
   "metadata": {},
   "source": [
    "***"
   ]
  },
  {
   "cell_type": "markdown",
   "metadata": {
    "id": "section_name",
    "sectionId": "HkRluAX-gbf"
   },
   "source": [
    "## 1.3 リスト内包表記"
   ]
  },
  {
   "cell_type": "markdown",
   "metadata": {
    "courseId": 4050,
    "exerciseId": "BkvLK28jLlz",
    "id": "code_session_name",
    "important": true,
    "isDL": false,
    "timeoutSecs": 5
   },
   "source": [
    "### 1.3.1 リストの生成"
   ]
  },
  {
   "cell_type": "markdown",
   "metadata": {
    "id": "description"
   },
   "source": [
    "**高階関数（map）** では`map`を用いた配列の生成方法を紹介しましたが、`map`は本来イテレータの作成に特化しており、`list`関数で配列にする時点で計算時間が増えてしまいます。\n",
    "\n",
    "そのため`map`と同様の手法で単純に配列を生成したいのであれば`for`ループの **リスト内包表記** を用います。<br>\n",
    "例えば`a = [1, -2, 3, -4, 5]`という配列の各要素の絶対値を取るには\n",
    "```python\n",
    "# リスト内包表記で各要素の絶対値をとる\n",
    "[abs(x) for x in a]\n",
    "# 出力結果\n",
    "[1, 2, 3, 4, 5]\n",
    "```\n",
    "と書くことができます。リスト内包表記によって\n",
    "```python\n",
    "# mapでlist作成\n",
    "list(map(abs, a))\n",
    "# 出力結果\n",
    "[1, 2, 3, 4, 5]\n",
    "```\n",
    "とした場合よりも括弧の数を見て簡潔に書けているといえます。\n",
    "***\n",
    "リスト内包表記による配列の作成方法は\n",
    "```python\n",
    "[適用したい関数(要素) for 要素 in 適用する元の配列]\n",
    "```\n",
    "となります。\n",
    "\n",
    "イテレータを作成する際は`map`、直接配列が欲しい時はリスト内包表記と、使い分けるといいでしょう。"
   ]
  },
  {
   "cell_type": "markdown",
   "metadata": {},
   "source": [
    "#### 問題"
   ]
  },
  {
   "cell_type": "markdown",
   "metadata": {
    "id": "question"
   },
   "source": [
    "- 計測時間(分)を要素に持つ配列`minute_data`について、経過時間を[時, 分]に換算した配列を作成し、出力して下さい。\n",
    "- 例えば`minute_data = [75, 120, 14]`なら、<br>`[[1, 15], [2, 0], [0, 14]]`という配列を作成します。"
   ]
  },
  {
   "cell_type": "code",
   "execution_count": 23,
   "metadata": {
    "id": "index"
   },
   "outputs": [
    {
     "name": "stdout",
     "output_type": "stream",
     "text": [
      "[[0, 30], [2, 35], [3, 0], [1, 14], [0, 11], [1, 0], [1, 22]]\n"
     ]
    }
   ],
   "source": [
    "# minute_data、単位は分\n",
    "minute_data = [30, 155, 180, 74, 11, 60, 82]\n",
    "\n",
    "# 分を[時, 分]に換算する関数を作成して下さい\n",
    "def convert(minutes):\n",
    "    return  [minutes // 60,  minutes % 60 ]\n",
    "\n",
    "# リスト内包表記を用いて所定の配列を作成して下さい\n",
    "result = [convert(item) for item in minute_data]\n",
    "\n",
    "# 出力して下さい\n",
    "print(result)"
   ]
  },
  {
   "cell_type": "markdown",
   "metadata": {},
   "source": [
    "#### ヒント"
   ]
  },
  {
   "cell_type": "markdown",
   "metadata": {
    "id": "hint"
   },
   "source": [
    "- 換算する関数の返り値は配列にしましょう。\n",
    "- 75分は60で割ると1あまり15。 よって75分は1時間15分。 これを`lambda`で表現します。"
   ]
  },
  {
   "cell_type": "markdown",
   "metadata": {},
   "source": [
    "#### 解答"
   ]
  },
  {
   "cell_type": "code",
   "execution_count": null,
   "metadata": {
    "id": "answer"
   },
   "outputs": [],
   "source": [
    "# minute_data、単位は分\n",
    "minute_data = [30, 155, 180, 74, 11, 60, 82]\n",
    "\n",
    "# 分を[時, 分]に換算する関数を作成して下さい\n",
    "h_m_split = lambda x: [x // 60, x % 60]\n",
    "\n",
    "# リスト内包表記を用いて所定の配列を作成して下さい\n",
    "h_m_data = [h_m_split(x) for x in minute_data]\n",
    "\n",
    "# 出力して下さい\n",
    "print(h_m_data)"
   ]
  },
  {
   "cell_type": "markdown",
   "metadata": {},
   "source": [
    "***"
   ]
  },
  {
   "cell_type": "markdown",
   "metadata": {
    "courseId": 4050,
    "exerciseId": "B1u8Kn8sIgG",
    "id": "code_session_name",
    "important": false,
    "isDL": false,
    "timeoutSecs": 5
   },
   "source": [
    "### 1.3.2 if文を用いたループ"
   ]
  },
  {
   "cell_type": "markdown",
   "metadata": {
    "id": "description"
   },
   "source": [
    "リスト内包表記の中に条件分岐をさせることで、`filter`関数と同様の操作をすることができます。<br>\n",
    "例えば`a = [1, -2, 3, -4, 5]`という配列から正の要素を取り出すには\n",
    "```python\n",
    "# リスト内包表記フィルタリング(後置if)\n",
    "[x for x in a if x > 0]\n",
    "# 出力結果\n",
    "[1, 3, 5]\n",
    "```\n",
    "と書けます。後置`if`の使い方は\n",
    "```python\n",
    "[適用したい関数(要素) for 要素 in フィルタリングしたい配列 if 条件]\n",
    "```\n",
    "となります。単に条件を満たす要素を取り出したいだけなら、（適用したい関数(要素)）の部分を単に（要素）と書きます。\n",
    "\n",
    "この書き方は **ifを用いたlambda** で紹介した **三項演算子** とは別物なので、注意しましょう。<br>\n",
    "三項演算子を用いると条件を満たさない要素についても何かしらの処理をするのに対し、`if`を後置することで条件を満たさない要素を無視することができます。"
   ]
  },
  {
   "cell_type": "markdown",
   "metadata": {},
   "source": [
    "#### 問題"
   ]
  },
  {
   "cell_type": "markdown",
   "metadata": {
    "id": "question"
   },
   "source": [
    "- `minute_data`を[時, 分]に換算した際に[時, 0]となる、つまり分の端数が出ない要素を抜き出して配列にし、出力して下さい。\n",
    "- 例えば`minute_data = [75, 120, 14]`なら、<br>`[120]`という配列を作成します。"
   ]
  },
  {
   "cell_type": "code",
   "execution_count": 24,
   "metadata": {
    "id": "index"
   },
   "outputs": [
    {
     "name": "stdout",
     "output_type": "stream",
     "text": [
      "[180, 60]\n"
     ]
    }
   ],
   "source": [
    "# minute_data、単位は分\n",
    "minute_data = [30, 155, 180, 74, 11, 60, 82]\n",
    "\n",
    "# リスト内包表記を用いて所定の配列を作成して下さい\n",
    "result = [x for x in minute_data if x % 60 == 0 ]\n",
    "\n",
    "# 出力して下さい\n",
    "print(result)"
   ]
  },
  {
   "cell_type": "markdown",
   "metadata": {},
   "source": [
    "#### ヒント"
   ]
  },
  {
   "cell_type": "markdown",
   "metadata": {
    "id": "hint"
   },
   "source": [
    "- 60で割ったあまりが0となる数でフィルタリングします。 "
   ]
  },
  {
   "cell_type": "markdown",
   "metadata": {},
   "source": [
    "#### 解答例"
   ]
  },
  {
   "cell_type": "code",
   "execution_count": null,
   "metadata": {
    "id": "answer"
   },
   "outputs": [],
   "source": [
    "# minute_data、単位は分\n",
    "minute_data = [30, 155, 180, 74, 11, 60, 82]\n",
    "\n",
    "# リスト内包表記を用いて所定の配列を作成して下さい\n",
    "just_hour_data = [x for x in minute_data if x % 60 == 0 ]\n",
    "\n",
    "# 出力して下さい\n",
    "print(just_hour_data)"
   ]
  },
  {
   "cell_type": "markdown",
   "metadata": {},
   "source": [
    "***"
   ]
  },
  {
   "cell_type": "markdown",
   "metadata": {
    "courseId": 4050,
    "exerciseId": "rJK8t3UjLgM",
    "id": "code_session_name",
    "important": false,
    "isDL": false,
    "timeoutSecs": 5
   },
   "source": [
    "### 1.3.3 複数配列の同時ループ"
   ]
  },
  {
   "cell_type": "markdown",
   "metadata": {
    "id": "description"
   },
   "source": [
    "複数の配列を並列にループさせたいときは`zip`関数を用います。<br>\n",
    "例えば`a =[1, -2, 3, -4, 5], b = [9, 8, -7, -6, -5]`という配列を同時にループさせるには\n",
    "```python\n",
    "# zipを用いた並列ループ\n",
    "for x, y in zip(a, b):\n",
    "    print(x, y)\n",
    "# 出力結果\n",
    "1 9\n",
    "-2 8\n",
    "3 -7\n",
    "-4 -6\n",
    "5 -5\n",
    "```\n",
    "とします。\n",
    "\n",
    "リスト内包表記でも同様に`zip`を用いて複数の配列を並列に処理することができます。\n",
    "```python\n",
    "# リスト内包表記で並列に処理\n",
    "[x**2 + y**2 for x, y in zip(a, b)]\n",
    "# 出力結果\n",
    "[82, 68, 58, 52, 50]\n",
    "```"
   ]
  },
  {
   "cell_type": "markdown",
   "metadata": {},
   "source": [
    "#### 問題"
   ]
  },
  {
   "cell_type": "markdown",
   "metadata": {
    "id": "question"
   },
   "source": [
    "- `hour`と`minute`の配列から、分換算した値の配列を作成して出力して下さい。\n",
    "- **リストの作成** の問題で行ったことと逆の操作をします。"
   ]
  },
  {
   "cell_type": "code",
   "execution_count": 29,
   "metadata": {
    "id": "index"
   },
   "outputs": [
    {
     "name": "stdout",
     "output_type": "stream",
     "text": [
      "[30, 155, 180, 74, 11, 60, 82]\n"
     ]
    }
   ],
   "source": [
    "# 時間データhour, 分データminute\n",
    "hour = [0, 2, 3, 1, 0, 1, 1]\n",
    "minute = [30, 35, 0, 14, 11, 0, 22]\n",
    "\n",
    "# 時, 分を引数に、分に換算する関数を作成して下さい\n",
    "converter =lambda h, m: h * 60 + m\n",
    "\n",
    "# リスト内包表記を用いて所定の配列を作成してください\n",
    "result = [converter(h, m) for h, m in zip (hour, minute)]\n",
    "\n",
    "# 出力して下さい\n",
    "print (result)"
   ]
  },
  {
   "cell_type": "markdown",
   "metadata": {},
   "source": [
    "#### ヒント"
   ]
  },
  {
   "cell_type": "markdown",
   "metadata": {
    "id": "hint"
   },
   "source": [
    "- 引数が２つの関数は\n",
    "```python\n",
    "lambda x, y: 返り値\n",
    "```\n",
    "- 分に換算するには 時×60 + 分 を計算します。"
   ]
  },
  {
   "cell_type": "markdown",
   "metadata": {},
   "source": [
    "#### 解答例"
   ]
  },
  {
   "cell_type": "code",
   "execution_count": null,
   "metadata": {
    "id": "answer"
   },
   "outputs": [],
   "source": [
    "# 時間データhour, 分データminute\n",
    "hour = [0, 2, 3, 1, 0, 1, 1]\n",
    "minute = [30, 35, 0, 14, 11, 0, 22]\n",
    "\n",
    "# 時, 分を引数に、分に換算する関数を作成して下さい\n",
    "h_m_combine = lambda x, y: x*60 + y\n",
    "\n",
    "# リスト内包表記を用いて所定の配列を作成してください\n",
    "minute_data1 = [h_m_combine(x, y) for x, y in zip(hour, minute)]\n",
    "\n",
    "# 出力して下さい\n",
    "print(minute_data1)"
   ]
  },
  {
   "cell_type": "markdown",
   "metadata": {},
   "source": [
    "***"
   ]
  },
  {
   "cell_type": "markdown",
   "metadata": {
    "courseId": 4050,
    "exerciseId": "HJ9LK2IjLlM",
    "id": "code_session_name",
    "important": false,
    "isDL": false,
    "timeoutSecs": 5
   },
   "source": [
    "### 1.3.4 多重ループ"
   ]
  },
  {
   "cell_type": "markdown",
   "metadata": {
    "id": "description"
   },
   "source": [
    "同時にループするには`zip`を用いましたが、ループ中にループをするには\n",
    "```python\n",
    "a =[1, -2, 3]\n",
    "b = [9, 8]\n",
    "# 二重ループ\n",
    "for x in a:\n",
    "    for y in b:\n",
    "        print(x, y)\n",
    "# 出力結果\n",
    "1 9\n",
    "1 8\n",
    "-2 9\n",
    "-2 8\n",
    "3 9\n",
    "3 8\n",
    "```\n",
    "とします。リスト内包表記では\n",
    "```python\n",
    "# リスト内包表記で二重ループ\n",
    "[[x, y] for x in a for y in b]\n",
    "# 出力結果\n",
    "[[1, 9], [1, 8], [-2, 9], [-2, 8], [3, 9], [3, 8]]\n",
    "```\n",
    "と書きます。`for`文を単純に二回並べて書くことで二重ループになります。"
   ]
  },
  {
   "cell_type": "markdown",
   "metadata": {},
   "source": [
    "#### 問題"
   ]
  },
  {
   "cell_type": "markdown",
   "metadata": {
    "id": "question"
   },
   "source": [
    "- 二進数で３桁目を示す`fours_place`と２桁目を示す`twos_place`、１桁目を示す`ones_place`を用いて、十進数で0から7までの数を配列にして出力して下さい。\n",
    "- 例えば`fours_place = 1, twos_place = 0, ones_place = 1`ならば、これは二進数で`101`を意味するので十進数で`5`となります。"
   ]
  },
  {
   "cell_type": "code",
   "execution_count": 33,
   "metadata": {
    "id": "index"
   },
   "outputs": [
    {
     "name": "stdout",
     "output_type": "stream",
     "text": [
      "[0, 1, 2, 3, 4, 5, 6, 7]\n"
     ]
    }
   ],
   "source": [
    "# 二進数の桁\n",
    "fours_place = [0, 1]\n",
    "twos_place  = [0, 1]\n",
    "ones_place  = [0, 1]\n",
    "\n",
    "# リスト内包表記の多重ループを用いて0から7までの整数を計算し、配列にして下さい\n",
    "results = [ four*4 + two*2 + one for four in fours_place for two in twos_place for one in ones_place]\n",
    "#            results.append( \"{0}{1}{2}\".format(four, two, one))\n",
    "\n",
    "# 出力して下さい\n",
    "print(results)\n"
   ]
  },
  {
   "cell_type": "markdown",
   "metadata": {},
   "source": [
    "#### ヒント"
   ]
  },
  {
   "cell_type": "markdown",
   "metadata": {
    "id": "hint"
   },
   "source": [
    "- 十進数なら、<br>`(３桁目の数) * 10**2 + （２桁目の数） * 10 + （１桁目の数）`<br>\n",
    "二進数なら、上記の `*10**2`を ` *2**2`に、` *10`を ` *2`にすれば良いです。\n",
    "- `fours_place`と`twos_place`、`ones_place`の三重ループをつくります。"
   ]
  },
  {
   "cell_type": "markdown",
   "metadata": {},
   "source": [
    "#### 解答例"
   ]
  },
  {
   "cell_type": "code",
   "execution_count": 34,
   "metadata": {
    "id": "answer"
   },
   "outputs": [
    {
     "name": "stdout",
     "output_type": "stream",
     "text": [
      "[0, 1, 2, 3, 4, 5, 6, 7]\n"
     ]
    }
   ],
   "source": [
    "# 二進数の桁\n",
    "fours_place = [0, 1]\n",
    "twos_place  = [0, 1]\n",
    "ones_place  = [0, 1]\n",
    "\n",
    "# リスト内包表記の多重ループを用いて0から7までの整数を配列にして下さい\n",
    "digit = [x*4 + y*2 + z for x in fours_place for y in twos_place for z in ones_place]\n",
    "\n",
    "# 出力して下さい\n",
    "print(digit)"
   ]
  },
  {
   "cell_type": "markdown",
   "metadata": {},
   "source": [
    "***"
   ]
  },
  {
   "cell_type": "markdown",
   "metadata": {
    "id": "section_name",
    "sectionId": "By1ZOC7Zl-M"
   },
   "source": [
    "## 1.4 辞書オブジェクト"
   ]
  },
  {
   "cell_type": "markdown",
   "metadata": {
    "courseId": 4050,
    "exerciseId": "SJjUFhLiIxM",
    "id": "code_session_name",
    "important": false,
    "isDL": false,
    "timeoutSecs": 5
   },
   "source": [
    "### 1.4.1 defaultdict"
   ]
  },
  {
   "cell_type": "markdown",
   "metadata": {
    "id": "description"
   },
   "source": [
    "Pythonの辞書型のオブジェクトは新たなkeyを追加するために毎回そのkeyの初期化が必要になるため、面倒です。<br>\n",
    "例えばリストlstの要素をkey、同じ値を持つ要素の出現回数をvalueとして辞書に格納しようとすると、\n",
    "```python\n",
    "# 辞書に要素の出現回数を記録\n",
    "d = {}\n",
    "lst = [\"foo\", \"bar\", \"pop\", \"pop\", \"foo\", \"popo\"]\n",
    "for key in lst:\n",
    "    # dにkeyが存在するかしないかで場合分け\n",
    "    if key in d:\n",
    "        d[key] += 1\n",
    "    else:\n",
    "        d[key] = 1\n",
    "print(d)\n",
    "\n",
    "\"\"\"\n",
    "# 出力結果\n",
    "{'foo': 2, 'bar': 1, 'pop': 2, 'popo': 1}\n",
    "\"\"\"\n",
    "```\n",
    "とせねばならず、条件分岐が必要になります。\n",
    "\n",
    "そこで、`collections`モジュールの`defaultdict`クラスを用いることでこの問題を解決します。\n",
    "***\n",
    "`defaultdict`クラスは\n",
    "```python\n",
    "from collections import defaultdict\n",
    "\n",
    "d = defaultdict(valueの型)\n",
    "```\n",
    "として定義します。（valueの型）の部分には`int`や`list`を入れます。\n",
    "\n",
    "定義したオブジェクトは標準の辞書型オブジェクト同様に使えます。`defaultdict`で上記と同様の処理を書くと\n",
    "```python\n",
    "# 辞書に要素の出現回数を記録\n",
    "d = defaultdict(int)\n",
    "lst = [\"foo\", \"bar\", \"pop\", \"pop\", \"foo\", \"popo\"]\n",
    "for key in lst:\n",
    "    d[key] += 1\n",
    "print(d)\n",
    "\n",
    "\"\"\"\n",
    "# 出力結果\n",
    "defaultdict(< class 'int'>, {'foo': 2, 'bar': 1, 'pop': 2, 'popo': 1})\n",
    "\"\"\"\n",
    "```\n",
    "\n",
    "となり、条件分岐をせずとも要素の数え上げができていることがわかります。"
   ]
  },
  {
   "cell_type": "markdown",
   "metadata": {},
   "source": [
    "#### 問題"
   ]
  },
  {
   "cell_type": "markdown",
   "metadata": {
    "id": "question"
   },
   "source": [
    "- 以下の文字列`description`に出現する文字をkeyとし、その出現回数をvalueとした辞書を作成して下さい。辞書をvalueの降順にソートし、上位10要素を出力して下さい。\n",
    "- 辞書は`defaultdict`によって定義して下さい。"
   ]
  },
  {
   "cell_type": "code",
   "execution_count": 55,
   "metadata": {
    "id": "index"
   },
   "outputs": [
    {
     "name": "stdout",
     "output_type": "stream",
     "text": [
      "dict_items([('A', 2), ('r', 6), ('t', 10), ('i', 17), ('f', 1), ('c', 7), ('a', 11), ('l', 12), (' ', 20), ('n', 14), ('e', 18), ('g', 4), ('(', 2), ('I', 3), (',', 4), ('s', 5), ('o', 3), ('m', 4), ('h', 7), ('M', 1), (')', 2), ('x', 1), ('b', 2), ('d', 1), ('y', 1), ('u', 2), ('N', 1), ('.', 1)])\n",
      "[(' ', 20), ('e', 18), ('i', 17), ('n', 14), ('l', 12), ('a', 11), ('t', 10), ('c', 7), ('h', 7), ('r', 6)]\n"
     ]
    }
   ],
   "source": [
    "from collections import defaultdict \n",
    "# 文字列description\n",
    "description = \\\n",
    "\"Artificial intelligence (AI, also machine intelligence, MI) is \" + \\\n",
    "\"intelligence exhibited by machines, rather than \" + \\\n",
    "\"humans or other animals (natural intelligence, NI).\"\n",
    "\n",
    "# defaultdictを定義して下さい\n",
    "d = defaultdict(int)\n",
    "\n",
    "# 文字の出現回数を記録して下さい\n",
    "for i in description:\n",
    "    d[i] += 1\n",
    "print(d.items())\n",
    "# ソートし、上位10要素を出力して下さい\n",
    "print (sorted(d.items(), key= lambda x: x[1], reverse=True)[:10])"
   ]
  },
  {
   "cell_type": "markdown",
   "metadata": {},
   "source": [
    "#### ヒント"
   ]
  },
  {
   "cell_type": "markdown",
   "metadata": {
    "id": "hint"
   },
   "source": [
    "- `defaultdict`のvalueは`int`型です。\n",
    "- 文字列は一文字ずつループしましょう（空白も含みます）。\n",
    "- ソートをするために、`辞書.items()`で`(key, value)`の配列を取得します。\n",
    "- ソートは`sorted`関数を用いると楽です。今回は降順にソートするので `reverse` を `True` にしましょう。以下を用いて出力してください。\n",
    "```python\n",
    "sorted(辞書.items(), key=lambdaで配列の第二要素を指定, reverse=True)\n",
    "```"
   ]
  },
  {
   "cell_type": "markdown",
   "metadata": {},
   "source": [
    "#### 解答例"
   ]
  },
  {
   "cell_type": "code",
   "execution_count": 46,
   "metadata": {
    "id": "answer"
   },
   "outputs": [
    {
     "name": "stdout",
     "output_type": "stream",
     "text": [
      "[(' ', 20), ('e', 18), ('i', 17), ('n', 14), ('l', 12), ('a', 11), ('t', 10), ('c', 7), ('h', 7), ('r', 6)]\n",
      "[(' ', 20), ('e', 18), ('i', 17), ('n', 14), ('l', 12), ('a', 11), ('t', 10), ('c', 7), ('h', 7), ('r', 6)]\n"
     ]
    }
   ],
   "source": [
    "from collections import defaultdict \n",
    "# 文字列description\n",
    "description = \\\n",
    "\"Artificial intelligence (AI, also machine intelligence, MI) is \" + \\\n",
    "\"intelligence exhibited by machines, rather than \" + \\\n",
    "\"humans or other animals (natural intelligence, NI).\"\n",
    "\n",
    "# defaultdictを定義して下さい\n",
    "char_freq = defaultdict(int)\n",
    "\n",
    "# 文字の出現回数を記録して下さい\n",
    "for i in description:\n",
    "    char_freq[i] += 1\n",
    "    \n",
    "# ソートし、上位10要素を出力して下さい\n",
    "# sorted関数は、sorted(ソート対象、ソートに使うkey、ソートオプション）で呼び出します\n",
    "# ソートオプションはreverse=Trueで降順にしています。\n",
    "\n",
    "# ソートに使うkeyはitemsを指定して（アルファベット、出現回数）のリスト形式で取り出し、\n",
    "# lambdaで「リストの二番目」、つまり出現回数を、x[1]として指定しています\n",
    "\n",
    "# [:10]の部分はスライス表記(https://aidemy.net/courses/3010/exercises/By_WF3IsLlf)です。\n",
    "# [開始インデックス:終了インデックス]で、終了インデックスを指定し、\n",
    "# 上位10要素を抜き出しています。\n",
    "print(sorted(char_freq.items(), key=lambda x: x[1], reverse=True)[:10])"
   ]
  },
  {
   "cell_type": "markdown",
   "metadata": {},
   "source": [
    "***"
   ]
  },
  {
   "cell_type": "markdown",
   "metadata": {
    "courseId": 4050,
    "exerciseId": "S1hLK3LiLlf",
    "id": "code_session_name",
    "important": false,
    "isDL": false,
    "timeoutSecs": 5
   },
   "source": [
    "### 1.4.2 value内の要素の追加"
   ]
  },
  {
   "cell_type": "markdown",
   "metadata": {
    "id": "description"
   },
   "source": [
    "今度は\n",
    "```python\n",
    "defaultdict(list)\n",
    "```\n",
    "と定義し、`list`型のvalueを持つ辞書を定義してみます。\n",
    "\n",
    "valueが`list`型なので、`辞書[key].append(要素)`とすることでvalueに要素を追加することができます。これも、標準の辞書型オブジェクトでは\n",
    "```python\n",
    "# 辞書にvalueの要素を追加\n",
    "d ={}\n",
    "price = [\n",
    "    (\"apple\", 50),\n",
    "    (\"banana\", 120),\n",
    "    (\"grape\", 500),\n",
    "    (\"apple\", 70),\n",
    "    (\"lemon\", 150),\n",
    "    (\"grape\", 1000)\n",
    "]\n",
    "for key, value in price:\n",
    "    # keyの存在で条件分岐\n",
    "    if key in d:\n",
    "        d[key].append(value)\n",
    "    else:\n",
    "        d[key] = [value]\n",
    "print(d)\n",
    "# 出力結果\n",
    "{\"apple\": [50, 70], \"banana\": [120], \"grape\": [500, 1000], \"lemon\": [150]}\n",
    "```\n",
    "と、一手間かかりますが、`defaultdict`ではこの条件分岐が不要になります。\n",
    "\n",
    "これを利用することで、keyによってvalueをまとめることができます。"
   ]
  },
  {
   "cell_type": "markdown",
   "metadata": {},
   "source": [
    "#### 問題"
   ]
  },
  {
   "cell_type": "markdown",
   "metadata": {
    "id": "question"
   },
   "source": [
    "- `defaultdict`を用いて上記の例と同様の処理を行い、辞書を作成して下さい。作成した辞書の各valueについて平均値をとり、配列にして出力して下さい。"
   ]
  },
  {
   "cell_type": "code",
   "execution_count": 44,
   "metadata": {
    "id": "index"
   },
   "outputs": [
    {
     "name": "stdout",
     "output_type": "stream",
     "text": [
      "[60.0, 120.0, 750.0, 150.0]\n"
     ]
    }
   ],
   "source": [
    "from collections import defaultdict\n",
    "# まとめたいデータprice...(名前, 値段)\n",
    "price = [\n",
    "    (\"apple\", 50),\n",
    "    (\"banana\", 120),\n",
    "    (\"grape\", 500),\n",
    "    (\"apple\", 70),\n",
    "    (\"lemon\", 150),\n",
    "    (\"grape\", 1000)\n",
    "]\n",
    "# defaultdictを定義して下さい\n",
    "d = defaultdict(list)\n",
    "\n",
    "# 上記の例と同様にvalueの要素に値段を追加して下さい\n",
    "for key, value in price:\n",
    "    d[key].append(value)\n",
    "\n",
    "result = [sum(x) / len(x) for x in d.values()]\n",
    "# 各valueの平均値を計算し、配列にして出力して下さい\n",
    "print(result)"
   ]
  },
  {
   "cell_type": "markdown",
   "metadata": {},
   "source": [
    "#### ヒント"
   ]
  },
  {
   "cell_type": "markdown",
   "metadata": {
    "id": "hint"
   },
   "source": [
    "- `defaultdict`のvalueは`list`型です。\n",
    "- 基本は標準の辞書型と同様に追加すればよいですが、こちらは条件分岐が要りません。\n",
    "- 各valueは`int`が格納されている`list`なので、平均値をとるには\n",
    "```python\n",
    "sum(value) / len(value)\n",
    "```\n",
    "としましょう。\n",
    "- 各valueの平均値の計算はリスト内包表記でまとめて行うといいです。その際の（適用する元の配列）は`辞書.values()`によって取得できます。"
   ]
  },
  {
   "cell_type": "markdown",
   "metadata": {},
   "source": [
    "#### 解答例"
   ]
  },
  {
   "cell_type": "code",
   "execution_count": 43,
   "metadata": {
    "id": "answer"
   },
   "outputs": [
    {
     "name": "stdout",
     "output_type": "stream",
     "text": [
      "[60.0, 120.0, 750.0, 150.0]\n"
     ]
    }
   ],
   "source": [
    "from collections import defaultdict\n",
    "# まとめたいデータprice\n",
    "price = [\n",
    "    (\"apple\", 50),\n",
    "    (\"banana\", 120),\n",
    "    (\"grape\", 500),\n",
    "    (\"apple\", 70),\n",
    "    (\"lemon\", 150),\n",
    "    (\"grape\", 1000)\n",
    "]\n",
    "# defaultdictを定義して下さい\n",
    "d = defaultdict(list)\n",
    "\n",
    "# 上記の例と同様にvalueの要素に値段を追加して下さい\n",
    "for key, value in price:\n",
    "        d[key].append(value)\n",
    "\n",
    "# 各valueの平均値を計算し、配列にして出力して下さい\n",
    "print([sum(x) / len(x) for x in d.values()])"
   ]
  },
  {
   "cell_type": "markdown",
   "metadata": {},
   "source": [
    "***"
   ]
  },
  {
   "cell_type": "markdown",
   "metadata": {
    "courseId": 4050,
    "exerciseId": "rJaLtnUiLgG",
    "id": "code_session_name",
    "important": false,
    "isDL": false,
    "timeoutSecs": 5
   },
   "source": [
    "### 1.4.3 Counter"
   ]
  },
  {
   "cell_type": "markdown",
   "metadata": {
    "id": "description"
   },
   "source": [
    "`collections`モジュールには`defaultdict`クラス以外にもいくつかのデータ格納クラスがあります。\n",
    "\n",
    "ここで紹介する`Counter`クラスは、`defaultdict`と同様に辞書型のオブジェクトと同様に使用することができますが、より **要素の数え上げ** に特化したクラスになっています。\n",
    "\n",
    "`Counter`クラスを用いて **defaultdict** で説明した例題と同様に単語をkey、出現回数をvalueとした辞書を作成するには\n",
    "```python\n",
    "# Counterのインポート\n",
    "from collections import Counter\n",
    "# 辞書に要素の出現回数を記録\n",
    "lst = [\"foo\", \"bar\", \"pop\", \"pop\", \"foo\", \"popo\"]\n",
    "d = Counter(lst)\n",
    "\n",
    "print(d)\n",
    "# 出力結果\n",
    "Counter({'foo': 2, 'pop': 2, 'bar': 1, 'popo': 1})\n",
    "```\n",
    "とするだけでよく、`for`ループを用いないので`defaultdict`よりも実行時間を短く簡潔に数え上げることができます。\n",
    "***\n",
    "`Counter`クラスは\n",
    "```python\n",
    "from collections import Counter\n",
    "\n",
    "d = Counter(数え上げたいデータ)\n",
    "```\n",
    "として定義します。数え上げたいデータの部分には例えば単語を分解した配列や文字列、辞書などを書き込むことができます。\n",
    "***\n",
    "`Counter`クラスにはいくつかの数え上げを助ける関数が用意されています。<br>\n",
    "- `most_common`関数は要素を頻度の降順にソートした配列を返します。\n",
    "```python\n",
    "# Counterに文字列を格納、文字の出現頻度を数え上げ\n",
    "d = Counter(\"A Counter is a dict subclass for counting hashable objects.\")\n",
    "# 最も多い5要素を並べる\n",
    "print(d.most_common(5))\n",
    "# 出力結果\n",
    "[(\" \", 9), (\"s\", 6), (\"o\", 4), (\"c\", 4), (\"a\", 4)]\n",
    "```\n",
    "`most_common`関数の使い方は\n",
    "```python\n",
    "辞書.most_common(取得する要素数)\n",
    "```\n",
    "となります。`取得する要素数=1`とすると最頻の要素を返し、取得する要素数に何も書き込まないことで全ての要素をソートして返します。"
   ]
  },
  {
   "cell_type": "markdown",
   "metadata": {},
   "source": [
    "#### 問題"
   ]
  },
  {
   "cell_type": "markdown",
   "metadata": {
    "id": "question"
   },
   "source": [
    "- 同Chapter「**defaultdict**」と同様に以下の文字列`description`に出現する文字をkeyとし、その出現回数をvalueとした辞書を作成して下さい。辞書をvalueの降順にソートし、上位10要素を出力して下さい。\n",
    "- 辞書は`Counter`によって定義して下さい。"
   ]
  },
  {
   "cell_type": "code",
   "execution_count": 38,
   "metadata": {
    "id": "index"
   },
   "outputs": [
    {
     "name": "stdout",
     "output_type": "stream",
     "text": [
      "[(' ', 20), ('e', 18), ('i', 17), ('n', 14), ('l', 12), ('a', 11), ('t', 10), ('c', 7), ('h', 7), ('r', 6)]\n"
     ]
    }
   ],
   "source": [
    "from collections import Counter\n",
    "# 文字列description\n",
    "description = \\\n",
    "\"Artificial intelligence (AI, also machine intelligence, MI) is \" + \\\n",
    "\"intelligence exhibited by machines, rather than \" + \\\n",
    "\"humans or other animals (natural intelligence, NI).\"\n",
    "\n",
    "# Counterを定義して下さい\n",
    "d = Counter(description)\n",
    "# ソートし、上位10要素を出力して下さい\n",
    "print(d.most_common(10))"
   ]
  },
  {
   "cell_type": "markdown",
   "metadata": {},
   "source": [
    "#### ヒント"
   ]
  },
  {
   "cell_type": "markdown",
   "metadata": {
    "id": "hint"
   },
   "source": [
    "- ソートは`most_common`関数を用いましょう。\n",
    "```python\n",
    "辞書.most_common(取得する要素数)\n",
    "```"
   ]
  },
  {
   "cell_type": "markdown",
   "metadata": {},
   "source": [
    "#### 解答例"
   ]
  },
  {
   "cell_type": "code",
   "execution_count": null,
   "metadata": {
    "id": "answer"
   },
   "outputs": [],
   "source": [
    "from collections import Counter\n",
    "# 文字列description\n",
    "description = \\\n",
    "\"Artificial intelligence (AI, also machine intelligence, MI) is \" + \\\n",
    "\"intelligence exhibited by machines, rather than \" + \\\n",
    "\"humans or other animals (natural intelligence, NI).\"\n",
    "\n",
    "# Counterを定義して下さい\n",
    "char_freq = Counter(description)\n",
    "\n",
    "# ソートし、上位10要素を出力して下さい\n",
    "print(char_freq.most_common(10))"
   ]
  },
  {
   "cell_type": "markdown",
   "metadata": {},
   "source": [
    "***"
   ]
  }
 ],
 "metadata": {
  "celltoolbar": "Edit Metadata",
  "kernelspec": {
   "display_name": "Python 3",
   "language": "python",
   "name": "python3"
  },
  "toc": {
   "base_numbering": 1,
   "nav_menu": {
    "height": "512px",
    "width": "252px"
   },
   "number_sections": false,
   "sideBar": true,
   "skip_h1_title": false,
   "title_cell": "Table of Contents",
   "title_sidebar": "Contents",
   "toc_cell": false,
   "toc_position": {
    "height": "calc(100% - 180px)",
    "left": "10px",
    "top": "150px",
    "width": "304.797px"
   },
   "toc_section_display": "block",
   "toc_window_display": true
  },
  "varInspector": {
   "cols": {
    "lenName": 16,
    "lenType": 16,
    "lenVar": 40
   },
   "kernels_config": {
    "python": {
     "delete_cmd_postfix": "",
     "delete_cmd_prefix": "del ",
     "library": "var_list.py",
     "varRefreshCmd": "print(var_dic_list())"
    },
    "r": {
     "delete_cmd_postfix": ") ",
     "delete_cmd_prefix": "rm(",
     "library": "var_list.r",
     "varRefreshCmd": "cat(var_dic_list()) "
    }
   },
   "types_to_exclude": [
    "module",
    "function",
    "builtin_function_or_method",
    "instance",
    "_Feature"
   ],
   "window_display": false
  }
 },
 "nbformat": 4,
 "nbformat_minor": 2
}
