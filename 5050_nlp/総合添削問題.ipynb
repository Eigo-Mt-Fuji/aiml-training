{
 "cells": [
  {
   "cell_type": "markdown",
   "metadata": {
    "id": "final_exam"
   },
   "source": [
    "# 総合添削問題"
   ]
  },
  {
   "cell_type": "markdown",
   "metadata": {
    "id": "description"
   },
   "source": []
  },
  {
   "cell_type": "markdown",
   "metadata": {},
   "source": [
    "#### 問題"
   ]
  },
  {
   "cell_type": "markdown",
   "metadata": {
    "id": "question"
   },
   "source": [
    "- ランダムフォレスト、ナイーブベイズ分析を用いてlive door newsコーパスの精度を調べてください。\n",
    "- また、livedoor newsコーパスの名詞、動詞、形容詞、形容動詞のみ取り出した時の精度を同様に調べてください。"
   ]
  },
  {
   "cell_type": "code",
   "execution_count": 54,
   "metadata": {
    "id": "index",
    "scrolled": true
   },
   "outputs": [
    {
     "name": "stdout",
     "output_type": "stream",
     "text": [
      "<class 'numpy.matrixlib.defmatrix.matrix'>\n",
      "<class 'scipy.sparse.csr.csr_matrix'>\n",
      "精度 RandomForest=0.8475609756097561 Naive Bayes=0.9512195121951219\n",
      "<class 'numpy.matrixlib.defmatrix.matrix'>\n",
      "<class 'scipy.sparse.csr.csr_matrix'>\n",
      "名詞、動詞、形容詞、形容動詞で絞り込んだ場合の精度 RandomForest=0.8902439024390244 Naive Bayes=0.9512195121951219\n",
      "CPU times: user 3min 58s, sys: 6.96 s, total: 4min 5s\n",
      "Wall time: 4min 6s\n"
     ]
    }
   ],
   "source": [
    "%%time\n",
    "\n",
    "import glob\n",
    "import pandas as pd\n",
    "import numpy as np\n",
    "from janome.tokenizer import Tokenizer\n",
    "from gensim.models import word2vec\n",
    "from sklearn.ensemble import RandomForestClassifier\n",
    "from sklearn.naive_bayes import GaussianNB\n",
    "from sklearn.model_selection import train_test_split\n",
    "import time\n",
    "from sklearn.metrics import f1_score\n",
    "from sklearn.feature_extraction.text import TfidfVectorizer\n",
    "\n",
    "# livedoor newsの読み込みと分類\n",
    "def load_livedoor_news_corpus(base_dir):\n",
    "    category = {\n",
    "#         \"dokujo-tsushin\": 1,\n",
    "       \"it-life-hack\":2,\n",
    "#         \"kaden-channel\": 3,\n",
    "#         \"livedoor-homme\": 4,\n",
    "#         \"movie-enter\": 5,\n",
    "#         \"peachy\": 6,\n",
    "#         \"smax\": 7,\n",
    "#         \"sports-watch\": 8,\n",
    "        \"topic-news\":9\n",
    "    }\n",
    "    docs  = []\n",
    "    labels = []\n",
    "\n",
    "    for c_name, c_id in category.items():\n",
    "        # ./text/dokujo-tsushin/dokujo-tsushin-{6903790}.txt\n",
    "        files = glob.glob(\"./{base_dir}/{c_name}/{c_name}*.txt\".format(base_dir=base_dir, c_name=c_name))\n",
    "\n",
    "        text = \"\"\n",
    "        for file in files:\n",
    "            with open(file, \"r\", encoding=\"utf-8\") as f:\n",
    "                lines = f.read().splitlines() \n",
    "                # 件名(3行目)、本文(4行目以降)を取得\n",
    "                subject = lines[2]\n",
    "                body = \"\".join(lines[3:])\n",
    "                text = subject + body\n",
    "\n",
    "            docs.append(text)\n",
    "            labels.append(c_id)\n",
    "\n",
    "    return docs, labels\n",
    "\n",
    "def tokenize(text, filter_speech = None):\n",
    "    t = Tokenizer()\n",
    "    tokens = t.tokenize(\",\".join(text))\n",
    "    result = []\n",
    "    for token in tokens:\n",
    "        part_of_speech = token.part_of_speech.split(\",\")[0]\n",
    "\n",
    "        if filter_speech == None or part_of_speech in filter_speech: \n",
    "            result.append(token.surface)\n",
    "    return result\n",
    "\n",
    "def validate_score(train_doc_X, test_doc_X, train_y, test_y):\n",
    "    docs_words = tokenize(train_doc_X)\n",
    "#    docs_model = word2vec.Word2Vec(docs_words, size=10, min_count=3, window=1)\n",
    "    vectorizer = TfidfVectorizer()\n",
    "    train_X = vectorizer.fit_transform(train_doc_X)\n",
    "    test_X = vectorizer.transform(test_doc_X)\n",
    "    f1_score_rf = classify_random_forest(train_X, test_X, train_y, test_y)\n",
    "    f1_score_nb = classify_naive_bayes(train_X, test_X, train_y, test_y)\n",
    "    print(\"精度 RandomForest={} Naive Bayes={}\".format(f1_score_rf, f1_score_nb))\n",
    "\n",
    "def classify_random_forest(train_X, test_X, train_y, test_y):\n",
    "    model = RandomForestClassifier(n_estimators=2)\n",
    "    model.fit(train_X, train_y)\n",
    "    pred_y = model.predict(test_X)\n",
    "    return f1_score(test_y, pred_y, average=\"micro\")\n",
    "\n",
    "def classify_naive_bayes(train_X, test_X, train_y, test_y):\n",
    "    model = GaussianNB()\n",
    "    print  (type(train_X.todense()))\n",
    "    print  (type(train_X))\n",
    "    model.fit(train_X.todense(), train_y)\n",
    "    pred_y = model.predict(test_X.todense())\n",
    "    return f1_score(test_y, pred_y, average=\"micro\")\n",
    "\n",
    "def validate_score_filter_speech(train_doc_X, test_doc_X, train_y, test_y):\n",
    "    docs_words = tokenize(train_doc_X, filter_speech = [\"名詞\", \"形容詞\", \"動詞\", \"形容動詞\"])\n",
    "    vectorizer = TfidfVectorizer()\n",
    "    train_X = vectorizer.fit_transform(train_doc_X)\n",
    "    test_X = vectorizer.transform(test_doc_X)\n",
    "    \n",
    "    score_rf = classify_random_forest(train_X, test_X, train_y, test_y)\n",
    "    score_nb = classify_naive_bayes(train_X, test_X, train_y, test_y)\n",
    "    print(\"名詞、動詞、形容詞、形容動詞で絞り込んだ場合の精度 RandomForest={} Naive Bayes={}\".format(score_rf, score_nb))\n",
    "\n",
    "docs, labels = load_livedoor_news_corpus(\"text\")\n",
    "train_X, test_X, train_y, test_y = train_test_split(docs, labels, test_size=0.3, random_state=int(time.time()))\n",
    "\n",
    "validate_score(train_X, test_X, train_y, test_y)\n",
    "\n",
    "# 名詞、動詞、形容詞、形容動詞で絞り込んだ場合\n",
    "validate_score_filter_speech(train_X, test_X, train_y, test_y)"
   ]
  },
  {
   "cell_type": "markdown",
   "metadata": {},
   "source": [
    "##  解答例"
   ]
  },
  {
   "cell_type": "code",
   "execution_count": null,
   "metadata": {
    "collapsed": true
   },
   "outputs": [],
   "source": []
  }
 ],
 "metadata": {
  "celltoolbar": "Edit Metadata",
  "kernelspec": {
   "display_name": "Python 3",
   "language": "python",
   "name": "python3"
  },
  "language_info": {
   "codemirror_mode": {
    "name": "ipython",
    "version": 3
   },
   "file_extension": ".py",
   "mimetype": "text/x-python",
   "name": "python",
   "nbconvert_exporter": "python",
   "pygments_lexer": "ipython3",
   "version": "3.7.0"
  }
 },
 "nbformat": 4,
 "nbformat_minor": 2
}
