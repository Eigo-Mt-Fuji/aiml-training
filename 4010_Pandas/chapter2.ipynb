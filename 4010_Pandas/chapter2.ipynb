{
 "cells": [
  {
   "cell_type": "markdown",
   "metadata": {
    "chapterId": "Hy8l_RQWlbz",
    "id": "chapter_name"
   },
   "source": [
    "#  Pandasの応用"
   ]
  },
  {
   "cell_type": "markdown",
   "metadata": {
    "id": "table"
   },
   "source": [
    "- **[2.1 DataFrameの連結・結合の概観](#2.1-DataFrameの連結・結合の概観)**\n",
    "    - **[2.1.1 連結・結合について](#2.1.1-連結・結合について)**\n",
    "<br><br>\n",
    "- **[2.2 DataFrameの連結](#2.2-DataFrameの連結)**\n",
    "    - **[2.2.1 インデックス、カラムが一致しているDataFrame同士の連結](#2.2.1-インデックス、カラムが一致しているDataFrame同士の連結)**\n",
    "    - **[2.2.2 インデックス、カラムが一致していないDataFrame同士の連結](#2.2.2-インデックス、カラムが一致していないDataFrame同士の連結)**\n",
    "<br><br>\n",
    "- **[2.3 DataFrameの結合](#2.3-DataFrameの結合)**\n",
    "    - **[2.3.1 結合の種類](#2.3.1-結合の種類)**\n",
    "    - **[2.3.2 内部結合の基本](#2.3.2-内部結合の基本)**\n",
    "    - **[2.3.3 外部結合の基本](#2.3.3-外部結合の基本)**\n",
    "    - **[2.3.4 同名でない列をKeyにして結合する](#2.3.4-同名でない列をKeyにして結合する)**\n",
    "    - **[2.3.5 インデックスをKeyにして結合する](#2.3.5-インデックスをKeyにして結合する)**\n",
    "<br><br>\n",
    "- **[2.4 DataFrameを用いたデータ分析](#2.4-DataFrameを用いたデータ分析)**\n",
    "    - **[2.4.1 一部の行を得る](#2.4.1-一部の行を得る)**\n",
    "    - **[2.4.2 計算処理を適用する](#2.4.2-計算処理を適用する)**\n",
    "    - **[2.4.3 要約統計量を得る](#2.4.3-要約統計量を得る)**\n",
    "    - **[2.4.4 DataFrameの行間または列間の差を求める](#2.4.4-DataFrameの行間または列間の差を求める)**\n",
    "    - **[2.4.5 グループ化](#2.4.5-グループ化)**\n",
    "<br><br>\n",
    "- **[2.5 添削問題](#2.5-添削問題)**"
   ]
  },
  {
   "cell_type": "markdown",
   "metadata": {},
   "source": [
    "***"
   ]
  },
  {
   "cell_type": "markdown",
   "metadata": {
    "id": "section_name",
    "sectionId": "B1Peu0XWgZM"
   },
   "source": [
    "## 2.1 DataFrameの連結・結合の概観"
   ]
  },
  {
   "cell_type": "markdown",
   "metadata": {
    "courseId": 4010,
    "exerciseId": "ryGBKh8sIgz",
    "id": "quiz_session_name",
    "important": true,
    "isDL": false,
    "timeoutSecs": 5
   },
   "source": [
    "### 2.1.1 連結・結合について"
   ]
  },
  {
   "cell_type": "markdown",
   "metadata": {
    "id": "description"
   },
   "source": [
    "PandasではDataFrameに対して **<font color=#AA0000>連結</font>** 、 **<font color=#AA0000>結合</font>** という操作ができます。DataFrame同士を一定の方向についてそのままつなげる操作を **連結** 、特定の **Key** を参照してつなげる操作を **結合** と言います。\n",
    "<br><br>\n",
    " **横方向に連結した場合** \n",
    " \n",
    "<img src=\"https://aidemyexcontentspic.blob.core.windows.net/contents-pic/4010_pandas/concat.png\" style=\"width:800px;\">\n",
    "\n",
    " **\"fruits\"をKeyにして結合した場合** \n",
    "\n",
    "<img src=\"https://aidemyexcontentspic.blob.core.windows.net/contents-pic/4010_pandas/merge.png\" style=\"width:800px;\">"
   ]
  },
  {
   "cell_type": "markdown",
   "metadata": {},
   "source": [
    "#### 問題"
   ]
  },
  {
   "cell_type": "markdown",
   "metadata": {
    "id": "question"
   },
   "source": [
    "- 以下の操作は連結、結合どちらの操作でしょうか。\n",
    "\n",
    "<img src=\"https://aidemyexcontentspic.blob.core.windows.net/contents-pic/4010_pandas/concat_merge_q.png\" style=\"width:800px;\">\n"
   ]
  },
  {
   "cell_type": "markdown",
   "metadata": {
    "collapsed": true,
    "id": "choices"
   },
   "source": [
    "- 連結\n",
    "- 結合"
   ]
  },
  {
   "cell_type": "markdown",
   "metadata": {},
   "source": [
    "#### ヒント"
   ]
  },
  {
   "cell_type": "markdown",
   "metadata": {
    "id": "hint"
   },
   "source": [
    "- そのままつなげているか、何かのラベルを基準（Key）にしてつなげているかを判断しましょう。"
   ]
  },
  {
   "cell_type": "markdown",
   "metadata": {},
   "source": [
    "#### 解答例"
   ]
  },
  {
   "cell_type": "markdown",
   "metadata": {
    "id": "answer"
   },
   "source": [
    "- 連結"
   ]
  },
  {
   "cell_type": "markdown",
   "metadata": {},
   "source": [
    "***"
   ]
  },
  {
   "cell_type": "markdown",
   "metadata": {
    "id": "section_name",
    "sectionId": "HJ_eORQblZG"
   },
   "source": [
    "## 2.2 DataFrameの連結"
   ]
  },
  {
   "cell_type": "markdown",
   "metadata": {
    "courseId": 4010,
    "exerciseId": "BJQBF3UsIgM",
    "id": "code_session_name",
    "important": true,
    "isDL": false,
    "timeoutSecs": 5
   },
   "source": [
    "### 2.2.1 インデックス、カラムが一致しているDataFrame同士の連結"
   ]
  },
  {
   "cell_type": "markdown",
   "metadata": {
    "id": "description"
   },
   "source": [
    "DataFrame同士を一定の方向についてそのままつなげる操作を **連結** と呼びます。まずはインデックス、またはカラムが一致しているDataFrame同士の連結について扱います。`pandas.concat(\"DataFrameのリスト\", axis=0)`とすることでリストの先頭から順に縦方向に連結します。`axis=1`を指定することで横方向に連結されます。 **縦方向に連結するときは同じカラムについて連結** され、**横方向に連結するときは同じインデックスについて連結** されます。連結方向のカラムはそのまま連結してしまうので、カラムに重複が出てしまう場合があることに注意しましょう。"
   ]
  },
  {
   "cell_type": "markdown",
   "metadata": {},
   "source": [
    "#### 問題"
   ]
  },
  {
   "cell_type": "markdown",
   "metadata": {
    "id": "question"
   },
   "source": [
    "- DataFrame型の変数`df_data1`と`df_data2`を縦方向に連結し`df1`に代入してください。\n",
    "- DataFrame型の変数`df_data1`と`df_data2`を横方向に連結し`df2`に代入してください。"
   ]
  },
  {
   "cell_type": "code",
   "execution_count": null,
   "metadata": {
    "id": "index"
   },
   "outputs": [],
   "source": [
    "import numpy as np\n",
    "import pandas as pd\n",
    "\n",
    "# 指定のインデックスとカラムを持つDataFrameを乱数によって作成する関数\n",
    "def make_random_df(index, columns, seed):\n",
    "    np.random.seed(seed)\n",
    "    df = pd.DataFrame()\n",
    "    for column in columns:\n",
    "        df[column] = np.random.choice(range(1, 101), len(index))\n",
    "    df.index = index\n",
    "    return df\n",
    "\n",
    "#インデックス、カラムが一致しているDataFrameの作成\n",
    "columns = [\"apple\", \"orange\", \"banana\"]\n",
    "df_data1 = make_random_df(range(1, 5), columns, 0)\n",
    "df_data2 = make_random_df(range(1, 5), columns, 1)\n",
    "\n",
    "# df_data1とdf_data2を縦方向に連結しdf1に代入してください\n",
    "\n",
    "\n",
    "# df_data1とdf_data2を横方向に連結しdf2に代入してください\n",
    "\n",
    "\n",
    "print(df1)\n",
    "print(df2)"
   ]
  },
  {
   "cell_type": "markdown",
   "metadata": {},
   "source": [
    "#### ヒント"
   ]
  },
  {
   "cell_type": "markdown",
   "metadata": {
    "id": "hint"
   },
   "source": [
    "- `pandas.concat(\"DataFrameのリスト\", axis=0)`とすることでリストの先頭から順に縦方向に連結します。\n",
    "- `axis=1`を指定することで横方向に連結されます。"
   ]
  },
  {
   "cell_type": "markdown",
   "metadata": {},
   "source": [
    "#### 解答例"
   ]
  },
  {
   "cell_type": "code",
   "execution_count": null,
   "metadata": {
    "id": "answer"
   },
   "outputs": [],
   "source": [
    "import numpy as np\n",
    "import pandas as pd\n",
    "\n",
    "# 指定のインデックスとカラムを持つDataFrameを乱数によって作成する関数\n",
    "def make_random_df(index, columns, seed):\n",
    "    np.random.seed(seed)\n",
    "    df = pd.DataFrame()\n",
    "    for column in columns:\n",
    "        df[column] = np.random.choice(range(1, 101), len(index))\n",
    "    df.index = index\n",
    "    return df\n",
    "\n",
    "#インデックス、カラムが一致しているDataFrameの作成\n",
    "columns = [\"apple\", \"orange\", \"banana\"]\n",
    "df_data1 = make_random_df(range(1, 5), columns, 0)\n",
    "df_data2 = make_random_df(range(1, 5), columns, 1)\n",
    "\n",
    "# df_data1とdf_data2を縦方向に連結しdf1に代入してください\n",
    "df1 = pd.concat([df_data1, df_data2], axis=0)\n",
    "\n",
    "# df_data1とdf_data2を横方向に連結しdf2に代入してください\n",
    "df2 = pd.concat([df_data1, df_data2], axis=1)\n",
    "\n",
    "print(df1)\n",
    "print(df2)"
   ]
  },
  {
   "cell_type": "markdown",
   "metadata": {},
   "source": [
    "***"
   ]
  },
  {
   "cell_type": "markdown",
   "metadata": {
    "courseId": 4010,
    "exerciseId": "ByVBF2LoLgz",
    "id": "code_session_name",
    "important": true,
    "isDL": false,
    "timeoutSecs": 5
   },
   "source": [
    "### 2.2.2 インデックス、カラムが一致していないDataFrame同士の連結"
   ]
  },
  {
   "cell_type": "markdown",
   "metadata": {
    "id": "description"
   },
   "source": [
    "インデックスやカラムが一致していないDataFrame同士を連結する場合、 **共通のインデックスやカラムでない行や列に** `NaN` **を持つセルが作成** されます。`pandas.concat(\"DataFrameのリスト\", axis=0)`とすることでリストの先頭から順に縦方向に連結します。`axis=1`を指定することで横方向に連結されます。"
   ]
  },
  {
   "cell_type": "markdown",
   "metadata": {},
   "source": [
    "#### 問題"
   ]
  },
  {
   "cell_type": "markdown",
   "metadata": {
    "id": "question"
   },
   "source": [
    "- インデックスやカラムが一致していないDataFrame同士を連結したときの挙動を確認してください。\n",
    "- DataFrame型の変数`df_data1`と`df_data2`を縦方向に連結し`df1`に代入してください。\n",
    "- DataFrame型の変数`df_data1`と`df_data2`を横方向に連結し`df2`に代入してください。"
   ]
  },
  {
   "cell_type": "code",
   "execution_count": null,
   "metadata": {
    "id": "index"
   },
   "outputs": [],
   "source": [
    "import numpy as np\n",
    "import pandas as pd\n",
    "\n",
    "# 指定のインデックスとカラムを持つDataFrameを乱数によって作成する関数\n",
    "def make_random_df(index, columns, seed):\n",
    "    np.random.seed(seed)\n",
    "    df = pd.DataFrame()\n",
    "    for column in columns:\n",
    "        df[column] = np.random.choice(range(1, 101), len(index))\n",
    "    df.index = index\n",
    "    return df\n",
    "\n",
    "columns1 = [\"apple\", \"orange\", \"banana\"]\n",
    "columns2 = [\"orange\", \"kiwifruit\", \"banana\"]\n",
    "# インデックスが1,2,3,4, カラムがcolumns1のDataFrameを作成\n",
    "df_data1 = make_random_df(range(1, 5), columns1, 0)\n",
    "# インデックスが1,3,5,7, カラムがcolumns2のDataFrameを作成\n",
    "df_data2 = make_random_df(np.arange(1, 8, 2), columns2, 1)\n",
    "\n",
    "# df_data1とdf_data2を縦方向に連結しdf1に代入してください\n",
    "\n",
    "\n",
    "# df_data1とdf_data2を横方向に連結しdf2に代入してください\n",
    "\n",
    "\n",
    "print(df1)\n",
    "print(df2)"
   ]
  },
  {
   "cell_type": "markdown",
   "metadata": {},
   "source": [
    "#### ヒント"
   ]
  },
  {
   "cell_type": "markdown",
   "metadata": {
    "id": "hint"
   },
   "source": [
    "- `pandas.concat(\"DataFrameのリスト\", axis=0)`とすることでリストの先頭から順に縦方向に連結します。\n",
    "- `axis=1`を指定することで横方向に連結されます。\n"
   ]
  },
  {
   "cell_type": "markdown",
   "metadata": {},
   "source": [
    "#### 解答例"
   ]
  },
  {
   "cell_type": "code",
   "execution_count": null,
   "metadata": {
    "id": "answer"
   },
   "outputs": [],
   "source": [
    "import numpy as np\n",
    "import pandas as pd\n",
    "\n",
    "# 指定のインデックスとカラムを持つDataFrameを乱数によって作成する関数\n",
    "def make_random_df(index, columns, seed):\n",
    "    np.random.seed(seed)\n",
    "    df = pd.DataFrame()\n",
    "    for column in columns:\n",
    "        df[column] = np.random.choice(range(1, 101), len(index))\n",
    "    df.index = index\n",
    "    return df\n",
    "\n",
    "columns1 = [\"apple\", \"orange\", \"banana\"]\n",
    "columns2 = [\"orange\", \"kiwifruit\", \"banana\"]\n",
    "# インデックスが1,2,3,4, カラムがcolumns1のDataFrameを作成\n",
    "df_data1 = make_random_df(range(1, 5), columns1, 0)\n",
    "# インデックスが1,3,5,7, カラムがcolumns2のDataFrameを作成\n",
    "df_data2 = make_random_df(np.arange(1, 8, 2), columns2, 1)\n",
    "\n",
    "# df_data1とdf_data2を縦方向に連結しdf1に代入してください\n",
    "df1 = pd.concat([df_data1, df_data2], axis=0)\n",
    "\n",
    "# df_data1とdf_data2を横方向に連結しdf2に代入してください\n",
    "df2 = pd.concat([df_data1, df_data2], axis=1)\n",
    "\n",
    "print(df1)\n",
    "print(df2)"
   ]
  },
  {
   "cell_type": "markdown",
   "metadata": {},
   "source": [
    "***"
   ]
  },
  {
   "cell_type": "markdown",
   "metadata": {
    "courseId": 4010,
    "exerciseId": "HySHFhIiIlz",
    "id": "code_session_name",
    "important": true,
    "isDL": false,
    "timeoutSecs": 5
   },
   "source": [
    "### 2.2.3 連結する際のラベルの指定"
   ]
  },
  {
   "cell_type": "markdown",
   "metadata": {
    "id": "description"
   },
   "source": [
    "連結ではそのままDataFrame同士をつなげてしまうので、ラベルに重複が生じてしまう場合があります。例えば以下の例1の連結では、`\"apple\", \"orange\", \"banana\"`がラベルとして重複していることが確認できます。この場合、pd.concat( )にkeysで指定したラベルを追加することでラベルの重複を避けることができます。連結後のDataFrameでは複数のラベルが使用されている **MultiIndex** となります。例2の場合、新たに`\"X\"`と`\"Y\"`のカラムが既存のカラムの上位に追加されていることが確認できます。この場合、`df[\"X\"]`で`\"X\"`のラベルがついているカラムを参照でき、`df[\"X\", \"apple\"]`とすることで`\"X\"`カラムの中の`\"apple\"`カラムを参照できます。\n",
    "\n",
    "<br>\n",
    " **例1.concat_df=pd.concat([df_data1,df_data2],axis=1)** \n",
    " \n",
    "<img src=\"https://aidemyexcontentspic.blob.core.windows.net/contents-pic/4010_pandas/concat.png\" style=\"width:800px;\">\n",
    "\n",
    "<br>\n",
    " **例2.concat_df=pd.concat([df_data1,df_data2],axis=1,keys=[\"X\", \"Y\"])** \n",
    " \n",
    "<img src=\"https://aidemyexcontentspic.blob.core.windows.net/contents-pic/4010_pandas/concat_key.png\" style=\"width:800px;\">\n"
   ]
  },
  {
   "cell_type": "markdown",
   "metadata": {},
   "source": [
    "#### 問題"
   ]
  },
  {
   "cell_type": "markdown",
   "metadata": {
    "id": "question"
   },
   "source": [
    "- DataFrame型の変数`df_data1`と`df_data2`を横方向に連結し、かつkeysに`\"X\", \"Y\"`を指定してMultiIndexにして`df`に代入してください。\n",
    "- `df`の`\"Y\"`ラベルの`\"banana\"`を`Y_banana`に代入してください。"
   ]
  },
  {
   "cell_type": "code",
   "execution_count": null,
   "metadata": {
    "id": "index"
   },
   "outputs": [],
   "source": [
    "import numpy as np\n",
    "import pandas as pd\n",
    "\n",
    "# 指定のインデックスとカラムを持つDataFrameを乱数によって作成する関数\n",
    "def make_random_df(index, columns, seed):\n",
    "    np.random.seed(seed)\n",
    "    df = pd.DataFrame()\n",
    "    for column in columns:\n",
    "        df[column] = np.random.choice(range(1, 101), len(index))\n",
    "    df.index = index\n",
    "    return df\n",
    "\n",
    "columns = [\"apple\", \"orange\", \"banana\"]\n",
    "df_data1 = make_random_df(range(1, 5), columns, 0)\n",
    "df_data2 = make_random_df(range(1, 5), columns, 1)\n",
    "\n",
    "# df_data1とdf_data2を横方向に連結し、Keysに\"X\", \"Y\"を指定してMultiIndexにしてdfに代入してください\n",
    "\n",
    "\n",
    "#  dfの\"Y\"ラベルの\"banana\"をY_bananaに代入してください。\n",
    "\n",
    "\n",
    "print(df)\n",
    "print()\n",
    "print(Y_banana)"
   ]
  },
  {
   "cell_type": "markdown",
   "metadata": {},
   "source": [
    "#### ヒント"
   ]
  },
  {
   "cell_type": "markdown",
   "metadata": {
    "id": "hint"
   },
   "source": [
    "- `pandas.concat()`で`keys`を使って新しいラベルのリストを指定しましょう。"
   ]
  },
  {
   "cell_type": "markdown",
   "metadata": {},
   "source": [
    "#### 解答例"
   ]
  },
  {
   "cell_type": "code",
   "execution_count": null,
   "metadata": {
    "id": "answer"
   },
   "outputs": [],
   "source": [
    "import numpy as np\n",
    "import pandas as pd\n",
    "\n",
    "# 指定のインデックスとカラムを持つDataFrameを乱数によって作成する関数\n",
    "def make_random_df(index, columns, seed):\n",
    "    np.random.seed(seed)\n",
    "    df = pd.DataFrame()\n",
    "    for column in columns:\n",
    "        df[column] = np.random.choice(range(1, 101), len(index))\n",
    "    df.index = index\n",
    "    return df\n",
    "\n",
    "columns = [\"apple\", \"orange\", \"banana\"]\n",
    "df_data1 = make_random_df(range(1, 5), columns, 0)\n",
    "df_data2 = make_random_df(range(1, 5), columns, 1)\n",
    "\n",
    "# df_data1とdf_data2を横方向に連結し、keysに\"X\", \"Y\"を指定してMultiIndexにしてdfに代入してください\n",
    "df = pd.concat([df_data1, df_data2], axis=1, keys=[\"X\", \"Y\"])\n",
    "\n",
    "#  dfの\"Y\"ラベルの\"banana\"をY_bananaに代入してください。\n",
    "Y_banana = df[\"Y\", \"banana\"]\n",
    "\n",
    "print(df)\n",
    "print()\n",
    "print(Y_banana)"
   ]
  },
  {
   "cell_type": "markdown",
   "metadata": {},
   "source": [
    "***"
   ]
  },
  {
   "cell_type": "markdown",
   "metadata": {
    "id": "section_name",
    "sectionId": "SytlORmbgbG"
   },
   "source": [
    "## 2.3 DataFrameの結合"
   ]
  },
  {
   "cell_type": "markdown",
   "metadata": {
    "courseId": 4010,
    "exerciseId": "SyUrtnIjIxz",
    "id": "quiz_session_name",
    "important": true,
    "isDL": false,
    "timeoutSecs": 5
   },
   "source": [
    "### 2.3.1 結合の種類"
   ]
  },
  {
   "cell_type": "markdown",
   "metadata": {
    "id": "description"
   },
   "source": [
    "連結の次は **結合** について扱います。結合のことを **マージ** とも呼びます。結合は、 **Key** と呼ばれる列を指定し、2つのデータベースの **Key** 内の値が一致する行を横につなげる操作です。結合には大きく分けて **<font color=#AA0000>内部結合</font>** と **<font color=#AA0000>外部結合</font>** の2つの方法があります。例を見ながら確認して行きましょう。\n",
    "以下の2つのDataFrameを`\"fruits\"`のカラムで結合することを考えます。\n",
    "<br><br>\n",
    "<img src=\"https://aidemyexcontentspic.blob.core.windows.net/contents-pic/4010_pandas/merge_example.png\" style=\"width:400px;\">\n",
    "\n",
    " **内部結合** \n",
    "\n",
    "Key列に共通の値がない行は破棄されます。また、他に同じカラムを持っており、それらの値が一致していない行を残す、もしくは破棄するなどの指定ができます。2つのDataFrameの`\"fruits\"`カラムデータのうち、共通のものしか残って無いことが確認できます。\n",
    "<br><br>\n",
    "<img src=\"https://aidemyexcontentspic.blob.core.windows.net/contents-pic/4010_pandas/inner_merge.png\" style=\"width:400px;\">\n",
    "\n",
    " **外部結合** \n",
    "\n",
    "Key列に共通の値がない行も残ります。共通でない列については`NaN`で埋められたセルが作成されます。`\"kiwifruit\",\"mango\"`の行方向のデータに`NaN`が挿入されていることが確認できます。\n",
    "<br><br>\n",
    "<img src=\"https://aidemyexcontentspic.blob.core.windows.net/contents-pic/4010_pandas/outer_merge.png\" style=\"width:400px;\">\n"
   ]
  },
  {
   "cell_type": "markdown",
   "metadata": {},
   "source": [
    "#### 問題"
   ]
  },
  {
   "cell_type": "markdown",
   "metadata": {
    "id": "question"
   },
   "source": [
    "外部結合がふさわしいのは以下のうちどの場合でしょう。"
   ]
  },
  {
   "cell_type": "markdown",
   "metadata": {
    "id": "choices"
   },
   "source": [
    "- 同時期に異なる2地点で観測された時系列データを、時刻をKeyにして結合する\n",
    "- 注文履歴と顧客IDを、顧客IDをKeyにして結合する\n",
    "- 注文履歴と顧客IDを、注文履歴をKeyにして結合する\n",
    "- 上記のすべて"
   ]
  },
  {
   "cell_type": "markdown",
   "metadata": {},
   "source": [
    "#### ヒント"
   ]
  },
  {
   "cell_type": "markdown",
   "metadata": {
    "id": "hint"
   },
   "source": [
    "- 外部結合は、結合の結果なるべく多くの要素を含んだ方がよい場合に行うのが望ましいです。"
   ]
  },
  {
   "cell_type": "markdown",
   "metadata": {},
   "source": [
    "#### 解答"
   ]
  },
  {
   "cell_type": "markdown",
   "metadata": {
    "collapsed": true,
    "id": "answer"
   },
   "source": [
    "同時期に異なる2地点で観測された時系列データを、時刻をKeyにして結合する"
   ]
  },
  {
   "cell_type": "markdown",
   "metadata": {},
   "source": [
    "***"
   ]
  },
  {
   "cell_type": "markdown",
   "metadata": {
    "courseId": 4010,
    "exerciseId": "B1PHFhLiIgf",
    "id": "code_session_name",
    "important": true,
    "isDL": false,
    "timeoutSecs": 5
   },
   "source": [
    "### 2.3.2 内部結合の基本"
   ]
  },
  {
   "cell_type": "markdown",
   "metadata": {
    "id": "description"
   },
   "source": [
    "`df1`, `df2`の二つのDataFrameに対して、`pandas.merge(df1, df2, on=Keyとなるカラム, how=\"inner\")`とすることで内部結合されたDataFrameが作成されます。この場合、`df1`が左側に寄せられます。Key列で値が一致しない行は破棄されます。Key列以外の値の一致しない共通の列は残され、左側のDataFrameに属していたカラムには`_x`、右側に属していたカラムには`_y`が接尾詞としてつけられます。特に指定をしない限りDataFrameのインデックスは処理に関与しません。"
   ]
  },
  {
   "cell_type": "markdown",
   "metadata": {},
   "source": [
    "#### 問題"
   ]
  },
  {
   "cell_type": "markdown",
   "metadata": {
    "id": "question"
   },
   "source": [
    "- 内部結合の挙動を確認してください。\n",
    "- DataFrame型の変数`df1`と`df2`をカラム`\"fruits\"`をKeyに内部結合して作成したDataFrameを`df3`に代入してください。"
   ]
  },
  {
   "cell_type": "code",
   "execution_count": null,
   "metadata": {
    "id": "index"
   },
   "outputs": [],
   "source": [
    "import numpy as np\n",
    "import pandas as pd\n",
    "\n",
    "data1 = {\"fruits\": [\"apple\", \"orange\", \"banana\", \"strawberry\", \"kiwifruit\"],\n",
    "        \"year\": [2001, 2002, 2001, 2008, 2006],\n",
    "        \"amount\": [1, 4, 5, 6, 3]}\n",
    "df1 = pd.DataFrame(data1)\n",
    "\n",
    "data2 = {\"fruits\": [\"apple\", \"orange\", \"banana\", \"strawberry\", \"mango\"],\n",
    "        \"year\": [2001, 2002, 2001, 2008, 2007],\n",
    "        \"price\": [150, 120, 100, 250, 3000]}\n",
    "df2 = pd.DataFrame(data2)\n",
    "\n",
    "# df1, df2の中身を確認してください\n",
    "print(df1)\n",
    "print()\n",
    "print(df2)\n",
    "print()\n",
    "\n",
    "# df1とdf2を\"fruits\"をKeyに内部結合して作成したDataFrameをdf3に代入してください\n",
    "\n",
    "\n",
    "# 出力\n",
    "# 内部結合を行った時の挙動を確認しましょう\n",
    "print(df3)"
   ]
  },
  {
   "cell_type": "markdown",
   "metadata": {},
   "source": [
    "#### ヒント"
   ]
  },
  {
   "cell_type": "markdown",
   "metadata": {
    "id": "hint"
   },
   "source": [
    "- `df1`, `df2`の二つのDataFrameに対して、`pandas.merge(df1, df2, on=Keyとなるカラム, how=\"inner\")`とすることで内部結合されたDataFrameが作成されます。\n",
    "- 両方のDataFrameのカラムに\"year\"が含まれていますが、接尾辞が自動でつけられて区別されます。"
   ]
  },
  {
   "cell_type": "markdown",
   "metadata": {},
   "source": [
    "#### 解答例"
   ]
  },
  {
   "cell_type": "code",
   "execution_count": null,
   "metadata": {
    "id": "answer"
   },
   "outputs": [],
   "source": [
    "import numpy as np\n",
    "import pandas as pd\n",
    "\n",
    "data1 = {\"fruits\": [\"apple\", \"orange\", \"banana\", \"strawberry\", \"kiwifruit\"],\n",
    "        \"year\": [2001, 2002, 2001, 2008, 2006],\n",
    "        \"amount\": [1, 4, 5, 6, 3]}\n",
    "df1 = pd.DataFrame(data1)\n",
    "\n",
    "data2 = {\"fruits\": [\"apple\", \"orange\", \"banana\", \"strawberry\", \"mango\"],\n",
    "        \"year\": [2001, 2002, 2001, 2008, 2007],\n",
    "        \"price\": [150, 120, 100, 250, 3000]}\n",
    "df2 = pd.DataFrame(data2)\n",
    "\n",
    "# df1, df2の中身を確認してください\n",
    "print(df1)\n",
    "print()\n",
    "print(df2)\n",
    "print()\n",
    "\n",
    "# df1とdf2を\"fruits\"をKeyに内部結合して作成したDataFrameをdf3に代入してください\n",
    "df3 = pd.merge(df1, df2, on=\"fruits\", how=\"inner\")\n",
    "\n",
    "# 出力\n",
    "# 内部結合を行った時の挙動を確認しましょう\n",
    "print(df3)"
   ]
  },
  {
   "cell_type": "markdown",
   "metadata": {},
   "source": [
    "***"
   ]
  },
  {
   "cell_type": "markdown",
   "metadata": {
    "courseId": 4010,
    "exerciseId": "H1dHtnLiLeG",
    "id": "code_session_name",
    "important": true,
    "isDL": false,
    "timeoutSecs": 5
   },
   "source": [
    "### 2.3.3 外部結合の基本"
   ]
  },
  {
   "cell_type": "markdown",
   "metadata": {
    "id": "description"
   },
   "source": [
    "`df1`, `df2`の二つのDataFrameに対して、`pandas.merge(df1, df2, on=Keyとなるカラム, how=\"outer\")`とすることで外部結合されたDataFrameが作成されます。この場合、`df1`が左側に寄せられます。Key列で値の一致しない行は残され、`NaN`で埋められた列が作成されます。Key列以外の値の一致しない共通の列は残され、左側のDataFrameに属していたカラムには`_x`、右側に属していたカラムには`_y`が接尾詞としてつけられます。特に指定をしない限りDataFrameのインデックスは処理に関与しません。"
   ]
  },
  {
   "cell_type": "markdown",
   "metadata": {},
   "source": [
    "#### 問題"
   ]
  },
  {
   "cell_type": "markdown",
   "metadata": {
    "id": "question"
   },
   "source": [
    "- 外部結合の挙動を確認してください。\n",
    "- DataFrame型の変数`df1`と`df2`をカラム`\"fruits\"`をKeyに外部結合して作成したDataFrameを`df3`に代入してください。"
   ]
  },
  {
   "cell_type": "code",
   "execution_count": null,
   "metadata": {
    "id": "index"
   },
   "outputs": [],
   "source": [
    "import numpy as np\n",
    "import pandas as pd\n",
    "\n",
    "data1 = {\"fruits\": [\"apple\", \"orange\", \"banana\", \"strawberry\", \"kiwifruit\"],\n",
    "        \"year\": [2001, 2002, 2001, 2008, 2006],\n",
    "        \"amount\": [1, 4, 5, 6, 3]}\n",
    "df1 = pd.DataFrame(data1)\n",
    "\n",
    "data2 = {\"fruits\": [\"apple\", \"orange\", \"banana\", \"strawberry\", \"mango\"],\n",
    "        \"year\": [2001, 2002, 2001, 2008, 2007],\n",
    "        \"price\": [150, 120, 100, 250, 3000]}\n",
    "df2 = pd.DataFrame(data2)\n",
    "\n",
    "# df1, df2の中身を確認してください\n",
    "print(df1)\n",
    "print()\n",
    "print(df2)\n",
    "print()\n",
    "\n",
    "# df1とdf2を\"fruits\"をKeyに外部結合して作成したDataFrameをdf3に代入してください\n",
    "\n",
    "# 出力\n",
    "# 外部結合を行った時の挙動を確認しましょう\n",
    "print(df3)"
   ]
  },
  {
   "cell_type": "markdown",
   "metadata": {},
   "source": [
    "#### ヒント"
   ]
  },
  {
   "cell_type": "markdown",
   "metadata": {
    "id": "hint"
   },
   "source": [
    "- `df1`, `df2`の二つのDataFrameに対して、`pandas.merge(df1, df2, on=Keyとなるカラム, how=\"outer\")`とすることで外部結合されたDataFrameが作成されます。"
   ]
  },
  {
   "cell_type": "markdown",
   "metadata": {},
   "source": [
    "#### 解答例"
   ]
  },
  {
   "cell_type": "code",
   "execution_count": null,
   "metadata": {
    "id": "answer"
   },
   "outputs": [],
   "source": [
    "import numpy as np\n",
    "import pandas as pd\n",
    "\n",
    "data1 = {\"fruits\": [\"apple\", \"orange\", \"banana\", \"strawberry\", \"kiwifruit\"],\n",
    "        \"year\": [2001, 2002, 2001, 2008, 2006],\n",
    "        \"amount\": [1, 4, 5, 6, 3]}\n",
    "df1 = pd.DataFrame(data1)\n",
    "\n",
    "data2 = {\"fruits\": [\"apple\", \"orange\", \"banana\", \"strawberry\", \"mango\"],\n",
    "        \"year\": [2001, 2002, 2001, 2008, 2007],\n",
    "        \"price\": [150, 120, 100, 250, 3000]}\n",
    "df2 = pd.DataFrame(data2)\n",
    "\n",
    "# df1, df2の中身を確認してください\n",
    "print(df1)\n",
    "print()\n",
    "print(df2)\n",
    "print()\n",
    "\n",
    "# df1とdf2を\"fruits\"をKeyに外部結合して作成したDataFrameをdf3に代入してください\n",
    "df3 = pd.merge(df1, df2, on=\"fruits\", how=\"outer\")\n",
    "\n",
    "# 出力\n",
    "# 外部結合を行った時の挙動を確認しましょう\n",
    "print(df3)"
   ]
  },
  {
   "cell_type": "markdown",
   "metadata": {},
   "source": [
    "***"
   ]
  },
  {
   "cell_type": "markdown",
   "metadata": {
    "courseId": 4010,
    "exerciseId": "SyYBF2UiIlM",
    "id": "code_session_name",
    "important": false,
    "isDL": false,
    "timeoutSecs": 5
   },
   "source": [
    "### 2.3.4 同名でない列をKeyにして結合する"
   ]
  },
  {
   "cell_type": "markdown",
   "metadata": {
    "id": "description"
   },
   "source": [
    "2つのDataFrameのうち、片方が注文情報をもつ`order_df`（左）、もう片方が顧客情報をもつ`customer_df`（右）であるとします。注文情報では購入顧客のIDを示すカラムを`\"customer_id\"`としているのに対して、顧客情報では顧客のIDを示すカラムを`\"id\"`としているとします。注文情報に顧客情報のデータを取り込みたいので`\"customer_id\"`をKeyとしたいのですが、`customer_df`では対応するカラムが`\"id\"`となっており、対応させたい列同士のカラムが一致していません。このような場合はそれぞれのカラムを指定する必要があります。`pandas.merge(左側DF, 右側DF, left_on=\"左側DFのカラム\", right_on=\"右側DFのカラム\", how=\"結合方法\")` **と指定することでカラムの異なるDF同士の列について対応させて結合することができます。** （DFとはDataFrameの略です。）\n",
    "<br><br>\n",
    "<img src=\"https://aidemyexcontentspic.blob.core.windows.net/contents-pic/4010_pandas/different_key.png\" style=\"width:400px;\">\n"
   ]
  },
  {
   "cell_type": "markdown",
   "metadata": {},
   "source": [
    "#### 問題"
   ]
  },
  {
   "cell_type": "markdown",
   "metadata": {
    "id": "question"
   },
   "source": [
    "- 注文情報`order_df`と顧客情報`customer_df`を結合してください。`order_df`の`\"customer_id\"`を用いて`customer_df`の`\"id\"`を参照してください。結合方法は内部結合で結合してください。"
   ]
  },
  {
   "cell_type": "code",
   "execution_count": null,
   "metadata": {
    "id": "index"
   },
   "outputs": [],
   "source": [
    "import pandas as pd\n",
    "\n",
    "# 注文情報\n",
    "order_df = pd.DataFrame([[1000, 2546, 103],\n",
    "                         [1001, 4352, 101],\n",
    "                         [1002, 342, 101]],\n",
    "                         columns=[\"id\", \"item_id\", \"customer_id\"])\n",
    "# 顧客情報\n",
    "customer_df = pd.DataFrame([[101, \"Tanaka\"],\n",
    "                           [102, \"Suzuki\"],\n",
    "                           [103, \"Kato\"]],\n",
    "                           columns=[\"id\", \"name\"])\n",
    "\n",
    "# order_dfを元に\"id\"をcustomer_dfに結合してorder_dfに代入してください\n",
    "\n",
    "\n",
    "print(order_df)"
   ]
  },
  {
   "cell_type": "markdown",
   "metadata": {},
   "source": [
    "#### ヒント"
   ]
  },
  {
   "cell_type": "markdown",
   "metadata": {
    "id": "hint"
   },
   "source": [
    "- `pandas.merge(\"左側DF\", \"右側DF\", left_on=\"左側DFのカラム\", right_on=\"右側DFのカラム\", how=\"結合方法\")`と指定することでカラムの異なるDataFrame同士の列について対応させて結合することができます。"
   ]
  },
  {
   "cell_type": "markdown",
   "metadata": {},
   "source": [
    "#### 解答例"
   ]
  },
  {
   "cell_type": "code",
   "execution_count": null,
   "metadata": {
    "id": "answer"
   },
   "outputs": [],
   "source": [
    "import pandas as pd\n",
    "\n",
    "# 注文情報\n",
    "order_df = pd.DataFrame([[1000, 2546, 103],\n",
    "                         [1001, 4352, 101],\n",
    "                         [1002, 342, 101]],\n",
    "                         columns=[\"id\", \"item_id\", \"customer_id\"])\n",
    "# 顧客情報\n",
    "customer_df = pd.DataFrame([[101, \"Tanaka\"],\n",
    "                           [102, \"Suzuki\"],\n",
    "                           [103, \"Kato\"]],\n",
    "                           columns=[\"id\", \"name\"])\n",
    "\n",
    "# order_dfを元に\"id\"をcustomer_dfに結合してorder_dfに代入してください\n",
    "order_df = pd.merge(order_df, customer_df, left_on=\"customer_id\", right_on=\"id\", how=\"inner\")\n",
    "\n",
    "print(order_df)"
   ]
  },
  {
   "cell_type": "markdown",
   "metadata": {},
   "source": [
    "***"
   ]
  },
  {
   "cell_type": "markdown",
   "metadata": {
    "courseId": 4010,
    "exerciseId": "Hy5rYh8j8ez",
    "id": "code_session_name",
    "important": false,
    "isDL": false,
    "timeoutSecs": 5
   },
   "source": [
    "### 2.3.5 インデックスをKeyにして結合する"
   ]
  },
  {
   "cell_type": "markdown",
   "metadata": {
    "id": "description"
   },
   "source": [
    "DataFrame同士の結合に用いるKeyがインデックスの場合、前節のleft_on=\"左側DataFrameのカラム\", right_on=\"右側DataFrameのカラム\"の代わりにleft_index=True, right_index=Trueで指定します。"
   ]
  },
  {
   "cell_type": "markdown",
   "metadata": {},
   "source": [
    "#### 問題"
   ]
  },
  {
   "cell_type": "markdown",
   "metadata": {
    "id": "question"
   },
   "source": [
    "- 注文情報`order_df`と顧客情報`customer_df`を結合してください。`order_df`の`\"customer_id\"`を用いて`customer_df`のインデックスを参照してください。結合方法は内部結合で結合してください。"
   ]
  },
  {
   "cell_type": "code",
   "execution_count": null,
   "metadata": {
    "id": "index"
   },
   "outputs": [],
   "source": [
    "import pandas as pd\n",
    "\n",
    "# 注文情報\n",
    "order_df = pd.DataFrame([[1000, 2546, 103],\n",
    "                         [1001, 4352, 101],\n",
    "                         [1002, 342, 101]],\n",
    "                         columns=[\"id\", \"item_id\", \"customer_id\"])\n",
    "# 顧客情報\n",
    "customer_df = pd.DataFrame([[\"Tanaka\"],\n",
    "                           [\"Suzuki\"],\n",
    "                           [\"Kato\"]],\n",
    "                           columns=[\"name\"])\n",
    "customer_df.index = [101, 102, 103]\n",
    "\n",
    "# customer_dfを元に\"name\"をorder_dfに結合してorder_dfに代入してください\n",
    "\n",
    "\n",
    "print(order_df)"
   ]
  },
  {
   "cell_type": "markdown",
   "metadata": {},
   "source": [
    "#### ヒント"
   ]
  },
  {
   "cell_type": "markdown",
   "metadata": {
    "id": "hint"
   },
   "source": [
    "- 結合の際に左側のDataFrameのインデックスをKeyにする場合は`left_index=True`、右側のDataFrameのインデックスをKeyにする場合は`right_index=True`と指定します。"
   ]
  },
  {
   "cell_type": "markdown",
   "metadata": {},
   "source": [
    "#### 解答例"
   ]
  },
  {
   "cell_type": "code",
   "execution_count": null,
   "metadata": {
    "id": "answer"
   },
   "outputs": [],
   "source": [
    "import pandas as pd\n",
    "\n",
    "# 注文情報\n",
    "order_df = pd.DataFrame([[1000, 2546, 103],\n",
    "                         [1001, 4352, 101],\n",
    "                         [1002, 342, 101]],\n",
    "                         columns=[\"id\", \"item_id\", \"customer_id\"])\n",
    "# 顧客情報\n",
    "customer_df = pd.DataFrame([[\"Tanaka\"],\n",
    "                           [\"Suzuki\"],\n",
    "                           [\"Kato\"]],\n",
    "                           columns=[\"name\"])\n",
    "customer_df.index = [101, 102, 103]\n",
    "\n",
    "# customer_dfを元に\"name\"をorder_dfに結合してorder_dfに代入してください\n",
    "order_df = pd.merge(order_df, customer_df, left_on=\"customer_id\", right_index=True, how=\"inner\")\n",
    "\n",
    "print(order_df)"
   ]
  },
  {
   "cell_type": "markdown",
   "metadata": {},
   "source": [
    "***"
   ]
  },
  {
   "cell_type": "markdown",
   "metadata": {
    "id": "section_name",
    "sectionId": "HycedRXbl-f"
   },
   "source": [
    "## 2.4 DataFrameを用いたデータ分析"
   ]
  },
  {
   "cell_type": "markdown",
   "metadata": {
    "courseId": 4010,
    "exerciseId": "SkiSt3UsUlM",
    "id": "code_session_name",
    "important": true,
    "isDL": false,
    "timeoutSecs": 5
   },
   "source": [
    "### 2.4.1 一部の行を得る"
   ]
  },
  {
   "cell_type": "markdown",
   "metadata": {
    "id": "description"
   },
   "source": [
    "Pandasで扱うデータ量が膨大なとき、画面に全てを出力するのは不可能です。DataFrame型の変数`df`に対して、`df.head()`は **冒頭の5行のみを含むDataFrameを返します。** 同様に`df.tail()`は **末尾5行のみを含むDataFrameを返します。** 整数値を指定することで冒頭または末尾の任意の行数分のDataFrameを得ることができます。`head()`と`tail()`メソッドはSeries型の変数でも使うことができます。"
   ]
  },
  {
   "cell_type": "markdown",
   "metadata": {},
   "source": [
    "#### 問題"
   ]
  },
  {
   "cell_type": "markdown",
   "metadata": {
    "id": "question"
   },
   "source": [
    "- DataFrame型の変数`df`の冒頭3行を取得し、`df_head`に代入してください。\n",
    "- DataFrame型の変数`df`の末尾3行を取得し、`df_tail`に代入してください。"
   ]
  },
  {
   "cell_type": "code",
   "execution_count": null,
   "metadata": {
    "id": "index"
   },
   "outputs": [],
   "source": [
    "import numpy as np\n",
    "import pandas as pd\n",
    "np.random.seed(0)\n",
    "columns = [\"apple\", \"orange\", \"banana\", \"strawberry\", \"kiwifruit\"]\n",
    "\n",
    "# DataFrameを生成し、列を追加\n",
    "df = pd.DataFrame()\n",
    "for column in columns:\n",
    "    df[column] = np.random.choice(range(1, 11), 10)\n",
    "df.index = range(1, 11)\n",
    "\n",
    "# dfの冒頭3行を取得し、df_headに代入してください\n",
    "\n",
    "\n",
    "# dfの末尾3行を取得し、df_tailに代入してください\n",
    "\n",
    "\n",
    "# 出力\n",
    "print(df_head)\n",
    "print(df_tail)"
   ]
  },
  {
   "cell_type": "markdown",
   "metadata": {},
   "source": [
    "#### ヒント"
   ]
  },
  {
   "cell_type": "markdown",
   "metadata": {
    "id": "hint"
   },
   "source": [
    "- DataFrame型の変数`df`に対して、`df.head()`は冒頭の5行のみを含むDataFrameを返します。\n",
    "- 同様に`df.tail()`は末尾5行のみを返します。整数値を指定することで冒頭または末尾の任意の行数分のDataFrameを得ることができます。"
   ]
  },
  {
   "cell_type": "markdown",
   "metadata": {},
   "source": [
    "#### 解答例"
   ]
  },
  {
   "cell_type": "code",
   "execution_count": null,
   "metadata": {
    "id": "answer"
   },
   "outputs": [],
   "source": [
    "import numpy as np\n",
    "import pandas as pd\n",
    "np.random.seed(0)\n",
    "columns = [\"apple\", \"orange\", \"banana\", \"strawberry\", \"kiwifruit\"]\n",
    "\n",
    "# DataFrameを生成し、列を追加\n",
    "df = pd.DataFrame()\n",
    "for column in columns:\n",
    "    df[column] = np.random.choice(range(1, 11), 10)\n",
    "df.index = range(1, 11)\n",
    "\n",
    "# dfの冒頭3行を取得し、df_headに代入してください\n",
    "df_head = df.head(3)\n",
    "\n",
    "# dfの末尾3行を取得し、df_tailに代入してください\n",
    "df_tail = df.tail(3)\n",
    "\n",
    "# 出力\n",
    "print(df_head)\n",
    "print(df_tail)"
   ]
  },
  {
   "cell_type": "markdown",
   "metadata": {},
   "source": [
    "***"
   ]
  },
  {
   "cell_type": "markdown",
   "metadata": {
    "courseId": 4010,
    "exerciseId": "rJnSFnIsLxz",
    "id": "code_session_name",
    "important": true,
    "isDL": false,
    "timeoutSecs": 5
   },
   "source": [
    "### 2.4.2 計算処理を適用する"
   ]
  },
  {
   "cell_type": "markdown",
   "metadata": {
    "id": "description"
   },
   "source": [
    "PandasとNumpyは相性がよく、データの受け渡しを柔軟に行うことができます。 **Numpyで用意されている関数にSeriesやDataFrameを渡すと、全ての要素に対して計算処理を適用することができます。** Numpy配列を受け取る関数にDataFrameを渡した場合は、 **列単位でまとめて計算処理がされます。**\n",
    "\n",
    "また、PandasではNumpyのように **ブロードキャストがサポートされている** ため、Pandas同士やPandasと整数同士の計算も「+ - * /」を用いて柔軟に処理することができます。"
   ]
  },
  {
   "cell_type": "markdown",
   "metadata": {},
   "source": [
    "#### 問題"
   ]
  },
  {
   "cell_type": "markdown",
   "metadata": {
    "id": "question"
   },
   "source": [
    "- `df`の各要素を2倍し、`double_df`に代入してください。\n",
    "- `df`の各要素を2乗し、`square_df`に代入してください。\n",
    "- `df`の各要素の平方根を計算し、`sqrt_df`に代入してください。"
   ]
  },
  {
   "cell_type": "code",
   "execution_count": null,
   "metadata": {
    "id": "index"
   },
   "outputs": [],
   "source": [
    "import numpy as np\n",
    "import pandas as pd\n",
    "import math\n",
    "np.random.seed(0)\n",
    "columns = [\"apple\", \"orange\", \"banana\", \"strawberry\", \"kiwifruit\"]\n",
    "\n",
    "# DataFrameを生成し、列を追加\n",
    "df = pd.DataFrame()\n",
    "for column in columns:\n",
    "    df[column] = np.random.choice(range(1, 11), 10)\n",
    "df.index = range(1, 11)\n",
    "\n",
    "# dfの各要素を2倍し、double_dfに代入してください\n",
    "\n",
    "\n",
    "# dfの各要素を2乗し、square_dfに代入してください\n",
    "\n",
    "\n",
    "# dfの各要素の平方根を計算し、sqrt_dfに代入してください\n",
    "\n",
    "\n",
    "\n",
    "# 出力\n",
    "print(double_df)\n",
    "print(square_df)\n",
    "print(sqrt_df)"
   ]
  },
  {
   "cell_type": "markdown",
   "metadata": {},
   "source": [
    "#### ヒント"
   ]
  },
  {
   "cell_type": "markdown",
   "metadata": {
    "id": "hint"
   },
   "source": [
    "- PandasではNumpyのようにブロードキャストがサポートされているため、Pandas同士やPandasと整数同士の計算も「+ - * /」を用いて柔軟に処理することができます。"
   ]
  },
  {
   "cell_type": "markdown",
   "metadata": {},
   "source": [
    "#### 解答例"
   ]
  },
  {
   "cell_type": "code",
   "execution_count": null,
   "metadata": {
    "id": "answer",
    "scrolled": false
   },
   "outputs": [],
   "source": [
    "import numpy as np\n",
    "import pandas as pd\n",
    "import math\n",
    "np.random.seed(0)\n",
    "columns = [\"apple\", \"orange\", \"banana\", \"strawberry\", \"kiwifruit\"]\n",
    "\n",
    "# DataFrameを生成し、列を追加\n",
    "df = pd.DataFrame()\n",
    "for column in columns:\n",
    "    df[column] = np.random.choice(range(1, 11), 10)\n",
    "df.index = range(1, 11)\n",
    "\n",
    "# dfの各要素を2倍し、double_dfに代入してください\n",
    "double_df = df * 2 # double_df = df + dfもOK\n",
    "\n",
    "# dfの各要素を2乗し、square_dfに代入してください\n",
    "square_df = df * df #square_df = df**2 でもOK\n",
    "\n",
    "# dfの各要素の平方根を計算し、sqrt_dfに代入してください\n",
    "sqrt_df = np.sqrt(df)\n",
    "\n",
    "\n",
    "# 出力\n",
    "print(double_df)\n",
    "print(square_df)\n",
    "print(sqrt_df)"
   ]
  },
  {
   "cell_type": "markdown",
   "metadata": {},
   "source": [
    "***"
   ]
  },
  {
   "cell_type": "markdown",
   "metadata": {
    "courseId": 4010,
    "exerciseId": "HypSY3UsLgf",
    "id": "code_session_name",
    "important": true,
    "isDL": false,
    "timeoutSecs": 5
   },
   "source": [
    "### 2.4.3 要約統計量を得る"
   ]
  },
  {
   "cell_type": "markdown",
   "metadata": {
    "id": "description"
   },
   "source": [
    "列ごとの平均値、最大値、最小値などの統計的情報をまとめたものを **<font color=#AA0000>要約統計量</font>** と呼びます。DataFrame型の変数`df`に対して、`df.describe()`は`df`の列ごとの **個数** 、 **平均値** 、 **標準偏差** 、 **最小値** 、**四分位数** 、 **最大値** を含むDataFrameを返します。得られたDataFrameのインデックスは統計量の名前になります。"
   ]
  },
  {
   "cell_type": "markdown",
   "metadata": {},
   "source": [
    "#### 問題"
   ]
  },
  {
   "cell_type": "markdown",
   "metadata": {
    "id": "question"
   },
   "source": [
    "- DataFrame型の変数`df`の要約統計量のうち、`\"mean\"`, `\"max\"`, `\"min\"`を取り出して`df_des`に代入してください。"
   ]
  },
  {
   "cell_type": "code",
   "execution_count": null,
   "metadata": {
    "id": "index"
   },
   "outputs": [],
   "source": [
    "import numpy as np\n",
    "import pandas as pd\n",
    "np.random.seed(0)\n",
    "columns = [\"apple\", \"orange\", \"banana\", \"strawberry\", \"kiwifruit\"]\n",
    "\n",
    "# DataFrameを生成し、列を追加\n",
    "df = pd.DataFrame()\n",
    "for column in columns:\n",
    "    df[column] = np.random.choice(range(1, 11), 10)\n",
    "df.index = range(1, 11)\n",
    "\n",
    "# dfの要約統計量のうち、\"mean\", \"max\", \"min\"を取り出してdf_desに代入してください\n",
    "\n",
    "\n",
    "print(df_des)"
   ]
  },
  {
   "cell_type": "markdown",
   "metadata": {},
   "source": [
    "#### ヒント"
   ]
  },
  {
   "cell_type": "markdown",
   "metadata": {
    "id": "hint"
   },
   "source": [
    "- DataFrame型の変数`df`に対して、`df.describe()`は`df`の列ごとの個数、平均値、標準偏差、最小値、四分位数、最大値を含むをDataFrame返します。\n",
    "- `df`のインデックス参照は`df.loc[\"インデックスのリスト\"]`で行います。"
   ]
  },
  {
   "cell_type": "markdown",
   "metadata": {},
   "source": [
    "#### 解答例"
   ]
  },
  {
   "cell_type": "code",
   "execution_count": null,
   "metadata": {
    "id": "answer"
   },
   "outputs": [],
   "source": [
    "import numpy as np\n",
    "import pandas as pd\n",
    "np.random.seed(0)\n",
    "columns = [\"apple\", \"orange\", \"banana\", \"strawberry\", \"kiwifruit\"]\n",
    "\n",
    "# DataFrameを生成し、列を追加\n",
    "df = pd.DataFrame()\n",
    "for column in columns:\n",
    "    df[column] = np.random.choice(range(1, 11), 10)\n",
    "df.index = range(1, 11)\n",
    "\n",
    "# dfの要約統計量のうち、\"mean\", \"max\", \"min\"を取り出してdf_desに代入してください\n",
    "df_des = df.describe().loc[[\"mean\", \"max\", \"min\"]]\n",
    "\n",
    "print(df_des)"
   ]
  },
  {
   "cell_type": "markdown",
   "metadata": {},
   "source": [
    "***"
   ]
  },
  {
   "cell_type": "markdown",
   "metadata": {
    "courseId": 4010,
    "exerciseId": "BkCSFnUsUxf",
    "id": "code_session_name",
    "important": false,
    "isDL": false,
    "timeoutSecs": 5
   },
   "source": [
    "### 2.4.4 DataFrameの行間または列間の差を求める"
   ]
  },
  {
   "cell_type": "markdown",
   "metadata": {
    "id": "description"
   },
   "source": [
    "行間の差を求める操作は特に時系列分析で用いられる機能です。DataFrame型の変数`df`に対して、`df.diff(\"行または列の間隔\", axis=\"方向\")`と指定することで行間または列間の差を計算したDataFrameが作成されます。第1引数が正の場合は前の行との差、負の場合は後の行との差を求めます。`axis`は`0`の場合が列方向、`1`の場合が行方向です。"
   ]
  },
  {
   "cell_type": "markdown",
   "metadata": {},
   "source": [
    "#### 問題"
   ]
  },
  {
   "cell_type": "markdown",
   "metadata": {
    "id": "question"
   },
   "source": [
    "- DataFrame型の変数`df`の各行について、2行後の行との差を計算したDataFrameを`df_diff`に代入してください。"
   ]
  },
  {
   "cell_type": "code",
   "execution_count": null,
   "metadata": {
    "id": "index"
   },
   "outputs": [],
   "source": [
    "import numpy as np\n",
    "import pandas as pd\n",
    "np.random.seed(0)\n",
    "columns = [\"apple\", \"orange\", \"banana\", \"strawberry\", \"kiwifruit\"]\n",
    "\n",
    "# DataFrameを生成し、列を追加\n",
    "df = pd.DataFrame()\n",
    "for column in columns:\n",
    "    df[column] = np.random.choice(range(1, 11), 10)\n",
    "df.index = range(1, 11)\n",
    "\n",
    "# dfの各行について、2行後の行との差を計算したDataFrameをdf_diffに代入してください\n",
    "\n",
    "\n",
    "# dfとdf_diffの中身を比較して処理内容を確認してください\n",
    "print(df)\n",
    "print(df_diff)"
   ]
  },
  {
   "cell_type": "markdown",
   "metadata": {},
   "source": [
    "#### ヒント"
   ]
  },
  {
   "cell_type": "markdown",
   "metadata": {
    "id": "hint"
   },
   "source": [
    "- DataFrame型の変数`df`に対して、`df.diff(\"行または列の間隔\", axis=\"方向\")`と指定することで行間または列間の差を計算したDataFrameが作成されます。\n",
    "- 第1引数が正の場合は前の行との差、負の場合は後の行との差を求めます。\n",
    "- `axis`は`0`の場合が列方向、`1`の場合が行方向です。"
   ]
  },
  {
   "cell_type": "markdown",
   "metadata": {},
   "source": [
    "#### 解答例"
   ]
  },
  {
   "cell_type": "code",
   "execution_count": null,
   "metadata": {
    "id": "answer"
   },
   "outputs": [],
   "source": [
    "import numpy as np\n",
    "import pandas as pd\n",
    "np.random.seed(0)\n",
    "columns = [\"apple\", \"orange\", \"banana\", \"strawberry\", \"kiwifruit\"]\n",
    "\n",
    "# DataFrameを生成し、列を追加\n",
    "df = pd.DataFrame()\n",
    "for column in columns:\n",
    "    df[column] = np.random.choice(range(1, 11), 10)\n",
    "df.index = range(1, 11)\n",
    "\n",
    "# dfの各行について、2行後の行との差を計算したDataFrameをdf_diffに代入してください\n",
    "df_diff = df.diff(-2, axis=0)\n",
    "\n",
    "# dfとdf_diffの中身を比較して処理内容を確認してください\n",
    "print(df)\n",
    "print(df_diff)"
   ]
  },
  {
   "cell_type": "markdown",
   "metadata": {},
   "source": [
    "***"
   ]
  },
  {
   "cell_type": "markdown",
   "metadata": {
    "courseId": 4010,
    "exerciseId": "S1JIF3Uj8xz",
    "id": "code_session_name",
    "important": false,
    "isDL": false,
    "timeoutSecs": 5
   },
   "source": [
    "### 2.4.5 グループ化"
   ]
  },
  {
   "cell_type": "markdown",
   "metadata": {
    "id": "description"
   },
   "source": [
    "データベースやDataFrameに対して、ある特定の列について同じ値を持つ行を集約するすることを **<font color=#AA0000>グループ化</font>** と呼びます。DataFrame型の変数`df`に対して`df.groupby(\"カラム\")`とすることで指定したカラムの列についてグループ化することが可能です。この際、GroupByオブジェクトが返されますが、 **グループ化された結果を直接表示することはできません。** GroupByオブジェクトに対して、各グループの平均値を求める`mean()`や和を求める`sum()` などの演算を行うことができます。"
   ]
  },
  {
   "cell_type": "markdown",
   "metadata": {},
   "source": [
    "#### 問題"
   ]
  },
  {
   "cell_type": "markdown",
   "metadata": {
    "id": "question"
   },
   "source": [
    "- DataFrame型の変数`prefecture_df`には一部の都道府県の名前、面積（整数値）、人口（整数値）、属する地域名が含まれます。\n",
    "- `prefecture_df`を地域(Region)についてグループ化し、`grouped_region`に代入してください\n",
    "- `prefecture_df`に出てきた地域ごとの、面積(Area)と人口(Population)の平均を`mean_df`に代入してください。"
   ]
  },
  {
   "cell_type": "code",
   "execution_count": null,
   "metadata": {
    "id": "index"
   },
   "outputs": [],
   "source": [
    "import pandas as pd\n",
    "\n",
    "# 一部の都道府県に関するDataFrameを作成\n",
    "prefecture_df = pd.DataFrame([[\"Tokyo\", 2190, 13636, \"Kanto\"], [\"Kanagawa\", 2415, 9145, \"Kanto\"],\n",
    "                              [\"Osaka\", 1904, 8837, \"Kinki\"], [\"Kyoto\", 4610, 2605, \"Kinki\"],\n",
    "                              [\"Aichi\", 5172, 7505, \"Chubu\"]], \n",
    "                             columns=[\"Prefecture\", \"Area\", \"Population\", \"Region\"])\n",
    "# 出力\n",
    "print(prefecture_df)\n",
    "\n",
    "# prefecture_dfを地域(Region)についてグループ化し、grouped_regionに代入してください\n",
    "\n",
    "\n",
    "# prefecture_dfに出てきた地域ごとの、面積(Area)と人口(Population)の平均をmean_dfに代入してください\n",
    "\n",
    "\n",
    "# 出力\n",
    "print(mean_df)"
   ]
  },
  {
   "cell_type": "markdown",
   "metadata": {},
   "source": [
    "#### ヒント"
   ]
  },
  {
   "cell_type": "markdown",
   "metadata": {
    "id": "hint"
   },
   "source": [
    "- DataFrame型の変数`df`に対して`df.groupby(\"カラム\")`とすることで指定したカラムの列についてグループ化することが可能です。この際、GroupByオブジェクトが返されます。\n",
    "- GroupByオブジェクトに対して、各グループの平均値を求める`mean()`や和を求める`sum()` などの演算を行うことができます。"
   ]
  },
  {
   "cell_type": "markdown",
   "metadata": {},
   "source": [
    "#### 解答例"
   ]
  },
  {
   "cell_type": "code",
   "execution_count": 2,
   "metadata": {
    "id": "answer",
    "scrolled": false
   },
   "outputs": [
    {
     "name": "stdout",
     "output_type": "stream",
     "text": [
      "  Prefecture  Area  Population Region\n",
      "0      Tokyo  2190       13636  Kanto\n",
      "1   Kanagawa  2415        9145  Kanto\n",
      "2      Osaka  1904        8837  Kinki\n",
      "3      Kyoto  4610        2605  Kinki\n",
      "4      Aichi  5172        7505  Chubu\n",
      "          Area  Population\n",
      "Region                    \n",
      "Chubu   5172.0      7505.0\n",
      "Kanto   2302.5     11390.5\n",
      "Kinki   3257.0      5721.0\n"
     ]
    }
   ],
   "source": [
    "import pandas as pd\n",
    "\n",
    "# 一部の都道府県に関するDataFrameを作成\n",
    "prefecture_df = pd.DataFrame([[\"Tokyo\", 2190, 13636, \"Kanto\"], [\"Kanagawa\", 2415, 9145, \"Kanto\"],\n",
    "                              [\"Osaka\", 1904, 8837, \"Kinki\"], [\"Kyoto\", 4610, 2605, \"Kinki\"],\n",
    "                              [\"Aichi\", 5172, 7505, \"Chubu\"]], \n",
    "                             columns=[\"Prefecture\", \"Area\", \"Population\", \"Region\"])\n",
    "# 出力\n",
    "print(prefecture_df)\n",
    "\n",
    "# prefecture_dfを地域(Region)についてグループ化し、grouped_regionに代入してください\n",
    "grouped_region = prefecture_df.groupby(\"Region\")\n",
    "\n",
    "# prefecture_dfに出てきた地域ごとの、面積(Area)と人口(Population)の平均をmean_dfに代入してください\n",
    "mean_df = grouped_region.mean()\n",
    "\n",
    "# 出力\n",
    "print(mean_df)"
   ]
  },
  {
   "cell_type": "markdown",
   "metadata": {
    "id": "chapter_exam"
   },
   "source": [
    "## 2.5 添削問題"
   ]
  },
  {
   "cell_type": "markdown",
   "metadata": {
    "id": "description"
   },
   "source": [
    "この章で学んだことを活用しましょう。"
   ]
  },
  {
   "cell_type": "markdown",
   "metadata": {},
   "source": [
    "#### 問題"
   ]
  },
  {
   "cell_type": "markdown",
   "metadata": {
    "id": "question"
   },
   "source": [
    "`df1`と`df2`はそれぞれ野菜もしくは果物についての`DataFrame`です。`\"Name\", \"Type\", \"Price\"`はそれぞれ名前、野菜か果物か、値段を表します。<br>\n",
    "あなたは野菜および果物をそれぞれ3種類ずつ購入したいと思っています。なるべく費用を安くしたいので、以下の手順で最小費用を求めてください。\n",
    "- `df1`と`df2`を縦に結合する\n",
    "- そこから野菜のみ、および果物のみをそれぞれ抽出し、`\"Price\"`でソート\n",
    "- 野菜および果物について、それぞれ安いものを上から3つ選び、合計金額を出力する"
   ]
  },
  {
   "cell_type": "code",
   "execution_count": null,
   "metadata": {
    "id": "index",
    "scrolled": true
   },
   "outputs": [],
   "source": [
    "import pandas as pd\n",
    "\n",
    "# それぞれのDataFrameの定義\n",
    "\n",
    "df1 = pd.DataFrame([[\"apple\", \"Fruit\", 120],\n",
    "                    [\"orange\", \"Fruit\", 60],\n",
    "                    [\"banana\", \"Fruit\", 100],\n",
    "                    [\"pumpkin\", \"Vegetable\", 150],\n",
    "                    [\"potato\", \"Vegetable\", 80]],\n",
    "                    columns=[\"Name\", \"Type\", \"Price\"])\n",
    "\n",
    "df2 = pd.DataFrame([[\"onion\", \"Vegetable\", 60],\n",
    "                    [\"carrot\", \"Vegetable\", 50],\n",
    "                    [\"beens\", \"Vegetable\", 100],\n",
    "                    [\"grape\", \"Fruit\", 160],\n",
    "                    [\"kiwifruit\", \"Fruit\", 80]],\n",
    "                    columns=[\"Name\", \"Type\", \"Price\"])\n",
    "\n",
    "# ここに解答を記述してください\n"
   ]
  },
  {
   "cell_type": "markdown",
   "metadata": {},
   "source": [
    "#### ヒント"
   ]
  },
  {
   "cell_type": "markdown",
   "metadata": {
    "id": "hint"
   },
   "source": [
    "- DataFrame型の変数`df`に対して`df.sort_value(by=\"カラムの名前\")`とすることで、そのカラムの値でソートできます\n",
    "- `sum(df[a:b][\"Price\"])`で、`df[a]~df[b - 1]`の範囲の`\"Price\"`の和を求められます"
   ]
  },
  {
   "cell_type": "markdown",
   "metadata": {},
   "source": [
    "#### 解答例"
   ]
  },
  {
   "cell_type": "code",
   "execution_count": 1,
   "metadata": {
    "id": "answer",
    "scrolled": true
   },
   "outputs": [
    {
     "name": "stdout",
     "output_type": "stream",
     "text": [
      "430\n"
     ]
    }
   ],
   "source": [
    "import pandas as pd\n",
    "\n",
    "# それぞれのDataFrameの定義\n",
    "\n",
    "df1 = pd.DataFrame([[\"apple\", \"Fruit\", 120],\n",
    "                    [\"orange\", \"Fruit\", 60],\n",
    "                    [\"banana\", \"Fruit\", 100],\n",
    "                    [\"pumpkin\", \"Vegetable\", 150],\n",
    "                    [\"potato\", \"Vegetable\", 80]],\n",
    "                    columns=[\"Name\", \"Type\", \"Price\"])\n",
    "\n",
    "df2 = pd.DataFrame([[\"onion\", \"Vegetable\", 60],\n",
    "                    [\"carrot\", \"Vegetable\", 50],\n",
    "                    [\"beens\", \"Vegetable\", 100],\n",
    "                    [\"grape\", \"Fruit\", 160],\n",
    "                    [\"kiwifruit\", \"Fruit\", 80]],\n",
    "                    columns=[\"Name\", \"Type\", \"Price\"])\n",
    "\n",
    "# ここに解答を記述してください\n",
    "\n",
    "# 結合\n",
    "\n",
    "df3 = pd.concat([df1, df2], axis=0)\n",
    "\n",
    "# 果物のみを抽出し、Priceでソート\n",
    "\n",
    "df_fruit = df3.loc[df3[\"Type\"] == \"Fruit\"]\n",
    "df_fruit = df_fruit.sort_values(by=\"Price\")\n",
    "\n",
    "# 野菜のみを抽出し、Priceでソート\n",
    "\n",
    "df_veg = df3.loc[df3[\"Type\"] == \"Vegetable\"]\n",
    "df_veg = df_veg.sort_values(by=\"Price\")\n",
    "\n",
    "# それぞれの上3つの要素のPriceの合計金額\n",
    "\n",
    "print(sum(df_fruit[:3][\"Price\"]) + sum(df_veg[:3][\"Price\"]))"
   ]
  },
  {
   "cell_type": "markdown",
   "metadata": {
    "id": "commentary"
   },
   "source": [
    "- ここで用いたDataFrameの機能は、「結合」、「ソート」、「参照」です。DataFrameの操作に不安を覚えた方はこれまでのセッションを振り返ってみましょう。\n",
    "- 回答の最後の行は、`df_fruit[行指定][列指定].sum()`を用いることでも合計を計算することができます。この方法でも是非やってみましょう。"
   ]
  },
  {
   "cell_type": "markdown",
   "metadata": {},
   "source": [
    "***"
   ]
  }
 ],
 "metadata": {
  "anaconda-cloud": {},
  "celltoolbar": "Edit Metadata",
  "kernelspec": {
   "display_name": "Python 3",
   "language": "python",
   "name": "python3"
  },
  "language_info": {
   "codemirror_mode": {
    "name": "ipython",
    "version": 3
   },
   "file_extension": ".py",
   "mimetype": "text/x-python",
   "name": "python",
   "nbconvert_exporter": "python",
   "pygments_lexer": "ipython3",
   "version": "3.6.5"
  },
  "toc": {
   "base_numbering": 1,
   "nav_menu": {},
   "number_sections": true,
   "sideBar": true,
   "skip_h1_title": false,
   "title_cell": "Table of Contents",
   "title_sidebar": "Contents",
   "toc_cell": false,
   "toc_position": {},
   "toc_section_display": true,
   "toc_window_display": true
  },
  "varInspector": {
   "cols": {
    "lenName": 16,
    "lenType": 16,
    "lenVar": 40
   },
   "kernels_config": {
    "python": {
     "delete_cmd_postfix": "",
     "delete_cmd_prefix": "del ",
     "library": "var_list.py",
     "varRefreshCmd": "print(var_dic_list())"
    },
    "r": {
     "delete_cmd_postfix": ") ",
     "delete_cmd_prefix": "rm(",
     "library": "var_list.r",
     "varRefreshCmd": "cat(var_dic_list()) "
    }
   },
   "types_to_exclude": [
    "module",
    "function",
    "builtin_function_or_method",
    "instance",
    "_Feature"
   ],
   "window_display": false
  }
 },
 "nbformat": 4,
 "nbformat_minor": 2
}