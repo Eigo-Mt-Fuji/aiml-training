{
 "cells": [
  {
   "cell_type": "markdown",
   "metadata": {
    "chapterId": "B1tbd0Xbl-z",
    "id": "chapter_name"
   },
   "source": [
    "#  教師あり学習（回帰）の基礎"
   ]
  },
  {
   "cell_type": "markdown",
   "metadata": {
    "id": "table"
   },
   "source": [
    "- **[1.1 教師あり学習とは](#1.1-教師あり学習とは)**\n",
    "    - **[1.1.1 機械学習の種類](#1.1.1-機械学習の種類)**\n",
    "    - **[1.1.2 scikit-learnを用いた機械学習](#1.1.2-scikit-learnを用いた機械学習)**\n",
    "<br><br>\n",
    "- **[1.2 線形回帰](#1.2-線形回帰)**\n",
    "    - **[1.2.1 線形回帰とは](#1.2.1-線形回帰とは)**\n",
    "    - **[1.2.2 決定係数](#1.2.2-決定係数)**\n",
    "    - **[1.2.3 線形単回帰](#1.2.3-線形単回帰)**\n",
    "    - **[1.2.4 線形重回帰](#1.2.4-線形重回帰)**\n",
    "<br><br>\n",
    "- **[1.3 添削問題](#1.3-添削問題)**\n",
    "\n",
    "<!--<span style=\"color: red; \">\n",
    "scikit-learnを用いた機械学習の節を設けているのは、どのような狙いでしょうか？<br></span>\n",
    "<span style=\"color: blue;\">→ 機械学習の流れを説明するためです。<br>\n",
    "流れを説明するときに具体的にソースコードを見せてどのようなことを行っているのかを見せておいたほうが後々の説明で不便になりにくいと考えた結果です。\n",
    "教師あり学習とはという章の中に、決定係数が含まれている点も違和感があります。なぜこの流れの中で決定係数の説明が必要になるのかを明らかにするか、別の箇所に移動させましょう。\n",
    "問題が作成できていな箇所が多くあります。完成させましょう。\n",
    "</span>-->"
   ]
  },
  {
   "cell_type": "markdown",
   "metadata": {},
   "source": [
    "***"
   ]
  },
  {
   "cell_type": "markdown",
   "metadata": {
    "id": "section_name",
    "sectionId": "By5WORQWgbG"
   },
   "source": [
    "## 1.1 教師あり学習（回帰）とは"
   ]
  },
  {
   "cell_type": "markdown",
   "metadata": {
    "courseId": 5010,
    "exerciseId": "BJIdt2LjUxf",
    "id": "quiz_session_name",
    "important": false,
    "isDL": false,
    "timeoutSecs": 5
   },
   "source": [
    "### 1.1.1 機械学習の種類"
   ]
  },
  {
   "cell_type": "markdown",
   "metadata": {
    "id": "description"
   },
   "source": [
    "機械学習は主に3つの分野に分かれます。\n",
    "\n",
    "1つは **<font color=#AA0000>教師あり学習</font>** と呼ばれるものです。  蓄積されたデータを元に機械が新しいデータや未来のデータの予測、あるいは分類を行うことを指します。  株価の予測や画像識別などが当てはまります。\n",
    "\n",
    " **教師なし学習** と呼ばれる分野も存在します。  蓄積されたデータの構造や関係性を機械が見出すことを指します。  小売店の顧客の傾向やGoogleの画像認識などで用いられています。\n",
    "\n",
    "最後に **強化学習** です。  学習形態は教師なし学習に近いのですが、報酬や目標などを設定することで学習時に利益の最大化を図るように学習をする手法です。  囲碁などの対戦型AIとして用いられていることが多いです。\n",
    "\n",
    "このなかで、教師あり学習は2つの手法に大別されます。\n",
    "\n",
    "これから学ぶのは **<font color=#AA0000>回帰</font>** です。  既存のデータから関係性を読み取り、その関係性を元にデータの予測を行う手法です。  予測される値は株価や宝石の時価などの連続値になります。\n",
    "\n",
    "もう一つの分野である **分類** については教師あり学習（分類）という別講座を参照ください。  こちらもデータの予測を行うのが主目的ですが、予測される値はデータのカテゴリーであり、離散値となります。"
   ]
  },
  {
   "cell_type": "markdown",
   "metadata": {},
   "source": [
    "#### 問題"
   ]
  },
  {
   "cell_type": "markdown",
   "metadata": {
    "id": "question"
   },
   "source": [
    "- 次のうち教師あり学習の回帰について説明しているものを選んでください。"
   ]
  },
  {
   "cell_type": "markdown",
   "metadata": {
    "id": "choices"
   },
   "source": [
    "1. データの構造や関係性を機械が学習によって見出す手法。\n",
    "1. 株価の時間変化や家屋の敷地や装飾などによる価格の変化などの連続的関係性を見出しデータを予測する手法。\n",
    "1. データの特徴を学習し、データをカテゴライズする手法。\n",
    "1. 機械に具体的な目標を設定し、利益が最大となるように学習させる手法。"
   ]
  },
  {
   "cell_type": "markdown",
   "metadata": {},
   "source": [
    "#### ヒント"
   ]
  },
  {
   "cell_type": "markdown",
   "metadata": {
    "id": "hint"
   },
   "source": [
    "- 教師あり学習はデータの予測が主目的です。\n",
    "- 回帰は関係性が連続的なのが特徴です。"
   ]
  },
  {
   "cell_type": "markdown",
   "metadata": {},
   "source": [
    "#### 解答"
   ]
  },
  {
   "cell_type": "markdown",
   "metadata": {
    "id": "answer"
   },
   "source": [
    "株価の時間変化や家屋の敷地や装飾などによる価格の変化などの連続的関係性を見出しデータを予測する手法。"
   ]
  },
  {
   "cell_type": "markdown",
   "metadata": {},
   "source": [
    "***"
   ]
  },
  {
   "cell_type": "markdown",
   "metadata": {
    "courseId": 5010,
    "exerciseId": "r1wOF3LiLeM",
    "id": "code_session_name",
    "important": true,
    "isDL": false,
    "timeoutSecs": 5
   },
   "source": [
    "### 1.1.2 scikit-learnを用いた機械学習"
   ]
  },
  {
   "cell_type": "markdown",
   "metadata": {
    "id": "description"
   },
   "source": [
    "また、機械学習のためのモジュールであるscikit-learnを利用します。\n",
    "\n",
    "scikit-learnを用いた機械学習の流れをサンプルコードとともに掲載します。\n",
    "\n",
    "```Python\n",
    "# 必要なモジュールのインポートします。\n",
    "import request\n",
    "from sklearn.linear_model import LinearRegression\n",
    "\n",
    "# 次に学習させたいデータの読み込みを行います。詳しいコードはこの問題にあるコードを参照ください。\n",
    "# 以下のようにtrain_X, test_X, train_y, test_yという4つのファイルに分けてデータがロードします。\n",
    "train_X, test_X, train_y, test_y = (データの情報)\n",
    "\n",
    "# 学習器の構築を行います。\n",
    "# 学習器とは、学習モデル(学習方法)に沿って学習を行うように設計されたオブジェクトのことです。\n",
    "# scikit-learnのLinearRegressionが学習して予測データを返してくれるのです。\n",
    "# このLinearRegressionの詳細は次以降のセッションで扱います。\n",
    "model = LinearRegression()\n",
    "\n",
    "# 教師データ(学習を行うための既存データ)を用いて学習器に学習させます。\n",
    "model.fit(train_X, train_y)\n",
    "\n",
    "# 教師データとは別に用意したテスト用データを用いて学習器に予測させます。\n",
    "pred_y = model.predict(test_X)\n",
    "\n",
    "# 学習器の性能を確認するため決定係数という評価値を算出します。\n",
    "score = model.score(test_X,)\n",
    "```\n",
    "\n",
    "練習問題では簡単な学習の流れを確認してみましょう。"
   ]
  },
  {
   "cell_type": "markdown",
   "metadata": {},
   "source": [
    "#### 問題"
   ]
  },
  {
   "cell_type": "markdown",
   "metadata": {
    "id": "question"
   },
   "source": [
    "- 次のプログラムはデータを学習するために必要なコードが抜けているために実行するとエラーになります。\n",
    "- 必要なコードを埋めてプログラムを完成させてください。"
   ]
  },
  {
   "cell_type": "code",
   "execution_count": 3,
   "metadata": {
    "id": "index",
    "scrolled": false
   },
   "outputs": [
    {
     "name": "stdout",
     "output_type": "stream",
     "text": [
      "[28.83885359 36.00783288 15.08324755 25.23090886 18.87864064 23.21398327\n",
      " 17.5931124  14.30508093 23.05438985 20.62008346 24.78514683 18.66833668\n",
      " -6.9788951  21.83575737 19.20898992 26.2868054  20.54379176  5.65713224\n",
      " 40.42358065 17.64146116 27.32258958 30.05056174 11.15013704 24.11530393\n",
      " 17.89145648 15.79348591 22.94743453 14.2586068  22.26731194 19.24709013\n",
      " 22.26897546 25.24344002 25.69165643 17.98759507 16.70286649 17.11631225\n",
      " 31.19643534 20.17835831 23.71828436 24.79196868 13.94575895 32.00389982\n",
      " 42.53869791 17.44523722 27.15354457 17.07482215 13.89272021 26.06440323\n",
      " 20.36888769 29.97813037 21.35346608 34.32287916 15.88498671 26.17757739\n",
      " 39.50970314 22.84123308 18.95049088 32.68913818 25.02057949 12.90539147\n",
      " 22.76052302 30.53884316 31.60797905 15.92162168 20.50670563 16.50798147\n",
      " 20.50202198 26.00723901 30.63860954 11.42877835 20.53765181 27.56249175\n",
      " 10.85162601 15.96871769 23.87570192  5.66369672 21.47818991 41.2820034\n",
      " 18.56559986  9.08857252 20.97848452 13.0630057  20.99054395  9.34050291\n",
      " 23.13686588 31.80106627 19.10245917 25.59186169 29.14490119 20.17571514\n",
      " 25.5962149   5.20301905 20.16835681 15.08546746 12.8601543  20.80904894\n",
      " 24.68556943 -0.77450939 13.33875673 15.62703156 22.21755358 24.58188737\n",
      " 10.77302163 19.50068376 23.23450396 11.77388822 18.36777924 25.4383785\n",
      " 20.89079232 24.08440617  7.3658717  19.16424347 21.93734133 27.41191713\n",
      " 32.50857196 14.86885244 35.05912525 12.86075113 20.83043572 28.42077138\n",
      " 15.65853688 24.67196362  3.28420892 23.79879617 25.73329894 23.04815612\n",
      " 24.73046824]\n"
     ]
    }
   ],
   "source": [
    "# scikit-learnのLinearRegressionというモデルをインポートします。詳細は1.2で説明します\n",
    "from sklearn.linear_model import LinearRegression\n",
    "\n",
    "# scikit-learnに標準で搭載されている、ボストン市の住宅価格のデータセットをインポートします\n",
    "from sklearn.datasets import load_boston\n",
    "\n",
    "# scikit-learnに搭載されているデータセットを学習用と予測結果照合用に分けるツールをインポートします\n",
    "from sklearn.model_selection import train_test_split\n",
    "import warnings\n",
    "warnings.filterwarnings(action=\"ignore\", module=\"scipy\", message=\"^internal gelsd\")\n",
    "\n",
    "\n",
    "# データの読み込みです\n",
    "data = load_boston()\n",
    "\n",
    "# データを教師用とテスト用に分けます\n",
    "train_X, test_X, train_y, test_y = train_test_split(\n",
    "    data.data, data.target, random_state=42)\n",
    "\n",
    "# 学習器の構築です\n",
    "model = LinearRegression()\n",
    "\n",
    "# 教師データを用いて学習器に学習させてください\n",
    "model.fit(train_X, train_y)\n",
    "\n",
    "# テスト用データを用いて学習結果をpred_yに格納してください\n",
    "pred_y = model.predict(test_X)\n",
    "\n",
    "# 予測結果を出力します\n",
    "print(pred_y)"
   ]
  },
  {
   "cell_type": "markdown",
   "metadata": {},
   "source": [
    "#### ヒント"
   ]
  },
  {
   "cell_type": "markdown",
   "metadata": {
    "id": "hint"
   },
   "source": [
    "- 出力するのは予測した値です。評価値ではありません。"
   ]
  },
  {
   "cell_type": "markdown",
   "metadata": {},
   "source": [
    "#### 解答例"
   ]
  },
  {
   "cell_type": "code",
   "execution_count": 4,
   "metadata": {
    "id": "answer"
   },
   "outputs": [
    {
     "name": "stdout",
     "output_type": "stream",
     "text": [
      "[28.83885359 36.00783288 15.08324755 25.23090886 18.87864064 23.21398327\n",
      " 17.5931124  14.30508093 23.05438985 20.62008346 24.78514683 18.66833668\n",
      " -6.9788951  21.83575737 19.20898992 26.2868054  20.54379176  5.65713224\n",
      " 40.42358065 17.64146116 27.32258958 30.05056174 11.15013704 24.11530393\n",
      " 17.89145648 15.79348591 22.94743453 14.2586068  22.26731194 19.24709013\n",
      " 22.26897546 25.24344002 25.69165643 17.98759507 16.70286649 17.11631225\n",
      " 31.19643534 20.17835831 23.71828436 24.79196868 13.94575895 32.00389982\n",
      " 42.53869791 17.44523722 27.15354457 17.07482215 13.89272021 26.06440323\n",
      " 20.36888769 29.97813037 21.35346608 34.32287916 15.88498671 26.17757739\n",
      " 39.50970314 22.84123308 18.95049088 32.68913818 25.02057949 12.90539147\n",
      " 22.76052302 30.53884316 31.60797905 15.92162168 20.50670563 16.50798147\n",
      " 20.50202198 26.00723901 30.63860954 11.42877835 20.53765181 27.56249175\n",
      " 10.85162601 15.96871769 23.87570192  5.66369672 21.47818991 41.2820034\n",
      " 18.56559986  9.08857252 20.97848452 13.0630057  20.99054395  9.34050291\n",
      " 23.13686588 31.80106627 19.10245917 25.59186169 29.14490119 20.17571514\n",
      " 25.5962149   5.20301905 20.16835681 15.08546746 12.8601543  20.80904894\n",
      " 24.68556943 -0.77450939 13.33875673 15.62703156 22.21755358 24.58188737\n",
      " 10.77302163 19.50068376 23.23450396 11.77388822 18.36777924 25.4383785\n",
      " 20.89079232 24.08440617  7.3658717  19.16424347 21.93734133 27.41191713\n",
      " 32.50857196 14.86885244 35.05912525 12.86075113 20.83043572 28.42077138\n",
      " 15.65853688 24.67196362  3.28420892 23.79879617 25.73329894 23.04815612\n",
      " 24.73046824]\n"
     ]
    }
   ],
   "source": [
    "# scikit-learnのLinearRegressionというモデルをインポートします。詳細は1.2で説明します\n",
    "from sklearn.linear_model import LinearRegression\n",
    "\n",
    "# scikit-learnに標準で搭載されている、ボストン市の住宅価格のデータセットをインポートします\n",
    "from sklearn.datasets import load_boston\n",
    "\n",
    "# scikit-learnに搭載されているデータセットを学習用と予測結果照合用に分けるツールをインポートします\n",
    "from sklearn.model_selection import train_test_split\n",
    "\n",
    "\n",
    "# データの読み込みです\n",
    "data = load_boston()\n",
    "\n",
    "# データを教師用とテスト用に分けます\n",
    "train_X, test_X, train_y, test_y = train_test_split(\n",
    "    data.data, data.target, random_state=42)\n",
    "\n",
    "# 学習器の構築です\n",
    "model = LinearRegression()\n",
    "\n",
    "# 教師データを用いて学習器に学習させてください\n",
    "model.fit(train_X, train_y)\n",
    "\n",
    "# テスト用データを用いて学習結果をpred_yに格納してください\n",
    "pred_y = model.predict(test_X)\n",
    "\n",
    "# 予測結果を出力します\n",
    "print(pred_y)"
   ]
  },
  {
   "cell_type": "markdown",
   "metadata": {},
   "source": [
    "***"
   ]
  },
  {
   "cell_type": "markdown",
   "metadata": {
    "id": "section_name",
    "sectionId": "r1obdC7WebG"
   },
   "source": [
    "## 1.2 線形回帰"
   ]
  },
  {
   "cell_type": "markdown",
   "metadata": {
    "courseId": 5010,
    "exerciseId": "r1ddKnLj8gG",
    "id": "quiz_session_name",
    "important": true,
    "isDL": false,
    "timeoutSecs": 5
   },
   "source": [
    "### 1.2.1 線形回帰とは"
   ]
  },
  {
   "cell_type": "markdown",
   "metadata": {
    "id": "description"
   },
   "source": [
    "回帰分析とは、予測したいデータを、すでにわかっているデータとの関係性を元に推定するアプローチのことです。最終的には **数値を予測する時に<font color=##AA0000>「回帰」</font>** という呼び方をします。\n",
    "\n",
    "例えば毎分4L水が溜まるタンクがあるとします。5分後には水の量はどれくらいになっているでしょうか。おそらく20Lと予想がつくと思います。なぜならば$V (L)$を水の容量、$t (m)$を時間とした時に\n",
    "\n",
    "$V = 4 t$\n",
    "\n",
    "というモデルを我々の頭の中で組んでいるからです。ここで線形（=グラフの形が直線）であるというのは$t$が1次（2乗などになっていない）ということを表します。（厳密には、機械学習における線形回帰では、$t$が2次以上のもの（=グラフの形が曲線）もその範囲として扱われます。これは、重みを調整する際の計算式を紐解くと1次式（=線形/グラフの形が直線）となるためです。）\n",
    "\n",
    "線形回帰では予測に用いる **データの係数（ここでは4）を見ることで予測したいデータに対するそのデータの寄与の大きさを見る** ことができます。\n",
    "\n",
    "データの寄与の大きさを見るもう一つの例を挙げてみます。\n",
    "\n",
    "あるレストランでは、アンケートが実施されていて、総合評価を100点満点、食べ物のおいしさを50点満点、接客の良さを50点満点でつけるとします。\n",
    "\n",
    "店長が、総合評価の点数を良くするためには、食べ物のおいしさと接客の良さ、どちらかに力を入れたら良いか悩んでいるとしましょう。\n",
    "\n",
    "また、利用客は、食べ物のおいしさの点数の点が高いと総合評価の点数も90点ぐらいをつけていて、接客の良さの点数が高くても食べ物のおいしさの点数の点が低いと、総合評価が30点くらいになるような点数のつけ方をしていたとします。\n",
    "\n",
    "この時、総合評価の点数を$T$(点)、食べ物のおいしさの点数を$P_1$(点)、接客の良さの点数を$P_2$(点)とすると、\n",
    "\n",
    "$T = 2 P_1 + 0.5 P_2$\n",
    "\n",
    "といったモデルを組むことができます。\n",
    "\n",
    "このモデルの$P_1$、$P_2$の係数を見ると、食べ物のおいしさの点数$P_1$の寄与は大きく、接客の良さの点数$P_2$の寄与は小さいことがわかります。\n",
    "\n",
    "そのため、店長は、接客の良さよりも食べ物のおいしさに力を入れるべきだ、と考えることができるのです。\n",
    "\n",
    "<img src=\"https://aidemyexcontentspic.blob.core.windows.net/contents-pic/5010_regression/linear.png\", width=\"600\">"
   ]
  },
  {
   "cell_type": "markdown",
   "metadata": {},
   "source": [
    "#### 問題"
   ]
  },
  {
   "cell_type": "markdown",
   "metadata": {
    "id": "question"
   },
   "source": [
    "- 線形回帰に対する次の説明のうち正しいのはどれでしょうか。"
   ]
  },
  {
   "cell_type": "markdown",
   "metadata": {
    "id": "choices"
   },
   "source": [
    "- 線形回帰は予測するデータの値（数値）を関数を用いて予測する方法である。\n",
    "- 線形回帰は予測するデータの値（カテゴリ）を関数を用いて予測する方法である。\n",
    "- 線形回帰は回帰分析において唯一の方法である。\n",
    "- 線形回帰はデータによって分析したい事象を完全に分析できる。"
   ]
  },
  {
   "cell_type": "markdown",
   "metadata": {},
   "source": [
    "#### ヒント"
   ]
  },
  {
   "cell_type": "markdown",
   "metadata": {
    "id": "hint"
   },
   "source": [
    "- 線形回帰によるアプローチは事象を説明するための一つの方法です。\n",
    "- 線形は予測に用いるデータの一次関数(グラフにすると直線になります)の総和であることからその名前があります。"
   ]
  },
  {
   "cell_type": "markdown",
   "metadata": {},
   "source": [
    "#### 解答"
   ]
  },
  {
   "cell_type": "markdown",
   "metadata": {
    "id": "answer"
   },
   "source": [
    "線形回帰は予測するデータの値（数値）を関数を用いて予測する方法である。"
   ]
  },
  {
   "cell_type": "markdown",
   "metadata": {},
   "source": [
    "***"
   ]
  },
  {
   "cell_type": "markdown",
   "metadata": {
    "courseId": 5010,
    "exerciseId": "rJK_KnUiIlM",
    "id": "quiz_session_name",
    "important": true,
    "isDL": false,
    "timeoutSecs": 5
   },
   "source": [
    "### 1.2.2 決定係数"
   ]
  },
  {
   "cell_type": "markdown",
   "metadata": {
    "id": "description"
   },
   "source": [
    "**<font color=#AA0000>決定係数</font>** とは、線形回帰で予測したデータと実際のデータが、どのくらい一致しているかを示す指標です。また、各データの係数(寄与の大きさ)をどれくらい信用していいかも示しています。\n",
    "\n",
    "先ほど(1.2.1)のレストランの総合評価の点数の例で説明します。\n",
    "\n",
    "アンケートの点数が、\n",
    "\n",
    "総合評価：80点　食べ物のおいしさ：40点　接客の良さ：20点\n",
    "\n",
    "だったとします。また、線形回帰で求めた関数に、食べ物のおいしさ：40点　接客の良さ：20点の情報を与えると、予測された総合評価の点数が50点だったとします。このとき、**予測した点数と実際の点数に大きく差があるため、決定係数の値は0に近づきます。**\n",
    "\n",
    "逆に、予測された総合評価の点数が78点だった場合、**予測した点数と実際の点数の差が非常に小さいため、決定係数の値も1に近づきます。**\n",
    "\n",
    "ここでは決定係数を求めるための詳しい数式は紹介しませんが、 **決定係数は0から1までの数字** を取り、 **値が大きければ大きいほど関数の精度が良い** ことを表しています。おおよそ0.8以上の数値であればその関数の精度は良いと見ることができます。  しかし、**0.8以下の数値であってもその関数が無駄なわけではありません。**\n",
    "\n",
    "店長の悩みは、食べ物のおいしさと接客の良さ、どちらに力を入れるべきかでした。決して、総合評価の点数を見事的中させたいわけではありません。\n",
    "\n",
    "**決定係数がある程度の大きさ(人によって基準は変わるが、0.4以上くらい)であれば、データの寄与の大きさはある程度信頼できます。**つまり、接客の良さよりも食べ物のおいしさに力を入れるべきだと考えても問題ありません。"
   ]
  },
  {
   "cell_type": "markdown",
   "metadata": {},
   "source": [
    "#### 問題"
   ]
  },
  {
   "cell_type": "markdown",
   "metadata": {
    "id": "question"
   },
   "source": [
    "- 決定係数に対する次の説明のうち正しいのはどれでしょうか。"
   ]
  },
  {
   "cell_type": "markdown",
   "metadata": {
    "id": "choices"
   },
   "source": [
    "- 決定係数が小さいほど関数の精度が良い。\n",
    "- 決定係数は関数が予測するデータと実際のデータにどれくらい差があるかを示している。\n",
    "- 決定係数が小さい場合入力するデータの数を増やせばよい。\n",
    "- 決定係数は機械学習において自分で定めることができる。"
   ]
  },
  {
   "cell_type": "markdown",
   "metadata": {},
   "source": [
    "#### ヒント"
   ]
  },
  {
   "cell_type": "markdown",
   "metadata": {
    "id": "hint"
   },
   "source": [
    "- 決定係数は関数の精度、データの寄与の大きさの信頼度を示します。\n",
    "- モデルが変わると決定係数も変わります。"
   ]
  },
  {
   "cell_type": "markdown",
   "metadata": {},
   "source": [
    "#### 解答"
   ]
  },
  {
   "cell_type": "markdown",
   "metadata": {
    "id": "answer"
   },
   "source": [
    "決定係数は関数が予測するデータと実際のデータにどれくらい差があるかを示している。"
   ]
  },
  {
   "cell_type": "markdown",
   "metadata": {},
   "source": [
    "***"
   ]
  },
  {
   "cell_type": "markdown",
   "metadata": {
    "courseId": 5010,
    "exerciseId": "rk5dFnUj8ez",
    "id": "code_session_name",
    "important": true,
    "isDL": false,
    "timeoutSecs": 5
   },
   "source": [
    "### 1.2.3 線形単回帰"
   ]
  },
  {
   "cell_type": "markdown",
   "metadata": {
    "id": "description"
   },
   "source": [
    "**<font color=#AA0000>線形単回帰</font>** とは、1つの予測したいデータ(ex. 水の量)を **1つのデータ(ex. 時間)から求める回帰分析** です。データの関係性を調べるときに使うことが多く、予測を行うときに用いられることは稀です。\n",
    "\n",
    "ここでは予測したいデータを$y$、予測に用いるデータを$x$として、 \n",
    "\n",
    "$y=ax+b$\n",
    "\n",
    "という関係があると仮定して、$a$と$b$を推定します。このチャプターの「線形回帰とは」の水の量のたとえと同じ形の数式なのがわかります(a=4、b=0)。\n",
    "\n",
    "$a$と$b$の推定には様々な方法がありますが、今回は **最小二乗法** と呼ばれる方法を用いましょう。\n",
    "実際の$y$の値と推定する$y(=ax+b)$の値の差の **二乗の総和** が最小になるように$a$と$b$を定める方法です。下図で言うと、オレンジのデータ点からの距離の総和が最小になるようにa、bを決めます。\n",
    "このようにしてすでにあるデータに対して一番近い直線を引き、その直線から今後のデータを推測します。\n",
    "\n",
    "<img src=\"https://aidemyexcontentspic.blob.core.windows.net/contents-pic/5010_regression/least-square.png\" width=\"600\">\n",
    "\n",
    "なお、ここで誤差を二乗するのは何故でしょうか？それは **二乗することによって、正負の相違による誤差のキャンセルがされないようにする** ためです。例えば誤差が+2と-2のものを単純に足し合わせると、値が0になって誤差がキャンセルされてしまいます。\n",
    "\n",
    "さて、実際に回帰分析を行うには、scikit-learnのlinear_modelモジュール内にあるLinearRegressionというモデルを使うのが便利でしょう。\n",
    "\n",
    "```Python\n",
    "from sklearn.linear_model import LinearRegression\n",
    "from sklearn.datasets import make_regression\n",
    "from sklearn.model_selection import train_test_split\n",
    "\n",
    "# 1.1.2では既存のデータセットを用いましたが、ここでは回帰的なデータの生成をします。\n",
    "X, y = make_regression(n_samples=100, n_features=1, n_targets=1, noise=5.0, random_state=42)\n",
    "\n",
    "train_X, test_X, train_y, test_y = train_test_split(X, y, random_state=42)\n",
    "\n",
    "model = LinearRegression()\n",
    "\n",
    "model.fit(train_X, train_y)\n",
    "\n",
    "# 決定係数の出力です\n",
    "print(model.score(test_X, test_y))\n",
    "```"
   ]
  },
  {
   "cell_type": "markdown",
   "metadata": {},
   "source": [
    "#### 問題"
   ]
  },
  {
   "cell_type": "markdown",
   "metadata": {
    "id": "question"
   },
   "source": [
    "- 線形単回帰を実行してみます。\n",
    "- test_X, test_yに対する決定係数を出力してください。\n",
    "- 出力はprint関数を用いてください。"
   ]
  },
  {
   "cell_type": "code",
   "execution_count": 5,
   "metadata": {
    "id": "index"
   },
   "outputs": [
    {
     "name": "stdout",
     "output_type": "stream",
     "text": [
      "0.9814091390006882\n"
     ]
    }
   ],
   "source": [
    "# 必要なモジュールのインポート\n",
    "from sklearn.linear_model import LinearRegression\n",
    "from sklearn.datasets import make_regression\n",
    "from sklearn.model_selection import train_test_split\n",
    "\n",
    "# データの生成\n",
    "X, y = make_regression(n_samples=100, n_features=1, n_targets=1, noise=5.0, random_state=42)\n",
    "train_X, test_X, train_y, test_y = train_test_split(X, y, random_state=42)\n",
    "\n",
    "# 以下にコードを記述してください。\n",
    "model = LinearRegression()\n",
    "model.fit(train_X, train_y)\n",
    "\n",
    "\n",
    "\n",
    "# test_X, test_yに対する決定係数を出力してください\n",
    "print (model.score(test_X, test_y))"
   ]
  },
  {
   "cell_type": "markdown",
   "metadata": {},
   "source": [
    "#### ヒント"
   ]
  },
  {
   "cell_type": "markdown",
   "metadata": {
    "id": "hint"
   },
   "source": [
    "- 決定係数は`model.score(data, target)`で算出できます。\n",
    "- モデル名は`LinearRegression()`です。"
   ]
  },
  {
   "cell_type": "markdown",
   "metadata": {},
   "source": [
    "#### 解答例"
   ]
  },
  {
   "cell_type": "code",
   "execution_count": null,
   "metadata": {
    "collapsed": true,
    "id": "answer"
   },
   "outputs": [],
   "source": [
    "# 必要なモジュールのインポート\n",
    "from sklearn.linear_model import LinearRegression\n",
    "from sklearn.datasets import make_regression\n",
    "from sklearn.model_selection import train_test_split\n",
    "\n",
    "# データの生成\n",
    "X, y = make_regression(n_samples=100, n_features=1, n_targets=1, noise=5.0, random_state=42)\n",
    "train_X, test_X, train_y, test_y = train_test_split(X, y, random_state=42)\n",
    "\n",
    "# 以下にコードを記述してください。\n",
    "# モデルの構築\n",
    "model = LinearRegression()\n",
    "# モデルの学習\n",
    "model.fit(train_X, train_y)\n",
    "# test_X, test_yに対する決定係数を出力してください\n",
    "print(model.score(test_X, test_y))"
   ]
  },
  {
   "cell_type": "markdown",
   "metadata": {},
   "source": [
    "***"
   ]
  },
  {
   "cell_type": "markdown",
   "metadata": {
    "courseId": 5010,
    "exerciseId": "H1juFh8jIeG",
    "id": "code_session_name",
    "important": true,
    "isDL": false,
    "timeoutSecs": 5
   },
   "source": [
    "### 1.2.4 線形重回帰"
   ]
  },
  {
   "cell_type": "markdown",
   "metadata": {
    "id": "description"
   },
   "source": [
    "**<font color=#AA0000>線形重回帰</font>** とは、予測したいデータが1つ(ex2. レストランの総合評価の点数)に対し、**予測に用いるデータが複数個(ex2. 食べ物のおいしさの点数と接客の良さの点数)** となる回帰分析です。\n",
    "予測に用いられるデータ同士の関係性が薄いときには高い予測精度が得られます。\n",
    "\n",
    "ここでも最小二乗法をもちいて予測するデータと予測に用いるデータの関係性を推定します。  \n",
    "重回帰の場合は予測に用いるデータを$x_0$,$x_1$,$x_2$...として\n",
    "\n",
    "$y = \\beta_{0}x_{0} + \\beta_{1}x_{1} + \\beta_{2}x_{2} + \\cdots +\\epsilon$  \n",
    "\n",
    "となるような$\\beta_{0},\\beta_{1}, \\beta_{2}..., \\epsilon$を推定することになります。\n",
    "\n",
    "前のセッションで扱った数式に比べると、どうでしょう？$x$の種類が増えてそれに応じて係数（先ほどのセッション「線形単回帰」でいう$a$）をたくさん設定しなくてはならなくなった、というイメージがありますね。\n",
    "\n",
    "線形重回帰もscikit-learnのlinear_modelモジュール内にあるLinearRegressionというモデルを使って回帰分析を行うことが可能です。  自動的に、すでにあるデータに対して一番フィットするように$\\beta_0,\\beta_1, \\beta_2..., \\epsilon$が決定され、予測が行われます。\n",
    "\n",
    "```Python\n",
    "from sklearn.linear_model import LinearRegression\n",
    "from sklearn.datasets import make_regression\n",
    "from sklearn.model_selection import train_test_split\n",
    "\n",
    "# ここでn_features=10とすることでxを生成します\n",
    "# 実際に使用するxの数はn_informative=3といった様に指定します\n",
    "X, y = make_regression(n_samples=100, n_features=10, n_informative=3, n_targets=1, noise=5.0, random_state=42)\n",
    "train_X, test_X, train_y, test_y = train_test_split(X, y, random_state=42)\n",
    "\n",
    "model = LinearRegression()\n",
    "model.fit(train_X, train_y)\n",
    "model.score(test_X, test_y)\n",
    "```"
   ]
  },
  {
   "cell_type": "markdown",
   "metadata": {},
   "source": [
    "#### 問題"
   ]
  },
  {
   "cell_type": "markdown",
   "metadata": {
    "id": "question"
   },
   "source": [
    "- 線形重回帰を実行してください。\n",
    "- test_Xに対する推測結果を出力してください。\n",
    "- 出力はprint関数を用いてください。"
   ]
  },
  {
   "cell_type": "code",
   "execution_count": 8,
   "metadata": {
    "id": "index"
   },
   "outputs": [
    {
     "name": "stdout",
     "output_type": "stream",
     "text": [
      "[ 121.38490116    7.85980009 -124.58963175   41.00261279  -26.63686974\n",
      "   86.54245026 -115.70042851  -86.83134041 -122.47457672 -219.98565432\n",
      "  -94.60953715  -93.78798768   28.52602374  -84.49397404   -6.20979544\n",
      "   21.37516735  -45.33206679  -22.65413603    3.67511216  -29.64743901\n",
      "  -14.68097993   37.34464017    8.28887999   73.27989407  -31.83281179]\n"
     ]
    }
   ],
   "source": [
    "# 必要なモジュールのインポート\n",
    "from sklearn.linear_model import LinearRegression\n",
    "from sklearn.datasets import make_regression\n",
    "from sklearn.model_selection import train_test_split\n",
    "\n",
    "# データの生成\n",
    "X, y = make_regression(n_samples=100, n_features=10, n_informative=3, n_targets=1, noise=5.0, random_state=42)\n",
    "train_X, test_X, train_y, test_y = train_test_split(X, y, random_state=42)\n",
    "\n",
    "# 以下にコードを記述してください\n",
    "model = LinearRegression()\n",
    "model.fit(train_X, train_y)\n",
    "\n",
    "\n",
    "# test_Xに対する推測結果を出力してください\n",
    "print(model.predict(test_X))\n"
   ]
  },
  {
   "cell_type": "markdown",
   "metadata": {},
   "source": [
    "#### ヒント"
   ]
  },
  {
   "cell_type": "markdown",
   "metadata": {
    "id": "hint"
   },
   "source": [
    "- 予測する値を算出するには`model.predict(X)`を用います。\n",
    "- 機械学習の流れは線形単回帰とおなじです。"
   ]
  },
  {
   "cell_type": "markdown",
   "metadata": {},
   "source": [
    "#### 解答例"
   ]
  },
  {
   "cell_type": "code",
   "execution_count": null,
   "metadata": {
    "collapsed": true,
    "id": "answer"
   },
   "outputs": [],
   "source": [
    "# 必要なモジュールのインポート\n",
    "from sklearn.linear_model import LinearRegression\n",
    "from sklearn.datasets import make_regression\n",
    "from sklearn.model_selection import train_test_split\n",
    "\n",
    "# データの生成\n",
    "X, y = make_regression(n_samples=100, n_features=10, n_informative=3, n_targets=1, noise=5.0, random_state=42)\n",
    "train_X, test_X, train_y, test_y = train_test_split(X, y, random_state=42)\n",
    "\n",
    "# 以下にコードを記述してください\n",
    "# モデルの構築\n",
    "model = LinearRegression()\n",
    "# モデルの学習\n",
    "model.fit(train_X, train_y)\n",
    "# test_Xに対する推測結果を出力してください\n",
    "print(model.predict(test_X))"
   ]
  },
  {
   "cell_type": "markdown",
   "metadata": {},
   "source": [
    "***"
   ]
  },
  {
   "cell_type": "markdown",
   "metadata": {
    "id": "chapter_exam",
    "timeout": 20
   },
   "source": [
    "## 1.3 添削問題"
   ]
  },
  {
   "cell_type": "markdown",
   "metadata": {
    "id": "description"
   },
   "source": [
    "線形単回帰と線形重回帰を同じデータセットに対して行います。"
   ]
  },
  {
   "cell_type": "markdown",
   "metadata": {},
   "source": [
    "#### 問題"
   ]
  },
  {
   "cell_type": "markdown",
   "metadata": {
    "id": "question"
   },
   "source": [
    "- 6種類のデータを内包する飛行機の風切り音を回帰分析するデータが渡されます。\n",
    "- 予測したいデータをScaled sound pressure levelとし、Scaled sound pressure levelに対する決定係数を線形重回帰によって算出してください。\n",
    "- また、各データのScaled sound pressure levelに対する決定係数を線形単回帰を用いて算出してください。"
   ]
  },
  {
   "cell_type": "code",
   "execution_count": null,
   "metadata": {
    "collapsed": true,
    "id": "index"
   },
   "outputs": [],
   "source": [
    "# 必要なモジュールのインポート\n",
    "import pandas as pd\n",
    "from sklearn.linear_model import LinearRegression\n",
    "from sklearn.model_selection import train_test_split\n",
    "\n",
    "# データの読み込み\n",
    "feature_names = [\"Frequency\", \"Angle of attack\", \"Chord length\", \"Free-stream velocity\",\n",
    "                 \"Suction side displacement thickness\", \"Scaled sound pressure level\"]\n",
    "noise_data = pd.read_csv(\n",
    "    \"https://archive.ics.uci.edu/ml/machine-learning-databases/00291/airfoil_self_noise.dat\", sep=\"\\t\")\n",
    "noise_data.columns = feature_names\n",
    "\n",
    "# 線形単回帰を各データについて行ってください。\n",
    "\n",
    "\n",
    "# 線形重回帰用の教師データ、テストデータを準備\n",
    "train_X, test_X, train_y, test_y = train_test_split(\n",
    "    noise_data.drop(\"Scaled sound pressure level\", axis=1), noise_data[\"Scaled sound pressure level\"], random_state=42)\n",
    "\n",
    "# 線形重回帰を行ってください。\n"
   ]
  },
  {
   "cell_type": "markdown",
   "metadata": {},
   "source": [
    "#### ヒント"
   ]
  },
  {
   "cell_type": "markdown",
   "metadata": {
    "id": "hint"
   },
   "source": [
    "- 各データの取り出し方は以下のようにします。  \n",
    "```python\n",
    "train_X, test_X, train_y, test_y = train_test_split(\n",
    "    noise_data[\"Frequency\"], noise_data[\"Scaled sound pressure level\"]\n",
    "# Xのshapeを修正\n",
    "train_X = train_X.values.reshape((-1, 1))\n",
    "test_X = test_X.values.reshape((-1, 1))\n",
    "```\n",
    "- データセットの詳細は[こちら](https://archive.ics.uci.edu/ml/datasets/Airfoil+Self-Noise)をご覧ください。"
   ]
  },
  {
   "cell_type": "markdown",
   "metadata": {},
   "source": [
    "#### 解答例"
   ]
  },
  {
   "cell_type": "code",
   "execution_count": 9,
   "metadata": {
    "id": "answer"
   },
   "outputs": [
    {
     "name": "stdout",
     "output_type": "stream",
     "text": [
      "線形単回帰に用いた変数:Frequency\n",
      "決定係数:0.10789983951062698\n",
      "\n",
      "線形単回帰に用いた変数:Angle of attack\n",
      "決定係数:0.04630935182031182\n",
      "\n",
      "線形単回帰に用いた変数:Chord length\n",
      "決定係数:0.03289126336143777\n",
      "\n",
      "線形単回帰に用いた変数:Free-stream velocity\n",
      "決定係数:0.004164316019491299\n",
      "\n",
      "線形単回帰に用いた変数:Suction side displacement thickness\n",
      "決定係数:0.14638516441175986\n",
      "\n",
      "線形単回帰に用いた変数:Scaled sound pressure level\n",
      "決定係数:1.0\n",
      "\n",
      "線形重回帰\n",
      "決定係数:0.5271597219901587\n"
     ]
    }
   ],
   "source": [
    "# 必要なモジュールのインポート\n",
    "import pandas as pd\n",
    "from sklearn.linear_model import LinearRegression\n",
    "from sklearn.model_selection import train_test_split\n",
    "\n",
    "# データの読み込み\n",
    "feature_names = [\"Frequency\", \"Angle of attack\", \"Chord length\", \"Free-stream velocity\",\n",
    "                 \"Suction side displacement thickness\", \"Scaled sound pressure level\"]\n",
    "noise_data = pd.read_csv(\n",
    "    \"https://archive.ics.uci.edu/ml/machine-learning-databases/00291/airfoil_self_noise.dat\", sep=\"\\t\")\n",
    "noise_data.columns = feature_names\n",
    "\n",
    "# 線形単回帰を各データについて行ってください。\n",
    "# for文を使用すると短いコードで処理ができます。\n",
    "for name in feature_names:\n",
    "    train_X, test_X, train_y, test_y = train_test_split(\n",
    "        noise_data[name], noise_data[\"Scaled sound pressure level\"], random_state=42)\n",
    "    # Xのデータの形を修正\n",
    "    train_X = train_X.values.reshape((-1, 1))\n",
    "    test_X = test_X.values.reshape((-1, 1))\n",
    "    model = LinearRegression()\n",
    "    model.fit(train_X, train_y)\n",
    "    print(\"線形単回帰に用いた変数:{}\".format(name))\n",
    "    print(\"決定係数:{}\".format(model.score(test_X, test_y)))\n",
    "    print()\n",
    "\n",
    "# 線形重回帰用の教師データ、テストデータを準備\n",
    "train_X, test_X, train_y, test_y = train_test_split(\n",
    "    noise_data.drop(\"Scaled sound pressure level\", axis=1), noise_data[\"Scaled sound pressure level\"], random_state=42)\n",
    "\n",
    "# 線形重回帰を行ってください。\n",
    "# モデルの構築\n",
    "model = LinearRegression()\n",
    "# モデルの学習\n",
    "model.fit(train_X, train_y)\n",
    "# 決定係数の出力\n",
    "print(\"線形重回帰\")\n",
    "print(\"決定係数:{}\".format(model.score(test_X, test_y)))"
   ]
  },
  {
   "cell_type": "markdown",
   "metadata": {
    "id": "commentary"
   },
   "source": [
    "Scaled sound pressure levelは今回の予測したい値なので決定係数は必ず1になります。  \n",
    "それ以外の変数も単独では0.1以下ととても低い値ですが、線形重回帰によって0.5まで上昇していることから全ての変数が複雑に絡みあって  \n",
    "データの予測がなされていることがわかります。"
   ]
  },
  {
   "cell_type": "markdown",
   "metadata": {},
   "source": [
    "***"
   ]
  }
 ],
 "metadata": {
  "celltoolbar": "Edit Metadata",
  "kernelspec": {
   "display_name": "Python 3",
   "language": "python",
   "name": "python3"
  },
  "language_info": {
   "codemirror_mode": {
    "name": "ipython",
    "version": 3
   },
   "file_extension": ".py",
   "mimetype": "text/x-python",
   "name": "python",
   "nbconvert_exporter": "python",
   "pygments_lexer": "ipython3",
   "version": "3.7.0"
  },
  "toc": {
   "base_numbering": 1,
   "nav_menu": {},
   "number_sections": true,
   "sideBar": true,
   "skip_h1_title": false,
   "title_cell": "Table of Contents",
   "title_sidebar": "Contents",
   "toc_cell": false,
   "toc_position": {},
   "toc_section_display": true,
   "toc_window_display": false
  },
  "varInspector": {
   "cols": {
    "lenName": 16,
    "lenType": 16,
    "lenVar": 40
   },
   "kernels_config": {
    "python": {
     "delete_cmd_postfix": "",
     "delete_cmd_prefix": "del ",
     "library": "var_list.py",
     "varRefreshCmd": "print(var_dic_list())"
    },
    "r": {
     "delete_cmd_postfix": ") ",
     "delete_cmd_prefix": "rm(",
     "library": "var_list.r",
     "varRefreshCmd": "cat(var_dic_list()) "
    }
   },
   "types_to_exclude": [
    "module",
    "function",
    "builtin_function_or_method",
    "instance",
    "_Feature"
   ],
   "window_display": false
  }
 },
 "nbformat": 4,
 "nbformat_minor": 2
}
