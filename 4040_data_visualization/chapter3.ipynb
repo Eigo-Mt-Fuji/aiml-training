{
 "cells": [
  {
   "cell_type": "markdown",
   "metadata": {
    "chapterId": "B1IbIAPe07z",
    "id": "chapter_name"
   },
   "source": [
    "# 様々なグラフを作る"
   ]
  },
  {
   "cell_type": "markdown",
   "metadata": {
    "id": "table"
   },
   "source": [
    "- **[3.1 折れ線グラフ](#3.1-折れ線グラフ)**\n",
    "    - **[3.1.1 マーカーの種類と色を設定する](#3.1.1-マーカーの種類と色を設定する)**\n",
    "    - **[3.1.2 線のスタイルと色を設定する](#3.1.2-線のスタイルと色を設定する)**\n",
    "<br><br>\n",
    "- **[3.2 棒グラフ](#3.2-棒グラフ)**\n",
    "    - **[3.2.1 棒グラフを作成する](#3.2.1-棒グラフを作成する)**\n",
    "    - **[3.2.2 横軸にラベルを設定する](#3.2.2-横軸にラベルを設定する)**\n",
    "    - **[3.2.3 積み上げ棒グラフを作成する](#3.2.3-積み上げ棒グラフを作成すr)**\n",
    "<br><br>\n",
    "- **[3.3 ヒストグラム](#3.3-ヒストグラム)**\n",
    "    - **[3.3.1 ヒストグラムを作成する](#3.3.1-ヒストグラムを作成する)**\n",
    "    - **[3.3.2 ビン数を設定する](#3.3.2-ビン数を設定する)**\n",
    "    - **[3.3.3 正規化を行う](#3.3.3-正規化を行う)**\n",
    "    - **[3.3.4 累積ヒストグラムを作成する](#3.3.4-累積ヒストグラムを作成する)**\n",
    "<br><br>\n",
    "- **[3.4 散布図](#3.4-散布図)**\n",
    "    - **[3.4.1 散布図を作成する](#3.4.1-散布図を作成する)**\n",
    "    - **[3.4.2 マーカーの種類と色を設定する](#3.4.2-マーカーの種類と色を設定する)**\n",
    "    - **[3.4.3 値に応じてマーカーの大きさを設定する](#3.4.3-値に応じてマーカーの大きさを設定する)**\n",
    "    - **[3.4.4 値に応じてマーカーの濃さを設定する](#3.4.4-値に応じてマーカーの濃さを設定する)**\n",
    "    - **[3.4.5 カラーバーを表示する](#3.4.5-カラーバーを表示する)**\n",
    "<br><br>\n",
    "- **[3.5 円グラフ](#3.5-円グラフ)**\n",
    "    - **[3.5.1 円グラフを作成する](#3.5.1-円グラフを作成する)**\n",
    "    - **[3.5.2 円グラフにラベルを設定する](#3.5.2-円グラフにラベルを設定する)**\n",
    "    - **[3.5.3 特定の要素を目立たせる](#3.5.3-特定の要素を目立たせる)**\n",
    "<br><br>\n",
    "- **[3.6 3Dグラフ](#3.6-3Dグラフ)**\n",
    "    - **[3.6.1 3D Axesを作成する](#3.6.1-3D-Axesを作成する)**\n",
    "    - **[3.6.2 曲面を作成する](#3.6.2-曲面を作成する)**\n",
    "    - **[3.6.3 3Dヒストグラムを作成する](#3.6.3-3Dヒストグラムを作成する)**\n",
    "    - **[3.6.4 3D散布図を作成する](#3.6.4-3D散布図を作成する)**\n",
    "    - **[3.6.5 3Dグラフにカラーマップを適用する](#3.6.5-3Dグラフにカラーマップを適用する)**"
   ]
  },
  {
   "cell_type": "markdown",
   "metadata": {},
   "source": [
    "***"
   ]
  },
  {
   "cell_type": "markdown",
   "metadata": {
    "id": "section_name",
    "sectionId": "HkD-80weRXM"
   },
   "source": [
    "## 3.1 折れ線グラフ"
   ]
  },
  {
   "cell_type": "markdown",
   "metadata": {
    "courseId": 4040,
    "exerciseId": "H1uWUAwxA7M",
    "id": "code_session_name",
    "important": false,
    "isDL": false,
    "timeoutSecs": 10
   },
   "source": [
    "### 3.1.1 マーカーの種類と色を設定する"
   ]
  },
  {
   "cell_type": "markdown",
   "metadata": {
    "id": "description"
   },
   "source": [
    "`matplotlib.pyplot.plot()`を用いることで**折れ線グラフを描画する**ことができます。\n",
    "\n",
    "データとともに`marker=\"指定子\"`を指定することで**マーカーの種類を設定する**ことができます。\n",
    "\n",
    "また、`markerfacecolor=\"指定子\"`を指定することで、このコースのセクション2.2.1で学んだものと同じように、 **マーカーの色を設定する** ことができます。以下は指定できるマーカーの種類とその色の一部です。\n",
    "\n",
    "**マーカー**\n",
    "- `\"o\"`: 円\n",
    "- `\"s\"`: 四角\n",
    "- `\"p\"`: 五角形\n",
    "- `\"*\"`: 星\n",
    "- `\"+\"`: プラス\n",
    "- `\"D\"`: ダイアモンド\n",
    "\n",
    "**色** \n",
    "- `\"b\"` : 青\n",
    "- `\"g\"` : 緑\n",
    "- `\"r\"` : 赤\n",
    "- `\"c\"` : シアン\n",
    "- `\"m\"` : マゼンタ\n",
    "- `\"y\"` : 黄色\n",
    "- `\"k\"` : 黒\n",
    "- `\"w\"` : 白"
   ]
  },
  {
   "cell_type": "markdown",
   "metadata": {},
   "source": [
    "#### 問題"
   ]
  },
  {
   "cell_type": "markdown",
   "metadata": {
    "id": "question"
   },
   "source": [
    "- 赤色の円マーカーを用いて折れ線グラフを作成してください。x軸に対応するデータは`days`、y軸に対応するデータは`weight`に入ってます。\n",
    "- 赤色は `\"r\"` で指定してください。"
   ]
  },
  {
   "cell_type": "code",
   "execution_count": null,
   "metadata": {
    "id": "index"
   },
   "outputs": [],
   "source": [
    "import numpy as np\n",
    "import matplotlib.pyplot as plt\n",
    "%matplotlib inline\n",
    "\n",
    "days = np.arange(1, 11)\n",
    "weight = np.array([10, 14, 18, 20, 18, 16, 17, 18, 20, 17])\n",
    "# 表示の設定\n",
    "plt.ylim([0, weight.max()+1])\n",
    "plt.xlabel(\"days\")\n",
    "plt.ylabel(\"weight\")\n",
    "\n",
    "# 円マーカーを赤色でプロットし折れ線グラフを作成してください\n",
    "plt.plot(days, weight, marker= , markerfacecolor=  )\n",
    "\n",
    "plt.show()\n"
   ]
  },
  {
   "cell_type": "markdown",
   "metadata": {},
   "source": [
    "#### ヒント"
   ]
  },
  {
   "cell_type": "markdown",
   "metadata": {
    "id": "hint"
   },
   "source": [
    "- `\"marker=\"指定子\"`、`markerfacecolor=\"色指定\"`でマーカーの種類と色を設定することができます。"
   ]
  },
  {
   "cell_type": "markdown",
   "metadata": {},
   "source": [
    "#### 解答例"
   ]
  },
  {
   "cell_type": "code",
   "execution_count": null,
   "metadata": {
    "id": "answer"
   },
   "outputs": [],
   "source": [
    "import numpy as np\n",
    "import matplotlib.pyplot as plt\n",
    "%matplotlib inline\n",
    "\n",
    "days = np.arange(1, 11)\n",
    "weight = np.array([10, 14, 18, 20, 18, 16, 17, 18, 20, 17])\n",
    "# 表示の設定\n",
    "plt.ylim([0, weight.max()+1])\n",
    "plt.xlabel(\"days\")\n",
    "plt.ylabel(\"weight\")\n",
    "\n",
    "# 円マーカーを赤色でプロットし折れ線グラフを作成してください\n",
    "plt.plot(days, weight, marker=\"o\", markerfacecolor=\"r\")\n",
    "\n",
    "plt.show()\n"
   ]
  },
  {
   "cell_type": "markdown",
   "metadata": {},
   "source": [
    "***"
   ]
  },
  {
   "cell_type": "markdown",
   "metadata": {
    "courseId": 4040,
    "exerciseId": "SkYbURweC7G",
    "id": "code_session_name",
    "important": false,
    "isDL": false,
    "timeoutSecs": 10
   },
   "source": [
    "### 3.1.2 線のスタイルと色を設定する"
   ]
  },
  {
   "cell_type": "markdown",
   "metadata": {
    "id": "description"
   },
   "source": [
    "`matplotlib.pyplot.plot()`にデータとともに`linestyle=\"指定子\"`を指定することで**線のスタイルを設定する**ことができます。\n",
    "\n",
    "また、`color=\"指定子\"`を指定することで、このコースのセクション2.2.1で学んだものと同じように、線の色を設定することができます。以下は指定できる線の種類とその色の一部です。\n",
    "\n",
    "**線のスタイル**\n",
    "- `\"-\"`: 実線\n",
    "- `\"--\"`: 破線\n",
    "- `\"-.\"`: 破線（点入り）\n",
    "- `\":\"`: 点線\n",
    "\n",
    "**色**　\n",
    "- `\"b\"` : 青\n",
    "- `\"g\"` : 緑\n",
    "- `\"r\"` : 赤\n",
    "- `\"c\"` : シアン\n",
    "- `\"m\"` : マゼンタ\n",
    "- `\"y\"` : 黄色\n",
    "- `\"k\"` : 黒\n",
    "- `\"w\"` : 白"
   ]
  },
  {
   "cell_type": "markdown",
   "metadata": {},
   "source": [
    "#### 問題"
   ]
  },
  {
   "cell_type": "markdown",
   "metadata": {
    "id": "question"
   },
   "source": [
    "- 円マーカーを赤色でプロットし、青の破線の折れ線グラフを作成してください。\n",
    "- x軸に対応するデータは変数`days`、y軸に対応するデータは変数`weight`に入っています。"
   ]
  },
  {
   "cell_type": "code",
   "execution_count": null,
   "metadata": {
    "id": "index"
   },
   "outputs": [],
   "source": [
    "import numpy as np\n",
    "import matplotlib.pyplot as plt\n",
    "%matplotlib inline\n",
    "\n",
    "days = np.arange(1, 11)\n",
    "weight = np.array([10, 14, 18, 20, 18, 16, 17, 18, 20, 17])\n",
    "# 表示の設定\n",
    "plt.ylim([0, weight.max()+1])\n",
    "plt.xlabel(\"days\")\n",
    "plt.ylabel(\"weight\")\n",
    "\n",
    "# 円マーカーを赤色でプロットし、青の破線の折れ線グラフを作成してください\n",
    "plt.plot(days, weight, linestyle=  , color=  , marker=\"o\", markerfacecolor=\"r\")\n",
    "\n",
    "plt.show()\n"
   ]
  },
  {
   "cell_type": "markdown",
   "metadata": {},
   "source": [
    "#### ヒント"
   ]
  },
  {
   "cell_type": "markdown",
   "metadata": {
    "id": "hint"
   },
   "source": [
    "- `linestyle=\"指定子\"`、`color=\"指定子\"`で線の種類と色を設定することができます。"
   ]
  },
  {
   "cell_type": "markdown",
   "metadata": {},
   "source": [
    "#### 解答例"
   ]
  },
  {
   "cell_type": "code",
   "execution_count": null,
   "metadata": {
    "id": "answer",
    "scrolled": true
   },
   "outputs": [],
   "source": [
    "import numpy as np\n",
    "import matplotlib.pyplot as plt\n",
    "%matplotlib inline\n",
    "\n",
    "days = np.arange(1, 11)\n",
    "weight = np.array([10, 14, 18, 20, 18, 16, 17, 18, 20, 17])\n",
    "# 表示の設定\n",
    "plt.ylim([0, weight.max()+1])\n",
    "plt.xlabel(\"days\")\n",
    "plt.ylabel(\"weight\")\n",
    "\n",
    "# 円マーカーを赤色でプロットし、青の破線の折れ線グラフを作成してください\n",
    "plt.plot(days, weight, linestyle=\"--\", color=\"b\", marker=\"o\", markerfacecolor=\"r\")\n",
    "\n",
    "plt.show()\n"
   ]
  },
  {
   "cell_type": "markdown",
   "metadata": {},
   "source": [
    "***"
   ]
  },
  {
   "cell_type": "markdown",
   "metadata": {
    "id": "section_name",
    "sectionId": "ry9b8CveCQG"
   },
   "source": [
    "## 3.2 棒グラフ"
   ]
  },
  {
   "cell_type": "markdown",
   "metadata": {
    "courseId": 4040,
    "exerciseId": "HkiWLAvgAQG",
    "id": "code_session_name",
    "important": false,
    "isDL": false,
    "timeoutSecs": 10
   },
   "source": [
    "### 3.2.1 棒グラフを作成する"
   ]
  },
  {
   "cell_type": "markdown",
   "metadata": {
    "id": "description"
   },
   "source": [
    "横軸の値(y)とこれに対応する縦軸のデータ(x)を`matplotlib.pyplot.bar(x,y)`と渡すことで棒グラフを作成することができます。"
   ]
  },
  {
   "cell_type": "markdown",
   "metadata": {},
   "source": [
    "#### 問題"
   ]
  },
  {
   "cell_type": "markdown",
   "metadata": {
    "id": "question"
   },
   "source": [
    "- 横軸に`x`、縦軸に`y`が対応する棒グラフを作成してください。"
   ]
  },
  {
   "cell_type": "code",
   "execution_count": null,
   "metadata": {
    "id": "index"
   },
   "outputs": [],
   "source": [
    "import numpy as np\n",
    "import matplotlib.pyplot as plt\n",
    "%matplotlib inline\n",
    "\n",
    "x = [1, 2, 3, 4, 5, 6]\n",
    "y = [12, 41, 32, 36, 21, 17]\n",
    "\n",
    "# 棒グラフを作成してください\n",
    "\n",
    "\n",
    "plt.show()\n"
   ]
  },
  {
   "cell_type": "markdown",
   "metadata": {},
   "source": [
    "#### ヒント"
   ]
  },
  {
   "cell_type": "markdown",
   "metadata": {
    "id": "hint"
   },
   "source": [
    "- 横軸の値とその値にに対応する縦軸のデータを`plt.bar()`に渡すことで棒グラフを作成することができます。"
   ]
  },
  {
   "cell_type": "markdown",
   "metadata": {},
   "source": [
    "#### 解答例"
   ]
  },
  {
   "cell_type": "code",
   "execution_count": null,
   "metadata": {
    "id": "answer",
    "scrolled": false
   },
   "outputs": [],
   "source": [
    "import numpy as np\n",
    "import matplotlib.pyplot as plt\n",
    "%matplotlib inline\n",
    "\n",
    "x = [1, 2, 3, 4, 5, 6]\n",
    "y = [12, 41, 32, 36, 21, 17]\n",
    "\n",
    "# 棒グラフを作成してください\n",
    "plt.bar(x, y)\n",
    "\n",
    "plt.show()\n"
   ]
  },
  {
   "cell_type": "markdown",
   "metadata": {},
   "source": [
    "***"
   ]
  },
  {
   "cell_type": "markdown",
   "metadata": {
    "courseId": 4040,
    "exerciseId": "Hk3-LRvgAQG",
    "id": "code_session_name",
    "important": false,
    "isDL": false,
    "timeoutSecs": 10
   },
   "source": [
    "### 3.2.2 横軸にラベルを設定する"
   ]
  },
  {
   "cell_type": "markdown",
   "metadata": {
    "id": "description"
   },
   "source": [
    "棒グラフの横軸にラベルをつける方法は、折れ線グラフやその他のグラフで行う方法と異なります。`matplotlib.pyplot.bar()`に`tick_label`としてラベルが入っているリストを渡すことでラベルを設定できます。"
   ]
  },
  {
   "cell_type": "markdown",
   "metadata": {},
   "source": [
    "#### 問題"
   ]
  },
  {
   "cell_type": "markdown",
   "metadata": {
    "id": "question"
   },
   "source": [
    "- 横軸に`x`、縦軸に`y`のデータが対応する棒グラフを作成し、横軸にラベルを設定してください。 **ラベルのリストは`labels`に入っています。** "
   ]
  },
  {
   "cell_type": "code",
   "execution_count": null,
   "metadata": {
    "id": "index"
   },
   "outputs": [],
   "source": [
    "import numpy as np\n",
    "import matplotlib.pyplot as plt\n",
    "%matplotlib inline\n",
    "\n",
    "x = [1, 2, 3, 4, 5, 6]\n",
    "y = [12, 41, 32, 36, 21, 17]\n",
    "labels = [\"Apple\", \"Orange\", \"Banana\", \"Pineapple\", \"Kiwifruit\", \"Strawberry\"]\n",
    "\n",
    "# 棒グラフを作成し、横軸にラベルを設定してください\n",
    "plt.bar(x, y, tick_label=  )\n",
    "\n",
    "plt.show()\n"
   ]
  },
  {
   "cell_type": "markdown",
   "metadata": {},
   "source": [
    "#### ヒント"
   ]
  },
  {
   "cell_type": "markdown",
   "metadata": {
    "id": "hint"
   },
   "source": [
    "- `plt.bar()`に`tick_label= ラベルのリスト名` としてラベルが入っているリストを渡すことでラベルを設定できます。"
   ]
  },
  {
   "cell_type": "markdown",
   "metadata": {},
   "source": [
    "#### 解答例"
   ]
  },
  {
   "cell_type": "code",
   "execution_count": null,
   "metadata": {
    "id": "answer",
    "scrolled": false
   },
   "outputs": [],
   "source": [
    "import numpy as np\n",
    "import matplotlib.pyplot as plt\n",
    "%matplotlib inline\n",
    "\n",
    "x = [1, 2, 3, 4, 5, 6]\n",
    "y = [12, 41, 32, 36, 21, 17]\n",
    "labels = [\"Apple\", \"Orange\", \"Banana\", \"Pineapple\", \"Kiwifruit\", \"Strawberry\"]\n",
    "\n",
    "# 棒グラフを作成し、横軸にラベルを設定してください\n",
    "plt.bar(x, y, tick_label= labels)\n",
    "\n",
    "plt.show()\n"
   ]
  },
  {
   "cell_type": "markdown",
   "metadata": {},
   "source": [
    "***"
   ]
  },
  {
   "cell_type": "markdown",
   "metadata": {
    "courseId": 4040,
    "exerciseId": "SkpW8ADlAXf",
    "id": "code_session_name",
    "important": false,
    "isDL": false,
    "timeoutSecs": 10
   },
   "source": [
    "### 3.2.3 積み上げ棒グラフを作成する"
   ]
  },
  {
   "cell_type": "markdown",
   "metadata": {
    "id": "description"
   },
   "source": [
    "2系統以上のデータを同じ項目に関して積み上げて表現されたグラフを **<font color=#AA0000>積み上げ棒グラフ</font>** と呼びます。\n",
    "\n",
    "`matplotlib.pyplot.bar()`の`bottom`にデータ列を渡すことで対応するインデックスにて **下側の余白を設定することができます。** \n",
    "\n",
    "すなわち、2回目以降のプロットの時にそれまでの合算を`bottom`に渡すことで積み上げ棒グラフを作成することができます。\n",
    "\n",
    "また、`plt.legend((\"y1\", \"y2\"))` とすることで系統ラベルを指定することもできます。"
   ]
  },
  {
   "cell_type": "markdown",
   "metadata": {},
   "source": [
    "#### 問題"
   ]
  },
  {
   "cell_type": "markdown",
   "metadata": {
    "id": "question"
   },
   "source": [
    "- **横軸に`x`、縦軸に`y1`、`y2`のデータ** が対応する **積み上げ棒グラフ** を作成し、横軸にラベルを設定してください。 **ラベルは`labels`に入っています。** "
   ]
  },
  {
   "cell_type": "code",
   "execution_count": null,
   "metadata": {
    "id": "index"
   },
   "outputs": [],
   "source": [
    "import numpy as np\n",
    "import matplotlib.pyplot as plt\n",
    "%matplotlib inline\n",
    "\n",
    "x = [1, 2, 3, 4, 5, 6]\n",
    "y1 = [12, 41, 32, 36, 21, 17]\n",
    "y2 = [43, 1, 6, 17, 17, 9]\n",
    "labels = [\"Apple\", \"Orange\", \"Banana\", \"Pineapple\", \"Kiwifruit\", \"Strawberry\"]\n",
    "\n",
    "# 積み上げ棒グラフを作成し、横軸にラベルを設定してください\n",
    "plt.bar(x, y1, tick_label=labels)\n",
    "plt.bar(x, , bottom=y1)\n",
    "\n",
    "# このように系統ラベルを設定することもできます\n",
    "plt.legend((\"y1\", \"y2\"))\n",
    "plt.show()\n"
   ]
  },
  {
   "cell_type": "markdown",
   "metadata": {},
   "source": [
    "#### ヒント"
   ]
  },
  {
   "cell_type": "markdown",
   "metadata": {
    "id": "hint"
   },
   "source": [
    "- `plt.bar()`の`bottom`にデータ列を渡すことで対応するインデックスにて下側の余白を設定することができます。"
   ]
  },
  {
   "cell_type": "markdown",
   "metadata": {},
   "source": [
    "#### 解答例"
   ]
  },
  {
   "cell_type": "code",
   "execution_count": null,
   "metadata": {
    "id": "answer",
    "scrolled": false
   },
   "outputs": [],
   "source": [
    "import numpy as np\n",
    "import matplotlib.pyplot as plt\n",
    "%matplotlib inline\n",
    "\n",
    "x = [1, 2, 3, 4, 5, 6]\n",
    "y1 = [12, 41, 32, 36, 21, 17]\n",
    "y2 = [43, 1, 6, 17, 17, 9]\n",
    "labels = [\"Apple\", \"Orange\", \"Banana\", \"Pineapple\", \"Kiwifruit\", \"Strawberry\"]\n",
    "\n",
    "# 積み上げ棒グラフを作成し、横軸にラベルを設定してください\n",
    "plt.bar(x, y1, tick_label=labels)\n",
    "plt.bar(x, y2, bottom=y1)\n",
    "\n",
    "# このように系統ラベルを設定することもできます\n",
    "plt.legend((\"y1\", \"y2\"))\n",
    "plt.show()\n"
   ]
  },
  {
   "cell_type": "markdown",
   "metadata": {},
   "source": [
    "***"
   ]
  },
  {
   "cell_type": "markdown",
   "metadata": {
    "id": "section_name",
    "sectionId": "HyA-8Cvg0mM"
   },
   "source": [
    "## 3.3 ヒストグラム"
   ]
  },
  {
   "cell_type": "markdown",
   "metadata": {
    "courseId": 4040,
    "exerciseId": "BJkzI0wxA7M",
    "id": "code_session_name",
    "important": false,
    "isDL": false,
    "timeoutSecs": 10
   },
   "source": [
    "### 3.3.1 ヒストグラムを作成する"
   ]
  },
  {
   "cell_type": "markdown",
   "metadata": {
    "id": "description"
   },
   "source": [
    "データを扱う際には**最初に**データの全体的な傾向を掴む事が非常に大切です。\n",
    "\n",
    "例えば、ある期限切れポイントデータが大量すぎて一度に消すとデーターベースがロックしてしまう問題が起こった時、私は30分毎に削除処理を動かす事で対処しようとしたのですがまるで無駄でした。なぜなら一日一回0:00分に有効期限切れチェックが行われていたため、0:00分以外は全て0件で0:00分に1,000万件超のデータが存在していたからです。各データが何回出てきているか（度数分布と言います）を最初にチェックしておけば、このような無駄は避ける事ができます。\n",
    "\n",
    "度数分布を表現する際にはヒストグラムという、縦軸に度数（回数）、横軸に階級（範囲）をとった統計グラフが使われる事が多いです。matplotlibでは\n",
    "リスト型のデータ列を`matplotlib.pyplot.hist()`に渡すことでヒストグラムを作成することができます。\n"
   ]
  },
  {
   "cell_type": "markdown",
   "metadata": {},
   "source": [
    "#### 問題"
   ]
  },
  {
   "cell_type": "markdown",
   "metadata": {
    "id": "question"
   },
   "source": [
    "- matplotlibを用いて`data`に入っているデータのヒストグラムを作成してください。"
   ]
  },
  {
   "cell_type": "code",
   "execution_count": null,
   "metadata": {
    "id": "index"
   },
   "outputs": [],
   "source": [
    "import numpy as np\n",
    "import matplotlib.pyplot as plt\n",
    "%matplotlib inline\n",
    "\n",
    "np.random.seed(0)\n",
    "data = np.random.randn(10000)\n",
    "\n",
    "# dataを用いてヒストグラムを作成してください\n",
    "\n",
    "\n",
    "plt.show()\n"
   ]
  },
  {
   "cell_type": "markdown",
   "metadata": {},
   "source": [
    "#### ヒント"
   ]
  },
  {
   "cell_type": "markdown",
   "metadata": {
    "id": "hint"
   },
   "source": [
    "- `plt.hist()`にリスト型のデータ列を渡すことでヒストグラムが作成可能です。"
   ]
  },
  {
   "cell_type": "markdown",
   "metadata": {},
   "source": [
    "#### 解答例"
   ]
  },
  {
   "cell_type": "code",
   "execution_count": null,
   "metadata": {
    "id": "answer",
    "scrolled": true
   },
   "outputs": [],
   "source": [
    "import numpy as np\n",
    "import matplotlib.pyplot as plt\n",
    "%matplotlib inline\n",
    "\n",
    "np.random.seed(0)\n",
    "data = np.random.randn(10000)\n",
    "\n",
    "# dataを用いてヒストグラムを作成してください\n",
    "plt.hist(data)\n",
    "\n",
    "plt.show()\n"
   ]
  },
  {
   "cell_type": "markdown",
   "metadata": {},
   "source": [
    "***"
   ]
  },
  {
   "cell_type": "markdown",
   "metadata": {
    "courseId": 4040,
    "exerciseId": "r1eG8RPe0QG",
    "id": "code_session_name",
    "important": false,
    "isDL": false,
    "timeoutSecs": 10
   },
   "source": [
    "### 3.3.2 ビン数を設定する"
   ]
  },
  {
   "cell_type": "markdown",
   "metadata": {
    "id": "description"
   },
   "source": [
    "ヒストグラムを作成する際、**データをいくつの階級に分けるか**が重要になります。`matplotlib.pyplot.hist()`にデータを渡してヒストグラムを作成する際に、`bins`を指定することで**任意の数のサイズの等しい階級に分けることができます。**`bins=\"auto\"`とすることで、ビン数が自動で設定されます。"
   ]
  },
  {
   "cell_type": "markdown",
   "metadata": {},
   "source": [
    "#### 問題"
   ]
  },
  {
   "cell_type": "markdown",
   "metadata": {
    "id": "question"
   },
   "source": [
    "- matplotlibとデータ列`data`を用いてビン数100のヒストグラムを作成してください。"
   ]
  },
  {
   "cell_type": "code",
   "execution_count": null,
   "metadata": {
    "id": "index"
   },
   "outputs": [],
   "source": [
    "import numpy as np\n",
    "import matplotlib.pyplot as plt\n",
    "%matplotlib inline\n",
    "\n",
    "np.random.seed(0)\n",
    "data = np.random.randn(10000)\n",
    "\n",
    "# ビン数100のヒストグラムを作成してください\n",
    "plt.hist(data, bins= )\n",
    "\n",
    "plt.show()\n"
   ]
  },
  {
   "cell_type": "markdown",
   "metadata": {},
   "source": [
    "#### ヒント"
   ]
  },
  {
   "cell_type": "markdown",
   "metadata": {
    "id": "hint"
   },
   "source": [
    "- `plt.hist()`にデータ列とともに`bins`を指定して渡すことでビン数が設定可能です"
   ]
  },
  {
   "cell_type": "markdown",
   "metadata": {},
   "source": [
    "#### 解答例"
   ]
  },
  {
   "cell_type": "code",
   "execution_count": null,
   "metadata": {
    "id": "answer",
    "scrolled": false
   },
   "outputs": [],
   "source": [
    "import numpy as np\n",
    "import matplotlib.pyplot as plt\n",
    "%matplotlib inline\n",
    "\n",
    "np.random.seed(0)\n",
    "data = np.random.randn(10000)\n",
    "\n",
    "# ビン数100のヒストグラムを作成してください\n",
    "plt.hist(data, bins=100)\n",
    "\n",
    "plt.show()\n"
   ]
  },
  {
   "cell_type": "markdown",
   "metadata": {},
   "source": [
    "***"
   ]
  },
  {
   "cell_type": "markdown",
   "metadata": {
    "courseId": 4040,
    "exerciseId": "rk-GUAwlAQf",
    "id": "code_session_name",
    "important": false,
    "isDL": false,
    "timeoutSecs": 10
   },
   "source": [
    "### 3.3.3 正規化を行う"
   ]
  },
  {
   "cell_type": "markdown",
   "metadata": {
    "id": "description"
   },
   "source": [
    "学校教育で使われる偏差値のツリガネ型のグラフを見た事がある方は多いと思います。あのグラフ（正規分布と言います）は面積の合計が1になるように調整されたグラフで「偏差値60以上の人は上位15.87%である」等の分布の計算が便利になるのです。成績や身長など、自然界の多くのデータは正規分布に近い形になる事が知られています。\n",
    "\n",
    "私達の作ったヒストグラムもデータの分布は正規分布であると仮定すると計算が便利になります。ヒストグラムの分布を正規分布と仮定したとき、合計値が1になるようにヒストグラムを操作することを **<font color=#AA0000>正規化</font>** と呼びます。\n",
    "\n",
    "ヒストグラムの正規化を行うときは`matplotlib.pyplot.hist()`にデータを渡す際に\n",
    "\n",
    "`density=True`とします。"
   ]
  },
  {
   "cell_type": "markdown",
   "metadata": {},
   "source": [
    "#### 問題"
   ]
  },
  {
   "cell_type": "markdown",
   "metadata": {
    "id": "question"
   },
   "source": [
    "- matplotlibとデータ列`data`を用いて正規化されたビン数100のヒストグラムを作成してください。"
   ]
  },
  {
   "cell_type": "code",
   "execution_count": null,
   "metadata": {
    "id": "index"
   },
   "outputs": [],
   "source": [
    "import numpy as np\n",
    "import matplotlib.pyplot as plt\n",
    "%matplotlib inline\n",
    "\n",
    "np.random.seed(0)\n",
    "data = np.random.randn(10000)\n",
    "\n",
    "# 正規化されたビン数100のヒストグラムを作成してください\n",
    "\n",
    "\n",
    "plt.show()\n"
   ]
  },
  {
   "cell_type": "markdown",
   "metadata": {},
   "source": [
    "#### ヒント"
   ]
  },
  {
   "cell_type": "markdown",
   "metadata": {
    "id": "hint"
   },
   "source": [
    "- ヒストグラムの正規化を行うときは`plt.hist()`にデータを渡す際に`density=True`とします。"
   ]
  },
  {
   "cell_type": "markdown",
   "metadata": {},
   "source": [
    "#### 解答例"
   ]
  },
  {
   "cell_type": "code",
   "execution_count": null,
   "metadata": {
    "id": "answer",
    "scrolled": false
   },
   "outputs": [],
   "source": [
    "import numpy as np\n",
    "import matplotlib.pyplot as plt\n",
    "%matplotlib inline\n",
    "\n",
    "np.random.seed(0)\n",
    "data = np.random.randn(10000)\n",
    "\n",
    "# 正規化されたビン数100のヒストグラムを作成してください\n",
    "plt.hist(data, bins=100, density=True)\n",
    "\n",
    "plt.show()\n"
   ]
  },
  {
   "cell_type": "markdown",
   "metadata": {},
   "source": [
    "***"
   ]
  },
  {
   "cell_type": "markdown",
   "metadata": {
    "courseId": 4040,
    "exerciseId": "SkzzIRPlAQf",
    "id": "code_session_name",
    "important": false,
    "isDL": false,
    "timeoutSecs": 10
   },
   "source": [
    "### 3.3.4 累積ヒストグラムを作成する"
   ]
  },
  {
   "cell_type": "markdown",
   "metadata": {
    "id": "description"
   },
   "source": [
    "ヒストグラムの最低階級から、階級が上がるごとに数を積み上げていくヒストグラムを **<font color=#AA0000>累積ヒストグラム</font>** と呼びます。累積ヒストグラムは、`matplotlib.pyplot.hist()`に`cumulative=True`を指定することで作成することができます。"
   ]
  },
  {
   "cell_type": "markdown",
   "metadata": {},
   "source": [
    "#### 問題"
   ]
  },
  {
   "cell_type": "markdown",
   "metadata": {
    "id": "question"
   },
   "source": [
    "- matplotlibとデータ列`data`を用いて正規化されたビン数100の累積ヒストグラムを作成してください。"
   ]
  },
  {
   "cell_type": "code",
   "execution_count": null,
   "metadata": {
    "id": "index"
   },
   "outputs": [],
   "source": [
    "import numpy as np\n",
    "import matplotlib.pyplot as plt\n",
    "%matplotlib inline\n",
    "\n",
    "np.random.seed(0)\n",
    "data = np.random.randn(10000)\n",
    "\n",
    "# 正規化されたビン数100の累積ヒストグラムを作成してください\n",
    "\n",
    "\n",
    "plt.show()\n"
   ]
  },
  {
   "cell_type": "markdown",
   "metadata": {},
   "source": [
    "#### ヒント"
   ]
  },
  {
   "cell_type": "markdown",
   "metadata": {
    "id": "hint"
   },
   "source": [
    "- 累積ヒストグラムは、`plt.hist()`に`cumulative=True`を指定することで作成することができます。"
   ]
  },
  {
   "cell_type": "markdown",
   "metadata": {},
   "source": [
    "#### 解答例"
   ]
  },
  {
   "cell_type": "code",
   "execution_count": null,
   "metadata": {
    "id": "answer",
    "scrolled": false
   },
   "outputs": [],
   "source": [
    "import numpy as np\n",
    "import matplotlib.pyplot as plt\n",
    "%matplotlib inline\n",
    "\n",
    "np.random.seed(0)\n",
    "data = np.random.randn(10000)\n",
    "\n",
    "# 正規化されたビン数100の累積ヒストグラムを作成してください\n",
    "plt.hist(data, bins=100, density=True, cumulative=True)\n",
    "\n",
    "plt.show()\n"
   ]
  },
  {
   "cell_type": "markdown",
   "metadata": {},
   "source": [
    "***"
   ]
  },
  {
   "cell_type": "markdown",
   "metadata": {
    "id": "section_name",
    "sectionId": "HyXfICwx07z"
   },
   "source": [
    "## 3.4 散布図"
   ]
  },
  {
   "cell_type": "markdown",
   "metadata": {
    "courseId": 4040,
    "exerciseId": "HyEf8AvgR7f",
    "id": "code_session_name",
    "important": false,
    "isDL": false,
    "timeoutSecs": 10
   },
   "source": [
    "### 3.4.1 散布図を作成する"
   ]
  },
  {
   "cell_type": "markdown",
   "metadata": {
    "id": "description"
   },
   "source": [
    "x軸、y軸に対応するデータをそれぞれ`matplotlib.pyplot.scatter()`に渡すことで散布図を作成することができます。"
   ]
  },
  {
   "cell_type": "markdown",
   "metadata": {},
   "source": [
    "#### 問題"
   ]
  },
  {
   "cell_type": "markdown",
   "metadata": {
    "id": "question"
   },
   "source": [
    "- リスト型の変数`x`、`y`のデータを平面上のx軸、y軸にそれぞれ対応させた散布図を作成してください。"
   ]
  },
  {
   "cell_type": "code",
   "execution_count": 4,
   "metadata": {
    "id": "index"
   },
   "outputs": [],
   "source": [
    "import numpy as np\n",
    "import matplotlib.pyplot as plt\n",
    "%matplotlib inline\n",
    "\n",
    "np.random.seed(0)\n",
    "x = np.random.choice(np.arange(100), 100)\n",
    "y = np.random.choice(np.arange(100), 100)\n",
    "\n",
    "# 散布図を作成してください\n",
    "\n",
    "\n",
    "plt.show()\n"
   ]
  },
  {
   "cell_type": "markdown",
   "metadata": {},
   "source": [
    "#### ヒント"
   ]
  },
  {
   "cell_type": "markdown",
   "metadata": {
    "id": "hint"
   },
   "source": [
    "- x軸、y軸に対応するデータを`plt.scatter()`に渡すことで散布図を作成することができます。"
   ]
  },
  {
   "cell_type": "markdown",
   "metadata": {},
   "source": [
    "#### 解答例"
   ]
  },
  {
   "cell_type": "code",
   "execution_count": null,
   "metadata": {
    "id": "answer"
   },
   "outputs": [],
   "source": [
    "import numpy as np\n",
    "import matplotlib.pyplot as plt\n",
    "%matplotlib inline\n",
    "\n",
    "np.random.seed(0)\n",
    "x = np.random.choice(np.arange(100), 100)\n",
    "y = np.random.choice(np.arange(100), 100)\n",
    "\n",
    "# 散布図を作成してください\n",
    "plt.scatter(x, y)\n",
    "\n",
    "plt.show()\n"
   ]
  },
  {
   "cell_type": "markdown",
   "metadata": {},
   "source": [
    "***"
   ]
  },
  {
   "cell_type": "markdown",
   "metadata": {
    "courseId": 4040,
    "exerciseId": "ryHzL0vgAQz",
    "id": "code_session_name",
    "important": false,
    "isDL": false,
    "timeoutSecs": 10
   },
   "source": [
    "### 3.4.2 マーカーの種類と色を設定する"
   ]
  },
  {
   "cell_type": "markdown",
   "metadata": {
    "id": "description"
   },
   "source": [
    "データとともに`marker=\"指定子\"`を指定することでマーカーの種類を設定することができます。また、`color=\"指定子\"`を指定することで、これまで学んできた色指定と同様に、マーカーの色を設定することができます。以下は指定できるマーカーの種類とその色の一部です。\n",
    "\n",
    "**マーカー**\n",
    "- `\"o\"`: 円\n",
    "- `\"s\"`: 四角\n",
    "- `\"p\"`: 五角形\n",
    "- `\"*\"`: 星\n",
    "- `\"+\"`: プラス\n",
    "- `\"D\"`: ダイアモンド\n",
    "\n",
    "**色**\n",
    "- `\"b\"` : 青\n",
    "- `\"g\"` : 緑\n",
    "- `\"r\"` : 赤\n",
    "- `\"c\"` : シアン\n",
    "- `\"m\"` : マゼンタ\n",
    "- `\"y\"` : 黄色\n",
    "- `\"k\"` : 黒\n",
    "- `\"w\"` : 白"
   ]
  },
  {
   "cell_type": "markdown",
   "metadata": {},
   "source": [
    "#### 問題"
   ]
  },
  {
   "cell_type": "markdown",
   "metadata": {
    "id": "question"
   },
   "source": [
    "- リスト型の変数`x`、`y`のデータを平面上のx軸、y軸にそれぞれ対応させた散布図を作成してください。\n",
    "- マーカーの種類を四角、色を赤に設定してプロットしてください。\n",
    "- **赤色は** `\"r\"` で指定してください"
   ]
  },
  {
   "cell_type": "code",
   "execution_count": null,
   "metadata": {
    "id": "index"
   },
   "outputs": [],
   "source": [
    "import numpy as np\n",
    "import matplotlib.pyplot as plt\n",
    "%matplotlib inline\n",
    "\n",
    "np.random.seed(0)\n",
    "x = np.random.choice(np.arange(100), 100)\n",
    "y = np.random.choice(np.arange(100), 100)\n",
    "\n",
    "# マーカーの種類を四角、色を赤に設定して散布図を作成してください\n",
    "plt.scatter(x, y, marker= , color= )\n",
    "plt.show()\n"
   ]
  },
  {
   "cell_type": "markdown",
   "metadata": {},
   "source": [
    "#### ヒント"
   ]
  },
  {
   "cell_type": "markdown",
   "metadata": {
    "id": "hint"
   },
   "source": [
    "- データとともに`marker=\"指定子\"`を指定することでマーカーの種類を設定することができます。\n",
    "- `color=\"指定子\"`を指定することでマーカーの色を設定することができます。"
   ]
  },
  {
   "cell_type": "markdown",
   "metadata": {},
   "source": [
    "#### 解答例"
   ]
  },
  {
   "cell_type": "code",
   "execution_count": null,
   "metadata": {
    "id": "answer"
   },
   "outputs": [],
   "source": [
    "import numpy as np\n",
    "import matplotlib.pyplot as plt\n",
    "%matplotlib inline\n",
    "\n",
    "np.random.seed(0)\n",
    "x = np.random.choice(np.arange(100), 100)\n",
    "y = np.random.choice(np.arange(100), 100)\n",
    "\n",
    "# マーカーの種類を四角、色を赤に設定して散布図を作成してください\n",
    "plt.scatter(x, y, marker=\"s\", color=\"r\")\n",
    "plt.show()\n"
   ]
  },
  {
   "cell_type": "markdown",
   "metadata": {},
   "source": [
    "***"
   ]
  },
  {
   "cell_type": "markdown",
   "metadata": {
    "courseId": 4040,
    "exerciseId": "S1UG80PeCQf",
    "id": "code_session_name",
    "important": false,
    "isDL": false,
    "timeoutSecs": 10
   },
   "source": [
    "### 3.4.3 値に応じてマーカーの大きさを設定する"
   ]
  },
  {
   "cell_type": "markdown",
   "metadata": {
    "id": "description"
   },
   "source": [
    "`matplotlib.pyplot.scatter()`を用いてプロットする際、**マーカー自体にデータを持たせることができます。**\n",
    "\n",
    "`matplotlib.pyplot.scatter()`にx軸、y軸に対応するデータとともに、順番が対応するリスト型のデータを`s=データ`として渡すと**データの値に応じてマーカーの大きさが設定されます**。\n",
    "\n",
    "このように、散布図にはx軸、y軸、マーカー自身の三つの要素を含ませることができます。"
   ]
  },
  {
   "cell_type": "markdown",
   "metadata": {},
   "source": [
    "#### 問題"
   ]
  },
  {
   "cell_type": "markdown",
   "metadata": {
    "id": "question"
   },
   "source": [
    "- 変数`x`、`y`の値をプロットした上で`z`の値に応じてマーカーの大きさを設定してください。"
   ]
  },
  {
   "cell_type": "code",
   "execution_count": null,
   "metadata": {
    "id": "index"
   },
   "outputs": [],
   "source": [
    "import numpy as np\n",
    "import matplotlib.pyplot as plt\n",
    "%matplotlib inline\n",
    "\n",
    "np.random.seed(0)\n",
    "x = np.random.choice(np.arange(100), 100)\n",
    "y = np.random.choice(np.arange(100), 100)\n",
    "z = np.random.choice(np.arange(100), 100)\n",
    "\n",
    "# zの値に応じて、マーカーの大きさが変わるようにプロットしてください\n",
    "plt.scatter(x, y, s= )\n",
    "\n",
    "plt.show()\n"
   ]
  },
  {
   "cell_type": "markdown",
   "metadata": {},
   "source": [
    "#### ヒント"
   ]
  },
  {
   "cell_type": "markdown",
   "metadata": {
    "id": "hint"
   },
   "source": [
    "- `plt.scatter()`に`s=データ`を渡すとデータの値に応じてマーカーの大きさが設定されます。"
   ]
  },
  {
   "cell_type": "markdown",
   "metadata": {},
   "source": [
    "#### 解答例"
   ]
  },
  {
   "cell_type": "code",
   "execution_count": null,
   "metadata": {
    "id": "answer"
   },
   "outputs": [],
   "source": [
    "import numpy as np\n",
    "import matplotlib.pyplot as plt\n",
    "%matplotlib inline\n",
    "\n",
    "np.random.seed(0)\n",
    "x = np.random.choice(np.arange(100), 100)\n",
    "y = np.random.choice(np.arange(100), 100)\n",
    "z = np.random.choice(np.arange(100), 100)\n",
    "\n",
    "# zの値に応じて、マーカーの大きさが変わるようにプロットしてください\n",
    "plt.scatter(x, y, s=z)\n",
    "\n",
    "plt.show()\n"
   ]
  },
  {
   "cell_type": "markdown",
   "metadata": {},
   "source": [
    "***"
   ]
  },
  {
   "cell_type": "markdown",
   "metadata": {
    "courseId": 4040,
    "exerciseId": "r1wMIRvxAXM",
    "id": "code_session_name",
    "important": false,
    "isDL": false,
    "timeoutSecs": 10
   },
   "source": [
    "### 3.4.4 値に応じてマーカーの濃さを設定する"
   ]
  },
  {
   "cell_type": "markdown",
   "metadata": {
    "id": "description"
   },
   "source": [
    "値に応じてマーカーの大きさを変えると、見た目がうるさくなる時があります。その場合は、値に応じてマーカーの色の濃さを変えることがおすすめです。`matplotlib.pyplot.scatter()`にx軸、y軸に対応するデータとともに`c=濃さに対応するデータ（リストなど）`を渡すと、 **対応するデータを表すマーカーの濃さが渡したデータの大きさに応じて設定されます。**`cmap=\"色系統\"`を指定することで色の系統を設定できます。以下は使用できる色系統のうちの一部です。\n",
    "\n",
    "**色系統指定子**\n",
    "\n",
    "- \"Reds\": 赤\n",
    "- \"Blues\": 青\n",
    "- \"Greens\": 緑\n",
    "- \"Purples\": 紫"
   ]
  },
  {
   "cell_type": "markdown",
   "metadata": {},
   "source": [
    "#### 問題"
   ]
  },
  {
   "cell_type": "markdown",
   "metadata": {
    "id": "question"
   },
   "source": [
    "- 変数`x`、`y`の値をプロットした上で`z`の値に応じてマーカーの濃さを青系統で設定してください。"
   ]
  },
  {
   "cell_type": "code",
   "execution_count": null,
   "metadata": {
    "id": "index"
   },
   "outputs": [],
   "source": [
    "import numpy as np\n",
    "import matplotlib.pyplot as plt\n",
    "%matplotlib inline\n",
    "\n",
    "np.random.seed(0)\n",
    "x = np.random.choice(np.arange(100), 100)\n",
    "y = np.random.choice(np.arange(100), 100)\n",
    "z = np.random.choice(np.arange(100), 100)\n",
    "\n",
    "# zの値に応じて、マーカーの濃さが青系統で変わるようにプロットしてください\n",
    "plt.scatter(x, y, c= , cmap=\"\")\n",
    "\n",
    "plt.show()\n"
   ]
  },
  {
   "cell_type": "markdown",
   "metadata": {},
   "source": [
    "#### ヒント"
   ]
  },
  {
   "cell_type": "markdown",
   "metadata": {
    "id": "hint"
   },
   "source": [
    "- `plt.scatter()`にx軸、y軸に対応するデータとともに`c=濃さに対応するデータ（リストなど）`を渡すと、対応するデータを表すマーカーの濃さが渡したデータの大きさに応じて設定されます。`cmap=\"色系統\"`を指定することで色の系統を設定できます\n",
    "- 色系統を青に指定するには\"Blues\"を指定します"
   ]
  },
  {
   "cell_type": "markdown",
   "metadata": {},
   "source": [
    "#### 解答例"
   ]
  },
  {
   "cell_type": "code",
   "execution_count": null,
   "metadata": {
    "id": "answer"
   },
   "outputs": [],
   "source": [
    "import numpy as np\n",
    "import matplotlib.pyplot as plt\n",
    "%matplotlib inline\n",
    "\n",
    "np.random.seed(0)\n",
    "x = np.random.choice(np.arange(100), 100)\n",
    "y = np.random.choice(np.arange(100), 100)\n",
    "z = np.random.choice(np.arange(100), 100)\n",
    "\n",
    "# zの値に応じて、マーカーの濃さが青系統で変わるようにプロットしてください\n",
    "plt.scatter(x, y, c=z, cmap=\"Blues\")\n",
    "\n",
    "plt.show()\n"
   ]
  },
  {
   "cell_type": "markdown",
   "metadata": {},
   "source": [
    "***"
   ]
  },
  {
   "cell_type": "markdown",
   "metadata": {
    "courseId": 4040,
    "exerciseId": "BJOz80vx07G",
    "id": "code_session_name",
    "important": false,
    "isDL": false,
    "timeoutSecs": 10
   },
   "source": [
    "### 3.4.5 カラーバーを表示する"
   ]
  },
  {
   "cell_type": "markdown",
   "metadata": {
    "id": "description"
   },
   "source": [
    "値の大小に応じてマーカーを着色するだけでは、値の目安がわかりません。そこで、濃さが表すだいたいの値がわかるようにカラーバーを表示するとよいです。`matplotlib.pyplot.colorbar()`で**カラーバーを表示することができます。**"
   ]
  },
  {
   "cell_type": "markdown",
   "metadata": {},
   "source": [
    "#### 問題"
   ]
  },
  {
   "cell_type": "markdown",
   "metadata": {
    "id": "question"
   },
   "source": [
    "- 変数`x`、`y`の値をプロットした上で`z`の値に応じてマーカーの濃さを青系統で設定してください。\n",
    "- カラーバーを表示してください。"
   ]
  },
  {
   "cell_type": "code",
   "execution_count": null,
   "metadata": {
    "id": "index"
   },
   "outputs": [],
   "source": [
    "import numpy as np\n",
    "import matplotlib.pyplot as plt\n",
    "%matplotlib inline\n",
    "\n",
    "np.random.seed(0)\n",
    "x = np.random.choice(np.arange(100), 100)\n",
    "y = np.random.choice(np.arange(100), 100)\n",
    "z = np.random.choice(np.arange(100), 100)\n",
    "\n",
    "# zの値に応じて、マーカーの濃さが青系統で変わるようにプロットしてください\n",
    "plt.scatter(x, y, c=z, cmap=\"Blues\")\n",
    "# カラーバーを表示してください\n",
    "\n",
    "\n",
    "plt.show()\n"
   ]
  },
  {
   "cell_type": "markdown",
   "metadata": {},
   "source": [
    "#### ヒント"
   ]
  },
  {
   "cell_type": "markdown",
   "metadata": {
    "id": "hint"
   },
   "source": [
    "- `plt.colorbar()`でカラーバーを表示することができます。"
   ]
  },
  {
   "cell_type": "markdown",
   "metadata": {},
   "source": [
    "#### 解答例"
   ]
  },
  {
   "cell_type": "code",
   "execution_count": null,
   "metadata": {
    "id": "answer"
   },
   "outputs": [],
   "source": [
    "import numpy as np\n",
    "import matplotlib.pyplot as plt\n",
    "%matplotlib inline\n",
    "\n",
    "np.random.seed(0)\n",
    "x = np.random.choice(np.arange(100), 100)\n",
    "y = np.random.choice(np.arange(100), 100)\n",
    "z = np.random.choice(np.arange(100), 100)\n",
    "\n",
    "# zの値に応じて、マーカーの濃さが青系統で変わるようにプロットしてください\n",
    "plt.scatter(x, y, c=z, cmap=\"Blues\")\n",
    "# カラーバーを表示してください\n",
    "plt.colorbar()\n",
    "\n",
    "plt.show()\n"
   ]
  },
  {
   "cell_type": "markdown",
   "metadata": {},
   "source": [
    "***"
   ]
  },
  {
   "cell_type": "markdown",
   "metadata": {
    "id": "section_name",
    "sectionId": "ryKMLRvg0Xz"
   },
   "source": [
    "## 3.5 円グラフ"
   ]
  },
  {
   "cell_type": "markdown",
   "metadata": {
    "courseId": 4040,
    "exerciseId": "SJcG8RvgC7f",
    "id": "code_session_name",
    "important": false,
    "isDL": false,
    "timeoutSecs": 10
   },
   "source": [
    "### 3.5.1 円グラフを作成する"
   ]
  },
  {
   "cell_type": "markdown",
   "metadata": {
    "id": "description"
   },
   "source": [
    "リスト型のデータを`matplotlib.pyplot.pie()`に渡すことで **<font color=#AA0000>円グラフ</font>** を作成することができます。グラフを円形にするには、`matplotlib.pyplot.axis(\"equal\")`が必要です。**このコードがないと楕円になってしまいます。**"
   ]
  },
  {
   "cell_type": "markdown",
   "metadata": {},
   "source": [
    "#### 問題"
   ]
  },
  {
   "cell_type": "markdown",
   "metadata": {
    "id": "question"
   },
   "source": [
    "- 変数`data`を円グラフで可視化してください。"
   ]
  },
  {
   "cell_type": "code",
   "execution_count": null,
   "metadata": {
    "id": "index"
   },
   "outputs": [],
   "source": [
    "import matplotlib.pyplot as plt\n",
    "%matplotlib inline\n",
    "\n",
    "data = [60, 20, 10, 5, 3, 2]\n",
    "\n",
    "# dataを円グラフとして可視化してください\n",
    "\n",
    "\n",
    "# 円グラフを楕円から円形にしてください\n",
    "\n",
    "\n",
    "plt.show()\n"
   ]
  },
  {
   "cell_type": "markdown",
   "metadata": {},
   "source": [
    "#### ヒント"
   ]
  },
  {
   "cell_type": "markdown",
   "metadata": {
    "id": "hint"
   },
   "source": [
    "- リスト型のデータを`plt.pie()`に渡すことで円グラフを作成することができます。グラフを円形にするには、`plt.axis(\"equal\")`が必要です。"
   ]
  },
  {
   "cell_type": "markdown",
   "metadata": {},
   "source": [
    "#### 解答例"
   ]
  },
  {
   "cell_type": "code",
   "execution_count": null,
   "metadata": {
    "id": "answer"
   },
   "outputs": [],
   "source": [
    "import matplotlib.pyplot as plt\n",
    "%matplotlib inline\n",
    "\n",
    "data = [60, 20, 10, 5, 3, 2]\n",
    "\n",
    "# dataを円グラフとして可視化してください\n",
    "plt.pie(data)\n",
    "\n",
    "# 円グラフを円楕円から円形にしてください\n",
    "plt.axis(\"equal\")\n",
    "\n",
    "plt.show()\n"
   ]
  },
  {
   "cell_type": "markdown",
   "metadata": {},
   "source": [
    "***"
   ]
  },
  {
   "cell_type": "markdown",
   "metadata": {
    "courseId": 4040,
    "exerciseId": "ByoMU0vx07G",
    "id": "code_session_name",
    "important": false,
    "isDL": false,
    "timeoutSecs": 10
   },
   "source": [
    "### 3.5.2 円グラフにラベルを設定する"
   ]
  },
  {
   "cell_type": "markdown",
   "metadata": {
    "id": "description"
   },
   "source": [
    "`matplotlib.pyplot.pie(渡されたデータ, labels=ラベル用のリスト)`のように`pie()`のパラメータ`labels`に、表示させたい円グラフのラベルのリストを渡すことで、**円グラフにラベルを付与することができます。**\n"
   ]
  },
  {
   "cell_type": "markdown",
   "metadata": {},
   "source": [
    "#### 問題"
   ]
  },
  {
   "cell_type": "markdown",
   "metadata": {
    "id": "question"
   },
   "source": [
    "- 変数`data`を円グラフで可視化してください。\n",
    "- `labels`に含まれるラベルを設定してください。"
   ]
  },
  {
   "cell_type": "code",
   "execution_count": null,
   "metadata": {
    "id": "index"
   },
   "outputs": [],
   "source": [
    "import matplotlib.pyplot as plt\n",
    "%matplotlib inline\n",
    "\n",
    "data = [60, 20, 10, 5, 3, 2]\n",
    "labels = [\"Apple\", \"Orange\", \"Banana\", \"Pineapple\", \"Kiwifruit\", \"Strawberry\"]\n",
    "\n",
    "# dataにlabelsのラベルをつけ円グラフ可視化してください\n",
    "plt.pie(data, labels= )\n",
    "\n",
    "plt.axis(\"equal\")\n",
    "plt.show()\n"
   ]
  },
  {
   "cell_type": "markdown",
   "metadata": {},
   "source": [
    "#### ヒント"
   ]
  },
  {
   "cell_type": "markdown",
   "metadata": {
    "id": "hint"
   },
   "source": [
    "- plt.pie()のパラメータ `label=付与したいリスト形式のラベル` とすることで、円グラフにラベルを付与することが可能です。"
   ]
  },
  {
   "cell_type": "markdown",
   "metadata": {},
   "source": [
    "#### 解答例"
   ]
  },
  {
   "cell_type": "code",
   "execution_count": null,
   "metadata": {
    "id": "answer"
   },
   "outputs": [],
   "source": [
    "import matplotlib.pyplot as plt\n",
    "%matplotlib inline\n",
    "\n",
    "data = [60, 20, 10, 5, 3, 2]\n",
    "labels = [\"Apple\", \"Orange\", \"Banana\", \"Pineapple\", \"Kiwifruit\", \"Strawberry\"]\n",
    "\n",
    "# dataにlabelsのラベルをつけ円グラフ可視化してください\n",
    "plt.pie(data, labels=labels)\n",
    "\n",
    "plt.axis(\"equal\")\n",
    "plt.show()\n"
   ]
  },
  {
   "cell_type": "markdown",
   "metadata": {},
   "source": [
    "***"
   ]
  },
  {
   "cell_type": "markdown",
   "metadata": {
    "courseId": 4040,
    "exerciseId": "HJnGIRwl07f",
    "id": "code_session_name",
    "important": false,
    "isDL": false,
    "timeoutSecs": 10
   },
   "source": [
    "### 3.5.3 特定の要素を目立たせる"
   ]
  },
  {
   "cell_type": "markdown",
   "metadata": {
    "id": "description"
   },
   "source": [
    "円グラフの特徴的な要素だけを切り離して目立たせたい場合があります。「目立たせ度合い(0から1の値)」を渡した要素と同じ順番に並べたリストを`matplotlib.pyplot.pie()`に`explode`として渡すことで **任意の要素を目立たせることができます。**"
   ]
  },
  {
   "cell_type": "markdown",
   "metadata": {},
   "source": [
    "#### 問題"
   ]
  },
  {
   "cell_type": "markdown",
   "metadata": {
    "id": "question"
   },
   "source": [
    "- 変数`data`を円グラフで可視化してください。\n",
    "- `labels`に含まれるラベルを設定してください。\n",
    "- `explode`に入っている「目立たせ度合い」を適用してください。"
   ]
  },
  {
   "cell_type": "code",
   "execution_count": null,
   "metadata": {
    "id": "index"
   },
   "outputs": [],
   "source": [
    "import matplotlib.pyplot as plt\n",
    "%matplotlib inline\n",
    "\n",
    "data = [60, 20, 10, 5, 3, 2]\n",
    "labels = [\"Apple\", \"Orange\", \"Banana\", \"Pineapple\", \"Kiwifruit\", \"Strawberry\"]\n",
    "explode = [0, 0, 0.1, 0, 0, 0]\n",
    "\n",
    "# dataにlabelsのラベルをつけて、Bananaを目立たせた円グラフを可視化してください\n",
    "\n",
    "plt.axis(\"equal\")\n",
    "plt.show()\n"
   ]
  },
  {
   "cell_type": "markdown",
   "metadata": {},
   "source": [
    "#### ヒント"
   ]
  },
  {
   "cell_type": "markdown",
   "metadata": {
    "id": "hint"
   },
   "source": [
    "- 「目立たせ度合い(0から1の値)」を渡した要素と同じ順番に並べたリストを`matplotlib.pyplot.pie()`に`explode`として渡すことで任意の要素を目立たせることができます。"
   ]
  },
  {
   "cell_type": "markdown",
   "metadata": {},
   "source": [
    "#### 解答例"
   ]
  },
  {
   "cell_type": "code",
   "execution_count": null,
   "metadata": {
    "id": "answer"
   },
   "outputs": [],
   "source": [
    "import matplotlib.pyplot as plt\n",
    "%matplotlib inline\n",
    "\n",
    "data = [60, 20, 10, 5, 3, 2]\n",
    "labels = [\"Apple\", \"Orange\", \"Banana\", \"Pineapple\", \"Kiwifruit\", \"Strawberry\"]\n",
    "explode = [0, 0, 0.1, 0, 0, 0]\n",
    "\n",
    "# dataにlabelsのラベルをつけて、Bananaを目立たせた円グラフを可視化してください\n",
    "plt.pie(data, labels=labels, explode=explode)\n",
    "plt.axis(\"equal\")\n",
    "plt.show()\n"
   ]
  },
  {
   "cell_type": "markdown",
   "metadata": {},
   "source": [
    "***"
   ]
  },
  {
   "cell_type": "markdown",
   "metadata": {
    "id": "section_name",
    "sectionId": "SJaG8APeRQM"
   },
   "source": [
    "## 3.6 3Dグラフ"
   ]
  },
  {
   "cell_type": "markdown",
   "metadata": {
    "courseId": 4040,
    "exerciseId": "rkAfI0DeA7z",
    "id": "code_session_name",
    "important": false,
    "isDL": false,
    "timeoutSecs": 10
   },
   "source": [
    "### 3.6.1 3D Axesを作成する"
   ]
  },
  {
   "cell_type": "markdown",
   "metadata": {
    "id": "description"
   },
   "source": [
    "このセクションでは3Dグラフの描画について学びます。\n",
    "\n",
    "3Dグラフを描画するためには、3D描画機能を持ったサブプロットを作成する必要があります。サブプロットを作成する際に\n",
    "\n",
    "`matplotlib.figure().add_subplot(1,1,1,projection=\"3d\")`のように`projection=\"3d\"`\n",
    "\n",
    "と指定することで、 **3D描画機能を持ったサブプロットを作成することができます。**"
   ]
  },
  {
   "cell_type": "markdown",
   "metadata": {},
   "source": [
    "#### 問題"
   ]
  },
  {
   "cell_type": "markdown",
   "metadata": {
    "id": "question"
   },
   "source": [
    "- 用意された変数`fig`を用いて3D描画機能を持ったサブプロット`ax`を作成してください。ただし、図は分割しないでください。"
   ]
  },
  {
   "cell_type": "code",
   "execution_count": null,
   "metadata": {
    "id": "index"
   },
   "outputs": [],
   "source": [
    "import numpy as np\n",
    "import matplotlib.pyplot as plt\n",
    "# 3D描画を行うために必要なライブラリ\n",
    "from mpl_toolkits.mplot3d import Axes3D\n",
    "%matplotlib inline\n",
    "\n",
    "t = np.linspace(-2*np.pi, 2*np.pi)\n",
    "X, Y = np.meshgrid(t, t)\n",
    "R = np.sqrt(X**2 + Y**2)\n",
    "Z = np.sin(R)\n",
    "\n",
    "# Figureオブジェクトを作成\n",
    "fig = plt.figure(figsize=(6,6))\n",
    "# サブプロットaxを作成してください\n",
    "ax = \n",
    "\n",
    "# プロットして表示\n",
    "ax.plot_surface(X, Y, Z)\n",
    "plt.show()\n"
   ]
  },
  {
   "cell_type": "markdown",
   "metadata": {},
   "source": [
    "#### ヒント"
   ]
  },
  {
   "cell_type": "markdown",
   "metadata": {
    "id": "hint"
   },
   "source": [
    "- 3D描画可能なサブプロットは`add_subplot()`に渡す引数`projection=\"3d\"`を指定することで作成できます。"
   ]
  },
  {
   "cell_type": "markdown",
   "metadata": {},
   "source": [
    "#### 解答例"
   ]
  },
  {
   "cell_type": "code",
   "execution_count": null,
   "metadata": {
    "id": "answer",
    "scrolled": true
   },
   "outputs": [],
   "source": [
    "import numpy as np\n",
    "import matplotlib.pyplot as plt\n",
    "# 3D描画を行うために必要なライブラリ\n",
    "from mpl_toolkits.mplot3d import Axes3D\n",
    "%matplotlib inline\n",
    "\n",
    "t = np.linspace(-2*np.pi, 2*np.pi)\n",
    "X, Y = np.meshgrid(t, t)\n",
    "R = np.sqrt(X**2 + Y**2)\n",
    "Z = np.sin(R)\n",
    "\n",
    "# Figureオブジェクトを作成\n",
    "fig = plt.figure(figsize=(6,6))\n",
    "# サブプロットaxを作成してください\n",
    "ax  = fig.add_subplot(1, 1, 1, projection=\"3d\" )\n",
    "\n",
    "# プロットして表示\n",
    "ax.plot_surface(X, Y, Z)\n",
    "plt.show()\n"
   ]
  },
  {
   "cell_type": "markdown",
   "metadata": {},
   "source": [
    "***"
   ]
  },
  {
   "cell_type": "markdown",
   "metadata": {
    "courseId": 4040,
    "exerciseId": "Syk7U0Dg07G",
    "id": "code_session_name",
    "important": false,
    "isDL": false,
    "timeoutSecs": 10
   },
   "source": [
    "### 3.6.2 曲面を作成する"
   ]
  },
  {
   "cell_type": "markdown",
   "metadata": {
    "id": "description"
   },
   "source": [
    "あらかじめ分かっている関数を可視化する場合、なるべく真に近い見た目を確認したいです。\n",
    "\n",
    "サブプロット `ax` が用意されている場合、`ax.plot_surface(X,Y,Z)`のようにx軸、y軸、z軸に対応するデータを渡すことで**曲面を描画することができます。**\n",
    "\n",
    "描画されたものを`matplotlib.pyplot.show()`を用いて画面に出力できます。"
   ]
  },
  {
   "cell_type": "markdown",
   "metadata": {},
   "source": [
    "#### 問題"
   ]
  },
  {
   "cell_type": "markdown",
   "metadata": {
    "id": "question"
   },
   "source": [
    "- 変数`X`,`Y`,`Z`のデータをそれぞれx軸、y軸、z軸に対応させて曲面を可視化してください。"
   ]
  },
  {
   "cell_type": "code",
   "execution_count": null,
   "metadata": {
    "id": "index"
   },
   "outputs": [],
   "source": [
    "import numpy as np\n",
    "import matplotlib.pyplot as plt\n",
    "# 3D描画を行うために必要なライブラリ\n",
    "from mpl_toolkits.mplot3d import Axes3D\n",
    "%matplotlib inline\n",
    "\n",
    "x = y = np.linspace(-5, 5)\n",
    "X, Y = np.meshgrid(x, y)\n",
    "Z = np.exp(-(X**2 + Y**2)/2) / (2*np.pi)\n",
    "\n",
    "# Figureオブジェクトを作成\n",
    "fig = plt.figure(figsize=(6, 6))\n",
    "# サブプロットaxを作成\n",
    "ax  = fig.add_subplot(1, 1, 1, projection=\"3d\")\n",
    "# 曲面を描画して表示してください\n",
    "\n",
    "\n",
    "plt.show()\n"
   ]
  },
  {
   "cell_type": "markdown",
   "metadata": {},
   "source": [
    "#### ヒント"
   ]
  },
  {
   "cell_type": "markdown",
   "metadata": {
    "id": "hint"
   },
   "source": [
    "- サブプロットaxを用いて、`ax.plot_surface()`にデータを渡すことで曲面の描画が可能。"
   ]
  },
  {
   "cell_type": "markdown",
   "metadata": {},
   "source": [
    "#### 解答例"
   ]
  },
  {
   "cell_type": "code",
   "execution_count": null,
   "metadata": {
    "id": "answer",
    "scrolled": false
   },
   "outputs": [],
   "source": [
    "import numpy as np\n",
    "import matplotlib.pyplot as plt\n",
    "# 3D描画を行うために必要なライブラリ\n",
    "from mpl_toolkits.mplot3d import Axes3D\n",
    "%matplotlib inline\n",
    "\n",
    "x = y = np.linspace(-5, 5)\n",
    "X, Y = np.meshgrid(x, y)\n",
    "Z = np.exp(-(X**2 + Y**2)/2) / (2*np.pi)\n",
    "\n",
    "# Figureオブジェクトを作成\n",
    "fig = plt.figure(figsize=(6, 6))\n",
    "# サブプロットaxを作成\n",
    "ax  = fig.add_subplot(1, 1, 1, projection=\"3d\")\n",
    "# 曲面を描画して表示してください\n",
    "ax.plot_surface(X, Y, Z)\n",
    "\n",
    "plt.show()\n"
   ]
  },
  {
   "cell_type": "markdown",
   "metadata": {},
   "source": [
    "***"
   ]
  },
  {
   "cell_type": "markdown",
   "metadata": {
    "courseId": 4040,
    "exerciseId": "SyemIADeCmf",
    "id": "code_session_name",
    "important": false,
    "isDL": false,
    "timeoutSecs": 10
   },
   "source": [
    "### 3.6.3 3Dヒストグラムを作成する"
   ]
  },
  {
   "cell_type": "markdown",
   "metadata": {
    "id": "description"
   },
   "source": [
    "データセットの2つの要素の関係性を見出すために各要素をそれぞれx軸とy軸に対応させ、z軸方向に積み上げていく視覚化の方法が有効な場合があります。`bar3d(xpos, ypos, zpos, dx, dy, dz)`のようにx軸、y軸、z軸の位置と変化量に対応するデータを渡すことで、**3次元のヒストグラムまたは棒グラフを作成することができます。**"
   ]
  },
  {
   "cell_type": "markdown",
   "metadata": {},
   "source": [
    "#### 問題"
   ]
  },
  {
   "cell_type": "markdown",
   "metadata": {
    "id": "question"
   },
   "source": [
    "- 3Dヒストグラムを作成してください。x軸, y軸, z軸に対応するデータはそれぞれxpos, ypos, zposにx,y,zの増加量はdx,dy,dzに入っています。"
   ]
  },
  {
   "cell_type": "code",
   "execution_count": null,
   "metadata": {
    "id": "index"
   },
   "outputs": [],
   "source": [
    "import matplotlib.pyplot as plt\n",
    "import numpy as np\n",
    "# 3D描画を行うために必要なライブラリ\n",
    "from mpl_toolkits.mplot3d import Axes3D\n",
    "%matplotlib inline\n",
    "\n",
    "# Figureオブジェクトを作成\n",
    "fig = plt.figure(figsize=(5, 5))\n",
    "# サブプロットax1を作成\n",
    "ax = fig.add_subplot(111, projection=\"3d\")\n",
    "\n",
    "# x, y, zの位置を決める\n",
    "xpos = [i for i in range(10)]\n",
    "ypos = [i for i in range(10)]\n",
    "zpos = np.zeros(10)\n",
    "   \n",
    "# x, y, zの増加量を決める\n",
    "dx = np.ones(10)\n",
    "dy = np.ones(10)\n",
    "dz = [i for i in range(10)]\n",
    "\n",
    "# 3次元のbarを作成してください\n",
    "\n",
    "\n",
    "plt.show()\n"
   ]
  },
  {
   "cell_type": "markdown",
   "metadata": {},
   "source": [
    "#### ヒント"
   ]
  },
  {
   "cell_type": "markdown",
   "metadata": {
    "id": "hint"
   },
   "source": [
    "- サブプロットaxを用いて、`ax.bar3d()`に軸の情報とデータを渡すことで3D散布図が作成可能です。"
   ]
  },
  {
   "cell_type": "markdown",
   "metadata": {},
   "source": [
    "#### 解答例"
   ]
  },
  {
   "cell_type": "code",
   "execution_count": null,
   "metadata": {
    "id": "answer",
    "scrolled": true
   },
   "outputs": [],
   "source": [
    "import matplotlib.pyplot as plt\n",
    "import numpy as np\n",
    "# 3D描画を行うために必要なライブラリ\n",
    "from mpl_toolkits.mplot3d import Axes3D\n",
    "%matplotlib inline\n",
    "\n",
    "# Figureオブジェクトを作成\n",
    "fig = plt.figure(figsize=(5, 5))\n",
    "# サブプロットax1を作成\n",
    "ax = fig.add_subplot(111, projection=\"3d\")\n",
    "\n",
    "# x, y, zの位置を決める\n",
    "xpos = [i for i in range(10)]\n",
    "ypos = [i for i in range(10)]\n",
    "zpos = np.zeros(10)\n",
    "   \n",
    "# x, y, zの増加量を決める\n",
    "dx = np.ones(10)\n",
    "dy = np.ones(10)\n",
    "dz = [i for i in range(10)]\n",
    "\n",
    "# 3次元のbarを作成してください\n",
    "ax.bar3d(xpos, ypos, zpos, dx, dy, dz)\n",
    "\n",
    "plt.show()\n"
   ]
  },
  {
   "cell_type": "markdown",
   "metadata": {},
   "source": [
    "***"
   ]
  },
  {
   "cell_type": "markdown",
   "metadata": {
    "courseId": 4040,
    "exerciseId": "BJbXU0vxC7M",
    "id": "code_session_name",
    "important": false,
    "isDL": false,
    "timeoutSecs": 10
   },
   "source": [
    "### 3.6.4 3D散布図を作成する"
   ]
  },
  {
   "cell_type": "markdown",
   "metadata": {
    "id": "description"
   },
   "source": [
    "互いに関係を持っている（又は持っていると思われる）3種類のデータを持っているとき、それらを3次元空間上にプロットすることで**傾向を視覚的に予想することができます。**\n",
    "\n",
    "`scatter3D()`にx軸、y軸、z軸データに対応するデータを渡すことで、 **3次元の散布図を作成することができます。** \n",
    "\n",
    "ただし、渡すデータは1次元でなければならないため、`np.ravel()`を用いてデータを変換しなければならない場合があります。"
   ]
  },
  {
   "cell_type": "markdown",
   "metadata": {},
   "source": [
    "#### 問題"
   ]
  },
  {
   "cell_type": "markdown",
   "metadata": {
    "id": "question"
   },
   "source": [
    "- `X`, `Y`, `Z`について、あらかじめ`np.ravel()`を用いてデータが一次元に変換され`x`, `y`, `z`に入っています。\n",
    "- 3D散布図を作成してください。x軸, y軸, z軸に対応するデータはそれぞれ`x`, `y`, `z`です。"
   ]
  },
  {
   "cell_type": "code",
   "execution_count": null,
   "metadata": {
    "id": "index"
   },
   "outputs": [],
   "source": [
    "import numpy as np\n",
    "import matplotlib.pyplot as plt\n",
    "# 3D描画を行うために必要なライブラリ\n",
    "from mpl_toolkits.mplot3d import Axes3D\n",
    "np.random.seed(0)\n",
    "%matplotlib inline\n",
    "\n",
    "X = np.random.randn(1000)\n",
    "Y = np.random.randn(1000)\n",
    "Z = np.random.randn(1000)\n",
    "\n",
    "# Figureオブジェクトを作成\n",
    "fig = plt.figure(figsize=(6, 6))\n",
    "# サブプロットaxを作成\n",
    "ax  = fig.add_subplot(1, 1, 1, projection=\"3d\")\n",
    "# X,Y,Zを1次元に変換します\n",
    "x = np.ravel(X)\n",
    "y = np.ravel(Y)\n",
    "z = np.ravel(Z)\n",
    "# 3D散布図を作成してください。\n",
    "\n",
    "\n",
    "plt.show()\n"
   ]
  },
  {
   "cell_type": "markdown",
   "metadata": {},
   "source": [
    "#### ヒント"
   ]
  },
  {
   "cell_type": "markdown",
   "metadata": {
    "id": "hint"
   },
   "source": [
    "- サブプロットaxを用いて、`ax.scatter3D()`にデータを渡すことで3D散布図が作成可能です"
   ]
  },
  {
   "cell_type": "markdown",
   "metadata": {},
   "source": [
    "#### 解答例"
   ]
  },
  {
   "cell_type": "code",
   "execution_count": null,
   "metadata": {
    "id": "answer",
    "scrolled": false
   },
   "outputs": [],
   "source": [
    "import numpy as np\n",
    "import matplotlib.pyplot as plt\n",
    "# 3D描画を行うために必要なライブラリ\n",
    "from mpl_toolkits.mplot3d import Axes3D\n",
    "np.random.seed(0)\n",
    "%matplotlib inline\n",
    "\n",
    "X = np.random.randn(1000)\n",
    "Y = np.random.randn(1000)\n",
    "Z = np.random.randn(1000)\n",
    "\n",
    "# Figureオブジェクトを作成\n",
    "fig = plt.figure(figsize=(6, 6))\n",
    "# サブプロットaxを作成\n",
    "ax  = fig.add_subplot(1, 1, 1, projection=\"3d\")\n",
    "# X,Y,Zを1次元に変換します\n",
    "x = np.ravel(X)\n",
    "y = np.ravel(Y)\n",
    "z = np.ravel(Z)\n",
    "# 3D散布図を作成してください。\n",
    "ax.scatter3D(x, y, z)\n",
    "\n",
    "plt.show()\n"
   ]
  },
  {
   "cell_type": "markdown",
   "metadata": {},
   "source": [
    "***"
   ]
  },
  {
   "cell_type": "markdown",
   "metadata": {
    "courseId": 4040,
    "exerciseId": "r1MmU0Pl0QG",
    "id": "code_session_name",
    "important": false,
    "isDL": false,
    "timeoutSecs": 10
   },
   "source": [
    "### 3.6.5 3Dグラフにカラーマップを適用する"
   ]
  },
  {
   "cell_type": "markdown",
   "metadata": {
    "id": "description"
   },
   "source": [
    "色が単調な3Dグラフを表示すると、凹凸が多い部分がみにくい場合があります。matplotlibには、**グラフの点がとる座標に応じて表示する色を変える機能**があります。`matplotlib`から`cm`を`import`し、プロットする際にデータとともに`cmap=cm.coolwarm`を引数として渡すことで、**zの値についてカラーマップを適用することができます。**"
   ]
  },
  {
   "cell_type": "markdown",
   "metadata": {},
   "source": [
    "#### 問題"
   ]
  },
  {
   "cell_type": "markdown",
   "metadata": {
    "id": "question"
   },
   "source": [
    "- **zの値** についてカラーマップを適用してください。"
   ]
  },
  {
   "cell_type": "code",
   "execution_count": null,
   "metadata": {
    "id": "index"
   },
   "outputs": [],
   "source": [
    "import numpy as np\n",
    "import matplotlib.pyplot as plt\n",
    "# カラーマップを表示するためのライブラリ\n",
    "from matplotlib import cm\n",
    "# 3D描画を行うために必要なライブラリ\n",
    "from mpl_toolkits.mplot3d import Axes3D\n",
    "%matplotlib inline\n",
    "\n",
    "t = np.linspace(-2*np.pi, 2*np.pi)\n",
    "X, Y = np.meshgrid(t, t)\n",
    "R = np.sqrt(X**2 + Y**2)\n",
    "Z = np.sin(R)\n",
    "\n",
    "# Figureオブジェクトを作成\n",
    "fig = plt.figure(figsize=(6, 6))\n",
    "# サブプロットaxを作成\n",
    "ax  = fig.add_subplot(1,1,1, projection=\"3d\")\n",
    "# 以下を一部変更して、zの値についてカラーマップを適用してください\n",
    "ax.plot_surface(X, Y, Z, cmap= )\n",
    "\n",
    "plt.show()\n"
   ]
  },
  {
   "cell_type": "markdown",
   "metadata": {},
   "source": [
    "#### ヒント"
   ]
  },
  {
   "cell_type": "markdown",
   "metadata": {
    "id": "hint"
   },
   "source": [
    "- プロット時に`cmap=cm.coolwarm`を引数として渡すことでカラーマップが適用可能です。"
   ]
  },
  {
   "cell_type": "markdown",
   "metadata": {},
   "source": [
    "#### 解答例"
   ]
  },
  {
   "cell_type": "code",
   "execution_count": null,
   "metadata": {
    "id": "answer",
    "scrolled": false
   },
   "outputs": [],
   "source": [
    "import numpy as np\n",
    "import matplotlib.pyplot as plt\n",
    "# カラーマップを表示するためのライブラリ\n",
    "from matplotlib import cm\n",
    "# 3D描画を行うために必要なライブラリ\n",
    "from mpl_toolkits.mplot3d import Axes3D\n",
    "%matplotlib inline\n",
    "\n",
    "t = np.linspace(-2*np.pi, 2*np.pi)\n",
    "X, Y = np.meshgrid(t, t)\n",
    "R = np.sqrt(X**2 + Y**2)\n",
    "Z = np.sin(R)\n",
    "\n",
    "# Figureオブジェクトを作成\n",
    "fig = plt.figure(figsize=(6, 6))\n",
    "# サブプロットaxを作成\n",
    "ax  = fig.add_subplot(1,1,1, projection=\"3d\")\n",
    "# 以下を一部変更して、zの値についてカラーマップを適用してください\n",
    "ax.plot_surface(X, Y, Z, cmap=cm.coolwarm)\n",
    "\n",
    "plt.show()\n"
   ]
  },
  {
   "cell_type": "markdown",
   "metadata": {},
   "source": [
    "***"
   ]
  },
  {
   "cell_type": "markdown",
   "metadata": {
    "id": "chapter_exam"
   },
   "source": [
    "## 添削問題"
   ]
  },
  {
   "cell_type": "markdown",
   "metadata": {
    "id": "description"
   },
   "source": [
    " 　この添削問題では、セトサ(setosa)、バーシクル(versicolor)、バージニカ(virginica)という3種類のあやめの4個の計測値(がく片長(Sepal Length)、がく片幅(Sepal Width)、花びら長(Petal Length)、花びら幅(Petal Width)と種(Species)からなる。)を用います。データを取得するには以下のコードが必要になります。\n",
    "```python\n",
    "import pandas as pd\n",
    "# url元からirisデータを取得\n",
    "df_iris = pd.read_csv(\"http://archive.ics.uci.edu/ml/machine-learning-databases/iris/iris.data\", header=None)\n",
    "df_iris.columns = [\"sepal length\", \"sepal width\", \"petal length\", \"petal width\", \"class\"]\n",
    "```\n",
    "　df_irisは150行5列からなるデータとなっており、0行目から50行目はセトサ、51行目から100行目まではバーシクル、101行目から150行目まではバージニカとなっています。"
   ]
  },
  {
   "cell_type": "markdown",
   "metadata": {},
   "source": [
    "#### 問題"
   ]
  },
  {
   "cell_type": "markdown",
   "metadata": {
    "id": "question"
   },
   "source": [
    "- irisデータを読み込み、変数x、yの値をそれぞれsepal length, sepal widthとしてプロットしてください。この作業を、setosa, versicolor, virginicaごとに行ってください。プロットの色はsetosaは赤、versicolorは青、virginicaは緑に対応させてください。それぞれへのラベルづけもしてください。図の体裁も指示にしたがって整えてください。"
   ]
  },
  {
   "cell_type": "code",
   "execution_count": null,
   "metadata": {
    "id": "index"
   },
   "outputs": [],
   "source": [
    "import matplotlib.pyplot as plt\n",
    "import pandas as pd\n",
    "# irisデータを取得\n",
    "df_iris = pd.read_csv(\"http://archive.ics.uci.edu/ml/machine-learning-databases/iris/iris.data\", header=None)\n",
    "df_iris.columns = [\"sepal length\", \"sepal width\", \"petal length\", \"petal width\", \"class\"]\n",
    "\n",
    "fig = plt.figure(figsize=(10,10))\n",
    "# setosa の sepal length - sepal width の関係図を描いてください。\n",
    "# ラベルをsetosa、色はredを指定してください。\n",
    "\n",
    "# versicolor の sepal length - sepal width の関係図を描いてください。\n",
    "# ラベルをversicolor、色はblueを指定してください。\n",
    "\n",
    "# virginica の sepal length - sepal width の関係図を描いてください。\n",
    "# ラベルをvirginica、色はgreenを指定してください。\n",
    "\n",
    "# x軸名を sepal length にしてください。\n",
    "\n",
    "# y軸名を sepal width にしてください。\n",
    "\n",
    "# 図の表示をする。\n",
    "plt.legend(loc=\"best\")\n",
    "plt.grid(True)\n",
    "plt.show()"
   ]
  },
  {
   "cell_type": "markdown",
   "metadata": {},
   "source": [
    "#### ヒント"
   ]
  },
  {
   "cell_type": "markdown",
   "metadata": {
    "id": "hint"
   },
   "source": [
    "- 例えば、setosaのsepal lengthとsepal widthのデータを抜き出す際は、それぞれdf_iris.iloc[:50,0]、df_iris.iloc[:50,1]のように書けば抜き出すことが可能です。\n"
   ]
  },
  {
   "cell_type": "markdown",
   "metadata": {},
   "source": [
    "#### 解答例"
   ]
  },
  {
   "cell_type": "code",
   "execution_count": null,
   "metadata": {
    "id": "answer"
   },
   "outputs": [],
   "source": [
    "import matplotlib.pyplot as plt\n",
    "import pandas as pd\n",
    "# irisデータを取得\n",
    "df_iris = pd.read_csv(\"http://archive.ics.uci.edu/ml/machine-learning-databases/iris/iris.data\", header=None)\n",
    "df_iris.columns = [\"sepal length\", \"sepal width\", \"petal length\", \"petal width\", \"class\"]\n",
    "\n",
    "fig = plt.figure(figsize=(10,10))\n",
    "# setosa の sepal length - sepal width の関係図を描いてください。\n",
    "# ラベルをsetosa、色はredを指定してください。\n",
    "plt.scatter(df_iris.iloc[:50,0], df_iris.iloc[:50,1], label=\"setosa\", color=\"r\")\n",
    "# versicolor の sepal length - sepal width の関係図を描いてください。\n",
    "# ラベルをversicolor、色はblueを指定してください。\n",
    "plt.scatter(df_iris.iloc[50:100,0], df_iris.iloc[50:100,1], label=\"versicolor\", color=\"b\")\n",
    "# virginica の sepal length - sepal width の関係図を描いてください。\n",
    "# ラベルをvirginica、色はgreenを指定してください。\n",
    "plt.scatter(df_iris.iloc[100:150,0], df_iris.iloc[100:150,1], label=\"virginica\", color=\"g\")\n",
    "# x軸名を sepal length にしてください。\n",
    "plt.xlabel(\"sepal length\")\n",
    "# y軸名を sepal width にしてください。\n",
    "plt.ylabel(\"sepal width\")\n",
    "# 図の表示をする。\n",
    "plt.legend(loc=\"best\")\n",
    "plt.grid(True)\n",
    "plt.show()"
   ]
  },
  {
   "cell_type": "markdown",
   "metadata": {
    "id": "commentary"
   },
   "source": []
  },
  {
   "cell_type": "markdown",
   "metadata": {},
   "source": [
    "***"
   ]
  }
 ],
 "metadata": {
  "celltoolbar": "Edit Metadata",
  "kernelspec": {
   "display_name": "Python 3",
   "language": "python",
   "name": "python3"
  },
  "language_info": {
   "codemirror_mode": {
    "name": "ipython",
    "version": 3
   },
   "file_extension": ".py",
   "mimetype": "text/x-python",
   "name": "python",
   "nbconvert_exporter": "python",
   "pygments_lexer": "ipython3",
   "version": "3.7.0"
  },
  "toc": {
   "base_numbering": 1,
   "nav_menu": {},
   "number_sections": true,
   "sideBar": true,
   "skip_h1_title": false,
   "title_cell": "Table of Contents",
   "title_sidebar": "Contents",
   "toc_cell": false,
   "toc_position": {
    "height": "calc(100% - 180px)",
    "left": "10px",
    "top": "150px",
    "width": "310.188px"
   },
   "toc_section_display": true,
   "toc_window_display": true
  }
 },
 "nbformat": 4,
 "nbformat_minor": 2
}
