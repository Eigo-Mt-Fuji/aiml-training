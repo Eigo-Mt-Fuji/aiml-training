{
 "cells": [
  {
   "cell_type": "markdown",
   "metadata": {
    "chapterId": "SyUAPlA7M",
    "id": "chapter_name"
   },
   "source": [
    "# データ可視化のための準備"
   ]
  },
  {
   "cell_type": "markdown",
   "metadata": {
    "id": "table"
   },
   "source": [
    "- **[1.1 様々なグラフ](#1.1-様々なグラフ)**\n",
    "    - **[1.1.1 折れ線グラフ](#1.1.1-折れ線グラフ)**\n",
    "    - **[1.1.2 棒グラフ](#1.1.2-棒グラフ)**\n",
    "    - **[1.1.3 ヒストグラム](#1.1.3-ヒストグラム)**\n",
    "    - **[1.1.4 散布図](#1.1.4-散布図)**\n",
    "    - **[1.1.5 円グラフ](#1.1.5-円グラフ)**\n",
    "<br><br>\n",
    "- **[1.2 乱数の生成](#1.2-乱数の生成)**\n",
    "    - **[1.2.1 シードを設定する](#1.2.1-シードを設定する)**\n",
    "    - **[1.2.2 正規分布に従う乱数を生成する](#1.2.2-正規分布に従う乱数を生成する)**\n",
    "    - **[1.2.3 二項分布に従う乱数を生成する](#1.2.3-二項分布に従う乱数を生成する)**\n",
    "    - **[1.2.4 リストからランダムに選択する](#1.2.4-リストからランダムに選択する)**\n",
    "<br><br>\n",
    "- **[1.3 時系列データ](#1.3-時系列データ)**\n",
    "    - **[1.3.1 `datetime`型](#1.3.1-datetime型)**\n",
    "    - **[1.3.2 `timedelta`型](#1.3.2-timedelta型)**\n",
    "    - **[1.3.3 `datetime`型と`timedelta`型の演算](#1.3.3-datetime型とtimedelta型の演算)**\n",
    "    - **[1.3.4 時を表す文字列から`datetime`オブジェクトを作成する](#1.3.4-時を表す文字列からdatetimeオブジェクトを作成する)**\n",
    "<br><br>\n",
    "- **[1.4 データの操作](#1.4-データの操作)**\n",
    "    - **[1.4.1 文字列型から数値型へ型変換する](#1.4.1-文字列型から数値型へ型変換する)**\n",
    "    - **[1.4.2 等間隔の数列を生成する1](#1.4.2-等間隔の数列を生成する1)**\n",
    "    - **[1.4.3 等間隔の数列を生成する2](#1.4.3-等間隔の数列を生成する2)**"
   ]
  },
  {
   "cell_type": "markdown",
   "metadata": {},
   "source": [
    "***"
   ]
  },
  {
   "cell_type": "markdown",
   "metadata": {
    "id": "section_name",
    "sectionId": "BJgIRweRmG"
   },
   "source": [
    "# 1.1 様々なグラフ"
   ]
  },
  {
   "cell_type": "markdown",
   "metadata": {
    "courseId": 4040,
    "exerciseId": "rybIAweCXf",
    "id": "quiz_session_name",
    "important": false,
    "isDL": false,
    "timeoutSecs": 10
   },
   "source": [
    "### 1.1.1 折れ線グラフ"
   ]
  },
  {
   "cell_type": "markdown",
   "metadata": {
    "id": "description"
   },
   "source": [
    "平面上にデータをプロットし、プロットされたデータ間を直線で結んだグラフを **<font color=#AA0000>折れ線グラフ</font>** と呼びます。\n",
    "\n",
    "折れ線グラフは、時間や位置（距離）によって推移する量を視覚化するのに適しています。例えば、横軸（x軸）に時間、縦軸にある商品の販売量を対応させることで販売量の推移を視覚化することができます。\n",
    "\n",
    "下の折れ線グラフは、1960年代のカナダのケベック州における、車の販売台数の変化を表しています。\n",
    "\n",
    "<img src=\"https://aidemyexstorage.blob.core.windows.net/aidemycontents/1526106025305842.png\" width=\"75%\" height=\"75%\">\n"
   ]
  },
  {
   "cell_type": "markdown",
   "metadata": {},
   "source": [
    "#### 問題"
   ]
  },
  {
   "cell_type": "markdown",
   "metadata": {
    "id": "question"
   },
   "source": [
    "- 次のデータのうち、 **折れ線** グラフを用いるとよいものはどれでしょう。"
   ]
  },
  {
   "cell_type": "markdown",
   "metadata": {
    "id": "choices"
   },
   "source": [
    "- 月別の売上高\n",
    "- 動物の人気投票の結果\n",
    "- あるテストの生徒全員分の点数\n",
    "- 上記のすべて"
   ]
  },
  {
   "cell_type": "markdown",
   "metadata": {},
   "source": [
    "#### ヒント"
   ]
  },
  {
   "cell_type": "markdown",
   "metadata": {
    "id": "hint"
   },
   "source": [
    "- 折れ線グラフを用いるとよいものとは、時間や距離など連続的な量とそれに依存するデータの組み合わせです。"
   ]
  },
  {
   "cell_type": "markdown",
   "metadata": {},
   "source": [
    "#### 解答"
   ]
  },
  {
   "cell_type": "markdown",
   "metadata": {
    "id": "answer"
   },
   "source": [
    "- 月別の売上高"
   ]
  },
  {
   "cell_type": "markdown",
   "metadata": {},
   "source": [
    "***"
   ]
  },
  {
   "cell_type": "markdown",
   "metadata": {
    "courseId": 4040,
    "exerciseId": "S1fLRDe0QM",
    "id": "quiz_session_name",
    "important": false,
    "isDL": false,
    "timeoutSecs": 10
   },
   "source": [
    "### 1.1.2 棒グラフ"
   ]
  },
  {
   "cell_type": "markdown",
   "metadata": {
    "id": "description"
   },
   "source": [
    "項目を横軸に並べ、その項目が取る値を図形の長さで縦に表したグラフを **<font color=#AA0000>棒グラフ</font>** と呼びます。\n",
    "\n",
    "棒グラフは、**2つ以上の項目がもつ値を比較する際に適している**視覚化の方法です。例えば、選挙における候補者別の得票数を視覚化したい場合は棒グラフを用いるとよいでしょう。\n",
    "\n",
    "あるデータの可視化に棒グラフが適しているとき、円グラフによる可視化も有効な場合があります。\n",
    "\n",
    "下の棒グラフは国別の人口の比較を表しています。\n",
    "\n",
    "<img src=\"https://aidemyexcontentspic.blob.core.windows.net/contents-pic/4040_data_vis/1_1_2.png\">"
   ]
  },
  {
   "cell_type": "markdown",
   "metadata": {},
   "source": [
    "#### 問題"
   ]
  },
  {
   "cell_type": "markdown",
   "metadata": {
    "id": "question"
   },
   "source": [
    "- 次のデータのうち、 **棒グラフ** を用いるとよいものはどれでしょう。"
   ]
  },
  {
   "cell_type": "markdown",
   "metadata": {
    "id": "choices"
   },
   "source": [
    "- 月別の売上高を表す時系列データ\n",
    "- 動物の人気投票の結果\n",
    "- マラソンコースのスタート地点からゴールまでの標高を表す高低差\n",
    "- 上記のすべて"
   ]
  },
  {
   "cell_type": "markdown",
   "metadata": {},
   "source": [
    "#### ヒント"
   ]
  },
  {
   "cell_type": "markdown",
   "metadata": {
    "id": "hint"
   },
   "source": [
    "- 棒グラフは、2つ以上の項目を比較する際に有効な視覚化の方法です。"
   ]
  },
  {
   "cell_type": "markdown",
   "metadata": {},
   "source": [
    "#### 解答"
   ]
  },
  {
   "cell_type": "markdown",
   "metadata": {
    "id": "answer"
   },
   "source": [
    "- 動物の人気投票の結果"
   ]
  },
  {
   "cell_type": "markdown",
   "metadata": {},
   "source": [
    "***"
   ]
  },
  {
   "cell_type": "markdown",
   "metadata": {
    "courseId": 4040,
    "exerciseId": "H1QLCveAmf",
    "id": "quiz_session_name",
    "important": false,
    "isDL": false,
    "timeoutSecs": 10
   },
   "source": [
    "### 1.1.3 ヒストグラム"
   ]
  },
  {
   "cell_type": "markdown",
   "metadata": {
    "id": "description"
   },
   "source": [
    "データを、階級ごとにわけてから階級内の度数（同じ階級に含まれるデータの個数）を高さで表したグラフを **<font color=#AA0000>ヒストグラム</font>** と呼びます。\n",
    "\n",
    "ヒストグラムは **<font color=#AA0000>度数分布図</font>** とも呼びます。ヒストグラムは、 **1次元のデータ（ある製品の長さを何回も測定したデータなど）の分布を可視化する際に最も適している** 可視化の方法です。\n",
    "\n",
    "下のヒストグラムは日本人男性(成人)の身長の分布を表しています。\n",
    "\n",
    "<img src=\"https://aidemyexcontentspic.blob.core.windows.net/contents-pic/4040_data_vis/1_1_3.png\">"
   ]
  },
  {
   "cell_type": "markdown",
   "metadata": {},
   "source": [
    "#### 問題"
   ]
  },
  {
   "cell_type": "markdown",
   "metadata": {
    "id": "question"
   },
   "source": [
    "- 次のデータのうち、**ヒストグラム** を用いるとよいものはどれでしょう。"
   ]
  },
  {
   "cell_type": "markdown",
   "metadata": {
    "id": "choices"
   },
   "source": [
    "-  動物の人気投票の結果\n",
    "- あるテストの生徒全員分の点数\n",
    "- マラソンコースのスタート地点からゴールまでの標高\n",
    "- 上記のすべて。"
   ]
  },
  {
   "cell_type": "markdown",
   "metadata": {},
   "source": [
    "#### ヒント"
   ]
  },
  {
   "cell_type": "markdown",
   "metadata": {
    "id": "hint"
   },
   "source": [
    "- ヒストグラムは、1次元のデータの分布を可視化する際に最も適しています。"
   ]
  },
  {
   "cell_type": "markdown",
   "metadata": {},
   "source": [
    "#### 解答"
   ]
  },
  {
   "cell_type": "markdown",
   "metadata": {
    "id": "answer"
   },
   "source": [
    "- あるテストの生徒全員分の点数"
   ]
  },
  {
   "cell_type": "markdown",
   "metadata": {},
   "source": [
    "***"
   ]
  },
  {
   "cell_type": "markdown",
   "metadata": {
    "courseId": 4040,
    "exerciseId": "Hk4UAwxRmM",
    "id": "quiz_session_name",
    "important": false,
    "isDL": false,
    "timeoutSecs": 10
   },
   "source": [
    "### 1.1.4 散布図"
   ]
  },
  {
   "cell_type": "markdown",
   "metadata": {
    "id": "description"
   },
   "source": [
    "あるデータの2つの項目を平面上のx軸とy軸にそれぞれ対応させ、点を打ったグラフを **<font color=#AA0000>散布図</font>** といいます。\n",
    "\n",
    "点の色や大きさを活用することで **合計3つの項目を平面上に可視化** することもできます。\n",
    "\n",
    "下の散布図は、アイリス(あやめ)の花びらの長さと幅の分布を表しています。\n",
    "\n",
    "<img src=\"https://aidemyexcontentspic.blob.core.windows.net/contents-pic/4040_data_vis/1_1_4.png\">"
   ]
  },
  {
   "cell_type": "markdown",
   "metadata": {},
   "source": [
    "#### 問題"
   ]
  },
  {
   "cell_type": "markdown",
   "metadata": {
    "id": "question"
   },
   "source": [
    "- 次のデータのうち、 **散布図** を用いるとよいものはどれでしょう。"
   ]
  },
  {
   "cell_type": "markdown",
   "metadata": {
    "id": "choices"
   },
   "source": [
    "- 走り幅跳びでの助走の距離と幅跳びの飛距離\n",
    "- 1日の脂質の平均摂取量と血圧の値\n",
    "- 最高気温とその日に売れたかき氷の数\n",
    "- 上記のすべて。"
   ]
  },
  {
   "cell_type": "markdown",
   "metadata": {},
   "source": [
    "#### ヒント"
   ]
  },
  {
   "cell_type": "markdown",
   "metadata": {
    "id": "hint"
   },
   "source": [
    "- あるデータの2つの項目を平面上のx軸とy軸にそれぞれ対応させ、点を打ったグラフを散布図といいます。"
   ]
  },
  {
   "cell_type": "markdown",
   "metadata": {},
   "source": [
    "#### 解答"
   ]
  },
  {
   "cell_type": "markdown",
   "metadata": {
    "id": "answer"
   },
   "source": [
    "- 上記のすべて。"
   ]
  },
  {
   "cell_type": "markdown",
   "metadata": {},
   "source": [
    "***"
   ]
  },
  {
   "cell_type": "markdown",
   "metadata": {
    "courseId": 4040,
    "exerciseId": "rkBLRDeC7f",
    "id": "quiz_session_name",
    "important": false,
    "isDL": false,
    "timeoutSecs": 10
   },
   "source": [
    "### 1.1.5 円グラフ"
   ]
  },
  {
   "cell_type": "markdown",
   "metadata": {
    "id": "description"
   },
   "source": [
    "円形の図形に、全体にしめる割合に応じて中心からの角度を割り当てるグラフを **<font color=#AA0000>円グラフ</font>** といいます。\n",
    "\n",
    "円グラフは、 **ある項目の割合を全体と比較したいときに最も適している** 可視化の方法です。あるデータの可視化に円グラフが適しているとき、棒グラフによる可視化も有効な場合があります。\n",
    "\n",
    "下のグラフは、好きな果物は何かというアンケート結果を示しています。\n",
    "\n",
    "<img src=\"https://aidemyexstorage.blob.core.windows.net/aidemycontents/1526106673655107.png\">"
   ]
  },
  {
   "cell_type": "markdown",
   "metadata": {},
   "source": [
    "#### 問題"
   ]
  },
  {
   "cell_type": "markdown",
   "metadata": {
    "id": "question"
   },
   "source": [
    "- 次のデータのうち、**円グラフ** を用いるとよいものはどれでしょう。"
   ]
  },
  {
   "cell_type": "markdown",
   "metadata": {
    "id": "choices"
   },
   "source": [
    "- ある製品の国別のシェア\n",
    "- ある製品の月別販売個数\n",
    "- 最高気温とその日に売れたかき氷の数\n",
    "- 上記のすべて"
   ]
  },
  {
   "cell_type": "markdown",
   "metadata": {},
   "source": [
    "#### ヒント"
   ]
  },
  {
   "cell_type": "markdown",
   "metadata": {
    "id": "hint"
   },
   "source": [
    "- 円グラフは、ある項目の割合を全体と比較したいときに最も適している可視化の方法です。"
   ]
  },
  {
   "cell_type": "markdown",
   "metadata": {},
   "source": [
    "#### 解答"
   ]
  },
  {
   "cell_type": "markdown",
   "metadata": {
    "id": "answer"
   },
   "source": [
    "- ある製品の国別のシェア"
   ]
  },
  {
   "cell_type": "markdown",
   "metadata": {},
   "source": [
    "***"
   ]
  },
  {
   "cell_type": "markdown",
   "metadata": {
    "id": "section_name",
    "sectionId": "HJIL0Dl07G"
   },
   "source": [
    "## 1.2 乱数の生成"
   ]
  },
  {
   "cell_type": "markdown",
   "metadata": {
    "courseId": 4040,
    "exerciseId": "SyvLRwx0mz",
    "id": "code_session_name",
    "important": false,
    "isDL": false,
    "timeoutSecs": 10
   },
   "source": [
    "### 1.2.1 シードを設定する"
   ]
  },
  {
   "cell_type": "markdown",
   "metadata": {
    "id": "description"
   },
   "source": [
    "このセクションでは様々な種類の乱数の生成方法を学びます。コンピュータは「シード」というものを元に乱数を生成します。\n",
    "\n",
    " **<font color=#AA0000>シード</font>** とは乱数生成の基となる初期値です。シードの値を固定することでつねに **同じ乱数列** を生成することができます。同じ乱数列を使用することによって、同じ条件であれば乱数を用いていても同様の計算結果を再現できるようになります。 \n",
    " `numpy.random.seed()`の () 内の値を同じ値にすることで、同じ乱数を毎回生成し、再現性が必要な出力をする際に利用されます。\n",
    "\n",
    "シードを設定しない場合、コンピュータの時刻を初期値として使用するため実行ごとに異なる乱数が出力されます。\n",
    "\n",
    "`numpy.random.seed()` にシード(整数)を渡すことで数値を設定することができます。"
   ]
  },
  {
   "cell_type": "markdown",
   "metadata": {},
   "source": [
    "#### 実行"
   ]
  },
  {
   "cell_type": "markdown",
   "metadata": {
    "id": "question"
   },
   "source": [
    "- **シードを設定する/しないことの変化** を確認してください\n",
    "- 次のコードを実行して結果を出力してください"
   ]
  },
  {
   "cell_type": "code",
   "execution_count": null,
   "metadata": {
    "collapsed": true,
    "id": "index"
   },
   "outputs": [],
   "source": [
    "import numpy as np\n",
    "\n",
    "# 初期化せず適当な乱数が一致するかを確認\n",
    "# X,Yにそれぞれ5つの乱数を格納\n",
    "X = np.random.randn(5)\n",
    "Y = np.random.randn(5)\n",
    "# X,Yの値を出力する\n",
    "print(\"シードを設定しない場合\")\n",
    "print(\"X:\",X)\n",
    "print(\"Y:\",Y)\n",
    "\n",
    "# シードを設定してください\n",
    "np.random.seed(0)\n",
    "# 乱数列を変数に代入\n",
    "x = np.random.randn(5)\n",
    "# 同じシードを与えて初期化してください\n",
    "np.random.seed(0)\n",
    "# 再び乱数列を作り別の変数に代入\n",
    "y = np.random.randn(5)\n",
    "# x,yの値を出力し、一致するか確認する\n",
    "print(\"シードを設定した場合\")\n",
    "print(\"x:\",x)\n",
    "print(\"y:\",y)\n",
    "# 何も書き込まずに出力してください\n"
   ]
  },
  {
   "cell_type": "markdown",
   "metadata": {},
   "source": [
    "#### ヒント"
   ]
  },
  {
   "cell_type": "markdown",
   "metadata": {
    "id": "hint"
   },
   "source": [
    "- `np.random.seed()`にシード(整数)を渡すことで数値を設定することができます。"
   ]
  },
  {
   "cell_type": "markdown",
   "metadata": {},
   "source": [
    "#### 解答例"
   ]
  },
  {
   "cell_type": "code",
   "execution_count": null,
   "metadata": {
    "collapsed": true,
    "id": "answer",
    "scrolled": false
   },
   "outputs": [],
   "source": [
    "import numpy as np\n",
    "\n",
    "# 初期化せず適当な乱数が一致するかを確認\n",
    "# X,Yにそれぞれ5つの乱数を格納\n",
    "X = np.random.randn(5)\n",
    "Y = np.random.randn(5)\n",
    "# X,Yの値を出力する\n",
    "print(\"シードを設定しない場合\")\n",
    "print(\"X:\",X)\n",
    "print(\"Y:\",Y)\n",
    "\n",
    "# シードを設定してください\n",
    "np.random.seed(0)\n",
    "# 乱数列を変数に代入\n",
    "x = np.random.randn(5)\n",
    "# 同じシードを与えて初期化してください\n",
    "np.random.seed(0)\n",
    "# 再び乱数列を作り別の変数に代入\n",
    "y = np.random.randn(5)\n",
    "# x,yの値を出力し、一致するか確認する\n",
    "print(\"シードを設定した場合\")\n",
    "print(\"x:\",x)\n",
    "print(\"y:\",y)\n",
    "# 何も書き込まずに出力してください\n"
   ]
  },
  {
   "cell_type": "markdown",
   "metadata": {},
   "source": [
    "***"
   ]
  },
  {
   "cell_type": "markdown",
   "metadata": {
    "courseId": 4040,
    "exerciseId": "r1OL0DeR7M",
    "id": "code_session_name",
    "important": false,
    "isDL": false,
    "timeoutSecs": 10
   },
   "source": [
    "### 1.2.2 正規分布に従う乱数を生成する"
   ]
  },
  {
   "cell_type": "markdown",
   "metadata": {
    "id": "description"
   },
   "source": [
    "`numpy.random.randn()`で生成した数値をプロットしたヒストグラムは **<font color=#AA0000>正規分布</font>** と呼ばれる式のグラフに近い形をしています。\n",
    "\n",
    "`numpy.random.randn()`に整数を渡すと、 **<font color=#AA0000>正規分布</font>** に従う乱数を渡した値の数だけ返します。"
   ]
  },
  {
   "cell_type": "markdown",
   "metadata": {},
   "source": [
    "#### 問題"
   ]
  },
  {
   "cell_type": "markdown",
   "metadata": {
    "id": "question"
   },
   "source": [
    "- **シードの値を0に設定** してください。\n",
    "- **正規分布に従う乱数を10000個生成** し、 **変数x** に代入してください。"
   ]
  },
  {
   "cell_type": "code",
   "execution_count": null,
   "metadata": {
    "collapsed": true,
    "id": "index"
   },
   "outputs": [],
   "source": [
    "import numpy as np\n",
    "import matplotlib.pyplot as plt\n",
    "%matplotlib inline\n",
    "\n",
    "# シードの値を0に設定してください\n",
    "\n",
    "# 正規分布に従う乱数を10000個生成し、xに代入してください\n",
    "x = \n",
    "\n",
    "# 可視化\n",
    "plt.hist(x, bins='auto')\n",
    "plt.show()\n"
   ]
  },
  {
   "cell_type": "markdown",
   "metadata": {},
   "source": [
    "#### ヒント"
   ]
  },
  {
   "cell_type": "markdown",
   "metadata": {
    "id": "hint"
   },
   "source": [
    "- `np.random.randn()`に整数を渡すと、正規分布に従う乱数を渡した値の数だけ返します。"
   ]
  },
  {
   "cell_type": "markdown",
   "metadata": {},
   "source": [
    "#### 解答例"
   ]
  },
  {
   "cell_type": "code",
   "execution_count": null,
   "metadata": {
    "collapsed": true,
    "id": "answer",
    "scrolled": true
   },
   "outputs": [],
   "source": [
    "import numpy as np\n",
    "import matplotlib.pyplot as plt\n",
    "%matplotlib inline\n",
    "\n",
    "# シードの値を0に設定してください\n",
    "np.random.seed(0)\n",
    "# 正規分布に従う乱数を10000個生成し、xに代入してください\n",
    "x = np.random.randn(10000)\n",
    "\n",
    "# 可視化\n",
    "plt.hist(x, bins='auto')\n",
    "plt.show()\n"
   ]
  },
  {
   "cell_type": "markdown",
   "metadata": {},
   "source": [
    "***"
   ]
  },
  {
   "cell_type": "markdown",
   "metadata": {
    "courseId": 4040,
    "exerciseId": "rkt8ADxRmz",
    "id": "code_session_name",
    "important": false,
    "isDL": false,
    "timeoutSecs": 10
   },
   "source": [
    "### 1.2.3 二項分布に従う乱数を生成する"
   ]
  },
  {
   "cell_type": "markdown",
   "metadata": {
    "id": "description"
   },
   "source": [
    "`numpy.random.binomial()`はある試行が成功であるか失敗であるかのいずれかを返します。例えば、コインを投げた時は必ず表か裏しか出ません。\n",
    "\n",
    "そして、失敗も成功も確率は0.5です。`numpy.random.binomial()`に整数`n`と0以上1以下の実数`p`を渡すと、渡した整数`n`の回数だけ成功率`p`の試行を行い、成功する回数を返します。第3引数に`size=整数値`を渡すと、`n`回試行したときの成功数を指定した整数値分だけ返します。\n",
    "\n",
    "例えば、100回コインを投げたときの、表がでる回数を出力したい時は\n",
    "```python\n",
    "numpy.random.binomial(100,0.5)\n",
    "```\n",
    "とします"
   ]
  },
  {
   "cell_type": "markdown",
   "metadata": {},
   "source": [
    "#### 問題"
   ]
  },
  {
   "cell_type": "markdown",
   "metadata": {
    "id": "question"
   },
   "source": [
    "- 0.5の確率で成功する試行を100回行なったときの成功数を10000回分求めて **変数numsに代入** してください。\n",
    "- **nums** の成功数から、成功率の平均を出力してください。"
   ]
  },
  {
   "cell_type": "code",
   "execution_count": null,
   "metadata": {
    "collapsed": true,
    "id": "index"
   },
   "outputs": [],
   "source": [
    "import numpy as np\n",
    "\n",
    "# シードを設定\n",
    "np.random.seed(0)\n",
    "# 0.5の確率で成功する試行を100回行なったときの成功数を10000回分求めて変数numsに代入してください\n",
    "nums = \n",
    "\n",
    "# 成功率の平均を出力してください\n",
    "print(nums.mean()/100)\n"
   ]
  },
  {
   "cell_type": "markdown",
   "metadata": {},
   "source": [
    "#### ヒント"
   ]
  },
  {
   "cell_type": "markdown",
   "metadata": {
    "id": "hint"
   },
   "source": [
    "- `np.random.binomial()`に整数を渡すと、正規分布に従う乱数を渡した値の数だけ返します。\n",
    "- `size=整数値`を渡すと、`n`回試行したときの成功数を指定した整数値分だけ返します。"
   ]
  },
  {
   "cell_type": "markdown",
   "metadata": {},
   "source": [
    "#### 解答例"
   ]
  },
  {
   "cell_type": "code",
   "execution_count": null,
   "metadata": {
    "collapsed": true,
    "id": "answer",
    "scrolled": true
   },
   "outputs": [],
   "source": [
    "import numpy as np\n",
    "\n",
    "# シードを設定\n",
    "np.random.seed(0)\n",
    "# 0.5の確率で成功する試行を100回行なったときの成功数を10000回分求めて変数numsに代入してください\n",
    "nums = np.random.binomial(100, 0.5, size=10000)\n",
    "\n",
    "# 成功率の平均を出力してください\n",
    "print(nums.mean()/100)\n"
   ]
  },
  {
   "cell_type": "markdown",
   "metadata": {},
   "source": [
    "***"
   ]
  },
  {
   "cell_type": "markdown",
   "metadata": {
    "courseId": 4040,
    "exerciseId": "HJ5I0ve0mf",
    "id": "code_session_name",
    "important": false,
    "isDL": false,
    "timeoutSecs": 10
   },
   "source": [
    "### 1.2.4 リストからランダムに選択する"
   ]
  },
  {
   "cell_type": "markdown",
   "metadata": {
    "id": "description"
   },
   "source": [
    "以下のようにして`numpy.random.choice()`にリスト型のデータ`x`と整数値`n`を渡すと、**渡したリスト型のデータの中からランダムに選んだ結果を渡した整数値の数(n)**だけ返します。\n",
    "\n",
    "```python\n",
    "numpy.random.choice(x, n)\n",
    "```"
   ]
  },
  {
   "cell_type": "markdown",
   "metadata": {},
   "source": [
    "#### 問題"
   ]
  },
  {
   "cell_type": "markdown",
   "metadata": {
    "id": "question"
   },
   "source": [
    "- **リストx** の中からランダムに5個選んだ結果を **変数yに代入** してください。"
   ]
  },
  {
   "cell_type": "code",
   "execution_count": null,
   "metadata": {
    "collapsed": true,
    "id": "index"
   },
   "outputs": [],
   "source": [
    "import numpy as np\n",
    "\n",
    "x = ['Apple', 'Orange', 'Banana', 'Pineapple', 'Kiwifruit', 'Strawberry']\n",
    "\n",
    "# シードを設定\n",
    "np.random.seed(0)\n",
    "# xの中からランダムに5個選んでyに代入してください\n",
    "y = \n",
    "\n",
    "print(y)\n"
   ]
  },
  {
   "cell_type": "markdown",
   "metadata": {},
   "source": [
    "#### ヒント"
   ]
  },
  {
   "cell_type": "markdown",
   "metadata": {
    "id": "hint"
   },
   "source": [
    "- `np.random.choice()`にリスト型のデータと整数値を渡すと、渡したリスト型のデータの中から**ランダムに選んだ結果を渡した整数値の数だけ**返します。"
   ]
  },
  {
   "cell_type": "markdown",
   "metadata": {},
   "source": [
    "#### 解答例"
   ]
  },
  {
   "cell_type": "code",
   "execution_count": null,
   "metadata": {
    "collapsed": true,
    "id": "answer",
    "scrolled": false
   },
   "outputs": [],
   "source": [
    "import numpy as np\n",
    "\n",
    "x = ['Apple', 'Orange', 'Banana', 'Pineapple', 'Kiwifruit', 'Strawberry']\n",
    "\n",
    "# シードを設定\n",
    "np.random.seed(0)\n",
    "# xの中からランダムに5個選んでyに代入してください\n",
    "y = np.random.choice(x, 5)\n",
    "\n",
    "print(y)\n"
   ]
  },
  {
   "cell_type": "markdown",
   "metadata": {},
   "source": [
    "***"
   ]
  },
  {
   "cell_type": "markdown",
   "metadata": {
    "id": "section_name",
    "sectionId": "SyiL0wxC7G"
   },
   "source": [
    "## 1.3 時系列データ"
   ]
  },
  {
   "cell_type": "markdown",
   "metadata": {
    "courseId": 4040,
    "exerciseId": "HkhI0vxCmz",
    "id": "code_session_name",
    "important": false,
    "isDL": false,
    "timeoutSecs": 10
   },
   "source": [
    "### 1.3.1 datetime型"
   ]
  },
  {
   "cell_type": "markdown",
   "metadata": {
    "id": "description"
   },
   "source": [
    "時系列データを扱う際、**時を表す方法が必要**です。Pythonには日付や時刻を扱うための`datetime`というデータ型が用意されています。`datetime.datetime(年, 月, 日, 時, 分, 秒, ミリ秒)`を指定すると、指定したデータを持つ`datetime`オブジェクトを返します。順番に値を渡さなくても、`day = 日`などと指定することで年や月を指定しないで済みます。"
   ]
  },
  {
   "cell_type": "markdown",
   "metadata": {},
   "source": [
    "#### 問題"
   ]
  },
  {
   "cell_type": "markdown",
   "metadata": {
    "id": "question"
   },
   "source": [
    "- 1992年10月22日を表す`datetime`オブジェクトを作成し、 **xに代入** してください。"
   ]
  },
  {
   "cell_type": "code",
   "execution_count": null,
   "metadata": {
    "collapsed": true,
    "id": "index"
   },
   "outputs": [],
   "source": [
    "import datetime as dt\n",
    "\n",
    "# 1992年10月22日を表すdatetimeオブジェクトを作成してxに代入してください\n",
    "x = \n",
    "\n",
    "# 出力\n",
    "print(x)\n"
   ]
  },
  {
   "cell_type": "markdown",
   "metadata": {},
   "source": [
    "#### ヒント"
   ]
  },
  {
   "cell_type": "markdown",
   "metadata": {
    "id": "hint"
   },
   "source": [
    "- `dt.datetime( 年, 月, 日)`とすることで指定の日を表す`datetime`オブジェクトを作ることができます。"
   ]
  },
  {
   "cell_type": "markdown",
   "metadata": {},
   "source": [
    "#### 解答例"
   ]
  },
  {
   "cell_type": "code",
   "execution_count": null,
   "metadata": {
    "collapsed": true,
    "id": "answer",
    "scrolled": true
   },
   "outputs": [],
   "source": [
    "import datetime as dt\n",
    "\n",
    "# 1992年10月22日を表すdatetimeオブジェクトを作成してxに代入してください\n",
    "x = dt.datetime(1992, 10, 22)\n",
    "\n",
    "# 出力\n",
    "print(x)\n"
   ]
  },
  {
   "cell_type": "markdown",
   "metadata": {},
   "source": [
    "***"
   ]
  },
  {
   "cell_type": "markdown",
   "metadata": {
    "courseId": 4040,
    "exerciseId": "H1TIAPxAXf",
    "id": "code_session_name",
    "important": false,
    "isDL": false,
    "timeoutSecs": 10
   },
   "source": [
    "### 1.3.2 timedelta型"
   ]
  },
  {
   "cell_type": "markdown",
   "metadata": {
    "id": "description"
   },
   "source": [
    "`datetime.timedelta`型は時間の長さを表すデータ型です。`datetime.timedelta(日, 秒)`の順で指定することで指定した時間を表す`timedelta`オブジェクトを返します。`hours=4`, `minutes=10`などのように指定することで時間や分単位の指定ができます。"
   ]
  },
  {
   "cell_type": "markdown",
   "metadata": {},
   "source": [
    "#### 問題"
   ]
  },
  {
   "cell_type": "markdown",
   "metadata": {
    "id": "question"
   },
   "source": [
    "- 1時間半を表す`timedelta`オブジェクトを作成し、 **xに代入** してください。"
   ]
  },
  {
   "cell_type": "code",
   "execution_count": null,
   "metadata": {
    "collapsed": true,
    "id": "index"
   },
   "outputs": [],
   "source": [
    "import datetime as dt\n",
    "\n",
    "# 1時間半を表すtimedeltaオブジェクトを作成し、xに代入してください。\n",
    "x = \n",
    "\n",
    "# 出力\n",
    "print(x)\n"
   ]
  },
  {
   "cell_type": "markdown",
   "metadata": {},
   "source": [
    "#### ヒント"
   ]
  },
  {
   "cell_type": "markdown",
   "metadata": {
    "id": "hint"
   },
   "source": [
    "- `dt.timedelta(日, 秒)`の順で指定することで指定した時間を表す`timedelta`オブジェクトを返します。`hours=4`, `minutes=10`などのように指定することで時間や分単位の指定ができます。"
   ]
  },
  {
   "cell_type": "markdown",
   "metadata": {},
   "source": [
    "#### 解答例"
   ]
  },
  {
   "cell_type": "code",
   "execution_count": null,
   "metadata": {
    "collapsed": true,
    "id": "answer"
   },
   "outputs": [],
   "source": [
    "import datetime as dt\n",
    "\n",
    "# 1時間半を表すtimedeltaオブジェクトを作成し、xに代入してください。\n",
    "x = dt.timedelta(hours=1, minutes=30)\n",
    "\n",
    "# 出力\n",
    "print(x)"
   ]
  },
  {
   "cell_type": "markdown",
   "metadata": {},
   "source": [
    "***"
   ]
  },
  {
   "cell_type": "markdown",
   "metadata": {
    "courseId": 4040,
    "exerciseId": "ryCLAPeAXM",
    "id": "code_session_name",
    "important": false,
    "isDL": false,
    "timeoutSecs": 10
   },
   "source": [
    "### 1.3.3 datetime型とtimedelta型の演算"
   ]
  },
  {
   "cell_type": "markdown",
   "metadata": {
    "id": "description"
   },
   "source": [
    "`datetime`オブジェクトと`timedelta`オブジェクト同士を足し引きすることができます。`timedelta`型は整数倍したり、`timedelta`型同士で演算することもできます。"
   ]
  },
  {
   "cell_type": "markdown",
   "metadata": {},
   "source": [
    "#### 問題"
   ]
  },
  {
   "cell_type": "markdown",
   "metadata": {
    "id": "question"
   },
   "source": [
    "- 1992年10月22日を表す`datetime`オブジェクトを作成し、 **xに代入** してください。\n",
    "- **x** から1日後を表す`datetime`オブジェクトを **yに代入** してください。"
   ]
  },
  {
   "cell_type": "code",
   "execution_count": null,
   "metadata": {
    "collapsed": true,
    "id": "index"
   },
   "outputs": [],
   "source": [
    "import datetime as dt\n",
    "\n",
    "\n",
    "# 1992年10月22日を表すdatetimeオブジェクトを作成してxに代入してください\n",
    "x = \n",
    "\n",
    "# xから1日後を表すdatetimeオブジェクトをyに代入してください\n",
    "y = \n",
    "\n",
    "# 出力\n",
    "print(y)\n"
   ]
  },
  {
   "cell_type": "markdown",
   "metadata": {},
   "source": [
    "#### ヒント"
   ]
  },
  {
   "cell_type": "markdown",
   "metadata": {
    "id": "hint"
   },
   "source": [
    "- `datetime`オブジェクトと`timedelta`オブジェクト同士を足し引きすることができます。\n",
    "- `dt.timedelta(1)` によって一日分の`timedelta`オブジェクトを作成できます。"
   ]
  },
  {
   "cell_type": "markdown",
   "metadata": {},
   "source": [
    "#### 解答例"
   ]
  },
  {
   "cell_type": "code",
   "execution_count": null,
   "metadata": {
    "collapsed": true,
    "id": "answer",
    "scrolled": false
   },
   "outputs": [],
   "source": [
    "import datetime as dt\n",
    "\n",
    "\n",
    "# 1992年10月22日を表すdatetimeオブジェクトを作成してxに代入してください\n",
    "x = dt.datetime(1992, 10, 22)\n",
    "\n",
    "# xから1日後を表すdatetimeオブジェクトをyに代入してください\n",
    "y = x + dt.timedelta(1)\n",
    "\n",
    "# 出力\n",
    "print(y)\n"
   ]
  },
  {
   "cell_type": "markdown",
   "metadata": {},
   "source": [
    "***"
   ]
  },
  {
   "cell_type": "markdown",
   "metadata": {
    "courseId": 4040,
    "exerciseId": "rkkeLCPx07f",
    "id": "code_session_name",
    "important": false,
    "isDL": false,
    "timeoutSecs": 10
   },
   "source": [
    "### 1.3.4 時を表す文字列からdatetimeオブジェクトを作成する"
   ]
  },
  {
   "cell_type": "markdown",
   "metadata": {
    "id": "description"
   },
   "source": [
    "`datetime`を使うと、フォーマットを指定して文字列から`datetime`オブジェクトを生成することができます。例えば、文字列`s`が`\"年-月-日 時-分-秒\"`の形式の場合、`datetime.datetime.strptime(s, \"%Y-%m-%d %H-%M-%S\")`とすると`datetime`オブジェクトを生成して返します。"
   ]
  },
  {
   "cell_type": "markdown",
   "metadata": {},
   "source": [
    "#### 問題"
   ]
  },
  {
   "cell_type": "markdown",
   "metadata": {
    "id": "question"
   },
   "source": [
    "- 1992年10月22日を表す文字列を`\"年-月-日\"`の形式で **sに代入** してください。\n",
    "- **s** を変換して、1992年10月22日を表す`datetime`オブジェクトを **xに代入** してください。"
   ]
  },
  {
   "cell_type": "code",
   "execution_count": null,
   "metadata": {
    "collapsed": true,
    "id": "index"
   },
   "outputs": [],
   "source": [
    "import datetime as dt\n",
    "\n",
    "# sに1992年10月22日を表す文字列を\"年-月-日\"の形式でsに代入してください\n",
    "s = \n",
    "# sを変換して、1992年10月22日を表すdatetimeオブジェクトをxに代入してください\n",
    "x = \n",
    "\n",
    "# 出力\n",
    "print(x)\n"
   ]
  },
  {
   "cell_type": "markdown",
   "metadata": {},
   "source": [
    "#### ヒント"
   ]
  },
  {
   "cell_type": "markdown",
   "metadata": {
    "id": "hint"
   },
   "source": [
    "- 例えば、文字列`s`が`\"年-月-日 時-分-秒\"`の形式の場合、`dt.datetime.strptime(s, \"%Y-%m-%d %H-%H-%M-%S\")`とすると`datetime`オブジェクトを生成して返します。"
   ]
  },
  {
   "cell_type": "markdown",
   "metadata": {},
   "source": [
    "#### 解答例"
   ]
  },
  {
   "cell_type": "code",
   "execution_count": null,
   "metadata": {
    "collapsed": true,
    "id": "answer",
    "scrolled": false
   },
   "outputs": [],
   "source": [
    "import datetime as dt\n",
    "\n",
    "# sに1992年10月22日を表す文字列を\"年-月-日\"の形式でsに代入してください\n",
    "s = \"1992-10-22\"\n",
    "# sを変換して、1992年10月22日を表すdatetimeオブジェクトをxに代入してください\n",
    "x = dt.datetime.strptime(s, \"%Y-%m-%d\")\n",
    "\n",
    "# 出力\n",
    "print(x)\n"
   ]
  },
  {
   "cell_type": "markdown",
   "metadata": {},
   "source": [
    "***"
   ]
  },
  {
   "cell_type": "markdown",
   "metadata": {
    "id": "section_name",
    "sectionId": "r1gxUAwe07G"
   },
   "source": [
    "## 1.4 データの操作"
   ]
  },
  {
   "cell_type": "markdown",
   "metadata": {
    "courseId": 4040,
    "exerciseId": "SyZe80DlRmG",
    "id": "code_session_name",
    "important": false,
    "isDL": false,
    "timeoutSecs": 10
   },
   "source": [
    "### 1.4.1 文字列型から数値型へ型変換する"
   ]
  },
  {
   "cell_type": "markdown",
   "metadata": {
    "id": "description"
   },
   "source": [
    "このセクションでは、 **<font color=#AA0000>データの整形</font>** について学びます。複数のソースから得たデータを結合したり、データの利用方法について吟味するといったデータの整形の詳しい内容は後に「データクレンジング」で学びますので、ここでは基本的な内容を学びます。ファイルなどから読み取った数値を計算するためには、読み取ったデータの型が`int`型や`float`型でなければなりせん。数字のみの文字列を`int()`や`float()`に渡すとそれらを数値型に変換することができます。"
   ]
  },
  {
   "cell_type": "markdown",
   "metadata": {},
   "source": [
    "#### 問題"
   ]
  },
  {
   "cell_type": "markdown",
   "metadata": {
    "id": "question"
   },
   "source": [
    "- 数字の文字列が入っている**変数x,y** を `int()` を用いて変換し数値的な和を **zに代入** して出力してください。"
   ]
  },
  {
   "cell_type": "code",
   "execution_count": null,
   "metadata": {
    "collapsed": true,
    "id": "index"
   },
   "outputs": [],
   "source": [
    "# 文字列型を代入\n",
    "x = '64'\n",
    "y = '16'\n",
    "\n",
    "# x, yを int() を用いて変換し数値的な和をzに代入してください\n",
    "z = \n",
    "\n",
    "# zの値を出力\n",
    "print(z)\n"
   ]
  },
  {
   "cell_type": "markdown",
   "metadata": {},
   "source": [
    "#### ヒント"
   ]
  },
  {
   "cell_type": "markdown",
   "metadata": {
    "id": "hint"
   },
   "source": [
    "- 数字のみの文字列を`int()`や`float()`に渡すとそれらを数値型に変換することができます。"
   ]
  },
  {
   "cell_type": "markdown",
   "metadata": {},
   "source": [
    "#### 解答例"
   ]
  },
  {
   "cell_type": "code",
   "execution_count": null,
   "metadata": {
    "collapsed": true,
    "id": "answer"
   },
   "outputs": [],
   "source": [
    "# 文字列型を代入\n",
    "x = '64'\n",
    "y = '16'\n",
    "\n",
    "# x, yを int() を用いて変換し数値的な和をzに代入してください\n",
    "z = int(x) + int(y)\n",
    "\n",
    "# zの値を出力\n",
    "print(z)\n"
   ]
  },
  {
   "cell_type": "markdown",
   "metadata": {},
   "source": [
    "***"
   ]
  },
  {
   "cell_type": "markdown",
   "metadata": {
    "courseId": 4040,
    "exerciseId": "rkGe8RPe07z",
    "id": "code_session_name",
    "important": false,
    "isDL": false,
    "timeoutSecs": 10
   },
   "source": [
    "### 1.4.2 等間隔の数列を生成する1"
   ]
  },
  {
   "cell_type": "markdown",
   "metadata": {
    "id": "description"
   },
   "source": [
    "リストの要素に順番をつけたいときや偶数列(0, 2, 4, ...)がほしい時などは`numpy.arange()`を使うのが便利です。`numpy.arange(始まりの値, 終わりの値, 間隔の値)`とすると **始まりから終わりの直前までの数値を指定した間隔** で返します。\n",
    "\n",
    "例えば0から4までの偶数列が欲しいときは `np.arange(0, 5, 2)` などとします、終わりの値は **直前までの値** となるため`np.arange(0, 4, 2)` としてしまうと0から2までの偶数列になってしまうことに注意しましょう。\n"
   ]
  },
  {
   "cell_type": "markdown",
   "metadata": {},
   "source": [
    "#### 問題"
   ]
  },
  {
   "cell_type": "markdown",
   "metadata": {
    "id": "question"
   },
   "source": [
    "- `np.arange()` を用いて **xに0から10までの偶数列を代入** してください"
   ]
  },
  {
   "cell_type": "code",
   "execution_count": null,
   "metadata": {
    "collapsed": true,
    "id": "index"
   },
   "outputs": [],
   "source": [
    "import numpy as np\n",
    "\n",
    "# xに0から10までの偶数列を代入してください\n",
    "x = \n",
    "\n",
    "# 出力\n",
    "print(x)\n"
   ]
  },
  {
   "cell_type": "markdown",
   "metadata": {},
   "source": [
    "#### ヒント"
   ]
  },
  {
   "cell_type": "markdown",
   "metadata": {
    "id": "hint"
   },
   "source": [
    "- `np.arange()`に始まり、終わり、間隔の値を渡すと始まりから終わりの直前までの数値を指定した間隔で返します。\n",
    "- 終わりの直前までの数値を指定することに注意しましょう。"
   ]
  },
  {
   "cell_type": "markdown",
   "metadata": {},
   "source": [
    "#### 解答例"
   ]
  },
  {
   "cell_type": "code",
   "execution_count": null,
   "metadata": {
    "collapsed": true,
    "id": "answer"
   },
   "outputs": [],
   "source": [
    "import numpy as np\n",
    "\n",
    "# xに0から10までの偶数列を代入してください。終わりの値は12でも正解です。\n",
    "x = np.arange(0, 11, 2)\n",
    "\n",
    "# 出力\n",
    "print(x)\n"
   ]
  },
  {
   "cell_type": "markdown",
   "metadata": {},
   "source": [
    "***"
   ]
  },
  {
   "cell_type": "markdown",
   "metadata": {
    "courseId": 4040,
    "exerciseId": "BJmgUAvgRmf",
    "id": "code_session_name",
    "important": false,
    "isDL": false,
    "timeoutSecs": 10
   },
   "source": [
    "### 1.4.3 等間隔の数列を生成する2"
   ]
  },
  {
   "cell_type": "markdown",
   "metadata": {
    "id": "description"
   },
   "source": [
    "指定の範囲を指定した個数に分割したいときは、`numpy.linspace()`を使うのが便利です。\n",
    "\n",
    "`numpy.linspace()`に初め、終わり、分割したい個数の数値を渡すと、**指定した個数に分割する点**を返します。\n",
    "\n",
    "例えば、0から15の範囲を等間隔に分ける4点 `0,5,10,15` を出力させたい場合には `np.linspace( 0, 15, 4)` とします"
   ]
  },
  {
   "cell_type": "markdown",
   "metadata": {},
   "source": [
    "#### 問題"
   ]
  },
  {
   "cell_type": "code",
   "execution_count": null,
   "metadata": {
    "collapsed": true
   },
   "outputs": [],
   "source": [
    "np.linspace( 0, 15, 4)"
   ]
  },
  {
   "cell_type": "markdown",
   "metadata": {
    "id": "question"
   },
   "source": [
    "- `np.linspace()` を用いて **0から10まで** の範囲を等間隔にわける**5点** を **xに代入** してください"
   ]
  },
  {
   "cell_type": "code",
   "execution_count": null,
   "metadata": {
    "collapsed": true,
    "id": "index"
   },
   "outputs": [],
   "source": [
    "import numpy as np\n",
    "\n",
    "# 0から10までの範囲を等間隔にわける5点をxに代入してください\n",
    "x = \n",
    "\n",
    "# 出力\n",
    "print(x)\n"
   ]
  },
  {
   "cell_type": "markdown",
   "metadata": {},
   "source": [
    "#### ヒント"
   ]
  },
  {
   "cell_type": "markdown",
   "metadata": {
    "id": "hint"
   },
   "source": [
    "- `numpy.linspace()`に初め、終わり、分割したい個数の数値を順渡すと、指定した個数に分割する点を返します。"
   ]
  },
  {
   "cell_type": "markdown",
   "metadata": {},
   "source": [
    "#### 解答例"
   ]
  },
  {
   "cell_type": "code",
   "execution_count": null,
   "metadata": {
    "collapsed": true,
    "id": "answer",
    "scrolled": true
   },
   "outputs": [],
   "source": [
    "import numpy as np\n",
    "\n",
    "# 0から10までの範囲を等間隔にわける5点をxに代入してください\n",
    "x = np.linspace(0, 10, 5)\n",
    "\n",
    "# 出力\n",
    "print(x)\n"
   ]
  },
  {
   "cell_type": "markdown",
   "metadata": {},
   "source": [
    "***"
   ]
  },
  {
   "cell_type": "markdown",
   "metadata": {
    "id": "chapter_exam"
   },
   "source": [
    "## 添削問題"
   ]
  },
  {
   "cell_type": "markdown",
   "metadata": {
    "id": "description"
   },
   "source": [
    " 本チャプターで学んだことを参考にし、挑戦しましょう。"
   ]
  },
  {
   "cell_type": "markdown",
   "metadata": {},
   "source": [
    "#### 問題"
   ]
  },
  {
   "cell_type": "markdown",
   "metadata": {
    "id": "question"
   },
   "source": [
    "- 0から1の一様乱数、正規分布に従う乱数、二項分布に従う乱数をそれぞれ10000個生成し、ヒストグラムで形状を確認してみましょう。各ヒストグラムのbinsは50を指定してください。"
   ]
  },
  {
   "cell_type": "code",
   "execution_count": null,
   "metadata": {
    "collapsed": true,
    "id": "index"
   },
   "outputs": [],
   "source": [
    "import matplotlib.pyplot as plt\n",
    "import numpy as np\n",
    "\n",
    "np.random.seed(100)\n",
    "\n",
    "# 一様乱数を10000個生成して、random_number_1に代入してください。\n",
    "\n",
    "# 正規分布に従う乱数を10000個生成して、random_number_2に代入してください。\n",
    "\n",
    "# 二項分布に従う乱数を10000個生成して、random_number_3に代入してください。成功確率は0.5としてください。\n",
    "\n",
    "\n",
    "plt.figure(figsize=(5,5))\n",
    "# 一様乱数をヒストグラムで表示させてください。binsは50に指定してください。\n",
    "\n",
    "plt.title('uniform_distribution')\n",
    "plt.grid(True)\n",
    "plt.show()\n",
    "\n",
    "plt.figure(figsize=(5,5))\n",
    "# 正規分布に従う乱数をヒストグラムで表示します。\n",
    "plt.hist(random_number_1, bins=50)\n",
    "plt.title('normal_distribution')\n",
    "plt.grid(True)\n",
    "plt.show()\n",
    "\n",
    "plt.figure(figsize=(5,5))\n",
    "# 二項分布に従う乱数をヒストグラムで表示させてください。binsは50に指定してください。\n",
    "\n",
    "plt.title('binomial_distribution')\n",
    "plt.grid(True)\n",
    "plt.show()"
   ]
  },
  {
   "cell_type": "markdown",
   "metadata": {},
   "source": [
    "#### ヒント"
   ]
  },
  {
   "cell_type": "markdown",
   "metadata": {
    "id": "hint"
   },
   "source": [
    "- 一様乱数、正規分布に従う乱数、二項分布に従う乱数は、それぞれ、np.random.rand(100)、np.random.randn(100)、np.random.binomial(100)で生成することができます。"
   ]
  },
  {
   "cell_type": "markdown",
   "metadata": {},
   "source": [
    "#### 解答例"
   ]
  },
  {
   "cell_type": "code",
   "execution_count": null,
   "metadata": {
    "collapsed": true,
    "id": "answer"
   },
   "outputs": [],
   "source": [
    "import matplotlib.pyplot as plt\n",
    "import numpy as np\n",
    "\n",
    "np.random.seed(100)\n",
    "\n",
    "# 一様乱数を10000個生成してください。\n",
    "random_number_1 = np.random.rand(10000)\n",
    "# 正規分布に従う乱数を10000個生成してください。\n",
    "random_number_2 = np.random.randn(10000)\n",
    "# 二項分布に従う乱数を10000個生成してください。成功確率は0.5としてください。\n",
    "random_number_3 = np.random.binomial(100, 0.5, size=(10000))\n",
    "\n",
    "plt.figure(figsize=(5,5))\n",
    "# 一様乱数をヒストグラムで表示させてください。binsは50に指定してください。\n",
    "plt.hist(random_number_1, bins=50)\n",
    "plt.title('uniform_distribution')\n",
    "plt.grid(True)\n",
    "plt.show()\n",
    "\n",
    "plt.figure(figsize=(5,5))\n",
    "# 正規分布に従う乱数をヒストグラムで表示します。\n",
    "plt.hist(random_number_2, bins=50)\n",
    "plt.title('normal_distribution')\n",
    "plt.grid(True)\n",
    "plt.show()\n",
    "\n",
    "plt.figure(figsize=(5,5))\n",
    "# 二項分布に従う乱数をヒストグラムで表示させてください。binsは50に指定してください。\n",
    "plt.hist(random_number_3, bins=50)\n",
    "plt.title('binomial_distribution')\n",
    "plt.grid(True)\n",
    "plt.show()"
   ]
  },
  {
   "cell_type": "markdown",
   "metadata": {},
   "source": [
    "***"
   ]
  }
 ],
 "metadata": {
  "celltoolbar": "Edit Metadata",
  "kernelspec": {
   "display_name": "Python 3",
   "language": "python",
   "name": "python3"
  },
  "language_info": {
   "codemirror_mode": {
    "name": "ipython",
    "version": 3
   },
   "file_extension": ".py",
   "mimetype": "text/x-python",
   "name": "python",
   "nbconvert_exporter": "python",
   "pygments_lexer": "ipython3",
   "version": "3.6.4"
  },
  "toc": {
   "base_numbering": 1,
   "nav_menu": {},
   "number_sections": true,
   "sideBar": true,
   "skip_h1_title": false,
   "title_cell": "Table of Contents",
   "title_sidebar": "Contents",
   "toc_cell": false,
   "toc_position": {},
   "toc_section_display": true,
   "toc_window_display": false
  }
 },
 "nbformat": 4,
 "nbformat_minor": 2
}