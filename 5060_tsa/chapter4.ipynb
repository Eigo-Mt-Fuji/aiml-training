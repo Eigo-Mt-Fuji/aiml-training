{
 "cells": [
  {
   "cell_type": "markdown",
   "metadata": {
    "chapterId": "Bk0H_07WxWM",
    "id": "chapter_name"
   },
   "source": [
    "#  SARIMAモデルの構築"
   ]
  },
  {
   "cell_type": "markdown",
   "metadata": {
    "id": "table"
   },
   "source": [
    "- **[4.1 SARIMAモデルの構築(1)](#4.1-)**\n",
    "    - **[4.1.1 ARIMAモデルの復習](#4.1.1-)**\n",
    "    - **[4.1.2 sp,sd,sqとは](#4.1.2-)**\n",
    "    - **[4.1.3 パラメーターの決定](#4.1.3-)**\n",
    "    - **[4.1.4 自己相関係数・偏自己相関係数とその可視化](#4.1.4-)**\n",
    "    <br><br>\n",
    "- **[4.2 SARIMAモデルの構築(2)](#4.2-)**\n",
    "    - **[4.2.1 モデルの構築](#4.2.1-)**\n",
    "    - **[4.2.2 予測の実行と予測データの可視化](#4.2.2-)**\n",
    "    - **[4.2.3 実際データと予測データの比較](#4.2.3-)**\n",
    "<br><br>\n",
    "- **[4.3 添削問題](#4.3-添削問題)**"
   ]
  },
  {
   "cell_type": "markdown",
   "metadata": {},
   "source": [
    "***"
   ]
  },
  {
   "cell_type": "markdown",
   "metadata": {
    "id": "section_name",
    "sectionId": "r11Ud0mblWG"
   },
   "source": [
    "## 4.1 SARIMAモデルの構築（１）"
   ]
  },
  {
   "cell_type": "markdown",
   "metadata": {
    "courseId": 5060,
    "exerciseId": "BkIOndtlM",
    "id": "quiz_session_name",
    "important": false,
    "isDL": false,
    "timeoutSecs": 5
   },
   "source": [
    "### 4.1.1 ARIMAモデルの復習"
   ]
  },
  {
   "cell_type": "markdown",
   "metadata": {
    "id": "description"
   },
   "source": [
    "　前チャプターで説明したARIMAモデルについて、もう一度復習してみましょう。<br>\n",
    " ARIMAモデルは、以前の値に影響されるモデルであり、直前p個の値と相関をもつようなARモデル$AR(p)$と、以前の誤差に影響されるモデルで直前q個の値の影響を受けるようなMAモデル$MA(q)$を合成した$ARMA(p, q)$を、d時点前の階差系列に適応したものでした。 <br>\n",
    "そして、 **SARIMAモデル** とはARIMAモデルをさらに季節周期を持つ時系列データにも拡張できるようにしたモデルです。SARIMAモデルは`(p, d, q)`のパラメーターに加えて`(sp, sd, sq, s)`というパラメーターも持ちます。"
   ]
  },
  {
   "cell_type": "markdown",
   "metadata": {},
   "source": [
    "#### 問題"
   ]
  },
  {
   "cell_type": "markdown",
   "metadata": {
    "id": "question"
   },
   "source": [
    "- 次の[]に入る言葉を選んでください\n",
    "- `[]`とはARIMAモデルをさらに季節周期を持つ時系列データにも拡張できるようにしたモデルです。SARIMAモデルは`(p, d, q)`のパラメーターのほかに`(sp, sd, sq, s)`というパラメーターも持ちます。"
   ]
  },
  {
   "cell_type": "markdown",
   "metadata": {
    "id": "choices"
   },
   "source": [
    "- SARIMAモデル\n",
    "- ARMAモデル\n",
    "- KARIMAモデル\n",
    "- 上記のすべて"
   ]
  },
  {
   "cell_type": "markdown",
   "metadata": {},
   "source": [
    "#### ヒント"
   ]
  },
  {
   "cell_type": "markdown",
   "metadata": {
    "id": "hint"
   },
   "source": [
    "- SARIMAモデルとはARIMAモデルをさらに季節周期を持つ時系列データにも拡張できるようにしたモデルです。"
   ]
  },
  {
   "cell_type": "markdown",
   "metadata": {},
   "source": [
    "#### 解答"
   ]
  },
  {
   "cell_type": "markdown",
   "metadata": {
    "id": "answer"
   },
   "source": [
    "- SARIMAモデル"
   ]
  },
  {
   "cell_type": "markdown",
   "metadata": {},
   "source": [
    "***"
   ]
  },
  {
   "cell_type": "markdown",
   "metadata": {
    "courseId": 5060,
    "exerciseId": "H1eI_ndYlM",
    "id": "quiz_session_name",
    "important": true,
    "isDL": false,
    "timeoutSecs": 5
   },
   "source": [
    "### 4.1.2 sp,sd,sqとは"
   ]
  },
  {
   "cell_type": "markdown",
   "metadata": {
    "id": "description"
   },
   "source": [
    "$sp,sd,sq$ はそれぞれ **<font color=#AA0000>季節性自己相関</font>** 、 **<font color=#AA0000>季節性導出</font>** 、 **<font color=#AA0000>季節性移動平均</font>** といいます。\n",
    "\n",
    "ところで、$ARIMA(p, d, q)$ モデルの\n",
    "\n",
    "・ $p$ は **<font color=#AA0000>自己相関度</font>** といい、 **モデルが直前 $p$ 個の値を用いて予測されるのか** を\n",
    "\n",
    "・ $d$ は **<font color=#AA0000>誘導</font>** といい、 **時系列データを定常にするために $d$ 次の階差が必要だったこと** を\n",
    "\n",
    "・ $q$ は **<font color=#AA0000>移動平均</font>** といい、 **モデルが直前 $q$ 個の値に影響を受けること** を\n",
    "\n",
    "\n",
    "表しているのでした。\n",
    "\n",
    " $sp,sd,sq$ も基本的な意味は変わりません。しかし、 $sp,sd,sq$ の場合は、現在のデータはひとつ以上の季節期間を経た過去のデータに影響されます。\n",
    "\n",
    "例えば12ヶ月周期の季節変動を持つデータの場合、 $s$ のパラメーターは周期を表すため、 $s=12$ となります。\n",
    "\n",
    " $sq=1$ ならちょうど12ヶ月(1周期前)のデータ, $sq=2$ なら12ヶ月前のデータと24ヶ月前のデータの影響をモデルが受けることを表します。\n",
    "\n",
    "分かりにくければ単純に $q$ を $sq$ に置き換えてみてください。"
   ]
  },
  {
   "cell_type": "markdown",
   "metadata": {},
   "source": [
    "#### 問題"
   ]
  },
  {
   "cell_type": "markdown",
   "metadata": {
    "id": "question"
   },
   "source": [
    "- 次の[]を埋める言葉を選んでください\n",
    "-  $sq=1$ のときは[]のデータの影響を受けるモデルであることを表す。"
   ]
  },
  {
   "cell_type": "markdown",
   "metadata": {
    "id": "choices"
   },
   "source": [
    "- 8ヶ月\n",
    "- 12ヶ月\n",
    "- 16ヶ月\n",
    "- 20ヶ月"
   ]
  },
  {
   "cell_type": "markdown",
   "metadata": {},
   "source": [
    "#### ヒント"
   ]
  },
  {
   "cell_type": "markdown",
   "metadata": {
    "id": "hint"
   },
   "source": [
    "- $sp,sd,sq$ の場合は、現在のデータはひとつ以上の季節期間を経た過去のデータに影響されます。"
   ]
  },
  {
   "cell_type": "markdown",
   "metadata": {},
   "source": [
    "#### 解答"
   ]
  },
  {
   "cell_type": "markdown",
   "metadata": {
    "collapsed": true,
    "id": "answer"
   },
   "source": [
    "- 12ヶ月"
   ]
  },
  {
   "cell_type": "markdown",
   "metadata": {},
   "source": [
    "***"
   ]
  },
  {
   "cell_type": "markdown",
   "metadata": {
    "courseId": 5060,
    "exerciseId": "rk-Ud3dteM",
    "id": "code_session_name",
    "important": false,
    "isDL": false,
    "timeoutSecs": 8
   },
   "source": [
    "### 4.1.3 パラメーターの決定"
   ]
  },
  {
   "cell_type": "markdown",
   "metadata": {
    "id": "description"
   },
   "source": [
    "PythonにはSARIMAモデルのパラメーター、`(p, d, q)` `(sp, sd, sq, s)`を自動で最も適切にしてくれる機能はありません、そのため **情報量規準** (今回の場合は **BIC(ベイズ情報量基準)** )によってどの値が最も適切なのか調べるプログラムを書かなければなりません。\n",
    "\n",
    "情報規準量については今回は深く触れませんが、BICの場合は **この値が低ければ低いほどパラメーターの値は適切である** と理解しておいてください。\n",
    "<br>しかしながら、そのようなコードを書くということ自体は本テーマである時系列分析の趣旨と逸れてしまうため、今回はこちらでそのコードをご用意させていただきました。\n",
    "時系列データ:`DATA`, パラメータ`s(周期):s`を入力すると、最も良いパラメーターとそのBICを出力します。\n",
    "```python\n",
    "def selectparameter(DATA,s):\n",
    "    p = d = q = range(0, 1)\n",
    "    pdq = list(itertools.product(p, d, q))\n",
    "    seasonal_pdq = [(x[0], x[1], x[2], 12) for x in list(itertools.product(p, d, q))]\n",
    "    parameters = []\n",
    "    BICs = np.array([])\n",
    "    for param in pdq:\n",
    "        for param_seasonal in seasonal_pdq:\n",
    "            try:\n",
    "                mod = sm.tsa.statespace.SARIMAX(DATA,\n",
    "                                            order=param,\n",
    "                seasonal_order=param_seasonal)\n",
    "                results = mod.fit()\n",
    "                parameters.append([param, param_seasonal, results.bic])\n",
    "                BICs = np.append(y,results.bic)\n",
    "            except:\n",
    "                continue\n",
    "    return print(parameters[np.argmin(BICs)])\n",
    "\n",
    "```\n",
    "これを利用して解いて行きましょう。\n",
    "関数の内容を詳しく言うと各パラメーターがそれぞれ、0,1(今回は単純のためパラメーターの上限を1までとしました)の場合についてのSARIMAモデルのBICを計算し、最もBICが小さくなった場合を表示するようになっています。\n",
    "\n",
    "ただし、パラメーター $s$ に関しては事前に時系列データや次に説明する偏自己相関の可視化を行うことによって調べておきます。"
   ]
  },
  {
   "cell_type": "markdown",
   "metadata": {},
   "source": [
    "#### 問題"
   ]
  },
  {
   "cell_type": "markdown",
   "metadata": {
    "id": "question"
   },
   "source": [
    "- 次の最近1年分のスパークリングワインの売上データで最も良いパラメーターは何になるでしょうか、答えてください。(ただし季節変動の周期は12とします。)"
   ]
  },
  {
   "cell_type": "code",
   "execution_count": null,
   "metadata": {
    "code_folding": [],
    "id": "index"
   },
   "outputs": [],
   "source": [
    "import warnings\n",
    "import itertools\n",
    "import pandas as pd\n",
    "import numpy as np\n",
    "import statsmodels.api as sm\n",
    "\n",
    "# データの読み込みと整理\n",
    "sales_sparkring = pd.read_csv(filepath_or_buffer = \"https://aidemyexcontentsdata.blob.core.windows.net/data/5060_tsa/monthly-australian-wine-sales-th-sparkling.csv\")\n",
    "index = pd.date_range(\"1980-01-31\",\"1995-07-31\",freq=\"M\")\n",
    "sales_sparkring.index=index\n",
    "del sales_sparkring[\"Month\"]\n",
    "\n",
    "# 1年間分のデータにしています\n",
    "sales_sparkring = sales_sparkring[:12]\n",
    "\n",
    "# 関数の定義\n",
    "def selectparameter(DATA,s):\n",
    "    p = d = q = range(0, 2)\n",
    "    pdq = list(itertools.product(p, d, q))\n",
    "    seasonal_pdq = [(x[0], x[1], x[2], s) for x in list(itertools.product(p, d, q))]\n",
    "    parameters = []\n",
    "    BICs = np.array([])\n",
    "    for param in pdq:\n",
    "        for param_seasonal in seasonal_pdq:\n",
    "            try:\n",
    "                mod = sm.tsa.statespace.SARIMAX(DATA,\n",
    "                                            order=param,\n",
    "                                            seasonal_order=param_seasonal)\n",
    "                results = mod.fit()\n",
    "                parameters.append([param, param_seasonal, results.bic])\n",
    "                BICs = np.append(BICs,results.bic)\n",
    "            except:\n",
    "                continue\n",
    "    return parameters[np.argmin(BICs)]\n",
    "\n",
    "# 周期を埋めて最適なパラメーターを求めてください\n",
    "selectparameter(sales_sparkring,__)"
   ]
  },
  {
   "cell_type": "markdown",
   "metadata": {},
   "source": [
    "#### ヒント"
   ]
  },
  {
   "cell_type": "markdown",
   "metadata": {
    "id": "hint"
   },
   "source": [
    "- 季節変動の周期は12ですから、`s=12`となります\n"
   ]
  },
  {
   "cell_type": "markdown",
   "metadata": {},
   "source": [
    "#### 解答例"
   ]
  },
  {
   "cell_type": "code",
   "execution_count": null,
   "metadata": {
    "id": "answer"
   },
   "outputs": [],
   "source": [
    "import warnings\n",
    "import itertools\n",
    "import pandas as pd\n",
    "import numpy as np\n",
    "import statsmodels.api as sm\n",
    "\n",
    "# データの読み込みと整理\n",
    "sales_sparkring = pd.read_csv(filepath_or_buffer = \"https://aidemyexcontentsdata.blob.core.windows.net/data/5060_tsa/monthly-australian-wine-sales-th-sparkling.csv\")\n",
    "index = pd.date_range(\"1980-01-31\",\"1995-07-31\",freq=\"M\")\n",
    "sales_sparkring.index=index\n",
    "del sales_sparkring[\"Month\"]\n",
    "\n",
    "# 1年間分のデータにしています\n",
    "sales_sparkring = sales_sparkring[:12]\n",
    "\n",
    "# 関数の定義\n",
    "def selectparameter(DATA,s):\n",
    "    p = d = q = range(0, 2)\n",
    "    pdq = list(itertools.product(p, d, q))\n",
    "    seasonal_pdq = [(x[0], x[1], x[2], s) for x in list(itertools.product(p, d, q))]\n",
    "    parameters = []\n",
    "    BICs = np.array([])\n",
    "    for param in pdq:\n",
    "        for param_seasonal in seasonal_pdq:\n",
    "            try:\n",
    "                mod = sm.tsa.statespace.SARIMAX(DATA,\n",
    "                                            order=param,\n",
    "                                            seasonal_order=param_seasonal)\n",
    "                results = mod.fit()\n",
    "                parameters.append([param, param_seasonal, results.bic])\n",
    "                BICs = np.append(BICs,results.bic)\n",
    "            except:\n",
    "                continue\n",
    "    return parameters[np.argmin(BICs)]\n",
    "\n",
    "# 周期を埋めて最適なパラメーターを求めてください\n",
    "selectparameter(sales_sparkring,12)"
   ]
  },
  {
   "cell_type": "markdown",
   "metadata": {
    "courseId": 5060,
    "exerciseId": "HkM8u3OYgz",
    "id": "code_session_name",
    "important": false,
    "isDL": false,
    "timeoutSecs": 5
   },
   "source": [
    "### 4.1.4 自己相関係数・偏自己相関係数とその可視化"
   ]
  },
  {
   "cell_type": "markdown",
   "metadata": {
    "id": "description"
   },
   "source": [
    "自己相関とは自己の過去のデータとの相関のことでした。時系列データの分析にはもう一つ、 **<font color=#AA0000>偏自己相関</font>** という値が重要になります。\n",
    "\n",
    "k次自己相関といえば $y_t$ と $y_{t-k}$ の相関を表しますがk次偏自己相関というと $y_t$ と $y_{t-k}$ の間のデータ、すなわち $y_{t-1}$ から $y_{t-k+1}$ の影響を取り除いた相関になります。\n",
    "\n",
    "具体的に説明します。7日間差の自己相関係数を求めたとします。しかし、ある日のデータが前日のデータと相関があった場合、7日前→6日前→5日前......1日前→今日とデータを通して相関している可能性があります。この間の影響を取り除いて相関を求めたものが偏自己相関と呼ばれます。\n",
    "Pythonを用いて自己相関係数と偏自己相関係数を可視化してみましょう。\n",
    "一般的に月ごとのデータに季節性がある場合にはその周期は12になります。\n",
    "\n",
    "\n",
    "自己相関係数のグラフは<br>\n",
    "`sm.graphics.tsa.plot_acf(DATA)`\n",
    "\n",
    "偏自己相関のグラフは <br>\n",
    "`sm.graphics.tsa.plot_pacf(DATA)`\n",
    "\n",
    "で出力できます。"
   ]
  },
  {
   "cell_type": "markdown",
   "metadata": {},
   "source": [
    "#### 問題"
   ]
  },
  {
   "cell_type": "markdown",
   "metadata": {
    "id": "question"
   },
   "source": [
    "- 前チャプターのセクション1で整えたスパークリングワインの売上データの自己相関係数・偏自己相関係数を可視化してその季節変動の周期を調べてください。"
   ]
  },
  {
   "cell_type": "code",
   "execution_count": null,
   "metadata": {
    "id": "index",
    "scrolled": false
   },
   "outputs": [],
   "source": [
    "import numpy as np\n",
    "import pandas as pd\n",
    "import matplotlib.pyplot as plt\n",
    "import statsmodels.api as sm\n",
    "from pandas import datetime\n",
    "%matplotlib inline\n",
    "\n",
    "# データの読み込みと整理\n",
    "sales_sparkring = pd.read_csv(filepath_or_buffer = \"https://aidemyexcontentsdata.blob.core.windows.net/data/5060_tsa/monthly-australian-wine-sales-th-sparkling.csv\")\n",
    "index = pd.date_range(\"1980-01-31\", \"1995-07-31\", freq=\"M\")\n",
    "sales_sparkring.index=index\n",
    "del sales_sparkring[\"Month\"]\n",
    "# 自己相関・偏自己相関の可視化\n",
    "fig=plt.figure(figsize=(12, 8))\n",
    "# 自己相関係数のグラフを出力します\n",
    "ax1 = fig.add_subplot(211)\n",
    "fig = sm.graphics.tsa.plot_acf(sales_sparkring, lags=30, ax=ax1)\n",
    "# 偏自己相関係数のグラフを出力します\n",
    "ax2 = fig.add_subplot(212)\n",
    "fig = sm.graphics.tsa.plot_pacf(sales_sparkring, lags=30, ax=ax2)\n",
    "plt.show()\n",
    "# なにも記入せず実行してください"
   ]
  },
  {
   "cell_type": "markdown",
   "metadata": {},
   "source": [
    "#### ヒント"
   ]
  },
  {
   "cell_type": "markdown",
   "metadata": {
    "id": "hint"
   },
   "source": [
    "- 季節周期を持つデータは周期の部分で偏自己相関が高くなります。スパークリンクワインの売上データが月ごとであることも考慮しましょう。"
   ]
  },
  {
   "cell_type": "markdown",
   "metadata": {},
   "source": [
    "#### 解答例"
   ]
  },
  {
   "cell_type": "code",
   "execution_count": null,
   "metadata": {
    "id": "answer"
   },
   "outputs": [],
   "source": [
    "import numpy as np\n",
    "import pandas as pd\n",
    "import matplotlib.pyplot as plt\n",
    "import statsmodels.api as sm\n",
    "from pandas import datetime\n",
    "%matplotlib inline\n",
    "\n",
    "# データの読み込みと整理\n",
    "sales_sparkring = pd.read_csv(filepath_or_buffer = \"https://aidemyexcontentsdata.blob.core.windows.net/data/5060_tsa/monthly-australian-wine-sales-th-sparkling.csv\")\n",
    "index = pd.date_range(\"1980-01-31\", \"1995-07-31\", freq=\"M\")\n",
    "sales_sparkring.index=index\n",
    "del sales_sparkring[\"Month\"]\n",
    "# 自己相関・偏自己相関の可視化\n",
    "fig=plt.figure(figsize=(12, 8))\n",
    "# 自己相関係数のグラフを出力します\n",
    "ax1 = fig.add_subplot(211)\n",
    "fig = sm.graphics.tsa.plot_acf(sales_sparkring, lags=30, ax=ax1)\n",
    "# 偏自己相関係数のグラフを出力します\n",
    "ax2 = fig.add_subplot(212)\n",
    "fig = sm.graphics.tsa.plot_pacf(sales_sparkring, lags=30, ax=ax2)\n",
    "plt.show()\n",
    "# なにも記入せず実行してください\n",
    "\n",
    "# 出力結果から周期は12であるとわかります。"
   ]
  },
  {
   "cell_type": "markdown",
   "metadata": {
    "id": "section_name",
    "sectionId": "SkgIu0XWx-f"
   },
   "source": [
    "## 4.2 SARIMAモデルの構築（２）"
   ]
  },
  {
   "cell_type": "markdown",
   "metadata": {
    "courseId": 5060,
    "exerciseId": "ryX8dndFeM",
    "id": "code_session_name",
    "important": true,
    "isDL": false,
    "timeoutSecs": 5
   },
   "source": [
    "### 4.2.1 モデルの構築"
   ]
  },
  {
   "cell_type": "markdown",
   "metadata": {
    "id": "description"
   },
   "source": [
    "ここで一度SARIMAモデルを用いた時系列データの分析手順をまとめてみましょう。\n",
    "\n",
    "**1.データの読み込み**\n",
    "\n",
    "**2.データの整理**\n",
    "\n",
    "**3.データの可視化** \n",
    "\n",
    "**4.データの周期の把握 (パラメーターsの決定)** \n",
    "\n",
    "**5.s以外のパラメーターの決定**\n",
    "\n",
    "**6.モデルの構築** \n",
    "\n",
    "**7.データとの予測とその可視化** \n",
    "\n",
    "という流れで行われます。いよいよ最後にこの節ではモデルの構築から予測までを学びます。\n",
    "前セクションの方法によって、最適な$(p,d,q),(sp,sd,sq,s)$が分かったらいよいよモデルを構築します。モデルの構築には`sm.tsa.statespace.SARIMAX(DATA,order=(p, d, q),seasonal_order=(sp, sd, sq, s)).fit()`を用います。"
   ]
  },
  {
   "cell_type": "markdown",
   "metadata": {},
   "source": [
    "#### 問題"
   ]
  },
  {
   "cell_type": "markdown",
   "metadata": {
    "id": "question"
   },
   "source": [
    "- 前セクションで学んだことを踏まえて、スパークリングワインの売上データのSARIMAモデルを構築してください。\n",
    "- ただし、パラメーター`(p, d, q), (sp, sd, sq, s)`は`(0, 0, 0), (0, 1, 1, 12)`とします。\n",
    "- 補足:今回のSARIMAモデルのパラメーターが、「4.1.3 パラメーターの決定」で求めたパラメータと違うのは、4.1.3は１年分のデータに対し、今回は15年分(180ヶ月分)のデータを使っているため、パラメーターが違っています。(データ数が多いほど最適になります。)"
   ]
  },
  {
   "cell_type": "code",
   "execution_count": null,
   "metadata": {
    "id": "index"
   },
   "outputs": [],
   "source": [
    "import pandas as pd\n",
    "import matplotlib.pyplot as plt\n",
    "import statsmodels.api as sm\n",
    "from pandas import datetime\n",
    "%matplotlib inline\n",
    "import numpy as np\n",
    "\n",
    "# データの読み込みと整理\n",
    "sales_sparkring = pd.read_csv(filepath_or_buffer = \"https://aidemyexcontentsdata.blob.core.windows.net/data/5060_tsa/monthly-australian-wine-sales-th-sparkling.csv\")\n",
    "index = pd.date_range(\"1980-01-31\", \"1995-07-31\", freq=\"M\")\n",
    "sales_sparkring.index=index\n",
    "del sales_sparkring[\"Month\"]\n",
    "\n",
    "# モデルの当てはめ\n",
    "SARIMA_sparkring_sales = # ここに答えを書き込んでください\n",
    "\n",
    "#構築したSARIMAモデルのBICを出力します\n",
    "print(SARIMA_sparkring_sales.bic)"
   ]
  },
  {
   "cell_type": "markdown",
   "metadata": {},
   "source": [
    "#### ヒント"
   ]
  },
  {
   "cell_type": "markdown",
   "metadata": {
    "id": "hint"
   },
   "source": [
    "- モデルの構築には`sm.tsa.statespace.SARIMAX(DATA,order=(p,d,q),seasonal_order=(sp,sd,sq,s)).fit()`を用います。"
   ]
  },
  {
   "cell_type": "markdown",
   "metadata": {},
   "source": [
    "#### 解答例"
   ]
  },
  {
   "cell_type": "code",
   "execution_count": null,
   "metadata": {
    "id": "answer"
   },
   "outputs": [],
   "source": [
    "import numpy as np\n",
    "import pandas as pd\n",
    "import matplotlib.pyplot as plt\n",
    "import statsmodels.api as sm\n",
    "from pandas import datetime\n",
    "%matplotlib inline\n",
    "\n",
    "# データの読み込みと整理\n",
    "sales_sparkring = pd.read_csv(filepath_or_buffer = \"https://aidemyexcontentsdata.blob.core.windows.net/data/5060_tsa/monthly-australian-wine-sales-th-sparkling.csv\")\n",
    "index = pd.date_range(\"1980-01-31\", \"1995-07-31\", freq=\"M\")\n",
    "sales_sparkring.index=index\n",
    "del sales_sparkring[\"Month\"]\n",
    "\n",
    "# モデルの当てはめ\n",
    "\n",
    "SARIMA_sparkring_sales = sm.tsa.statespace.SARIMAX(sales_sparkring,order=(0, 0, 0),seasonal_order=(0, 1, 1, 12)).fit()\n",
    "\n",
    "\n",
    "#構築したSARIMAモデルのBICを出力します\n",
    "print(SARIMA_sparkring_sales.bic)"
   ]
  },
  {
   "cell_type": "markdown",
   "metadata": {},
   "source": [
    "***"
   ]
  },
  {
   "cell_type": "markdown",
   "metadata": {
    "courseId": 5060,
    "exerciseId": "SyEIO2uYxz",
    "id": "code_session_name",
    "important": true,
    "isDL": false,
    "timeoutSecs": 5
   },
   "source": [
    "### 4.2.2 予測の実行と予測データの可視化"
   ]
  },
  {
   "cell_type": "markdown",
   "metadata": {
    "id": "description"
   },
   "source": [
    "モデルの予測データを得るのは簡単で`モデル名.predict(\"予測開始時\",\"予測終了時\")`を用います。ただし、`\"予測開始時\"`はもとの時系列データにある時間でなければなりません。例えば、今回使用したスパークリングワインの売上データでは1995-07-31以前である必要があります。"
   ]
  },
  {
   "cell_type": "markdown",
   "metadata": {},
   "source": [
    "#### 問題"
   ]
  },
  {
   "cell_type": "markdown",
   "metadata": {
    "id": "question"
   },
   "source": [
    "- 前節で作成したスパークリングワインの売上データのSARIMAモデルを用いてモデルの予測を行い、またその予測データを可視化してみましょう。\n",
    "- 予測データの期間は1994-07-31から1997-12-31までとしてください。"
   ]
  },
  {
   "cell_type": "code",
   "execution_count": null,
   "metadata": {
    "id": "index"
   },
   "outputs": [],
   "source": [
    "import pandas as pd\n",
    "import matplotlib.pyplot as plt\n",
    "import statsmodels.api as sm\n",
    "from pandas import datetime\n",
    "%matplotlib inline\n",
    "\n",
    "# データの読み込みと整理\n",
    "sales_sparkring = pd.read_csv(filepath_or_buffer = \"https://aidemyexcontentsdata.blob.core.windows.net/data/5060_tsa/monthly-australian-wine-sales-th-sparkling.csv\")\n",
    "print(sales_sparkring.head())\n",
    "print(sales_sparkring.tail())\n",
    "index = pd.date_range(\"1980-01-31\", \"1995-07-31\", freq=\"M\")\n",
    "sales_sparkring.index=index\n",
    "del sales_sparkring[\"Month\"]\n",
    "\n",
    "# モデルの当てはめ\n",
    "SARIMA_sparkring_sales = sm.tsa.statespace.SARIMAX(sales_sparkring,order=(0, 0, 0),seasonal_order=(0, 1, 1, 12)).fit()\n",
    "\n",
    "# predに予測データを代入する\n",
    "pred = # ここに答えを書き込んでください\n",
    "\n",
    "# predデータの可視化\n",
    "# ここに答えを書き込んでください"
   ]
  },
  {
   "cell_type": "markdown",
   "metadata": {},
   "source": [
    "#### ヒント"
   ]
  },
  {
   "cell_type": "markdown",
   "metadata": {
    "id": "hint"
   },
   "source": [
    "- 予測は`モデル名.predict(\"予測開始時\",\"予測終了時\")`で行います。"
   ]
  },
  {
   "cell_type": "markdown",
   "metadata": {},
   "source": [
    "#### 解答例"
   ]
  },
  {
   "cell_type": "code",
   "execution_count": null,
   "metadata": {
    "id": "answer"
   },
   "outputs": [],
   "source": [
    "import pandas as pd\n",
    "import matplotlib.pyplot as plt\n",
    "import statsmodels.api as sm\n",
    "from pandas import datetime\n",
    "%matplotlib inline\n",
    "\n",
    "#データの読み込みと整理\n",
    "sales_sparkring = pd.read_csv(filepath_or_buffer = \"https://aidemyexcontentsdata.blob.core.windows.net/data/5060_tsa/monthly-australian-wine-sales-th-sparkling.csv\")\n",
    "print(sales_sparkring.head())\n",
    "print(sales_sparkring.tail())\n",
    "index = pd.date_range(\"1980-01-31\", \"1995-07-31\", freq=\"M\")\n",
    "sales_sparkring.index=index\n",
    "del sales_sparkring[\"Month\"]\n",
    "\n",
    "#モデルの当てはめ\n",
    "SARIMA_sparkring_sales = sm.tsa.statespace.SARIMAX(sales_sparkring,order=(0, 0, 0),seasonal_order=(0, 1, 1, 12)).fit()\n",
    "\n",
    "#predに予測データを代入する\n",
    "pred = SARIMA_sparkring_sales.predict(\"1994-7-31\", \"1997-12-31\")\n",
    "\n",
    "#predデータともとの時系列データの可視化\n",
    "plt.plot(pred)\n",
    "plt.show()"
   ]
  },
  {
   "cell_type": "markdown",
   "metadata": {},
   "source": [
    "***"
   ]
  },
  {
   "cell_type": "markdown",
   "metadata": {
    "courseId": 5060,
    "exerciseId": "rJrUu3OFef",
    "id": "code_session_name",
    "important": true,
    "isDL": false,
    "timeoutSecs": 5
   },
   "source": [
    "### 4.2.3 実際データと予測データの比較"
   ]
  },
  {
   "cell_type": "markdown",
   "metadata": {
    "id": "description"
   },
   "source": [
    "次は予測データだけを出力するのではなく、もとの時系列データと予測データを同時に出力して比べてみましょう。"
   ]
  },
  {
   "cell_type": "markdown",
   "metadata": {},
   "source": [
    "#### 問題"
   ]
  },
  {
   "cell_type": "markdown",
   "metadata": {
    "id": "question"
   },
   "source": [
    "- スパークリングワインの売上データと、そのSARIMAモデルによる予測データのグラフを同時に出力して比べてください。\n",
    "- 予測期間は1994-07-31から1997-12-31までとしてください。また、予測データのグラフは赤で表示させてください。"
   ]
  },
  {
   "cell_type": "code",
   "execution_count": null,
   "metadata": {
    "id": "index"
   },
   "outputs": [],
   "source": [
    "import pandas as pd\n",
    "import matplotlib.pyplot as plt\n",
    "import statsmodels.api as sm\n",
    "from pandas import datetime\n",
    "%matplotlib inline\n",
    "import numpy as np\n",
    "\n",
    "# データの読み込みと整理\n",
    "sales_sparkring = pd.read_csv(filepath_or_buffer = \"https://aidemyexcontentsdata.blob.core.windows.net/data/5060_tsa/monthly-australian-wine-sales-th-sparkling.csv\")\n",
    "index = pd.date_range(\"1980-01-31\", \"1995-07-31\", freq=\"M\")\n",
    "sales_sparkring.index=index\n",
    "del sales_sparkring[\"Month\"]\n",
    "\n",
    "# モデルの当てはめ\n",
    "SARIMA_sparkring_sales = sm.tsa.statespace.SARIMAX(sales_sparkring,order=(0, 0, 0),seasonal_order=(0, 1, 1, 12)).fit()\n",
    "\n",
    "# predに予測データを代入する\n",
    "pred = SARIMA_sparkring_sales.predict(\"1994-7-31\", \"1997-12-31\")\n",
    "\n",
    "# predデータともとの時系列データの可視化\n",
    "# ここに答えを入力してください"
   ]
  },
  {
   "cell_type": "markdown",
   "metadata": {},
   "source": [
    "#### ヒント"
   ]
  },
  {
   "cell_type": "markdown",
   "metadata": {
    "id": "hint"
   },
   "source": [
    "- 予想データのグラフは`color=\"r\"`で赤色に指定できます"
   ]
  },
  {
   "cell_type": "markdown",
   "metadata": {},
   "source": [
    "#### 解答例"
   ]
  },
  {
   "cell_type": "code",
   "execution_count": null,
   "metadata": {
    "id": "answer"
   },
   "outputs": [],
   "source": [
    "import pandas as pd\n",
    "import matplotlib.pyplot as plt\n",
    "import statsmodels.api as sm\n",
    "from pandas import datetime\n",
    "%matplotlib inline\n",
    "import numpy as np\n",
    "\n",
    "# データの読み込みと整理\n",
    "sales_sparkring = pd.read_csv(filepath_or_buffer = \"https://aidemyexcontentsdata.blob.core.windows.net/data/5060_tsa/monthly-australian-wine-sales-th-sparkling.csv\")\n",
    "index = pd.date_range(\"1980-01-31\", \"1995-07-31\", freq=\"M\")\n",
    "sales_sparkring.index=index\n",
    "del sales_sparkring[\"Month\"]\n",
    "\n",
    "#モデルの当てはめ\n",
    "SARIMA_sparkring_sales = sm.tsa.statespace.SARIMAX(sales_sparkring,order=(0, 0, 0),seasonal_order=(0, 1, 1, 12)).fit()\n",
    "\n",
    "# predに予測データを代入する\n",
    "pred = SARIMA_sparkring_sales.predict(\"1994-7-31\", \"1997-12-31\")\n",
    "\n",
    "# predデータともとの時系列データの可視化\n",
    "plt.plot(sales_sparkring)\n",
    "plt.plot(pred, color=\"r\")\n",
    "plt.show()"
   ]
  },
  {
   "cell_type": "markdown",
   "metadata": {},
   "source": [
    "***"
   ]
  },
  {
   "cell_type": "markdown",
   "metadata": {
    "id": "chapter_exam"
   },
   "source": [
    "## 4.3 添削問題"
   ]
  },
  {
   "cell_type": "markdown",
   "metadata": {
    "id": "description"
   },
   "source": []
  },
  {
   "cell_type": "markdown",
   "metadata": {},
   "source": [
    "#### 問題"
   ]
  },
  {
   "cell_type": "markdown",
   "metadata": {
    "id": "question"
   },
   "source": [
    "- スパークリングワインの売上分析についてSARIMAモデルを用いて予測して予測データを赤色で元のデータとあわせて出力してください。\n",
    "- ただし、予測の期間について(\"開始時\",\"終了時\")=(\"1993-01-31\",\"2050-12-31\")としてください。"
   ]
  },
  {
   "cell_type": "code",
   "execution_count": null,
   "metadata": {
    "id": "index"
   },
   "outputs": [],
   "source": [
    "import warnings\n",
    "import itertools\n",
    "import pandas as pd\n",
    "import matplotlib.pyplot as plt\n",
    "import statsmodels.api as sm\n",
    "from pandas import datetime\n",
    "%matplotlib inline\n",
    "import numpy as np\n",
    "\n",
    "#データの読み込みと整理\n",
    "sales_sparkring = pd.read_csv(\"monthly-australian-wine-sales-th-sparkling.csv\")\n",
    "index = pd.date_range(\"1980-01-31\",\"1995-07-31\",freq=\"M\")\n",
    "sales_sparkring.index=index\n",
    "del sales_sparkring[\"Month\"]\n",
    "\n",
    "#モデルの当てはめ\n",
    "#ここに答えを書き込んでください\n",
    "\n",
    "#predに予測データを代入する\n",
    "pred = #ここに答えを書き込んでください\n",
    "\n",
    "#preadデータともとの時系列データの可視化\n",
    "plt.plot(sales_sparkring)\n",
    "plt.plot(pred,color=\"r\")\n",
    "plt.show()"
   ]
  },
  {
   "cell_type": "markdown",
   "metadata": {},
   "source": [
    "#### ヒント"
   ]
  },
  {
   "cell_type": "markdown",
   "metadata": {
    "id": "hint"
   },
   "source": [
    "- モデルの構築にはsm.tsa.statespace.SARIMAX(DATA,order=(p,d,q),seasonal_order=(sp,sd,sq,s).fit()を用います。\n",
    "- 予測はモデル名.predict(\"予測開始時\",\"予測終了時\")で行います。"
   ]
  },
  {
   "cell_type": "markdown",
   "metadata": {},
   "source": [
    "#### 解答例"
   ]
  },
  {
   "cell_type": "code",
   "execution_count": null,
   "metadata": {
    "id": "answer"
   },
   "outputs": [],
   "source": [
    "import warnings\n",
    "import itertools\n",
    "import pandas as pd\n",
    "import matplotlib.pyplot as plt\n",
    "import statsmodels.api as sm\n",
    "from pandas import datetime\n",
    "%matplotlib inline\n",
    "import numpy as np\n",
    "\n",
    "#データの読み込みと整理\n",
    "sales_sparkring = pd.read_csv(\"monthly-australian-wine-sales-th-sparkling.csv\")\n",
    "index = pd.date_range(\"1980-01-31\",\"1995-07-31\",freq=\"M\")\n",
    "sales_sparkring.index=index\n",
    "del sales_sparkring[\"Month\"]\n",
    "\n",
    "#モデルの当てはめ\n",
    "SARIMA_sparkring_sales = sm.tsa.statespace.SARIMAX(sales_sparkring,order=(0,0,0),seasonal_order=(0, 1, 1, 12)).fit()\n",
    "\n",
    "#predに予測データを代入する\n",
    "pred = SARIMA_sparkring_sales.predict(\"1994-7-31\",\"2050-12-31\")\n",
    "\n",
    "#preadデータともとの時系列データの可視化\n",
    "plt.plot(sales_sparkring)\n",
    "plt.plot(pred,color=\"r\")\n",
    "plt.show()"
   ]
  },
  {
   "cell_type": "markdown",
   "metadata": {},
   "source": [
    "#### 解説\n",
    "- `SARIMA_sparkring_sales = sm.tsa.statespace.SARIMAX(sales_sparkring,order=(0,0,0),seasonal_order=(0, 1, 1, 12)).fit()`でモデルを構築しています\n",
    "- `pred = SARIMA_sparkring_sales.predict(\"1994-7-31\",\"2050-12-31\")`にてpredに予測データを代入して\n",
    "- `plt.plot(sales_sparkring)\n",
    "   plt.plot(pred,color=\"r\")`にてデータを可視化しています。\n",
    "- パラメータについてはこのチャプターの関数を用いて求めたことにしていますが、記入してあっても問題ないです。"
   ]
  },
  {
   "cell_type": "markdown",
   "metadata": {
    "id": "commentary"
   },
   "source": []
  },
  {
   "cell_type": "markdown",
   "metadata": {},
   "source": [
    "***"
   ]
  }
 ],
 "metadata": {
  "celltoolbar": "Edit Metadata",
  "kernelspec": {
   "display_name": "Python 3",
   "language": "python",
   "name": "python3"
  },
  "language_info": {
   "codemirror_mode": {
    "name": "ipython",
    "version": 3
   },
   "file_extension": ".py",
   "mimetype": "text/x-python",
   "name": "python",
   "nbconvert_exporter": "python",
   "pygments_lexer": "ipython3",
   "version": "3.6.4"
  },
  "toc": {
   "base_numbering": 1,
   "nav_menu": {},
   "number_sections": true,
   "sideBar": true,
   "skip_h1_title": false,
   "title_cell": "Table of Contents",
   "title_sidebar": "Contents",
   "toc_cell": false,
   "toc_position": {
    "height": "calc(100% - 180px)",
    "left": "10px",
    "top": "150px",
    "width": "228px"
   },
   "toc_section_display": true,
   "toc_window_display": true
  }
 },
 "nbformat": 4,
 "nbformat_minor": 2
}