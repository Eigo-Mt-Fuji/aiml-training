{
  "cells": [
    {
      "cell_type": "markdown",
      "metadata": {
        "id": "final_exam"
      },
      "source": [
        "# 総合添削問題\n"
      ]
    },
    {
      "cell_type": "markdown",
      "metadata": {
        "id": "description"
      },
      "source": [
        "チャプター1,2,3で学んだことを生かし、実際に機械学習する流れについて総復習しましょう。"
      ]
    },
    {
      "cell_type": "markdown",
      "metadata": {},
      "source": [
        "#### 問題"
      ]
    },
    {
      "cell_type": "markdown",
      "metadata": {
        "id": "question"
      },
      "source": [
        "- 以下のコードは機械学習をする上での基本的な流れに沿っています。各ブロックで何を行なっているか説明してください。"
      ]
    },
    {
      "cell_type": "code",
      "execution_count": 1,
      "metadata": {
        "id": "index"
      },
      "outputs": [
        {
          "name": "stdout",
          "output_type": "stream",
          "text": [
            "Accuracy: 0.60\n"
          ]
        },
        {
          "name": "stderr",
          "output_type": "stream",
          "text": [
            "/Users/nakamurataiki/anaconda/lib/python3.6/site-packages/sklearn/cross_validation.py:44: DeprecationWarning: This module was deprecated in version 0.18 in favor of the model_selection module into which all the refactored classes and functions are moved. Also note that the interface of the new CV iterators are different from that of this module. This module will be removed in 0.20.\n",
            "  \"This module will be removed in 0.20.\", DeprecationWarning)\n"
          ]
        }
      ],
      "source": [
        "import matplotlib.pyplot as plt\n",
        "import numpy as np\n",
        "import pandas as pd\n",
        "from sklearn import datasets\n",
        "from sklearn import svm\n",
        "from sklearn.model_selection import train_test_split\n",
        "from sklearn.metrics import accuracy_score\n",
        "\n",
        "# (1.)\n",
        "# Irisデータセットをロード\n",
        "iris = datasets.load_iris()\n",
        "# 3,4列目の特徴量を抽出\n",
        "X = iris.data[:, [2,3]]\n",
        "# クラスラベルを取得\n",
        "y = iris.target\n",
        "\n",
        "# (2.)\n",
        "X_train, X_test, y_train, y_test = train_test_split(\n",
        "    X, y, test_size=0.3, random_state=0)\n",
        "\n",
        "# (3.)\n",
        "svc = svm.SVC(C=1, kernel='rbf', gamma=0.001)\n",
        "svc.fit(X_train, y_train)\n",
        "\n",
        "# (4.)\n",
        "y_pred = svc.predict(X_test)\n",
        "print (\"Accuracy: %.2f\"% accuracy_score(y_test, y_pred))"
      ]
    },
    {
      "cell_type": "markdown",
      "metadata": {},
      "source": [
        "#### ヒント"
      ]
    },
    {
      "cell_type": "markdown",
      "metadata": {
        "id": "hint"
      },
      "source": [
        "- 基本的な機械学習は、トレーニングデータとテストデータを用意した後、トレーニングデータを機械学習アルゴリズムに学習させ、学習した機械学習アルゴリズムの性能をテストデータで検証するといった流れです。"
      ]
    },
    {
      "cell_type": "markdown",
      "metadata": {},
      "source": [
        "##  解答例"
      ]
    },
    {
      "cell_type": "markdown",
      "metadata": {
        "id": "commentary"
      },
      "source": [
        "添削課題の提出は以下のアドレスから提出いただきますようお願いします。<br>\n\b",
        "\n",
        "https://goo.gl/forms/fW7CAspZMwHuWuqk2<br><br>\n",
        "以下のアドレスからアンケートにご協力頂きたく存じます。<br>\n",
        "ご回答のほど、よろしくお願いいたします。\n",
        "\n",
        "https://goo.gl/forms/WHjJQYeodIndRvyz2"
      ]
    }
  ],
  "metadata": {
    "celltoolbar": "Edit Metadata",
    "kernelspec": {
      "display_name": "Python 3",
      "language": "python",
      "name": "python3"
    },
    "language_info": {
      "codemirror_mode": {
        "name": "ipython",
        "version": 3
      },
      "file_extension": ".py",
      "mimetype": "text/x-python",
      "name": "python",
      "nbconvert_exporter": "python",
      "pygments_lexer": "ipython3",
      "version": "3.6.1"
    }
  },
  "nbformat": 4,
  "nbformat_minor": 2
}