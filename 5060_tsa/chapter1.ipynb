{
 "cells": [
  {
   "cell_type": "markdown",
   "metadata": {
    "chapterId": "SyQr_07ZxWz",
    "id": "chapter_name"
   },
   "source": [
    "#  時系列データに触れてみよう"
   ]
  },
  {
   "cell_type": "markdown",
   "metadata": {
    "id": "table"
   },
   "source": [
    "- **[1.1 時系列分析概要](#1.1-時系列分析概要)**\n",
    "    - **[1.1.1 時系列データ](#1.1.1-時系列データ)**\n",
    "    - **[1.1.2 時系列データの表し方](#1.1.2-時系列データの表し方)**\n",
    "    - **[1.1.3 時系列データの基本](#1.1.3-時系列データの基本)**\n",
    "    - **[1.1.4 時系列データのモデリング](#1.1.4-時系列データのモデリング)**\n",
    "<br><br>\n",
    "- **[1.2 時系列データの種類](#1.2-時系列データの種類)**\n",
    "    - **[1.2.1 時系列データの変換](#1.2.1-時系列データの変換)**\n",
    "    - **[1.2.2 対数系列](#1.2.2-対数系列)**\n",
    "    - **[1.2.3 階差系列](#1.2.3-階差系列)**\n",
    "    - **[1.2.4 季節調整済み系列](#1.2.4-季節調整済み系列)**\n",
    "<br><br>\n",
    "- **[1.3 時系列データにおける統計量](#1.3-時系列データにおける統計量)**\n",
    "    - **[1.3.1 期待値(平均)](#1.3.1-期待値(平均))**\n",
    "    - **[1.3.2 分散・標準偏差](#1.3.2-分散・標準偏差)**\n",
    "    - **[1.3.3 自己共分散・自己相関係数](#1.3.3-自己共分散・自己相関係数)**\n",
    "    - **[1.3.4 自己相関係数の出力](#1.3.4-自己相関係数の出力)**\n",
    "<br><br>\n",
    "- **[1.4 添削問題](#1.4-添削問題)**"
   ]
  },
  {
   "cell_type": "markdown",
   "metadata": {
    "id": "section_name",
    "sectionId": "S1VSuRXbxWz"
   },
   "source": [
    "## 1.1 時系列分析概要"
   ]
  },
  {
   "cell_type": "markdown",
   "metadata": {
    "courseId": 5060,
    "exerciseId": "r1x4cnIsUxz",
    "id": "code_session_name",
    "important": true,
    "isDL": false,
    "timeoutSecs": 20
   },
   "source": [
    "### 1.1.1 時系列データ"
   ]
  },
  {
   "cell_type": "markdown",
   "metadata": {
    "id": "description"
   },
   "source": [
    "時系列分析では、 **<font color=#AA0000>時系列データ</font>** を扱います。時系列データは **時間の経過とともに変化するデータ** のことをいいます。具体的には東京の毎時間の気温の記録、ある会社の毎月の売上高の記録、ある国のGDPの記録や日経平均株価の記録などは時系列データといえます。\n",
    "\n",
    "時系列分析は、会社の売り上げや商品の売り上げ予測、さらには来店者数の予測など、ビジネスにおいて非常に重要な分析技術となります。\n",
    "\n",
    "このコースではPythonの **StatsModels** を用いて時系列データの分析の仕方を学んでいきます。すこし難しいところもありますが順を追ってひとつひとつ学んでいくので一緒に頑張りましょう。最後には **SARIMAモデル** を用いた時系列分析ができるようになります。"
   ]
  },
  {
   "cell_type": "markdown",
   "metadata": {},
   "source": [
    "#### 問題"
   ]
  },
  {
   "cell_type": "markdown",
   "metadata": {
    "id": "question"
   },
   "source": [
    "- このコースを終えてできるようになることを確認してみましょう\n",
    "- 次のコードを実行して結果を出力してください"
   ]
  },
  {
   "cell_type": "code",
   "execution_count": null,
   "metadata": {
    "id": "index"
   },
   "outputs": [],
   "source": [
    "import pandas as pd\n",
    "import matplotlib.pyplot as plt\n",
    "import statsmodels.api as sm\n",
    "from pandas import datetime\n",
    "%matplotlib inline\n",
    "import numpy as np\n",
    "\n",
    "# データの読み込みと整理\n",
    "sales_sparkring = pd.read_csv(filepath_or_buffer = \"https://aidemyexcontentsdata.blob.core.windows.net/data/5060_tsa/monthly-australian-wine-sales-th-sparkling.csv\")\n",
    "index = pd.date_range(\"1980-01-31\",\"1995-07-31\",freq=\"M\")\n",
    "sales_sparkring.index=index\n",
    "del sales_sparkring[\"Month\"]\n",
    "\n",
    "# モデルの当てはめ\n",
    "SARIMA_sparkring_sales = sm.tsa.statespace.SARIMAX(sales_sparkring,order=(0,0, 0),seasonal_order=(0, 1, 1, 12)).fit()\n",
    "\n",
    "# predに予測データを代入する\n",
    "pred = SARIMA_sparkring_sales.predict(\"1994-7-31\",\"1997-12-31\")\n",
    "\n",
    "# preadデータともとの時系列データの可視化\n",
    "plt.plot(sales_sparkring)\n",
    "plt.plot(pred,color=\"r\")\n",
    "plt.show()\n",
    "\n",
    "#何も書き込まず実行してください"
   ]
  },
  {
   "cell_type": "markdown",
   "metadata": {},
   "source": [
    "#### ヒント　"
   ]
  },
  {
   "cell_type": "markdown",
   "metadata": {
    "id": "hint"
   },
   "source": [
    "- 最終的には、このように時系列データを予測することができます。"
   ]
  },
  {
   "cell_type": "markdown",
   "metadata": {},
   "source": [
    "#### 解答"
   ]
  },
  {
   "cell_type": "code",
   "execution_count": null,
   "metadata": {
    "id": "answer"
   },
   "outputs": [],
   "source": [
    "import pandas as pd\n",
    "import matplotlib.pyplot as plt\n",
    "import statsmodels.api as sm\n",
    "from pandas import datetime\n",
    "%matplotlib inline\n",
    "import numpy as np\n",
    "\n",
    "# データの読み込みと整理\n",
    "sales_sparkring = pd.read_csv(filepath_or_buffer = \"https://aidemyexcontentsdata.blob.core.windows.net/data/5060_tsa/monthly-australian-wine-sales-th-sparkling.csv\")\n",
    "\n",
    "index = pd.date_range(\"1980-01-31\",\"1995-07-31\",freq=\"M\")\n",
    "sales_sparkring.index=index\n",
    "del sales_sparkring[\"Month\"]\n",
    "\n",
    "# モデルの当てはめ\n",
    "SARIMA_sparkring_sales = sm.tsa.statespace.SARIMAX(sales_sparkring,order=(0,0, 0),seasonal_order=(0, 1, 1, 12)).fit()\n",
    "\n",
    "# predに予測データを代入する\n",
    "pred = SARIMA_sparkring_sales.predict(\"1994-7-31\",\"1997-12-31\")\n",
    "\n",
    "# preadデータともとの時系列データの可視化\n",
    "plt.plot(sales_sparkring)\n",
    "plt.plot(pred,color=\"r\")\n",
    "plt.show()\n",
    "\n",
    "#何も書き込まず実行してください"
   ]
  },
  {
   "cell_type": "markdown",
   "metadata": {
    "courseId": 5060,
    "exerciseId": "HJbN538j8lM",
    "id": "code_session_name",
    "important": true,
    "isDL": false,
    "timeoutSecs": 5
   },
   "source": [
    "### 1.1.2 時系列データの表し方"
   ]
  },
  {
   "cell_type": "markdown",
   "metadata": {
    "id": "description"
   },
   "source": [
    "**時系列分析の第一歩は、時系列データを <font color=#AA0000>視覚化する</font>** ことです。データを視覚化することで様々なことがわかります。\n",
    "次の問題ではPythonのmatplotlibを用いて、ハワイにあるマウナロア観測所の二酸化炭素濃度について折れ線グラフで表してみましょう。"
   ]
  },
  {
   "cell_type": "markdown",
   "metadata": {},
   "source": [
    "#### 問題 "
   ]
  },
  {
   "cell_type": "markdown",
   "metadata": {
    "id": "question"
   },
   "source": [
    "- `plt.plot()`を用いてマウナロア観測所の二酸化炭素濃度データを折れ線グラフで出力してください\n",
    "- ただし、 **x軸は期間を1995年から2000年まで** に、 **y軸は値を355から375まで** に指定しましょう"
   ]
  },
  {
   "cell_type": "code",
   "execution_count": null,
   "metadata": {
    "id": "index"
   },
   "outputs": [],
   "source": [
    "import pandas as pd\n",
    "import matplotlib.pyplot as plt\n",
    "import statsmodels.api as sm\n",
    "%matplotlib inline\n",
    "# データの読み込み(StatsModelsのテストデータを用います)\n",
    "co2_tsdata = sm.datasets.co2.load_pandas().data\n",
    "# 欠損値の処理\n",
    "co2_tsdata2 = co2_tsdata.fillna(method=\"ffill\")\n",
    "\n",
    "# x軸の期間を1995年から2000年までに、y軸は値を355から375までに指定したうえでデータを折れ線グラフで表してください\n",
    "# グラフのタイトルを定める\n",
    "plt.title(\"Mauna Loa Weekly Atmospheric CO2 Data\")\n",
    "# グラフのx軸とy軸の名前設定\n",
    "plt.xlabel(\"date\")\n",
    "plt.ylabel(\"CO2 Concentration ppmv\")\n",
    "# ここに答えを記入してください\n",
    "\n",
    "\n",
    "plt.show()"
   ]
  },
  {
   "cell_type": "markdown",
   "metadata": {},
   "source": [
    "#### ヒント"
   ]
  },
  {
   "cell_type": "markdown",
   "metadata": {
    "id": "hint"
   },
   "source": [
    "- 期間、値の指定は`plt.xlim(\"1995\", \"2000\")`、`plt.ylim(355, 375)`でできます。"
   ]
  },
  {
   "cell_type": "markdown",
   "metadata": {},
   "source": [
    "#### 解答例"
   ]
  },
  {
   "cell_type": "code",
   "execution_count": null,
   "metadata": {
    "id": "answer",
    "scrolled": true
   },
   "outputs": [],
   "source": [
    "import pandas as pd\n",
    "import matplotlib.pyplot as plt\n",
    "import statsmodels.api as sm\n",
    "%matplotlib inline\n",
    "# データの読み込み(StatsModelsのテストデータを用います)\n",
    "co2_tsdata = sm.datasets.co2.load_pandas().data\n",
    "# 欠損値の処理\n",
    "co2_tsdata2 = co2_tsdata.fillna(method=\"ffill\")\n",
    "\n",
    "# x軸の期間を1995年から2000年までに、y軸は値を355から375までに指定したうえでデータを折れ線グラフで表してください\n",
    "# グラフのタイトルを定める\n",
    "plt.title(\"Mauna Loa Weekly Atmospheric CO2 Data\")\n",
    "# グラフのx軸とy軸の名前設定\n",
    "plt.xlabel(\"date\")\n",
    "plt.ylabel(\"CO2 Concentration ppmv\")\n",
    "# ここに答えを記入してください\n",
    "plt.plot(co2_tsdata2)\n",
    "plt.xlim(\"1995\", \"2000\")\n",
    "plt.ylim(355, 375)\n",
    "plt.show()"
   ]
  },
  {
   "cell_type": "markdown",
   "metadata": {
    "courseId": 5060,
    "exerciseId": "HkG4qh8i8gG",
    "id": "quiz_session_name",
    "important": true,
    "isDL": false,
    "timeoutSecs": 5
   },
   "source": [
    "### 1.1.3 時系列データの基本"
   ]
  },
  {
   "cell_type": "markdown",
   "metadata": {
    "id": "description"
   },
   "source": [
    "時系列データには **<font color=#AA0000>トレンド</font>** 、 **<font color=#AA0000>周期変動</font>** 、 **<font color=#AA0000>不規則変動</font>** の3つのパターンがあります。\n",
    "\n",
    "**<font color=#AA0000>トレンド</font>** はデータの長期的な傾向を意味します。時間の経過とともにデータの値が上昇していたり下降していたりする時系列データは「トレンドがある」といい、値が上昇している場合には **正のトレンド** 下降している場合には **負のトレンド** があると言います。\n",
    "\n",
    "**<font color=#AA0000>周期変動</font>** があるデータは時間の経過に伴ってデータの値が上昇と下降を繰り返します。特に1年間での周期変動を **季節変動** といいます。\n",
    "\n",
    "**<font color=#AA0000>不規則変動</font>** は時間の経過と関係なくデータの値が変動することをいいます。\n",
    "\n",
    "実際の時系列データを観測すると、これら3つのパターンが組み合わさっていることが分かります。"
   ]
  },
  {
   "cell_type": "markdown",
   "metadata": {},
   "source": [
    "#### 問題 "
   ]
  },
  {
   "cell_type": "markdown",
   "metadata": {
    "id": "question"
   },
   "source": [
    "- マウナロア観測所の二酸化炭素濃度の時系列データはトレンド、周期変動、不規則変動のどれを含むでしょうか。次のなかから選んでください。"
   ]
  },
  {
   "cell_type": "markdown",
   "metadata": {
    "id": "choices"
   },
   "source": [
    "- トレンド\n",
    "- 周期変動\n",
    "- 不規則変動\n",
    "- 上記のすべて"
   ]
  },
  {
   "cell_type": "markdown",
   "metadata": {},
   "source": [
    "#### ヒント"
   ]
  },
  {
   "cell_type": "markdown",
   "metadata": {
    "id": "hint"
   },
   "source": [
    "- 先ほどのセッションで出力したグラフを確認して見ましょう"
   ]
  },
  {
   "cell_type": "markdown",
   "metadata": {},
   "source": [
    "#### 解答"
   ]
  },
  {
   "cell_type": "markdown",
   "metadata": {
    "id": "answer"
   },
   "source": [
    "- 上記のすべて"
   ]
  },
  {
   "cell_type": "markdown",
   "metadata": {
    "courseId": 5060,
    "exerciseId": "H1XNc2Us8eM",
    "id": "quiz_session_name",
    "important": true,
    "isDL": false,
    "timeoutSecs": 5
   },
   "source": [
    "### 1.1.4 時系列データのモデリング"
   ]
  },
  {
   "cell_type": "markdown",
   "metadata": {
    "id": "description"
   },
   "source": [
    "時系列データの **<font color=#AA0000>モデリング</font>** とは、時系列データを何かの形で定式化することを言います。\n",
    "\n",
    "時系列データが持っている様々な特徴を説明できるような **モデルを構築** し、この **時系列モデルに基づいて様々な予測を行ったり、相互の関連を分析していく** ことがこの時系列分析の目的です。"
   ]
  },
  {
   "cell_type": "markdown",
   "metadata": {},
   "source": [
    "#### 問題"
   ]
  },
  {
   "cell_type": "markdown",
   "metadata": {
    "id": "question"
   },
   "source": [
    "- 次の[ ]の中に入る言葉を答えてください。\n",
    "- 時系列データを分析するにはまず時系列データの[ ]を構築する必要があります。完成した[ ]によって、時系列データの持つ様々な特徴を説明できる様になります。"
   ]
  },
  {
   "cell_type": "markdown",
   "metadata": {
    "id": "choices"
   },
   "source": [
    "1. モデル\n",
    "1. データ\n",
    "1. 予測\n",
    "1. 分析"
   ]
  },
  {
   "cell_type": "markdown",
   "metadata": {},
   "source": [
    "#### ヒント"
   ]
  },
  {
   "cell_type": "markdown",
   "metadata": {
    "id": "hint"
   },
   "source": [
    "- 時系列データが持っている様々な特徴を説明できるような **モデルを構築** し、この **時系列モデルに基づいて様々な予測を行ったり、相互の関連を分析していく** ことがこの時系列分析の目的です。"
   ]
  },
  {
   "cell_type": "markdown",
   "metadata": {},
   "source": [
    "#### 解答"
   ]
  },
  {
   "cell_type": "markdown",
   "metadata": {
    "id": "answer"
   },
   "source": [
    "モデル"
   ]
  },
  {
   "cell_type": "markdown",
   "metadata": {
    "id": "section_name",
    "sectionId": "HkBHuAXbeWG"
   },
   "source": [
    "## 1.2 時系列データの種類"
   ]
  },
  {
   "cell_type": "markdown",
   "metadata": {
    "courseId": 5060,
    "exerciseId": "H1N4928iIez",
    "id": "quiz_session_name",
    "important": true,
    "isDL": false,
    "timeoutSecs": 5
   },
   "source": [
    "### 1.2.1 時系列データの変換"
   ]
  },
  {
   "cell_type": "markdown",
   "metadata": {
    "id": "description"
   },
   "source": [
    "なにもされていない時系列データそのものは **<font color=#AA0000>原系列</font>** と呼ばれます。時系列分析の目的はこの **原系列** の性質を探って行くことです。 **原系列** のもつ様々な特徴を明らかにして **モデル** を構築します。そしてその **モデル** をもとにデータの予測を行ったり時系列データ同士の関連性を明らかにしていくのです。\n",
    "\n",
    "しかし、時系列分析において **原系列** そのものを扱うことはあまりありません。実際には時系列データを加工し新しい系列にして、それを分析して **モデル** を構築していきます。\n",
    "\n",
    "これから **対数系列** 、 **階差系列** (差分系列)、 **季節調整済み系列** をデータを加工することで実際に作ってみましょう。\n",
    "\n",
    "慣れない言葉がでてきて大変かもしれませんが、ひとつひとつ説明していくので安心してください。"
   ]
  },
  {
   "cell_type": "markdown",
   "metadata": {},
   "source": [
    "#### 問題　"
   ]
  },
  {
   "cell_type": "markdown",
   "metadata": {
    "id": "question"
   },
   "source": [
    "- 次の[　]に入る言葉を答えてください(同じ言葉が入ります)\n",
    "- なにもされていない時系列データそのものは[　]と呼ばれます。実際に時系列分析を行うときは[　]を加工し新しい系列にしてそれを分析することが多いです。"
   ]
  },
  {
   "cell_type": "markdown",
   "metadata": {
    "id": "choices"
   },
   "source": [
    "- 対数系列\n",
    "- 季節調整済み系列\n",
    "- 原系列\n",
    "- 階差系列"
   ]
  },
  {
   "cell_type": "markdown",
   "metadata": {},
   "source": [
    "#### ヒント "
   ]
  },
  {
   "cell_type": "markdown",
   "metadata": {
    "id": "hint"
   },
   "source": [
    "- なにもされていない時系列データそのものは原系列と呼ばれます。"
   ]
  },
  {
   "cell_type": "markdown",
   "metadata": {},
   "source": [
    "#### 解答"
   ]
  },
  {
   "cell_type": "markdown",
   "metadata": {
    "id": "answer"
   },
   "source": [
    "- 原系列"
   ]
  },
  {
   "cell_type": "markdown",
   "metadata": {
    "courseId": 5060,
    "exerciseId": "HyH4c3IoLgf",
    "id": "code_session_name",
    "important": true,
    "isDL": false,
    "timeoutSecs": 5
   },
   "source": [
    "### 1.2.2  対数系列"
   ]
  },
  {
   "cell_type": "markdown",
   "metadata": {
    "id": "description"
   },
   "source": [
    "時系列データの中には、値の変動が大きなデータが多くあります。そのようなデータの変動を穏やかにするのが **<font color=#AA0000>対数変換</font>** です。まずは実際にデータを対数変換してみましょう。ここでは対数変換のためにNumpyの`np.log()`を用います。\n",
    "\n",
    "`np.log()`の使い方は、\n",
    "`np.log(PandasのDataframe型)`\n",
    "というように、引数を一つ指定して使います。"
   ]
  },
  {
   "cell_type": "markdown",
   "metadata": {},
   "source": [
    "#### 問題"
   ]
  },
  {
   "cell_type": "markdown",
   "metadata": {
    "id": "question"
   },
   "source": [
    "- 次のアメリカの実質GDPのデータを対数変換してその値を見てみましょう。1959年12月31日の対数変換前と対数変換後の値を比べてください。"
   ]
  },
  {
   "cell_type": "code",
   "execution_count": null,
   "metadata": {
    "id": "index"
   },
   "outputs": [],
   "source": [
    "import pandas as pd\n",
    "import matplotlib.pyplot as plt\n",
    "import statsmodels.api as sm\n",
    "%matplotlib inline\n",
    "import numpy as np\n",
    "\n",
    "# データの読み込み(StatsModelsのテストデータを用います)\n",
    "macrodata = sm.datasets.macrodata.load_pandas().data\n",
    "macrodata.index = pd.Index(sm.tsa.datetools.dates_from_range(\"1959q1\",\"2009q3\"))\n",
    "\n",
    "# 読み込んだデータからアメリカの実質GDPの対数変換前の値を表示します。\n",
    "print(macrodata.realgdp.head())\n",
    "\n",
    "# 先程の原型列を対数変換して対数系列にします\n",
    "# ここに解答を記入してください。\n",
    "\n",
    "# 対数変換後の値を表示します。\n",
    "print(macrodata_realgdp_log.head())"
   ]
  },
  {
   "cell_type": "markdown",
   "metadata": {},
   "source": [
    "#### ヒント"
   ]
  },
  {
   "cell_type": "markdown",
   "metadata": {
    "id": "hint"
   },
   "source": [
    "- 今回の場合、対数変換後は値がとても小さくなります。\n",
    "- GDPのデータはmacrodata内のrealgdpカラムに含まれています。"
   ]
  },
  {
   "cell_type": "markdown",
   "metadata": {},
   "source": [
    "#### 解答例"
   ]
  },
  {
   "cell_type": "code",
   "execution_count": null,
   "metadata": {
    "id": "answer"
   },
   "outputs": [],
   "source": [
    "import pandas as pd\n",
    "import matplotlib.pyplot as plt\n",
    "import statsmodels.api as sm\n",
    "%matplotlib inline\n",
    "import numpy as np\n",
    "\n",
    "# データの読み込み(StatsModelsのテストデータを用います)\n",
    "macrodata = sm.datasets.macrodata.load_pandas().data\n",
    "macrodata.index = pd.Index(sm.tsa.datetools.dates_from_range(\"1959q1\",\"2009q3\"))\n",
    "\n",
    "# 読み込んだデータからアメリカの実質GDPの対数変換前の値を表示します。\n",
    "print(macrodata.realgdp.head())\n",
    "\n",
    "# 先程の原型列を対数変換して対数系列にします\n",
    "macrodata_realgdp_log = np.log(macrodata.realgdp)\n",
    "\n",
    "# 対数変換後の値を表示します。\n",
    "print(macrodata_realgdp_log.head())"
   ]
  },
  {
   "cell_type": "markdown",
   "metadata": {
    "courseId": 5060,
    "exerciseId": "B1UN92IiIef",
    "id": "code_session_name",
    "important": true,
    "isDL": false,
    "timeoutSecs": 20
   },
   "source": [
    "### 1.2.3 階差系列"
   ]
  },
  {
   "cell_type": "markdown",
   "metadata": {
    "id": "description"
   },
   "source": [
    "時系列データを分析する際、ひとつ前の時間との値の差を扱うことも多いです。このようにひとつ前の値との差をとることを **差分をとる** といいます。この様に差分をとった後の系列を **<font color=#AA0000>階差系列</font>** といいます。 <br>\n",
    "この変換を行うことで原系列の **トレンドを取り除く** ことができます。 <br>\n",
    "（ **トレンド** とは、それを大局的にみた際に、上昇傾向にあるか、横這い傾向にあるか。下降傾向にあるのかということです。） <br>\n",
    "トレンドを取り除くことで原系列をあとで説明する **定常過程**（時間がたっても全体で見れば、その時系列の値は変わらないという性質のこと）にすることができる場合があり、このコースでは重要な変換となります。"
   ]
  },
  {
   "cell_type": "markdown",
   "metadata": {},
   "source": [
    "#### 問題"
   ]
  },
  {
   "cell_type": "markdown",
   "metadata": {
    "id": "question"
   },
   "source": [
    "- 次のマウナロア観測所のCO2濃度の時系列データの階差をとって、階差前のグラフと比べてみましょう。次のコードを実行して出力してください。"
   ]
  },
  {
   "cell_type": "code",
   "execution_count": null,
   "metadata": {
    "id": "index",
    "scrolled": true
   },
   "outputs": [],
   "source": [
    "import pandas as pd\n",
    "import matplotlib.pyplot as plt\n",
    "import statsmodels.api as sm\n",
    "%matplotlib inline\n",
    "import numpy as np\n",
    "\n",
    "# データの読み込み(StatsModelsのテストデータを用います)\n",
    "co2_tsdata = sm.datasets.co2.load_pandas().data\n",
    "\n",
    "# 欠損値の処理\n",
    "co2_tsdata2 = co2_tsdata.fillna(method=\"ffill\")\n",
    "\n",
    "# データの階差をとります\n",
    "co2_tsdata2_diff = co2_tsdata2.diff()\n",
    "\n",
    "\n",
    "plt.subplot(2,1,1)\n",
    "plt.title(\"Mauna Loa Weekly Atmospheric CO2 Data\")\n",
    "plt.xlabel(\"date\")\n",
    "plt.ylabel(\"CO2 Concentration ppmv\")\n",
    "plt.plot(co2_tsdata2)\n",
    "\n",
    "plt.subplot(2,1,2)\n",
    "plt.title(\"Mauna Loa Weekly Atmospheric CO2 Data DIFF\")\n",
    "plt.xlabel(\"date\")\n",
    "plt.ylabel(\"CO2 Concentration ppmv DIFF\")\n",
    "plt.plot(co2_tsdata2_diff)\n",
    "\n",
    "plt.subplots_adjust(wspace=0, hspace=1.0)\n",
    "\n",
    "plt.show()\n",
    "\n",
    "# 何も書き込まずに実行してください"
   ]
  },
  {
   "cell_type": "markdown",
   "metadata": {},
   "source": [
    "#### ヒント"
   ]
  },
  {
   "cell_type": "markdown",
   "metadata": {
    "id": "hint"
   },
   "source": [
    "- 階差をとると、トレンドが取り除かれ右上がりのグラフでなくなります"
   ]
  },
  {
   "cell_type": "markdown",
   "metadata": {},
   "source": [
    "#### 解答例"
   ]
  },
  {
   "cell_type": "code",
   "execution_count": null,
   "metadata": {
    "id": "answer"
   },
   "outputs": [],
   "source": [
    "import pandas as pd\n",
    "import matplotlib.pyplot as plt\n",
    "import statsmodels.api as sm\n",
    "%matplotlib inline\n",
    "import numpy as np\n",
    "\n",
    "# データの読み込み(StatsModelsのテストデータを用います)\n",
    "co2_tsdata = sm.datasets.co2.load_pandas().data\n",
    "\n",
    "# 欠損値の処理\n",
    "co2_tsdata2 = co2_tsdata.fillna(method=\"ffill\")\n",
    "\n",
    "# データの階差をとります\n",
    "co2_tsdata2_diff = co2_tsdata2.diff()\n",
    "\n",
    "\n",
    "plt.subplot(2,1,1)\n",
    "plt.title(\"Mauna Loa Weekly Atmospheric CO2 Data\")\n",
    "plt.xlabel(\"date\")\n",
    "plt.ylabel(\"CO2 Concentration ppmv\")\n",
    "plt.plot(co2_tsdata2)\n",
    "\n",
    "plt.subplot(2,1,2)\n",
    "plt.title(\"Mauna Loa Weekly Atmospheric CO2 Data DIFF\")\n",
    "plt.xlabel(\"date\")\n",
    "plt.ylabel(\"CO2 Concentration ppmv DIFF\")\n",
    "plt.plot(co2_tsdata2_diff)\n",
    "\n",
    "plt.subplots_adjust(wspace=0, hspace=1.0)\n",
    "\n",
    "plt.show()\n",
    "\n",
    "# 何も書き込まずに実行してください"
   ]
  },
  {
   "cell_type": "markdown",
   "metadata": {
    "courseId": 5060,
    "exerciseId": "S1DNchLo8gG",
    "id": "code_session_name",
    "important": true,
    "isDL": false,
    "timeoutSecs": 20
   },
   "source": [
    "### 1.2.4 季節調整済み系列"
   ]
  },
  {
   "cell_type": "markdown",
   "metadata": {
    "id": "description"
   },
   "source": [
    "もう一度チャプターの初めの方で見た、マウナロア観測所の二酸化炭素の濃度変化のデータを見てみましょう。\n",
    "\n",
    "\n",
    "このように1年の周期で周期変動をしていくことを **季節変動** と言いました。\n",
    "しかし、この折れ線グラフではこの季節変動パターンが邪魔をして時系列データのトレンドがわかりにくくなっています。\n",
    "このような季節変動のあるデータから季節変動以外のデータの動向を探るため、原系列から季節変動を取り除くことが多くあり、そのように季節変動が取り除かれたデータのことを **<font color=#AA0000>季節調整済み系列</font>** といいます。\n",
    "StatsModelsの`tsa.seasonal_decompose()`を用いることで原系列を **トレンド** 、 **季節変動** 、 **不規則変動(残差)** に分けることができます。"
   ]
  },
  {
   "cell_type": "markdown",
   "metadata": {},
   "source": [
    "#### 問題"
   ]
  },
  {
   "cell_type": "markdown",
   "metadata": {
    "id": "question"
   },
   "source": [
    "- StatsModelsの`tsa.seasonal_decompose()`によって実際に季節調整されたマウナロア観測所の二酸化炭素濃度のデータからそのトレンドを判断してください。次のコードを実行して出力してください。"
   ]
  },
  {
   "cell_type": "code",
   "execution_count": null,
   "metadata": {
    "id": "index"
   },
   "outputs": [],
   "source": [
    "import pandas as pd\n",
    "import matplotlib.pyplot as plt\n",
    "import statsmodels.api as sm\n",
    "from numpy import nan as na\n",
    "%matplotlib inline\n",
    "import numpy as np\n",
    "\n",
    "# データの読み込み(StatsModelsのテストデータを用います)\n",
    "co2_tsdata = sm.datasets.co2.load_pandas().data\n",
    "co2_tsdata2 = co2_tsdata.fillna(method=\"ffill\")\n",
    "# 季節調整を行い原系列をトレンド、季節変動、残差に分けて出力します\n",
    "fig = sm.tsa.seasonal_decompose(co2_tsdata2, freq=51).plot()\n",
    "plt.show()\n",
    "# 何も書き込まず実行してください"
   ]
  },
  {
   "cell_type": "markdown",
   "metadata": {},
   "source": [
    "#### ヒント"
   ]
  },
  {
   "cell_type": "markdown",
   "metadata": {
    "id": "hint"
   },
   "source": [
    "- 結果のOvserved(一番目)は原系列、Trend(二番目)はトレンド成分、Seasonal(三番目)は季節変動、Residual(四番目)は残差を表します。"
   ]
  },
  {
   "cell_type": "markdown",
   "metadata": {},
   "source": [
    "#### 解答例"
   ]
  },
  {
   "cell_type": "code",
   "execution_count": null,
   "metadata": {
    "id": "answer"
   },
   "outputs": [],
   "source": [
    "import pandas as pd\n",
    "import matplotlib.pyplot as plt\n",
    "import statsmodels.api as sm\n",
    "from numpy import nan as na\n",
    "%matplotlib inline\n",
    "import numpy as np\n",
    "\n",
    "# データの読み込み(StatsModelsのテストデータを用います)\n",
    "co2_tsdata = sm.datasets.co2.load_pandas().data\n",
    "co2_tsdata2 = co2_tsdata.fillna(method=\"ffill\")\n",
    "# 季節調整を行い原系列をトレンド、季節変動、残差に分けて出力します\n",
    "fig = sm.tsa.seasonal_decompose(co2_tsdata2, freq=51).plot()\n",
    "plt.show()\n",
    "# 何も書き込まず実行してください"
   ]
  },
  {
   "cell_type": "markdown",
   "metadata": {
    "id": "section_name",
    "sectionId": "SkLHuRQZgbM"
   },
   "source": [
    "## 1.3 時系列データにおける統計量"
   ]
  },
  {
   "cell_type": "markdown",
   "metadata": {
    "courseId": 5060,
    "exerciseId": "ryu4c2UoIlf",
    "id": "code_session_name",
    "important": false,
    "isDL": false,
    "timeoutSecs": 5
   },
   "source": [
    "### 1.3.1 期待値(平均)"
   ]
  },
  {
   "cell_type": "markdown",
   "metadata": {
    "id": "description"
   },
   "source": [
    "ここからは少し数学を用いていきます。たくさんの数式がでてきますが、このコースでは数式をきちんと理解する必要はありません。それよりも **各値がどのような意味を持つのか** に注目してください。時系列分析においても基本統計量を用いてデータを記述します。\n",
    "\n",
    "\n",
    "ここで、\n",
    "\n",
    "<img src=\"https://aidemyexcontentspic.blob.core.windows.net/contents-pic/5060_tsa/01_01.jpg\">\n",
    "\n",
    "と言うデータが観測されたとします。この時例えば3日目のデータを\n",
    "\n",
    "<img src=\"https://aidemyexcontentspic.blob.core.windows.net/contents-pic/5060_tsa/01_02.jpg\">\n",
    "\n",
    "のように表します。\n",
    "\n",
    "最も基本的な統計量は、 **期待値** あるいは **平均** と言われるもので、\n",
    "\n",
    "<img src=\"https://aidemyexcontentspic.blob.core.windows.net/contents-pic/5060_tsa/01_03.jpg\">\n",
    "\n",
    "のように表され、時系列データの値の平均的な値を示します。ちなみに $E$ とはexpectation(期待値)の略です。 \n",
    "試しにデータの平均値を求めて見ましょう。  \n",
    "\n",
    "平均値は`np.mean()`で求めることができます。"
   ]
  },
  {
   "cell_type": "markdown",
   "metadata": {},
   "source": [
    "#### 問題"
   ]
  },
  {
   "cell_type": "markdown",
   "metadata": {
    "id": "question"
   },
   "source": [
    "- マウナロアの二酸化炭素濃度のデータの平均はいくつでしょうか。次のコードを実行して出力してください"
   ]
  },
  {
   "cell_type": "code",
   "execution_count": null,
   "metadata": {
    "id": "index"
   },
   "outputs": [],
   "source": [
    "import pandas as pd\n",
    "import matplotlib.pyplot as plt\n",
    "import statsmodels.api as sm\n",
    "%matplotlib inline\n",
    "import numpy as np\n",
    "\n",
    "# データの読み込み(StatsModelsのテストデータを用います)\n",
    "co2_tsdata = sm.datasets.co2.load_pandas().data\n",
    "# 欠損値の処理\n",
    "co2_tsdata2 = co2_tsdata.fillna(method=\"ffill\")\n",
    "# データの平均値を求める\n",
    "np.mean(co2_tsdata2)\n",
    "\n",
    "# 何も書き込まずに実行してください"
   ]
  },
  {
   "cell_type": "markdown",
   "metadata": {},
   "source": [
    "#### ヒント"
   ]
  },
  {
   "cell_type": "markdown",
   "metadata": {
    "id": "hint"
   },
   "source": [
    "- 平均値は`np.mean()`で求めることができます。"
   ]
  },
  {
   "cell_type": "markdown",
   "metadata": {},
   "source": [
    "#### 解答例"
   ]
  },
  {
   "cell_type": "code",
   "execution_count": null,
   "metadata": {
    "id": "answer"
   },
   "outputs": [],
   "source": [
    "import pandas as pd\n",
    "import matplotlib.pyplot as plt\n",
    "import statsmodels.api as sm\n",
    "%matplotlib inline\n",
    "import numpy as np\n",
    "\n",
    "# データの読み込み(StatsModelsのテストデータを用います)\n",
    "co2_tsdata = sm.datasets.co2.load_pandas().data\n",
    "#欠損値の処理\n",
    "co2_tsdata2 = co2_tsdata.fillna(method=\"ffill\")\n",
    "# データの平均値を求める\n",
    "np.mean(co2_tsdata2)\n",
    "\n",
    "# 何も書き込まずに実行してください"
   ]
  },
  {
   "cell_type": "markdown",
   "metadata": {
    "courseId": 5060,
    "exerciseId": "rJF4c28j8ef",
    "id": "quiz_session_name",
    "important": false,
    "isDL": false,
    "timeoutSecs": 5
   },
   "source": [
    "### 1.3.2 分散・標準偏差"
   ]
  },
  {
   "cell_type": "markdown",
   "metadata": {
    "id": "description"
   },
   "source": [
    "時系列データが期待値からどれほどばらつくのかを表す統計量のひとつが **<font color=#AA0000>分散</font>** です。分散は、期待値を用いて\n",
    "\n",
    "<img src=\"https://aidemyexcontentspic.blob.core.windows.net/contents-pic/5060_tsa/01_04.jpg\">\n",
    "\n",
    "のように表されます。\n",
    "\n",
    "そして分散の平方根を **<font color=#AA0000>標準偏差</font>** といい\n",
    "\n",
    "<img src=\"https://aidemyexcontentspic.blob.core.windows.net/contents-pic/5060_tsa/01_07.jpg\">\n",
    "\n",
    "で表されます。また、特にファイナンスにおいてこの標準偏差のことを **ボラティリティ** と呼びます。\n",
    "標準偏差はファイナンスにおけるリスクを計測する重要な指標です。"
   ]
  },
  {
   "cell_type": "markdown",
   "metadata": {},
   "source": [
    "#### 問題"
   ]
  },
  {
   "cell_type": "markdown",
   "metadata": {
    "id": "question"
   },
   "source": [
    "- 次の文章の[ ]に入る言葉を答えてください。\n",
    "- 時系列データが期待値からどれくらいばらつくのかを表す統計量のひとつが[ ]です。[ ]の平方根を標準偏差といいます。"
   ]
  },
  {
   "cell_type": "markdown",
   "metadata": {
    "id": "choices"
   },
   "source": [
    "- 分散\n",
    "- 相関係数\n",
    "- 平均\n",
    "- 中央値"
   ]
  },
  {
   "cell_type": "markdown",
   "metadata": {},
   "source": [
    "#### ヒント"
   ]
  },
  {
   "cell_type": "markdown",
   "metadata": {
    "id": "hint"
   },
   "source": [
    "- 分散の平方根を標準偏差と言います。"
   ]
  },
  {
   "cell_type": "markdown",
   "metadata": {},
   "source": [
    "#### 解答"
   ]
  },
  {
   "cell_type": "markdown",
   "metadata": {
    "id": "answer"
   },
   "source": [
    "- 分散"
   ]
  },
  {
   "cell_type": "markdown",
   "metadata": {
    "courseId": 5060,
    "exerciseId": "S1qE53Is8ez",
    "id": "quiz_session_name",
    "important": false,
    "isDL": false,
    "timeoutSecs": 5
   },
   "source": [
    "### 1.3.3 自己共分散・自己相関係数"
   ]
  },
  {
   "cell_type": "markdown",
   "metadata": {
    "id": "description"
   },
   "source": [
    "次に時系列データに特有の統計量、 **<font color=#AA0000>自己共分散</font>** を紹介します。 **自己共分散** は同じ時系列データでの別々の時点同士での共分散です。 **k時点** 離れた自己共分散を **k次の自己共分散** といい\n",
    "\n",
    "<img src=\"https://aidemyexcontentspic.blob.core.windows.net/contents-pic/5060_tsa/01_08.jpg\">\n",
    "\n",
    "\n",
    "のように表します。\n",
    "さらに、この自己共分散をkの関数と見たものを **自己共分散関数** といいます。\n",
    "\n",
    "この自己共分散を様々な値間でも比べられるようにしたのが **<font color=##AA0000>自己相関係数</font>** と言われるもので\n",
    "\n",
    "<img src=\"https://aidemyexcontentspic.blob.core.windows.net/contents-pic/5060_tsa/01_05.jpg\">\n",
    "\n",
    "のように表します。自己分散と同様に、この自己相関係数をkの関数と見たものを **自己相関関数** といいます。そしてこの **自己相関関数** をグラフで表したものを **コレログラム** といいます。\n",
    "\n",
    "自己相関係数は簡単に言うと **過去の値とどれほど似ているのか** を表した値になります。"
   ]
  },
  {
   "cell_type": "markdown",
   "metadata": {},
   "source": [
    "#### 問題"
   ]
  },
  {
   "cell_type": "markdown",
   "metadata": {
    "id": "question"
   },
   "source": [
    "- 自己相関関数をグラフで表したものをなんといいますか。"
   ]
  },
  {
   "cell_type": "markdown",
   "metadata": {
    "id": "choices"
   },
   "source": [
    "- ボラティリティ\n",
    "- モーメント\n",
    "- モデル\n",
    "- コレログラム"
   ]
  },
  {
   "cell_type": "markdown",
   "metadata": {},
   "source": [
    "#### ヒント"
   ]
  },
  {
   "cell_type": "markdown",
   "metadata": {
    "id": "hint"
   },
   "source": [
    "- 自己相関関数をグラフで表したものをコレログラムといいます。"
   ]
  },
  {
   "cell_type": "markdown",
   "metadata": {},
   "source": [
    "#### 解答"
   ]
  },
  {
   "cell_type": "markdown",
   "metadata": {
    "id": "answer"
   },
   "source": [
    "- コレログラム"
   ]
  },
  {
   "cell_type": "markdown",
   "metadata": {
    "courseId": 5060,
    "exerciseId": "S1qE53Is9ez",
    "id": "code_session_name",
    "important": false,
    "isDL": false,
    "timeoutSecs": 10
   },
   "source": [
    "### 1.3.4 自己相関係数の出力"
   ]
  },
  {
   "cell_type": "markdown",
   "metadata": {
    "id": "description"
   },
   "source": [
    "一つ前のチャプターで紹介した自己相関係数を出力・可視化していきます。\n",
    "**自己相関係数**(ACF:Autocorrelation Function)は、`sm.tsa.stattools.acf()`**第一引数**は**データ**、**第二引数**は**nlags**(デフォルト40、省略可能)で求められ、グラフは、`sm.graphics.tsa.plot_acf()`**第一引数**は**データ**、**第二引数**は**lags**で計算とグラフ作成までできます。\n",
    "ラグ(lag)とは、日次データの場合、一つズラして自己相関を確認すれば、一日前の値が今日にどれくらい影響しているかが分かります。そのズラしたデータのステップ数をラグ（lag)と呼びます。自己相関係数のラグ0は常に1になります。ラグ0はデータをズラさない、同じ値同士の相関になるためです。\n",
    "(自己)相関係数の強い・弱いの目安はこのようになります。\n",
    "<img src=\"https://aidemyexstorage.blob.core.windows.net/aidemycontents/1533272745692483.png\">"
   ]
  },
  {
   "cell_type": "markdown",
   "metadata": {},
   "source": [
    "#### 問題"
   ]
  },
  {
   "cell_type": "markdown",
   "metadata": {
    "id": "question"
   },
   "source": [
    "- マウナロアの二酸化炭素濃度のデータの自己相関係数はいくつでしょうか。次のコードを実行して出力してください"
   ]
  },
  {
   "cell_type": "code",
   "execution_count": null,
   "metadata": {
    "id": "index"
   },
   "outputs": [],
   "source": [
    "import pandas as pd\n",
    "import matplotlib.pyplot as plt\n",
    "import statsmodels.api as sm\n",
    "%matplotlib inline\n",
    "import numpy as np\n",
    "\n",
    "# データの読み込み(StatsModelsのテストデータを用います)\n",
    "co2_tsdata = sm.datasets.co2.load_pandas().data\n",
    "\n",
    "# 欠損値の処理\n",
    "co2_tsdata2 = co2_tsdata.fillna(method=\"ffill\")\n",
    "\n",
    "# データの自己相関係数を求める\n",
    "co2_tsdata2_acf = sm.tsa.stattools.acf(co2_tsdata2, nlags=40)\n",
    "print(co2_tsdata2_acf)\n",
    "\n",
    "# 自己相関係数(ACF)のグラフを作成する\n",
    "sm.graphics.tsa.plot_acf(co2_tsdata2,lags=40)\n",
    "plt.show()\n",
    "\n",
    "# 何も書き込まずに実行してください"
   ]
  },
  {
   "cell_type": "markdown",
   "metadata": {},
   "source": [
    "#### ヒント"
   ]
  },
  {
   "cell_type": "markdown",
   "metadata": {
    "id": "hint"
   },
   "source": [
    "- 自己相関係数は`tsa.stattools.acf()`で求めることができ、グラフは`sm.graphics.tsa.plot_acf()`で作成できます。"
   ]
  },
  {
   "cell_type": "markdown",
   "metadata": {},
   "source": [
    "#### 解答例"
   ]
  },
  {
   "cell_type": "code",
   "execution_count": null,
   "metadata": {
    "id": "answer"
   },
   "outputs": [],
   "source": [
    "import pandas as pd\n",
    "import matplotlib.pyplot as plt\n",
    "import statsmodels.api as sm\n",
    "%matplotlib inline\n",
    "import numpy as np\n",
    "\n",
    "# データの読み込み(StatsModelsのテストデータを用います)\n",
    "co2_tsdata = sm.datasets.co2.load_pandas().data\n",
    "\n",
    "# 欠損値の処理\n",
    "co2_tsdata2 = co2_tsdata.fillna(method=\"ffill\")\n",
    "\n",
    "# データの自己相関係数を求める\n",
    "co2_tsdata2_acf = sm.tsa.stattools.acf(co2_tsdata2, nlags=40)\n",
    "print(co2_tsdata2_acf)\n",
    "\n",
    "# 自己相関係数(ACF)のグラフを作成する\n",
    "sm.graphics.tsa.plot_acf(co2_tsdata2, lags=40)\n",
    "plt.show()\n",
    "\n",
    "# 何も書き込まずに実行してください"
   ]
  },
  {
   "cell_type": "markdown",
   "metadata": {
    "id": "chapter_exam"
   },
   "source": [
    "## 1.4 添削問題"
   ]
  },
  {
   "cell_type": "markdown",
   "metadata": {
    "id": "description"
   },
   "source": [
    "概要なし(復旧点)"
   ]
  },
  {
   "cell_type": "markdown",
   "metadata": {},
   "source": [
    "#### 問題"
   ]
  },
  {
   "cell_type": "markdown",
   "metadata": {
    "id": "question"
   },
   "source": [
    "- 次のスパークリングワインの売上データ`sales_sparkring`について次の操作をしてください\n",
    "- 「データを折れ線グラフで表す」、「データを季節調整してトレンドを調べる」、「データの平均値を求める」、「データの自己相関係数を求める」"
   ]
  },
  {
   "cell_type": "code",
   "execution_count": null,
   "metadata": {
    "id": "index"
   },
   "outputs": [],
   "source": [
    "import pandas as pd\n",
    "import matplotlib.pyplot as plt\n",
    "import statsmodels.api as sm\n",
    "from pandas import datetime\n",
    "%matplotlib inline\n",
    "\n",
    "# データの読み込みと整理\n",
    "sales_sparkring = pd.read_csv(\"/monthly-australian-wine-sales-th-sparkling.csv\")\n",
    "index = pd.date_range('1980-01-31', '1995-07-31', freq='M')\n",
    "sales_sparkring.index = index\n",
    "del sales_sparkring['Month']\n",
    "\n",
    "# 「データを折れ線グラフで表す」\n",
    "# ここに書き込んでください\n",
    "\n",
    "# 「データを季節調整してトレンドを調べる」\n",
    "# ここに書き込んでください(※ただしfreq=12としてください)\n",
    "\n",
    "# データの平均値を求める\n",
    "# ここに書き込んでください\n",
    "\n",
    "# データの自己相関係数を求める\n",
    "# ここに書き込んでください\n"
   ]
  },
  {
   "cell_type": "markdown",
   "metadata": {},
   "source": [
    "#### ヒント"
   ]
  },
  {
   "cell_type": "markdown",
   "metadata": {
    "id": "hint"
   },
   "source": [
    "- 「データの可視化」は`plt.plot`\n",
    "- 「データの季節調整」は`sm.tsa.seasonal_decompose`\n",
    "- 「データの平均値」は`np.mean()`\n",
    "によって求めることができます。\n",
    "- データの平均値は2402.417です。\n",
    "- 自己相関係数は`tsa.stattools.acf()`で求めることができます。"
   ]
  },
  {
   "cell_type": "markdown",
   "metadata": {},
   "source": [
    "#### 解答例"
   ]
  },
  {
   "cell_type": "code",
   "execution_count": null,
   "metadata": {
    "id": "answer"
   },
   "outputs": [],
   "source": [
    "import pandas as pd\n",
    "import matplotlib.pyplot as plt\n",
    "import statsmodels.api as sm\n",
    "from pandas import datetime\n",
    "%matplotlib inline\n",
    "\n",
    "# データの読み込みと整理\n",
    "sales_sparkring = pd.read_csv(\"/monthly-australian-wine-sales-th-sparkling.csv\")\n",
    "index = pd.date_range('1980-01-31', '1995-07-31', freq='M')\n",
    "sales_sparkring.index=index\n",
    "del sales_sparkring['Month']\n",
    "\n",
    "# 「データを折れ線グラフで表す」\n",
    "# グラフのタイトルを定める\n",
    "plt.title(\"monthly-australian-wine-sales-th-sparkling\")\n",
    "# グラフのx軸とy軸の名前設定\n",
    "plt.xlabel(\"date\")\n",
    "plt.ylabel(\"sales\")\n",
    "# グラフで表示\n",
    "plt.plot(sales_sparkring)\n",
    "\n",
    "# 「データを季節調整してトレンドを調べる」\n",
    "sm.tsa.seasonal_decompose(sales_sparkring, freq=12).plot()\n",
    "\n",
    "# データの平均値を求める\n",
    "print(np.mean(sales_sparkring))\n",
    "\n",
    "# データの平均値は2402.417です\n",
    "\n",
    "# データの自己相関係数を求める\n",
    "sales_sparkring_acf = sm.tsa.stattools.acf(sales_sparkring, nlags=40)\n",
    "print(sales_sparkring_acf)\n"
   ]
  },
  {
   "cell_type": "markdown",
   "metadata": {
    "id": "commentary"
   },
   "source": [
    "解説なし(復旧点)"
   ]
  },
  {
   "cell_type": "markdown",
   "metadata": {},
   "source": [
    "***"
   ]
  }
 ],
 "metadata": {
  "celltoolbar": "Edit Metadata",
  "kernelspec": {
   "display_name": "Python 3",
   "language": "python",
   "name": "python3"
  },
  "language_info": {
   "codemirror_mode": {
    "name": "ipython",
    "version": 3
   },
   "file_extension": ".py",
   "mimetype": "text/x-python",
   "name": "python",
   "nbconvert_exporter": "python",
   "pygments_lexer": "ipython3",
   "version": "3.6.4"
  },
  "latex_envs": {
   "LaTeX_envs_menu_present": true,
   "autoclose": false,
   "autocomplete": true,
   "bibliofile": "biblio.bib",
   "cite_by": "apalike",
   "current_citInitial": 1,
   "eqLabelWithNumbers": true,
   "eqNumInitial": 1,
   "hotkeys": {
    "equation": "Ctrl-E",
    "itemize": "Ctrl-I"
   },
   "labels_anchors": false,
   "latex_user_defs": false,
   "report_style_numbering": false,
   "user_envs_cfg": false
  },
  "toc": {
   "base_numbering": 1,
   "nav_menu": {},
   "number_sections": true,
   "sideBar": true,
   "skip_h1_title": false,
   "title_cell": "Table of Contents",
   "title_sidebar": "Contents",
   "toc_cell": false,
   "toc_position": {
    "height": "calc(100% - 180px)",
    "left": "10px",
    "top": "150px",
    "width": "228px"
   },
   "toc_section_display": true,
   "toc_window_display": true
  },
  "varInspector": {
   "cols": {
    "lenName": 16,
    "lenType": 16,
    "lenVar": 40
   },
   "kernels_config": {
    "python": {
     "delete_cmd_postfix": "",
     "delete_cmd_prefix": "del ",
     "library": "var_list.py",
     "varRefreshCmd": "print(var_dic_list())"
    },
    "r": {
     "delete_cmd_postfix": ") ",
     "delete_cmd_prefix": "rm(",
     "library": "var_list.r",
     "varRefreshCmd": "cat(var_dic_list()) "
    }
   },
   "types_to_exclude": [
    "module",
    "function",
    "builtin_function_or_method",
    "instance",
    "_Feature"
   ],
   "window_display": false
  }
 },
 "nbformat": 4,
 "nbformat_minor": 2
}