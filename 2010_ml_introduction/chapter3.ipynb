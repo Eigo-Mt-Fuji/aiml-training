{
 "cells": [
  {
   "cell_type": "markdown",
   "metadata": {
    "chapterId": "HJIGOAX-xbM",
    "id": "chapter_name"
   },
   "source": [
    "#  性能評価指標"
   ]
  },
  {
   "cell_type": "markdown",
   "metadata": {
    "id": "table"
   },
   "source": [
    "- **[3.1 性能評価指標](#3.1-性能評価指標)**\n",
    "    - **[3.1.1 混同行列の概要](#3.1.1-混同行列の概要)**\n",
    "    - **[3.1.2 混同行列の概要](#3.1.2-混同行列の概要)**\n",
    "    - **[3.1.3 混同行列を理解する](#3.1.3-混同行列を理解する)**\n",
    "    - **[3.1.4 混同行列を実装する](#3.1.4-混同行列を実装する)**\n",
    "    - **[3.1.5 性能評価指標について理解する](#3.1.5-性能評価指標について理解する)**\n",
    "    - **[3.1.6 性能評価指標を実装する](#3.1.6-性能評価指標を実装する)**\n",
    "    - **[3.1.7 性能評価指標を実装する](#3.1.7-性能評価指標を実装する)**\n",
    "<br><br>\n",
    "- **[3.2 PR曲線について](#3.2-PR曲線について)**\n",
    "    - **[3.2.1 再現率と適合率の関係](#3.2.1-再現率と適合率の関係)**\n",
    "    - **[3.2.2 PR曲線とは](#3.2.2-PR曲線とは)**\n",
    "    - **[3.2.3 PR曲線を用いたモデルの評価](#3.2.3-PR曲線を用いたモデルの評価)**\n",
    "    - **[3.2.4 機械学習概論のまとめ](#3.2.4-機械学習概論のまとめ)**"
   ]
  },
  {
   "cell_type": "markdown",
   "metadata": {},
   "source": [
    "***"
   ]
  },
  {
   "cell_type": "markdown",
   "metadata": {
    "id": "section_name",
    "sectionId": "Hkwfu0mWgWG"
   },
   "source": [
    "## 3.1 性能評価指標"
   ]
  },
  {
   "cell_type": "markdown",
   "metadata": {
    "exerciseId": "WlBvOnxvq2",
    "id": "movie_session_name",
    "important": false,
    "isDL": false,
    "timeoutSecs": 10
   },
   "source": [
    "### 3.1.1 混同行列の概要"
   ]
  },
  {
   "cell_type": "markdown",
   "metadata": {
    "id": "description"
   },
   "source": [
    "- 混合行列の見方\n",
    "- どういう時に混合行列に注目すべきか？\n",
    "（癌の診断の事例を提示する）"
   ]
  },
  {
   "cell_type": "markdown",
   "metadata": {},
   "source": [
    "#### 問題"
   ]
  },
  {
   "cell_type": "markdown",
   "metadata": {
    "id": "question"
   },
   "source": [
    "- 次の動画をみてください。"
   ]
  },
  {
   "cell_type": "code",
   "execution_count": null,
   "metadata": {
    "id": "movielink",
    "scrolled": true
   },
   "outputs": [],
   "source": [
    "https://www.youtube.com/embed/C5-zWe4t0ho"
   ]
  },
  {
   "cell_type": "markdown",
   "metadata": {},
   "source": [
    "***"
   ]
  },
  {
   "cell_type": "markdown",
   "metadata": {
    "exerciseId": "QTgXoWon1L",
    "id": "movie_session_name",
    "important": false,
    "isDL": false,
    "timeoutSecs": 10
   },
   "source": [
    "### 3.1.2 精度評価指標"
   ]
  },
  {
   "cell_type": "markdown",
   "metadata": {
    "id": "description"
   },
   "source": [
    "- F値と精度・再現率など"
   ]
  },
  {
   "cell_type": "markdown",
   "metadata": {},
   "source": [
    "#### 問題"
   ]
  },
  {
   "cell_type": "markdown",
   "metadata": {
    "id": "question"
   },
   "source": [
    "- 次の動画をみてください。"
   ]
  },
  {
   "cell_type": "code",
   "execution_count": null,
   "metadata": {
    "id": "movielink",
    "scrolled": true
   },
   "outputs": [],
   "source": [
    "https://www.youtube.com/embed/0YE69WQzT3w"
   ]
  },
  {
   "cell_type": "markdown",
   "metadata": {},
   "source": [
    "***"
   ]
  },
  {
   "cell_type": "markdown",
   "metadata": {
    "courseId": 2010,
    "exerciseId": "Sy2YnLsLeG",
    "id": "quiz_session_name",
    "important": true,
    "isDL": false,
    "timeoutSecs": 5
   },
   "source": [
    "### 3.1.3 混同行列を理解する"
   ]
  },
  {
   "cell_type": "markdown",
   "metadata": {
    "id": "description"
   },
   "source": [
    "　chapter3では、トレーニングデータを用いて構築された学習済みモデルが、 **どの程度良いものであるかを判断する評価指標** について触れていきます。\n",
    "\n",
    "　モデルの性能を評価する指標について詳しく紹介する前に、混同行列について紹介します。 **混同行列とは、各テストデータに対するモデルの予測結果を、真陽性(True Positive)、真陰性(True Negative)、偽陽性(False Positive)、偽陰性(False Negative)の4つの観点で分類** をし、それぞれに当てはまる予測結果の個数をまとめた表です。\n",
    " \n",
    " 　**「真か偽」は予測が的中したかどうか** 、 **「陽性か陰性」は予測されたクラス** をそれぞれ示しています。つまり、\n",
    "  <br> **真陽性は陽性クラスと予測され結果も陽性クラスであった個数** \n",
    "  <br> **真陰性は陰性クラスと予測され結果も陰性クラスであった個数** \n",
    "  <br> **偽陽性は陽性クラスと予測されたが結果は陰性クラスであった個数** \n",
    "  <br> **偽陰性は陰性クラスと予測されたが結果は陽性クラスであった個数** \n",
    "  <br>をそれぞれ示しています。\n",
    "  \n",
    "  　真陽性(True Positive)と真陰性(True Negative)は機械学習モデルが正解し、偽陰性(False Negative)と偽陽性(False Positive)は機械学習モデルが不正解になったということを示しているのです。\n",
    "\n",
    "<img src=\"https://aidemyexcontentspic.blob.core.windows.net/contents-pic/2010_ml_introduction/img_3_10.png\" width=300/>"
   ]
  },
  {
   "cell_type": "markdown",
   "metadata": {},
   "source": [
    "#### 問題"
   ]
  },
  {
   "cell_type": "markdown",
   "metadata": {
    "id": "question"
   },
   "source": [
    "- 次の中から適切なものを選んでください\n",
    "- Aさんは病院で医者に大腸癌を患っていると宣告されました。しかし、実は大腸癌を患ってはいなく医者の誤りであったことがわかりました。医者の宣告は、混同行列を考えた時どの要素にあたるでしょうか。ここでは、癌を患っていることを「陽性」、癌を患っていないことを「陰性」であるとします。    "
   ]
  },
  {
   "cell_type": "markdown",
   "metadata": {
    "id": "choices"
   },
   "source": [
    "- 真陽性\n",
    "- 偽陽性\n",
    "- 偽陰性\n",
    "- 真陰性"
   ]
  },
  {
   "cell_type": "markdown",
   "metadata": {},
   "source": [
    "#### ヒント"
   ]
  },
  {
   "cell_type": "markdown",
   "metadata": {
    "id": "hint"
   },
   "source": [
    "- この場合、本当に癌があり癌と宣告されることを真陽性、癌がないが癌と宣告されることを偽陽性、癌があるのにもかかわらず癌はないと宣告されることを偽陰性、癌がない上癌はないと宣告されることを真陰性になります。"
   ]
  },
  {
   "cell_type": "markdown",
   "metadata": {},
   "source": [
    "#### 解答"
   ]
  },
  {
   "cell_type": "markdown",
   "metadata": {
    "id": "answer"
   },
   "source": [
    "偽陽性"
   ]
  },
  {
   "cell_type": "markdown",
   "metadata": {},
   "source": [
    "***"
   ]
  },
  {
   "cell_type": "markdown",
   "metadata": {
    "courseId": 2010,
    "exerciseId": "S1pKhUjUlG",
    "id": "code_session_name",
    "important": true,
    "isDL": false,
    "timeoutSecs": 5
   },
   "source": [
    "### 3.1.4 混同行列を実装する"
   ]
  },
  {
   "cell_type": "markdown",
   "metadata": {
    "id": "description"
   },
   "source": [
    "　前項では、混同行列の各要素について学習しました。この項では、sklearn.metricsモジュールにあるconfusion_matrix関数を利用して、実際に混同行列の各成分の個数を見てみましょう。\n",
    " \n",
    " 　confusion_matrix関数は、以下のように使うことができます。\n",
    " \n",
    "`confmat = confusion_matrix(y_true, y_pred)`\n",
    "\n",
    "　`y_true`には、正解データの実際のクラスが配列で格納され、`y_pred`には、予想されたクラスが配列で格納されます。格納のされ方は、前のセッションでも確認した下図の通りです。\n",
    " \n",
    " <img src=\"https://aidemyexcontentspic.blob.core.windows.net/contents-pic/2010_ml_introduction/img_3_10.png\" width=300/>\n",
    " \n",
    "　 さて、実際に問題を解いて混合行列を実装しましょう。"
   ]
  },
  {
   "cell_type": "markdown",
   "metadata": {},
   "source": [
    "#### 問題"
   ]
  },
  {
   "cell_type": "markdown",
   "metadata": {
    "id": "question"
   },
   "source": [
    "- 変数confmatにy_trueとy_predの混合行列を格納してください。"
   ]
  },
  {
   "cell_type": "code",
   "execution_count": null,
   "metadata": {
    "id": "index"
   },
   "outputs": [],
   "source": [
    "# 今回必要となるモジュールをインポートします\n",
    "import numpy\n",
    "from sklearn.metrics import confusion_matrix\n",
    "\n",
    "# データを格納します。今回は0が陽性、1が陰性を示しています\n",
    "y_true = [0,0,0,1,1,1]\n",
    "y_pred = [1,0,0,1,1,1]\n",
    "\n",
    "# 以下の行に変数confmatにy_trueとy_predの混合行列を格納してください\n",
    "\n",
    "\n",
    "# 結果を出力します。\n",
    "print (confmat)"
   ]
  },
  {
   "cell_type": "markdown",
   "metadata": {},
   "source": [
    "#### ヒント"
   ]
  },
  {
   "cell_type": "markdown",
   "metadata": {
    "id": "hint"
   },
   "source": [
    "- confusion_matrix関数を使って実装します。"
   ]
  },
  {
   "cell_type": "markdown",
   "metadata": {},
   "source": [
    "#### 解答例"
   ]
  },
  {
   "cell_type": "code",
   "execution_count": 1,
   "metadata": {
    "id": "answer"
   },
   "outputs": [
    {
     "name": "stdout",
     "output_type": "stream",
     "text": [
      "[[2 1]\n",
      " [0 3]]\n"
     ]
    }
   ],
   "source": [
    "# 今回必要となるモジュールをインポートします\n",
    "import numpy\n",
    "from sklearn.metrics import confusion_matrix\n",
    "\n",
    "# データを格納します。今回は0が陽性、1が陰性を示しています\n",
    "y_true = [0,0,0,1,1,1]\n",
    "y_pred = [1,0,0,1,1,1]\n",
    "\n",
    "# 以下の行に変数confmatにy_trueとy_predの混合行列を格納してください\n",
    "confmat = confusion_matrix(y_true, y_pred)\n",
    "\n",
    "# 結果を出力します。\n",
    "print (confmat)"
   ]
  },
  {
   "cell_type": "markdown",
   "metadata": {},
   "source": [
    "***"
   ]
  },
  {
   "cell_type": "markdown",
   "metadata": {
    "courseId": 2010,
    "exerciseId": "S1RYhIj8xf",
    "id": "quiz_session_name",
    "important": true,
    "isDL": false,
    "timeoutSecs": 5
   },
   "source": [
    "### 3.1.5 正解率"
   ]
  },
  {
   "cell_type": "code",
   "execution_count": null,
   "metadata": {},
   "outputs": [],
   "source": []
  },
  {
   "cell_type": "markdown",
   "metadata": {
    "id": "description"
   },
   "source": [
    "　実際に分類モデルを構築できたならば、その分類モデルは他の分類モデルより性能が優れているのか、優れていないのかを評価するための明確な基準といったものが必要になってきます。この項では、前の項で説明された混同行列の要素を元に算出できる **性能評価指標** について解説します。\n",
    " \n",
    "  まずは「正解率」について確認します。 **正解率とは、全ての事象の中で、診断結果が合っていた（TP/TNに分類された）数の割合** で、以下のように計算できます。\n",
    "  \n",
    "<img src=\"https://aidemyexcontentspic.blob.core.windows.net/contents-pic/2010_ml_introduction/img_4_10.png\" width=500/>\n",
    "\n",
    "<img src=\"https://aidemyexcontentspic.blob.core.windows.net/contents-pic/2010_ml_introduction/img_3_10.png\" width=300/>\n",
    "\n",
    "　とてもシンプルな指標なので、直感的に分かりやすいかもしれません。実際のケース問題で、正解率を計算してみましょう。"
   ]
  },
  {
   "cell_type": "markdown",
   "metadata": {},
   "source": [
    "#### 問題"
   ]
  },
  {
   "cell_type": "markdown",
   "metadata": {
    "id": "question"
   },
   "source": [
    "- $\n",
    "  \\left[\n",
    "    \\begin{array}{rr}\n",
    "      TP & FN  \\\\\n",
    "      FP & TN \n",
    "    \\end{array}\n",
    "  \\right]=\\left[\n",
    "    \\begin{array}{rr}\n",
    "     2 & 1  \\\\\n",
    "     0 & 3\n",
    "    \\end{array}\n",
    "  \\right]\n",
    "$における正解率は以下の内、どれになるでしょうか。正しいものを選んでください。"
   ]
  },
  {
   "cell_type": "markdown",
   "metadata": {
    "id": "choices"
   },
   "source": [
    "- 50％\n",
    "- 66.7％\n",
    "- 83.3％\n",
    "- 100％"
   ]
  },
  {
   "cell_type": "markdown",
   "metadata": {},
   "source": [
    "#### ヒント"
   ]
  },
  {
   "cell_type": "markdown",
   "metadata": {
    "id": "hint"
   },
   "source": [
    "- 説明文にある正解率の公式を確認しましょう"
   ]
  },
  {
   "cell_type": "markdown",
   "metadata": {},
   "source": [
    "#### 解答例"
   ]
  },
  {
   "cell_type": "markdown",
   "metadata": {
    "id": "answer"
   },
   "source": [
    "83.3％"
   ]
  },
  {
   "cell_type": "markdown",
   "metadata": {},
   "source": [
    "***"
   ]
  },
  {
   "cell_type": "markdown",
   "metadata": {
    "courseId": 2010,
    "exerciseId": "r1ygYhUiUgG",
    "id": "quiz_session_name",
    "important": true,
    "isDL": false,
    "timeoutSecs": 5
   },
   "source": [
    "### 3.1.6 F値"
   ]
  },
  {
   "cell_type": "markdown",
   "metadata": {
    "id": "description"
   },
   "source": [
    "　さて、他の例を考えてさらに理解を深めて行きます。ある病院の癌検診で患者10,000人を診療することを考えます。癌検診の結果、患者10,000人の診断結果の混合行列は以下のようになりました。\n",
    " \n",
    "<img src=\"https://aidemyexstorage.blob.core.windows.net/aidemycontents/1522411368058191.png\" width=\"400px\">\n",
    "\n",
    "　直感的に、この診断の性能はあまり良くないように感じられませんでしょうか？100人の癌患者のうち、40％は「癌ではないだろう」と誤診をしてしまっていますし、陽性の患者が実際に癌である確率は、30％ほどだからです。しかし、正解率を計算すると、以下のようになります。\n",
    " \n",
    "<img src=\"https://aidemyexcontentspic.blob.core.windows.net/contents-pic/2010_ml_introduction/img_4_20.png\" width=500/>\n",
    "\n",
    "　**正解率は98.2％という高い値** になりました。これは、 **患者のほとんどが癌ではない** ことによるものです。このように、 **データに偏りがある状態で「正解率」という指標を使うのは非常に危険** です。\n",
    "\n",
    "　そのため、 **機械学習では適合率/精度(precision)、再現率(recall)、F値という指標で性能評価** されるケースが多いです。それぞれの評価指標に関して詳しく確認しましょう。\n",
    " \n",
    " 　まず、適合率/精度(precision)と再現率(recall)です。 **適合率/精度(precision)とは陽性と予測されたデータのうち、実際に陽性であるものの割合** であり、 **再現率(recall)は、実際の陽性のデータのうち、陽性と予測できたものの割合** を表しています。\n",
    " \n",
    "<img src=\"https://aidemyexcontentspic.blob.core.windows.net/contents-pic/2010_ml_introduction/img_4_30.png\" width=500/>\n",
    "\n",
    "　さらにF値とは **適合率と再現率の両方を組み合わせた（調和平均）** です。F値は以下のように求めることはできます。\n",
    "\n",
    "<img src=\"https://aidemyexcontentspic.blob.core.windows.net/contents-pic/2010_ml_introduction/img_4_40.png\" width=500/>\n",
    "\n",
    "　適合率/精度(precision)、再現率(recall)、F値ともに、 **0~1の範囲の中で示され、値が1に近いほうが「性能が良い」** ということを示しています。さて、実際に今回の癌検診のケースの適合率/精度(precision)、再現率(recall)、F値を求めてみましょう。\n",
    "\n",
    "<img src=\"https://aidemyexstorage.blob.core.windows.net/aidemycontents/1537097684845171.png\" width=500/>\n",
    "\n",
    "　実際計算してみるとprecision、recall、F値ともに大きい値（100％に近い値）とは言えません。なんとなく「直感」と合致した気がしますね。"
   ]
  },
  {
   "cell_type": "markdown",
   "metadata": {},
   "source": [
    "#### 問題"
   ]
  },
  {
   "cell_type": "markdown",
   "metadata": {
    "id": "question"
   },
   "source": [
    "- $\n",
    "  \\left[\n",
    "    \\begin{array}{rr}\n",
    "      TP & FN  \\\\\n",
    "      FP & TN \n",
    "    \\end{array}\n",
    "  \\right]=\\left[\n",
    "    \\begin{array}{rr}\n",
    "     2 & 1  \\\\\n",
    "     0 & 3 \n",
    "    \\end{array}\n",
    "  \\right]\n",
    "$におけるF値は以下の内、どれになるでしょうか。正しいものを選んでください。"
   ]
  },
  {
   "cell_type": "markdown",
   "metadata": {
    "id": "choices"
   },
   "source": [
    "- 51.9％\n",
    "- 63.2％\n",
    "- 71.4％\n",
    "- 80.0％"
   ]
  },
  {
   "cell_type": "markdown",
   "metadata": {},
   "source": [
    "#### ヒント"
   ]
  },
  {
   "cell_type": "markdown",
   "metadata": {
    "id": "hint"
   },
   "source": [
    "- F値を計算する前にprecisionとrecallを計算しなければなりません。\n",
    "- 計算すると、precisionは1（100％）、recallは0.67（67％）になりますね。"
   ]
  },
  {
   "cell_type": "markdown",
   "metadata": {},
   "source": [
    "#### 解答例"
   ]
  },
  {
   "cell_type": "markdown",
   "metadata": {
    "id": "answer"
   },
   "source": [
    "80.0％"
   ]
  },
  {
   "cell_type": "markdown",
   "metadata": {},
   "source": [
    "***"
   ]
  },
  {
   "cell_type": "markdown",
   "metadata": {
    "courseId": 2010,
    "exerciseId": "HJglFn8sUez",
    "id": "code_session_name",
    "important": true,
    "isDL": false,
    "timeoutSecs": 5
   },
   "source": [
    "### 3.1.7 性能評価指標を実装する"
   ]
  },
  {
   "cell_type": "markdown",
   "metadata": {
    "id": "description"
   },
   "source": [
    "　前項では、モデルを評価する指標の計算式を学習しました。この項では、scikit-learnに実装されている性能評価指標を利用して見ましょう。その関数はsklearn.metricsモジュールからインポートできます。\n",
    " \n",
    "```python\n",
    "# 適合率、再現率、F\n",
    "from sklearn.metrics import precision_score\n",
    "from sklearn.metrics import recall_score, f1_score\n",
    "\n",
    "# データを格納します。今回は0が陽性、1が陰性を示しています\n",
    "y_true = [0,0,0,1,1,1]\n",
    "y_pred = [1,0,0,1,1,1]\n",
    "\n",
    "# y_trueには正解のラベルを、y_predには予測結果のラベルをそれぞれ渡します\n",
    "print(\"Precision: %.3f\" % precision_score(y_true, y_pred))\n",
    "print(\"Recall: %.3f\" % recall_score(y_true, y_pred))\n",
    "print(\"F1: %.3f\" % f1_score(y_true, y_pred))\n",
    "```\n",
    "\n",
    "`%.3f`とは、Python入門のChapter3で学習した表現です。小数点4桁目で四捨五入され、小数点3桁で表示されることになります。"
   ]
  },
  {
   "cell_type": "markdown",
   "metadata": {},
   "source": [
    "#### 問題"
   ]
  },
  {
   "cell_type": "markdown",
   "metadata": {
    "id": "question"
   },
   "source": [
    "- $\n",
    "  \\left[\n",
    "    \\begin{array}{rr}\n",
    "      TP & FN  \\\\\n",
    "      FP & TN \n",
    "    \\end{array}\n",
    "  \\right]=\\left[\n",
    "    \\begin{array}{rr}\n",
    "     2 & 1  \\\\\n",
    "     0 & 3 \n",
    "    \\end{array}\n",
    "  \\right]\n",
    "$におけるF値を、`f1_score()`関数を使わずに、`precision_score()`関数と`recall_score()`関数で計算してください。\n",
    "\n",
    "（参考）\n",
    "\n",
    "<img src=\"https://aidemyexcontentspic.blob.core.windows.net/contents-pic/2010_ml_introduction/img_4_40.png\" width=400/>"
   ]
  },
  {
   "cell_type": "code",
   "execution_count": null,
   "metadata": {
    "id": "index"
   },
   "outputs": [],
   "source": [
    "# 適合率、再現率、F1\n",
    "from sklearn.metrics import precision_score\n",
    "from sklearn.metrics import recall_score, f1_score\n",
    "\n",
    "# データを格納します。今回は0が陰性、1が陽性を示しています\n",
    "y_true = [1,1,1,0,0,0]\n",
    "y_pred = [0,1,1,0,0,0]\n",
    "\n",
    "# 適合率と再現率をあらかじめ計算します\n",
    "precision = precision_score(y_true, y_pred)\n",
    "recall = recall_score(y_true, y_pred)\n",
    "\n",
    "# 以下の行にF1スコアの定義式を書いてください\n",
    "f1_score =\n",
    "\n",
    "print(\"F1: %.3f\" % f1_score)"
   ]
  },
  {
   "cell_type": "markdown",
   "metadata": {},
   "source": [
    "#### ヒント"
   ]
  },
  {
   "cell_type": "markdown",
   "metadata": {
    "id": "hint"
   },
   "source": [
    "- `precision_score()` 関数と `recall_score()` 関数を用いて表現することができます。"
   ]
  },
  {
   "cell_type": "markdown",
   "metadata": {},
   "source": [
    "#### 解答例"
   ]
  },
  {
   "cell_type": "code",
   "execution_count": 2,
   "metadata": {
    "id": "answer"
   },
   "outputs": [
    {
     "name": "stdout",
     "output_type": "stream",
     "text": [
      "F1: 0.800\n"
     ]
    }
   ],
   "source": [
    "# 適合率、再現率、F1\n",
    "from sklearn.metrics import precision_score\n",
    "from sklearn.metrics import recall_score, f1_score\n",
    "\n",
    "# データを格納します。今回は0が陰性、1が陽性を示しています\n",
    "y_true = [1,1,1,0,0,0]\n",
    "y_pred = [0,1,1,0,0,0]\n",
    "\n",
    "# 適合率と再現率をあらかじめ計算します\n",
    "precision = precision_score(y_true, y_pred)\n",
    "recall = recall_score(y_true, y_pred)\n",
    "\n",
    "# 以下の行にF1スコアの定義式を書いてください\n",
    "f1_score =2 *(precision*recall) / (precision+recall)\n",
    "\n",
    "print(\"F1: %.3f\" % f1_score)"
   ]
  },
  {
   "cell_type": "markdown",
   "metadata": {},
   "source": [
    "***"
   ]
  },
  {
   "cell_type": "markdown",
   "metadata": {
    "id": "section_name",
    "sectionId": "rkufdCmWg-z"
   },
   "source": [
    "## 3.2 PR曲線"
   ]
  },
  {
   "cell_type": "markdown",
   "metadata": {
    "courseId": 2010,
    "exerciseId": "HJWxt3UiUxz",
    "id": "quiz_session_name",
    "important": true,
    "isDL": false,
    "timeoutSecs": 5
   },
   "source": [
    "### 3.2.1 再現率と適合率の関係"
   ]
  },
  {
   "cell_type": "markdown",
   "metadata": {
    "id": "description"
   },
   "source": [
    "　　前項で様々な性能評価指標について学習いたしました。この項では、データから得られた再現率と適合率を用いてモデルの性能を評価する方法について学習していきます。\n",
    " \n",
    "　復習になりますが、TP,FN,FP,TNの関係性と、再現率と適合率について再度確認しましょう。\n",
    "\n",
    "<img src=\"https://aidemyexcontentspic.blob.core.windows.net/contents-pic/2010_ml_introduction/img_3_10.png\" width=300/>\n",
    "\n",
    "- 適合率\n",
    "　陽性であると予測した内の何%が当たっていたかを示します。\n",
    " \n",
    "\n",
    "- 再現率\n",
    "　本当に陽性であるケースの内、何%を陽性と判定できたかを示します。\n",
    " \n",
    "<img src=\"https://aidemyexcontentspic.blob.core.windows.net/contents-pic/2010_ml_introduction/img_4_30.png\" width=400/>\n",
    " \n",
    "\n",
    "\n",
    "　\n",
    " 　この **二つの性能評価指標の関係は、トレードオフの関係** になります。トレードオフの関係というのは、再現率を高くしようとすると適合率が低くなり、適合率を高くしようとすると再現率が低くなることを意味します。\n",
    "\n",
    "　例えば、ある病院の癌検診の例を考えます。この病院が保守的な検査を行い、たくさんの陽性(癌である宣告)を出したと考えます。するとどうでしょうか。たくさん陽性を出しているので、本当に陽性である方の的中率が上がるので、これは再現率が高くなります。しかし、反対に少しでも癌の兆候が見られればすぐ陽性と判断してしまっているので、適合率が下がります。今度は、たくさんの陰性(癌ではない宣告)を出したと考えます。すると、一般的には、陰性の患者数の方が多いため、たくさんの陰性判断をすることで適合率が上がります。逆に、再現率は低くなってしまいます。このように、片方を上げようとすると片方が下がってしまうのです。\n",
    " \n",
    "<img src=\"https://aidemyexstorage.blob.core.windows.net/aidemycontents/1529761321032783.png\" width=900/>\n",
    " \n",
    " 今回のような **癌検診のケースだと、Recallを重視** するのが良いでしょう。というのも **「癌の発見を見逃す」というケースは人の命に関わる重大なケース** であり、できるだけFNの数を少なくすることが必要であるためです。\n",
    " \n",
    " 逆に、例えば **WEBサービスのレコメンドなどだとPrecisionを重視** するのが良いでしょう。例えば、「自分の好みでない商品をレコメンド」してしまうと、サービスの信頼性・ブランド力が毀損してしまうためです。つまり、 **「自分の好みの商品をレコメンドできない（=購買機会の減少）」ことよりも、「自分の好みでない商品をレコメンドしてしまう（=信頼性の減少）」ことを避けたいケース** だと、できるだけFPの数を少なくすることが必要であるためです。\n",
    "\n",
    " 以上のようなこだわりが特にないケースだと、 **再現率と適合率の両方を考慮したF値** が用いられます。"
   ]
  },
  {
   "cell_type": "markdown",
   "metadata": {},
   "source": [
    "#### 問題"
   ]
  },
  {
   "cell_type": "markdown",
   "metadata": {
    "id": "question"
   },
   "source": [
    "- 以下の「」に当てはまる選択肢を、以下から選びましょう。\n",
    "- 再現率と適合率は、「」の関係にある。"
   ]
  },
  {
   "cell_type": "markdown",
   "metadata": {
    "id": "choices"
   },
   "source": [
    "- 相関\n",
    "- 疑似相関\n",
    "- トレードオフ\n",
    "- トレードオン"
   ]
  },
  {
   "cell_type": "markdown",
   "metadata": {
    "id": "hint"
   },
   "source": [
    "- 再現率と適合率の意味を確認しましょう\n",
    "- 再現率\n",
    "　本当に陽性であるケースの内、何%を陽性と判定する事ができたかを示します。\n",
    "- 適合率\n",
    "　陽性であると予測した内の何%が当たっていたかを示します。"
   ]
  },
  {
   "cell_type": "markdown",
   "metadata": {},
   "source": [
    "#### 解答"
   ]
  },
  {
   "cell_type": "markdown",
   "metadata": {
    "id": "answer"
   },
   "source": [
    "トレードオフ"
   ]
  },
  {
   "cell_type": "markdown",
   "metadata": {},
   "source": [
    "***"
   ]
  },
  {
   "cell_type": "markdown",
   "metadata": {
    "courseId": 2010,
    "exerciseId": "HyGxFhIiUxG",
    "id": "quiz_session_name",
    "important": true,
    "isDL": false,
    "timeoutSecs": 5
   },
   "source": [
    "### 3.2.2 PR曲線とは"
   ]
  },
  {
   "cell_type": "markdown",
   "metadata": {
    "id": "description"
   },
   "source": [
    "　PR曲線とは、横軸を再現率、縦軸を適合率として、データをプロットしたグラフを表したものです。例を挙げます。癌検診を受けた10人の患者に対し、それぞれについて癌である可能性を算出したうえで、それをもとに患者に陽性か陰性か宣告することを考えます。この場合、適合率は、癌検診で陽性と宣告された患者数の内、本当に癌である患者の割合であり、再現率は、本当に癌である患者のうち、癌と宣告された割合です。ここで問題となってくるのは、患者10人を癌の可能性が高い順に並べたとき、上位何番目の人まで陽性と宣告するかです。この何番目の人まで陽性と宣告するかによって、再現率・適合率はともに変わってきます。\n",
    "　このとき、1番の人だけを陽性とした場合、2番の人までを陽性とした場合、……と順に適合率と再現率を計算し、それらをすべてプロットした図がPR曲線と言えます。プロットされる過程は以下のようになります。\n",
    "\n",
    "<img src=\"https://aidemyexstorage.blob.core.windows.net/aidemycontents/1537097731056573.png\" width=600/>\n",
    "\n",
    "　これらの適合率、再現率をプロットすると以下のようになります。\n",
    " \n",
    "<img src=\"https://aidemyexstorage.blob.core.windows.net/aidemycontents/1537097746548501.png\" width=600/>\n",
    "\n",
    "　上図より、やはり再現率と適合率の関係はトレードオフであると言えます。さて、PR曲線の仕組みがわかったところで、PR曲線を用いたモデルの評価について次項で説明していきます。"
   ]
  },
  {
   "cell_type": "markdown",
   "metadata": {},
   "source": [
    "#### 問題"
   ]
  },
  {
   "cell_type": "markdown",
   "metadata": {
    "id": "question"
   },
   "source": [
    "- 以下の「」に当てはまる言葉の組み合わせを、以下から選びましょう。\n",
    "- PR曲線は、横軸に「」、縦軸に「」をとります。"
   ]
  },
  {
   "cell_type": "markdown",
   "metadata": {
    "id": "choices"
   },
   "source": [
    "- 「再現率」「表現率」\n",
    "- 「表現率」「再現率」\n",
    "- 「再現率」「適合率」\n",
    "- 「適合率」「再現率」"
   ]
  },
  {
   "cell_type": "markdown",
   "metadata": {
    "id": "hint"
   },
   "source": [
    "- PR曲線とは、横軸を再現率、縦軸を適合率として、データをプロットしたグラフを表したものです。"
   ]
  },
  {
   "cell_type": "markdown",
   "metadata": {},
   "source": [
    "#### 解答"
   ]
  },
  {
   "cell_type": "markdown",
   "metadata": {
    "id": "answer"
   },
   "source": [
    "「再現率」「適合率」"
   ]
  },
  {
   "cell_type": "markdown",
   "metadata": {},
   "source": [
    "***"
   ]
  },
  {
   "cell_type": "markdown",
   "metadata": {
    "courseId": 2010,
    "exerciseId": "SyQgthUi8ez",
    "id": "quiz_session_name",
    "important": true,
    "isDL": false,
    "timeoutSecs": 5
   },
   "source": [
    "### 3.2.3 PR曲線を用いたモデルの評価"
   ]
  },
  {
   "cell_type": "markdown",
   "metadata": {
    "id": "description"
   },
   "source": [
    "　まず、適合率と再現率について別の見方をしてみましょう。前項の癌検診における例を、ビジネスにおける、全顧客の中から優先してアプローチすべき優良顧客を判定する問題に置き換えます。優良顧客であると予想した顧客と、本当の優良顧客に分かれます。つまり以下のようになります。\n",
    " \n",
    "- 適合率(Precision)が高く、再現率(Recall)が低い状態\n",
    "  無駄は少ないが，取りこぼしの多い判定になっている状態と言えます。つまり機会損失が生じていると言えます。\n",
    "  \n",
    "- 適合率(Precision)が低く、再現率(Recall)が高い状態\n",
    "  取りこぼしが少ないが，無駄撃ちが多い判定になっている状態と言えます。つまりアプローチの予算が無駄になる可能性が高いと言えます。\n",
    "\n",
    "\n",
    "  　適合率も再現率も高いに越したことはありません。ですが、 **トレードオフの関係のため、どちらかを上げようとするとどちらかが下がってしまいます。** しかし、PR曲線には適合率と再現率が一致する点が存在します。この点を、 **ブレークイーブンポイント(BEP)** と呼びます。この点では、適合率と再現率の関係をバランスよく保ったまま、コストと利益を最適化できるので、ビジネスにおいては重要な点となっております。前々節で **F値** という評価指標に触れましたが、ブレークイーブンポイントも同じような概念と押さえておけばよいでしょう。\n",
    "   \n",
    "<img src=\"https://aidemyexcontentspic.blob.core.windows.net/contents-pic/2010_ml_introduction/img_3_50.png\" width=300/>\n",
    " \n",
    "  さて、PR曲線がかけたところで、PR曲線を用いたモデルの評価をしてみましょう。PR曲線によるモデルの優劣は以下のようになります。つまり、BEPが右上に遷移するほど良いモデルが構築できたと言えます。これは、BEPが右上に遷移するほど、適合率と再現率が同時に高くなるためです。\n",
    "\n",
    "<img src=\"https://aidemyexcontentspic.blob.core.windows.net/contents-pic/2010_ml_introduction/img_3_40.png\" width=300/>"
   ]
  },
  {
   "cell_type": "markdown",
   "metadata": {},
   "source": [
    "#### 問題"
   ]
  },
  {
   "cell_type": "markdown",
   "metadata": {
    "id": "question"
   },
   "source": [
    "- 以下の「」に当てはまる適切な言葉を選んでください。\n",
    "- PR曲線における、再現率と適合率が一致する点を「」と言います。"
   ]
  },
  {
   "cell_type": "markdown",
   "metadata": {
    "id": "choices"
   },
   "source": [
    "- 「ブレークノンイーブンポイント」\n",
    "- 「ブレークイーブンポイント」\n",
    "- 「ジョイントイーブンポイント」\n",
    "- 「ジョイントノンイーブンポイント」"
   ]
  },
  {
   "cell_type": "markdown",
   "metadata": {},
   "source": [
    "#### ヒント"
   ]
  },
  {
   "cell_type": "markdown",
   "metadata": {
    "id": "hint"
   },
   "source": [
    "略して「BEP」とと呼ぶ場合もあります。"
   ]
  },
  {
   "cell_type": "markdown",
   "metadata": {},
   "source": [
    "#### 解答"
   ]
  },
  {
   "cell_type": "markdown",
   "metadata": {
    "id": "answer"
   },
   "source": [
    "「ブレークイーブンポイント」"
   ]
  },
  {
   "cell_type": "markdown",
   "metadata": {},
   "source": [
    "***"
   ]
  },
  {
   "cell_type": "markdown",
   "metadata": {
    "exerciseId": "PCBU2NURR-",
    "id": "movie_session_name",
    "important": false,
    "isDL": false,
    "timeoutSecs": 10
   },
   "source": [
    "### 3.2.4 機械学習概論のまとめ"
   ]
  },
  {
   "cell_type": "markdown",
   "metadata": {
    "id": "description"
   },
   "source": [
    "- このコースのまとめ\n",
    "- 次にオススメのコース"
   ]
  },
  {
   "cell_type": "markdown",
   "metadata": {},
   "source": [
    "#### 問題"
   ]
  },
  {
   "cell_type": "markdown",
   "metadata": {
    "id": "question"
   },
   "source": [
    "- 次の動画をみてください。"
   ]
  },
  {
   "cell_type": "code",
   "execution_count": null,
   "metadata": {
    "id": "movielink",
    "scrolled": true
   },
   "outputs": [],
   "source": [
    "https://www.youtube.com/embed/vOfgCL1VLMg"
   ]
  },
  {
   "cell_type": "markdown",
   "metadata": {},
   "source": [
    "***"
   ]
  },
  {
   "cell_type": "markdown",
   "metadata": {
    "id": "chapter_exam"
   },
   "source": [
    "## 添削問題"
   ]
  },
  {
   "cell_type": "markdown",
   "metadata": {
    "id": "description"
   },
   "source": [
    "chapter3で学んだ知識を総結集して挑んでみましょう。空白に当てはまる語句をそれぞれ考えてください。"
   ]
  },
  {
   "cell_type": "markdown",
   "metadata": {
    "id": "question"
   },
   "source": [
    "- 混同行列は、要素として「1.」「2.」「3.」「4.」からなる正方行列です。「1.」は「5.」と予測し、実際は「6.」である個数、「2.」は「7.」と予測し、実際は「8.」である個数、「3.」は「9.」と予測し、実際は「10.」である個数、「4.」は「11.」と予測し、実際は「12.」である個数をそれぞれ示します。また、性能評価指標として重要な適合率と再現率の式は以下のように表されます。\n",
    "\n",
    "$$\n",
    "\\begin{aligned}\n",
    "    再現率=\\frac{TP}{TP+(13.)}\n",
    "\\end{aligned}\n",
    "$$\n",
    "  \n",
    "$$\n",
    "\\begin{aligned}\n",
    "    適合率=\\frac{TP}{TP+(14.)}\n",
    "\\end{aligned}\n",
    "$$\n",
    "\n",
    "- 横軸に「15.」、縦軸に「16.」をとったグラフを「17.」と呼びます。また、ビジネスの観点から見ると、「17.」の中で利益とコストをバランスよく最適化できる点を「18.」と呼びます。\n",
    "\n"
   ]
  },
  {
   "cell_type": "markdown",
   "metadata": {
    "id": "index"
   },
   "source": [
    "#### ヒント"
   ]
  },
  {
   "cell_type": "markdown",
   "metadata": {
    "id": "hint"
   },
   "source": [
    "- どの語句も、このchapter3で学んだ語句なので、わからない場合は復習しましょう。"
   ]
  },
  {
   "cell_type": "markdown",
   "metadata": {},
   "source": [
    "#### 解答"
   ]
  },
  {
   "cell_type": "markdown",
   "metadata": {
    "id": "answer"
   },
   "source": [
    "- 混同行列は、要素として「真陽性」「偽陽性」「偽陰性」「真陰性」からなる正方行列です。「真陽性」は「陽性」と予測し、実際は「陽性」であるデータ数、「偽陽性」は「陽性」と予測し、実際は「陰性」であるデータ数、「偽陰性」は「陰性」と予測し、実際は「陽性」であるデータ数、「真陰性」は「陰性」と予測し、実際は「陰性」であるデータ数をそれぞれ示します。また、性能評価指標として重要な適合率と再現率の式は以下のように表されます。"
   ]
  },
  {
   "cell_type": "markdown",
   "metadata": {
    "id": "answer"
   },
   "source": [
    "\\begin{aligned}\n",
    "    再現率=\\frac{TP}{TP+(FN)} \\\\\n",
    "\\end{aligned}\n",
    "  \n",
    "\\begin{aligned}\n",
    "    適合率=\\frac{TP}{TP+(FP)} \\\\\n",
    "\\end{aligned}"
   ]
  },
  {
   "cell_type": "markdown",
   "metadata": {
    "id": "answer"
   },
   "source": [
    "- 横軸に「再現率」、縦軸に「適合率」をとったグラフを「PR曲線」と呼びます。また、ビジネスの観点から見ると、「PR曲線」の中で利益とコストをバランスよく最適化できる点を「ブレークイーブンポイント(BEP)」と呼びます。\n",
    "\n",
    "<番号ごとの答え>\n",
    "1. 真陽性\n",
    "1. 偽陽性\n",
    "1. 偽陰性\n",
    "1. 真陰性\n",
    "1. 陽性\n",
    "1. 陽性\n",
    "1. 陽性\n",
    "1. 陰性\n",
    "1. 陰性\n",
    "1. 陽性\n",
    "1. 陰性\n",
    "1. 陰性\n",
    "1. FN\n",
    "1. FP\n",
    "1. 再現率\n",
    "1. 適合率\n",
    "1. PR曲線\n",
    "1. ブレークイーブンポイント（BEP）"
   ]
  },
  {
   "cell_type": "markdown",
   "metadata": {},
   "source": [
    "---"
   ]
  }
 ],
 "metadata": {
  "celltoolbar": "Edit Metadata",
  "kernelspec": {
   "display_name": "Python 3",
   "language": "python",
   "name": "python3"
  },
  "language_info": {
   "codemirror_mode": {
    "name": "ipython",
    "version": 3
   },
   "file_extension": ".py",
   "mimetype": "text/x-python",
   "name": "python",
   "nbconvert_exporter": "python",
   "pygments_lexer": "ipython3",
   "version": "3.7.0"
  },
  "toc": {
   "base_numbering": 1,
   "nav_menu": {},
   "number_sections": true,
   "sideBar": true,
   "skip_h1_title": false,
   "title_cell": "Table of Contents",
   "title_sidebar": "Contents",
   "toc_cell": false,
   "toc_position": {
    "height": "calc(100% - 180px)",
    "left": "10px",
    "top": "150px",
    "width": "261.188px"
   },
   "toc_section_display": true,
   "toc_window_display": true
  },
  "varInspector": {
   "cols": {
    "lenName": 16,
    "lenType": 16,
    "lenVar": 40
   },
   "kernels_config": {
    "python": {
     "delete_cmd_postfix": "",
     "delete_cmd_prefix": "del ",
     "library": "var_list.py",
     "varRefreshCmd": "print(var_dic_list())"
    },
    "r": {
     "delete_cmd_postfix": ") ",
     "delete_cmd_prefix": "rm(",
     "library": "var_list.r",
     "varRefreshCmd": "cat(var_dic_list()) "
    }
   },
   "types_to_exclude": [
    "module",
    "function",
    "builtin_function_or_method",
    "instance",
    "_Feature"
   ],
   "window_display": false
  }
 },
 "nbformat": 4,
 "nbformat_minor": 2
}
