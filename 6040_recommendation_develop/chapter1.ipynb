{
 "cells": [
  {
   "cell_type": "markdown",
   "metadata": {
    "id": "chapter_name"
   },
   "source": [
    "#  レコメンデーション応用\n"
   ]
  },
  {
   "cell_type": "markdown",
   "metadata": {
    "id": "table"
   },
   "source": [
    "- **[1.1 概要](#1.1-概要)**\n",
    "    - **[1.1.1 検索エンジン作成の手順](#1.1.1-検索エンジン作成の手順)**\n",
    "    - **[1.1.2 Webページの情報を入手する。](#1.1.2-Webページの情報を入手する。)**\n",
    "    - **[1.1.3 htmlのタグ情報の取得する。](#1.1.3-htmlのタグ情報の取得する。)**\n",
    "    - **[1.1.4 タグの属性の取得する。](#1.1.4-タグの属性の取得する。)**\n",
    "    - **[1.1.5 クローラーを作成する。](#1.1.5-クローラーを作成する。)**\n",
    "<br><br>\n",
    "- **[1.2 SQLの使い方を学ぶ](#1.2-SQLの使い方を学ぶ)**\n",
    "    - **[1.2.1 SQLの概要](#1.2.1-SQLの概要)**\n",
    "    - **[1.2.2 テーブルの作成と値の代入](#1.2.2-テーブルの作成と値の代入)**\n",
    "    - **[1.2.3 テーブルからデータを取り出す。](#1.2.3-テーブルからデータを取り出す。)**\n",
    "    - **[1.2.4 検索エンジン作成に必要なテーブルを作成する。](#1.2.4-検索エンジン作成に必要なテーブルを作成する。)**\n",
    "<br><br>\n",
    "- **[1.3 文章を単語に分ける。](#1.3-文章を単語に分ける。)**\n",
    "    - **[1.3.1 htmlから文章のみを抽出する。](#1.3.1-htmlから文章のみを抽出する。)**\n",
    "    - **[1.3.2 正規表現](#1.3.2-正規表現)**\n",
    "    - **[1.3.3 正規表現でコンパイルする。](#1.3.3-正規表現でコンパイルする。)**\n",
    "<br><br>\n",
    "- **[1.5 添削問題](#1.5-添削問題)**"
   ]
  },
  {
   "cell_type": "markdown",
   "metadata": {},
   "source": [
    "***"
   ]
  },
  {
   "cell_type": "markdown",
   "metadata": {
    "id": "section_name"
   },
   "source": [
    "## 1.1 概要"
   ]
  },
  {
   "cell_type": "markdown",
   "metadata": {
    "id": "quiz_session_name"
   },
   "source": [
    "### 1.1.1 検索エンジン作成の手順"
   ]
  },
  {
   "cell_type": "markdown",
   "metadata": {},
   "source": [
    "レコメンデーションの発展では３章かけて検索エンジンを作成していきます。   \n",
    "検索エンジンはページに含まれる単語や単語の位置から検索したい内容に最も適したものをレコメンドするシステムです。   \n",
    "最も有名なものに私たちがほぼ毎日使っているであろうGoogleの検索フォームがあります。    \n",
    "実装方法としては文章からすべての単語を抜き出し、抜き出したものをキーとして検索をする転置インデックスと呼ばれる方式をとります。   \n",
    "レコメンデーションにおける分類としては、今回はページの情報のみを利用するのでコンテンツベースになります。\n",
    "\n",
    "\n",
    "レコメンデーション応用では検索用のデータをスクレイピングにより入手するところから、最も推薦度の高いURLを示すところまで実装します。 \n",
    "検索エンジン制作の大まかな流れは次のようになっています。   \n",
    "\n",
    "1. Webページよりデータを入手して、データセットを作成する。   \n",
    "2. データセットをsqlを用いてデータベースに保存する。\n",
    "3. データベースから検索した単語に適応するサイトのURLを表示できるようにする。   \n",
    "4. 表示の優先順位をデータから分析する。\n",
    "5. 推薦度の高いURLを表示する。\n",
    "\n",
    "このコンテンツでは   \n",
    "- スクレイピングの方法\n",
    "- データベースの一つであるSQLの使い方\n",
    "- クラスの使い方\n",
    "- 正規表現の使い方\n",
    "\n",
    "も必要な知識として学びます。"
   ]
  },
  {
   "cell_type": "markdown",
   "metadata": {},
   "source": [
    "#### 問題"
   ]
  },
  {
   "cell_type": "markdown",
   "metadata": {
    "id": "question"
   },
   "source": [
    "- 次のうち間違っているものはどれでしょう？\n",
    "\n",
    "\n",
    "1. 検索エンジンの優先順位を決めるアルゴリズムは何度も改良されてきた。\n",
    "2. すべての検索エンジンはコンテンツベースである。\n",
    "3. 検索エンジンは個人で作ることが可能である。"
   ]
  },
  {
   "cell_type": "markdown",
   "metadata": {},
   "source": [
    "#### ヒント"
   ]
  },
  {
   "cell_type": "markdown",
   "metadata": {
    "id": "hint"
   },
   "source": [
    "- Googleでは2003年ごろから検索エンジンに様々なアップグレードをしてきました。\n",
    "- 一般に人気のあるWEBページは上に表示されます。"
   ]
  },
  {
   "cell_type": "markdown",
   "metadata": {},
   "source": [
    "#### 解答"
   ]
  },
  {
   "cell_type": "markdown",
   "metadata": {
    "collapsed": true
   },
   "source": [
    "すべての検索エンジンはコンテンツベースである。"
   ]
  },
  {
   "cell_type": "markdown",
   "metadata": {},
   "source": [
    "***"
   ]
  },
  {
   "cell_type": "markdown",
   "metadata": {
    "id": "code_session_name"
   },
   "source": [
    "### 1.1.2 Webページの情報を入手する。"
   ]
  },
  {
   "cell_type": "markdown",
   "metadata": {
    "id": "description"
   },
   "source": [
    "検索する対象となるWebサイトのデータをデータスクレイピングにより取得します。   \n",
    "プログラムがインターネット上のリンクを辿ってWebサイトを巡回し、Webページ上の情報を保存することをクローリングといいます。   \n",
    "今回検索エンジンを作るにあたって、クローリングするための手順は、   \n",
    "1. 出発点となるURLをあらかじめプログラムに入力しておく。   \n",
    "2. 出発点のURLに貼られているリンクから新しくURLの情報を入手する。   \n",
    "3. 2.で入手したURLを重複なくまとめ、順番にWEBページの文章をスクレイピングしていく。   \n",
    "\n",
    "となります。   \n",
    "\n",
    "ここではスクレイピングの方法をおさらいしましょう。   \n",
    "\n",
    "スクレイピングには、   \n",
    "- urllib   \n",
    "- BeautifulSoup   \n",
    "\n",
    "というモジュールを使用します。   \n",
    "urllibはURLからWEBページのhtmlを取得するためのライブラリであり、BeautifulSoupはurllibにより取得した情報を操作するためのものです。   \n",
    "スクレイピングした情報は基本的にBeautifulSoupの型であるbs4.BeautifulSoupクラスを用いて操作します。\n",
    "\n",
    "```python\n",
    "import urllib.request\n",
    "from bs4 import BeautifulSoup\n",
    "\n",
    "html = urllib.request.urlopen(\"スクレイピングしたいurl\")\n",
    "soup = BeautifulSoup(html, \"html.parser\")\n",
    "\n",
    "print(soup.text)\n",
    "```\n",
    "\n",
    "とすることによってスクレイピングしたページの本文を入手することができます。   \n",
    "コードに新しく出てきたメソッドがあるので紹介します。   \n",
    "- urlopen  :    \n",
    "URLからWebページのhtmlを取得します。\n",
    "\n",
    "\n",
    "- BeautifulSoup :    \n",
    "htmlをbs4.BeautifulSoupクラスに変換します。第二引数にはパーサを設定します。   \n",
    "パーサとはデータをプログラムで操作できるようなデータ構造に変換するための処理をする部分のことで、htmlでは通常 html.parser が利用されます。\n",
    "\n",
    "\n"
   ]
  },
  {
   "cell_type": "markdown",
   "metadata": {},
   "source": [
    "#### 問題"
   ]
  },
  {
   "cell_type": "markdown",
   "metadata": {
    "id": "question"
   },
   "source": [
    "- 次のURLはwikipediaにおけるpythonのページのURLです。\n",
    "- 次のURLにアクセスして、本文をスクレイピングしてください。"
   ]
  },
  {
   "cell_type": "code",
   "execution_count": null,
   "metadata": {
    "id": "index"
   },
   "outputs": [],
   "source": [
    "# 必要なライブラリをimportしてください。\n",
    "\n",
    "url = \"https://ja.wikipedia.org/wiki/Python\"\n",
    "\n",
    "# 本文を出力してください。\n",
    "\n",
    "\n",
    "print(soup.text)"
   ]
  },
  {
   "cell_type": "markdown",
   "metadata": {},
   "source": [
    "#### ヒント"
   ]
  },
  {
   "cell_type": "markdown",
   "metadata": {
    "id": "hint"
   },
   "source": [
    "- htmlの取得にはurllib.request.urlopen()を使いましょう。"
   ]
  },
  {
   "cell_type": "markdown",
   "metadata": {},
   "source": [
    "#### 解答例"
   ]
  },
  {
   "cell_type": "code",
   "execution_count": null,
   "metadata": {},
   "outputs": [],
   "source": [
    "# 必要なライブラリをimportしてください。\n",
    "import urllib.request\n",
    "from bs4 import BeautifulSoup\n",
    "\n",
    "url = \"https://ja.wikipedia.org/wiki/Python\"\n",
    "\n",
    "# 本文を出力してください。\n",
    "html = urllib.request.urlopen(url)\n",
    "soup = BeautifulSoup(html, \"html.parser\")\n",
    "\n",
    "print(soup.text)"
   ]
  },
  {
   "cell_type": "markdown",
   "metadata": {},
   "source": [
    "***"
   ]
  },
  {
   "cell_type": "markdown",
   "metadata": {
    "id": "code_session_name"
   },
   "source": [
    "### 1.1.3 htmlのタグ情報の取得する。"
   ]
  },
  {
   "cell_type": "markdown",
   "metadata": {
    "id": "description"
   },
   "source": [
    "スクレイピングするにあたってhtmlの構造をすこし学びましょう。   \n",
    "\n",
    "\n",
    "htmlをスクレイピングするさいタグというものが大切になります。   \n",
    "タグはWebページの情報がどのような性質を持っているかを表します。   \n",
    "例えば、aのタグには他のURLへのリンクとリンクするための文章が入っています。   \n",
    "divのタグには段落にされた文章やaタグなどのまとまりが入っています。  \n",
    "このほかにもタグはたくさんあるので実際に自分でスクレイピングがしてみたい！と思った時などは調べてみてください。   \n",
    "\n",
    "BeautifulSoupではこのタグを指定してデータを取得することができます。   \n",
    "\n",
    "aタグの情報を入手するコードは以下のようになります。   \n",
    "```python\n",
    "import urllib.request\n",
    "from bs4 import BeautifulSoup\n",
    "\n",
    "html = urllib.request.urlopen(\"スクレイピングしたいurl\")\n",
    "soup = BeautifulSoup(html, \"html.parser\")\n",
    "links = soup.find_all('a')\n",
    "\n",
    "for link in links:\n",
    "    print(link)\n",
    "```\n",
    "タグの情報を入手するためのメソッドとしては以下のものが使えます。   \n",
    "- find_all() :   \n",
    "指定したタグすべての内容を取得します。取得した情報はリストの形で保存されます。    \n",
    "- find() :   \n",
    "指定したタグで最も初めのものの内容を取得します。   "
   ]
  },
  {
   "cell_type": "markdown",
   "metadata": {},
   "source": [
    "#### 問題"
   ]
  },
  {
   "cell_type": "markdown",
   "metadata": {
    "id": "question"
   },
   "source": [
    "- 以下のURLからリンクの情報を取得してください。   "
   ]
  },
  {
   "cell_type": "code",
   "execution_count": null,
   "metadata": {
    "collapsed": true,
    "id": "index"
   },
   "outputs": [],
   "source": [
    "import urllib.request\n",
    "from bs4 import BeautifulSoup\n",
    "\n",
    "url = \"https://ja.wikipedia.org/wiki/Python\"\n",
    "html = urllib.request.urlopen(url)\n",
    "soup = BeautifulSoup(html, \"html.parser\")\n",
    "\n",
    "# aタグの情報を入手して表示してください。\n",
    "\n"
   ]
  },
  {
   "cell_type": "markdown",
   "metadata": {},
   "source": [
    "#### ヒント"
   ]
  },
  {
   "cell_type": "markdown",
   "metadata": {
    "id": "hint"
   },
   "source": [
    "- aタグの情報を入手するには.find_all()が使えます。\n",
    "- .find_all()で入手した内容はリストの形になっているので表示するときはfor文を使いましょう。"
   ]
  },
  {
   "cell_type": "markdown",
   "metadata": {},
   "source": [
    "#### 解答例"
   ]
  },
  {
   "cell_type": "code",
   "execution_count": null,
   "metadata": {
    "id": "index"
   },
   "outputs": [],
   "source": [
    "import urllib.request\n",
    "from bs4 import BeautifulSoup\n",
    "\n",
    "url = \"https://ja.wikipedia.org/wiki/Python\"\n",
    "html = urllib.request.urlopen(url)\n",
    "soup = BeautifulSoup(html, \"html.parser\")\n",
    "\n",
    "# aタグの情報を入手して表示してください。\n",
    "links = soup.find_all('a')\n",
    "for link in links:\n",
    "    print(link)"
   ]
  },
  {
   "cell_type": "markdown",
   "metadata": {},
   "source": [
    "***"
   ]
  },
  {
   "cell_type": "markdown",
   "metadata": {
    "id": "code_session_name"
   },
   "source": [
    "### 1.1.4 タグの属性の取得する。"
   ]
  },
  {
   "cell_type": "markdown",
   "metadata": {
    "id": "description"
   },
   "source": [
    "タグの中には様々な情報が含まれています。   \n",
    "aタグの情報を見てみると、<br>\n",
    "```python\n",
    "<a class=\"image new\" href=\"https://www.********\" title=\"サンプルタイトル\"></a>\n",
    "```\n",
    "このような class や href を属性といいます。  \n",
    "属性にもそれぞれ意味がありhrefにはリンクが代入されています。   \n",
    " **[1.1.3](#1.1.3-htmlのタグ情報の取得する。)**のようにスクレイピングするとき属性も指定することによってより細かくデータを取得できます。   \n",
    "```python\n",
    "# 取得したデータから特定の属性を入手したいとき\n",
    "print(link['href'])\n",
    "print()\n",
    "# 取得したデータからすべての属性を入手したいとき\n",
    "print(link.attrs)\n",
    "```\n",
    "出力   \n",
    "```\n",
    "https://www.********\n",
    "\n",
    "{'href': 'https://www.********', 'class': ['image', 'new'], 'title': 'サンプルタイトル'}\n",
    "```   \n",
    "\n",
    "実際にWebページから抜き出したい情報を探しタグ・属性を調べたいときは調べたい項目の上で右クリックをして検証をクリックすることでその文章のhtmlの情報をみることができます。"
   ]
  },
  {
   "cell_type": "markdown",
   "metadata": {},
   "source": [
    "#### 問題"
   ]
  },
  {
   "cell_type": "markdown",
   "metadata": {
    "id": "question"
   },
   "source": [
    "- URLからhrefが設定されているaタグを抜き出して、リンクをリストにして表示してください。"
   ]
  },
  {
   "cell_type": "code",
   "execution_count": null,
   "metadata": {
    "collapsed": true,
    "id": "index"
   },
   "outputs": [],
   "source": [
    "import urllib.request\n",
    "from bs4 import BeautifulSoup\n",
    "\n",
    "url = \"https://ja.wikipedia.org/wiki/Python\"\n",
    "html = urllib.request.urlopen(url)\n",
    "soup = BeautifulSoup(html, \"html.parser\")\n",
    "# 以下を埋めてリンクをリストにして表示してください。\n",
    "\n"
   ]
  },
  {
   "cell_type": "markdown",
   "metadata": {},
   "source": [
    "#### ヒント"
   ]
  },
  {
   "cell_type": "markdown",
   "metadata": {
    "id": "hint"
   },
   "source": [
    "- href にはリンクが入っています。"
   ]
  },
  {
   "cell_type": "markdown",
   "metadata": {},
   "source": [
    "#### 解答例"
   ]
  },
  {
   "cell_type": "code",
   "execution_count": null,
   "metadata": {
    "id": "index"
   },
   "outputs": [],
   "source": [
    "import urllib.request\n",
    "from bs4 import BeautifulSoup\n",
    "\n",
    "url = \"https://ja.wikipedia.org/wiki/Python\"\n",
    "html = urllib.request.urlopen(url)\n",
    "soup = BeautifulSoup(html, \"html.parser\")\n",
    "\n",
    "# 以下を埋めてリンクをリストにして表示してください。\n",
    "links = soup.find_all('a')\n",
    "link_list = []\n",
    "for link in links:\n",
    "    if 'href' in link.attrs :\n",
    "        link_list.append(link['href'])\n",
    "\n",
    "print(link_list)"
   ]
  },
  {
   "cell_type": "markdown",
   "metadata": {},
   "source": [
    "***"
   ]
  },
  {
   "cell_type": "markdown",
   "metadata": {
    "id": "code_session_name"
   },
   "source": [
    "### 1.1.5 クローラーを作成する。"
   ]
  },
  {
   "cell_type": "markdown",
   "metadata": {
    "id": "description"
   },
   "source": [
    "クローラーを作成する手順は、   \n",
    "1. 出発点となるURLをあらかじめプログラムに入力しておく。   \n",
    "2. 出発点のURLに貼られているリンクから新しくURLの情報を入手する。   \n",
    "3. 2.で入手したURLを重複なくまとめ、順番にWEBページの文章をスクレイピングしていく。   \n",
    "\n",
    "この手順に従ってクローラーを作成してみましょう。   \n",
    "<br>\n",
    "クローラーを作成する前にURLについて少し学びましょう。   \n",
    "URLには相対URLと絶対URLがあります。   \n",
    "相対URLとは完全なURLではなく、そのWEBページの情報を利用したURL(元のページの情報を表すURLを基底URLといいます。)です。そのため相対URLはすべての情報がそろっているわけではありません。   \n",
    "絶対URLとは今どこにいるかは関係ない、完成されたURLです。   \n",
    "\n",
    "相対URLを絶対URLにするためにはurllib.parse.urljoin()を使いましょう。   \n",
    "urllib.parse.urljoin(元になるurl,相対url)で基底URLから相対URLlに足りない情報を補完して絶対URLを作成することができます。   \n",
    "<br>\n",
    "URLには#がつくことがあります。   \n",
    "これをアンカーリンクといいます。   \n",
    "URLは基本的にページの先頭にリンクしますがアンカーリンクを設定することでページの好きな位置にアクセスすることができます。   \n"
   ]
  },
  {
   "cell_type": "markdown",
   "metadata": {},
   "source": [
    "#### 問題"
   ]
  },
  {
   "cell_type": "markdown",
   "metadata": {
    "id": "question"
   },
   "source": [
    "- クローラー作成の手順を参考にして、クローラーを作成しましょう。   \n",
    "- 初めのURLからそこでリンクされているURLを入手してください。\n",
    "- 入手したURLにアクセスし、そこでリンクされているURLも入手してください。   \n",
    "- 入手したURLはすべてpages_listにまとめてください。"
   ]
  },
  {
   "cell_type": "code",
   "execution_count": null,
   "metadata": {
    "id": "index"
   },
   "outputs": [],
   "source": [
    "import urllib.request\n",
    "from bs4 import BeautifulSoup\n",
    "\n",
    "\n",
    "def crawl(pages,depth=2):\n",
    "    for i in range(depth):\n",
    "        # newpagesを初期化してください。\n",
    "        newpages = \n",
    "        pages_list = pages\n",
    "        for page in pages:\n",
    "            print(page)\n",
    "            count = 0\n",
    "            # 確認のため入手したpageを出力します。実装には必要ないです。\n",
    "            try:\n",
    "                html = urllib.request.urlopen(page)\n",
    "            except:\n",
    "                print('こちらのURLは開けませんでした : %s' % page)\n",
    "                continue\n",
    "            # aタグの情報のリストをlinksにいれてください。\n",
    "            \n",
    "            \n",
    "            for count,link in enumerate(links):\n",
    "                if ('href' in link.attrs):\n",
    "                    # 相対URLを絶対URLに変換してください。\n",
    "                    \n",
    "                    # アンカーリンクを取り除いてください。\n",
    "                    \n",
    "                    # この先のSQLを学ぶ関係でURLに'のつくものは追加できません。ここで取り除きます。\n",
    "                    if url.find(\"'\") != -1:\n",
    "                                continue\n",
    "                    # 先頭がhttpであり、まだ追加されていないもののみを追加します。\n",
    "                    if url[0:4] == 'http' and not url in (pages_list):\n",
    "                        newpages.add(url)\n",
    "                    # 時間がかかってしまうので追加するurlははじめの10個に制限します。\n",
    "                    if count > 10:\n",
    "                        break\n",
    "            #　pagesを更新してください。\n",
    "            \n",
    "            pages_list = pages_list | pages\n",
    "    return pages_list\n",
    "            \n",
    "url = {'https://ja.wikipedia.org/wiki/Python'}\n",
    "pages_list = crawl(url)\n",
    "print(pages_list)"
   ]
  },
  {
   "cell_type": "markdown",
   "metadata": {},
   "source": [
    "#### ヒント"
   ]
  },
  {
   "cell_type": "markdown",
   "metadata": {
    "id": "hint"
   },
   "source": [
    "- depthはURLをどこまで深く探索するかということになります。\n",
    "- tryの中でエラーが出た場合、実行終了にはならずexceptにとびます。\n",
    "- アンカーリンクの場合アンカーの直前までがそのWEBページのURLになります。\n",
    "- SQL文の関係で ' は取り除いてください。詳しい説明は2.1.2にてします。"
   ]
  },
  {
   "cell_type": "markdown",
   "metadata": {},
   "source": [
    "#### 解答例"
   ]
  },
  {
   "cell_type": "code",
   "execution_count": null,
   "metadata": {},
   "outputs": [],
   "source": [
    "import urllib.request\n",
    "from bs4 import BeautifulSoup\n",
    "\n",
    "\n",
    "def crawl(pages,depth=2):\n",
    "    for i in range(depth):\n",
    "        # newpagesを初期化してください。\n",
    "        newpages = set()\n",
    "        pages_list = pages\n",
    "        for page in pages:\n",
    "            print(page)\n",
    "            count = 0\n",
    "            # 確認のため入手したpageを出力します。実装には必要ないです。\n",
    "            try:\n",
    "                html = urllib.request.urlopen(page)\n",
    "            except:\n",
    "                print('こちらのURLは開けませんでした : %s' % page)\n",
    "                continue\n",
    "            # aタグの情報のリストをlinksにいれてください。\n",
    "            soup = BeautifulSoup(html, \"html.parser\")\n",
    "            links = soup.find_all('a')\n",
    "            for link in links:\n",
    "                if ('href' in link.attrs):\n",
    "                    # 相対URLを絶対URLに変換してください。\n",
    "                    url = urllib.parse.urljoin(page, link['href'])\n",
    "                    # アンカーリンクを取り除いてください。\n",
    "                    url = url.split('#')[0]\n",
    "                    # 'のつくものを取り除いています。\n",
    "                    if url.find(\"'\") != -1:\n",
    "                                continue\n",
    "                    # 先頭がhttpであり、まだ追加されていないもののみを追加します。\n",
    "                    if url[0:4] == 'http' and not url in (pages_list):\n",
    "                        newpages.add(url)\n",
    "                    count += 1\n",
    "                    if count > 10:\n",
    "                        break\n",
    "            #　pagesを更新してください。\n",
    "            pages = newpages\n",
    "            pages_list = pages_list | pages\n",
    "    return pages_list\n",
    "            \n",
    "url = {'https://ja.wikipedia.org/wiki/Python'}\n",
    "pages_list = crawl(url)\n",
    "print(pages_list)"
   ]
  },
  {
   "cell_type": "markdown",
   "metadata": {},
   "source": [
    "***"
   ]
  },
  {
   "cell_type": "markdown",
   "metadata": {
    "id": "section_name"
   },
   "source": [
    "## 1.2 SQLの使い方を学ぶ"
   ]
  },
  {
   "cell_type": "markdown",
   "metadata": {
    "id": "quiz_session_name"
   },
   "source": [
    "### 1.2.1 SQLの概要"
   ]
  },
  {
   "attachments": {
    "%E3%82%B9%E3%82%AF%E3%83%AA%E3%83%BC%E3%83%B3%E3%82%B7%E3%83%A7%E3%83%83%E3%83%88%20%2854%29.png": {
     "image/png": "[encoded data removed]"
    }
   },
   "cell_type": "markdown",
   "metadata": {
    "id": "description"
   },
   "source": [
    "SQLとはデータを管理するデータベース言語のひとつです。   \n",
    "SQLを使うことによって処理したデータの保存・出力が簡単にできます。  \n",
    "分析しやすくするため、スクレイピングした結果をデータベースに保存しましょう。\n",
    "\n",
    "今回はpythonでも使用できるsqlite3を利用します。   \n",
    "\n",
    "SQLではデータを一括でまとめたものをデータベースと呼びます。   \n",
    "データベースの中でそれぞれのデータを保存していくものをテーブルといいます。   \n",
    "\n",
    "データベースとテーブルの関係は次の図のようなものです。\n",
    "![%E3%82%B9%E3%82%AF%E3%83%AA%E3%83%BC%E3%83%B3%E3%82%B7%E3%83%A7%E3%83%83%E3%83%88%20%2854%29.png](attachment:%E3%82%B9%E3%82%AF%E3%83%AA%E3%83%BC%E3%83%B3%E3%82%B7%E3%83%A7%E3%83%83%E3%83%88%20%2854%29.png)\n",
    "\n",
    "\n",
    "実際にpythonを使ってSQLのデータベースを操作する流れは次のようになります。     \n",
    "\n",
    "1. データベースを作成する。\n",
    "2. pythonをデータベースにつなげる。\n",
    "3. SQLでテーブルを作成する。\n",
    "4. テーブルにデータを入れる。\n",
    "5. テーブルからデータを取り出す。   \n",
    "<br>\n",
    "\n",
    "1 データベースの作成の方法について説明します。  \n",
    "```python\n",
    "# データベースの名前をtest.dbとします。\n",
    "dbname = \"test.db\"\n",
    "# データベースをつなげて,connを通じて操作できるようにします。\n",
    "conn = sqlite3.connect(dbname)\n",
    "```\n",
    "conn = sqlite3.connect(データベース名)とすることによって、データベースが存在していなければデータベースを作成し conn を操作することによって操作できるようになります。もともとデータベースが存在していればそのままつなげます。connの・ようなものをコネクションとよびます。   \n",
    "例では拡張子を.dbとしましたが、拡張子に決まりはなく好きなものをつけることができます。   \n",
    "\n",
    "プログラムを終了するときにはデータベースとの接続は閉じるようにしましょう。\n",
    "```python\n",
    "# つなげたデータベースを最後に閉じるにはclose()メソッドを使用します。\n",
    "conn.close()\n",
    "```"
   ]
  },
  {
   "cell_type": "markdown",
   "metadata": {},
   "source": [
    "#### 問題"
   ]
  },
  {
   "cell_type": "markdown",
   "metadata": {
    "id": "question"
   },
   "source": [
    "- sqlite3を用いてtest.dbという名前のデータベースを作成してください。"
   ]
  },
  {
   "cell_type": "code",
   "execution_count": null,
   "metadata": {
    "collapsed": true,
    "id": "choices"
   },
   "outputs": [],
   "source": [
    "# 必要なモジュールをimportしてください。\n",
    "\n",
    "\n",
    "# コネクションを作成してください。\n",
    "\n",
    "\n",
    "# コネクションを閉じてください。\n",
    "\n"
   ]
  },
  {
   "cell_type": "markdown",
   "metadata": {},
   "source": [
    "#### ヒント"
   ]
  },
  {
   "cell_type": "markdown",
   "metadata": {
    "id": "hint"
   },
   "source": [
    "- sqlite3の3をつけ忘れないように注意しましょう。"
   ]
  },
  {
   "cell_type": "markdown",
   "metadata": {},
   "source": [
    "#### 解答"
   ]
  },
  {
   "cell_type": "code",
   "execution_count": null,
   "metadata": {
    "collapsed": true
   },
   "outputs": [],
   "source": [
    "# 必要なモジュールをimportしてください。\n",
    "import sqlite3\n",
    "\n",
    "# コネクションを作成してください。\n",
    "dbname = \"test.db\"\n",
    "conn = sqlite3.connect(dbname)\n",
    "\n",
    "# コネクションを閉じてください。\n",
    "conn.close()"
   ]
  },
  {
   "cell_type": "markdown",
   "metadata": {},
   "source": [
    "***"
   ]
  },
  {
   "cell_type": "markdown",
   "metadata": {
    "id": "code_session_name"
   },
   "source": [
    "### 1.2.2 テーブルの作成と値の代入"
   ]
  },
  {
   "cell_type": "markdown",
   "metadata": {},
   "source": [
    "SQLにはpythonとは別にSQL文というSQL用のプログラミング言語が存在します。    \n",
    "pythonでSQLの操作をするときはこのSQL文をSQLに読み込ませて操作することになります。   \n",
    "pythonからSQLにSQL文で命令を出すとき、executeメソッドを使用します。   \n",
    "\n",
    "コネクション.execute(SQL文)\n",
    "\n",
    "テーブルにはカラムがありそれぞれに値を代入することができます。   \n",
    "最も基本的なSQL文である、テーブルの作成と値の代入を学びましょう。   \n",
    "\n",
    "\n",
    "```python\n",
    "# テーブルとカラムを作成します。   \n",
    "conn.execute(\"create table テーブル名(カラム１,カラム２,...)\")\n",
    "\n",
    "# カラムに値を代入します。\n",
    "conn.execute(\"insert into テーブル名 values(値１,値２,...)\")\n",
    "\n",
    "# 追加したデータを更新する。\n",
    "conn.commit()\n",
    "\n",
    "```\n",
    "テーブルの作成と代入は上のようなSQL文で実行することができます。   \n",
    "テーブルは一度作成してもう一度同じ名前で作成しようとするとエラーが出るので注意してください。   \n",
    "\n",
    "SQLで値を追加・削除したときにはcommit()メソッドを呼び出して反映させます。commit()をしなければ反映できないので注意してください。    \n",
    "<br><br>\n",
    "\n",
    "```python\n",
    "# テーブルの削除\n",
    "conn.execute(\"drop table if exists テーブル名\")\n",
    "```\n",
    "上のようにSQL文を実行するとテーブルを削除できます。   \n",
    "同じ名前のテーブルをもう一度作成したい場合、一度削除してから作成してください。   \n",
    "もちろん元のテーブルのデータは消えてしまうので注意してください。 <br>\n",
    "if existsをつけることによってテーブルが存在する場合のみ削除することができます。"
   ]
  },
  {
   "cell_type": "markdown",
   "metadata": {},
   "source": [
    "#### 問題"
   ]
  },
  {
   "cell_type": "markdown",
   "metadata": {
    "id": "question"
   },
   "source": [
    "- test.dbにつなげてtestという名前でテーブルを作成してください。   \n",
    "- testテーブルにa,b,cと３つのカラムを作成してください。\n",
    "- a,b,cにそれぞれ値1,2,3を入れてください。\n",
    "- 続けてa,b,cにそれぞれ値4,5,6を入れてください。"
   ]
  },
  {
   "cell_type": "code",
   "execution_count": null,
   "metadata": {
    "collapsed": true,
    "id": "index"
   },
   "outputs": [],
   "source": [
    "import sqlite3\n",
    "\n",
    "dbname = \"test.db\"\n",
    "conn = sqlite3.connect(dbname)\n",
    "# もしtestテーブルが作成されていれば削除しておきます。\n",
    "# 二度目以降dropの部分をコメントアウトして実行するとエラーが出てテーブルが作成できなくなることを確認してください。\n",
    "conn.execute(\"drop table test\")\n",
    "\n",
    "# テーブルを作成してください。\n",
    "\n",
    "# 1,2,3と値を追加してください。\n",
    "\n",
    "# 4,5,6と値を追加してください。\n",
    "\n",
    "# データの反映を行ってください。\n",
    "\n",
    "\n",
    "conn.close()"
   ]
  },
  {
   "cell_type": "markdown",
   "metadata": {},
   "source": [
    "#### ヒント"
   ]
  },
  {
   "cell_type": "markdown",
   "metadata": {
    "id": "hint"
   },
   "source": [
    "- executeのSQL文は\"\"でくくってください。''でも可能なのですが、あとの実装のことを考えて\"\"で統一します。\n",
    "- conn.commit()しないとデータは反映されません。"
   ]
  },
  {
   "cell_type": "markdown",
   "metadata": {},
   "source": [
    "#### 解答例"
   ]
  },
  {
   "cell_type": "code",
   "execution_count": null,
   "metadata": {
    "collapsed": true,
    "id": "answer"
   },
   "outputs": [],
   "source": [
    "import sqlite3\n",
    "\n",
    "dbname = \"test.db\"\n",
    "conn = sqlite3.connect(dbname)\n",
    "# もしtestテーブルが作成されていれば削除しておきます。\n",
    "# 二度目以降dropの部分をコメントアウトして実行するとエラーが出てテーブルが作成できなくなることを確認してください。\n",
    "conn.execute(\"drop table if exists test\")\n",
    "\n",
    "# テーブルを作成してください。\n",
    "conn.execute(\"create table test(a,b,c)\")\n",
    "# 1,2,3と値を追加してください。\n",
    "conn.execute(\"insert into test values(1,2,3)\")\n",
    "# 4,5,6と値を追加してください。\n",
    "conn.execute(\"insert into test values(4,5,6)\")\n",
    "# データの反映を行ってください。\n",
    "conn.commit()\n",
    "\n",
    "conn.close()"
   ]
  },
  {
   "cell_type": "markdown",
   "metadata": {},
   "source": [
    "***"
   ]
  },
  {
   "cell_type": "markdown",
   "metadata": {
    "id": "code_session_name"
   },
   "source": [
    "### 1.2.3 テーブルからデータを取り出す。"
   ]
  },
  {
   "cell_type": "markdown",
   "metadata": {
    "id": "description"
   },
   "source": [
    "テーブルからデータを取り出す方法について学びます。   \n",
    "テーブルからデータを取り出すにはselectメソッドを使用します。\n",
    "```python\n",
    "# select にてテーブルから値を取り出す。\n",
    "data = conn.execute(\"select カラム from テーブル名\")\n",
    "# selectにて取りだしたデータをリストにする。dataの型はSQLのものです。\n",
    "data_list = data.fetchall()\n",
    "print(data_list)\n",
    "```\n",
    "\n",
    ".fetchall()にてselectで該当するものをリストですべて抜き出します。   \n",
    "同様な使い方のできるものとしてfetchone()があり、これは一番上の要素を一つ抜き出します。   \n",
    "\n",
    "条件を選択してデータを抜き出したいときはwhereを用います。\n",
    "```python \n",
    "# testテーブルでカラムaの値が4のものだけを抜き出したいとき。\n",
    "data = conn.execute(\"select * from test where a = 4\").fetchall()\n",
    "```\n",
    "すべてのカラムを選択したいとき * を使うことで選択できます。"
   ]
  },
  {
   "cell_type": "markdown",
   "metadata": {},
   "source": [
    "#### 問題"
   ]
  },
  {
   "cell_type": "markdown",
   "metadata": {
    "id": "question"
   },
   "source": [
    "- test.dbからカラムbの値が5の行のカラムa,cの値を抜き出して出力してください。\n",
    " "
   ]
  },
  {
   "cell_type": "code",
   "execution_count": null,
   "metadata": {
    "collapsed": true,
    "id": "index"
   },
   "outputs": [],
   "source": [
    "import sqlite3\n",
    "\n",
    "dbname = \"test.db\"\n",
    "conn = sqlite3.connect(dbname)\n",
    "\n",
    "#  値を抜き出してください。\n",
    "\n",
    "\n",
    "conn.close()"
   ]
  },
  {
   "cell_type": "markdown",
   "metadata": {},
   "source": [
    "#### ヒント"
   ]
  },
  {
   "cell_type": "markdown",
   "metadata": {
    "id": "hint"
   },
   "source": [
    "- データは一つなので.fetchall()、.fetchone()どちらでもつかえます。\n",
    "- 一つ上でtest.dbの中に値を入れていないとうまく抜き出すことができません。うまく行かないときは1.2.2を実行してから行ってください。"
   ]
  },
  {
   "cell_type": "markdown",
   "metadata": {},
   "source": [
    "#### 解答例"
   ]
  },
  {
   "cell_type": "code",
   "execution_count": null,
   "metadata": {
    "collapsed": true,
    "id": "answer"
   },
   "outputs": [],
   "source": [
    "import sqlite3\n",
    "\n",
    "dbname = \"test.db\"\n",
    "conn = sqlite3.connect(dbname)\n",
    "\n",
    "#  値を抜き出してください。\n",
    "data = conn.execute(\"select a, c from test where b = 5\")\n",
    "data_list = data.fetchall()\n",
    "print(data_list)\n",
    "\n",
    "conn.close()"
   ]
  },
  {
   "cell_type": "markdown",
   "metadata": {},
   "source": [
    "***"
   ]
  },
  {
   "cell_type": "markdown",
   "metadata": {
    "id": "code_session_name"
   },
   "source": [
    "### 1.2.4 検索エンジン作成に必要なテーブルを作成する。"
   ]
  },
  {
   "cell_type": "markdown",
   "metadata": {
    "id": "description"
   },
   "source": [
    "今回の検索エンジンでは４つのテーブルを作成します。   \n",
    "urllist、wordlist、wordlocation、link   \n",
    "それぞれのテーブルには次のようなカラムを作成します。   \n",
    "\n",
    "- urllist   \n",
    "url : スクレイピングしたページのurlを保存する。   \n",
    "- wordlist   \n",
    "word : スクレイピングしたページ内の単語を保存する。   \n",
    "- wordlocation   \n",
    "url : wordのあったurlを保存する。   \n",
    "word : wordを保存する。   \n",
    "location : wordのあった位置を保存する。   \n",
    "- link   \n",
    "url_from : 参照したページのurlを保存する。   \n",
    "url_to : 参照先のページのurlを保存する。   \n",
    "\n",
    "wordlocation、linkは後ほどページの重みづけを行うときに使用します。   \n",
    "\n",
    "テーブルにはもともとrowidというものがあります。   \n",
    "pythonのindexのようなもので、値を代入した瞬間に割り振られます。   \n",
    "rowidを確認するには、\n",
    "```python\n",
    "conn, execute(\"select rowid from test\")\n",
    "```\n",
    "のようにrowidを指定すると受け取れます。"
   ]
  },
  {
   "cell_type": "markdown",
   "metadata": {},
   "source": [
    "#### 問題"
   ]
  },
  {
   "cell_type": "markdown",
   "metadata": {
    "id": "question"
   },
   "source": [
    "- 説明にあった4つのテーブルを作成してください。"
   ]
  },
  {
   "cell_type": "code",
   "execution_count": null,
   "metadata": {
    "collapsed": true,
    "id": "index"
   },
   "outputs": [],
   "source": [
    "import sqlite3\n",
    "\n",
    "def drop_all_table(conn):\n",
    "    conn.execute(\"drop table if exists urllist\")\n",
    "    conn.execute(\"drop table if exists wordlist\")\n",
    "    conn.execute(\"drop table if exists wordlocation\")\n",
    "    conn.execute(\"drop table if exists link\")\n",
    "    \n",
    "# 空欄を埋めてテーブルを作成する関数を完成させてください。\n",
    "def create_table(conn):\n",
    "    \n",
    "    \n",
    "    \n",
    "dbname = 'test.db'\n",
    "conn = sqlite3.connect(dbname)\n",
    "drop_all_table(conn)\n",
    "create_table(conn)\n",
    "conn.close()"
   ]
  },
  {
   "cell_type": "markdown",
   "metadata": {},
   "source": [
    "#### ヒント"
   ]
  },
  {
   "cell_type": "markdown",
   "metadata": {
    "id": "hint"
   },
   "source": [
    "- カラム名を間違えないように注意してください。"
   ]
  },
  {
   "cell_type": "markdown",
   "metadata": {},
   "source": [
    "#### 解答例\n"
   ]
  },
  {
   "cell_type": "code",
   "execution_count": null,
   "metadata": {
    "collapsed": true,
    "id": "answer"
   },
   "outputs": [],
   "source": [
    "import sqlite3\n",
    "\n",
    "def drop_all_table(conn):\n",
    "    conn.execute(\"drop table if exists urllist\")\n",
    "    conn.execute(\"drop table if exists wordlist\")\n",
    "    conn.execute(\"drop table if exists wordlocation\")\n",
    "    conn.execute(\"drop table if exists link\")\n",
    "    \n",
    "# 空欄を埋めてテーブルを作成する関数を完成させてください。\n",
    "def create_table(conn):\n",
    "    conn.execute(\"create table urllist(url)\")\n",
    "    conn.execute(\"create table wordlist(word)\")\n",
    "    conn.execute(\"create table wordlocation(url, word, location)\")\n",
    "    conn.execute(\"create table link(url_from, url_to)\")\n",
    "\n",
    "\n",
    "dbname = 'test.db'\n",
    "conn = sqlite3.connect(dbname)\n",
    "drop_all_table(conn)\n",
    "create_table(conn)\n",
    "conn.close()"
   ]
  },
  {
   "cell_type": "markdown",
   "metadata": {},
   "source": [
    "***"
   ]
  },
  {
   "cell_type": "markdown",
   "metadata": {
    "id": "section_name"
   },
   "source": [
    "## 1.3 文章を単語に分ける。"
   ]
  },
  {
   "cell_type": "markdown",
   "metadata": {
    "id": "quiz_session_name"
   },
   "source": [
    "### 1.3.1 htmlから文章のみを抽出する。"
   ]
  },
  {
   "cell_type": "markdown",
   "metadata": {
    "id": "description"
   },
   "source": [
    "BeautifulSoupよりスクレイピングしたデータから文章のみを抜き出していきます。      \n",
    "bs4.BeautifulSoupクラスから本文を取り出すのは三つのメソッドがあります。   \n",
    "1. .text :   \n",
    "htmlの文章をすべてstr型で取得します。   \n",
    "2. .string :   \n",
    "htmlでタグの中の要素が一つのみであれば本文を取得、複数あった場合はNoneを返します。   \n",
    "3. .contents :   \n",
    "htmlで初めの要素は本文を取り出し、その後はタグ付きでリストにまとめます。\n",
    "\n",
    "言葉だけの説明では少しわかりにくいと思うので、実際にhtmlから本文を読み込んでみて確認します。  \n",
    "\n",
    "```python\n",
    "from bs4 import BeautifulSoup\n",
    " \n",
    "html_data =\"\"\"\n",
    "<div>sample test</div>\n",
    "\n",
    "<div>sample <b>text</b></div>\n",
    "\n",
    "<div>sample <a href=\"https://sample_link\">sample_link </a><b>test</b></div>\n",
    "\"\"\"\n",
    "soup = BeautifulSoup( html, \"html.parser\" )\n",
    " \n",
    "divs = soup.findAll( \"div\" )\n",
    "for div in divs:\n",
    "    print( \"----------------------------------\")\n",
    "    print( \"元の要素: %s\" % div )\n",
    "    # textの出力\n",
    "    print( \"text: %s\" % div.text )\n",
    "    # stringの出力\n",
    "    print( \"string: %s\" % div.string )\n",
    "    # contentsの出力\n",
    "    print( \"contents: %s\" % div.contents)\n",
    "    \n",
    "```\n",
    "出力   \n",
    "```python\n",
    "----------------------------------\n",
    "元の要素: <div>sample test</div>\n",
    "text: sample test\n",
    "string: sample test\n",
    "contents: ['sample test']\n",
    "----------------------------------\n",
    "元の要素: <div>sample <b>text</b></div>\n",
    "text: sample text\n",
    "string: None\n",
    "contents: ['sample ', <b>text</b>]\n",
    "----------------------------------\n",
    "元の要素: <div>sample <a href=\"https://sample_link\">sample_link</a><b>test</b></div>\n",
    "text: sample sample_link test\n",
    "string: None\n",
    "contents: ['sample ', <a href=\"https://sample_link\">sample_link</a>, <b>test</b>]\n",
    "```\n",
    "\n",
    "< b>は文字列を 太字 にするという意味になります。"
   ]
  },
  {
   "cell_type": "markdown",
   "metadata": {},
   "source": [
    "#### 問題"
   ]
  },
  {
   "cell_type": "markdown",
   "metadata": {
    "id": "question"
   },
   "source": [
    "- 以下のurlから本文のみを出力してください。   "
   ]
  },
  {
   "cell_type": "code",
   "execution_count": null,
   "metadata": {
    "collapsed": true,
    "id": "choices"
   },
   "outputs": [],
   "source": [
    "import urllib.request\n",
    "from bs4 import BeautifulSoup\n",
    "\n",
    "url = \"https://ja.wikipedia.org/wiki/Python\"\n",
    "html = urllib.request.urlopen(url)\n",
    "soup = BeautifulSoup(html, \"html.parser\")\n",
    "\n",
    "# 本文のみを出力してください。\n"
   ]
  },
  {
   "cell_type": "markdown",
   "metadata": {},
   "source": [
    "#### ヒント"
   ]
  },
  {
   "cell_type": "markdown",
   "metadata": {
    "id": "hint"
   },
   "source": [
    "- soupには様々なタグが含まれています。"
   ]
  },
  {
   "cell_type": "markdown",
   "metadata": {},
   "source": [
    "#### 解答"
   ]
  },
  {
   "cell_type": "code",
   "execution_count": null,
   "metadata": {
    "id": "answer"
   },
   "outputs": [],
   "source": [
    "import urllib.request\n",
    "from bs4 import BeautifulSoup\n",
    "\n",
    "url = \"https://ja.wikipedia.org/wiki/Python\"\n",
    "html = urllib.request.urlopen(url)\n",
    "soup = BeautifulSoup(html, \"html.parser\")\n",
    "\n",
    "# 本文のみを出力してください。\n",
    "print(soup.text)"
   ]
  },
  {
   "cell_type": "markdown",
   "metadata": {},
   "source": [
    "***"
   ]
  },
  {
   "cell_type": "markdown",
   "metadata": {
    "id": "code_session_name"
   },
   "source": [
    "### 1.3.2 正規表現"
   ]
  },
  {
   "cell_type": "markdown",
   "metadata": {
    "id": "description"
   },
   "source": [
    "**[1.3.1](1.3.1-htmlから文章のみを抽出する。)**で入手したテキストから意味のある単語のみを抜き出してリストを作成します。   \n",
    "日本語を単語で分けようとすると分かち書きという処理を行う必要があり複雑になるので、今回は簡単のため英語のページのみを対象にします。   \n",
    "単語を抜き出すために正規表現をいう方法を使い、英数字以外で単語を区切るようにしましょう。   \n",
    "\n",
    "正規表現とは、文字列をパターンを用いて表現するものです。   \n",
    "例えば、aで始まりbで終わる文字列を探したり、aとcの間に一文字のみ入るような文字列を探したりなど文字列のパターンを探すことができます。   \n",
    "いくつかの正規表現を紹介します。   \n",
    "- \\*　: 0文字以上の任意の文字\n",
    "- .　:任意の1文字\n",
    "- \\d : 数字\n",
    "- \\w : 英数字\n",
    "- \\s : 空白文字\n",
    "\n",
    "\\* や　. などの文字をメタ文字、\\　から始まる文字を特殊シーケンスといいます。   \n",
    "\n",
    "正規表現は次のように使用することができます。   \n",
    "```python\n",
    "# 正規表現のライブラリのインポートする。\n",
    "import re\n",
    "\n",
    "# 文章を区切る。\n",
    "words = re.split(区切り文字のパターン, 文章)\n",
    "\n",
    "# 文章のどこかにパターンに当てはまるものがないか探す。\n",
    "# なければNoneを返す。\n",
    "judge = re.search(パターン, 文章)\n",
    "\n",
    "# 例：数字を区切り文字に文章を区切る。\n",
    "words = re.split(\"\\d\", 文章)\n",
    "\n",
    "```\n",
    "\n",
    "例では .searchメソッドと.splitメソッドの説明をしています。"
   ]
  },
  {
   "cell_type": "markdown",
   "metadata": {},
   "source": [
    "#### 問題"
   ]
  },
  {
   "cell_type": "markdown",
   "metadata": {
    "id": "question"
   },
   "source": [
    "- 文章から英数字以外の文字を区切り文字として、単語のリストを作成しましょう。\n",
    "- 単語リストの文字はすべて小文字に変換しましょう。\n",
    "- 一文字の言葉は意味がないのでリストからのぞきましょう。\n",
    "- スクレイピングするサイトはpythonの英語版wikipediaです。"
   ]
  },
  {
   "cell_type": "code",
   "execution_count": null,
   "metadata": {
    "collapsed": true
   },
   "outputs": [],
   "source": [
    "import re\n",
    "import urllib.request\n",
    "from bs4 import BeautifulSoup\n",
    "\n",
    "url = \"https://en.wikipedia.org/wiki/Python_(programming_language)\"\n",
    "html = urllib.request.urlopen(url)\n",
    "soup = BeautifulSoup(html, \"html.parser\")\n",
    "\n",
    "# text にスクレイピングした本文を代入してください。\n",
    "text = \n",
    "\n",
    "# wordsに単語を代入してください。\n",
    "words = \n",
    "\n",
    "print(words)\n"
   ]
  },
  {
   "cell_type": "markdown",
   "metadata": {},
   "source": [
    "#### ヒント"
   ]
  },
  {
   "cell_type": "markdown",
   "metadata": {
    "id": "hint"
   },
   "source": [
    "- 英数字以外の正規表現は\\Wです。\n",
    "- words に単語を代入するさいはリスト内包表現を使うとやりやすいです。\n",
    "- 小文字にするには.lower()メソッドを利用してください。"
   ]
  },
  {
   "cell_type": "markdown",
   "metadata": {},
   "source": [
    "#### 解答例"
   ]
  },
  {
   "cell_type": "code",
   "execution_count": null,
   "metadata": {
    "collapsed": true,
    "id": "answer"
   },
   "outputs": [],
   "source": [
    "import re\n",
    "import urllib.request\n",
    "from bs4 import BeautifulSoup\n",
    "\n",
    "url = \"https://en.wikipedia.org/wiki/Python_(programming_language)\"\n",
    "html = urllib.request.urlopen(url)\n",
    "soup = BeautifulSoup(html, \"html.parser\")\n",
    "\n",
    "# text にスクレイピングした本文を代入してください。\n",
    "text = soup.text\n",
    "\n",
    "# wordsに単語を代入してください。\n",
    "words = [s.lower() for s in re.split(\"\\W+\", text) if len(s) > 2]\n",
    "print(words)\n"
   ]
  },
  {
   "cell_type": "markdown",
   "metadata": {},
   "source": [
    "***"
   ]
  },
  {
   "cell_type": "markdown",
   "metadata": {
    "id": "code_session_name"
   },
   "source": [
    "### 1.3.3 正規表現でコンパイルする。"
   ]
  },
  {
   "cell_type": "markdown",
   "metadata": {
    "id": "description"
   },
   "source": [
    "プログラミング言語から機械が理解できる言葉に変換することをコンパイルといいます。  \n",
    "正規表現のパターンはコンパイルされて使われます。   \n",
    "1.3.2では毎回パターンを読み込みコンパイルする必要がありました。   \n",
    "そこで正規表現ではよく使うパターンは高速化のためあらかじめコンパイルして利用されます。   \n",
    "正規表現のコンパイルには.compileメソッドが利用されます。   \n",
    "コンパイル済みのパターンを用いて英数字以外を区切り文字として分割すると、   \n",
    "```python\n",
    "import re\n",
    "\n",
    "pattern = re.compile(コンパイルしたいパターン)\n",
    "words = pattern.split(文章)\n",
    "```\n",
    "となります。    "
   ]
  },
  {
   "cell_type": "markdown",
   "metadata": {},
   "source": [
    "#### 問題"
   ]
  },
  {
   "cell_type": "markdown",
   "metadata": {
    "id": "question"
   },
   "source": [
    "- 文章から英数字以外の文字を区切り文字として、単語のリストを作成しましょう。\n",
    "- 単語リストの文字はすべて小文字に変換しましょう。\n",
    "- 一文字の言葉は意味がないのでリストからのぞきましょう。\n",
    "- 事前に文字列をコンパイルして高速化しましょう。"
   ]
  },
  {
   "cell_type": "code",
   "execution_count": null,
   "metadata": {
    "collapsed": true,
    "id": "index"
   },
   "outputs": [],
   "source": [
    "import urllib.request\n",
    "from bs4 import BeautifulSoup\n",
    "import re\n",
    "\n",
    "# あらかじめコンパイルしたパターンを使用して、文章を単語に分ける関数を完成させてください。\n",
    "def separate_word(soup):\n",
    "\n",
    "    \n",
    "    \n",
    "    return words\n",
    "\n",
    "url = \"https://en.wikipedia.org/wiki/Python_(programming_language)\"\n",
    "html = urllib.request.urlopen(url)\n",
    "soup = BeautifulSoup(html, \"html.parser\")\n",
    "\n",
    "# 単語を表示します。\n",
    "words = separate_word(soup)\n",
    "print(words)"
   ]
  },
  {
   "cell_type": "markdown",
   "metadata": {},
   "source": [
    "#### ヒント"
   ]
  },
  {
   "cell_type": "markdown",
   "metadata": {
    "id": "hint"
   },
   "source": [
    "- あらかじめコンパイルしないときと.split()の使い方が少し違うことに注意してください。"
   ]
  },
  {
   "cell_type": "markdown",
   "metadata": {},
   "source": [
    "#### 解答例"
   ]
  },
  {
   "cell_type": "code",
   "execution_count": null,
   "metadata": {
    "id": "answer"
   },
   "outputs": [],
   "source": [
    "import urllib.request\n",
    "from bs4 import BeautifulSoup\n",
    "import re\n",
    "\n",
    "# あらかじめコンパイルしたパターンを使用して、文章を単語に分ける関数を完成させてください。\n",
    "def separate_word(soup):\n",
    "    text = soup.text\n",
    "    pattern = re.compile(\"\\W\")\n",
    "    words = [s.lower() for s in pattern.split(text) if len(s) > 2]\n",
    "    return words\n",
    "\n",
    "url = \"https://en.wikipedia.org/wiki/Python_(programming_language)\"\n",
    "html = urllib.request.urlopen(url)\n",
    "soup = BeautifulSoup(html, \"html.parser\")\n",
    "\n",
    "# 単語を表示します。\n",
    "words = separate_word(soup)\n",
    "print(words)"
   ]
  },
  {
   "cell_type": "markdown",
   "metadata": {},
   "source": [
    "***"
   ]
  },
  {
   "cell_type": "markdown",
   "metadata": {
    "id": "chapter_exam"
   },
   "source": [
    "##  添削問題"
   ]
  },
  {
   "cell_type": "markdown",
   "metadata": {
    "id": "description"
   },
   "source": [
    "このchapterで学んだことを使って実装したクローラーよりクローリングします。"
   ]
  },
  {
   "cell_type": "markdown",
   "metadata": {},
   "source": [
    "#### 問題 "
   ]
  },
  {
   "cell_type": "markdown",
   "metadata": {
    "id": "question"
   },
   "source": [
    "- クローラーよりクローリングして、WEBページの内容を単語のリストにして出力してください\n",
    "- 単語リストから頻出の単語を上から20個選択してリストにしてください。\n"
   ]
  },
  {
   "cell_type": "code",
   "execution_count": null,
   "metadata": {
    "collapsed": true,
    "id": "index"
   },
   "outputs": [],
   "source": [
    "import numpy as np\n",
    "# 足りないモジュールをimport してください。\n",
    "\n",
    "\n",
    "\n",
    "def separate_word(soup):\n",
    "    text = soup.text\n",
    "    pattern = re.compile(\"\\W\")\n",
    "    words = [s.lower() for s in pattern.split(text) if len(s) > 2]\n",
    "    return words\n",
    "\n",
    "\n",
    "def crawl(pages,depth=2):\n",
    "    words_list = []\n",
    "    for i in range(depth):\n",
    "        newpages = set()\n",
    "        pages_list = pages\n",
    "        for page in pages:\n",
    "            print(page)\n",
    "            count = 0\n",
    "            try:\n",
    "                html = urllib.request.urlopen(page)\n",
    "            except:\n",
    "                print('こちらのURLは開けませんでした : %s' % page)\n",
    "                continue\n",
    "            soup = BeautifulSoup(html, \"html.parser\")\n",
    "            words_list.append((page,separate_word(soup)))\n",
    "            links = soup.find_all('a')\n",
    "            for link in links:\n",
    "                if ('href' in link.attrs):\n",
    "                    url = urllib.parse.urljoin(page, link['href'])\n",
    "                    url = url.split('#')[0]\n",
    "                    if url.find(\"'\") != -1:\n",
    "                                continue\n",
    "                    if url[0:4] == 'http' and not url in (pages_list):\n",
    "                        newpages.add(url)\n",
    "                    count += 1\n",
    "                    if count > 10:\n",
    "                        break\n",
    "            pages = newpages\n",
    "            pages_list = pages_list | pages\n",
    "    return words_list\n",
    "\n",
    "\n",
    "# urlは英語版wikipediaでpythonの検索結果です。\n",
    "url = {\"https://en.wikipedia.org/wiki/Python_(programming_language)\"}\n",
    "# URLから単語のリストを入手してください。\n",
    "\n",
    "\n",
    "# 得られた単語をすべて一つのリストの要素としてまとめてください。\n",
    "\n",
    "\n",
    "#単語の出現回数を数えてください。\n",
    "\n",
    "\n",
    "# 単語を出現頻度の高いものからに並び替えてください。\n",
    "\n"
   ]
  },
  {
   "cell_type": "markdown",
   "metadata": {},
   "source": [
    "#### ヒント"
   ]
  },
  {
   "cell_type": "markdown",
   "metadata": {
    "id": "hint"
   },
   "source": [
    "- 単語の出現回数を数えるのには辞書型を利用するのが便利です。\n",
    "- リストにリストの要素のみを追加するには.extend()が便利です。リスト1.extend(リスト2)でリスト2の要素をリスト1に追加できます。\n",
    "- 辞書型のソートにはsortedが使えます。sorted(辞書型.items(), key=lambda　x:-x[1])で昇べきの順で並び替えられます。"
   ]
  },
  {
   "cell_type": "markdown",
   "metadata": {},
   "source": [
    "#### 解答例"
   ]
  },
  {
   "cell_type": "code",
   "execution_count": null,
   "metadata": {
    "collapsed": true,
    "id": "answer"
   },
   "outputs": [],
   "source": [
    "import numpy as np\n",
    "# 足りないモジュールをimport してください。\n",
    "import urllib.request\n",
    "from bs4 import BeautifulSoup\n",
    "import re\n",
    " \n",
    "def separate_word(soup):\n",
    "    text = soup.text\n",
    "    pattern = re.compile(\"\\W\")\n",
    "    words = [s.lower() for s in pattern.split(text) if len(s) > 2]\n",
    "    return words\n",
    "\n",
    "\n",
    "def crawl(pages,depth=2):\n",
    "    words_list = []\n",
    "    for i in range(depth):\n",
    "        newpages = set()\n",
    "        pages_list = pages\n",
    "        for page in pages:\n",
    "            #print(page)\n",
    "            count = 0\n",
    "            try:\n",
    "                html = urllib.request.urlopen(page)\n",
    "            except:\n",
    "                print('こちらのURLは開けませんでした : %s' % page)\n",
    "                continue\n",
    "            soup = BeautifulSoup(html, \"html.parser\")\n",
    "            words_list.append((page,separate_word(soup)))\n",
    "            links = soup.find_all('a')\n",
    "            for link in links:\n",
    "                if ('href' in link.attrs):\n",
    "                    url = urllib.parse.urljoin(page, link['href'])\n",
    "                    url = url.split('#')[0]\n",
    "                    if url.find(\"'\") != -1:\n",
    "                                continue\n",
    "                    if url[0:4] == 'http' and not url in (pages_list):\n",
    "                        newpages.add(url)\n",
    "                    count += 1\n",
    "                    if count > 50:\n",
    "                        break\n",
    "            pages = newpages\n",
    "            pages_list = pages_list | pages\n",
    "    return words_list\n",
    "\n",
    "\n",
    "# urlは英語版wikipediaでpythonの検索結果です。\n",
    "url = {\"https://en.wikipedia.org/wiki/Python_(programming_language)\"}\n",
    "# URLから単語のリストを入手してください。\n",
    "words_list = crawl(url)\n",
    "\n",
    "# 得られた単語をすべて一つのリストの要素としてまとめてください。\n",
    "words = []\n",
    "[words.extend(w) for _, w in words_list]\n",
    "common_word = {}\n",
    "\n",
    "#単語の出現回数を数えてください。\n",
    "for word in words:\n",
    "    if word in common_word :\n",
    "        common_word[word] += 1\n",
    "    else :\n",
    "        common_word[word] = 1\n",
    "\n",
    "# 単語を出現頻度の高いものからに並び替えてください。\n",
    "sort_common_word = sorted(common_word.items(), key=lambda x : -x[1])\n",
    "ignore_word = np.array(sort_common_word[:20])\n",
    "print(ignore_word[:, 0])"
   ]
  },
  {
   "cell_type": "markdown",
   "metadata": {},
   "source": [
    "#### 解説"
   ]
  },
  {
   "cell_type": "markdown",
   "metadata": {
    "id": "commentary"
   },
   "source": [
    "\n",
    "ここで求めたignore_wordは一般的によく使われる単語と判断されます。   \n",
    "高頻出の単語を含めてた場合、多くの記事が検索結果として出力されてしまい、ユーザーの望んだ検索結果が得にくくなってしまします。。\n",
    "そのため次回ではignore_word以外の単語を使って処理していきます。   "
   ]
  }
 ],
 "metadata": {
  "celltoolbar": "Edit Metadata",
  "kernelspec": {
   "display_name": "Python 3",
   "language": "python",
   "name": "python3"
  },
  "language_info": {
   "codemirror_mode": {
    "name": "ipython",
    "version": 3
   },
   "file_extension": ".py",
   "mimetype": "text/x-python",
   "name": "python",
   "nbconvert_exporter": "python",
   "pygments_lexer": "ipython3",
   "version": "3.6.4"
  }
 },
 "nbformat": 4,
 "nbformat_minor": 2
}