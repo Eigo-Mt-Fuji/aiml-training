{
 "cells": [
  {
   "cell_type": "markdown",
   "metadata": {
    "id": "final_exam"
   },
   "source": [
    "# 総合添削問題"
   ]
  },
  {
   "cell_type": "markdown",
   "metadata": {
    "id": "description"
   },
   "source": [
    "総合添削問題では、numpyの知識を用いて2枚の画像の差分を計算して求めてみましょう。問題を簡単にするため、0~5のいずれかの整数を色とみなします。画像は二次元データであるため行列として表すことができ、Numpy配列として扱うことが可能です。サイズが等しい画像の差分は、同じ位置の要素同士の差を成分とする行列で表され、これを画像とみなすことができます。"
   ]
  },
  {
   "cell_type": "markdown",
   "metadata": {},
   "source": [
    "#### 問題"
   ]
  },
  {
   "cell_type": "markdown",
   "metadata": {
    "id": "question"
   },
   "source": [
    "- 乱数を用いて指定の大きさの画像を生成する関数`make_image()`を完成させてください。\n",
    "- 渡された行列のうちの一部を乱数を用いて変更する関数`change_matrix()`を完成させてください。\n",
    "- 生成した`image1`と`image2`の各要素の差分の絶対値を計算し、`image3`に代入してください。"
   ]
  },
  {
   "cell_type": "code",
   "execution_count": 115,
   "metadata": {
    "id": "index",
    "scrolled": true
   },
   "outputs": [
    {
     "name": "stdout",
     "output_type": "stream",
     "text": [
      "image1 - original\n",
      "[[5 2 2]\n",
      " [5 1 0]\n",
      " [5 2 2]]\n",
      "image2 - random\n",
      "[[1 2 2]\n",
      " [5 2 5]\n",
      " [5 0 0]]\n",
      "image3 - diff\n",
      "[[ 4  0  0]\n",
      " [ 0 -1 -5]\n",
      " [ 0  2  2]]\n",
      "image3 - diff - abs\n",
      "[[4 0 0]\n",
      " [0 1 5]\n",
      " [0 2 2]]\n"
     ]
    }
   ],
   "source": [
    "import numpy as np\n",
    "import time\n",
    "# 乱数の初期化\n",
    "np.random.seed(int(time.time()))\n",
    "\n",
    "# 縦の大きさ、横の大きさを渡されたときに乱数で指定の大きさの画像を生成する関数\n",
    "def make_image(m, n):\n",
    "    # n×m行列の各成分を0~5の値でランダムに満たしてください\n",
    "    image = np.random.randint(0, 5+1, (m, n))\n",
    "#    image = np.array(np.random.rand(m, n))\n",
    "#    for i in range(m):\n",
    "#        image[i] = np.random.randint(0, 5+1, n)\n",
    "    \n",
    "    return image\n",
    "\n",
    "\n",
    "# 渡された行列の一部を変更する関数\n",
    "def change_matrix(matrix):\n",
    "    \n",
    "    # 与えられた行列の形を取得し、shapeに代入してください\n",
    "    shape = np.shape(matrix)\n",
    "    \n",
    "    # 行列の各成分について、変更するかしないかをランダムに決めた上で\n",
    "    changes = np.random.rand(shape[0], shape[1]) \n",
    "    threshold = 0.5    \n",
    "\n",
    "    for i in range(shape[0]):\n",
    "        for j in range(shape[1]):\n",
    "            # 変更する場合は0~5のいずれかの整数にランダムに入れ替えてください\n",
    "            if  changes[i][j] > threshold:\n",
    "                matrix[i][j] = np.random.randint(0, 5+1)\n",
    "    \n",
    "    return matrix\n",
    "\n",
    "# ランダムに画像を作成\n",
    "print(\"image1 - original\")\n",
    "image1 = make_image(3, 3)\n",
    "print(image1)\n",
    "\n",
    "# ランダムに変更を適用する\n",
    "print(\"image2 - random\")\n",
    "image2 = change_matrix(np.copy(image1))\n",
    "print(image2)\n",
    "\n",
    "# image1とimage2の差分を計算し、image3に代入してください\n",
    "image3 = image1 - image2\n",
    "print(\"image3 - diff\")\n",
    "\n",
    "# image3を出力\n",
    "print(image3)\n",
    "image3 = np.abs(image3)\n",
    "print(\"image3 - diff - abs\")\n",
    "print(image3)"
   ]
  },
  {
   "cell_type": "markdown",
   "metadata": {},
   "source": [
    "#### ヒント"
   ]
  },
  {
   "cell_type": "markdown",
   "metadata": {
    "id": "hint"
   },
   "source": [
    "- 同じ形のNumpy配列どうしの足し算や引き算は同じ位置の要素同士で計算されます。\n",
    "- `numpy.random.randint(x, y, z)`で`x　~　y-1`までの範囲の整数をランダムに`z`個得ることができます。"
   ]
  },
  {
   "cell_type": "markdown",
   "metadata": {},
   "source": [
    "###  解答例"
   ]
  },
  {
   "cell_type": "markdown",
   "metadata": {},
   "source": [
    "###  解説"
   ]
  },
  {
   "cell_type": "markdown",
   "metadata": {
    "id": "commentary"
   },
   "source": [
    "添削課題の提出は以下のアドレスから提出いただきますようお願いします。<br>\n",
    "\b\n",
    "https://goo.gl/forms/fW7CAspZMwHuWuqk2<br><br>\n",
    "以下のアドレスからアンケートにご協力頂きたく存じます。<br>\n",
    "ご回答のほど、よろしくお願いいたします。\n",
    "\n",
    "https://goo.gl/forms/WHjJQYeodIndRvyz2"
   ]
  }
 ],
 "metadata": {
  "celltoolbar": "Edit Metadata",
  "kernelspec": {
   "display_name": "Python 3",
   "language": "python",
   "name": "python3"
  },
  "language_info": {
   "codemirror_mode": {
    "name": "ipython",
    "version": 3
   },
   "file_extension": ".py",
   "mimetype": "text/x-python",
   "name": "python",
   "nbconvert_exporter": "python",
   "pygments_lexer": "ipython3",
   "version": "3.7.0"
  }
 },
 "nbformat": 4,
 "nbformat_minor": 2
}
