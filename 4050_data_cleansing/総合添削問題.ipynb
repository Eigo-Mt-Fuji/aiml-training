{
 "cells": [
  {
   "cell_type": "markdown",
   "metadata": {
    "id": "final_exam"
   },
   "source": [
    "# 総合添削問題"
   ]
  },
  {
   "cell_type": "markdown",
   "metadata": {
    "id": "description"
   },
   "source": [
    "機械学習における画像認識では、画像データとその画像に紐づけられたラベルの組み合わせが大量に必要となります。しかしながら、機械学習の入力とするには十分な数の画像とラベルの組み合わせを用意する事は、コストがかかるため困難なことであります。\n",
    "そこで、データの個数を十分量に増やす際に行われるテクニックとして、**画像の水増し**があります。\n",
    "\n",
    "画像の水増しといっても、ただ単にデータをコピーして量を増やすだけでは意味がありません。<br>\n",
    "そこで、例えば画像を反転したり、ずらしたりして新たなデータを作り出します。ここでは、主にChapter3で学んだ様々な関数を駆使して画像を水増しする関数を作成してもらいます。"
   ]
  },
  {
   "cell_type": "markdown",
   "metadata": {},
   "source": [
    "#### 問題"
   ]
  },
  {
   "cell_type": "markdown",
   "metadata": {
    "id": "question"
   },
   "source": [
    "- 画像を受け取ったら5つの方法で加工した画像データを作成し、まとめて配列にして返す関数`scratch_image`関数を作成して下さい。\n",
    "```python\n",
    "def scratch_image(img, flip=True, thr=True, filt=True, resize=True, erode=True):\n",
    "    \"\"\"\n",
    "    flip は画像の左右反転\n",
    "    thr  は閾値処理\n",
    "    filt はぼかし\n",
    "    resizeはモザイク\n",
    "    erode は収縮\n",
    "        をするorしないを指定している\n",
    "        \n",
    "    imgの型はOpenCVのcv2.read()によって読み込まれた画像データの型\n",
    "    \n",
    "    水増しした画像データを配列にまとめて返す\n",
    "    \"\"\"\n",
    "```\n",
    "\n",
    "- 加工の方法は重ねあわせます。たとえば`flip=True, thr=True, filt=False, resize=False, erode=False`ならば画像の反転と閾値処理を行うので\n",
    "    1. オリジナルの画像\n",
    "    2. 左右反転した画像\n",
    "    3. 閾値処理を行った画像\n",
    "    4. 左右反転して閾値処理した画像\n",
    "    \n",
    "  と、四枚の画像データが配列にまとめられて返されます。\n",
    "- 全て`True`ならば $2^5 = 32$ 枚の画像データが返されます。\n",
    "- 作成した`scratch_image`関数を使ってcleansing_dataフォルダ内の画像データ（`cat_sample.png`）を水増しし、`scratch_images`フォルダに保存して下さい。\n",
    "- 各手法の仕様は以下のようにして下さい。\n",
    "    1. 反転: 左右で反転\n",
    "    2. 閾値処理: 閾値100, しきい値より大きい値はそのまま、小さい値は0にする\n",
    "    3. ぼかし: 自分自身のまわりの$5 \\times 5$個のピクセルを用いる\n",
    "    4. モザイク: 解像度を$1/5$にする\n",
    "    5. 収縮: 自身を囲む8ピクセルを用いる"
   ]
  },
  {
   "cell_type": "markdown",
   "metadata": {},
   "source": [
    "<div style=\"text-align: center;\">\n",
    "    <span style=\"font-size: 120%\">flipとthrのみTrueだった場合の例</span>\n",
    "</div>\n",
    "<img src = \"https://aidemyexstorage.blob.core.windows.net/aidemycontents/1539254347176308.png\t\" width=\"800px\">"
   ]
  },
  {
   "cell_type": "code",
   "execution_count": 70,
   "metadata": {
    "id": "index",
    "scrolled": false
   },
   "outputs": [
    {
     "name": "stdout",
     "output_type": "stream",
     "text": [
      "始め\n",
      "水増し\n",
      "出力中\n",
      "終わり\n"
     ]
    }
   ],
   "source": [
    "import os\n",
    "\n",
    "import numpy as np\n",
    "import matplotlib.pyplot as plt\n",
    "import cv2\n",
    "import itertools \n",
    "import shutil\n",
    "\n",
    "# \n",
    "def scratch_image(img, flip=True, thr=True, filt=True, resize=True, erode=True):\n",
    "    \"\"\"\n",
    "    flip は画像の左右反転\n",
    "    thr  は閾値処理\n",
    "    filt はぼかし\n",
    "    resizeはモザイク\n",
    "    erode は縮小\n",
    "        をするorしないを指定している\n",
    "\n",
    "    imgの型はOpenCVのcv2.read()によって読み込まれた画像データの型\n",
    "\n",
    "    水増しした画像データを配列にまとめて返す\n",
    "    \"\"\"\n",
    "    # ----------------------------ここから書いて下さい----------------------------\n",
    "    flags = []\n",
    "    processes = []\n",
    "    \n",
    "    \n",
    "    if flip == True:\n",
    "        processes.append(lambda img: cv2.flip(img, 1)) # flip, 左右反転=Y軸で反転 第二引数 1:Y軸指定\n",
    "    if thr == True:\n",
    "        processes.append(lambda img: cv2.threshold(img, 100, 255, cv2.THRESH_TOZERO)[1]) # 閾値100に満たない場合は0\n",
    "    if filt == True:\n",
    "        processes.append(lambda img:  cv2.GaussianBlur(img, (5, 5), 0))\n",
    "    if resize == True:\n",
    "        processes.append(lambda img: cv2.resize(img, dsize=None, fx=0.2, fy=0.2))\n",
    "    if erode == True:\n",
    "        processes.append(lambda img: cv2.erode(img, np.array([[1,1,1],[1,0,1],[1,1,1]],np.uint8)))\n",
    "\n",
    "    patterns = []\n",
    "    flags = range(len(processes))\n",
    "    # 指定されたフラグの組み合わせを生成\n",
    "    for r in flags:\n",
    "        patterns.extend(list(itertools .combinations(flags, r+1)))\n",
    "\n",
    "    images = [img]\n",
    "    for pattern in patterns:\n",
    "        img_after = np.copy(img)\n",
    "\n",
    "        for process_id in pattern:\n",
    "            img_after = processes[process_id](img_after)\n",
    "        \n",
    "        images.append(img_after)\n",
    "\n",
    "    return  images\n",
    "    # ----------------------------ここまで書いて下さい----------------------------\n",
    "\n",
    "print (\"始め\")\n",
    "\n",
    "# 画像の読み込み\n",
    "cat_img = cv2.imread(\"cleansing_data/cat_sample.jpg\")\n",
    "\n",
    "# 画像の水増し\n",
    "print (\"水増し\")\n",
    "scratch_cat_images = scratch_image(cat_img, True, True, True, False, False)\n",
    "\n",
    "# 画像を保存するフォルダーがあれば一旦削除\n",
    "if os.path.exists(\"scratch_images\"):\n",
    "    shutil.rmtree(\"scratch_images\")\n",
    "\n",
    "# 画像を保存するフォルダーを作成\n",
    "if not os.path.exists(\"scratch_images\"):\n",
    "    os.mkdir(\"scratch_images\")\n",
    "\n",
    "print (\"出力中\")\n",
    "for num, im in enumerate(scratch_cat_images):\n",
    "    # まず保存先のディレクトリ\"scratch_images/\"を指定、番号を付けて保存\n",
    "    cv2.imwrite(\"scratch_images/\" + (\"%02d\" % (num)) + \".jpg\" ,im) \n",
    "    \n",
    "print (\"終わり\")\n"
   ]
  },
  {
   "cell_type": "code",
   "execution_count": null,
   "metadata": {},
   "outputs": [],
   "source": []
  },
  {
   "cell_type": "markdown",
   "metadata": {},
   "source": [
    "#### ヒント"
   ]
  },
  {
   "cell_type": "markdown",
   "metadata": {
    "id": "hint"
   },
   "source": [
    "- まずはChapter3を参考にして`cv2`のメソッドを記述します。その際に必要となるデータ（画像のサイズなど）も用意します。\n",
    "- リスト内包表記を駆使することで、コードが簡略化できます。また、長い処理は`lambda`を駆使してまとめましょう。\n",
    "- (発展)水増しに用いる関数を`lambda`で記述し、`np.array`に格納するといいです。<br>\n",
    "例えば上下反転する関数は\n",
    "```python\n",
    "lambda x: cv2.flip(x, 0)\n",
    "```\n",
    "と書けます。これを配列`arr`に入れることで\n",
    "```python\n",
    "arr[0](image)\n",
    "```\n",
    "と、indexを指定するだけで`arr`中の所定の関数を使うことができます。\n",
    "- (発展)関数を格納した配列と`flip, thr, filt, resize, erode`を活用して加工に使う関数を取得しましょう。"
   ]
  },
  {
   "cell_type": "markdown",
   "metadata": {},
   "source": [
    "##  解答例"
   ]
  },
  {
   "cell_type": "markdown",
   "metadata": {},
   "source": [
    "### 解説"
   ]
  },
  {
   "cell_type": "markdown",
   "metadata": {
    "id": "commentary"
   },
   "source": [
    "添削課題の提出は以下のアドレスから提出いただきますようお願いします。<br>\n",
    "\b\n",
    "https://goo.gl/forms/fW7CAspZMwHuWuqk2<br><br>\n",
    "以下のアドレスからアンケートにご協力頂きたく存じます。<br>\n",
    "ご回答のほど、よろしくお願いいたします。\n",
    "\n",
    "https://goo.gl/forms/WHjJQYeodIndRvyz2"
   ]
  }
 ],
 "metadata": {
  "kernelspec": {
   "display_name": "Python 3",
   "language": "python",
   "name": "python3"
  },
  "language_info": {
   "codemirror_mode": {
    "name": "ipython",
    "version": 3
   },
   "file_extension": ".py",
   "mimetype": "text/x-python",
   "name": "python",
   "nbconvert_exporter": "python",
   "pygments_lexer": "ipython3",
   "version": "3.7.0"
  },
  "toc": {
   "colors": {
    "hover_highlight": "#DAA520",
    "navigate_num": "#000000",
    "navigate_text": "#333333",
    "running_highlight": "#FF0000",
    "selected_highlight": "#FFD700",
    "sidebar_border": "#EEEEEE",
    "wrapper_background": "#FFFFFF"
   },
   "moveMenuLeft": true,
   "nav_menu": {
    "height": "84px",
    "width": "252px"
   },
   "navigate_menu": true,
   "number_sections": false,
   "sideBar": true,
   "threshold": 4,
   "toc_cell": false,
   "toc_section_display": "block",
   "toc_window_display": false,
   "widenNotebook": false
  }
 },
 "nbformat": 4,
 "nbformat_minor": 2
}
