{
  "cells": [
    {
      "cell_type": "markdown",
      "metadata": {
        "id": "final_correction"
      },
      "source": [
        "# 総合添削問題"
      ]
    },
    {
      "cell_type": "markdown",
      "metadata": {},
      "source": [
        "<br>"
      ]
    },
    {
      "cell_type": "markdown",
      "metadata": {},
      "source": [
        "## 問題"
      ]
    },
    {
      "cell_type": "markdown",
      "metadata": {},
      "source": [
        "sushi_dataは5000人に100種類の寿司の中から食べたものを０～４の5段階で評価をもらったものが格納されています。  \n",
        "sushi_labelsには100種類の寿司ネタのラベルが格納されています。   \n",
        "この寿司データを参考にユーザーベース協調フィルタリングを行い、   \n",
        "100番目の人が食べてないもので評価が高いと予測されるものを5つレコメンドしてください。\n",
        "\n",
        "類似度の計算にはピアソン相関を利用してください。   \n",
        "評価が高いと予想される寿司データを選ぶ手順としては、     \n",
        "1. 対象者の選んでいない寿司ネタのリストを作成する。   \n",
        "2. 選んでいない寿司ネタに対してそれぞれを評価した利用者の中で類似度の高い利用者を5人選出する。   \n",
        "3. 5人の評価を類似度で重みづけをし、予測値を求める。   \n",
        "4. 予測値の高い寿司ネタを5つ表示する。   \n",
        "\n",
        "を利用してください。"
      ]
    },
    {
      "cell_type": "markdown",
      "metadata": {},
      "source": [
        "## ヒント"
      ]
    },
    {
      "cell_type": "markdown",
      "metadata": {
        "id": "hint"
      },
      "source": [
        "- 寿司ネタの評価値の予想を行なうpredictはそのまま使用してください。   \n",
        "- cos類似度は　$ cos類似度 = \\frac{a・b}{|a||b|} $ と計算します。   "
      ]
    },
    {
      "cell_type": "code",
      "execution_count": null,
      "metadata": {
        "collapsed": true
      },
      "outputs": [],
      "source": [
        "import numpy as np\n",
        "import math\n",
        "\n",
        "# sushiのレビューデータとsushiのラベルをかきこみます。\n",
        "sushi_data = np.loadtxt('sushi_data.score', delimiter=' ')\n",
        "sushi_labels = open('sushi_labels.txt').read().split(':')\n",
        "target_user = 100 # 100番目のユーザ\n",
        "\n",
        "def get_cosine_similarity(sushi_data, target_user):\n",
        "    similarities = []\n",
        "    target = sushi_data[target_user]\n",
        "    # 共通の評価が少ない場合は除外\n",
        "    for i, score in enumerate(sushi_data):\n",
        "        indices = np.where(((target + 1) * (score + 1)) != 0)[0]\n",
        "        if len(indices) < 3 or i == target_user:\n",
        "            continue\n",
        "            \n",
        "        #similarityに対象者と利用者の類似度を代入してください\n",
        "        #比べる対象は共通した寿司ネタのみとします\n",
        "        similarity = \n",
        "            \n",
        "        #similarityが存在する場合（nanではない場合）、similarityを追加します\n",
        "        if(similarity == similarity):\n",
        "            similarities.append((i, similarity))\n",
        "    return sorted(similarities, key=lambda s: s[1], reverse=True)\n",
        "\n",
        "similarities_cosine = get_cosine_similarity(sushi_data,target_user)\n",
        "\n",
        "def predict(sushi_data, similarities, target_user, target_item):\n",
        "    target = sushi_data[target_user]\n",
        "    #対象者のバイアスによる影響を消しています\n",
        "    avg_target = np.mean(target[np.where(target >= 0)])\n",
        "    \n",
        "    numerator = 0.0\n",
        "    denominator = 0.0\n",
        "    k = 0\n",
        "    \n",
        "    for similarity in similarities:\n",
        "        # 類似度の上位5人の評価値を使います\n",
        "        #類似度が負になった場合も終了させます\n",
        "        if k > 5 or similarity[1] <= 0.0:\n",
        "            break\n",
        "        score = sushi_data[similarity[0]]\n",
        "        if score[target_item] >= 0:\n",
        "            #類似度で重みを付けるため、類似度の合計と重み付き評価を求めます。\n",
        "            denominator += similarity[1]\n",
        "            numerator += similarity[1] * (score[target_item] - np.mean(score[np.where(score >= 0)]))\n",
        "            k += 1\n",
        "    # 分母が正ではない時エラーを出すようにします。\n",
        "    return avg_target + (numerator / denominator) if denominator > 0 else -1\n",
        "\n",
        "\n",
        "\n",
        "def rank_items(sushi_data, similarities, target_user):\n",
        "    #寿司ネタを選んでない中から評価が高いと予想されるものを順番に5つ寿司ネタのindexを返してください。\n",
        "\n",
        "    \n",
        "    \n",
        "    \n",
        "    \n",
        "    \n",
        "    return \n",
        "\n",
        "rankings =rank_items(sushi_data,similarities_cosine,target_user)\n",
        "print(rankings)\n"
      ]
    },
    {
      "cell_type": "markdown",
      "metadata": {},
      "source": [
        "##  解答例"
      ]
    },
    {
      "cell_type": "code",
      "execution_count": null,
      "metadata": {
        "collapsed": true
      },
      "outputs": [],
      "source": []
    },
    {
      "cell_type": "markdown",
      "metadata": {},
      "source": [
        "### 講座を終えてのアンケート"
      ]
    },
    {
      "cell_type": "markdown",
      "metadata": {
        "id": "commentary"
      },
      "source": [
        "添削課題の提出は以下のアドレスから提出いただきますようお願いします。<br>\n\b",
        "\n",
        "https://goo.gl/forms/fW7CAspZMwHuWuqk2<br><br>\n",
        "以下のアドレスからアンケートにご協力頂きたく存じます。<br>\n",
        "ご回答のほど、よろしくお願いいたします。\n",
        "\n",
        "https://goo.gl/forms/WHjJQYeodIndRvyz2"
      ]
    }
  ],
  "metadata": {
    "celltoolbar": "Edit Metadata",
    "kernelspec": {
      "display_name": "Python 3",
      "language": "python",
      "name": "python3"
    },
    "language_info": {
      "codemirror_mode": {
        "name": "ipython",
        "version": 3
      },
      "file_extension": ".py",
      "mimetype": "text/x-python",
      "name": "python",
      "nbconvert_exporter": "python",
      "pygments_lexer": "ipython3",
      "version": "3.6.6"
    }
  },
  "nbformat": 4,
  "nbformat_minor": 2
}