{
  "cells": [
    {
      "cell_type": "markdown",
      "metadata": {
        "id": "final_exam",
        "timeout": 60
      },
      "source": [
        "# 総合添削問題"
      ]
    },
    {
      "cell_type": "markdown",
      "metadata": {
        "id": "description"
      },
      "source": [
        "Chapter1とChapter２で学んだことの総復習をします。"
      ]
    },
    {
      "cell_type": "markdown",
      "metadata": {},
      "source": [
        "#### 問題"
      ]
    },
    {
      "cell_type": "markdown",
      "metadata": {
        "id": "question"
      },
      "source": [
        "- 以下のDataFrameについて、コメントアウトの処理を行ってください。"
      ]
    },
    {
      "cell_type": "code",
      "execution_count": null,
      "metadata": {
        "id": "index"
      },
      "outputs": [],
      "source": [
        "import pandas as pd\n",
        "\n",
        "index = [\"taro\", \"mike\", \"kana\", \"jun\", \"sachi\"]\n",
        "columns = [\"国語\", \"数学\", \"社会\", \"理科\", \"英語\"]\n",
        "data = [[30, 45, 12, 45, 87], [65, 47, 83, 17, 58], [64, 63, 86, 57, 46, ], [38, 47, 62, 91, 63], [65, 36, 85, 94, 36]]\n",
        "df = pd.DataFrame(data, index=index, columns=columns)\n",
        "\n",
        "# dfの新しい列\"体育\"にpe_columnのデータを追加してください\n",
        "pe_column = pd.Series([56, 43, 73, 82, 62],  index=[\"taro\", \"mike\", \"kana\", \"jun\", \"sachi\"])\n",
        "df\n",
        "print(df)\n",
        "print()\n",
        "\n",
        "# 数学を昇順で並び替えてください\n",
        "df1 = \n",
        "print(df1)\n",
        "print()\n",
        "\n",
        "# df1の各要素に5点を足してください\n",
        "df2 = \n",
        "print(df2)\n",
        "print()\n",
        "\n",
        "# dfの要約統計量のうち、\"mean\",  \"max\",  \"min\"を出力してください\n",
        "print()\n"
      ]
    },
    {
      "cell_type": "markdown",
      "metadata": {},
      "source": [
        "#### ヒント"
      ]
    },
    {
      "cell_type": "markdown",
      "metadata": {
        "id": "hint"
      },
      "source": [
        "- DataFrameの追加はapend()とdf['列の名前']　= Seriesで追加できましたね。"
      ]
    },
    {
      "cell_type": "markdown",
      "metadata": {},
      "source": [
        "##  解答例"
      ]
    },
    {
      "cell_type": "markdown",
      "metadata": {
        "id": "commentary"
      },
      "source": [
        "添削課題の提出は以下のアドレスから提出いただきますようお願いします。<br>\n\b",
        "\n",
        "https://goo.gl/forms/fW7CAspZMwHuWuqk2<br><br>\n",
        "以下のアドレスからアンケートにご協力頂きたく存じます。<br>\n",
        "ご回答のほど、よろしくお願いいたします。\n",
        "\n",
        "https://goo.gl/forms/WHjJQYeodIndRvyz2"
      ]
    }
  ],
  "metadata": {
    "celltoolbar": "Edit Metadata",
    "kernelspec": {
      "display_name": "Python 3",
      "language": "python",
      "name": "python3"
    },
    "language_info": {
      "codemirror_mode": {
        "name": "ipython",
        "version": 3
      },
      "file_extension": ".py",
      "mimetype": "text/x-python",
      "name": "python",
      "nbconvert_exporter": "python",
      "pygments_lexer": "ipython3",
      "version": "3.6.4"
    },
    "toc": {
      "base_numbering": 1,
      "nav_menu": {},
      "number_sections": true,
      "sideBar": true,
      "skip_h1_title": false,
      "title_cell": "Table of Contents",
      "title_sidebar": "Contents",
      "toc_cell": false,
      "toc_position": {},
      "toc_section_display": true,
      "toc_window_display": false
    }
  },
  "nbformat": 4,
  "nbformat_minor": 2
}