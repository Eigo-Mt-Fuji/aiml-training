{
  "cells": [
    {
      "cell_type": "markdown",
      "metadata": {
        "id": "final_exam"
      },
      "source": [
        "# 総合添削問題"
      ]
    },
    {
      "cell_type": "markdown",
      "metadata": {},
      "source": [
        "#### 問題"
      ]
    },
    {
      "cell_type": "markdown",
      "metadata": {
        "id": "question"
      },
      "source": [
        "- ニューラルネットを用い、動画（.MOV）に現れる自動車を抽出し、正方形で囲むコードを書いてください。  \n",
        "- 学習データは、cifar10 を用いてください。この時、データに次のようにラベリングしなおしてください。\n",
        " - automobileまたはtruckの画像には1,それ以外の画像には0\n",
        "- また、ニューラルネットモデルはkerasで定義し、初めの層にはvgg16を使った特徴量抽出層を、最後の層は2出力の全結合層としてください。\n",
        "- 映像の各フレームから、32x32の画像を切り取ってモデルに渡し、Trueなら四角で囲んでください。\n",
        "- 各フレーム横方向にのみ、自動車の有無を探索してください。\n",
        "- 自動車のマーキングの精度はあまり高くなりませんが、動画内に大きく写った自動車にはそれなりに高い頻度で反応できるようになります。"
      ]
    },
    {
      "cell_type": "code",
      "execution_count": null,
      "metadata": {
        "collapsed": true,
        "id": "index"
      },
      "outputs": [],
      "source": [
        "import numpy as np\n",
        "import cv2\n",
        "from keras import optimizers\n",
        "from keras.applications.vgg16 import VGG16\n",
        "from keras.datasets import cifar10\n",
        "from keras.layers import Dense, Dropout, Flatten, Input\n",
        "from keras.models import Model, Sequential\n",
        "from keras.utils.np_utils import to_categorical\n",
        "\n",
        "# Aidemyの仮想環境で実行する際は、以下のread関数を使い、\n",
        "# np.ndarray形式の動画（MOV形式の動画をあらかじめnp.ndarrayに変換したもの）\n",
        "# を読み取り、配列を取得してください。\n",
        "#\n",
        "# ローカル環境で実行する際は、コメントアウトされたread関数を使い、\n",
        "# .MOV形式の動画を直接読み取り、配列を取得してください。\n",
        "\n",
        "def read(name='data/traffic.npy'):\n",
        "    return np.load(name)\n",
        "\n",
        "'''\n",
        "def read(name='data/traffic.MOV):\n",
        "    mov = []\n",
        "    cap = cv2.VideoCapture(name)\n",
        "    count = int(cap.get(cv2.CAP_PROP_FRAME_COUNT))\n",
        "    print(count)\n",
        "    for i in range(count):\n",
        "        ret, frame = cap.read()\n",
        "        mov.append(frame)\n",
        "\n",
        "    cap.release()\n",
        "    mov = np.array(mov)\n",
        "    return mov\n",
        "'''\n",
        "\n",
        "def watch(movie):\n",
        "    while True:\n",
        "        for t in range(movie.shape[0]):\n",
        "            temp_key = cv2.waitKey(25)\n",
        "            cv2.imshow('frame', movie[t])\n",
        "            if temp_key == 27:\n",
        "                break\n",
        "        if temp_key == 27:\n",
        "            break\n",
        "    cv2.destroyAllWindows()\n",
        "\n",
        "def detect_cars(movie):\n",
        "    mov = []\n",
        "    for t in range(movie.shape[0]):\n",
        "        print(\"t: \", t)\n",
        "        frame = movie[t]\n",
        "        # xx を適当に変えてください\n",
        "        for x in range(movie.shape[2] - 32):\n",
        "            img = frame[14:14+32 , x:x+32]\n",
        "            label = detect_car(img)\n",
        "            if (label):\n",
        "                # y0, x0, y1, x1 を適当に変えてください\n",
        "                #----------------------------\n",
        "                cv2.rectangle(frame, (x0, y0), (x1, y1), (0, 0, 255), 2)\n",
        "                #----------------------------\n",
        "            print(label)\n",
        "        mov.append(frame)\n",
        "    mov = np.array(mov)\n",
        "    return mov\n",
        "\n",
        "def detect_car(img):\n",
        "    #モデルを使って予測してください。\n",
        "    #----------------------------\n",
        "    \n",
        "    #----------------------------\n",
        "    \n",
        "    # True or False を return してください\n",
        "    #return\n",
        "\n",
        "#モデルの定義、学習部分\n",
        "(X_train, y_train), (X_test, y_test) = cifar10.load_data()\n",
        "#--------------------------------------------------------\n",
        "\n",
        "\n",
        "#--------------------------------------------------------\n",
        "\n",
        "model.fit(X_train, y_train, validation_data=(X_test, y_test))\n",
        "\n",
        "mov = read('data/traffic.npy')\n",
        "\n",
        "#自動車の抽出\n",
        "#--------------------------------------------------------\n",
        "\n",
        "#--------------------------------------------------------\n",
        "\n",
        "import matplotlib.pyplot as plt\n",
        "for i in range(mov_detect.shape[0]):\n",
        "    plt.imshow(mov_detect[i])\n",
        "    plt.show()"
      ]
    },
    {
      "cell_type": "markdown",
      "metadata": {},
      "source": [
        "##  解答例"
      ]
    },
    {
      "cell_type": "markdown",
      "metadata": {},
      "source": [
        "### 講座を終えてのアンケート"
      ]
    },
    {
      "cell_type": "markdown",
      "metadata": {
        "id": "commentary"
      },
      "source": [
        "添削課題の提出は以下のアドレスから提出いただきますようお願いします。<br>\n\b",
        "\n",
        "https://goo.gl/forms/fW7CAspZMwHuWuqk2<br><br>\n",
        "以下のアドレスからアンケートにご協力頂きたく存じます。<br>\n",
        "ご回答のほど、よろしくお願いいたします。\n",
        "\n",
        "https://goo.gl/forms/WHjJQYeodIndRvyz2"
      ]
    }
  ],
  "metadata": {
    "celltoolbar": "Edit Metadata",
    "kernelspec": {
      "display_name": "Python 3",
      "language": "python",
      "name": "python3"
    },
    "language_info": {
      "codemirror_mode": {
        "name": "ipython",
        "version": 3
      },
      "file_extension": ".py",
      "mimetype": "text/x-python",
      "name": "python",
      "nbconvert_exporter": "python",
      "pygments_lexer": "ipython3",
      "version": "3.6.4"
    },
    "toc": {
      "base_numbering": 1,
      "nav_menu": {
        "height": "84px",
        "width": "252px"
      },
      "number_sections": false,
      "sideBar": true,
      "skip_h1_title": false,
      "title_cell": "Table of Contents",
      "title_sidebar": "Contents",
      "toc_cell": false,
      "toc_position": {},
      "toc_section_display": "block",
      "toc_window_display": false
    }
  },
  "nbformat": 4,
  "nbformat_minor": 2
}