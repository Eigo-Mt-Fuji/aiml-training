{
 "cells": [
  {
   "cell_type": "markdown",
   "metadata": {
    "chapterId": "SyMl_A7ZxWf",
    "id": "chapter_name"
   },
   "source": [
    "#  Pandasの基礎"
   ]
  },
  {
   "cell_type": "markdown",
   "metadata": {
    "id": "table"
   },
   "source": [
    "- **[1.1 Pandasの概観](#1.1-Pandasの概観)**\n",
    "    - **[1.1.1 Pandasとは](#1.1.1-Pandasとは)**\n",
    "    - **[1.2.2 SeriesとDataFrameのデータの確認](#1.1.2-SeriesとDataFrameのデータの確認)**\n",
    "<br><br>\n",
    "- **[1.2 Series](#1.2-Series)**\n",
    "    - **[1.2.1 Seriesを生成する](#1.2.1-Seriesを生成する)**\n",
    "    - **[1.2.2 参照](#1.2.2-参照)**\n",
    "    - **[1.2.3 データ、インデックスを取り出す](#1.2.3-データ、インデックスを取り出す)**\n",
    "    - **[1.2.4 要素を追加する](#1.2.4-要素を追加する)**\n",
    "    - **[1.2.5 要素を削除する](#1.2.5-要素を削除する)**\n",
    "    - **[1.2.6 フィルタリング](#1.2.6-フィルタリング)**\n",
    "    - **[1.2.7 ソート](#1.2.7-ソート)**\n",
    "<br><br>\n",
    "- **[1.3 DataFrame](#1.3-DataFrame)**\n",
    "    - **[1.3.1 DataFrameの生成](#1.3.1-DataFrameの生成)**\n",
    "    - **[1.3.2 インデックスとカラムを設定する](#1.3.2-インデックスとカラムを設定する)**\n",
    "    - **[1.3.3 行を追加する](#1.3.3-行を追加する)**\n",
    "    - **[1.3.4 列を追加する](#1.3.4-列を追加する)**\n",
    "    - **[1.3.5 データの参照](#1.3.5-データの参照)**\n",
    "    - **[1.3.6 名前による参照](#1.3.6-名前による参照)**\n",
    "    - **[1.3.7 番号による参照](#1.3.7-番号による参照)**\n",
    "    - **[1.3.8 行または列の削除](#1.3.8-行または列の削除)**\n",
    "    - **[1.3.9 ソート](#1.3.9-ソート)**\n",
    "    - **[1.3.10 フィルタリング](#1.3.10-フィルタリング)**\n",
    "<br><br>\n",
    "- **[1.4 添削問題](#1.4-添削問題)**"
   ]
  },
  {
   "cell_type": "markdown",
   "metadata": {},
   "source": [
    "***"
   ]
  },
  {
   "cell_type": "markdown",
   "metadata": {
    "id": "section_name",
    "sectionId": "S1mlO0Q-gZf"
   },
   "source": [
    "## 1.1 Pandasの概観"
   ]
  },
  {
   "cell_type": "markdown",
   "metadata": {
    "courseId": 4010,
    "exerciseId": "HJA7YhIiIgG",
    "id": "quiz_session_name",
    "important": true,
    "isDL": false,
    "timeoutSecs": 5
   },
   "source": [
    "### 1.1.1 Pandasとは"
   ]
  },
  {
   "cell_type": "markdown",
   "metadata": {
    "id": "description"
   },
   "source": [
    "**<font color=##AA0000>Pandas</font>** もNumpyのようにデータの集合を扱うためのライブラリです。Numpyはデータを数学的な行列として扱うことができ、科学計算に特化しています。一方、Pandasでは **一般的なデータベースにて行われる操作が実行でき、数値以外にも氏名や住所といった文字列データも簡単に扱うことができます。** データ分析においてNumpyとPandasを使い分けることで効率的にデータ分析を行うことができます。\n",
    "\n",
    "Pandasには **Series** と **DataFrame** という二種類のデータ構造が存在します。主に使われるデータ構造は以下の二次元のテーブルで表される **DataFrame** です。横方向のデータを行、縦方向のデータを列と呼びます。各行、各列に対してそれぞれラベルが付与されており、行ラベルは **インデックス** 、列ラベルは **カラム** と言います。 **Series** は1次元の配列で、**DataFrame**の行、もしくは列として捉えることができます。こちらも各要素にラベルが付与されています。\n",
    "\n",
    "<img src=\"https://aidemyexcontentspic.blob.core.windows.net/contents-pic/4010_pandas/dataframe_q.png\", style=\"width: 300px;\">\n",
    "\n",
    "**DataFrameのラベル情報**\n",
    "```\n",
    "インデックス：[0, 1, 2, 3, 4]\n",
    "カラム：[\"Prefecture\", \"Area\", \"Population\", \"Region\"]\n",
    "```\n",
    "\n",
    "<img src=\"https://aidemyexcontentspic.blob.core.windows.net/contents-pic/4010_pandas/series_q.png\">\n",
    "\n",
    "**Seriesのラベル情報**\n",
    "```\n",
    "インデックス:[0, 1, 2, 3, 4]\n",
    "```\n",
    "\n"
   ]
  },
  {
   "cell_type": "markdown",
   "metadata": {},
   "source": [
    "#### 問題"
   ]
  },
  {
   "cell_type": "markdown",
   "metadata": {
    "id": "question"
   },
   "source": [
    "- 次のDataFrameのカラムは次の選択肢のうちのどれでしょうか\n",
    "<br><br>\n",
    "<img src=\"https://aidemyexcontentspic.blob.core.windows.net/contents-pic/4010_pandas/dataframe_q.png\" style=\"width: 300px;\">"
   ]
  },
  {
   "cell_type": "markdown",
   "metadata": {
    "id": "choices"
   },
   "source": [
    "- `\"Prefecture\", \"Area\", \"Population\", \"Region\"`\n",
    "- 0, 1, 2, 3, 4"
   ]
  },
  {
   "cell_type": "markdown",
   "metadata": {},
   "source": [
    "#### ヒント"
   ]
  },
  {
   "cell_type": "markdown",
   "metadata": {
    "id": "hint"
   },
   "source": [
    "- カラムは列のラベル、つまり縦方向のデータにそれぞれつけられているラベルのことです。"
   ]
  },
  {
   "cell_type": "markdown",
   "metadata": {},
   "source": [
    "#### 解答例"
   ]
  },
  {
   "cell_type": "markdown",
   "metadata": {
    "id": "answer"
   },
   "source": [
    "- `\"Prefecture\", \"Area\", \"Population\", \"Region\"`"
   ]
  },
  {
   "cell_type": "markdown",
   "metadata": {},
   "source": [
    "***"
   ]
  },
  {
   "cell_type": "markdown",
   "metadata": {
    "courseId": 4010,
    "exerciseId": "SkJNF3IjUef",
    "id": "code_session_name",
    "important": true,
    "isDL": false,
    "timeoutSecs": 5
   },
   "source": [
    "### 1.1.2 SeriesとDataFrameのデータの確認"
   ]
  },
  {
   "cell_type": "markdown",
   "metadata": {
    "id": "description"
   },
   "source": [
    "Pandasには **Series** と **DataFrame** という二種類のデータ構造が存在することを先ほど述べました。実際にどのようなデータとなっているのか確認してみましょう。  \n",
    "**Series** では辞書型を渡すことで辞書のキーで昇順にソートされます。  \n",
    "**DataFrame**も同様に、columnsを指定しないと、昇順にソートされます。  \n",
    "指定する場合は以下のように第二引数にcolumns=[リスト型]のようにする必要があります。  \n",
    "pd.DataFrame(data, columns=[\"year\", \"pref\", \"count\"])\n",
    "\n",
    "<br>\n",
    "**Seriesのデータ**\n",
    "```python\n",
    "fruits = {\"orange\": 2, \"banana\": 3}\n",
    "print(pd.Series(fruits))\n",
    "# 出力結果\n",
    "banana    3\n",
    "orange    2\n",
    "dtype: int64\n",
    "\n",
    "```\n",
    "<br>\n",
    "\n",
    "**DataFrameのデータ**\n",
    "```python\n",
    "data = {\"fruits\": [\"apple\", \"orange\", \"banana\", \"strawberry\", \"kiwifruit\"],\n",
    "        \"year\": [2001, 2002, 2001, 2008, 2006],\n",
    "        \"time\": [1, 4, 5, 6, 3]}\n",
    "df = pd.DataFrame(data)\n",
    "print(df)\n",
    "# 出力結果\n",
    "       fruits  time  year\n",
    "0       apple     1  2001\n",
    "1      orange     4  2002\n",
    "2      banana     5  2001\n",
    "3  strawberry     6  2008\n",
    "4   kiwifruit     3  2006\n",
    "```        \n"
   ]
  },
  {
   "cell_type": "markdown",
   "metadata": {},
   "source": [
    "#### 問題"
   ]
  },
  {
   "cell_type": "markdown",
   "metadata": {
    "id": "question"
   },
   "source": [
    "- 右記のコードを実行して、SeriesとDataFrameがどのようなデータなのか確認してください。\n",
    "- Series、DataFrameのデータの作り方は後の節で扱いますので、Seriesはラベルのついた1次元のデータで、\n",
    "<br>DataFrameはSeriesを束ねたような2次元のデータ構造をしていることが確認できればOKです。"
   ]
  },
  {
   "cell_type": "code",
   "execution_count": null,
   "metadata": {
    "id": "index",
    "scrolled": true
   },
   "outputs": [],
   "source": [
    "# pandasをpdとしてimport\n",
    "import pandas as pd\n",
    "\n",
    "# Series用のラベル作成（インデックス）\n",
    "index = [\"apple\", \"orange\", \"banana\", \"strawberry\", \"kiwifruit\"]\n",
    "\n",
    "# Series用のデータ値の代入\n",
    "data = [10, 5, 8, 12, 3]\n",
    "\n",
    "# Series作成\n",
    "series = pd.Series(data, index=index)\n",
    "\n",
    "\n",
    "# 辞書型を用いてDataFrame用のデータの作成\n",
    "data = {\"fruits\": [\"apple\", \"orange\", \"banana\", \"strawberry\", \"kiwifruit\"],\n",
    "        \"year\": [2001, 2002, 2001, 2008, 2006],\n",
    "        \"time\": [1, 4, 5, 6, 3]}\n",
    "\n",
    "# DataFrame作成\n",
    "df = pd.DataFrame(data)\n",
    "\n",
    "print(\"Seriesデータ\")\n",
    "print(series)\n",
    "print(\"\\n\")\n",
    "print(\"DataFrameデータ\")\n",
    "print(df)"
   ]
  },
  {
   "cell_type": "markdown",
   "metadata": {},
   "source": [
    "#### ヒント"
   ]
  },
  {
   "cell_type": "markdown",
   "metadata": {
    "id": "hint"
   },
   "source": [
    "- 右記のコードでは、Seriesではインデックスを指定して作成しています。指定しない場合は0から昇順に番号が振られます。\n",
    "- DataFrameの行のインデックスには、0から昇順に番号が振られています。"
   ]
  },
  {
   "cell_type": "markdown",
   "metadata": {},
   "source": [
    "#### 解答例"
   ]
  },
  {
   "cell_type": "code",
   "execution_count": null,
   "metadata": {
    "id": "answer",
    "scrolled": true
   },
   "outputs": [],
   "source": [
    "# pandasをpdとしてimport\n",
    "import pandas as pd\n",
    "\n",
    "# Series用のラベル作成（インデックス）\n",
    "index = [\"apple\", \"orange\", \"banana\", \"strawberry\", \"kiwifruit\"]\n",
    "\n",
    "# Series用のデータ値の代入\n",
    "data = [10, 5, 8, 12, 3]\n",
    "\n",
    "# Series作成\n",
    "series = pd.Series(data, index=index)\n",
    "\n",
    "\n",
    "# 辞書型を用いてDataFrame用のデータの作成\n",
    "data = {\"fruits\": [\"apple\", \"orange\", \"banana\", \"strawberry\", \"kiwifruit\"],\n",
    "        \"year\": [2001, 2002, 2001, 2008, 2006],\n",
    "        \"time\": [1, 4, 5, 6, 3]}\n",
    "\n",
    "# DataFrame作成\n",
    "df = pd.DataFrame(data)\n",
    "\n",
    "print(\"Seriesデータ\")\n",
    "print(series)\n",
    "print(\"\\n\")\n",
    "print(\"DataFrameデータ\")\n",
    "print(df)"
   ]
  },
  {
   "cell_type": "markdown",
   "metadata": {},
   "source": [
    "***"
   ]
  },
  {
   "cell_type": "markdown",
   "metadata": {
    "id": "section_name",
    "sectionId": "SJEe_RQZg-z"
   },
   "source": [
    "## 1.2 Series"
   ]
  },
  {
   "cell_type": "markdown",
   "metadata": {
    "courseId": 4010,
    "exerciseId": "SJgEFnIsUxM",
    "id": "code_session_name",
    "important": true,
    "isDL": false,
    "timeoutSecs": 5
   },
   "source": [
    "### 1.2.1 Seriesを生成する"
   ]
  },
  {
   "cell_type": "markdown",
   "metadata": {
    "id": "description"
   },
   "source": [
    "Pandasのデータ構造のうちの1つである Series は1次元の配列のように扱うことができます。pandasをimportし、pandas.Series(辞書型のリスト)のように辞書型のリストを渡すことでSeriesを生成できます。なお、import pandas as pdと書くと、pandas.Seriesをpd.Seriesと省略できます。(以下より、pandasはpdと表記します。)また、データとそれに関連付けたインデックスを指定することでもSeriesを生成できます。pd.Series(データ配列, index=インデックス配列)と指定することでSeriesを生成できます。インデックスを指定しない場合は0から順の整数がインデックスとして付きます。\n",
    "\n",
    "また、Seriesを出力した際に「`dtype: int64`」と出力されるのですが、 **Seriesに格納されている値が ”int64” という型であること** を示しています。`dtype` とは “Data type” のことで、データの型を指します。(データが整数であれば“int”、小数点を持つものであれば“float” など)`int64` とは64bitのサイズを持つ整数のことで、$-2^{63}$ ~ $2^{63}-1$ までの整数を扱うことができます。`dtype` には他にも `int32` など同じ整数でもサイズの異なるものや、0か1のみを値に持つ `bool` という型などがあります。\n",
    "\n",
    "```python\n",
    "fruits = {\"banana\": 3, \"orange\": 2}\n",
    "print(pd.Series(fruits))\n",
    "# 出力結果\n",
    "banana    3\n",
    "orange    2\n",
    "dtype: int64\n",
    "\n",
    "```"
   ]
  },
  {
   "cell_type": "markdown",
   "metadata": {},
   "source": [
    "#### 問題"
   ]
  },
  {
   "cell_type": "markdown",
   "metadata": {
    "id": "question"
   },
   "source": [
    "- `pandas`を`import`してください。\n",
    "- データに`data`、インデックスに`index`を指定したSeriesを作成し`series`に代入してください。\n",
    "- 大文字で始まるSeriesはデータ型の名前、小文字で始まるseriesは変数名です。"
   ]
  },
  {
   "cell_type": "code",
   "execution_count": null,
   "metadata": {
    "id": "index",
    "scrolled": true
   },
   "outputs": [],
   "source": [
    "# pandasをpdとしてimport\n",
    "\n",
    "\n",
    "index = [\"apple\", \"orange\", \"banana\", \"strawberry\", \"kiwifruit\"]\n",
    "data = [10, 5, 8, 12, 3]\n",
    "\n",
    "# indexとdataを含むSeriesを作成しseriesに代入してください\n",
    "\n",
    "\n",
    "print(series)"
   ]
  },
  {
   "cell_type": "markdown",
   "metadata": {},
   "source": [
    "#### ヒント"
   ]
  },
  {
   "cell_type": "markdown",
   "metadata": {
    "id": "hint"
   },
   "source": [
    "- `pandas`を`import`することで、Seriesを用いることができます。\n",
    "- `pd.Series(データ配列, index=インデックス配列)`と指定することでSeriesを生成できます。"
   ]
  },
  {
   "cell_type": "markdown",
   "metadata": {},
   "source": [
    "#### 解答例"
   ]
  },
  {
   "cell_type": "code",
   "execution_count": null,
   "metadata": {
    "id": "answer",
    "scrolled": true
   },
   "outputs": [],
   "source": [
    "# pandasをpdとしてimport\n",
    "import pandas as pd\n",
    "\n",
    "index = [\"apple\", \"orange\", \"banana\", \"strawberry\", \"kiwifruit\"]\n",
    "data = [10, 5, 8, 12, 3]\n",
    "\n",
    "# indexとdataを含むSeriesを作成しseriesに代入してください\n",
    "series = pd.Series(data, index=index)\n",
    "\n",
    "print(series)"
   ]
  },
  {
   "cell_type": "markdown",
   "metadata": {},
   "source": [
    "***"
   ]
  },
  {
   "cell_type": "markdown",
   "metadata": {
    "courseId": 4010,
    "exerciseId": "SJZ4thLsUlz",
    "id": "code_session_name",
    "important": true,
    "isDL": false,
    "timeoutSecs": 5
   },
   "source": [
    "### 1.2.2 参照"
   ]
  },
  {
   "cell_type": "markdown",
   "metadata": {
    "id": "description"
   },
   "source": [
    "Seriesの要素を参照するとき、リストのように番号を指定する方法とインデックス値を指定する方法が使えます。番号を指定する場合は、リストのスライス機能のように`series[:3]`と指定することで、任意の範囲を取り出すことができます。インデックス値を指定する場合は、欲しい要素のインデックス値を一つのリストにまとめてから参照することができます。リストではなく1つの整数値を指定した場合は、その位置に該当するデータのみを取り出すことができます。\n",
    "\n",
    "```python\n",
    "fruits = {\"banana\": 3, \"orange\": 4, \"grape\": 1, \"peach\": 5}\n",
    "series = pd.Series(fruits)\n",
    "print(series[0:2])\n",
    "# 出力結果\n",
    "banana    3\n",
    "orange    4\n",
    "```\n",
    "\n",
    "```python\n",
    "print(series[[\"orange\", \"peach\"]])\n",
    "# 出力結果\n",
    "orange    4\n",
    "peach     5\n",
    "```"
   ]
  },
  {
   "cell_type": "markdown",
   "metadata": {},
   "source": [
    "#### 問題"
   ]
  },
  {
   "cell_type": "markdown",
   "metadata": {
    "id": "question"
   },
   "source": [
    "- インデックス参照を用いて`series`の2つ目から4つ目までの3つの要素を取り出して`items1`に代入して下さい。\n",
    "- インデックス値を指定する方法を用いて`\"apple\", \"banana\", \"kiwifruit\"`のインデックスと持つ要素を取り出して`items2`に代入してください。"
   ]
  },
  {
   "cell_type": "code",
   "execution_count": null,
   "metadata": {
    "id": "index",
    "scrolled": true
   },
   "outputs": [],
   "source": [
    "import pandas as pd\n",
    "\n",
    "index = [\"apple\", \"orange\", \"banana\", \"strawberry\", \"kiwifruit\"]\n",
    "data = [10, 5, 8, 12, 3]\n",
    "series = pd.Series(data, index=index)\n",
    "\n",
    "# インデックス参照を用いてseriesの2つ目から4つ目までの3つの要素を取り出してitems1に代入して下さい\n",
    "\n",
    "\n",
    "# インデックス値を指定する方法を用いて\"apple\", \"banana\", \"kiwifruit\"のインデックスと持つ要素を取り出してitems2に代入してください\n",
    "\n",
    "\n",
    "print(items1)\n",
    "print()\n",
    "print(items2)"
   ]
  },
  {
   "cell_type": "markdown",
   "metadata": {},
   "source": [
    "#### ヒント"
   ]
  },
  {
   "cell_type": "markdown",
   "metadata": {
    "id": "hint"
   },
   "source": [
    "- インデックス値を指定する場合は、リストのスライス機能のように`series[:3]`と指定することで、任意の範囲を取り出すことができます。\n",
    "- インデックス値を指定する場合は、欲しい要素のインデックス値を一つのリストにまとめてから参照することができます。"
   ]
  },
  {
   "cell_type": "markdown",
   "metadata": {},
   "source": [
    "#### 解答例"
   ]
  },
  {
   "cell_type": "code",
   "execution_count": null,
   "metadata": {
    "id": "answer",
    "scrolled": true
   },
   "outputs": [],
   "source": [
    "import pandas as pd\n",
    "\n",
    "index = [\"apple\", \"orange\", \"banana\", \"strawberry\", \"kiwifruit\"]\n",
    "data = [10, 5, 8, 12, 3]\n",
    "series = pd.Series(data, index=index)\n",
    "\n",
    "# インデックス参照を用いてseriesの2つ目から4つ目までの3つの要素を取り出してitems1に代入して下さい\n",
    "items1 = series[1:4]\n",
    "\n",
    "# インデックス値を指定する方法を用いて\"apple\", \"banana\", \"kiwifruit\"のインデックスと持つ要素を取り出してitems2に代入してください\n",
    "items2 = series[[\"apple\", \"banana\", \"kiwifruit\"]]\n",
    "\n",
    "print(items1)\n",
    "print()\n",
    "print(items2)"
   ]
  },
  {
   "cell_type": "markdown",
   "metadata": {},
   "source": [
    "***"
   ]
  },
  {
   "cell_type": "markdown",
   "metadata": {
    "courseId": 4010,
    "exerciseId": "S1GEt28oUeG",
    "id": "code_session_name",
    "important": true,
    "isDL": false,
    "timeoutSecs": 5
   },
   "source": [
    "### 1.2.3 データ、インデックスを取り出す"
   ]
  },
  {
   "cell_type": "markdown",
   "metadata": {
    "id": "description"
   },
   "source": [
    "作成したSeriesのデータの値のみ、またはインデックスのみを取り出す方法が用意されています。Series型において`series.values`とするとデータの値、`series.index`とするとインデックスを参照することができます。"
   ]
  },
  {
   "cell_type": "markdown",
   "metadata": {},
   "source": [
    "#### 問題"
   ]
  },
  {
   "cell_type": "markdown",
   "metadata": {
    "id": "question"
   },
   "source": [
    "- 変数`series_values`に`series`のデータを代入してください\n",
    "- 変数`series_index`に`series`のインデックスを代入してください"
   ]
  },
  {
   "cell_type": "code",
   "execution_count": null,
   "metadata": {
    "id": "index",
    "scrolled": true
   },
   "outputs": [],
   "source": [
    "import pandas as pd\n",
    "\n",
    "index = [\"apple\", \"orange\", \"banana\", \"strawberry\", \"kiwifruit\"]\n",
    "data = [10, 5, 8, 12, 3]\n",
    "series = pd.Series(data, index=index)\n",
    "\n",
    "# series_valuesにseriesのデータを代入してください\n",
    "\n",
    "\n",
    "# series_indexにseriesのインデックスを代入してください\n",
    "\n",
    "\n",
    "print(series_values)\n",
    "print(series_index)"
   ]
  },
  {
   "cell_type": "markdown",
   "metadata": {},
   "source": [
    "#### ヒント"
   ]
  },
  {
   "cell_type": "markdown",
   "metadata": {
    "id": "hint"
   },
   "source": [
    "- Series型のデータ`series`において`series.values`とするとデータの値、`series.index`とするとインデックスを参照することができます。"
   ]
  },
  {
   "cell_type": "markdown",
   "metadata": {},
   "source": [
    "#### 解答例"
   ]
  },
  {
   "cell_type": "code",
   "execution_count": null,
   "metadata": {
    "id": "answer",
    "scrolled": true
   },
   "outputs": [],
   "source": [
    "import pandas as pd\n",
    "\n",
    "index = [\"apple\", \"orange\", \"banana\", \"strawberry\", \"kiwifruit\"]\n",
    "data = [10, 5, 8, 12, 3]\n",
    "series = pd.Series(data, index=index)\n",
    "\n",
    "# series_valuesにseriesのデータを代入してください\n",
    "series_values = series.values\n",
    "\n",
    "# series_indexにseriesのインデックスを代入してください\n",
    "series_index = series.index\n",
    "\n",
    "print(series_values)\n",
    "print(series_index)"
   ]
  },
  {
   "cell_type": "markdown",
   "metadata": {},
   "source": [
    "***"
   ]
  },
  {
   "cell_type": "markdown",
   "metadata": {
    "courseId": 4010,
    "exerciseId": "Hy7Nt2LjIeG",
    "id": "code_session_name",
    "important": true,
    "isDL": false,
    "timeoutSecs": 5
   },
   "source": [
    "### 1.2.4 要素を追加する"
   ]
  },
  {
   "cell_type": "markdown",
   "metadata": {
    "id": "description"
   },
   "source": [
    "**Seriesに要素を追加する場合、追加する要素もまたSeries型である必要があります。** 追加したい要素をあらかじめSeries型に変換した後、追加先のSeries型の`append()`に渡すことで要素を追加することができます。\n",
    "\n",
    "\n",
    "```python\n",
    "fruits = {\"banana\": 3, \"orange\": 2}\n",
    "series = pd.Series(fruits)\n",
    "series = series.append(pd.Series([3], index=[\"grape\"]))\n",
    "```"
   ]
  },
  {
   "cell_type": "markdown",
   "metadata": {},
   "source": [
    "#### 問題"
   ]
  },
  {
   "cell_type": "markdown",
   "metadata": {
    "id": "question"
   },
   "source": [
    "- `series`に、インデックスが`\"pineapple\"`、データが12の要素を追加してください。"
   ]
  },
  {
   "cell_type": "code",
   "execution_count": null,
   "metadata": {
    "id": "index",
    "scrolled": true
   },
   "outputs": [],
   "source": [
    "import pandas as pd\n",
    "\n",
    "index = [\"apple\", \"orange\", \"banana\", \"strawberry\", \"kiwifruit\"]\n",
    "data = [10, 5, 8, 12, 3]\n",
    "series = pd.Series(data, index=index)\n",
    "\n",
    "# seriesに、インデックスが\"pineapple\"、データが12の要素を追加してください。\n",
    "\n",
    "\n",
    "\n",
    "print(series)"
   ]
  },
  {
   "cell_type": "markdown",
   "metadata": {},
   "source": [
    "#### ヒント"
   ]
  },
  {
   "cell_type": "markdown",
   "metadata": {
    "id": "hint"
   },
   "source": [
    "- 追加したい要素をあらかじめSeries型に変換した後、追加先のSeries型の`append()`に渡すことで要素を追加することができます。"
   ]
  },
  {
   "cell_type": "markdown",
   "metadata": {},
   "source": [
    "#### 解答例"
   ]
  },
  {
   "cell_type": "code",
   "execution_count": 1,
   "metadata": {
    "id": "answer",
    "scrolled": true
   },
   "outputs": [
    {
     "name": "stdout",
     "output_type": "stream",
     "text": [
      "apple         10\n",
      "orange         5\n",
      "banana         8\n",
      "strawberry    12\n",
      "kiwifruit      3\n",
      "pineapple     12\n",
      "dtype: int64\n"
     ]
    }
   ],
   "source": [
    "import pandas as pd\n",
    "\n",
    "index = [\"apple\", \"orange\", \"banana\", \"strawberry\", \"kiwifruit\"]\n",
    "data = [10, 5, 8, 12, 3]\n",
    "series = pd.Series(data, index=index)\n",
    "\n",
    "# seriesに、インデックスが\"pineapple\"、データが12の要素を追加してください。\n",
    "pineapple = pd.Series([12], index=[\"pineapple\"])\n",
    "series = series.append(pineapple)\n",
    "#series = series.append(pd.Series({\"pineapple\":12}))でもOK\n",
    "\n",
    "print(series)"
   ]
  },
  {
   "cell_type": "markdown",
   "metadata": {},
   "source": [
    "***"
   ]
  },
  {
   "cell_type": "markdown",
   "metadata": {
    "courseId": 4010,
    "exerciseId": "Hk4NKn8oLeM",
    "id": "code_session_name",
    "important": true,
    "isDL": false,
    "timeoutSecs": 5
   },
   "source": [
    "### 1.2.5 要素を削除する"
   ]
  },
  {
   "cell_type": "markdown",
   "metadata": {
    "id": "description"
   },
   "source": [
    "Seriesのインデックス参照を用いて、要素を削除することができます。Series型の変数`series`において、`series.drop(\"インデックス\")`とすることで指定されたインデックスを持つ要素を削除することができます。"
   ]
  },
  {
   "cell_type": "markdown",
   "metadata": {},
   "source": [
    "#### 問題"
   ]
  },
  {
   "cell_type": "markdown",
   "metadata": {
    "id": "question"
   },
   "source": [
    "- `series`のインデックスがstrawberryの要素を削除したSeriesをseriesに代入してください"
   ]
  },
  {
   "cell_type": "code",
   "execution_count": null,
   "metadata": {
    "id": "index",
    "scrolled": true
   },
   "outputs": [],
   "source": [
    "import pandas as pd\n",
    "\n",
    "index = [\"apple\", \"orange\", \"banana\", \"strawberry\", \"kiwifruit\"]\n",
    "data = [10, 5, 8, 12, 3]\n",
    "\n",
    "# indexとdataを含むSeriesを作成しseriesに代入\n",
    "series = pd.Series(data, index=index)\n",
    "\n",
    "# インデックスがstrawberryの要素を削除してseriesに代入してください\n",
    "\n",
    "\n",
    "print(series)"
   ]
  },
  {
   "cell_type": "markdown",
   "metadata": {},
   "source": [
    "#### ヒント"
   ]
  },
  {
   "cell_type": "markdown",
   "metadata": {
    "id": "hint"
   },
   "source": [
    "- Series型の変数`series`において、`series.drop(\"インデックス\")`とすることで指定されたインデックスを持つ要素を削除することができます。"
   ]
  },
  {
   "cell_type": "markdown",
   "metadata": {},
   "source": [
    "#### 解答例"
   ]
  },
  {
   "cell_type": "code",
   "execution_count": null,
   "metadata": {
    "id": "answer",
    "scrolled": true
   },
   "outputs": [],
   "source": [
    "import pandas as pd\n",
    "\n",
    "index = [\"apple\", \"orange\", \"banana\", \"strawberry\", \"kiwifruit\"]\n",
    "data = [10, 5, 8, 12, 3]\n",
    "\n",
    "# indexとdataを含むSeriesを作成しseriesに代入\n",
    "series = pd.Series(data, index=index)\n",
    "\n",
    "# インデックスがstrawberryの要素を削除してseriesに代入してください\n",
    "series = series.drop(\"strawberry\")\n",
    "\n",
    "print(series)"
   ]
  },
  {
   "cell_type": "markdown",
   "metadata": {},
   "source": [
    "***"
   ]
  },
  {
   "cell_type": "markdown",
   "metadata": {
    "courseId": 4010,
    "exerciseId": "ByB4thIjIgG",
    "id": "code_session_name",
    "important": false,
    "isDL": false,
    "timeoutSecs": 5
   },
   "source": [
    "### 1.2.6 フィルタリング"
   ]
  },
  {
   "cell_type": "markdown",
   "metadata": {
    "id": "description"
   },
   "source": [
    "Series型のデータにおいて条件に一致する要素を取り出したい場合があります。Pandasでは`bool` **型のシーケンスを指定すると、** `True` **となるものだけを抽出することができます。** シーケンスとは、「連続」「順序」のことを言います。\n",
    "\n",
    "```python\n",
    "index = [\"apple\", \"orange\", \"banana\", \"strawberry\", \"kiwifruit\"]\n",
    "data = [10, 5, 8, 12, 3]\n",
    "series = pd.Series(data, index=index)\n",
    "\n",
    "conditions = [True, True, False, False, False]\n",
    "print(series[conditions])\n",
    "# 出力結果\n",
    "apple     10\n",
    "orange     5\n",
    "dtype: int64  \n",
    "```\n",
    "\n",
    "ここでは`bool`型のシーケンスを作成しましたが、Pandasでは **Series（やDataFrame）を使って条件式を作成すると`bool`型のシーケンスを取得** することができます。これを用いることで、例えばSeries型の変数`series`に対して、`series[series >= 5]`とすると値が5以上の要素のみを含むSeriesを得ることができます。また、`series[ ][ ]`のように`[ ]`を複数個後ろに付け加えることで複数の条件を付け加えることができます。\n",
    "\n",
    "```python\n",
    "print(series[series >= 5])\n",
    "# 出力結果\n",
    "apple         10\n",
    "orange         5\n",
    "banana         8\n",
    "strawberry    12\n",
    "dtype: int64\n",
    "\n",
    "```"
   ]
  },
  {
   "cell_type": "markdown",
   "metadata": {},
   "source": [
    "#### 問題"
   ]
  },
  {
   "cell_type": "markdown",
   "metadata": {
    "id": "question"
   },
   "source": [
    "- `series`内の要素のうち、値が5以上10未満の要素を含むSeriesを作り、`series`に再代入してください。"
   ]
  },
  {
   "cell_type": "code",
   "execution_count": null,
   "metadata": {
    "id": "index",
    "scrolled": true
   },
   "outputs": [],
   "source": [
    "import pandas as pd\n",
    "\n",
    "index = [\"apple\", \"orange\", \"banana\", \"strawberry\", \"kiwifruit\"]\n",
    "data = [10, 5, 8, 12, 3]\n",
    "series = pd.Series(data, index=index)\n",
    "\n",
    "# series内の要素のうち、値が5以上10未満の要素を含むSeriesを作り、seriesに再代入してください\n",
    "\n",
    "\n",
    "print(series)"
   ]
  },
  {
   "cell_type": "markdown",
   "metadata": {},
   "source": [
    "#### ヒント"
   ]
  },
  {
   "cell_type": "markdown",
   "metadata": {
    "id": "hint"
   },
   "source": [
    "- Series型の変数`series`に対して、`series[series >= 5]`とすると値が5以上の要素のみを含むSeriesを得ることができます。\n",
    "- 条件を複数個つけたい場合は`series[][]`のようにさらに後ろに付け加えれば良いです。"
   ]
  },
  {
   "cell_type": "markdown",
   "metadata": {},
   "source": [
    "#### 解答例"
   ]
  },
  {
   "cell_type": "code",
   "execution_count": null,
   "metadata": {
    "id": "answer",
    "scrolled": true
   },
   "outputs": [],
   "source": [
    "import pandas as pd\n",
    "\n",
    "index = [\"apple\", \"orange\", \"banana\", \"strawberry\", \"kiwifruit\"]\n",
    "data = [10, 5, 8, 12, 3]\n",
    "series = pd.Series(data, index=index)\n",
    "\n",
    "# series内の要素のうち、値が5以上10未満の要素を含むSeriesを作り、seriesに再代入してください\n",
    "series = series[series >= 5][series < 10]\n",
    "\n",
    "print(series)"
   ]
  },
  {
   "cell_type": "markdown",
   "metadata": {},
   "source": [
    "***"
   ]
  },
  {
   "cell_type": "markdown",
   "metadata": {
    "courseId": 4010,
    "exerciseId": "H1IEFnUoLeG",
    "id": "code_session_name",
    "important": true,
    "isDL": false,
    "timeoutSecs": 5
   },
   "source": [
    "### 1.2.7 ソート"
   ]
  },
  {
   "cell_type": "markdown",
   "metadata": {
    "id": "description"
   },
   "source": [
    "Seriesでは、インデックスについてのソートとデータについてソートする二つの方法が用意されています。Series型の変数`series`に対して、インデックスについてのソートは`series.sort_index()`、データについてのソートは`series.sort_values()`で行うことができます。 **特に指定をしない限りは昇順にソートされます** が、引数に`ascending=False`を渡すことで降順にソートされます。"
   ]
  },
  {
   "cell_type": "markdown",
   "metadata": {},
   "source": [
    "#### 問題"
   ]
  },
  {
   "cell_type": "markdown",
   "metadata": {
    "id": "question"
   },
   "source": [
    "- `series`をインデックスについてアルファベット順にソートしたSeriesを`items1`に代入にしてください。\n",
    "- `series`をデータについて値の大きさを昇順にソートしたSeriesを`items2`に代入してください。"
   ]
  },
  {
   "cell_type": "code",
   "execution_count": null,
   "metadata": {
    "id": "index",
    "scrolled": true
   },
   "outputs": [],
   "source": [
    "import pandas as pd\n",
    "\n",
    "index = [\"apple\", \"orange\", \"banana\", \"strawberry\", \"kiwifruit\"]\n",
    "data = [10, 5, 8, 12, 3]\n",
    "series = pd.Series(data, index=index)\n",
    "\n",
    "# seriesをインデックスについてアルファベット順にソートしたSeriesをitems1に代入にしてください。\n",
    "\n",
    "\n",
    "# seriesをデータについて値の大きさを昇順にソートしたSeriesをitems2に代入してください。\n",
    "\n",
    "\n",
    "print(items1)\n",
    "print()\n",
    "print(items2)"
   ]
  },
  {
   "cell_type": "markdown",
   "metadata": {},
   "source": [
    "#### ヒント"
   ]
  },
  {
   "cell_type": "markdown",
   "metadata": {
    "id": "hint"
   },
   "source": [
    "- Series型の変数`series`に対してインデックスについてのソートは`series.sort_index()`、データについてのソートは`series.sort_values()`で行うことができます。"
   ]
  },
  {
   "cell_type": "markdown",
   "metadata": {},
   "source": [
    "#### 解答例"
   ]
  },
  {
   "cell_type": "code",
   "execution_count": null,
   "metadata": {
    "id": "answer",
    "scrolled": true
   },
   "outputs": [],
   "source": [
    "import pandas as pd\n",
    "\n",
    "index = [\"apple\", \"orange\", \"banana\", \"strawberry\", \"kiwifruit\"]\n",
    "data = [10, 5, 8, 12, 3]\n",
    "series = pd.Series(data, index=index)\n",
    "\n",
    "# seriesをインデックスについてアルファベット順にソートしたSeriesをitems1に代入にしてください。\n",
    "items1 = series.sort_index()\n",
    "\n",
    "# seriesをデータについて値の大きさを昇順にソートしたSeriesをitems2に代入してください。\n",
    "items2 = series.sort_values()\n",
    "\n",
    "print(items1)\n",
    "print()\n",
    "print(items2)"
   ]
  },
  {
   "cell_type": "markdown",
   "metadata": {},
   "source": [
    "***"
   ]
  },
  {
   "cell_type": "markdown",
   "metadata": {
    "id": "section_name",
    "sectionId": "S1SxOAXbe-G"
   },
   "source": [
    "## 1.3 DataFrame"
   ]
  },
  {
   "cell_type": "markdown",
   "metadata": {
    "courseId": 4010,
    "exerciseId": "SkDVthLiLxM",
    "id": "code_session_name",
    "important": true,
    "isDL": false,
    "timeoutSecs": 5
   },
   "source": [
    "### 1.3.1 DataFrameの生成"
   ]
  },
  {
   "cell_type": "markdown",
   "metadata": {
    "id": "description"
   },
   "source": [
    "**<font color=#AA0000>DataFrame</font>** は、Seriesを複数束ねたような2次元のデータ構造をしています。`pd.DataFrame()`に  **Series** を渡すことでDataFrameを生成することができます。行には0から昇順に番号がつきます。\n",
    "\n",
    "```python\n",
    "pd.DataFrame([Series, Series, ...])\n",
    "```\n",
    "\n",
    "また、バリューにリスト型を持った辞書型を用いても作成することができます。注意点としては、リスト型の長さは等しくなくてはいけません。\n",
    "\n",
    "**コード**\n",
    "```python\n",
    "data = {\"fruits\": [\"apple\", \"orange\", \"banana\", \"strawberry\", \"kiwifruit\"],\n",
    "        \"year\": [2001, 2002, 2001, 2008, 2006],\n",
    "        \"time\": [1, 4, 5, 6, 3]}\n",
    "df = pd.DataFrame(data)\n",
    "print(df)\n",
    "```\n",
    "**出力結果**\n",
    "```python\n",
    "       fruits  time  year\n",
    "0       apple     1  2001\n",
    "1      orange     4  2002\n",
    "2      banana     5  2001\n",
    "3  strawberry     6  2008\n",
    "4   kiwifruit     3  2006\n",
    "```"
   ]
  },
  {
   "cell_type": "markdown",
   "metadata": {},
   "source": [
    "#### 問題"
   ]
  },
  {
   "cell_type": "markdown",
   "metadata": {
    "id": "question"
   },
   "source": [
    "- `series1`, `series2`からDataFrameを生成して`df`に代入してください。"
   ]
  },
  {
   "cell_type": "code",
   "execution_count": null,
   "metadata": {
    "id": "index",
    "scrolled": true
   },
   "outputs": [],
   "source": [
    "import pandas as pd\n",
    "\n",
    "index = [\"apple\", \"orange\", \"banana\", \"strawberry\", \"kiwifruit\"]\n",
    "data1 = [10, 5, 8, 12, 3]\n",
    "data2 = [30, 25, 12, 10, 8]\n",
    "series1 = pd.Series(data1, index=index)\n",
    "series2 = pd.Series(data2, index=index)\n",
    "\n",
    "# series1, series2からDataFrameを生成してdfに代入してください\n",
    "\n",
    "\n",
    "# 出力\n",
    "print(df)"
   ]
  },
  {
   "cell_type": "markdown",
   "metadata": {},
   "source": [
    "#### ヒント"
   ]
  },
  {
   "cell_type": "markdown",
   "metadata": {
    "id": "hint"
   },
   "source": [
    "- `pd.DataFrame([Series, Series, ...])`"
   ]
  },
  {
   "cell_type": "markdown",
   "metadata": {},
   "source": [
    "#### 解答例"
   ]
  },
  {
   "cell_type": "code",
   "execution_count": null,
   "metadata": {
    "id": "answer",
    "scrolled": true
   },
   "outputs": [],
   "source": [
    "import pandas as pd\n",
    "\n",
    "index = [\"apple\", \"orange\", \"banana\", \"strawberry\", \"kiwifruit\"]\n",
    "data1 = [10, 5, 8, 12, 3]\n",
    "data2 = [30, 25, 12, 10, 8]\n",
    "series1 = pd.Series(data1, index=index)\n",
    "series2 = pd.Series(data2, index=index)\n",
    "\n",
    "# series1, series2からDataFrameを生成してdfに代入してください\n",
    "df = pd.DataFrame([series1, series2])\n",
    "\n",
    "# 出力\n",
    "print(df)"
   ]
  },
  {
   "cell_type": "markdown",
   "metadata": {},
   "source": [
    "***"
   ]
  },
  {
   "cell_type": "markdown",
   "metadata": {
    "courseId": 4010,
    "exerciseId": "BytNK3IoUgM",
    "id": "code_session_name",
    "important": true,
    "isDL": false,
    "timeoutSecs": 5
   },
   "source": [
    "### 1.3.2 インデックスとカラムを設定する"
   ]
  },
  {
   "cell_type": "markdown",
   "metadata": {
    "id": "description"
   },
   "source": [
    "DataFrameでは、行の名前をインデックス、列の名前をカラムと呼びます。特に指定をしないでDataFrame作成した場合、インデックスは0から昇順に数字が割り当てられます。また、カラムは元データであるSeriesのindexや辞書型のキーになります。DataFrame型の変数dfのインデックスはdf.indexに行数と同じ長さのリストを代入することで設定できます。dfのカラムはdf.columnsに列数と同じ長さのリストを代入することで設定することができます。\n",
    "```python\n",
    "df.index = [\"name1\", \"name2\"]\n",
    "```"
   ]
  },
  {
   "cell_type": "markdown",
   "metadata": {},
   "source": [
    "#### 問題"
   ]
  },
  {
   "cell_type": "markdown",
   "metadata": {
    "id": "question"
   },
   "source": [
    "- DataFrame型の変数`df`のインデックスを`[0, 1]`から`[1, 2]`に設定してください。"
   ]
  },
  {
   "cell_type": "code",
   "execution_count": null,
   "metadata": {
    "id": "index",
    "scrolled": true
   },
   "outputs": [],
   "source": [
    "import pandas as pd\n",
    "\n",
    "index = [\"apple\", \"orange\", \"banana\", \"strawberry\", \"kiwifruit\"]\n",
    "data1 = [10, 5, 8, 12, 3]\n",
    "data2 = [30, 25, 12, 10, 8]\n",
    "series1 = pd.Series(data1, index=index)\n",
    "series2 = pd.Series(data2, index=index)\n",
    "df = pd.DataFrame([series1, series2])\n",
    "\n",
    "# dfのインデックスが1から始まるように設定してください\n",
    "\n",
    "# 出力\n",
    "print(df)"
   ]
  },
  {
   "cell_type": "markdown",
   "metadata": {},
   "source": [
    "#### ヒント"
   ]
  },
  {
   "cell_type": "markdown",
   "metadata": {
    "id": "hint"
   },
   "source": [
    "- DataFrame型の変数`df`のインデックスは`df.index`に行数と同じ長さのリストを代入することで設定できます。\n",
    "- `df`のカラムは`df.columns`に列数と同じ長さの配列を代入することで設定することができます。"
   ]
  },
  {
   "cell_type": "markdown",
   "metadata": {},
   "source": [
    "#### 解答例"
   ]
  },
  {
   "cell_type": "code",
   "execution_count": null,
   "metadata": {
    "id": "answer",
    "scrolled": true
   },
   "outputs": [],
   "source": [
    "import pandas as pd\n",
    "\n",
    "index = [\"apple\", \"orange\", \"banana\", \"strawberry\", \"kiwifruit\"]\n",
    "data1 = [10, 5, 8, 12, 3]\n",
    "data2 = [30, 25, 12, 10, 8]\n",
    "series1 = pd.Series(data1, index=index)\n",
    "series2 = pd.Series(data2, index=index)\n",
    "df = pd.DataFrame([series1, series2])\n",
    "\n",
    "# dfのインデックスが1から始まるように設定してください\n",
    "df.index = [1, 2]\n",
    "\n",
    "# 出力\n",
    "print(df)"
   ]
  },
  {
   "cell_type": "markdown",
   "metadata": {},
   "source": [
    "***"
   ]
  },
  {
   "cell_type": "markdown",
   "metadata": {
    "courseId": 4010,
    "exerciseId": "BJ5VF3LsIez",
    "id": "code_session_name",
    "important": true,
    "isDL": false,
    "timeoutSecs": 5
   },
   "source": [
    "### 1.3.3 行を追加する"
   ]
  },
  {
   "cell_type": "markdown",
   "metadata": {
    "id": "description"
   },
   "source": [
    "新しい観測データや取引情報を得たとき、それらを既存のDataFrameに追加したい場合があります。`DataFrame`型の変数`df`に対して`df.append(\"Series型のデータ\", ignore_index=True)`を実行すると、渡したSeries型のデータのインデックスが`df`のカラムに対応した上で新しい行が追加されたDataFrameが生成されます。ただし、`df`のカラムと`df`に追加するSeries型のデータのインデックスが一致しない場合は、`df`にて新しいカラムが追加され値が存在しない要素は`NaN`で埋められます。\n",
    "\n",
    "**コード**\n",
    "```python\n",
    "data = {\"fruits\": [\"apple\", \"orange\", \"banana\", \"strawberry\", \"kiwifruit\"],\n",
    "        \"year\": [2001, 2002, 2001, 2008, 2006],\n",
    "        \"time\": [1, 4, 5, 6, 3]}\n",
    "df = pd.DataFrame(data)\n",
    "series = pd.Series([\"mango\", 2008, 7], index=[\"fruits\", \"year\", \"time\"])\n",
    "\n",
    "df = df.append(series, ignore_index=True)\n",
    "print(df)\n",
    "```\n",
    "**出力結果**\n",
    "```python\n",
    "       fruits  time  year\n",
    "0       apple     1  2001\n",
    "1      orange     4  2002\n",
    "2      banana     5  2001\n",
    "3  strawberry     6  2008\n",
    "4   kiwifruit     3  2006\n",
    "5       mango     7  2008\n",
    "```"
   ]
  },
  {
   "cell_type": "markdown",
   "metadata": {},
   "source": [
    "#### 問題"
   ]
  },
  {
   "cell_type": "markdown",
   "metadata": {
    "id": "question"
   },
   "source": [
    "- DataFrame型の変数`df`に新しい行として`series3`を追加してください。\n",
    "- DataFrameのカラムと追加するSeriesのインデックスが一致しないときの挙動を確認してください。"
   ]
  },
  {
   "cell_type": "code",
   "execution_count": null,
   "metadata": {
    "id": "index",
    "scrolled": true
   },
   "outputs": [],
   "source": [
    "import pandas as pd\n",
    "\n",
    "index = [\"apple\", \"orange\", \"banana\", \"strawberry\", \"kiwifruit\"]\n",
    "data1 = [10, 5, 8, 12, 3]\n",
    "data2 = [30, 25, 12, 10, 8]\n",
    "data3 = [30, 12, 10, 8, 25, 3]\n",
    "series1 = pd.Series(data1, index=index)\n",
    "series2 = pd.Series(data2, index=index)\n",
    "# dfにseries3を追加し、dfに再代入してください\n",
    "index.append(\"pineapple\")\n",
    "series3 = pd.Series(data3, index=index)\n",
    "df = pd.DataFrame([series1, series2])\n",
    "#dfに再代入してください\n",
    "\n",
    "\n",
    "# 出力\n",
    "# dfと追加するSeriesのインデックスが一致しない時の挙動を確認しましょう\n",
    "print(df)"
   ]
  },
  {
   "cell_type": "markdown",
   "metadata": {},
   "source": [
    "#### ヒント"
   ]
  },
  {
   "cell_type": "markdown",
   "metadata": {
    "id": "hint"
   },
   "source": [
    "- `DataFrame`型の変数`df`に対して`df.append(\"Series型のデータ\", ignore_index=True)`を実行すると、渡したSeries型のデータのインデックスが`df`のカラムに対応した上で新しい行が追加されたDataFrameが生成されます。"
   ]
  },
  {
   "cell_type": "markdown",
   "metadata": {},
   "source": [
    "#### 解答例"
   ]
  },
  {
   "cell_type": "code",
   "execution_count": null,
   "metadata": {
    "id": "answer",
    "scrolled": true
   },
   "outputs": [],
   "source": [
    "import pandas as pd\n",
    "\n",
    "index = [\"apple\", \"orange\", \"banana\", \"strawberry\", \"kiwifruit\"]\n",
    "data1 = [10, 5, 8, 12, 3]\n",
    "data2 = [30, 25, 12, 10, 8]\n",
    "data3 = [30, 12, 10, 8, 25, 3]\n",
    "series1 = pd.Series(data1, index=index)\n",
    "series2 = pd.Series(data2, index=index)\n",
    "# dfにseries3を追加し、dfに再代入してください\n",
    "index.append(\"pineapple\")\n",
    "series3 = pd.Series(data3, index=index)\n",
    "df = pd.DataFrame([series1, series2])\n",
    "#dfに再代入してください\n",
    "df = df.append(series3, ignore_index=True)\n",
    "\n",
    "# 出力\n",
    "# dfと追加するSeriesのインデックスが一致しない時の挙動を確認しましょう\n",
    "print(df)"
   ]
  },
  {
   "cell_type": "markdown",
   "metadata": {},
   "source": [
    "***"
   ]
  },
  {
   "cell_type": "markdown",
   "metadata": {
    "courseId": 4010,
    "exerciseId": "SJjVF3Uj8lf",
    "id": "code_session_name",
    "important": true,
    "isDL": false,
    "timeoutSecs": 5
   },
   "source": [
    "### 1.3.4 列を追加する"
   ]
  },
  {
   "cell_type": "markdown",
   "metadata": {
    "id": "description"
   },
   "source": [
    "観測データや取引情報に新しい属性を追加するとき、それらを既存のDataFrameに追加したい場合があります。DataFrame型の変数`df`に対して`df[\"新しいカラム\"]`にSeriesもしくはリストを代入することで新しい列を追加できます。リストを代入した場合は最初行から最初の要素が割り当てられ、Seriesを代入した場合はSeriesのインデックスが`df`のインデックスに対応します。\n",
    "\n",
    "**コード**\n",
    "```python\n",
    "data = {\"fruits\": [\"apple\", \"orange\", \"banana\", \"strawberry\", \"kiwifruit\"],\n",
    "        \"year\": [2001, 2002, 2001, 2008, 2006],\n",
    "        \"time\": [1, 4, 5, 6, 3]}\n",
    "df = pd.DataFrame(data)\n",
    "\n",
    "df[\"price\"] = [150, 120, 100, 300, 150]\n",
    "print(df)\n",
    "```\n",
    "**出力結果**\n",
    "```python\n",
    "       fruits  time  year  price\n",
    "0       apple     1  2001    150\n",
    "1      orange     4  2002    120\n",
    "2      banana     5  2001    100\n",
    "3  strawberry     6  2008    300\n",
    "4   kiwifruit     3  2006    150\n",
    "```"
   ]
  },
  {
   "cell_type": "markdown",
   "metadata": {},
   "source": [
    "#### 問題"
   ]
  },
  {
   "cell_type": "markdown",
   "metadata": {
    "id": "question"
   },
   "source": [
    "- `df`の`\"mango\"`という名の新しい列に`new_column`のデータを追加してください。"
   ]
  },
  {
   "cell_type": "code",
   "execution_count": null,
   "metadata": {
    "id": "index",
    "scrolled": true
   },
   "outputs": [],
   "source": [
    "import pandas as pd\n",
    "\n",
    "index = [\"apple\", \"orange\", \"banana\", \"strawberry\", \"kiwifruit\"]\n",
    "data1 = [10, 5, 8, 12, 3]\n",
    "data2 = [30, 25, 12, 10, 8]\n",
    "series1 = pd.Series(data1, index=index)\n",
    "series2 = pd.Series(data2, index=index)\n",
    "\n",
    "new_column = pd.Series([15, 7], index=[0, 1])\n",
    "\n",
    "# series1, seires2からDataFrameを生成\n",
    "df = pd.DataFrame([series1, series2])\n",
    "\n",
    "# dfの新しい列\"mango\"にnew_columnのデータを追加してください\n",
    "\n",
    "\n",
    "# 出力\n",
    "print(df)"
   ]
  },
  {
   "cell_type": "markdown",
   "metadata": {},
   "source": [
    "#### ヒント"
   ]
  },
  {
   "cell_type": "markdown",
   "metadata": {
    "id": "hint"
   },
   "source": [
    "- DataFrame型の変数`df`に対して`df[\"新しいカラム\"]`にSeriesもしくはリストを代入することで新しい列を追加できます。\n",
    "- リストを代入した場合は最初行から最初の要素が割り当てられ、Seriesを代入した場合はSeriesのインデックスが`df`のインデックスに対応します。"
   ]
  },
  {
   "cell_type": "markdown",
   "metadata": {},
   "source": [
    "#### 解答例"
   ]
  },
  {
   "cell_type": "code",
   "execution_count": null,
   "metadata": {
    "id": "answer",
    "scrolled": true
   },
   "outputs": [],
   "source": [
    "import pandas as pd\n",
    "\n",
    "index = [\"apple\", \"orange\", \"banana\", \"strawberry\", \"kiwifruit\"]\n",
    "data1 = [10, 5, 8, 12, 3]\n",
    "data2 = [30, 25, 12, 10, 8]\n",
    "series1 = pd.Series(data1, index=index)\n",
    "series2 = pd.Series(data2, index=index)\n",
    "\n",
    "new_column = pd.Series([15, 7], index=[0, 1])\n",
    "\n",
    "# series1, seires2からDataFrameを生成\n",
    "df = pd.DataFrame([series1, series2])\n",
    "\n",
    "# dfの新しい列\"mango\"にnew_columnのデータを追加してください\n",
    "df[\"mango\"] = new_column\n",
    "\n",
    "# 出力\n",
    "print(df)"
   ]
  },
  {
   "cell_type": "markdown",
   "metadata": {},
   "source": [
    "***"
   ]
  },
  {
   "cell_type": "markdown",
   "metadata": {
    "courseId": 4010,
    "exerciseId": "HJ24K2Us8lM",
    "id": "quiz_session_name",
    "important": true,
    "isDL": false,
    "timeoutSecs": 5
   },
   "source": [
    "### 1.3.5 データの参照"
   ]
  },
  {
   "cell_type": "markdown",
   "metadata": {
    "id": "description"
   },
   "source": [
    "DataFrameのデータは行と列を指定することで参照ができます。行、列の指定の仕方により参照の仕方が以下の図のように変わります。参照の方法はいくつかありますが、この教材では`loc`, `iloc`を扱います。`loc`は **名前による参照** を行い、`iloc`は **番号による参照** を行います。\n",
    "<br><br>\n",
    "\n",
    "<img src=\"https://aidemyexcontentspic.blob.core.windows.net/contents-pic/4010_pandas/reference.png\" style=\"width: 600px;\">"
   ]
  },
  {
   "cell_type": "markdown",
   "metadata": {},
   "source": [
    "#### 問題"
   ]
  },
  {
   "cell_type": "markdown",
   "metadata": {
    "id": "question"
   },
   "source": [
    "- DataFrameのデータに対し、名前による参照を行うのは次の選択肢のうちどちらでしょうか。"
   ]
  },
  {
   "cell_type": "markdown",
   "metadata": {
    "collapsed": true,
    "id": "choices"
   },
   "source": [
    "- loc\n",
    "- iloc"
   ]
  },
  {
   "cell_type": "markdown",
   "metadata": {},
   "source": [
    "#### ヒント"
   ]
  },
  {
   "cell_type": "markdown",
   "metadata": {
    "id": "hint"
   },
   "source": [
    "- locは名前による参照を行い、ilocは番号による参照を行います。 "
   ]
  },
  {
   "cell_type": "markdown",
   "metadata": {},
   "source": [
    "#### 解答例"
   ]
  },
  {
   "cell_type": "markdown",
   "metadata": {
    "collapsed": true,
    "id": "answer"
   },
   "source": [
    "- loc"
   ]
  },
  {
   "cell_type": "markdown",
   "metadata": {},
   "source": [
    "***"
   ]
  },
  {
   "cell_type": "markdown",
   "metadata": {
    "courseId": 4010,
    "exerciseId": "rJTVK2LsIlz",
    "id": "code_session_name",
    "important": true,
    "isDL": false,
    "timeoutSecs": 5
   },
   "source": [
    "### 1.3.6 名前による参照"
   ]
  },
  {
   "cell_type": "markdown",
   "metadata": {
    "id": "description"
   },
   "source": [
    "DataFrame型のデータの名前、つまりインデックス、カラム名を使って参照する場合はlocを使用します。DataFrame型の変数`df`に対して`df.loc[\"インデックスのリスト\", \"カラムのリスト\"]`と指定することで該当する範囲のDataFrameを得ることができます。\n",
    "\n",
    "```python\n",
    "print(df)\n",
    "# 出力結果\n",
    "       fruits  time  year\n",
    "0       apple     1  2001\n",
    "1      orange     4  2002\n",
    "2      banana     5  2001\n",
    "3  strawberry     6  2008\n",
    "4   kiwifruit     3  2006\n",
    "```\n",
    "のとき\n",
    "```python\n",
    "df = df.loc[[1,2],[\"time\",\"year\"]]\n",
    "print(df)\n",
    "# 出力結果\n",
    "       time    year\n",
    "1      4      2002\n",
    "2      5      2001\n",
    "```"
   ]
  },
  {
   "cell_type": "markdown",
   "metadata": {},
   "source": [
    "#### 問題"
   ]
  },
  {
   "cell_type": "markdown",
   "metadata": {
    "id": "question"
   },
   "source": [
    "- `loc[]`を使って`df`の2行目から5行目までの4行と、`\"banana\"`, `\"kiwifruit\"`の2列を含むDataFrameを`df`に代入してください\n",
    "- インデックスは先頭の行が1、以降は整数値が昇順に付けられています。"
   ]
  },
  {
   "cell_type": "code",
   "execution_count": null,
   "metadata": {
    "id": "index",
    "scrolled": true
   },
   "outputs": [],
   "source": [
    "import numpy as np\n",
    "import pandas as pd\n",
    "np.random.seed(0)\n",
    "columns = [\"apple\", \"orange\", \"banana\", \"strawberry\", \"kiwifruit\"]\n",
    "\n",
    "# DataFrameを生成し、列を追加\n",
    "df = pd.DataFrame()\n",
    "for column in columns:\n",
    "    df[column] = np.random.choice(range(1, 11), 10)\n",
    "df.index = range(1, 11)\n",
    "\n",
    "# loc[]を使ってdfの2行目から5行目までの4行と、\"banana\", \"kiwifruit\"の2列を含むDataFrameをdfに代入してください\n",
    "# インデックスは先頭の行が1、以降は整数値が昇順に付けられています\n",
    "\n",
    "\n",
    "print(df)"
   ]
  },
  {
   "cell_type": "markdown",
   "metadata": {},
   "source": [
    "#### ヒント"
   ]
  },
  {
   "cell_type": "markdown",
   "metadata": {
    "id": "hint"
   },
   "source": [
    "- DataFrame型の変数`df`に対して`df.loc[\"インデックスのリスト\", \"カラムのリスト\"]`と指定することで該当する範囲のDataFrameを得ることができます。"
   ]
  },
  {
   "cell_type": "markdown",
   "metadata": {},
   "source": [
    "#### 解答例"
   ]
  },
  {
   "cell_type": "code",
   "execution_count": 8,
   "metadata": {
    "id": "answer",
    "scrolled": true
   },
   "outputs": [
    {
     "name": "stdout",
     "output_type": "stream",
     "text": [
      "   banana  kiwifruit\n",
      "2      10         10\n",
      "3       9          1\n",
      "4      10          5\n",
      "5       5          8\n"
     ]
    }
   ],
   "source": [
    "import numpy as np\n",
    "import pandas as pd\n",
    "np.random.seed(0)\n",
    "columns = [\"apple\", \"orange\", \"banana\", \"strawberry\", \"kiwifruit\"]\n",
    "\n",
    "# DataFrameを生成し、列を追加\n",
    "df = pd.DataFrame()\n",
    "for column in columns:\n",
    "    df[column] = np.random.choice(range(1, 11), 10)\n",
    "    # range(開始行数, 終了行数-1)です\n",
    "df.index = range(1, 11)\n",
    "\n",
    "# loc[]を使ってdfの2行目から5行目までの4行と、\"banana\", \"kiwifruit\"の2列を含むDataFrameをdfに代入してください\n",
    "# インデックスは先頭の行が1、以降は整数値が昇順に付けられています\n",
    "df = df.loc[range(2,6),[\"banana\",\"kiwifruit\"]]\n",
    "\n",
    "print(df)"
   ]
  },
  {
   "cell_type": "markdown",
   "metadata": {},
   "source": [
    "***"
   ]
  },
  {
   "cell_type": "markdown",
   "metadata": {
    "courseId": 4010,
    "exerciseId": "Sk04F28oUxM",
    "id": "code_session_name",
    "important": true,
    "isDL": false,
    "timeoutSecs": 5
   },
   "source": [
    "### 1.3.7 番号による参照"
   ]
  },
  {
   "cell_type": "markdown",
   "metadata": {
    "id": "description"
   },
   "source": [
    "インデックス、カラムの番号でDataFrame型のデータを参照する場合はilocを使用します。DataFrame型の変数`df`に対して`df.iloc[\"行番号のリスト\",\"列番号のリスト\"]`と指定することで該当する範囲のDataFrameを得ることができます。行、列ともに番号は0から始まります。リストを渡す他にスライス機能を使うこともできます。\n",
    "\n",
    "```python\n",
    "print(df)\n",
    "# 出力結果\n",
    "       fruits  time  year\n",
    "0       apple     1  2001\n",
    "1      orange     4  2002\n",
    "2      banana     5  2001\n",
    "3  strawberry     6  2008\n",
    "4   kiwifruit     3  2006\n",
    "```\n",
    "のとき\n",
    "```python\n",
    "df = df.iloc[[1, 3], [0, 2]]\n",
    "print(df)\n",
    "# 出力結果\n",
    "       fruits  year\n",
    "1      orange  2002\n",
    "3  strawberry  2008\n",
    "```"
   ]
  },
  {
   "cell_type": "markdown",
   "metadata": {},
   "source": [
    "#### 問題"
   ]
  },
  {
   "cell_type": "markdown",
   "metadata": {
    "id": "question"
   },
   "source": [
    "- `iloc[]`を使って`df`の2行目から5行目までの4行と、`\"banana\"`,` \"kiwifruit\"`の2列を含むDataFrameを`df`に代入してください"
   ]
  },
  {
   "cell_type": "code",
   "execution_count": null,
   "metadata": {
    "id": "index",
    "scrolled": true
   },
   "outputs": [],
   "source": [
    "import numpy as np\n",
    "import pandas as pd\n",
    "np.random.seed(0)\n",
    "columns = [\"apple\", \"orange\", \"banana\", \"strawberry\", \"kiwifruit\"]\n",
    "\n",
    "# DataFrameを生成し、列を追加\n",
    "df = pd.DataFrame()\n",
    "for column in columns:\n",
    "    df[column] = np.random.choice(range(1, 11), 10)\n",
    "df.index = range(1, 11)\n",
    "\n",
    "# iloc[]を使ってdfの2行目から5行目までの4行と、\"banana\", \"kiwifruit\"の2列を含むDataFrameをdfに代入してください\n",
    "\n",
    "\n",
    "print(df)"
   ]
  },
  {
   "cell_type": "markdown",
   "metadata": {},
   "source": [
    "#### ヒント"
   ]
  },
  {
   "cell_type": "markdown",
   "metadata": {
    "id": "hint"
   },
   "source": [
    "- DataFrame型の変数`df`に対して`df.iloc[\"行番号のリスト\",\"列番号のリスト\"]`と指定することで該当する範囲のDataFrameを得ることができます。\n",
    "- 行、列ともに番号は0から始まります。\n",
    "- リストを渡す他にスライス機能を使うこともできます。"
   ]
  },
  {
   "cell_type": "markdown",
   "metadata": {},
   "source": [
    "#### 解答例"
   ]
  },
  {
   "cell_type": "code",
   "execution_count": null,
   "metadata": {
    "id": "answer",
    "scrolled": true
   },
   "outputs": [],
   "source": [
    "import numpy as np\n",
    "import pandas as pd\n",
    "np.random.seed(0)\n",
    "columns = [\"apple\", \"orange\", \"banana\", \"strawberry\", \"kiwifruit\"]\n",
    "\n",
    "# DataFrameを生成し、列を追加\n",
    "df = pd.DataFrame()\n",
    "for column in columns:\n",
    "    df[column] = np.random.choice(range(1, 11), 10)\n",
    "df.index = range(1, 11)\n",
    "\n",
    "# iloc[]を使ってdfの2行目から5行目までの4行と、\"banana\", \"kiwifruit\"の2列を含むDataFrameをdfに代入してください\n",
    "df = df.iloc[range(1,5), [2, 4]] # スライスを用いて df = df.iloc[1:5, [2, 4]] でも可能です\n",
    "\n",
    "print(df)"
   ]
  },
  {
   "cell_type": "markdown",
   "metadata": {},
   "source": [
    "***"
   ]
  },
  {
   "cell_type": "markdown",
   "metadata": {
    "courseId": 4010,
    "exerciseId": "SJkHt3LiUlz",
    "id": "code_session_name",
    "important": false,
    "isDL": false,
    "timeoutSecs": 5
   },
   "source": [
    "### 1.3.8 行または列の削除"
   ]
  },
  {
   "cell_type": "markdown",
   "metadata": {
    "id": "description"
   },
   "source": [
    "DataFrame型の変数`df`に対して`df.drop()`にインデックスまたはカラムを指定することで該当する行または列が削除されたDataFrameを生成します。インデックスまたはカラムをリストで渡すことでまとめて削除することもできます。ただし、行と列を同時に削除することはできない上に、列を削除する場合は第2引数に`axis=1`を指定して渡す必要があります。\n",
    "\n",
    "**コード**\n",
    "```python\n",
    "import pandas as pd\n",
    "data = {\"fruits\": [\"apple\", \"orange\", \"banana\", \"strawberry\", \"kiwifruit\"],\n",
    "        \"time\": [1, 4, 5, 6, 3],\n",
    "        \"year\": [2001, 2002, 2001, 2008, 2006]}\n",
    "df = pd.DataFrame(data)\n",
    "\n",
    "# drop()を用いてdfの0,1行目を削除\n",
    "df_1 = df.drop(range(0, 2))\n",
    "\n",
    "# drop()を用いてdfの列\"year\"を削除\n",
    "df_2 = df.drop(\"year\", axis=1)\n",
    "\n",
    "print(df_1)\n",
    "print()\n",
    "print(df_2)\n",
    "```\n",
    "**出力結果**\n",
    "```python\n",
    "       fruits  time  year\n",
    "2      banana     5  2001\n",
    "3  strawberry     6  2008\n",
    "4   kiwifruit     3  2006\n",
    "\n",
    "       fruits  time\n",
    "0       apple     1\n",
    "1      orange     4\n",
    "2      banana     5\n",
    "3  strawberry     6\n",
    "4   kiwifruit     3\n",
    "```"
   ]
  },
  {
   "cell_type": "markdown",
   "metadata": {},
   "source": [
    "#### 問題"
   ]
  },
  {
   "cell_type": "markdown",
   "metadata": {
    "id": "question"
   },
   "source": [
    "- `drop()`を用いて`df`の奇数の名前がついている行のみを残して`df`に代入してください。\n",
    "- `drop()`を用いて`df`の列`\"strawberry\"`を削除して`df`に代入してください。"
   ]
  },
  {
   "cell_type": "code",
   "execution_count": null,
   "metadata": {
    "id": "index",
    "scrolled": true
   },
   "outputs": [],
   "source": [
    "import numpy as np\n",
    "import pandas as pd\n",
    "np.random.seed(0)\n",
    "columns = [\"apple\", \"orange\", \"banana\", \"strawberry\", \"kiwifruit\"]\n",
    "\n",
    "# DataFrameを生成し、列を追加\n",
    "df = pd.DataFrame()\n",
    "for column in columns:\n",
    "    df[column] = np.random.choice(range(1, 11), 10)\n",
    "df.index = range(1, 11)\n",
    "\n",
    "# drop()を用いてdfの奇数のインデックスがついている行のみを残してdfに代入してください\n",
    "\n",
    "\n",
    "# drop()を用いてdfの列\"strawberry\"を削除してdfに代入してください\n",
    "\n",
    "\n",
    "print(df)"
   ]
  },
  {
   "cell_type": "markdown",
   "metadata": {},
   "source": [
    "#### ヒント"
   ]
  },
  {
   "cell_type": "markdown",
   "metadata": {
    "id": "hint"
   },
   "source": [
    "- DataFrame型の変数`df`に対して`df.drop()`にインデックスまたはカラムを指定することで該当する行または列が削除されたDataFrameを生成します。\n",
    "- 行と列を同時に削除することはできない上に、列を削除する場合は第2引数に`axis=1`を指定して渡す必要があります。\n",
    "- 偶数の数列は`numpy`を`import`し`np.arange`を使用することで作ることが可能です。"
   ]
  },
  {
   "cell_type": "markdown",
   "metadata": {},
   "source": [
    "#### 解答例"
   ]
  },
  {
   "cell_type": "code",
   "execution_count": null,
   "metadata": {
    "id": "answer",
    "scrolled": true
   },
   "outputs": [],
   "source": [
    "import numpy as np\n",
    "import pandas as pd\n",
    "np.random.seed(0)\n",
    "columns = [\"apple\", \"orange\", \"banana\", \"strawberry\", \"kiwifruit\"]\n",
    "\n",
    "# DataFrameを生成し、列を追加\n",
    "df = pd.DataFrame()\n",
    "for column in columns:\n",
    "    df[column] = np.random.choice(range(1, 11), 10)\n",
    "df.index = range(1, 11)\n",
    "\n",
    "# drop()を用いてdfの奇数のインデックスがついている行のみを残してdfに代入してください\n",
    "df = df.drop(np.arange(2, 11, 2))\n",
    "#np.arange(2, 11, 2)は2から10までの数列を差が２になるように抜き出したものです。\n",
    "#ここでは2,4,6,8,10が出力となります。\n",
    "#np.arange(2,11,3)とすると2から10までの数列を差が3になるように抜き出したものになります。\n",
    "\n",
    "# drop()を用いてdfの列\"strawberry\"を削除してdfに代入してください\n",
    "df = df.drop(\"strawberry\", axis=1)\n",
    "\n",
    "print(df)"
   ]
  },
  {
   "cell_type": "markdown",
   "metadata": {},
   "source": [
    "***"
   ]
  },
  {
   "cell_type": "markdown",
   "metadata": {
    "courseId": 4010,
    "exerciseId": "ryxHK2LsIxM",
    "id": "code_session_name",
    "important": true,
    "isDL": false,
    "timeoutSecs": 5
   },
   "source": [
    "### 1.3.9 ソート"
   ]
  },
  {
   "cell_type": "markdown",
   "metadata": {
    "id": "description"
   },
   "source": [
    "　DataFrame型の変数dfに対して、  \n",
    "　df.sort_values(by=\"カラムもしくはカラムのリスト\", ascending=True)とすると、列の値が昇順（小さい順）に、  \n",
    "　df.sort_values(by=\"カラムもしくはカラムのリスト\", ascending=False)とすると、列の値が降順（大きい順）にソートされたDataFrameを生成できます。\n",
    "　指定をしない場合はascending=Trueとして処理されます。カラムのリストの順番が早いカラムが優先的にソートされます。  \n",
    "\n",
    "```python\n",
    "import pandas as pd\n",
    "data = {\"fruits\": [\"apple\", \"orange\", \"banana\", \"strawberry\", \"kiwifruit\"],\n",
    "        \"time\": [1, 4, 5, 6, 3],\n",
    "        \"year\": [2001, 2002, 2001, 2008, 2006]}\n",
    "df = pd.DataFrame(data)\n",
    "print(df)\n",
    "#データを昇順にソートする(引数にカラムを指定)\n",
    "df = df.sort_values(by=\"year\", ascending = True)\n",
    "print(df)\n",
    "\n",
    "#データを昇順にソートする(引数にカラムのリストを指定)\n",
    "df = df.sort_values(by=[\"time\", \"year\"] , ascending = True)\n",
    "print(df)\n",
    "```\n",
    "**出力結果**\n",
    "```python\n",
    "       fruits  time     year\n",
    "0       apple     1    2001\n",
    "1      orange    4    2002\n",
    "2      banana    5    2001 \n",
    "3  strawberry   6     2008\n",
    "4   kiwifruit      3    2006\n",
    "\n",
    "         fruits  time  year\n",
    "0       apple     1  2001\n",
    "2      banana     5  2001\n",
    "1      orange     4  2002\n",
    "4   kiwifruit     3  2006\n",
    "3  strawberry     6  2008\n",
    "\n",
    "       fruits  time  year\n",
    "0       apple     1  2001\n",
    "4   kiwifruit     3  2006\n",
    "1      orange     4  2002\n",
    "2      banana     5  2001\n",
    "3  strawberry     6  2008\n",
    "```"
   ]
  },
  {
   "cell_type": "markdown",
   "metadata": {},
   "source": [
    "#### 問題"
   ]
  },
  {
   "cell_type": "markdown",
   "metadata": {
    "id": "question"
   },
   "source": [
    "- `df`を`\"apple\", \"orange\", \"banana\", \"strawberry\", \"kiwifruit\"`の優先度で昇順にソートしてください。\n",
    "- ソートした結果生成されたDataFrameを`df`に代入してください。"
   ]
  },
  {
   "cell_type": "code",
   "execution_count": null,
   "metadata": {
    "id": "index",
    "scrolled": true
   },
   "outputs": [],
   "source": [
    "import numpy as np\n",
    "import pandas as pd\n",
    "np.random.seed(0)\n",
    "columns = [\"apple\", \"orange\", \"banana\", \"strawberry\", \"kiwifruit\"]\n",
    "\n",
    "# DataFrameを生成し、列を追加\n",
    "df = pd.DataFrame()\n",
    "for column in columns:\n",
    "    df[column] = np.random.choice(range(1, 11), 10)\n",
    "df.index = range(1, 11)\n",
    "\n",
    "# dfを\"apple\", \"orange\", \"banana\", \"strawberry\", \"kiwifruit\"の優先度で昇順にソートしてください\n",
    "# ソートした結果生成されたDataFrameをdfに代入してください\n",
    "\n",
    "\n",
    "print(df)"
   ]
  },
  {
   "cell_type": "markdown",
   "metadata": {},
   "source": [
    "#### ヒント"
   ]
  },
  {
   "cell_type": "markdown",
   "metadata": {
    "id": "hint"
   },
   "source": [
    "- DataFrame型の変数`df`に対して、`df.sort_values(by=\"カラムのリスト\", ascending=True)`とすると列の値について昇順にソートされたDataFrameを生成できます。\n",
    "- リストの順番が早い列が優先的にソートされます。"
   ]
  },
  {
   "cell_type": "markdown",
   "metadata": {},
   "source": [
    "#### 解答例"
   ]
  },
  {
   "cell_type": "code",
   "execution_count": 7,
   "metadata": {
    "id": "answer",
    "scrolled": false
   },
   "outputs": [
    {
     "name": "stdout",
     "output_type": "stream",
     "text": [
      "    apple  orange  banana  strawberry  kiwifruit\n",
      "2       1       7      10           4         10\n",
      "9       3       9       6           1          3\n",
      "7       4       8       1           4          3\n",
      "3       4       9       9           9          1\n",
      "4       4       9      10           2          5\n",
      "10      5       2       1           2          1\n",
      "8       6       8       4           8          8\n",
      "1       6       8       6           3         10\n",
      "5       8       2       5           4          8\n",
      "6      10       7       4           4          4\n"
     ]
    }
   ],
   "source": [
    "import numpy as np\n",
    "import pandas as pd\n",
    "np.random.seed(0)\n",
    "columns = [\"apple\", \"orange\", \"banana\", \"strawberry\", \"kiwifruit\"]\n",
    "\n",
    "# DataFrameを生成し、列を追加\n",
    "df = pd.DataFrame()\n",
    "for column in columns:\n",
    "    df[column] = np.random.choice(range(1, 11), 10)\n",
    "df.index = range(1, 11)\n",
    "\n",
    "# dfを\"apple\", \"orange\", \"banana\", \"strawberry\", \"kiwifruit\"の優先度の順に昇順にソートしてください\n",
    "# ソートした結果生成されたDataFrameをdfに代入してください。第一引数であればbyは省略することも可能です。\n",
    "df = df.sort_values(by=columns)\n",
    "\n",
    "print(df)"
   ]
  },
  {
   "cell_type": "markdown",
   "metadata": {},
   "source": [
    "***"
   ]
  },
  {
   "cell_type": "markdown",
   "metadata": {
    "courseId": 4010,
    "exerciseId": "H1ZBK28i8lz",
    "id": "code_session_name",
    "important": false,
    "isDL": false,
    "timeoutSecs": 5
   },
   "source": [
    "### 1.3.10 フィルタリング"
   ]
  },
  {
   "cell_type": "markdown",
   "metadata": {
    "id": "description"
   },
   "source": [
    "DataFrameの場合もSeriesの時と同じように、`bool`型のシーケンスを指定することで`True`のものだけを取り出すフィルタリングを実行することができます。またSeriesの場合と同様に、DataFrameを用いた条件式から`bool`型のシーケンスを取得することができます。この条件式を用いることでフィルタリングを実行できます。例えば、以下のコードでは、偶数行のデータだけを抽出しています。\n",
    "\n",
    "**コード**\n",
    "```python\n",
    "data = {\"fruits\": [\"apple\", \"orange\", \"banana\", \"strawberry\", \"kiwifruit\"],\n",
    "        \"year\": [2001, 2002, 2001, 2008, 2006],\n",
    "        \"time\": [1, 4, 5, 6, 3]}\n",
    "df = pd.DataFrame(data)\n",
    "print(df.index % 2 == 0)\n",
    "print()\n",
    "print(df[df.index % 2 == 0])\n",
    "```\n",
    "**出力結果**\n",
    "```python\n",
    "[ True False  True False  True]\n",
    "\n",
    "      fruits  time  year\n",
    "0      apple     1  2001\n",
    "2     banana     5  2001\n",
    "4  kiwifruit     3  2006\n",
    "```\n",
    "\n",
    "例えば、DataFrame型の変数`df`に対して`df.loc[df[\"カラム\"]を含む条件式]`とすることで、条件に一致する要素を含む行を持つDataFrameが生成されます。"
   ]
  },
  {
   "cell_type": "markdown",
   "metadata": {},
   "source": [
    "#### 問題"
   ]
  },
  {
   "cell_type": "markdown",
   "metadata": {
    "id": "question"
   },
   "source": [
    "- フィルタリングを用いて、`df`の`\"apple\"`列が5以上かつ`\"kiwifruit\"`列が5以上の値をもつ行を含むDataFrameを`df`に代入してください。"
   ]
  },
  {
   "cell_type": "code",
   "execution_count": null,
   "metadata": {
    "id": "index",
    "scrolled": true
   },
   "outputs": [],
   "source": [
    "import numpy as np\n",
    "import pandas as pd\n",
    "np.random.seed(0)\n",
    "columns = [\"apple\", \"orange\", \"banana\", \"strawberry\", \"kiwifruit\"]\n",
    "\n",
    "# DataFrameを生成し、列を追加\n",
    "df = pd.DataFrame()\n",
    "for column in columns:\n",
    "    df[column] = np.random.choice(range(1, 11), 10)\n",
    "df.index = range(1, 11)\n",
    "\n",
    "# フィルタリングを用いて、dfの\"apple\"列が5以上かつ\"kiwifruit\"列が5以上の値をもつ行を含むDataFrameをdfに代入してください\n",
    "\n",
    "\n",
    "\n",
    "print(df)"
   ]
  },
  {
   "cell_type": "markdown",
   "metadata": {},
   "source": [
    "#### ヒント"
   ]
  },
  {
   "cell_type": "markdown",
   "metadata": {
    "id": "hint"
   },
   "source": [
    "- DataFrame型の変数`df`に対して`df.loc[df[\"カラム\"]を含む条件式]`とすることで条件に一致する要素を含む行を持つDataFrameが生成されます。"
   ]
  },
  {
   "cell_type": "markdown",
   "metadata": {},
   "source": [
    "#### 解答例"
   ]
  },
  {
   "cell_type": "code",
   "execution_count": null,
   "metadata": {
    "id": "answer",
    "scrolled": true
   },
   "outputs": [],
   "source": [
    "import numpy as np\n",
    "import pandas as pd\n",
    "np.random.seed(0)\n",
    "columns = [\"apple\", \"orange\", \"banana\", \"strawberry\", \"kiwifruit\"]\n",
    "\n",
    "# DataFrameを生成し、列を追加\n",
    "df = pd.DataFrame()\n",
    "for column in columns:\n",
    "    df[column] = np.random.choice(range(1, 11), 10)\n",
    "df.index = range(1, 11)\n",
    "\n",
    "# フィルタリングを用いて、dfの\"apple\"列が5以上かつ\"kiwifruit\"列が5以上の値をもつ行を含むDataFrameをdfに代入してください\n",
    "df = df.loc[df[\"apple\"] >= 5]\n",
    "df = df.loc[df[\"kiwifruit\"] >= 5]\n",
    "#df = df[(df['apple'] >= 5) & (df['kiwifruit']>= 5)] でもOK\n",
    "\n",
    "print(df)"
   ]
  },
  {
   "cell_type": "markdown",
   "metadata": {},
   "source": [
    "***"
   ]
  }
 ],
 "metadata": {
  "celltoolbar": "Edit Metadata",
  "kernelspec": {
   "display_name": "Python 3",
   "language": "python",
   "name": "python3"
  },
  "language_info": {
   "codemirror_mode": {
    "name": "ipython",
    "version": 3
   },
   "file_extension": ".py",
   "mimetype": "text/x-python",
   "name": "python",
   "nbconvert_exporter": "python",
   "pygments_lexer": "ipython3",
   "version": "3.7.0"
  },
  "toc": {
   "base_numbering": 1,
   "nav_menu": {},
   "number_sections": true,
   "sideBar": true,
   "skip_h1_title": false,
   "title_cell": "Table of Contents",
   "title_sidebar": "Contents",
   "toc_cell": false,
   "toc_position": {
    "height": "calc(100% - 180px)",
    "left": "10px",
    "top": "150px",
    "width": "281.188px"
   },
   "toc_section_display": true,
   "toc_window_display": true
  },
  "varInspector": {
   "cols": {
    "lenName": 16,
    "lenType": 16,
    "lenVar": 40
   },
   "kernels_config": {
    "python": {
     "delete_cmd_postfix": "",
     "delete_cmd_prefix": "del ",
     "library": "var_list.py",
     "varRefreshCmd": "print(var_dic_list())"
    },
    "r": {
     "delete_cmd_postfix": ") ",
     "delete_cmd_prefix": "rm(",
     "library": "var_list.r",
     "varRefreshCmd": "cat(var_dic_list()) "
    }
   },
   "types_to_exclude": [
    "module",
    "function",
    "builtin_function_or_method",
    "instance",
    "_Feature"
   ],
   "window_display": false
  }
 },
 "nbformat": 4,
 "nbformat_minor": 2
}
