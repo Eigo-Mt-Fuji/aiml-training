{
 "cells": [
  {
   "cell_type": "markdown",
   "metadata": {
    "id": "chapter_name"
   },
   "source": [
    "# 協調フィルタリング"
   ]
  },
  {
   "cell_type": "markdown",
   "metadata": {
    "id": "table"
   },
   "source": [
    "- **[2.1 協調フィルタリングの分類](#2.1-協調フィルタリングの分類)**\n",
    "    - **[2.1.1 概要](#2.1.1-概要)**\n",
    "    - **[2.1.2 データの扱い方](#2.1.2-データの扱い方)**\n",
    "    - **[2.1.3 フィルタリングの分類](#2.1.3-フィルタリングの分類)**\n",
    "<br><br>\n",
    "- **[2.2 類似度の計算方法](#2.2-類似度の計算方法)**\n",
    "    - **[2.2.1 cos類似度](#2.2.1-cos類似度)**\n",
    "    - **[2.2.2 ピアソン相関](#2.2.2-ピアソン相関)**\n",
    "    - **[2.2.3 スピアマン順位相関係数](#2.2.3-スピアマン順位相関係数)**\n",
    "    - **[2.2.4 ジャカード係数](#2.2.4-ジャカード係数)**\n",
    "   <br><br>\n",
    "- **[添削問題](#添削問題)**\n"
   ]
  },
  {
   "cell_type": "markdown",
   "metadata": {},
   "source": [
    "***"
   ]
  },
  {
   "cell_type": "markdown",
   "metadata": {
    "id": "section_name"
   },
   "source": [
    "## 2.1 協調フィルタリングの分類"
   ]
  },
  {
   "cell_type": "markdown",
   "metadata": {
    "id": "quiz_session_name"
   },
   "source": [
    "### 2.1.1 概要"
   ]
  },
  {
   "cell_type": "markdown",
   "metadata": {},
   "source": [
    "一章で学んだコンテンツベースフィルタリングと、協調フィルタリングのメリットデメリットについて考えてみます。   \n",
    "\n",
    "　コンテンツベースフィルタリングでは利用者のデータがない状態でも商品の情報さえあれば利用することができます。また新規利用者のようなデータのない対象者に対してもレコメンドすることが可能です。しかしながらデメリットとして大量に正しい商品に関するデータが必要であり、商品に対してある程度精通している必要があります。  \n",
    " \n",
    "　次に協調フィルタリングですが、ほかの利用者の行動履歴を参考にしているため商品の属性データはレコメンドする際に必要ではありません。また商品に対する知識も必要ありません。ただしデメリットとして多くの利用者がいないとデータを集めることができず正しくレコメンドできないといったことがあげられます。   \n",
    " \n",
    "\n",
    "　協調フィルタリングには大きく分けてメモリベースとモデルベースがあります。"
   ]
  },
  {
   "cell_type": "markdown",
   "metadata": {},
   "source": [
    "#### 問題"
   ]
  },
  {
   "cell_type": "markdown",
   "metadata": {},
   "source": [
    "・次のうち協調フィルタリングの利点といえるのはどれでしょう？\n"
   ]
  },
  {
   "cell_type": "markdown",
   "metadata": {},
   "source": [
    "1. 新規利用者に対しても適応することができる。   \n",
    "2. 商品についての属性情報が少なくても利用できる。\n",
    "3. 販売者のレコメンドしたいものをレコメンドできる。\n",
    "4. 上記のすべて"
   ]
  },
  {
   "cell_type": "markdown",
   "metadata": {},
   "source": [
    "#### ヒント"
   ]
  },
  {
   "cell_type": "markdown",
   "metadata": {},
   "source": [
    "・協調フィルタリングは利用者の行動履歴と対象者の行動履歴のみを参照します。"
   ]
  },
  {
   "cell_type": "markdown",
   "metadata": {},
   "source": [
    "#### 解答"
   ]
  },
  {
   "cell_type": "markdown",
   "metadata": {},
   "source": [
    "商品についてのデータが少なくても利用できる。"
   ]
  },
  {
   "cell_type": "markdown",
   "metadata": {},
   "source": [
    " <br>"
   ]
  },
  {
   "cell_type": "markdown",
   "metadata": {
    "id": "code_session_name"
   },
   "source": [
    "### 2.1.2 データの扱い方"
   ]
  },
  {
   "cell_type": "markdown",
   "metadata": {},
   "source": [
    "\n",
    "メモリベース\n",
    "\n",
    "利用者の購入履歴をそのまま利用する方法をメモリベースといいます。   \n",
    "それぞれの利用者の行動履歴から利用者同士の類似度を計算することによってレコメンドします。類似度の計算方法は後に説明します。よく使われる手法でありこのチャプターでもこちらを重点的に説明します。   \n",
    "<br><br>\n",
    "モデルベース\n",
    "\n",
    "利用者の行動履歴をデータとして使いモデルを作成することでより高度なレコメンドを行う方法のことをモデルベースといいます。   \n",
    "例としてはベイジアンネットワーク協調フィルタリングがあります。    \n",
    "ベイズの定理を利用したベイジアンネットワークを構築することによって今までの選ばれてきたデータを元にどれが選ばれる傾向にあるか、でレコメンドします。   \n",
    "ベイズと定理とはなにか例をあげて説明します。\n",
    "前提条件として$曲_{1～10}$ があり、対象となるユーザはまだ$曲_{1}$を聞いていないとします。そのときに$曲_{1}$がおすすめされる確率を考えてみます。   \n",
    "他ユーザからの結果からまず$曲_{i}$が選択される確率を$P(曲_{i})$と表します。   \n",
    "次に$曲_{1}$が選ばれていてかつ$曲_{i}$が選択される確率を$P(曲_{i}|曲_{1})$と表します。   \n",
    "すると、対象となるユーザが$曲_{1}$を選ぶ確率は次のように計算できます。   \n",
    "<br>\n",
    "$ \\large 対象のユーザが曲_{1}を選ぶ確率 = \\frac{1}{u}\\sum_{i \\in u} \\frac {P(曲_{i}|曲_{1}) P(曲_{1})}{P(曲_{i})}$\n",
    "\n",
    "$\\sum_{i \\in u}$ は i には対象のユーザの聞いたことのある音楽を代入していくという意味になります。\n",
    "<br>\n",
    "\n",
    "ベイジアンネットワークはユーザベース協調フィルタリングと異なり、似ているユーザを探す必要がなく、データ量が少なくても機能します。   \n",
    "そのためシステムの使いはじめでは、データがなく十分なレコメンドができないコールドスタート問題を解決できます。   \n",
    "\n",
    "ほかにもモデルベースの例としてクラスタリングを用いたり、次元削減を用いることがあります。"
   ]
  },
  {
   "cell_type": "markdown",
   "metadata": {},
   "source": [
    "#### 問題"
   ]
  },
  {
   "cell_type": "markdown",
   "metadata": {},
   "source": [
    "・次のうちモデルベースであるのはどれでしょう？"
   ]
  },
  {
   "cell_type": "markdown",
   "metadata": {},
   "source": [
    "1.　クラスタリングにより素早くレコメンドを見つける。   \n",
    "2.　次元削減により疎な行列を扱いやすくする。   \n",
    "3.　上記のすべて   "
   ]
  },
  {
   "cell_type": "markdown",
   "metadata": {},
   "source": [
    "#### 解答"
   ]
  },
  {
   "cell_type": "markdown",
   "metadata": {},
   "source": [
    "上記のすべて"
   ]
  },
  {
   "cell_type": "markdown",
   "metadata": {},
   "source": [
    "\n",
    "<br>"
   ]
  },
  {
   "cell_type": "markdown",
   "metadata": {
    "id": "code_session_name"
   },
   "source": [
    "### 2.1.3 フィルタリングの分類"
   ]
  },
  {
   "cell_type": "markdown",
   "metadata": {},
   "source": [
    "アイテムベース協調フィルタリング"
   ]
  },
  {
   "cell_type": "markdown",
   "metadata": {},
   "source": [
    "\n",
    "他の利用者の購入履歴や閲覧履歴から類似したアイテムのデータを探し、よくセットで買われるものをレコメンドする方法をアイテムベース協調フィルタリングといいます。アイテム間の類似度を計算していることに注意してください。   \n",
    "たとえばiPadとiPadケース、iPadフィルタは同時に買われることが多いのでこれらをレコメンドする。といったものがあります。"
   ]
  },
  {
   "cell_type": "markdown",
   "metadata": {
    "id": "code_session_name"
   },
   "source": [
    "ユーザーベース協調フィルタリング"
   ]
  },
  {
   "cell_type": "markdown",
   "metadata": {},
   "source": [
    "他のユーザの中で購入履歴や閲覧履歴の類似度が高い者を参考にし、それらの人が買うことが多いまたは評価が高いものをレコメンドする方法をユーザベース協調フィルタリングといいます。    \n",
    "ユーザベース協調フィルタリングでは、   \n",
    "ユーザＡとユーザＢの購入しているものが似ているときユーザＡにはユーザＢの購入しているものからおすすめします。   \n",
    "\n",
    "アイテムベース協調フィルタリングではアイテム間の類似度だったのに対し、こちらはユーザー間の類似度になります。"
   ]
  },
  {
   "cell_type": "markdown",
   "metadata": {},
   "source": [
    "その他のフィルタリング"
   ]
  },
  {
   "cell_type": "markdown",
   "metadata": {},
   "source": [
    "ここであげたレコメンド以外にも様々なレコメンドが存在します。   \n",
    "\n",
    "\n",
    "ネットショッピングしているときによくみるランキングもレコメンドになります。   \n",
    "価格の低い順に並び替えたり、重い順に並び替えたりするものをスペックランキング型といい、   \n",
    "人気順に並び替えるものを人気ランキング型といいます。   \n",
    "これらはいずれも対象者ごとにレコメンドは変化しません。そのため新規利用者にも有効なレコメンドをすることができます。   \n",
    "<br>\n",
    "\n",
    "ほかにも利用者の履歴や、言葉の類似度など使わずに第三者の目線から何かを関連づけたり、レコメンドしたりすることをナレッジベースといいます。\n",
    "会社が売り出したい商品がある場合などはこのナレッジベースを利用者の行動や履歴に適応させてレコメンドします。"
   ]
  },
  {
   "cell_type": "markdown",
   "metadata": {},
   "source": [
    "#### 問題"
   ]
  },
  {
   "cell_type": "markdown",
   "metadata": {},
   "source": [
    "次の中でアイテムベース協調フィルタリングといえるものはどれでしょう？\n"
   ]
  },
  {
   "cell_type": "markdown",
   "metadata": {},
   "source": [
    "1. 利用者に答えてもらったアンケートを参考にレコメンドする。\n",
    "2. 検索したジャンルの中で売れ筋商品をレコメンドする。\n",
    "3. 閲覧している商品の属性情報における類似性の高い商品をレコメンドする。\n",
    "4. 上記のすべて"
   ]
  },
  {
   "cell_type": "markdown",
   "metadata": {},
   "source": [
    "#### ヒント"
   ]
  },
  {
   "cell_type": "markdown",
   "metadata": {},
   "source": [
    "・アイテムベースではアイテム間の類似度が高いものをレコメンドします。"
   ]
  },
  {
   "cell_type": "markdown",
   "metadata": {},
   "source": [
    "#### 解答"
   ]
  },
  {
   "cell_type": "markdown",
   "metadata": {},
   "source": [
    "閲覧している商品と類似性の高い商品をレコメンドする。"
   ]
  },
  {
   "cell_type": "markdown",
   "metadata": {
    "id": "section_name"
   },
   "source": [
    "## 2.2 類似度の計算方法"
   ]
  },
  {
   "cell_type": "markdown",
   "metadata": {},
   "source": [
    "ここからはユーザベース協調フィルタリングを実装していく準備をしていきます。   \n",
    "ユーザーベースフィルタリング実装の手順としては、\n",
    "1. ユーザの情報を取得する。\n",
    "2. 評価値などからユーザ間の類似度を測定する。\n",
    "3. 類似度と評価値を用いて計算する。\n",
    "4. 計算結果を予想した評価値として出力する。\n",
    "\n",
    "になります。   \n",
    "これから類似度を測定するために様々な類似度を実装していきましょう。"
   ]
  },
  {
   "cell_type": "markdown",
   "metadata": {
    "id": "quiz_session_name"
   },
   "source": [
    "### 2.2.1 cos類似度"
   ]
  },
  {
   "cell_type": "markdown",
   "metadata": {},
   "source": [
    "\n",
    "chapter1でも少しふれたcos類似度ですが、chapter2ではどのような構造になっているのかを学びたいと思います。   \n",
    "ベクトル$\\vec{a}$,$\\vec{b}$にたいしてこの二つのベクトルの取る間の角度はcosを利用して、   \n",
    "$ \\cos\\,\\theta = \\frac{\\vec{a}・\\vec{b}}{|\\vec{a}||\\vec{b}|}$\n",
    "\n",
    "と表すことができます。   \n",
    "-1から1までの実数値で表すことができます。\n",
    "二つのベクトル間の角度が小さいほど二つのデータは類似しているとみなすことができるため、cosの値が1に近いほど類似度が高いといえます。   \n",
    "cos類似度は文章の類似度を評価するうえで最もオーソドックスな方法になります。"
   ]
  },
  {
   "cell_type": "markdown",
   "metadata": {},
   "source": [
    "#### 問題"
   ]
  },
  {
   "cell_type": "markdown",
   "metadata": {},
   "source": [
    "dataにはユーザ1,2の果物に対する評価が入っています。   \n",
    "cos類似度を実際に自分で実装してみましょう。"
   ]
  },
  {
   "cell_type": "markdown",
   "metadata": {},
   "source": [
    "#### ヒント"
   ]
  },
  {
   "cell_type": "markdown",
   "metadata": {},
   "source": [
    "・2つのデータ両方に入っていない要素に対する内積は0となります。"
   ]
  },
  {
   "cell_type": "code",
   "execution_count": null,
   "metadata": {
    "collapsed": true
   },
   "outputs": [],
   "source": [
    "import numpy as np\n",
    "import math\n",
    "\n",
    "def similarity(data1,data2):\n",
    "    data2_dict = {key: value for key, value in data2}\n",
    "    ab = 0  \n",
    "    #ベクトル同士の内積を求めましょう。\n",
    "    for key1, value1 in data1.items():\n",
    "        \n",
    "        \n",
    "    # 各ベクトルの大きさを求めましょう。\n",
    "    a = \n",
    "    b = \n",
    "\n",
    "    return ab / (a * b)\n",
    "\n",
    "\n",
    "data1 = [['Apple', 1], ['Orange', 5], ['Banana', 2], ['Kiwi', 0]]\n",
    "data2 = [['Apple', 1], ['Orange', 0], ['Banana', 2], ['Kiwi', 3]]\n",
    "\n",
    "similarity(data1,data2)"
   ]
  },
  {
   "cell_type": "markdown",
   "metadata": {},
   "source": [
    "#### 解答例"
   ]
  },
  {
   "cell_type": "code",
   "execution_count": null,
   "metadata": {
    "collapsed": true
   },
   "outputs": [],
   "source": [
    "import numpy as np\n",
    "import math\n",
    "\n",
    "def similarity(data1, data2):\n",
    "    data2_dict = {key: value for key, value in data2}\n",
    "    ab = 0  \n",
    "    #ベクトル同士の内積を求めましょう。\n",
    "    for key1, value1 in data1:\n",
    "        value2 = data2_dict.get(key1)\n",
    "        if value2:\n",
    "            ab += value1 * value2\n",
    "\n",
    "    # 各ベクトルの大きさを求めましょう。\n",
    "    a = math.sqrt(sum([v ** 2 for k, v in data1]))\n",
    "    b = math.sqrt(sum([v ** 2 for k, v in data2]))\n",
    "\n",
    "    return ab / (a * b)\n",
    "\n",
    "data1 = [['Apple', 1], ['Orange', 5], ['Banana', 2], ['Kiwi', 0]]\n",
    "data2 = [['Apple', 1], ['Orange', 0], ['Banana', 2], ['Kiwi', 3]]\n",
    "\n",
    "similarity(data1,data2)"
   ]
  },
  {
   "cell_type": "markdown",
   "metadata": {},
   "source": [
    "### 2.2.2 ピアソン相関"
   ]
  },
  {
   "cell_type": "markdown",
   "metadata": {},
   "source": [
    "二つのデータの直線的な関係の強さを-1～1の実数で表したものをピアソン相関といいます。   \n",
    "一つのデータが増加・現象するとき他方も同じような動きをするときピアソン相関は1に近づき、一方のデータの増加・減少しても他方に影響しない時、値は0、一つのデータの動きと他方のデータが逆向きに動くようなときピアソン相関は-1に近づきます。   \n",
    "式でかくと、  \n",
    "\n",
    "$ \\large ピアソン相関 = \\frac{S_{xy}}{S_x S_y} $   \n",
    "\n",
    "$ \\large = \\frac{\\sum(x - \\mu_x)(y  - \\mu_y)}{\\sqrt{\\sum(x - \\mu_x)^2} \\sqrt{\\sum(y - \\mu_y)^2}}$   \n",
    "\n",
    "$\\mu_x,\\mu_y $はそれぞれx,yの平均です。   \n",
    "<br>\n",
    "であり相関係数と同値です。   \n",
    "$S_{xy}$は共分散と呼ばれるものであり、お互いの相関関係（どれだけ依存しあっているか）を示す指標になります。   \n",
    "$S_x , S_y$は標準偏差といわれるものであり、データのばらつきを表しています。   \n",
    "標準偏差で共分散を割ることによって大きさを-1～1の間に収め、評価しやすくしています。\n",
    "\n",
    "利用者によっては評価を全体的に高評価をつける、全体的に低い評価をつけるなどばらつきがあります。   \n",
    "つける評価の平均が4の人の評価5と平均が2の人の評価5には大きな違いがあります。   \n",
    "\n",
    "そこでピアソン分布はお互いの直線性を評価しているためデータ平均の大小は重要ではありません。   \n",
    "そのためこのような違いもピアソン分布であれば考慮できます。"
   ]
  },
  {
   "cell_type": "markdown",
   "metadata": {},
   "source": [
    "#### 問題"
   ]
  },
  {
   "cell_type": "markdown",
   "metadata": {},
   "source": [
    "dataにはユーザ1,2の果物に対する評価が入っています。   \n",
    "空欄を埋めることでユーザ1,2間のピアソン相関を計算してください。"
   ]
  },
  {
   "cell_type": "markdown",
   "metadata": {},
   "source": [
    "#### ヒント"
   ]
  },
  {
   "cell_type": "markdown",
   "metadata": {},
   "source": [
    "・辞書型の値を参照するには 辞書型.values() としてください。   \n",
    "・$\\sum$ はすべての合計を示しています。要素をすべて足してください。      \n",
    "・$\\sqrt{}$はmath.sqrt()で使うことができます。"
   ]
  },
  {
   "cell_type": "code",
   "execution_count": null,
   "metadata": {
    "collapsed": true
   },
   "outputs": [],
   "source": [
    "import math\n",
    "\n",
    "def sim_pearson(data1,data2):\n",
    "    #同じ要素があった場合same_keyに追加します。\n",
    "    same_key = []\n",
    "    data1_dict = {key: value for key, value in data1}\n",
    "    data2_dict = {key: value for key, value in data2}\n",
    "    #同じ要素をsame_keyに追加してください。\n",
    "\n",
    "    \n",
    "    \n",
    "    \n",
    "    #same_keyがない場合は0を返してください。\n",
    "\n",
    "    \n",
    "    \n",
    "    #それぞれの平均と標準偏差を求めてください。\n",
    "    mean1 = \n",
    "    mean2 = \n",
    "    variance1 = \n",
    "    variance2 = \n",
    "    \n",
    "    #共分散を求めてください。\n",
    "\n",
    "    \n",
    "    # 分母が0になる場合は0を返します。\n",
    "    if variance1*variance2 == 0:\n",
    "        return 0\n",
    "    \n",
    "    return covariance / (variance1 * variance2)\n",
    "\n",
    "data1 = [['Apple', 1], ['Orange', 5], ['Banana', 2], ['Kiwi', 0]]\n",
    "data2 = [['Apple', 1], ['Orange', 0], ['Banana', 2], ['Kiwi', 3]]\n",
    "\n",
    "sim_pearson(tfidf1,tfidf2)"
   ]
  },
  {
   "cell_type": "markdown",
   "metadata": {},
   "source": [
    "#### 解答例"
   ]
  },
  {
   "cell_type": "code",
   "execution_count": null,
   "metadata": {
    "collapsed": true
   },
   "outputs": [],
   "source": [
    "import math\n",
    "\n",
    "def sim_pearson(data1,data2):\n",
    "    #同じ要素があった場合same_keyに追加します。\n",
    "    same_key = []\n",
    "    data1_dict = {key: value for key, value in data1}\n",
    "    data2_dict = {key: value for key, value in data2}\n",
    "    #同じ要素をsame_keyに追加してください。\n",
    "    for key1 in data1_dict.keys():\n",
    "        if key1 in data2_dict:\n",
    "            same_key.append(key1)\n",
    "    #same_keyがない場合は0を返してください。\n",
    "    if not same_key:\n",
    "        return 0\n",
    "    \n",
    "    #それぞれの平均と標準偏差を求めてください。\n",
    "    mean1 = sum([value for value in data1_dict.values()]) / len(same_key)\n",
    "    mean2 = sum([value for value in data2_dict.values()]) / len(same_key)\n",
    "    variance1 = math.sqrt(sum([(data1_dict[key] - mean1)**2 for key in same_key]))\n",
    "    variance2 = math.sqrt(sum([(data2_dict[key] - mean2)**2 for key in same_key]))\n",
    "    \n",
    "    #共分散を求めてください。\n",
    "    covariance = sum([(data1_dict[key] - mean1)*(data2_dict[key] - mean2) for key in same_key])\n",
    "    \n",
    "    # 分母が0になる場合は0を返します。\n",
    "    if variance1*variance2 == 0:\n",
    "        return 0\n",
    "    \n",
    "    return covariance / (variance1 * variance2)\n",
    "\n",
    "data1 = [['Apple', 1], ['Orange', 5], ['Banana', 2], ['Kiwi', 0]]\n",
    "data2 = [['Apple', 1], ['Orange', 0], ['Banana', 2], ['Kiwi', 3]]\n",
    "\n",
    "sim_pearson(data1,data2)"
   ]
  },
  {
   "cell_type": "markdown",
   "metadata": {},
   "source": [
    "同様のことがnumpyのモジュールを利用することでも実行できます。\n"
   ]
  },
  {
   "cell_type": "code",
   "execution_count": null,
   "metadata": {
    "collapsed": true
   },
   "outputs": [],
   "source": [
    "import numpy as np\n",
    "\n",
    "#tfidfを値だけのリストに変換する。\n",
    "data1_list = []\n",
    "data2_list = []\n",
    "for i in range(len(data1)):\n",
    "    data1_list.append(data1[i][1])\n",
    "    data2_list.append(data2[i][1])\n",
    "    \n",
    "#相関係数行列を求めるモジュール\n",
    "np.corrcoef(data1_list,data2_list)[0,1]"
   ]
  },
  {
   "cell_type": "markdown",
   "metadata": {},
   "source": [
    "### 2.2.3 スピアマン順位相関係数"
   ]
  },
  {
   "cell_type": "markdown",
   "metadata": {},
   "source": [
    "順位データから求める直線的関係の強さを考える指標をスピアマン順位相関係数といい、よく$\\rho$で表されます。   \n",
    "ピアソン相関でいう評価値にすべて順位を代入すると簡単な式で表現することができます。    \n",
    "式は、   \n",
    "$ \\large \\rho = 1 - \\frac{6 \\sum_i (x_i - y_i)^2}{N(N^2 -1)}$   \n",
    "N : データの数 \n",
    "\n",
    "\n",
    "と表すことができます。\n",
    "式からもピアソン相関と比べて計算量が少なくなっていることがわかると思います。"
   ]
  },
  {
   "cell_type": "markdown",
   "metadata": {},
   "source": [
    "#### 問題"
   ]
  },
  {
   "cell_type": "markdown",
   "metadata": {},
   "source": [
    "dataにはユーザ1,2の好きな果物ランキングが入っています。   \n",
    "以下の空欄を埋めてスピアマン順位相関係数を実装してください。"
   ]
  },
  {
   "cell_type": "markdown",
   "metadata": {},
   "source": [
    "#### ヒント"
   ]
  },
  {
   "cell_type": "markdown",
   "metadata": {},
   "source": [
    "・各要素の引き算はndarrayであれば単なる X - y でできます。   \n",
    "・$\\sum$　は全体の合計です。要素をすべて足してください。   "
   ]
  },
  {
   "cell_type": "code",
   "execution_count": null,
   "metadata": {
    "collapsed": true
   },
   "outputs": [],
   "source": [
    "import numpy as np\n",
    "\n",
    "def spearman(data1,data2):\n",
    "    # dataからそれぞれ順位だけを取り出します。\n",
    "    X = []\n",
    "    y = []\n",
    "    for i in range(len(data1)):\n",
    "        X.append(data1[i][1])\n",
    "    for i in range(len(data2)):\n",
    "        y.append(data2[i][1])\n",
    "        \n",
    "    # X,yをndarrayに変換しましょう。\n",
    "    X = \n",
    "    y = \n",
    "    \n",
    "    #全体の数 N を求めましょう。\n",
    "    N = \n",
    "\n",
    "    #スピアマン順位位相係数を求めましょう。\n",
    "    return \n",
    "\n",
    "data1 = [['Apple', 1], ['Orange', 5], ['Banana', 2], ['Kiwi', 3],['Peach',4]]\n",
    "data2 = [['Apple', 2], ['Orange', 4], ['Banana', 1], ['Kiwi', 3],['Peach',5]]\n",
    "\n",
    "spearman(data1,data2)"
   ]
  },
  {
   "cell_type": "markdown",
   "metadata": {},
   "source": [
    "#### 解答例"
   ]
  },
  {
   "cell_type": "code",
   "execution_count": null,
   "metadata": {
    "collapsed": true
   },
   "outputs": [],
   "source": [
    "import numpy as np\n",
    "\n",
    "def spearman(data1,data2):\n",
    "    X = []\n",
    "    y = []\n",
    "    for i in range(len(data1)):\n",
    "        X.append(data1[i][1])\n",
    "    for i in range(len(data2)):\n",
    "        y.append(data2[i][1])\n",
    "    # X,yをndarrayに変換しましょう。   \n",
    "    X = np.array(X)\n",
    "    y = np.array(y)\n",
    "    #全体の数 N を求めましょう。\n",
    "    N = len(X)\n",
    "\n",
    "    #スピアマン順位位相係数を求めましょう。\n",
    "    return 1 - 6*sum((X -y)**2) / (N*(N**2 - 1))\n",
    "\n",
    "data1 = [['Apple', 1], ['Orange', 5], ['Banana', 2], ['Kiwi', 3],['Peach',4]]\n",
    "data2 = [['Apple', 2], ['Orange', 4], ['Banana', 1], ['Kiwi', 3],['Peach',5]]\n",
    "\n",
    "spearman(data1,data2)"
   ]
  },
  {
   "cell_type": "markdown",
   "metadata": {},
   "source": [
    "### 2.2.4 ジャカード係数"
   ]
  },
  {
   "cell_type": "markdown",
   "metadata": {},
   "source": [
    "二つのデータに含まれている要素の種類の合計数のうち、両方に含まれている要素の合計数をジャッカード係数と言います。ジャッカード係数は０～１までの実数をとり類似度が高いほど１に近づきます。   \n",
    "式でかくと、   \n",
    "$ \\large Jaccard係数　= \\frac{|X\\cap{Y}|}{|X\\cup{Y}|} = \\frac{|X\\cap{Y}|}{|X| + |Y| - |X\\cap{Y}|}$   \n",
    "となります。\n",
    "\n",
    "上の二つと違ってある要素が存在する、しないのみに焦点を当てており、その要素の評価値の大きさは考慮に入れることができません。   \n",
    "文章の類似度の測定やマーケティング分析に使用された基本的な手法であり、これに似たものとしてDice係数、Simpson係数があります。"
   ]
  },
  {
   "cell_type": "markdown",
   "metadata": {},
   "source": [
    "#### 問題"
   ]
  },
  {
   "cell_type": "markdown",
   "metadata": {},
   "source": [
    "次のtextのうちどれが最もtext_aidemyに近いでしょう？"
   ]
  },
  {
   "cell_type": "markdown",
   "metadata": {},
   "source": [
    "#### ヒント"
   ]
  },
  {
   "cell_type": "markdown",
   "metadata": {
    "id": "hint"
   },
   "source": [
    "・ジャッカード係数は０～１の実数値であり、1に近いほうが類似度が高いです。"
   ]
  },
  {
   "cell_type": "code",
   "execution_count": null,
   "metadata": {
    "collapsed": true
   },
   "outputs": [],
   "source": [
    "import numpy as np\n",
    "from simple_tfidf_japanese.tfidf import TFIDF\n",
    "\n",
    "def jaccard(data1,data2):\n",
    "    common_word = 0\n",
    "    for word in data1:\n",
    "        if word in data2:\n",
    "            common_word += 1\n",
    "    return common_word / (len(data1) + len(data2) - common_word)\n",
    "\n",
    "\n",
    "text_aidemy = \"８週間の集中特訓で、未来を創る力が身につく。Aidemyは、人工知能のプロフェッショナルになるためのオンラインゼミサービスです。 一人ひとりに合わせた個別指導と、スペシャリストと共同開発したオリジナル教材、さらには充実の解析環境で、 あなたの学習をサポートします。Aidemyで、未来を創る力を身につけてみませんか。\"\n",
    "data = [\n",
    "    ['text1', \"人工知能、機械学習・ディープラーニング・データサイエンスなどに特化したマンツーマンオンラインスクールです。プログラミング言語Pythonや機械学習・ディープラーニング、データサイエンスなどが学べます。目標にあわせて、あなただけの世界にひとつのオーダーメイドテキストを提供致します。\"],\n",
    "    ['text2', \"みんなのAI講座 ゼロからPythonで学ぶ人工知能と機械学習。初心者向けの人工知能と機械学習のコースです。プログラミング言語Pythonを使って、機械学習とプログラミングの基礎、必要な数学を勉強しましょう！文字認識や株価分析なども行います。\"],\n",
    "    ['text3', \"人工知能を本気で仕事にしたい方向け日本初AIの仕事も紹介するスクール。AI（人工知能）活用に必要な統計の知識とプログラミング（Python）に特化した教育講座と仕事の紹介を同時に実現させるサービスです。しかも日本初！仕事が決まったら受講料は無料\"]\n",
    "]\n",
    "word_datas = []\n",
    "word_text_aidemy = TFIDF.gen(text_aidemy, enable_one_char=1)\n",
    "word_text_aidemy = np.array(word_text_aidemy)[:,0]\n",
    "for i in range(len(data)):\n",
    "    word_datas.append(TFIDF.gen(data[i][1], enable_one_char=1))\n",
    "\n",
    "for i in range(len(data)):\n",
    "    word_data = np.array(word_datas[i])[:,0]\n",
    "    print(jaccard(word_text_aidemy,word_data))\n",
    "    "
   ]
  },
  {
   "cell_type": "markdown",
   "metadata": {},
   "source": [
    "#### 解答"
   ]
  },
  {
   "cell_type": "markdown",
   "metadata": {
    "collapsed": true,
    "id": "index"
   },
   "source": [
    "text1"
   ]
  },
  {
   "cell_type": "markdown",
   "metadata": {},
   "source": [
    "<br>"
   ]
  },
  {
   "cell_type": "markdown",
   "metadata": {
    "id": "chapter_correction"
   },
   "source": [
    "## 添削問題"
   ]
  },
  {
   "cell_type": "markdown",
   "metadata": {
    "id": "description"
   },
   "source": [
    "#### 問題"
   ]
  },
  {
   "cell_type": "markdown",
   "metadata": {},
   "source": [
    "ここには7人のユーザーが6種類の映画の中から見たことのある映画とその映画に対する評価が格納されたデータセットがあります。     \n",
    "これを参考に、ユーザーベース協調フィルタリングを用いてTobyに最もおすすめなものを選んでください。   \n",
    "おすすめの基準は (類似度×評価)の合計 /　類似度の合計　で評価します。"
   ]
  },
  {
   "cell_type": "markdown",
   "metadata": {},
   "source": [
    "ヒント"
   ]
  },
  {
   "cell_type": "markdown",
   "metadata": {},
   "source": [
    "・similarityは扱うデータの形が違うので上のものをすこし改良しています。渡すときは辞書型として渡してください。  "
   ]
  },
  {
   "cell_type": "code",
   "execution_count": null,
   "metadata": {
    "collapsed": true
   },
   "outputs": [],
   "source": [
    "dataset={\n",
    " 'Lisa Rose': {\n",
    " 'Lady in the Water': 2.5, 'Snakes on a Plane': 3.5, 'Just My Luck': 3.0, 'Superman Returns': 3.5,'You, Me and Dupree': 2.5, 'The Night Listener': 3.0\n",
    "  },\n",
    " 'Gene Seymour': {\n",
    " 'Lady in the Water': 3.0, 'Snakes on a Plane': 3.5, 'Just My Luck': 1.5, 'Superman Returns': 5.0, 'The Night Listener': 3.0, 'You, Me and Dupree': 3.5\n",
    "  },\n",
    " 'Michael Phillips': {\n",
    " 'Lady in the Water': 2.5, 'Snakes on a Plane': 3.0, 'Superman Returns': 3.5, 'The Night Listener': 4.0\n",
    "  },\n",
    " 'Claudia Puig': {\n",
    " 'Snakes on a Plane': 3.5, 'Just My Luck': 3.0, 'The Night Listener': 4.5, 'Superman Returns': 4.0, 'You, Me and Dupree': 2.5\n",
    "  },\n",
    " 'Mick LaSalle': {\n",
    " 'Lady in the Water': 3.0, 'Snakes on a Plane': 4.0, 'Just My Luck': 2.0, 'Superman Returns': 3.0, 'The Night Listener': 3.0, 'You, Me and Dupree': 2.0\n",
    "  },\n",
    " 'Jack Matthews': {\n",
    " 'Lady in the Water': 3.0, 'Snakes on a Plane': 4.0, 'The Night Listener': 3.0, 'Superman Returns': 5.0, 'You, Me and Dupree': 3.5\n",
    "  },\n",
    " 'Toby': {\n",
    " 'Snakes on a Plane':4.5, 'You, Me and Dupree':1.0, 'Superman Returns':4.0\n",
    "  }\n",
    "}"
   ]
  },
  {
   "cell_type": "code",
   "execution_count": null,
   "metadata": {
    "collapsed": true
   },
   "outputs": [],
   "source": [
    "def similarity(data1,data2):\n",
    "    # a・bの値をabに入れます。\n",
    "    ab = 0  \n",
    "    for key1, value1 in data1.items():\n",
    "        value2 = data2.get(key1)\n",
    "        if value2:\n",
    "            ab += value1 * value2\n",
    "\n",
    "    # a,bそれぞれの\n",
    "    a = math.sqrt(sum([v ** 2 for v in data1.values()]))\n",
    "    b = math.sqrt(sum([v ** 2 for v in data2.values()]))\n",
    "\n",
    "    return ab / (a * b)\n",
    "\n",
    "def get_recommend(target):\n",
    "    #　映画ごとにtotalに類似度×評価　、sim_sumsに類似度の合計を入れていきます。\n",
    "    totals = {}\n",
    "    sim_sums = {}\n",
    "    \n",
    "    #tardet以外のユーザーのリストを作ってください。\n",
    "    list_person = \n",
    "    \n",
    "    \n",
    "    for person in list_person:\n",
    "        #targetの見ていない映画のリストを作ってください。\n",
    "        set_person = \n",
    "        set_target = \n",
    "        set_new_movie = \n",
    "\n",
    "    # あるユーザとtargetの類似度を計算してください。\n",
    "        sim = \n",
    "\n",
    "        for movie in set_new_movie:\n",
    "      # 類似度 x 評価 をtotalへ映画ごとに入れてください。\n",
    "            totals.setdefault(movie,0)\n",
    "            totals[movie] +=\n",
    "\n",
    "      # 類似度の合計を計算するためsim_sumsに類似度を加算してください。\n",
    "            sim_sums.setdefault(movie,0)\n",
    "            sim_sums[movie] += \n",
    "\n",
    "    rankings = {movie : total/sim_sums[movie] for movie,total in totals.items()}\n",
    "    rankings = sorted(rankings.items(), key = lambda x: -x[1])\n",
    "    return rankings[0][0]\n",
    "\n",
    "get_recommend('Toby')"
   ]
  },
  {
   "cell_type": "markdown",
   "metadata": {},
   "source": [
    "#### 解答例"
   ]
  },
  {
   "cell_type": "code",
   "execution_count": null,
   "metadata": {
    "collapsed": true
   },
   "outputs": [],
   "source": [
    "def similarity(data1,data2):\n",
    "    # a・bの値をabに入れます。\n",
    "    ab = 0  \n",
    "    for key1, value1 in data1.items():\n",
    "        value2 = data2.get(key1)\n",
    "        if value2:\n",
    "            ab += value1 * value2\n",
    "\n",
    "    # a,bそれぞれの\n",
    "    a = math.sqrt(sum([v ** 2 for v in data1.values()]))\n",
    "    b = math.sqrt(sum([v ** 2 for v in data2.values()]))\n",
    "\n",
    "    return ab / (a * b)\n",
    "\n",
    "def get_recommend(target):\n",
    "    #　映画ごとにtotalに類似度×評価　、sim_sumsに類似度の合計を入れていきます。\n",
    "    totals = {}\n",
    "    sim_sums = {}\n",
    "    \n",
    "    #tardet以外のユーザーのリストを作ってください。\n",
    "    list_person = set(dataset.keys())\n",
    "    list_person.remove(target)\n",
    "    \n",
    "    for person in list_person:\n",
    "        #targetの見ていない映画のリストを作ってください。\n",
    "        set_person = set(dataset[person])\n",
    "        set_target = set(dataset[target])\n",
    "        set_new_movie = set_person - set_target\n",
    "\n",
    "    # あるユーザとtargetの類似度を計算してください。\n",
    "        sim = similarity(dataset[target],dataset[person])\n",
    "\n",
    "        for movie in set_new_movie:\n",
    "      # 類似度 x 評価 をtotalへ映画ごとに入れてください。\n",
    "            totals.setdefault(movie,0)\n",
    "            totals[movie] += dataset[person][movie]*sim \n",
    "\n",
    "      # 類似度の合計を計算するためsim_sumsに類似度を加算してください。\n",
    "            sim_sums.setdefault(movie,0)\n",
    "            sim_sums[movie] += sim\n",
    "\n",
    "    rankings = {movie : total/sim_sums[movie] for movie,total in totals.items()}\n",
    "    rankings = sorted(rankings.items(), key = lambda x: -x[1])\n",
    "    return rankings[0][0]\n",
    "\n",
    "get_recommend('Toby')"
   ]
  }
 ],
 "metadata": {
  "celltoolbar": "Edit Metadata",
  "kernelspec": {
   "display_name": "Python 3",
   "language": "python",
   "name": "python3"
  },
  "language_info": {
   "codemirror_mode": {
    "name": "ipython",
    "version": 3
   },
   "file_extension": ".py",
   "mimetype": "text/x-python",
   "name": "python",
   "nbconvert_exporter": "python",
   "pygments_lexer": "ipython3",
   "version": "3.6.5"
  }
 },
 "nbformat": 4,
 "nbformat_minor": 2
}