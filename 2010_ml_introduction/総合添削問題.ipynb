{
 "cells": [
  {
   "cell_type": "markdown",
   "metadata": {
    "id": "final_exam"
   },
   "source": [
    "# 総合添削問題\n"
   ]
  },
  {
   "cell_type": "markdown",
   "metadata": {
    "id": "description"
   },
   "source": [
    "チャプター1,2,3で学んだことを生かし、実際に機械学習する流れについて総復習しましょう。"
   ]
  },
  {
   "cell_type": "markdown",
   "metadata": {},
   "source": [
    "#### 問題"
   ]
  },
  {
   "cell_type": "markdown",
   "metadata": {
    "id": "question"
   },
   "source": [
    "- 以下のコードは機械学習をする上での基本的な流れに沿っています。各ブロックで何を行なっているか説明してください。"
   ]
  },
  {
   "cell_type": "code",
   "execution_count": 67,
   "metadata": {
    "id": "index"
   },
   "outputs": [
    {
     "name": "stdout",
     "output_type": "stream",
     "text": [
      "['sepal length (cm)', 'sepal width (cm)', 'petal length (cm)', 'petal width (cm)']\n",
      "2\n",
      "[2 0 2 1 0 1 0 2 1 2 1 1 0 1 1 2 0 2 2 1 2 0 0 1 0 2 2 2 1 1 1 1 0 1 0 2 2\n",
      " 0 1 0 0 2 2 1 1]\n",
      "[2 0 2 0 0 2 0 2 2 2 2 0 0 0 0 2 0 2 2 0 2 0 0 2 0 2 2 2 0 2 2 0 0 0 0 2 2\n",
      " 0 2 0 0 2 2 2 0]\n",
      "28\n",
      "45\n",
      "0.6222222222222222\n",
      "Accuracy: 0.62\n"
     ]
    }
   ],
   "source": [
    "import matplotlib.pyplot as plt\n",
    "import numpy as np\n",
    "import pandas as pd\n",
    "from sklearn import datasets\n",
    "from sklearn import svm\n",
    "from sklearn.model_selection import train_test_split\n",
    "from sklearn.metrics import accuracy_score\n",
    "import time \n",
    "\n",
    "# (1.) irisのデータセットを読み込み\n",
    "# Irisデータセットをロード\n",
    "iris = datasets.load_iris()\n",
    "#  3,4列目の特徴量を抽出\n",
    "X = iris.data[:, [2, 3]]\n",
    "# クラスラベルを取得\n",
    "y = iris.target\n",
    "print(iris.feature_names)\n",
    "print(np.max(y))\n",
    "# (2.) データセットをトレーニング用データとテストデータに分割 (テストデータ 30%)\n",
    "X_train, X_test, y_train, y_test = train_test_split(X, y, test_size=0.3, random_state=int(time.time()))\n",
    "print(y_test)\n",
    "# (3.) 機械学習アルゴリズムとしてSVMを使う(RBFカーネル)\n",
    "svc = svm.SVC(C=1, kernel='rbf', gamma=0.001)\n",
    "svc.fit(X_train, y_train)\n",
    "\n",
    "# (4.) テストデータについて予測結果(ラベル)を取得  , 正解率取得\n",
    "y_pred = svc.predict(X_test)\n",
    "print (\"Accuracy: %.2f\"% accuracy_score(y_test, y_pred))\n",
    "# accuracy = 正解ラベルと一致した件数(TP+TN) ÷ テストデータ数（TP+TN+FP+FN） \n",
    "# print(y_pred)\n",
    "# count = 0\n",
    "# for i in range(len(y_pred)):\n",
    "#     if y_pred[i] == y_test[i]:\n",
    "#         count += 1\n",
    "# print (count)\n",
    "# print (len(y_test))\n",
    "# print( count / len(y_test) )"
   ]
  },
  {
   "cell_type": "code",
   "execution_count": null,
   "metadata": {},
   "outputs": [],
   "source": []
  },
  {
   "cell_type": "markdown",
   "metadata": {},
   "source": [
    "#### ヒント"
   ]
  },
  {
   "cell_type": "markdown",
   "metadata": {
    "id": "hint"
   },
   "source": [
    "- 基本的な機械学習は、トレーニングデータとテストデータを用意した後、トレーニングデータを機械学習アルゴリズムに学習させ、学習した機械学習アルゴリズムの性能をテストデータで検証するといった流れです。"
   ]
  },
  {
   "cell_type": "markdown",
   "metadata": {},
   "source": [
    "##  解答例"
   ]
  },
  {
   "cell_type": "markdown",
   "metadata": {
    "id": "commentary"
   },
   "source": [
    "添削課題の提出は以下のアドレスから提出いただきますようお願いします。<br>\n",
    "\b\n",
    "https://goo.gl/forms/fW7CAspZMwHuWuqk2<br><br>\n",
    "以下のアドレスからアンケートにご協力頂きたく存じます。<br>\n",
    "ご回答のほど、よろしくお願いいたします。\n",
    "\n",
    "https://goo.gl/forms/WHjJQYeodIndRvyz2"
   ]
  }
 ],
 "metadata": {
  "celltoolbar": "Edit Metadata",
  "kernelspec": {
   "display_name": "Python 3",
   "language": "python",
   "name": "python3"
  },
  "language_info": {
   "codemirror_mode": {
    "name": "ipython",
    "version": 3
   },
   "file_extension": ".py",
   "mimetype": "text/x-python",
   "name": "python",
   "nbconvert_exporter": "python",
   "pygments_lexer": "ipython3",
   "version": "3.7.0"
  }
 },
 "nbformat": 4,
 "nbformat_minor": 2
}
