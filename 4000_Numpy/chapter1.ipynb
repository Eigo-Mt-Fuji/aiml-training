{
 "cells": [
  {
   "cell_type": "markdown",
   "metadata": {
    "chapterId": "ryAdAX-gZf",
    "id": "chapter_name"
   },
   "source": [
    "#  NumPy"
   ]
  },
  {
   "cell_type": "markdown",
   "metadata": {
    "id": "table"
   },
   "source": [
    "- **[1.1 NumPy の概観](#1.1-NumPyの概観)**\n",
    "    - **[1.1.1 NumPyとは](#1.1.1-NumPyとは)**\n",
    "    - **[1.1.2 NumPyの高速な処理の体験](#1.1.2-NumPyの高速な処理の体験)**\n",
    "<br><br>\n",
    "- **[1.2 NumPy 1次元配列](#1.2-NumPy-1次元配列)**\n",
    "    - **[1.2.1 import](#1.2.1-import)**\n",
    "    - **[1.2.2 1次元配列](#1.2.2-1次元配列)**\n",
    "    - **[1.2.3 1次元配列の計算](#1.2.3-1次元配列の計算)**\n",
    "    - **[1.2.4 インデックス参照とスライス](#1.2.4-インデックス参照とスライス)**\n",
    "    - **[1.2.5 ndarrayの注意点](#1.2.5-ndarrayの注意点)**\n",
    "    - **[1.2.6 viewとcopy](#1.2.6-viewとcopy)**\n",
    "    - **[1.2.7 ブールインデックス参照](#1.2.7-ブールインデックス参照)** \n",
    "    - **[1.2.8 ユニバーサル関数](#1.2.8-ユニバーサル関数)**\n",
    "    - **[1.2.9 集合関数](#1.2.9-集合関数)**  \n",
    "    - **[1.2.10 乱数](#1.2.10-乱数)**\n",
    "<br><br>\n",
    "- **[1.3 NumPy 2次元配列](#1.3-NumPy-2次元配列)**\n",
    "    - **[1.3.1 2次元配列](#1.3.1-2次元配列)**\n",
    "    - **[1.3.2 インデックス参照とスライス](#1.3.2-インデックス参照とスライス)**\n",
    "    - **[1.3.3 axis](#1.3.3-axis)**\n",
    "    - **[1.3.4 ファンシーインデックス参照](#1.3.4-ファンシーインデックス参照)**\n",
    "    - **[1.3.5 転置行列](#1.3.5-転置行列)**\n",
    "    - **[1.3.6 ソート](#1.3.6-ソート)**\n",
    "    - **[1.3.7 行列計算](#1.3.7-行列計算)**\n",
    "    - **[1.3.8 数学関数](#1.3.8-数学関数)**\n",
    "    - **[1.3.9 ブロードキャスト](#1.3.9-ブロードキャスト)**\n",
    "<br><br>\n",
    "- **[1.3 添削問題](#1.3-添削問題)**"
   ]
  },
  {
   "cell_type": "markdown",
   "metadata": {},
   "source": [
    " ***"
   ]
  },
  {
   "cell_type": "markdown",
   "metadata": {
    "id": "section_name",
    "sectionId": "S1kgd07-lWz"
   },
   "source": [
    "## 1.1 NumPy の概観"
   ]
  },
  {
   "cell_type": "markdown",
   "metadata": {
    "courseId": 4000,
    "exerciseId": "HkYzKhUiLef",
    "id": "quiz_session_name",
    "important": true,
    "isDL": false,
    "timeoutSecs": 5
   },
   "source": [
    "### 1.1.1 NumPyとは"
   ]
  },
  {
   "cell_type": "markdown",
   "metadata": {
    "id": "description"
   },
   "source": [
    "**<font color=#AA0000>NumPy</font>** とは、Pythonでベクトルや行列計算を高速に行うのに特化した基盤となるライブラリです。 **ライブラリとは外部から読み込むPythonのコードの塊** です。ライブラリの利点は、本来長いコードを書くところを短く書ける点、処理速度が早くなる（場合がある）点です。Pythonが機械学習分野で広く活用されている理由には、NumPyを始めとする科学技術計算に便利なライブラリの充実が挙げられます。ライブラリのなかには、たくさんのモジュールが入っており、モジュールはたくさんの関数でまとまっていると押さえておけば良いでしょう。\n",
    "\n",
    "例: Numpyライブラリ > Numpy.randomモジュール > randint()関数\n",
    "\n",
    "<img src=\"https://aidemyexcontentspic.blob.core.windows.net/contents-pic/4000_numpy/img1_10.png\" width=\"500\">\n",
    "\n",
    " 　Pythonで他に利用されるライブラリには、 **Scipy** 、 **Pandas** 、 **scikit-learn** 、 **Matplotlib** などがあります。これらのライブラリや開発環境などを含めたPythonの環境全体を指して**エコシステム**と呼ばれます。以下の図はPythonのエコシステムの概観を表しています。下にあるほど基盤となるような機能を提供します。NumPyは他のライブラリにも関係する、非常に基礎的な役割を担っているのです。\n",
    "\n",
    "<img src=\"https://aidemyexcontentspic.blob.core.windows.net/contents-pic/4000_numpy/img1_20.png\" width=\"500\">"
   ]
  },
  {
   "cell_type": "markdown",
   "metadata": {},
   "source": [
    "#### 問題\n"
   ]
  },
  {
   "cell_type": "markdown",
   "metadata": {
    "id": "question"
   },
   "source": [
    "- NumPyは以下の選択肢のうち、どの処理を行うライブラリですか。"
   ]
  },
  {
   "cell_type": "markdown",
   "metadata": {
    "id": "choices"
   },
   "source": [
    "- データのプロットを行う。\n",
    "- 独自のデータ構造を使い、データを操作する。\n",
    "- 機械学習のライブラリを提供する。\n",
    "- ベクトルや行列計算を高速化する。"
   ]
  },
  {
   "cell_type": "markdown",
   "metadata": {},
   "source": [
    "#### ヒント"
   ]
  },
  {
   "cell_type": "markdown",
   "metadata": {
    "id": "hint"
   },
   "source": [
    "- NumPyはベクトルや行列計算に特化しています。"
   ]
  },
  {
   "cell_type": "markdown",
   "metadata": {},
   "source": [
    "#### 解答例"
   ]
  },
  {
   "cell_type": "markdown",
   "metadata": {
    "collapsed": true,
    "id": "answer"
   },
   "source": [
    "ベクトルや行列計算を高速化する。"
   ]
  },
  {
   "cell_type": "markdown",
   "metadata": {},
   "source": [
    "***"
   ]
  },
  {
   "cell_type": "markdown",
   "metadata": {
    "courseId": 4000,
    "exerciseId": "HJcMYh8jLgf",
    "id": "code_session_name",
    "important": true,
    "isDL": false,
    "timeoutSecs": 10
   },
   "source": [
    "### 1.1.2 NumPyの高速な処理の体験"
   ]
  },
  {
   "cell_type": "markdown",
   "metadata": {
    "id": "description"
   },
   "source": [
    "Pythonはベクトルや行列計算の処理が低速で、それを補うライブラリとしてNumPyが存在することを説明しました。次の行列の計算を実行して、NumPyにより処理が高速化されていることを確認しましょう。\n",
    "\n",
    "詳しいコードの内容は、次の節から説明するので、今回はこちらのコードを実行して、NumPyの行列計算の速度を見てみるだけでOKです。"
   ]
  },
  {
   "cell_type": "markdown",
   "metadata": {},
   "source": [
    "#### 問題\n"
   ]
  },
  {
   "cell_type": "markdown",
   "metadata": {
    "id": "question"
   },
   "source": [
    "- 次の行列計算を実行して、NumPyにより処理が高速化されていることを確認しましょう。"
   ]
  },
  {
   "cell_type": "code",
   "execution_count": null,
   "metadata": {
    "id": "index",
    "timeout": 20
   },
   "outputs": [],
   "source": [
    "# 必要なライブラリをimport\n",
    "import numpy as np\n",
    "import time\n",
    "from numpy.random import rand\n",
    "\n",
    "# 行、列の大きさ\n",
    "N = 150\n",
    "\n",
    "# 行列の初期化\n",
    "matA = np.array(rand(N, N))\n",
    "matB = np.array(rand(N, N))\n",
    "matC = np.array([[0] * N for _ in range(N)])\n",
    "\n",
    "# Pythonのリストを使って計算\n",
    "\n",
    "# 開始時間の取得\n",
    "start = time.time()\n",
    "\n",
    "# for文を使って行列の掛け算を実行\n",
    "for i in range(N):\n",
    "    for j in range(N):\n",
    "        for k in range(N):\n",
    "            matC[i][j] = matA[i][k] * matB[k][j]\n",
    "\n",
    "print(\"Pythonの機能のみでの計算結果：%.2f[sec]\" % float(time.time() - start))\n",
    "\n",
    "# NumPyを使って計算\n",
    "\n",
    "# 開始時間の取得\n",
    "start = time.time()\n",
    "\n",
    "# NumPyを使って行列の掛け算を実行\n",
    "matC = np.dot(matA, matB)\n",
    "\n",
    "# 少数第2位の桁で打ち切っているのでNumPyは0.00[sec]と表示されます。\n",
    "print(\"NumPyを使った場合の計算結果：%.2f[sec]\" % float(time.time() - start))"
   ]
  },
  {
   "cell_type": "markdown",
   "metadata": {},
   "source": [
    "#### ヒント"
   ]
  },
  {
   "cell_type": "markdown",
   "metadata": {
    "id": "hint"
   },
   "source": [
    "- 桁は第2位で打ち切っているのでNumPyは0.00[sec]と表示されますが、0ではありません。"
   ]
  },
  {
   "cell_type": "markdown",
   "metadata": {},
   "source": [
    "#### 解答例"
   ]
  },
  {
   "cell_type": "code",
   "execution_count": null,
   "metadata": {
    "id": "answer",
    "timeout": 20
   },
   "outputs": [],
   "source": [
    "# 必要なライブラリをimport\n",
    "import numpy as np\n",
    "import time\n",
    "from numpy.random import rand\n",
    "\n",
    "# 行、列の大きさ\n",
    "N = 150\n",
    "\n",
    "# 行列の初期化\n",
    "matA = np.array(rand(N, N))\n",
    "matB = np.array(rand(N, N))\n",
    "matC = np.array([[0] * N for _ in range(N)])\n",
    "\n",
    "# Pythonのリストを使って計算\n",
    "\n",
    "# 開始時間の取得\n",
    "start = time.time()\n",
    "\n",
    "# for文を使って行列の掛け算を実行\n",
    "for i in range(N):\n",
    "    for j in range(N):\n",
    "        for k in range(N):\n",
    "            matC[i][j] = matA[i][k] * matB[k][j]\n",
    "\n",
    "print(\"Pythonの機能のみでの計算結果：%.2f[sec]\" % float(time.time() - start))\n",
    "\n",
    "# NumPyを使って計算\n",
    "\n",
    "# 開始時間の取得\n",
    "start = time.time()\n",
    "\n",
    "# NumPyを使って行列の掛け算を実行\n",
    "matC = np.dot(matA, matB)\n",
    "\n",
    "# 少数第2位の桁で打ち切っているのでNumPyは0.00[sec]と表示されます。\n",
    "print(\"NumPyを使った場合の計算結果：%.2f[sec]\" % float(time.time() - start))"
   ]
  },
  {
   "cell_type": "markdown",
   "metadata": {},
   "source": [
    "***"
   ]
  },
  {
   "cell_type": "markdown",
   "metadata": {
    "id": "section_name",
    "sectionId": "rJxluRQWgZz"
   },
   "source": [
    "## 1.2 NumPy 1次元配列"
   ]
  },
  {
   "cell_type": "markdown",
   "metadata": {
    "courseId": 4000,
    "exerciseId": "S1izFnUoUez",
    "id": "code_session_name",
    "important": true,
    "isDL": false,
    "timeoutSecs": 5
   },
   "source": [
    "### 1.2.1 import"
   ]
  },
  {
   "cell_type": "markdown",
   "metadata": {
    "id": "description"
   },
   "source": [
    "さて、このセクションから本格的にNumPyを使ったプログラミングに挑戦します。\n",
    "\n",
    "NumPyを`import`するときは`import numpy`と表記します。読み込んだNumPyを用いるには`numpy.モジュール名`という形で用います。`import numpy as np`のように`as`を用いて`import _____ as __`と表記するとパッケージ名を変更することができ、`np.モジュール名`の形で用いることができます。\n",
    "Pythonコミュニティーには、慣習としてよく使われるモジュールの命名規則があり、`numpy`は`np`という名前で定義されます。(以下、この教材でも`numpy`は`np`として表記していきます。)"
   ]
  },
  {
   "cell_type": "markdown",
   "metadata": {},
   "source": [
    "#### 問題\n"
   ]
  },
  {
   "cell_type": "markdown",
   "metadata": {
    "id": "question"
   },
   "source": [
    "- NumPyを`import`し、`np`という名前で定義してください。"
   ]
  },
  {
   "cell_type": "code",
   "execution_count": null,
   "metadata": {
    "id": "index"
   },
   "outputs": [],
   "source": [
    "# NumPyをimportしてください\n",
    "\n"
   ]
  },
  {
   "cell_type": "markdown",
   "metadata": {},
   "source": [
    "#### ヒント"
   ]
  },
  {
   "cell_type": "markdown",
   "metadata": {
    "id": "hint"
   },
   "source": [
    "- `import _____ as __`"
   ]
  },
  {
   "cell_type": "markdown",
   "metadata": {},
   "source": [
    "#### 解答例"
   ]
  },
  {
   "cell_type": "code",
   "execution_count": null,
   "metadata": {
    "id": "answer"
   },
   "outputs": [],
   "source": [
    "# NumPyをimportしてください\n",
    "import numpy as np\n"
   ]
  },
  {
   "cell_type": "markdown",
   "metadata": {},
   "source": [
    "***"
   ]
  },
  {
   "cell_type": "markdown",
   "metadata": {
    "courseId": 4000,
    "exerciseId": "Hy3fF3Li8lM",
    "id": "code_session_name",
    "important": true,
    "isDL": false,
    "timeoutSecs": 5
   },
   "source": [
    "### 1.2.2 1次元配列"
   ]
  },
  {
   "cell_type": "markdown",
   "metadata": {
    "id": "description"
   },
   "source": [
    "NumPyには配列を高速に扱うための`ndarray`クラスが用意されています。`ndarray`を生成する方法の一つは、NumPyの`np.array`関数を用いる方法です。 **`np.array(リスト)`と表記し、リストを与えることで作成** します。<br>\n",
    "`np.array([1,2,3])`\n",
    "\n",
    "また、`np.arange`関数を用いる方法があり、`np.arange(X)`と表記し等間隔に増減させた値の要素をX個作成してくれます。<br>\n",
    "`np.arange(4)  # 出力結果 [0 1 2 3]`\n",
    "\n",
    "ndarrayクラスは一次元の場合はベクトル、二次元の場合は行列、三次元以上はテンソルと呼ばれます。テンソルについては数学的な概念ですが、機械学習では単に行列の概念を拡張したものと捉えて頂いて大丈夫です。一次元、二次元、三次元の`np.array`の例は以下のようになります。\n",
    "\n",
    "一次元のndarrayクラス<br>\n",
    "`array_1d = np.array([1,2,3,4,5,6,7,8])`\n",
    "\n",
    "二次元のndarrayクラス<br>\n",
    "`array_2d = np.array([[1,2,3,4],[5,6,7,8]])`\n",
    "\n",
    "三次元のndarrayクラス<br>\n",
    "`array_3d = np.array([[[1,2],[3,4]],[[5,6],[7,8]]])`"
   ]
  },
  {
   "cell_type": "markdown",
   "metadata": {},
   "source": [
    "#### 問題\n"
   ]
  },
  {
   "cell_type": "markdown",
   "metadata": {
    "id": "question"
   },
   "source": [
    "- 変数`storages`から`ndarray`配列を生成し、変数`np_storages`に代入してください。\n",
    "- 変数`np_storages`の型を出力してください。"
   ]
  },
  {
   "cell_type": "code",
   "execution_count": null,
   "metadata": {
    "id": "index"
   },
   "outputs": [],
   "source": [
    "import numpy as np\n",
    "\n",
    "storages = [24, 3, 4, 23, 10, 12]\n",
    "print(storages)\n",
    "\n",
    "# ndarray配列を生成し、変数np_storagesに代入してください\n",
    "np_storages = \n",
    "print(np_storages)\n",
    "\n",
    "# 変数np_storagesの型を出力してください\n",
    "print()\n"
   ]
  },
  {
   "cell_type": "markdown",
   "metadata": {},
   "source": [
    "#### ヒント"
   ]
  },
  {
   "cell_type": "markdown",
   "metadata": {
    "id": "hint"
   },
   "source": [
    "- `np.array(リスト)`\n",
    "- 型を出力する関数は`type(任意の変数など)`です。"
   ]
  },
  {
   "cell_type": "markdown",
   "metadata": {},
   "source": [
    "#### 解答例"
   ]
  },
  {
   "cell_type": "code",
   "execution_count": null,
   "metadata": {
    "id": "answer"
   },
   "outputs": [],
   "source": [
    "import numpy as np\n",
    "\n",
    "storages = [24, 3, 4, 23, 10, 12]\n",
    "print(storages)\n",
    "\n",
    "# ndarray配列を生成し、変数np_storagesに代入してください\n",
    "np_storages = np.array(storages)\n",
    "print(np_storages)\n",
    "\n",
    "# 変数np_storagesの型を出力してください\n",
    "print(type(np_storages))"
   ]
  },
  {
   "cell_type": "markdown",
   "metadata": {},
   "source": [
    "***"
   ]
  },
  {
   "cell_type": "markdown",
   "metadata": {
    "courseId": 4000,
    "exerciseId": "BJpMY2Ij8lf",
    "id": "code_session_name",
    "important": true,
    "isDL": false,
    "timeoutSecs": 5
   },
   "source": [
    "### 1.2.3 1次元配列の計算"
   ]
  },
  {
   "cell_type": "markdown",
   "metadata": {
    "id": "description"
   },
   "source": [
    "リストでは、要素ごとの計算を行うためには、 **ループを書いて要素を一つずつ取り出して足し算** を行う必要がありましたが、 **`ndarray`ではループで書く必要はありません。** `ndarray`同士の算術演算では、同じ位置にある要素同士で計算されます。\n",
    "\n",
    "\n",
    "NumPyを使わない実行\n",
    "```python\n",
    "storages = [1, 2, 3, 4]\n",
    "new_storages = []\n",
    "for n in storages:\n",
    "    n += n\n",
    "    new_storages.append(n)\n",
    "print(new_storages)\n",
    "\n",
    "# 出力結果\n",
    "[2 4 6 8]\n",
    "```\n",
    "\n",
    "NumPyを使う実行\n",
    "\n",
    "```python\n",
    "import numpy as np\n",
    "storages = np.array([1, 2, 3, 4])\n",
    "storages += storages\n",
    "print(storages)\n",
    "\n",
    "# 出力結果\n",
    "[2 4 6 8]\n",
    "```"
   ]
  },
  {
   "cell_type": "markdown",
   "metadata": {},
   "source": [
    "#### 問題\n"
   ]
  },
  {
   "cell_type": "markdown",
   "metadata": {
    "id": "question"
   },
   "source": [
    "- 変数`arr`同士を足したものを出力してください。\n",
    "- 変数`arr`同士を引いたものを出力してください。\n",
    "- 変数`arr`の3乗を出力してください。\n",
    "- 1を変数`arr`で割った値を出力してください。\n",
    "- 出力はprint関数を用いてください。"
   ]
  },
  {
   "cell_type": "code",
   "execution_count": null,
   "metadata": {
    "id": "index"
   },
   "outputs": [],
   "source": [
    "import numpy as np\n",
    "\n",
    "arr = np.array([2, 5, 3, 4, 8])\n",
    "\n",
    "# arr + arr\n",
    "print()\n",
    "\n",
    "# arr - arr\n",
    "print()\n",
    "\n",
    "# arr ** 3\n",
    "print()\n",
    "\n",
    "# 1 / arr\n",
    "print()\n"
   ]
  },
  {
   "cell_type": "markdown",
   "metadata": {},
   "source": [
    "#### ヒント"
   ]
  },
  {
   "cell_type": "markdown",
   "metadata": {
    "id": "hint"
   },
   "source": [
    "- 変数の計算の時と同様にすれば良いです。"
   ]
  },
  {
   "cell_type": "markdown",
   "metadata": {},
   "source": [
    "#### 解答例"
   ]
  },
  {
   "cell_type": "code",
   "execution_count": null,
   "metadata": {
    "id": "answer"
   },
   "outputs": [],
   "source": [
    "import numpy as np\n",
    "\n",
    "arr = np.array([2, 5, 3, 4, 8])\n",
    "\n",
    "# arr + arr\n",
    "print('arr + arr')\n",
    "print(arr + arr)\n",
    "print()\n",
    "\n",
    "# arr - arr\n",
    "print('arr - arr')\n",
    "print(arr - arr)\n",
    "print()\n",
    "\n",
    "# arr ** 3\n",
    "print('arr ** 3')\n",
    "print(arr ** 3)\n",
    "print()\n",
    "\n",
    "# 1 / arr\n",
    "print('1 / arr')\n",
    "print(1 / arr)\n",
    "print()\n"
   ]
  },
  {
   "cell_type": "markdown",
   "metadata": {},
   "source": [
    "***"
   ]
  },
  {
   "cell_type": "markdown",
   "metadata": {
    "courseId": 4000,
    "exerciseId": "S1RMY2UiIxG",
    "id": "code_session_name",
    "important": true,
    "isDL": false,
    "timeoutSecs": 5
   },
   "source": [
    "### 1.2.4 インデックス参照とスライス"
   ]
  },
  {
   "cell_type": "markdown",
   "metadata": {
    "id": "description"
   },
   "source": [
    "リスト型と同様にNumPyでも **インデックス参照やスライスをする** ことができます。インデックス参照はPython入門Chapter2[「**リストから値を取り出す**」](https://aidemy.net/courses/3010/exercises/ByDZYn8oLlz)で、スライスは同じくChapter2[「**リストからリストを取り出す**」](https://aidemy.net/courses/3010/exercises/By_WF3IsLlf)で確認しましたね。インデックス参照とスライスの方法はリストの時と同じ方法です。1次元配列はベクトルであるので、インデックスで参照した先はスカラー値（通常の整数や小数点など）となります。\n",
    "\n",
    "スライスの値を変更したいときは`arr[start:end] = 変更したい値`と表記します。なお、 **arr[start:end]の時、startから<font color=#AA0000>(end-1)まで</font>のリスト** が作成されることに注意してください。\n",
    "\n",
    "\n",
    "```python\n",
    "arr = np.arange(10)\n",
    "print(arr)\n",
    "# 出力結果\n",
    "[0 1 2 3 4 5 6 7 8 9]\n",
    "```\n",
    "```python\n",
    "arr = np.arange(10)\n",
    "arr[0:3] = 1\n",
    "print(arr)\n",
    "# 出力結果\n",
    "[1 1 1 3 4 5 6 7 8 9]\n",
    "```"
   ]
  },
  {
   "cell_type": "markdown",
   "metadata": {},
   "source": [
    "#### 問題\n"
   ]
  },
  {
   "cell_type": "markdown",
   "metadata": {
    "id": "question"
   },
   "source": [
    "- 変数`arr`の要素の内`3, 4, 5`だけを出力してください。\n",
    "- 変数`arr`の要素の内`3, 4, 5`を24に変更してください。"
   ]
  },
  {
   "cell_type": "code",
   "execution_count": null,
   "metadata": {
    "id": "index"
   },
   "outputs": [],
   "source": [
    "import numpy as np\n",
    "\n",
    "arr = np.arange(10)\n",
    "print(arr)\n",
    "\n",
    "# 変数arrの要素の内3, 4, 5だけを出力してください\n",
    "print()\n",
    "\n",
    "# 変数arrの要素の内3, 4, 5を24に変更してください\n",
    "\n",
    "print(arr)"
   ]
  },
  {
   "cell_type": "markdown",
   "metadata": {},
   "source": [
    "#### ヒント"
   ]
  },
  {
   "cell_type": "markdown",
   "metadata": {
    "id": "hint"
   },
   "source": [
    "- `arr[start:end]`の時、`start`から`(end-1)`までのリストが作成されます。\n",
    "- `arr[start:end] = 変更したい値`"
   ]
  },
  {
   "cell_type": "markdown",
   "metadata": {},
   "source": [
    "#### 解答例"
   ]
  },
  {
   "cell_type": "code",
   "execution_count": null,
   "metadata": {
    "id": "answer"
   },
   "outputs": [],
   "source": [
    "import numpy as np\n",
    "\n",
    "arr = np.arange(10)\n",
    "print(arr)\n",
    "\n",
    "# 変数arrの要素の内3, 4, 5だけを出力してください\n",
    "print(arr[3:6])\n",
    "\n",
    "# 変数arrの要素の内3, 4, 5を24に変更してください\n",
    "arr[3:6] = 24\n",
    "print(arr)"
   ]
  },
  {
   "cell_type": "markdown",
   "metadata": {},
   "source": [
    "***"
   ]
  },
  {
   "cell_type": "markdown",
   "metadata": {
    "courseId": 4000,
    "exerciseId": "H1kXF2UsUxG",
    "id": "code_session_name",
    "important": true,
    "isDL": false,
    "timeoutSecs": 5
   },
   "source": [
    "### 1.2.5 ndarrayの注意点"
   ]
  },
  {
   "cell_type": "markdown",
   "metadata": {
    "id": "description"
   },
   "source": [
    "ndarrayはpythonのリストと同じように **代入先の変数の値を変更すると元のndarray配列の値も変更** されます。そのため、 **ndarrayをコピーして2つの別々の変数にしたい時は、`copy( )`メソッドを使用** します。このメソッドは`コピーしたい配列.copy()`で使用できます。"
   ]
  },
  {
   "cell_type": "markdown",
   "metadata": {},
   "source": [
    "#### 問題\n"
   ]
  },
  {
   "cell_type": "markdown",
   "metadata": {
    "id": "question"
   },
   "source": [
    "- 次のコードを実行して、挙動を確認しましょう。"
   ]
  },
  {
   "cell_type": "code",
   "execution_count": null,
   "metadata": {
    "id": "index"
   },
   "outputs": [],
   "source": [
    "import numpy as np\n",
    "\n",
    "# ndarrayをそのまま別の変数に代入した場合の挙動を見て行きましょう。\n",
    "arr1 = np.array([1, 2, 3, 4, 5])\n",
    "print(arr1)\n",
    "\n",
    "arr2 = arr1\n",
    "arr2[0] = 100\n",
    "\n",
    "# 別の変数への変更が元の変数にも影響されています。\n",
    "print(arr1)\n",
    "\n",
    "# ndarrayをcopy( )を使って別の変数に代入した場合の挙動を見て行きましょう。\n",
    "arr1 = np.array([1, 2, 3, 4, 5])\n",
    "print(arr1)\n",
    "\n",
    "arr2 = arr1.copy()\n",
    "arr2[0] = 100\n",
    "\n",
    "# 別の変数への変更が元の変数には影響を与えていません。\n",
    "print(arr1)"
   ]
  },
  {
   "cell_type": "markdown",
   "metadata": {},
   "source": [
    "#### ヒント"
   ]
  },
  {
   "cell_type": "markdown",
   "metadata": {
    "id": "hint"
   },
   "source": [
    "- ある変数をそのまま別の変数に代入すると元の変数のデータの場所が代入され、結果的に元のデータと同じものとなっていることに注意してください。"
   ]
  },
  {
   "cell_type": "markdown",
   "metadata": {},
   "source": [
    "#### 解答例"
   ]
  },
  {
   "cell_type": "code",
   "execution_count": null,
   "metadata": {
    "id": "answer"
   },
   "outputs": [],
   "source": [
    "import numpy as np\n",
    "\n",
    "# ndarrayをそのまま別の変数に代入した場合の挙動を見て行きましょう。\n",
    "arr1 = np.array([1, 2, 3, 4, 5])\n",
    "print(arr1)\n",
    "\n",
    "arr2 = arr1\n",
    "arr2[0] = 100\n",
    "\n",
    "# 別の変数への変更が元の変数にも影響されています。\n",
    "print(arr1)\n",
    "\n",
    "# ndarrayをcopy( )を使って別の変数に代入した場合の挙動を見て行きましょう。\n",
    "arr1 = np.array([1, 2, 3, 4, 5])\n",
    "print(arr1)\n",
    "\n",
    "arr2 = arr1.copy()\n",
    "arr2[0] = 100\n",
    "\n",
    "# 別の変数への変更が元の変数には影響を与えていません。\n",
    "print(arr1)"
   ]
  },
  {
   "cell_type": "markdown",
   "metadata": {},
   "source": [
    "***"
   ]
  },
  {
   "cell_type": "markdown",
   "metadata": {
    "courseId": 4000,
    "exerciseId": "HyxQY2Ui8lM",
    "id": "code_session_name",
    "important": true,
    "isDL": false,
    "timeoutSecs": 5
   },
   "source": [
    "### 1.2.6 viewとcopy"
   ]
  },
  {
   "cell_type": "markdown",
   "metadata": {
    "id": "description"
   },
   "source": [
    "Pythonのリストとndarrayの相違点としては、`ndarray`のスライスは配列のコピーではなく **<font color=#AA0000>view</font>** であることです。 **viewとは、もとの配列と同じデータを指している** ことを指します。つまり`ndarray`のスライスの変更は、オリジナルの`ndarray`を変更するということになります。前節で確認した通り、スライスを **コピーとして扱いたい場合には`arr[:].copy()`** とします。"
   ]
  },
  {
   "cell_type": "markdown",
   "metadata": {},
   "source": [
    "#### 問題\n"
   ]
  },
  {
   "cell_type": "markdown",
   "metadata": {
    "id": "question"
   },
   "source": [
    "- 次の処理を実行して、PythonのリストとNumPyのndarrayのスライスを行った時の挙動の違いを確認してくだい。"
   ]
  },
  {
   "cell_type": "code",
   "execution_count": null,
   "metadata": {
    "id": "index"
   },
   "outputs": [],
   "source": [
    "import numpy as np\n",
    "\n",
    "# Pythonのリストでスライスを用いた場合の挙動を確認しましょう。\n",
    "arr_List = [x for x in range(10)]\n",
    "print(\"リスト型データです\")\n",
    "print(\"arr_List:\",arr_List)\n",
    "\n",
    "print()\n",
    "arr_List_copy = arr_List[:]\n",
    "arr_List_copy[0] = 100\n",
    "\n",
    "# リストのスライスではコピーが作られるので、arr_Listにはarr_List_copyの変更が反映されません。\n",
    "print(\"リストのスライスではコピーが作られるので、arr_Listにはarr_List_copyの変更が反映されません。\")\n",
    "print(\"arr_List:\",arr_List)\n",
    "print()\n",
    "print('-----------------------------------------------------------------------------------')\n",
    "# NumPyのndarrayでスライスを用いた場合での挙動を確認しましょう。\n",
    "arr_NumPy = np.arange(10)\n",
    "print(\"NumPyのndarrayデータです\")\n",
    "print(\"arr_NumPy:\",arr_NumPy)\n",
    "print()\n",
    "\n",
    "arr_NumPy_view = arr_NumPy[:]\n",
    "arr_NumPy_view[0] = 100\n",
    "\n",
    "# NumPyのスライスではビュー(データが格納されている場所の情報)が代入されるので\n",
    "# arr_NumPy_viewの変更がarr_NumPyに反映されます。\n",
    "print(\"NumPyのスライスではビュー(データが格納されている場所の情報)が代入されるので、arr_NumPy_viewの変更がarr_NumPyに反映されます。\")\n",
    "print(\"arr_NumPy:\",arr_NumPy)\n",
    "print()\n",
    "# NumPyのndarrayでcopy()を用いた場合での挙動を確認しましょう。\n",
    "arr_NumPy = np.arange(10)\n",
    "print('NumPyのndarrayでcopy()を用いた場合での挙動です')\n",
    "print(\"arr_NumPy:\",arr_NumPy)\n",
    "print()\n",
    "arr_NumPy_copy = arr_NumPy[:].copy()\n",
    "arr_NumPy_copy[0] = 100\n",
    "\n",
    "# copy()を用いた場合は、コピーが生成されているのでarr_NumPy_copyはarr_NumPyに影響を与えません。\n",
    "print(\"copy()を用いた場合は、コピーが生成されているのでarr_NumPy_copyはarr_NumPyに影響を与えません。\")\n",
    "print(\"arr_NumPy:\",arr_NumPy)"
   ]
  },
  {
   "cell_type": "markdown",
   "metadata": {},
   "source": [
    "#### ヒント"
   ]
  },
  {
   "cell_type": "markdown",
   "metadata": {
    "id": "hint"
   },
   "source": [
    "- PythonのリストとNumPyのndarrayはスライスを使った時の挙動が違うので注意しましょう。"
   ]
  },
  {
   "cell_type": "code",
   "execution_count": null,
   "metadata": {
    "id": "answer"
   },
   "outputs": [],
   "source": [
    "import numpy as np\n",
    "\n",
    "# Pythonのリストでスライスを用いた場合の挙動を確認しましょう。\n",
    "arr_List = [x for x in range(10)]\n",
    "print(\"リスト型データです\")\n",
    "print(\"arr_List:\",arr_List)\n",
    "\n",
    "print()\n",
    "arr_List_copy = arr_List[:]\n",
    "arr_List_copy[0] = 100\n",
    "\n",
    "# リストのスライスではコピーが作られるので、arr_Listにはarr_List_copyの変更が反映されません。\n",
    "print(\"リストのスライスではコピーが作られるので、arr_Listにはarr_List_copyの変更が反映されません。\")\n",
    "print(\"arr_List:\",arr_List)\n",
    "print()\n",
    "print('-----------------------------------------------------------------------------------')\n",
    "# NumPyのndarrayでスライスを用いた場合での挙動を確認しましょう。\n",
    "arr_NumPy = np.arange(10)\n",
    "print(\"NumPyのndarrayデータです\")\n",
    "print(\"arr_NumPy:\",arr_NumPy)\n",
    "print()\n",
    "\n",
    "arr_NumPy_view = arr_NumPy[:]\n",
    "arr_NumPy_view[0] = 100\n",
    "\n",
    "# NumPyのスライスではビュー(データが格納されている場所の情報)が代入されるので\n",
    "# arr_NumPy_viewの変更がarr_NumPyに反映されます。\n",
    "print(\"NumPyのスライスではビュー(データが格納されている場所の情報)が代入されるので、arr_NumPy_viewの変更がarr_NumPyに反映されます。\")\n",
    "print(\"arr_NumPy:\",arr_NumPy)\n",
    "print()\n",
    "# NumPyのndarrayでcopy()を用いた場合での挙動を確認しましょう。\n",
    "arr_NumPy = np.arange(10)\n",
    "print('NumPyのndarrayでcopy()を用いた場合での挙動です')\n",
    "print(\"arr_NumPy:\",arr_NumPy)\n",
    "print()\n",
    "arr_NumPy_copy = arr_NumPy[:].copy()\n",
    "arr_NumPy_copy[0] = 100\n",
    "\n",
    "# copy()を用いた場合は、コピーが生成されているのでarr_NumPy_copyはarr_NumPyに影響を与えません。\n",
    "print(\"copy()を用いた場合は、コピーが生成されているのでarr_NumPy_copyはarr_NumPyに影響を与えません。\")\n",
    "print(\"arr_NumPy:\",arr_NumPy)"
   ]
  },
  {
   "cell_type": "markdown",
   "metadata": {},
   "source": [
    "#### 解答例"
   ]
  },
  {
   "cell_type": "markdown",
   "metadata": {},
   "source": [
    "***"
   ]
  },
  {
   "cell_type": "markdown",
   "metadata": {
    "courseId": 4000,
    "exerciseId": "HkZ7F2IoLgM",
    "id": "code_session_name",
    "important": false,
    "isDL": false,
    "timeoutSecs": 5
   },
   "source": [
    "### 1.2.7 ブールインデックス参照"
   ]
  },
  {
   "cell_type": "markdown",
   "metadata": {
    "id": "description"
   },
   "source": [
    "**<font color=#AA0000>ブールインデックス参照</font>** とは、`[]`の中に **論理値(`True/False`)の配列を用いて要素を取り出す方法のこと** です。`arr[ndarrayの論理値の配列]`と表記すると、論理値配列の`True`に該当する箇所の要素の`ndarray`を作成して返してくれます。\n",
    "\n",
    "\n",
    "```python \n",
    "arr = np.array([2, 4, 6, 7]) \n",
    "print(arr[np.array([True, True, True, False])])  \n",
    "# 出力結果\n",
    "[2 4 6]\n",
    "```\n",
    "\n",
    "これを応用すると、以下のようにndarrayの要素を抽出することができます。\n",
    "以下のコードでは、3で割った時の余りが1の要素をTrueとして返し、3で割った時の余りの要素を出力しています。\n",
    "\n",
    "```python \n",
    "arr = np.array([2, 4, 6, 7]) \n",
    "print(arr[arr % 3 == 1])\n",
    "# 出力結果 \n",
    "[4 7]\n",
    "```"
   ]
  },
  {
   "cell_type": "markdown",
   "metadata": {},
   "source": [
    "#### 問題\n"
   ]
  },
  {
   "cell_type": "markdown",
   "metadata": {
    "id": "question"
   },
   "source": [
    "- 変数arrの各要素が2で割り切れるかどうかを示す真偽値の配列を出力してください。\n",
    "- 変数arr各要素のうち2で割り切れる要素の配列を出力してください。"
   ]
  },
  {
   "cell_type": "code",
   "execution_count": null,
   "metadata": {
    "id": "index"
   },
   "outputs": [],
   "source": [
    "import numpy as np\n",
    "\n",
    "arr = np.array([2, 3, 4, 5, 6, 7])\n",
    "\n",
    "# 変数arrの各要素が2で割り切れるかどうかを示す真偽値の配列を出力してください\n",
    "print()\n",
    "\n",
    "# 変数arr各要素のうち2で割り切れる要素の配列を出力してください\n",
    "print()"
   ]
  },
  {
   "cell_type": "markdown",
   "metadata": {},
   "source": [
    "#### ヒント"
   ]
  },
  {
   "cell_type": "markdown",
   "metadata": {
    "id": "hint"
   },
   "source": [
    "- 2で割り切れるかどうかは`arr % 2 == 0`で表せます。\n",
    "- 真偽値の配列の出力は`print(条件)`で表せます。\n",
    "- 要素の配列は`arr[ndarrayの論理値の配列]`で表せます。"
   ]
  },
  {
   "cell_type": "markdown",
   "metadata": {},
   "source": [
    "#### 解答例"
   ]
  },
  {
   "cell_type": "code",
   "execution_count": null,
   "metadata": {
    "id": "answer"
   },
   "outputs": [],
   "source": [
    "import numpy as np\n",
    "\n",
    "arr = np.array([2, 3, 4, 5, 6, 7])\n",
    "\n",
    "# 変数arrの各要素が2で割り切れるかどうかを示す真偽値の配列を出力してください\n",
    "print(arr % 2 == 0)\n",
    "\n",
    "# 変数arr各要素のうち2で割り切れる要素の配列を出力してください\n",
    "print(arr[arr % 2 == 0])"
   ]
  },
  {
   "cell_type": "markdown",
   "metadata": {},
   "source": [
    "***"
   ]
  },
  {
   "cell_type": "markdown",
   "metadata": {
    "courseId": 4000,
    "exerciseId": "r1fQKnLoUef",
    "id": "code_session_name",
    "important": true,
    "isDL": false,
    "timeoutSecs": 5
   },
   "source": [
    "### 1.2.8 ユニバーサル関数"
   ]
  },
  {
   "cell_type": "markdown",
   "metadata": {
    "id": "description"
   },
   "source": [
    "**<font color=#AA0000>ユニバーサル関数</font>** とは **`ndarray`配列の各要素に対して演算した結果を返す関数** のことです。要素ごとの計算なので多次元配列でも用いることができます。ユニバーサル関数には引数が一つのものと二つのものがあります。\n",
    "\n",
    "引数が一つのものの代表例が、要素の絶対値を返す`np.abs()`関数、要素のe（自然対数の底）のべき乗を返す`np.exp()`関数や要素の平方根を返す`np.sqrt()`関数などです。\n",
    "\n",
    "引数が二つのものの代表例が、要素同士の和を返す`np.add()`関数、要素同士の差を返す`np.subtract()`関数や要素同士の最大値を格納した配列を返す`np.maximum()`関数などがあります。"
   ]
  },
  {
   "cell_type": "markdown",
   "metadata": {},
   "source": [
    "#### 問題\n"
   ]
  },
  {
   "cell_type": "markdown",
   "metadata": {
    "id": "question"
   },
   "source": [
    "- 変数arrの各要素を絶対値にし、変数arr_absに代入してください。\n",
    "- 変数arr_absの各要素のeのべき乗と平方根を出力してください。"
   ]
  },
  {
   "cell_type": "code",
   "execution_count": null,
   "metadata": {
    "id": "index"
   },
   "outputs": [],
   "source": [
    "import numpy as np\n",
    "\n",
    "arr = np.array([4, -9, 16, -4, 20])\n",
    "print(arr)\n",
    "\n",
    "# 変数arrの各要素を絶対値にし、変数arr_absに代入してください\n",
    "arr_abs = \n",
    "print(arr_abs)\n",
    "\n",
    "# 変数arr_absの各要素のeのべき乗と平方根を出力してください\n",
    "print()\n",
    "print()"
   ]
  },
  {
   "cell_type": "markdown",
   "metadata": {},
   "source": [
    "#### ヒント"
   ]
  },
  {
   "cell_type": "markdown",
   "metadata": {
    "id": "hint"
   },
   "source": [
    "- それぞれの関数に「`np.`」をつけるのを忘れないようにしましょう。"
   ]
  },
  {
   "cell_type": "markdown",
   "metadata": {},
   "source": [
    "#### 解答例"
   ]
  },
  {
   "cell_type": "code",
   "execution_count": null,
   "metadata": {
    "id": "answer"
   },
   "outputs": [],
   "source": [
    "import numpy as np\n",
    "\n",
    "arr = np.array([4, -9, 16, -4, 20])\n",
    "print(arr)\n",
    "\n",
    "# 変数arrの各要素を絶対値にし、変数arr_absに代入してください\n",
    "arr_abs = np.abs(arr)\n",
    "print(arr_abs)\n",
    "\n",
    "# 変数arr_absの各要素のeのべき乗と平方根を出力してください\n",
    "print(np.exp(arr_abs))\n",
    "print(np.sqrt(arr_abs))"
   ]
  },
  {
   "cell_type": "markdown",
   "metadata": {},
   "source": [
    "***"
   ]
  },
  {
   "cell_type": "markdown",
   "metadata": {
    "courseId": 4000,
    "exerciseId": "B1QXY28jUlz",
    "id": "code_session_name",
    "important": false,
    "isDL": false,
    "timeoutSecs": 5
   },
   "source": [
    "### 1.2.9 集合関数"
   ]
  },
  {
   "cell_type": "markdown",
   "metadata": {
    "id": "description"
   },
   "source": [
    "**<font color=#AA0000>集合関数</font>** とは **数学の集合演算を行う関数** のことです。 **1次元配列のみ** を対象としています。\n",
    "\n",
    "代表的な関数は、配列要素から **重複を取り除きソートした結果を返す`np.unique()`関数** 、配列xとyのうち **少なくとも一方に存在する要素を取り出しソートする`np.union1d(x, y)`関数（和集合）** 、配列xとyのうち **共通する要素を取り出しソートする`np.intersect1d(x, y)`関数（積集合）** や **配列xと配列yに共通する要素を配列xから取り除きソートする`np.setdiff1d(x, y)`関数（差集合）** などがあります。\n",
    "\n"
   ]
  },
  {
   "cell_type": "markdown",
   "metadata": {},
   "source": [
    "#### 問題\n"
   ]
  },
  {
   "cell_type": "markdown",
   "metadata": {
    "id": "question"
   },
   "source": [
    "- `unique()`関数を用いて、変数arr1の重複をなくした配列を変数`new_arr1`に代入してください。\n",
    "- 変数`new_arr1`と変数`arr2`の和集合を出力してください。\n",
    "- 変数`new_arr1`と変数`arr2`の積集合を出力してください。\n",
    "- 変数`new_arr1`から変数`arr2`を引いた差集合を出力してください"
   ]
  },
  {
   "cell_type": "code",
   "execution_count": null,
   "metadata": {
    "id": "index"
   },
   "outputs": [],
   "source": [
    "import numpy as np\n",
    "\n",
    "arr1 = [2, 5, 7, 9, 5, 2]\n",
    "arr2 = [2, 5, 8, 3, 1]\n",
    "\n",
    "# unique()関数を用いて重複をなくした配列を変数new_arr1に代入してください\n",
    "new_arr1 = \n",
    "print(new_arr1)\n",
    "\n",
    "# 変数new_arr1と変数arr2の和集合を出力してください\n",
    "print()\n",
    "\n",
    "# 変数new_arr1と変数arr2の積集合を出力してください\n",
    "print()\n",
    "\n",
    "# 変数new_arr1から変数arr2を引いた差集合を出力してください\n",
    "print()"
   ]
  },
  {
   "cell_type": "markdown",
   "metadata": {},
   "source": [
    "#### ヒント"
   ]
  },
  {
   "cell_type": "markdown",
   "metadata": {
    "id": "hint"
   },
   "source": [
    "- それぞれの関数に「np.」をつけるのを忘れないようにしましょう。\n",
    "- （※今回紹介した関数に使用されている文字はアルファベットのｌではなく数字の１です。）\n"
   ]
  },
  {
   "cell_type": "markdown",
   "metadata": {},
   "source": [
    "#### 解答例"
   ]
  },
  {
   "cell_type": "code",
   "execution_count": null,
   "metadata": {
    "id": "answer"
   },
   "outputs": [],
   "source": [
    "import numpy as np\n",
    "\n",
    "arr1 = [2, 5, 7, 9, 5, 2]\n",
    "arr2 = [2, 5, 8, 3, 1]\n",
    "\n",
    "# unique()関数を用いて重複をなくした配列を変数new_arr1に代入してください\n",
    "new_arr1 = np.unique(arr1)\n",
    "print(new_arr1)\n",
    "\n",
    "# 変数new_arr1と変数arr2の和集合を出力してください\n",
    "print(np.union1d(new_arr1, arr2))\n",
    "\n",
    "# 変数new_arr1と変数arr2の積集合を出力してください\n",
    "print(np.intersect1d(new_arr1, arr2))\n",
    "\n",
    "# 変数new_arr1から変数arr2を引いた差集合を出力してください\n",
    "print(np.setdiff1d(new_arr1, arr2))"
   ]
  },
  {
   "cell_type": "markdown",
   "metadata": {},
   "source": [
    "***"
   ]
  },
  {
   "cell_type": "markdown",
   "metadata": {
    "courseId": 4000,
    "exerciseId": "Hy4XK28iLgG",
    "id": "code_session_name",
    "important": true,
    "isDL": false,
    "timeoutSecs": 5
   },
   "source": [
    "### 1.2.10 乱数"
   ]
  },
  {
   "cell_type": "markdown",
   "metadata": {
    "id": "description"
   },
   "source": [
    "NumPyでは`np.random`モジュールで乱数を生成することができます。代表的な`np.random`関数には、 **0以上1未満の一様乱数を生成する`np.random.rand()`関数、x以上y未満の整数をz個生成する`np.random.randint(x, y, z)`関数やガウス分布に従う乱数を生成する`np.random.normal()`関数** などがあります。\n",
    "\n",
    "`np.random.rand()`関数は、 **()の中に整数を入れることで、その中にいれた整数の数分の乱数** が生成されます。\n",
    "\n",
    "`np.random.randint(x, y, z)`関数は、 **x以上y<font color=#AA0000>未満</font>の整数** を生成することに注意しましょう。さらに、zには **`(2,3)`なども引数に入れることができ、そうすることで2×3の行列を生成** することができます。\n",
    "\n",
    "通常これらの関数を用いる時、`np.random.randint()`としますが、何回も`np.random`を打つのは面倒だと思います。そこで`from numpy.random import randint`と最初に記述しておくと`randint()`のみで用いることができるようになります。これは、 **`「from モジュール名 import そのモジュールの中にある関数名」`** と一般化することができます。"
   ]
  },
  {
   "cell_type": "markdown",
   "metadata": {},
   "source": [
    "#### 問題\n"
   ]
  },
  {
   "cell_type": "markdown",
   "metadata": {
    "id": "question"
   },
   "source": [
    "- `randint()`関数をnp.randomとつけなくてもいいようにimportしてください。\n",
    "- 変数`arr1`に各要素が0以上10以内の整数の行列`(5 × 2)`を代入してください。\n",
    "- 0以上1未満の一様乱数を三つ生成し、変数`arr2`に代入してください。"
   ]
  },
  {
   "cell_type": "code",
   "execution_count": null,
   "metadata": {
    "id": "index"
   },
   "outputs": [],
   "source": [
    "import numpy as np\n",
    "\n",
    "# randint関数をnp.randomとつけなくてもいいようにimportしてください\n",
    "\n",
    "\n",
    "# 変数arr1に、各要素が0 ~ 10まで整数の行列(5 × 2)を代入してください\n",
    "arr1 = \n",
    "print(arr1)\n",
    "\n",
    "# 変数arr2に0~1までの一様乱数を三つ代入してください\n",
    "arr2 = \n",
    "print(arr2)"
   ]
  },
  {
   "cell_type": "markdown",
   "metadata": {},
   "source": [
    "#### ヒント"
   ]
  },
  {
   "cell_type": "markdown",
   "metadata": {
    "id": "hint"
   },
   "source": [
    "- `import`する際は`np.random`ではなく、`numpy.random`です。\n",
    "- `randint(x, y, z)`関数のzの値には`(1, 3)`なども引数として与えることができます。\n",
    "- `randint(x, y, z)`関数はx以上y未満の整数を生成することに注意しましょう。\n"
   ]
  },
  {
   "cell_type": "markdown",
   "metadata": {},
   "source": [
    "#### 解答例"
   ]
  },
  {
   "cell_type": "code",
   "execution_count": null,
   "metadata": {
    "id": "answer",
    "scrolled": true
   },
   "outputs": [],
   "source": [
    "import numpy as np\n",
    "\n",
    "# randint関数をnp.randomとつけなくてもいいようにimportしてください\n",
    "from numpy.random import randint\n",
    "\n",
    "# 変数arr1に、各要素が0 ~ 10まで整数の行列(5 × 2)を代入してください\n",
    "arr1 = randint(0, 11, (5, 2))\n",
    "print(arr1)\n",
    "\n",
    "# 変数arr2に0~1までの一様乱数を三つ代入してください\n",
    "arr2 = np.random.rand(3)\n",
    "print(arr2)"
   ]
  },
  {
   "cell_type": "markdown",
   "metadata": {},
   "source": [
    "***"
   ]
  },
  {
   "cell_type": "markdown",
   "metadata": {
    "id": "section_name",
    "sectionId": "BkWx_C7beZG"
   },
   "source": [
    "## 1.3 NumPy 2次元配列"
   ]
  },
  {
   "cell_type": "markdown",
   "metadata": {
    "courseId": 4000,
    "exerciseId": "H1Smt38i8gf",
    "id": "code_session_name",
    "important": true,
    "isDL": false,
    "timeoutSecs": 5
   },
   "source": [
    "### 1.3.1 2次元配列"
   ]
  },
  {
   "cell_type": "markdown",
   "metadata": {
    "id": "description"
   },
   "source": [
    "セクション「1次元配列」で述べたように2次元配列は、行列に該当します。`np.array([リスト, リスト])`と表記することで2次元配列を作成することができます。\n",
    "\n",
    "`ndarray配列`の内部には`shape`という変数があり、`ndarray配列.shape`で各次元ごとの要素数を返すことができます。`ndarray配列.reshape(a,b)`で指定した引数と同じ形の行列に変換されます。ndarrayの変数を入れずに、ndarray配列そのものを入れても同じように返します。\n",
    "\n",
    "<img src=\"https://aidemyexcontentspic.blob.core.windows.net/contents-pic/4000_numpy/img1_30.png\" width=\"500\">"
   ]
  },
  {
   "cell_type": "markdown",
   "metadata": {},
   "source": [
    "#### 問題\n"
   ]
  },
  {
   "cell_type": "markdown",
   "metadata": {
    "id": "question"
   },
   "source": [
    "- 変数`arr`にリスト`[[1, 2, 3, 4], [5, 6, 7, 8]]`を二次元配列に変換したものを代入してください。\n",
    "- 変数`arr`の行列の各次元ごとの要素数をprint関数で出力してください。\n",
    "- 変数`arr`を4行2列の行列に変換してください。"
   ]
  },
  {
   "cell_type": "code",
   "execution_count": null,
   "metadata": {
    "id": "index"
   },
   "outputs": [],
   "source": [
    "import numpy as np\n",
    "\n",
    "# 変数arrに二次元配列を代入してください\n",
    "arr = \n",
    "print(arr)\n",
    "\n",
    "# 変数arrの行列の各次元ごとの要素数を出力してください\n",
    "print()\n",
    "\n",
    "# 変数arrを4行2列の行列に変換してください\n",
    "print()"
   ]
  },
  {
   "cell_type": "markdown",
   "metadata": {},
   "source": [
    "#### ヒント"
   ]
  },
  {
   "cell_type": "markdown",
   "metadata": {
    "id": "hint"
   },
   "source": [
    "- `arr.reshape(x, y)`はxが行を表し、yが列を表します。"
   ]
  },
  {
   "cell_type": "markdown",
   "metadata": {},
   "source": [
    "#### 解答例"
   ]
  },
  {
   "cell_type": "code",
   "execution_count": null,
   "metadata": {
    "id": "answer"
   },
   "outputs": [],
   "source": [
    "import numpy as np\n",
    "\n",
    "# 変数arrに二次元配列を代入してください\n",
    "arr = np.array([[1, 2, 3, 4], [5, 6, 7, 8]])\n",
    "print(arr)\n",
    "\n",
    "# 変数arrの行列の各次元ごとの要素数を出力してください\n",
    "print(arr.shape)\n",
    "\n",
    "# 変数arrを4行2列の行列に変換してください\n",
    "print(arr.reshape(4, 2))"
   ]
  },
  {
   "cell_type": "markdown",
   "metadata": {},
   "source": [
    "***"
   ]
  },
  {
   "cell_type": "markdown",
   "metadata": {
    "courseId": 4000,
    "exerciseId": "S1UXtnLi8eM",
    "id": "code_session_name",
    "important": true,
    "isDL": false,
    "timeoutSecs": 5
   },
   "source": [
    "### 1.3.2 インデックス参照とスライス"
   ]
  },
  {
   "cell_type": "markdown",
   "metadata": {
    "id": "description"
   },
   "source": [
    "2次元配列の場合、インデックスを1つしか指定しない場合、任意の行が配列で取得できます。\n",
    "```python\n",
    "arr = np.array([[1, 2 ,3], [4, 5, 6]])\n",
    "print(arr[1])\n",
    "# 出力結果\n",
    "[4 5 6]\n",
    "```\n",
    "\n",
    "個々の要素つまりスカラー値にたどり着くには、インデックスを2つ指定する必要があります。つまり、`arr[1][2]`または`arr[1, 2]`のようにアクセスする必要があります。`arr[1][2]`は`arr[1]`で取り出した配列の3番目の要素にアクセスしており、`arr[1, 2]`では二次元配列の軸をそれぞれ指定して要素にアクセスしています。\n",
    "```python\n",
    "arr = np.array([[1, 2 ,3], [4, 5, 6]])\n",
    "print(arr[1,2])\n",
    "# 出力結果\n",
    "6\n",
    "```\n",
    "\n",
    "2次元配列を参照する時にスライスを利用することも可能です。スライスはPython入門Chapter2「 **リストからリストを取り出す** 」で確認しましたね。スライスを使う場合、以下のように指定すればOKです。以下の場合、「1行目」「1列目以降」を取り出す操作をしています。\n",
    "```python\n",
    "arr = np.array([[1, 2 ,3], [4, 5, 6]])\n",
    "print(arr[1,1:])\n",
    "# 出力結果\n",
    "[5 6]\n",
    "```\n",
    "\n",
    "<img src=\"https://aidemyexcontentspic.blob.core.windows.net/contents-pic/4000_numpy/img1_40.png\" width=\"300\">"
   ]
  },
  {
   "cell_type": "markdown",
   "metadata": {},
   "source": [
    "#### 問題\n"
   ]
  },
  {
   "cell_type": "markdown",
   "metadata": {
    "id": "question"
   },
   "source": [
    "- 2次元配列 arr $\n",
    "  \\left[\n",
    "    \\begin{array}{rr}\n",
    "     1 & 2 & 3 \\\\\n",
    "     4 & 5 & 6 \\\\\n",
    "     7 & 8 & 9\n",
    "    \\end{array}\n",
    "  \\right]\n",
    "$を考えます。\n",
    "- 変数`arr`の要素のうち3を出力してください。\n",
    "- 変数`arr`から以下を部分的に取り出し出力してください。\n",
    "```python\n",
    "[[4 5]\n",
    " [7 8]]\n",
    "```"
   ]
  },
  {
   "cell_type": "code",
   "execution_count": null,
   "metadata": {
    "id": "index"
   },
   "outputs": [],
   "source": [
    "import numpy as np\n",
    "\n",
    "arr = np.array([[1, 2, 3], [4, 5, 6], [7, 8, 9]])\n",
    "print(arr)\n",
    "\n",
    "# 変数arrの要素のうち3を出力してください\n",
    "print()\n",
    "\n",
    "# 変数arrから取り出し出力してください\n",
    "print()"
   ]
  },
  {
   "cell_type": "markdown",
   "metadata": {},
   "source": [
    "#### ヒント"
   ]
  },
  {
   "cell_type": "markdown",
   "metadata": {
    "id": "hint"
   },
   "source": [
    "- 「`:`」をうまく用いてください。\n",
    "- 「1行目以降」を取り出すには`1:`、「２列目まで」を取り出すには`:2`のように指定します。"
   ]
  },
  {
   "cell_type": "markdown",
   "metadata": {},
   "source": [
    "#### 解答例"
   ]
  },
  {
   "cell_type": "code",
   "execution_count": null,
   "metadata": {
    "id": "answer"
   },
   "outputs": [],
   "source": [
    "import numpy as np\n",
    "\n",
    "arr = np.array([[1, 2, 3], [4, 5, 6], [7, 8, 9]])\n",
    "print(arr)\n",
    "\n",
    "# 変数arrの要素のうち3を出力してください\n",
    "print(arr[0, 2])\n",
    "\n",
    "# 変数arrから取り出し出力してください\n",
    "# 以下では、「1行目以降」と「２列目まで」を取り出しています\n",
    "print(arr[1:, :2])"
   ]
  },
  {
   "cell_type": "markdown",
   "metadata": {},
   "source": [
    "***"
   ]
  },
  {
   "cell_type": "markdown",
   "metadata": {
    "courseId": 4000,
    "exerciseId": "rJPmY38sLeG",
    "id": "code_session_name",
    "important": true,
    "isDL": false,
    "timeoutSecs": 5
   },
   "source": [
    "### 1.3.3 axis"
   ]
  },
  {
   "cell_type": "markdown",
   "metadata": {
    "id": "description"
   },
   "source": [
    "2次元配列からは`axis`という概念が重要になってきます。 **`axis`とは座標軸** のようなものです。NumPyの関数の引数として`axis`を設定できる場面が多々あります。二次元配列の場合以下の図のように`axis`が設定されています。 **列ごとに処理を行う軸が`axis = 0`で、行ごとに処理を行う軸が`axis = 1`** ということになります。\n",
    "\n",
    "<img src=\"https://aidemyexcontentspic.blob.core.windows.net/contents-pic/4000_numpy/numpy_axis.png\" width=\"300\">\n",
    "\n",
    "\n",
    "例えば、`ndarray配列`の`sum()`メソッドを考えてみましょう。`ndarray.sum()`で **要素を足し合わせる** ことが出来ます。\n",
    "\n",
    "```python\n",
    "arr = np.array([[1, 2 ,3], [4, 5, 6]])\n",
    "\n",
    "print(arr.sum())\n",
    "print(arr.sum(axis=0))\n",
    "print(arr.sum(axis=1))\n",
    "# 出力結果\n",
    "21\n",
    "[5 7 9]\n",
    "[ 6 15]\n",
    "```\n",
    "\n",
    "このように、メソッド`sum()`の **引数に何も指定しない場合は、単純な合計値がスカラー（整数や小数など）** で、`sum()`の **引数に`axis=0`を指定した場合は縦に足し算が行われて要素が3つの1次元配列** に、`sum()`の **引数に`axis=1`を指定した場合は横に足し算が行われて要素が2つの1次元配列** になることが分かります。"
   ]
  },
  {
   "cell_type": "markdown",
   "metadata": {},
   "source": [
    "#### 問題\n"
   ]
  },
  {
   "cell_type": "markdown",
   "metadata": {
    "id": "question"
   },
   "source": [
    "- arrの行の合計値を求め、以下のような1次元配列を返してください。\n",
    "```python\n",
    "[ 6 21 57]\n",
    "```"
   ]
  },
  {
   "cell_type": "code",
   "execution_count": null,
   "metadata": {
    "id": "index"
   },
   "outputs": [],
   "source": [
    "import numpy as np\n",
    "\n",
    "arr = np.array([[1, 2, 3], [4, 5, 12], [15, 20, 22]])\n",
    "\n",
    "# arrの行の合計値を求め、問題文の1次元配列を返してください\n",
    "print()"
   ]
  },
  {
   "cell_type": "markdown",
   "metadata": {},
   "source": [
    "#### ヒント"
   ]
  },
  {
   "cell_type": "markdown",
   "metadata": {
    "id": "hint"
   },
   "source": [
    "- メソッド`.sum()`を使います。\n",
    "- 行を残して、列ごとに処理をする必要があるので、軸の設定は`axis=1`となります。"
   ]
  },
  {
   "cell_type": "markdown",
   "metadata": {},
   "source": [
    "#### 解答例"
   ]
  },
  {
   "cell_type": "code",
   "execution_count": null,
   "metadata": {
    "id": "answer"
   },
   "outputs": [],
   "source": [
    "import numpy as np\n",
    "\n",
    "arr = np.array([[1, 2, 3], [4, 5, 12], [15, 20, 22]])\n",
    "\n",
    "# arrの行の合計値を求め、問題文の1次元配列を返してください\n",
    "print(arr.sum(axis=1))"
   ]
  },
  {
   "cell_type": "markdown",
   "metadata": {},
   "source": [
    "***"
   ]
  },
  {
   "cell_type": "markdown",
   "metadata": {
    "courseId": 4000,
    "exerciseId": "S1O7FhIiLxz",
    "id": "code_session_name",
    "important": true,
    "isDL": false,
    "timeoutSecs": 5
   },
   "source": [
    "### 1.3.4 ファンシーインデックス参照"
   ]
  },
  {
   "cell_type": "markdown",
   "metadata": {
    "id": "description"
   },
   "source": [
    "**<font color=#AA0000>ファンシーインデックス参照</font>** とは、インデックス参照にインデックスの配列を用いる方法のことです。ある`ndarray`配列から **ある特定の順序で行を抽出** するには、 **その順番を示す配列** をインデックス参照として渡せばいいです。\n",
    "\n",
    "スライスとは異なり、ファンシーインデックス参照は常に元データのコピーを返し、新しい要素を作成します。\n",
    "\n",
    "\n",
    "```python\n",
    "arr = np.array([[1, 2], [3, 4], [5, 6], [7, 8]]) \n",
    "\n",
    "# 3行目、2行目、0行目の順番に行の要素を抽出し、新しい要素を作成します。\n",
    "# インデックス番号は0から始まります。\n",
    "print(arr[[3, 2, 0]]) \n",
    "# 出力結果\n",
    "[[7 8]\n",
    " [5 6]\n",
    " [1 2]]\n",
    "```\n"
   ]
  },
  {
   "cell_type": "markdown",
   "metadata": {},
   "source": [
    "#### 問題\n"
   ]
  },
  {
   "cell_type": "markdown",
   "metadata": {
    "id": "question"
   },
   "source": [
    "- ファンシーインデックス参照を用いて、変数`arr`の2行目, 4行目, 1行目の順番で配列を出力してください。なお、 **ここで言う行は<font color=#AA0000>インデックス番号とは異なり、1行目から数える行</font>** のことを言います。"
   ]
  },
  {
   "cell_type": "code",
   "execution_count": null,
   "metadata": {
    "id": "index"
   },
   "outputs": [],
   "source": [
    "import numpy as np\n",
    "\n",
    "arr = np.arange(25).reshape(5, 5)\n",
    "\n",
    "# 変数arrの行の順番を変更したものを出力してください\n",
    "print()"
   ]
  },
  {
   "cell_type": "markdown",
   "metadata": {},
   "source": [
    "#### ヒント"
   ]
  },
  {
   "cell_type": "markdown",
   "metadata": {
    "id": "hint"
   },
   "source": [
    "- `arr[3, 2, 0]`ではなく、`arr[[3, 2, 0]]`であることに注意しましょう。\n",
    "- インデックス番号は0番目からです。"
   ]
  },
  {
   "cell_type": "markdown",
   "metadata": {},
   "source": [
    "#### 解答例"
   ]
  },
  {
   "cell_type": "code",
   "execution_count": null,
   "metadata": {
    "id": "answer"
   },
   "outputs": [],
   "source": [
    "import numpy as np\n",
    "\n",
    "arr = np.arange(25).reshape(5, 5)\n",
    "\n",
    "# 変数arrの行の順番を変更したものを出力してください\n",
    "print(arr[[1, 3, 0]])"
   ]
  },
  {
   "cell_type": "markdown",
   "metadata": {},
   "source": [
    "***"
   ]
  },
  {
   "cell_type": "markdown",
   "metadata": {
    "courseId": 4000,
    "exerciseId": "HJKmYnIsUxM",
    "id": "code_session_name",
    "important": true,
    "isDL": false,
    "timeoutSecs": 5
   },
   "source": [
    "### 1.3.5 転置行列"
   ]
  },
  {
   "cell_type": "markdown",
   "metadata": {
    "id": "description"
   },
   "source": [
    "行列では、 **行と列を入れ替えることを<font color=#AA0000>転置</font>** と言います。転置行列は、行列の内積の計算などで出て来ることもあります。`ndarray`を転置するには、`np.transpose()`関数を用いる方法と`.T`を用いる方法の二つあります。\n",
    "\n",
    "<img src=\"https://aidemyexcontentspic.blob.core.windows.net/contents-pic/4000_numpy/img1_50.png\" width=\"500\">"
   ]
  },
  {
   "cell_type": "markdown",
   "metadata": {},
   "source": [
    "#### 問題\n"
   ]
  },
  {
   "cell_type": "markdown",
   "metadata": {
    "id": "question"
   },
   "source": [
    "- 変数`arr`を転置させ、出力してください。"
   ]
  },
  {
   "cell_type": "code",
   "execution_count": null,
   "metadata": {
    "id": "index"
   },
   "outputs": [],
   "source": [
    "import numpy as np\n",
    "\n",
    "arr = np.arange(10).reshape(2, 5)\n",
    "\n",
    "# 変数arrを転置させてください\n",
    "print()"
   ]
  },
  {
   "cell_type": "markdown",
   "metadata": {},
   "source": [
    "#### ヒント"
   ]
  },
  {
   "cell_type": "markdown",
   "metadata": {
    "id": "hint"
   },
   "source": [
    "- `transpose()`関数を用いる場合は、`np.`を忘れないようにしてください。\n",
    "- `arr.T`を用いても転置を行うことができます。"
   ]
  },
  {
   "cell_type": "markdown",
   "metadata": {},
   "source": [
    "#### 解答例"
   ]
  },
  {
   "cell_type": "code",
   "execution_count": null,
   "metadata": {
    "id": "answer"
   },
   "outputs": [],
   "source": [
    "import numpy as np\n",
    "\n",
    "arr = np.arange(10).reshape(2, 5)\n",
    "\n",
    "# 変数arrを転置させてください\n",
    "print(arr.T) # print(np.transpose(arr))"
   ]
  },
  {
   "cell_type": "markdown",
   "metadata": {},
   "source": [
    "***"
   ]
  },
  {
   "cell_type": "markdown",
   "metadata": {
    "courseId": 4000,
    "exerciseId": "HJcXFhIjIgf",
    "id": "code_session_name",
    "important": true,
    "isDL": false,
    "timeoutSecs": 5
   },
   "source": [
    "### 1.3.6 ソート"
   ]
  },
  {
   "cell_type": "markdown",
   "metadata": {
    "id": "description"
   },
   "source": [
    "`ndarray`もリスト型と同様に`sort()`メソッドでソートすることが可能です。2次元配列の場合、 **0を引数とすると列単位で要素がソートされ、1を引数にすると行単位で要素がソート** されます。なお、`np.sort()`関数でもソートをすることができます。`sort()`メソッドと異なる点は、 **`np.sort()`関数はソートした配列のコピーを返す関数** である点です。\n",
    "\n",
    "また、実際に機械学習を学んでいく上でよく使われる関数に`argsort()`メソッドというものがあります。`argsort()`メソッドは **ソート後の配列のインデックス** を返します。\n",
    "\n",
    "\n",
    "\n",
    "\n",
    "```python\n",
    "arr = np.array([15, 30, 5])\n",
    "arr.argsort()\n",
    "# 出力結果 \n",
    "[2 0 1]\n",
    "```\n",
    "\n",
    "以上の例の場合、`arr.sort()`すると、`[5 15 30]`となるので、もとの配列で **「2番目」にあった要素「5」** が0番目、もとの配列で **「0番目」にあった要素「15」** が1番目、もとの配列で **「1番目」にあった要素「30」** が2番目の要素になります。そのため、`[15, 30, 5]`を`.argsort() `すると、順に「2番目、0番目、1番目」の要素になるということで、 `[2 0 1]`と値が返されるのです。"
   ]
  },
  {
   "cell_type": "markdown",
   "metadata": {},
   "source": [
    "#### 問題\n"
   ]
  },
  {
   "cell_type": "markdown",
   "metadata": {
    "id": "question"
   },
   "source": [
    "- 変数`arr`を`argsort`関数でソートし出力してください。\n",
    "- 変数`arr`を`np.sort()`でソートし出力してください。\n",
    "- 変数`arr`を`sort()`により行でソートしてください。"
   ]
  },
  {
   "cell_type": "code",
   "execution_count": null,
   "metadata": {
    "id": "index"
   },
   "outputs": [],
   "source": [
    "import numpy as np\n",
    "\n",
    "arr = np.array([[8, 4, 2], [3, 5, 1]])\n",
    "\n",
    "# argsort関数を用いて出力してください\n",
    "print()\n",
    "\n",
    "# np.sort()を用いてソートし出力してください\n",
    "print()\n",
    "\n",
    "# sort()を用いて行でソートしてください\n",
    "\n",
    "print(arr)"
   ]
  },
  {
   "cell_type": "markdown",
   "metadata": {},
   "source": [
    "#### ヒント"
   ]
  },
  {
   "cell_type": "markdown",
   "metadata": {
    "id": "hint"
   },
   "source": [
    "- 列でソートする場合は引数を0、行でソートする場合は引数を1とします。"
   ]
  },
  {
   "cell_type": "markdown",
   "metadata": {},
   "source": [
    "#### 解答例"
   ]
  },
  {
   "cell_type": "code",
   "execution_count": null,
   "metadata": {
    "id": "answer"
   },
   "outputs": [],
   "source": [
    "import numpy as np\n",
    "\n",
    "arr = np.array([[8, 4, 2], [3, 5, 1]])\n",
    "\n",
    "# argsort関数を用いて出力してください\n",
    "print(arr.argsort())\n",
    "\n",
    "# np.sort()を用いてソートし出力してください\n",
    "print(np.sort(arr))\n",
    "\n",
    "# sort()を用いて行でソートしてください\n",
    "arr.sort(1)\n",
    "print(arr)"
   ]
  },
  {
   "cell_type": "markdown",
   "metadata": {},
   "source": [
    "***"
   ]
  },
  {
   "cell_type": "markdown",
   "metadata": {
    "courseId": 4000,
    "exerciseId": "SJo7FhLjIgz",
    "id": "code_session_name",
    "important": true,
    "isDL": false,
    "timeoutSecs": 5
   },
   "source": [
    "### 1.3.7 行列計算"
   ]
  },
  {
   "cell_type": "markdown",
   "metadata": {
    "id": "description"
   },
   "source": [
    "行列計算をするための関数には、二つの行列の行列積を返す`np.dot(a,b)`関数やノルムを返す`np.linalg.norm(a)`関数などがあります。\n",
    "\n",
    "行列積とは、行列の中にある行ベクトルと列ベクトルとの内積を要素とする行列が新たに作り出されることです。行列計算に関しては今回は深く触れませんが、以下のように計算することができます。\n",
    "`np.dot(a,b)`関数では行ベクトルaと列ベクトルbの行列積が出力されます。\n",
    "\n",
    "<img src=\"https://aidemyexcontentspic.blob.core.windows.net/contents-pic/4000_numpy/img1_60.png\" width=\"500\">\n",
    "\n",
    "**ノルム** とは、ベクトルの長さを返すもので、要素の二乗値を足し合わせて、ルートを被せたものです。こちらに関しても今回は深く触れませんが、以下のように計算することができます。\n",
    "\n",
    "`np.linalg.norm(a)`関数も同様に、ベクトルaとbのノルムが出力されます。\n",
    "\n",
    "<img src=\"https://aidemyexstorage.blob.core.windows.net/aidemycontents/1522138050514683.png\" width=\"500\">"
   ]
  },
  {
   "cell_type": "markdown",
   "metadata": {},
   "source": [
    "#### 問題\n"
   ]
  },
  {
   "cell_type": "markdown",
   "metadata": {
    "id": "question"
   },
   "source": [
    "- 変数`arr`と`arr`の行列積を出力してください。\n",
    "- 変数`vec`のノルムを出力してください。"
   ]
  },
  {
   "cell_type": "code",
   "execution_count": null,
   "metadata": {
    "id": "index"
   },
   "outputs": [],
   "source": [
    "import numpy as np\n",
    "\n",
    "# arrを定義します\n",
    "arr = np.arange(9).reshape(3, 3)\n",
    "\n",
    "# 変数arrとarrの行列積を出力してください\n",
    "print()\n",
    "\n",
    "# vecを定義します\n",
    "vec = arr.reshape(9)\n",
    "\n",
    "# 変数vecのノルムを出力してください\n",
    "print()"
   ]
  },
  {
   "cell_type": "markdown",
   "metadata": {},
   "source": [
    "#### ヒント"
   ]
  },
  {
   "cell_type": "markdown",
   "metadata": {
    "id": "hint"
   },
   "source": [
    "- `x.dot(y)`または`np.dot(x, y)`\n",
    "- `numpy`は`np`と省略できます。"
   ]
  },
  {
   "cell_type": "markdown",
   "metadata": {},
   "source": [
    "#### 解答例"
   ]
  },
  {
   "cell_type": "code",
   "execution_count": null,
   "metadata": {
    "id": "answer"
   },
   "outputs": [],
   "source": [
    "import numpy as np\n",
    "\n",
    "# arrを定義します\n",
    "arr = np.arange(9).reshape(3, 3)\n",
    "\n",
    "# 変数arrとarrの行列積を出力してください\n",
    "print(np.dot(arr, arr))\n",
    "\n",
    "# vecを定義します\n",
    "vec = arr.reshape(9)\n",
    "\n",
    "# 変数vecのノルムを出力してください\n",
    "print(np.linalg.norm(vec))"
   ]
  },
  {
   "cell_type": "markdown",
   "metadata": {},
   "source": [
    "***"
   ]
  },
  {
   "cell_type": "markdown",
   "metadata": {
    "courseId": 4000,
    "exerciseId": "Sk37FnUj8lf",
    "id": "code_session_name",
    "important": true,
    "isDL": false,
    "timeoutSecs": 5
   },
   "source": [
    "### 1.3.8 統計関数 "
   ]
  },
  {
   "cell_type": "markdown",
   "metadata": {
    "id": "description"
   },
   "source": [
    "**統計関数とは`ndarray`配列全体、もしくは特定の軸を中心とした数学的な処理を行う関数、またはメソッド** です。既に学習した統計関数には、NumPy入門「 **axis** 」で取り扱った **配列の和を返す`sum()`関数** などがありました。\n",
    "\n",
    "よく使われるものには、 **配列の要素の平均を返す`np.mean()`関数や`np.average()`関数** 、 **最大値・最小値を返す`np.max()`関数・`np.min()`関数** などがあります。また、 **要素の最大値、または最小値のインデックス番号を返す`np.argmax()`、`np.argmin()`** メソッドがあります。さらにこれらのメソッドは、**平均を返す`np.average()`関数**を除き、**ndarray配列に適用する`ndarray.mean()`メソッドや`ndarray.max()`メソッド**などのようにオブジェクトそのものに対するメソッドも用意されています。\n",
    "\n",
    "他にも、統計分野でよく使われる **「標準偏差」や「分散」を返す関数として`np.std()`関数・`np.var()`関数** などがあります。「標準偏差」や「分散」の計算方法に関しては、今回は詳しく扱いませんが、これらは **データのバラつきを示す指標** です。\n",
    "\n",
    "`sum()`関数で`axis`で指定することによりどの軸を中心に処理するかを決めることができたように、`mean()`関数・メソッドなどでも同じように軸を指定できます。`argmax()`、`argmin()`関数・メソッドの場合は、`axis`で指定された軸ごとに最大または最小値のインデックスを返します。以下のように、 **列ごとに処理を行う軸が`axis = 0`で、行ごとに処理を行う軸が`axis = 1`** となることを再度復習しましょう。\n",
    "\n",
    "<img src=\"https://aidemyexcontentspic.blob.core.windows.net/contents-pic/4000_numpy/numpy_axis.png\" width=\"300\">\n"
   ]
  },
  {
   "cell_type": "markdown",
   "metadata": {},
   "source": [
    "#### 問題\n"
   ]
  },
  {
   "cell_type": "markdown",
   "metadata": {
    "id": "question"
   },
   "source": [
    "- 変数`arr`の列ごとの平均を出力してください。\n",
    "- 変数`arr`の行の合計を出力してください。\n",
    "- 変数`arr`の最小値を出力してください。\n",
    "- 変数`arr`のそれぞれの列の最大値のインデックス番号を出力してください。\n",
    "- 出力はprint関数を用いてください。"
   ]
  },
  {
   "cell_type": "code",
   "execution_count": null,
   "metadata": {
    "id": "index"
   },
   "outputs": [],
   "source": [
    "import numpy as np\n",
    "\n",
    "arr = np.arange(15).reshape(3, 5)\n",
    "\n",
    "# 変数arrの列ごとの平均を出力してください\n",
    "print()\n",
    "\n",
    "# 変数arrの行の合計を出力してください\n",
    "print()\n",
    "\n",
    "# 変数arrの最小値を出力してください\n",
    "print()\n",
    "\n",
    "# 変数arrのそれぞれの列の最大値のインデックス番号を出力してください\n",
    "print()"
   ]
  },
  {
   "cell_type": "markdown",
   "metadata": {},
   "source": [
    "#### ヒント"
   ]
  },
  {
   "cell_type": "markdown",
   "metadata": {
    "id": "hint"
   },
   "source": [
    "- `axis`で指定した側を計算します。"
   ]
  },
  {
   "cell_type": "markdown",
   "metadata": {},
   "source": [
    "#### 解答例"
   ]
  },
  {
   "cell_type": "code",
   "execution_count": null,
   "metadata": {
    "id": "answer",
    "scrolled": false
   },
   "outputs": [],
   "source": [
    "import numpy as np\n",
    "\n",
    "arr = np.arange(15).reshape(3, 5)\n",
    "\n",
    "# 変数arrの列ごとの平均を出力してください\n",
    "print(arr.mean(axis=0))\n",
    "\n",
    "# 変数arrの行の合計を出力してください\n",
    "print(arr.sum(axis=1))\n",
    "\n",
    "# 変数arrの最小値を出力してください\n",
    "print(arr.min())\n",
    "\n",
    "# 変数arrのそれぞれの列の最大値のインデックス番号を出力してください\n",
    "print(arr.argmax(axis=0))"
   ]
  },
  {
   "cell_type": "markdown",
   "metadata": {},
   "source": [
    "***"
   ]
  },
  {
   "cell_type": "markdown",
   "metadata": {
    "courseId": 4000,
    "exerciseId": "HypQKn8iUgG",
    "id": "code_session_name",
    "important": true,
    "isDL": false,
    "timeoutSecs": 5
   },
   "source": [
    "### 1.3.9 ブロードキャスト"
   ]
  },
  {
   "cell_type": "markdown",
   "metadata": {
    "id": "description"
   },
   "source": [
    "サイズの違うNumPy配列(以下ndarray)同士の演算時に、 **<font color=#AA0000>ブロードキャスト</font>** という処理が自動で行われます。ブロードキャストは、 **2つのndarray同士の演算時にサイズの小さい配列の行と列を自動で大きい配列に合わせます。** 2つの配列の行が一致しないときは、行の少ない方が多い方の数に合わせ、足りない分を既存の行からコピーします。列が一致しない場合もまた然りです。どんな配列でもブロードキャストができるわけではありませんが、以下のように **全ての要素に同じ処理をする時** などはブロードキャスト可能になります。\n",
    "\n",
    "<img src=\"https://aidemyexcontentspic.blob.core.windows.net/contents-pic/4000_numpy/img1_80.png\" width=\"400\">\n",
    "\n",
    "このケースをコードで書くと、以下のようになります。\n",
    "```python\n",
    "x = np.arange(6).reshape(2, 3)\n",
    "print(x + 1)\n",
    "# 出力結果\n",
    "[[1 2 3]\n",
    " [4 5 6]]\n",
    "```"
   ]
  },
  {
   "cell_type": "markdown",
   "metadata": {},
   "source": [
    "#### 問題\n"
   ]
  },
  {
   "cell_type": "markdown",
   "metadata": {
    "id": "question"
   },
   "source": [
    "- 0から4の整数値を持つ1次元ndarray配列yを用いて、配列xの各要素から列のインデックス番号を引いてください。ただし、最初の列を0番目とします。"
   ]
  },
  {
   "cell_type": "code",
   "execution_count": null,
   "metadata": {
    "id": "index"
   },
   "outputs": [],
   "source": [
    "import numpy as np\n",
    "\n",
    "\n",
    "# 0から14の整数値をもつ3×5のndarray配列xを生成\n",
    "x = np.arange(15).reshape(3, 5)\n",
    "\n",
    "# 0から4の整数値をもつ1×5のndarray配列yを生成\n",
    "y = np.array([np.arange(5)])\n",
    "\n",
    "# xのn番目の列のすべての要素に対してnだけ引いてください\n",
    "z = \n",
    "\n",
    "# xを出力\n",
    "print(z)"
   ]
  },
  {
   "cell_type": "markdown",
   "metadata": {},
   "source": [
    "#### ヒント"
   ]
  },
  {
   "cell_type": "markdown",
   "metadata": {
    "id": "hint"
   },
   "source": [
    "- ブロードキャストは、2つのndarray同士の演算時にサイズの小さい配列の列もしくは行を自動で大きい配列に合わせます。\n",
    "- 出力結果は\n",
    "```python\n",
    "[[ 0  0  0  0  0]\n",
    " [ 5  5  5  5  5]\n",
    " [10 10 10 10 10]]\n",
    "```\n",
    "となります。"
   ]
  },
  {
   "cell_type": "markdown",
   "metadata": {},
   "source": [
    "#### 解答例"
   ]
  },
  {
   "cell_type": "code",
   "execution_count": null,
   "metadata": {
    "id": "answer",
    "scrolled": true
   },
   "outputs": [],
   "source": [
    "import numpy as np\n",
    "\n",
    "\n",
    "# 0から14の整数値をもつ3×5のndarray配列xを生成\n",
    "x = np.arange(15).reshape(3, 5)\n",
    "\n",
    "# 0から4の整数値をもつ1×5のndarray配列yを生成\n",
    "y = np.array([np.arange(5)])\n",
    "\n",
    "# xのn番目の列のすべての行からnだけ引いてください\n",
    "z = x - y\n",
    "\n",
    "# xを出力\n",
    "print(z)"
   ]
  },
  {
   "cell_type": "markdown",
   "metadata": {},
   "source": [
    "***"
   ]
  },
  {
   "cell_type": "markdown",
   "metadata": {
    "id": "chapter_exam"
   },
   "source": [
    "## 1.3 添削問題"
   ]
  },
  {
   "cell_type": "markdown",
   "metadata": {
    "id": "description"
   },
   "source": [
    "これまで学んできたことを用いて解いてみましょう。"
   ]
  },
  {
   "cell_type": "markdown",
   "metadata": {},
   "source": [
    "#### 問題\n"
   ]
  },
  {
   "cell_type": "markdown",
   "metadata": {
    "id": "question"
   },
   "source": [
    "- 各要素が`0 ~ 30`の整数の行列`（5 × 3）`を変数`arr`に代入してください。\n",
    "- 変数`arr`を転置してください。\n",
    "- 変数`arr`の`2, 3, 4`列のみの行列`(3 × 3)`を変数`arr1`に代入してください。\n",
    "- 変数`arr1`を行でソートしてください。\n",
    "- 各列の平均を出力してください。"
   ]
  },
  {
   "cell_type": "code",
   "execution_count": null,
   "metadata": {
    "id": "index"
   },
   "outputs": [],
   "source": [
    "import numpy as np\n",
    "\n",
    "\n",
    "np.random.seed(100)\n",
    "\n",
    "# 各要素が0~30の整数の行列（5×3）を変数arrに代入してください\n",
    "\n",
    "print(arr)\n",
    "\n",
    "# 変数arrを転置してください\n",
    "\n",
    "print(arr)\n",
    "\n",
    "# 変数arrの2, 3, 4列のみの行列(3×3)を変数arr1に代入してください\n",
    "\n",
    "print(arr1)\n",
    "\n",
    "# 変数arr1を行でソートしてください\n",
    "\n",
    "print(arr1)\n",
    "\n",
    "# 各列の平均を出力してください\n",
    "\n",
    "\n"
   ]
  },
  {
   "cell_type": "markdown",
   "metadata": {},
   "source": [
    "#### ヒント"
   ]
  },
  {
   "cell_type": "markdown",
   "metadata": {
    "id": "hint"
   },
   "source": [
    "- `np.random.randint()`\n",
    "- `arr.T`\n",
    "- `arr[:, 2:]`\n",
    "- `np.sort()`ではなく`sort()`も用いてください。\n",
    "- `axis`の設定に注意してください。"
   ]
  },
  {
   "cell_type": "markdown",
   "metadata": {},
   "source": [
    "#### 解答例"
   ]
  },
  {
   "cell_type": "code",
   "execution_count": null,
   "metadata": {
    "id": "answer",
    "scrolled": true
   },
   "outputs": [],
   "source": [
    "import numpy as np\n",
    "\n",
    "\n",
    "np.random.seed(100)\n",
    "\n",
    "# 各要素が0 ~ 30の整数の行列（5 × 3）を変数arrに代入してください\n",
    "arr = np.random.randint(0, 31, (5, 3))\n",
    "print(arr)\n",
    "\n",
    "# 変数arrを転置してください\n",
    "arr = arr.T\n",
    "print(arr)\n",
    "\n",
    "# 変数arrの2, 3, 4列のみの行列(3 × 3)を変数arr1に代入してください\n",
    "arr1 = arr[:, 1:4]\n",
    "print(arr1)\n",
    "\n",
    "# 変数arr1を行でソートしてください\n",
    "arr1.sort(1)\n",
    "print(arr1)\n",
    "\n",
    "# 各列の平均を出力してください\n",
    "print(arr1.mean(axis = 0))\n"
   ]
  },
  {
   "cell_type": "markdown",
   "metadata": {
    "id": "commentary"
   },
   "source": [
    "- 乱数を発生させる`np.random.randint(x, y, z)`は、`x ~ y-1`の整数値を`z`個生成します。`0 ~ 30`まで発生させるには、`np.random.randint(0, 31, 個数)`と指定します。\n",
    "- スライス機能を使って一部を取り出し、`mean()`を用いて平均を計算します。平均を求める軸を設計するための`axis=0`を設定します。"
   ]
  },
  {
   "cell_type": "markdown",
   "metadata": {},
   "source": [
    "***"
   ]
  }
 ],
 "metadata": {
  "celltoolbar": "Edit Metadata",
  "kernelspec": {
   "display_name": "Python 3",
   "language": "python",
   "name": "python3"
  },
  "language_info": {
   "codemirror_mode": {
    "name": "ipython",
    "version": 3
   },
   "file_extension": ".py",
   "mimetype": "text/x-python",
   "name": "python",
   "nbconvert_exporter": "python",
   "pygments_lexer": "ipython3",
   "version": "3.6.4"
  },
  "toc": {
   "base_numbering": 1,
   "nav_menu": {},
   "number_sections": true,
   "sideBar": true,
   "skip_h1_title": false,
   "title_cell": "Table of Contents",
   "title_sidebar": "Contents",
   "toc_cell": false,
   "toc_position": {
    "height": "calc(100% - 180px)",
    "left": "10px",
    "top": "150px",
    "width": "252.391px"
   },
   "toc_section_display": true,
   "toc_window_display": true
  },
  "varInspector": {
   "cols": {
    "lenName": 16,
    "lenType": 16,
    "lenVar": 40
   },
   "kernels_config": {
    "python": {
     "delete_cmd_postfix": "",
     "delete_cmd_prefix": "del ",
     "library": "var_list.py",
     "varRefreshCmd": "print(var_dic_list())"
    },
    "r": {
     "delete_cmd_postfix": ") ",
     "delete_cmd_prefix": "rm(",
     "library": "var_list.r",
     "varRefreshCmd": "cat(var_dic_list()) "
    }
   },
   "types_to_exclude": [
    "module",
    "function",
    "builtin_function_or_method",
    "instance",
    "_Feature"
   ],
   "window_display": false
  }
 },
 "nbformat": 4,
 "nbformat_minor": 2
}