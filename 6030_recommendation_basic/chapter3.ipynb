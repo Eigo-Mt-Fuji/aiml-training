{
 "cells": [
  {
   "cell_type": "markdown",
   "metadata": {
    "id": "chapter_name"
   },
   "source": [
    "#  レコメンドの評価方法"
   ]
  },
  {
   "cell_type": "markdown",
   "metadata": {
    "id": "table"
   },
   "source": [
    "- **[3.1 レコメンドの評価方法](#3.1-レコメンドの評価方法)**\n",
    "    - **[3.1.1 評価方法の分類](#3.1.1-評価方法の分類)**\n",
    "    - **[3.1.2 予測の評価指標](#3.1.2-予測の評価指標)**\n",
    "    - **[3.1.3 分類の評価指標](#3.1.3-分類の評価指標)**\n",
    "    - **[3.1.4 ランキングの評価指標](#3.1.4-ランキングの評価指標)**\n",
    "    - **[3.1.5 カバレッジ](#3.1.5-カバレッジ)**\n",
    "<br><br>\n",
    "- **[添削問題](#添削問題)**\n",
    "\n"
   ]
  },
  {
   "cell_type": "markdown",
   "metadata": {},
   "source": [
    "***"
   ]
  },
  {
   "cell_type": "markdown",
   "metadata": {
    "id": "section_name"
   },
   "source": [
    "## 3.1 レコメンドの評価方法"
   ]
  },
  {
   "cell_type": "markdown",
   "metadata": {
    "id": "quiz_session_name"
   },
   "source": [
    "### 3.1.1 評価方法の分類"
   ]
  },
  {
   "cell_type": "markdown",
   "metadata": {},
   "source": [
    "\n",
    "レコメンドの評価とは対象者にとって本当にほしいもののレコメンドを精度よく決定するための指標です。状況や目的に応じて様々な評価方法があり、評価方法は常に新しいものが生み出されています。評価指標は多く存在するため、どれを優先させるかは、最終的にレコメンドに求める目的によって決定されます。比較する評価方法にはそれぞれ異なる軸での長所・短所があり、最終的に実装方法を踏まえた上で総合的に考えると、評価指標の選択には、各評価指標についての深い理解が必要となります。\n",
    "\n",
    "評価方法には大きく分けてオフライン評価とオンライン評価があります。\n"
   ]
  },
  {
   "cell_type": "markdown",
   "metadata": {},
   "source": [
    "#### オフライン評価"
   ]
  },
  {
   "cell_type": "markdown",
   "metadata": {},
   "source": [
    "利用者の行動履歴のみを用いてレコメンドを評価する方法をオフライン評価といいます。   \n",
    "アルゴリズムの流れとしては、   \n",
    "1. 行動履歴を学習データとテストデータに分割する。\n",
    "2. 学習データのみを利用してレコメンドを行う。\n",
    "3. レコメンド内容とテストデータを照らし合わせてどの程度精度が出ているのかを測定する。\n",
    "\n",
    "オフライン評価は利用者の利用データのみを利用するため利用者と実際にかかわる必要がなく、コストがかかりません。   \n",
    "ただし欠点として実サービスと異なることがあげられます。   \n",
    "\n",
    "\n",
    "例えば実際にレコメンドで提示することで購入される商品はオフラインでは評価できません。   \n",
    "その商品はすでに購入された商品でありレコメンドされなくても買った可能性があるため正確に評価することができないからです。   \n"
   ]
  },
  {
   "cell_type": "markdown",
   "metadata": {},
   "source": [
    "#### オンライン評価"
   ]
  },
  {
   "cell_type": "markdown",
   "metadata": {},
   "source": [
    "実サービスに導入することで利用者の反応によりレコメンドの評価を行う方法をオンライン評価といいます。   \n",
    "代表的なものにA/Bテストというものがあります。  \n",
    "A/Bテストアルゴリズムの流れとしては、   \n",
    "1. 対象となった利用者をランダムに二つのグループに分ける。\n",
    "2. 一方のグループには既存のレコメンドシステムを採用、他方には新しいレコメンドシステムを採用する。\n",
    "3. 両群の結果を比較し、レコメンドを評価する。   \n",
    "\n",
    "オンライン評価は実サービスと同じ環境でできるので意味のあるデータであるとみなすことができます。   \n",
    "ただし欠点として、利用者に直接利用してもらうことになるのでコストやリスクが大きくなってしまいます。"
   ]
  },
  {
   "cell_type": "markdown",
   "metadata": {},
   "source": [
    "#### 問題"
   ]
  },
  {
   "cell_type": "markdown",
   "metadata": {},
   "source": [
    "- 次のうちオフライン評価の特徴として正しいものはどれでしょう。"
   ]
  },
  {
   "cell_type": "markdown",
   "metadata": {},
   "source": [
    "1. 評価が簡単のため論文や大会でよく使われる。\n",
    "2. 行動履歴を利用してモデルを作り、実際に利用者に試してもらう。\n",
    "3. データを分割し、モデルを作成するためコストがかかる。\n",
    "4. 上記のすべて"
   ]
  },
  {
   "cell_type": "markdown",
   "metadata": {},
   "source": [
    "#### ヒント"
   ]
  },
  {
   "cell_type": "markdown",
   "metadata": {},
   "source": [
    "- オフライン評価は精度をコンピューター上で計算し、検証期間が必要ないのでその分の時間はかかりません。\n",
    "- オフライン評価では実際にユーザに試してもらうわけではありません。"
   ]
  },
  {
   "cell_type": "markdown",
   "metadata": {},
   "source": [
    "#### 解答"
   ]
  },
  {
   "cell_type": "markdown",
   "metadata": {},
   "source": [
    "評価が簡単のため論文や大会でよく使われる。"
   ]
  },
  {
   "cell_type": "markdown",
   "metadata": {},
   "source": [
    "### 3.1.2 予測の評価指標"
   ]
  },
  {
   "cell_type": "markdown",
   "metadata": {},
   "source": [
    "レビューや口コミサイトのように、商品に対する評価が１～５で評価するといったようにレーティングされている場合、対象者が取るであろうレーティングを予測する必要があります。この章ではレーティングの予測を評価する二つの指標を紹介します。"
   ]
  },
  {
   "cell_type": "markdown",
   "metadata": {},
   "source": [
    "#### 平均絶対誤差 (MAE :Mean Abusolute Error)"
   ]
  },
  {
   "cell_type": "markdown",
   "metadata": {},
   "source": [
    "予想値と実測値の差に絶対値を付けて平均をとったものを平均絶対誤差といいます。英語では MAE と言われたりします。   \n",
    "簡単で理解しやすく、論文などではたびたび見かけることがありますが実際に使うことはあまりないです。   \n",
    "式で表すと、   \n",
    "$ \\large MAE = \\frac{1}{n}\\sum^n|x_{予想値} - x_{実測値}| $   \n",
    "となります。"
   ]
  },
  {
   "cell_type": "markdown",
   "metadata": {},
   "source": [
    "#### 標準偏差 (RMSE : Root Mean Squared Error)"
   ]
  },
  {
   "cell_type": "markdown",
   "metadata": {},
   "source": [
    "予想値と実測値の差の二乗を平均して平方根をとったものを標準偏差といいます。   \n",
    "予測の評価指数として最も代表的なものであり、実際に使われる機会も多いです。   \n",
    "式でかくと、   \n",
    "$ \\large RMSE = \\sqrt{\\frac{1}{n}\\sum(x_{予測値} - x_{実測値})^2} $   \n",
    "となります。\n",
    "\n",
    "標準偏差のルートの内部のみを分散といい英語表記だとMSEとあらわします。   \n",
    "$ \\large MSE = \\frac{1}{n}\\sum(x_{予測値} - x_{実測値})^2$   \n",
    "\n",
    "こちらもよく出てくるので覚えておきましょう。"
   ]
  },
  {
   "cell_type": "markdown",
   "metadata": {},
   "source": [
    "#### 問題"
   ]
  },
  {
   "cell_type": "markdown",
   "metadata": {},
   "source": [
    "次の標準偏差を計算してください。"
   ]
  },
  {
   "cell_type": "markdown",
   "metadata": {},
   "source": [
    "x_real = [7,2,5,6,8,5,7,3,6,9]   \n",
    "x_pred = [6,1,4,4,8,4,6,3,5,8]"
   ]
  },
  {
   "cell_type": "markdown",
   "metadata": {},
   "source": [
    "#### ヒント"
   ]
  },
  {
   "cell_type": "markdown",
   "metadata": {},
   "source": [
    "- 配列の要素同士を計算したい場合ndarrayにすると、単純な引き算で計算できます。\n",
    "- 平方根は下記のようにして計算できます。   \n",
    "import math    \n",
    "math.sqrt(平方根の中身)"
   ]
  },
  {
   "cell_type": "markdown",
   "metadata": {},
   "source": [
    "#### 解答"
   ]
  },
  {
   "cell_type": "markdown",
   "metadata": {},
   "source": [
    "1.0488088481701516"
   ]
  },
  {
   "cell_type": "markdown",
   "metadata": {},
   "source": [
    "pythonを使って計算すると以下のようになります。"
   ]
  },
  {
   "cell_type": "code",
   "execution_count": null,
   "metadata": {
    "collapsed": true
   },
   "outputs": [],
   "source": [
    "import numpy as np\n",
    "import math\n",
    "\n",
    "x_real = np.array([7,2,5,6,8,5,7,3,6,9])\n",
    "x_pred = np.array([6,1,4,4,8,4,6,3,5,8])\n",
    "\n",
    "RSEM = math.sqrt(1/ len(x_real) * sum((x_real - x_pred)**2))\n",
    "RSEM"
   ]
  },
  {
   "cell_type": "markdown",
   "metadata": {},
   "source": [
    "### 3.1.3 分類の評価指標"
   ]
  },
  {
   "cell_type": "markdown",
   "metadata": {},
   "source": [
    "\n",
    "例えばECサイト(ネットショッピングサイト)のように履歴から購入やカートに入れたかどうかといった二値でしかわからないような場合、どちらの状態かを予測する指標が分類の評価指標になります。   \n",
    "先ほどの値を予測するものが回帰問題といわれるのに対して、こちらは分類問題と分けられます。   \n",
    "\n",
    "分類問題を評価できる3つの指標をここでは紹介します。\n"
   ]
  },
  {
   "cell_type": "markdown",
   "metadata": {},
   "source": [
    "#### 適合率 (Precision)"
   ]
  },
  {
   "cell_type": "markdown",
   "metadata": {},
   "source": [
    "\n",
    "対象者が購入したと予想する中で実際に購入した割合を適合率といいます。   \n",
    "式で表すと、   \n",
    "$ \\large Precision = \\frac{|a\\cap{p}|}{|p|} $   \n",
    "$ a : 対象者が実際に購入した集合$   \n",
    "$ p : 対象者が購入したと予想した集合$   \n",
    "となります。   \n",
    "０～１の値をとり、１に近いほどいいモデルといえます。\n",
    "\n",
    "ただし適合率のみを使うと購入したと予想したものが少ないとき誤った判断をする可能性があります。 \n",
    "具体例を挙げて考えますと、100種類の商品がある中で購入したものが50種類、購入しなかったものが50種類あると考えてください。   \n",
    "このとき購入したと予想した商品が10種類だった場合、適合率の考え方としてはこの10種類が購入されている場合この予想モデルはかなり精度のいいものとみなされてしまいます。   \n",
    "そのため適合率を使う際はほかの評価指数も同時に利用する必要があります。"
   ]
  },
  {
   "cell_type": "markdown",
   "metadata": {},
   "source": [
    "#### 再現率 (Recall)"
   ]
  },
  {
   "cell_type": "markdown",
   "metadata": {},
   "source": [
    "\n",
    "実際に対象者が購入した商品の中で、予想できた割合を再現率といいます。   \n",
    "式で表すと、   \n",
    "$ \\large Recall = \\frac{|a\\cap{p}|}{|a|} $    \n",
    "$ a : 対象者が実際に購入した集合$   \n",
    "$ p : 対象者が購入したと予想した集合$   \n",
    "となります。   \n",
    "０～１の値をとり、１に近いほどいいモデルといえます。\n",
    "\n",
    "再現率も適合率と同様、再現率のみを使うと誤った判断をしてしまいます。   \n",
    "先ほどと同じ条件で、購入したと予想した数が90種類あったとしましょう。この90種類の中に実際購入したものがすべて入っていれば再現率は1となり、良いモデルであると判断できてしまいます。"
   ]
  },
  {
   "cell_type": "markdown",
   "metadata": {},
   "source": [
    "#### F1値"
   ]
  },
  {
   "cell_type": "markdown",
   "metadata": {},
   "source": [
    "トレードオフの関係にある適合率と再現率をバランスよく評価するために、それぞれの値の調和平均をとったものがF値になります。    \n",
    "調和平均とは、a,bにおける調和平均の場合$ \\frac{2ab}{a+b} $で表せられる平均のことです。   \n",
    "\n",
    "式でかくと、   \n",
    "$ \\large F1 = \\frac{2 Recall×Precision}{Precision + Recall}$    \n",
    "になります。   \n",
    "\n",
    "F1値はレコメンドの分野のみではなく機械学習でもよく使われます。\n",
    "適合率が上がれば再現率は下がり、適合率が下がれば再現率は上がる、このように片方が増加すれば他方は減少する関係をトレードオフといいます。   "
   ]
  },
  {
   "cell_type": "markdown",
   "metadata": {},
   "source": [
    "#### 問題"
   ]
  },
  {
   "cell_type": "markdown",
   "metadata": {},
   "source": [
    "次のデータのF1値を計算してください。"
   ]
  },
  {
   "cell_type": "markdown",
   "metadata": {},
   "source": [
    "data_real = [1,0,1,0,1,0,1,1,0,0]   \n",
    "data_pred = [1,0,1,1,0,1,1,1,0,0]   "
   ]
  },
  {
   "cell_type": "markdown",
   "metadata": {},
   "source": [
    "#### ヒント"
   ]
  },
  {
   "cell_type": "markdown",
   "metadata": {},
   "source": [
    "- Precision と　Recall を別々に求めてから f1 を計算しましょう。"
   ]
  },
  {
   "cell_type": "markdown",
   "metadata": {},
   "source": [
    "#### 解答"
   ]
  },
  {
   "cell_type": "markdown",
   "metadata": {},
   "source": [
    "0.7272727272727272"
   ]
  },
  {
   "cell_type": "markdown",
   "metadata": {},
   "source": [
    "pythonを使って計算すると以下のようになります。"
   ]
  },
  {
   "cell_type": "code",
   "execution_count": null,
   "metadata": {
    "collapsed": true
   },
   "outputs": [],
   "source": [
    "data_real = [1,0,1,0,1,0,1,1,0,0]\n",
    "data_pred = [1,0,1,1,0,1,1,1,0,0]\n",
    "\n",
    "def precision(real,pred):\n",
    "    index = []\n",
    "    for i in range(len(real)):\n",
    "        if pred[i] == 1:\n",
    "            index.append(i)\n",
    "    count_collect = 0\n",
    "    for i in index:\n",
    "        count_collect += real[i]\n",
    "    return count_collect / len(index)\n",
    "\n",
    "def recall(real,pred):\n",
    "    index = []\n",
    "    for i in range(len(real)):\n",
    "        if real[i]:\n",
    "            index.append(i)\n",
    "    count_collect = 0\n",
    "    for i in index:\n",
    "        count_collect += pred[i]\n",
    "    return count_collect / len(index)\n",
    "\n",
    "p = precision(data_real,data_pred)\n",
    "r = recall(data_real,data_pred)\n",
    "\n",
    "f1 = 2*p*r / (p + r)\n",
    "f1"
   ]
  },
  {
   "cell_type": "markdown",
   "metadata": {},
   "source": [
    "### 3.1.4 ランキングの評価指標"
   ]
  },
  {
   "cell_type": "markdown",
   "metadata": {},
   "source": [
    "### 3.1.5 カバレッジ"
   ]
  },
  {
   "cell_type": "markdown",
   "metadata": {},
   "source": [
    "ここまでいくつかの評価指標を見てきましたが、レコメンドを評価する際に精度だけを見ていれば良いのかという問題があります。   \n",
    "どういうことかといいますと、人気ランキング上位の商品ばかりがレコメンドされたり、牛乳と卵がよく買われるスーパーマーケットで牛乳と卵をおすすめされるケースがあります。ランキング形式やアイテムベースの観点からいうと当然のことに感じます。しかしこれら人気の高い商品や、一般によく購入する傾向にある商品をレコメンドしていれば、精度指標はある程度高くなることは間違いありません。   \n",
    "しかし購入されやすい商品ばかりをレコメンドしていてもあまりレコメンドの利点は得られなそうです。   \n",
    "レコメンドされる商品には幅の広さや目新しさのようなものが求められることがあります。   \n",
    "このような要素を考慮した評価指数をカバレッジといいます。   \n",
    "\n",
    "今回はカタログカバレッジとユーザーカバレッジを紹介します。"
   ]
  },
  {
   "cell_type": "markdown",
   "metadata": {},
   "source": [
    "#### カタログカバレッジ"
   ]
  },
  {
   "cell_type": "markdown",
   "metadata": {},
   "source": [
    "一回のレコメンドでどれだけの商品をレコメンドできたか示す指標をカタログカバレッジといいます。   \n",
    "式で表すと、   \n",
    "$ \\large Catalog Coverage = \\frac{|S_r|}{|S_a|} $   \n",
    "$S_r : 一回のレコメンドでおすすめできた商品$   \n",
    "$S_a : 全体の商品$   \n",
    "\n",
    "０～１の実数をとり、１に近づくほどより幅広い商品をレコメンドできたとみなすことができます。"
   ]
  },
  {
   "cell_type": "markdown",
   "metadata": {},
   "source": [
    "#### ユーザカバレッジ"
   ]
  },
  {
   "cell_type": "markdown",
   "metadata": {},
   "source": [
    "一回のレコメンドでどれぐらい多くのユーザにレコメンドできたかというのをユーザカバレッジといいます。   \n",
    "式で表すと、   \n",
    "$ \\large Prediction Coverage = \\frac{|S_p|}{|S_u|}$   \n",
    "$S_p : 一回のレコメンドでおすすめされた利用者$   \n",
    "$S_u : 利用可能な全ユーザ$   \n",
    "\n",
    "０～１の実数をとり、１に近づくほど幅広い利用者にレコメンドできたとみなすことができます。"
   ]
  },
  {
   "cell_type": "markdown",
   "metadata": {},
   "source": [
    "#### 問題"
   ]
  },
  {
   "cell_type": "markdown",
   "metadata": {},
   "source": [
    "この中でカバレッジの説明といえるのはどれでしょう？"
   ]
  },
  {
   "cell_type": "markdown",
   "metadata": {},
   "source": [
    "1. 実際に対象者の購入履歴に当てはめることでどの程度正確に予測できているかを確認する。\n",
    "2. 予測精度だけでなく、どれだけ幅広くレコメンドできたかを測定する。\n",
    "3. 対象者が購入するかしないかを推定し、その精度を測定する。\n",
    "4. 上記のすべて"
   ]
  },
  {
   "cell_type": "markdown",
   "metadata": {},
   "source": [
    "#### ヒント"
   ]
  },
  {
   "cell_type": "markdown",
   "metadata": {},
   "source": [
    "- カバレッジは予測の指標だけでは測定できないものを測定します。"
   ]
  },
  {
   "cell_type": "markdown",
   "metadata": {},
   "source": [
    "#### 解答"
   ]
  },
  {
   "cell_type": "markdown",
   "metadata": {},
   "source": [
    "予測精度だけでなく、どれだけ幅広くレコメンドできたかを測定する。"
   ]
  },
  {
   "cell_type": "markdown",
   "metadata": {},
   "source": [
    "<br>"
   ]
  },
  {
   "cell_type": "markdown",
   "metadata": {
    "id": "chapter_correction"
   },
   "source": [
    "## 添削問題"
   ]
  },
  {
   "cell_type": "markdown",
   "metadata": {},
   "source": [
    "#### 問題"
   ]
  },
  {
   "cell_type": "markdown",
   "metadata": {
    "id": "description"
   },
   "source": [
    "sushi_dataには100種類の寿司ネタが0～4の評価を5000人から受けたものが格納されています。   \n",
    "sushi_labelsには100種類の寿司ネタのラベルが格納されています。\n",
    "このデータにユーザベース協調フィルタリングを用いて、100番目の人の寿司ネタ100種類における評価を推定してください。\n",
    "\n",
    "最後に100番目の人が評価している寿司ネタのみを対象に、推定値と実測値を利用して今回の予想モデルの標準偏差を求めて下さい。\n"
   ]
  },
  {
   "cell_type": "markdown",
   "metadata": {},
   "source": [
    "#### ヒント"
   ]
  },
  {
   "cell_type": "markdown",
   "metadata": {},
   "source": [
    "- 類似度にはピアソン相関を使います。\n",
    "- sushi_where には100番目の人が実際に評価した寿司のindexが入っています。\n",
    "- 空欄となっているところを埋めてください。"
   ]
  },
  {
   "cell_type": "code",
   "execution_count": null,
   "metadata": {
    "collapsed": true
   },
   "outputs": [],
   "source": [
    "import numpy as np\n",
    "import math\n",
    "\n",
    "# sushiのレビューデータをかきこみます。\n",
    "sushi_data = np.loadtxt('data/sushi_data.score', delimiter=' ')\n",
    "sushi_labels = open('data/sushi_labels.txt').read().split(':')\n",
    "sushi_where = [1, 3, 4, 5, 11, 14, 18, 35, 37, 52]\n",
    "target_user = 100 \n",
    "\n",
    "#相関係数を返す。\n",
    "def get_correlation_coefficents(sushi_data, target_user):\n",
    "    similarities = []\n",
    "    target = sushi_data[target_user]\n",
    "    for i, score in enumerate(sushi_data):\n",
    "        # 共通の評価が３以下のときは除外\n",
    "        # indicesには共通していた寿司ネタのindexが入ります。\n",
    "        indices = np.where(((target + 1) * (score + 1)) != 0)[0]\n",
    "        if len(indices) < 3 or i == target_user_index:\n",
    "            continue\n",
    "            \n",
    "        #similarityに対象者と利用者の類似度を代入してください。\n",
    "        #比べる対象は共通した寿司ネタのみとします。\n",
    "        \n",
    "        \n",
    "        similarity = \n",
    "        \n",
    "        \n",
    "        \n",
    "        #相関係数に何らかの問題があり、Nanになった場合かきこまないようにします。\n",
    "        if np.isnan(similarity):\n",
    "            continue\n",
    "        #similaritiesにそれぞれの利用者との相関係数を入れます。\n",
    "        similarities.append((i, similarity))\n",
    "    \n",
    "    return sorted(similarities, key=lambda s: s[1], reverse=True)\n",
    "\n",
    "similarities = get_correlation_coefficents(sushi_data, target_user)\n",
    "\n",
    "#あるアイテムに関する評価値の予想を行う\n",
    "def predict(sushi_data, similarities, target_user, target_item):\n",
    "    target = sushi_data[target_user]\n",
    "    #対象者のバイアスによる影響を消す。\n",
    "    avg_target = np.mean(target[np.where(target >= 0)])\n",
    "    \n",
    "    numerator = 0.0\n",
    "    denominator = 0.0\n",
    "    k = 0\n",
    "    \n",
    "    for similarity in similarities:\n",
    "        # 類似度の上位5人の評価値を使う\n",
    "        #類似度が負になった場合も終了させる。\n",
    "        if k > 5 or similarity[1] <= 0.0:\n",
    "            break\n",
    "            \n",
    "        score = sushi_data[similarity[0]]\n",
    "        if score[target_item] >= 0:\n",
    "            #類似度で重みを付けるため、類似度の合計と重み付き評価を求めます。\n",
    "            denominator += similarity[1]\n",
    "            numerator += similarity[1] * (score[target_item] - np.mean(score[np.where(score >= 0)]))\n",
    "            k += 1\n",
    "    # 分母が正ではない時エラーを出すようにします。\n",
    "    return avg_target + (numerator / denominator) if denominator > 0 else -1\n",
    "\n",
    "#寿司ネタすべての評価値を求めます。\n",
    "def rank_items(sushi_data, similarities, target_user):\n",
    "    rankings = []\n",
    "    target = sushi_data[target_user]\n",
    "    # 寿司ネタ100種類の全てで評価値を予測\n",
    "    for i in range(100):\n",
    "        rankings.append((sushi_labels[i], predict(sushi_data, similarities, target_user, i)))\n",
    "    return rankings\n",
    "\n",
    "\n",
    "target_user = 100 # 100番目のユーザ\n",
    "rankings = rank_items(sushi_data,similarities,target_user)\n",
    "sushi_target = sushi_data[target_user]\n",
    "sim = []\n",
    "for i in sushi_where:\n",
    "    #sim には[(寿司ネタの予測値、対象者の評価)、(...)、...]とデータが入っています。\n",
    "    sim.append((rankings[i][1],sushi_target[i]))\n",
    "    \n",
    "\n",
    "# 推測値と実測値の標準偏差を求めてください。\n",
    "\n",
    "\n",
    "RMSE =\n",
    "\n",
    "print(rankings)\n",
    "print()\n",
    "print('RESM :', RMSE)"
   ]
  },
  {
   "cell_type": "markdown",
   "metadata": {},
   "source": [
    "#### 解答例"
   ]
  },
  {
   "cell_type": "code",
   "execution_count": null,
   "metadata": {
    "collapsed": true
   },
   "outputs": [],
   "source": [
    "import numpy as np\n",
    "import math\n",
    "\n",
    "# sushiのレビューデータとsushiのラベルをかきこみます。\n",
    "sushi_data = np.loadtxt('data/sushi_data.score', delimiter=' ')\n",
    "sushi_labels = open('data/sushi_labels.txt').read().split(':')\n",
    "sushi_where = [1, 3, 4, 5, 11, 14, 18, 35, 37, 52]\n",
    "target_user = 100 # 100番目のユーザ\n",
    "\n",
    "\n",
    "#相関係数を返す。\n",
    "def get_correlation_coefficents(sushi_data, target_user):\n",
    "    similarities = []\n",
    "    target = sushi_data[target_user]\n",
    "    for i, score in enumerate(sushi_data):\n",
    "        # 共通の評価が少ない場合は除外\n",
    "        indices = np.where(((target + 1) * (score + 1)) != 0)[0]\n",
    "        if len(indices) < 3 or i == target_user:\n",
    "            continue\n",
    "        \n",
    "        similarity = np.corrcoef(target[indices], score[indices])[0, 1]\n",
    "        #相関係数に何らかの問題があり、Nanになった場合かきこまないようにします。\n",
    "        if np.isnan(similarity):\n",
    "            continue\n",
    "        #similaritiesにそれぞれの利用者との相関係数を入れます。\n",
    "        similarities.append((i, similarity))\n",
    "    \n",
    "    return sorted(similarities, key=lambda s: s[1], reverse=True)\n",
    "\n",
    "similarities = get_correlation_coefficents(sushi_data, target_user)\n",
    "\n",
    "#あるアイテムに関する評価値の予想を行う\n",
    "def predict(sushi_data, similarities, target_user, target_item):\n",
    "    target = sushi_data[target_user]\n",
    "    #対象者のバイアスによる影響を消す。\n",
    "    avg_target = np.mean(target[np.where(target >= 0)])\n",
    "    \n",
    "    numerator = 0.0\n",
    "    denominator = 0.0\n",
    "    k = 0\n",
    "    \n",
    "    for similarity in similarities:\n",
    "        # 類似度の上位5人の評価値を使う\n",
    "        #類似度が負になった場合も終了させる。\n",
    "        if k > 5 or similarity[1] <= 0.0:\n",
    "            break\n",
    "            \n",
    "        score = sushi_data[similarity[0]]\n",
    "        if score[target_item] >= 0:\n",
    "            #類似度で重みを付けるため、類似度の合計と重み付き評価を求めます。\n",
    "            denominator += similarity[1]\n",
    "            numerator += similarity[1] * (score[target_item] - np.mean(score[np.where(score >= 0)]))\n",
    "            k += 1\n",
    "    # 分母が正ではない時エラーを出すようにします。\n",
    "    return avg_target + (numerator / denominator) if denominator > 0 else -1\n",
    "\n",
    "#寿司ネタすべての評価値を求めます。\n",
    "def rank_items(sushi_data, similarities, target_user):\n",
    "    rankings = []\n",
    "    target = sushi_data[target_user]\n",
    "    # 寿司ネタ100種類の全てで評価値を予測\n",
    "    for i in range(100):\n",
    "        rankings.append((sushi_labels[i], predict(sushi_data, similarities, target_user, i)))\n",
    "    return rankings\n",
    "\n",
    "\n",
    "rankings = rank_items(sushi_data,similarities,target_user)\n",
    "sushi_target = sushi_data[target_user]\n",
    "sim = []\n",
    "for i in sushi_where:\n",
    "    #sim には[(寿司ネタの予測値、対象者の評価)、(...)、...]とデータが入っています。\n",
    "    sim.append((rankings[i][1],sushi_target[i]))\n",
    "\n",
    "\n",
    "RMSE = 0\n",
    "RMSE = math.sqrt(sum([(x[0] - x[1])**2 for x in sim]) / len(sim))\n",
    "print(rankings)\n",
    "print()\n",
    "print('RMSE :',RMSE)"
   ]
  }
 ],
 "metadata": {
  "celltoolbar": "Edit Metadata",
  "kernelspec": {
   "display_name": "Python 3",
   "language": "python",
   "name": "python3"
  },
  "language_info": {
   "codemirror_mode": {
    "name": "ipython",
    "version": 3
   },
   "file_extension": ".py",
   "mimetype": "text/x-python",
   "name": "python",
   "nbconvert_exporter": "python",
   "pygments_lexer": "ipython3",
   "version": "3.6.5"
  }
 },
 "nbformat": 4,
 "nbformat_minor": 2
}