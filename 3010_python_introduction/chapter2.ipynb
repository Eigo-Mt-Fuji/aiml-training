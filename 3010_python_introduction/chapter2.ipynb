{
 "cells": [
  {
   "cell_type": "markdown",
   "metadata": {
    "chapterId": "HyNORQ-gbM",
    "id": "chapter_name"
   },
   "source": [
    "# Pythonの基本文法"
   ]
  },
  {
   "cell_type": "markdown",
   "metadata": {
    "id": "table"
   },
   "source": [
    "- **[2.1 リスト型](#2.1-リスト型)**\n",
    "    - **[2.1.1 リスト型①](#2.1.1-リスト型①)** \n",
    "    - **[2.1.2 リスト型②](#2.1.2-リスト型②)**\n",
    "    - **[2.1.3 リスト in リスト](#2.1.3-リスト-in-リスト)**\n",
    "    - **[2.1.4 リストから値を取り出す](#2.1.4-リストから値を取り出す)**\n",
    "    - **[2.1.5 リストからリストを取り出す](#2.1.5-リストからリストを取り出す)**\n",
    "    - **[2.1.6 リストの要素の更新と追加](#2.1.6-リストの要素の更新と追加)**\n",
    "    - **[2.1.7 リストから要素の削除](#2.1.7-リストから要素の削除)**\n",
    "    - **[2.1.8 リスト型の注意点](#2.1.8-リスト型の注意点)**\n",
    "<br><br>\n",
    "- **[2.2 辞書型](#2.2-辞書型)**\n",
    "    - **[2.2.1 辞書型](#2.2.1-辞書型)**\n",
    "    - **[2.2.2 辞書の要素を取り出す](#2.2.2-辞書の要素を取り出す)**\n",
    "    - **[2.2.3 辞書の更新と追加](#2.2.3-辞書の更新と追加)**\n",
    "    - **[2.2.4 辞書の要素の削除](#2.2.4-辞書の要素の削除)**\n",
    "<br><br>\n",
    "- **[2.3 while文](#2.1-while文)**\n",
    "    - **[2.3.1 while文①](#2.3.1-while文①)**\n",
    "    - **[2.3.2 while文②](#2.3.2-while文②)**\n",
    "    - **[2.3.3 while文+if](#2.3.3-while文+if)**\n",
    "<br><br>\n",
    "- **[2.4 for文](#2.4-for文)**\n",
    "    - **[2.4.1 for文](#2.4.1-for文)**\n",
    "    - **[2.4.2 break](#2.4.2-break)**\n",
    "    - **[2.4.3 continue](#2.4.3-continue)**\n",
    "<br><br>\n",
    "- **[2.5 Appendix](#2.5-Appendix)**\n",
    "    - **[2.5.1 for文でindex表示](#2.5.1-for文でindex表示)**\n",
    "    - **[2.5.2 リスト in リストのループ](#2.5.2-リスト-in-リストのループ)**\n",
    "    - **[2.5.3 辞書型のループ](#2.5.3-辞書型のループ)**\n",
    "<br><br>\n",
    "- **[2.6 添削問題](#2.6-添削問題)**"
   ]
  },
  {
   "cell_type": "markdown",
   "metadata": {},
   "source": [
    "***"
   ]
  },
  {
   "cell_type": "markdown",
   "metadata": {
    "id": "section_name",
    "sectionId": "HySOCX-gZf"
   },
   "source": [
    "## 2.1 リスト型"
   ]
  },
  {
   "cell_type": "markdown",
   "metadata": {
    "courseId": 3010,
    "exerciseId": "r1E-tnLjLxM",
    "id": "code_session_name",
    "important": true,
    "isDL": false,
    "timeoutSecs": 5
   },
   "source": [
    "### 2.1.1 リスト型①"
   ]
  },
  {
   "cell_type": "markdown",
   "metadata": {
    "id": "description"
   },
   "source": [
    "「 **<font color=#AA0000>リスト(list)型</font>** 」の変数には、**複数の値**を格納することができます。他のプログラミング言語では、「配列」と呼ばれるものです。\n",
    "\n",
    "下記のように`[要素１, 要素２, ...]`という形で、要素をカンマ(,)で区切って記述します。\n",
    "\n",
    "`[\"象\", \"キリン\", \"パンダ\"]`\n",
    "` [1, 5, 2, 4]`\n",
    "\n",
    "変数に格納された値の一つひとつを **要素** 、または **オブジェクト** と呼びます。"
   ]
  },
  {
   "cell_type": "markdown",
   "metadata": {},
   "source": [
    "#### 問題"
   ]
  },
  {
   "cell_type": "markdown",
   "metadata": {
    "id": "question"
   },
   "source": [
    "- 変数`c`に「`red`」、「`blue`」、「`yellow`」の3つの文字列を代入してください。\n",
    "- 変数`c`の型をprint関数を用いて出力してください。"
   ]
  },
  {
   "cell_type": "code",
   "execution_count": null,
   "metadata": {
    "collapsed": true,
    "id": "index"
   },
   "outputs": [],
   "source": [
    "# 変数cに「red」「blue」「yellow」の3つの文字列を代入してください。\n",
    "\n",
    "print(c)\n",
    "\n",
    "# cの型の出力\n"
   ]
  },
  {
   "cell_type": "markdown",
   "metadata": {},
   "source": [
    "#### ヒント"
   ]
  },
  {
   "cell_type": "markdown",
   "metadata": {
    "id": "hint"
   },
   "source": [
    "- リストも一つの値ですので、変数に代入することができます。\n",
    "- `animal = [\"象\", \"キリン\", \"パンダ\"]` , `storages = [1, 5, 2, 4]`などのようにリスト型を生成してください。\n",
    "- 型の出力は`print(type())`です。\n",
    "- 型の出力はchapter1の「型」の章で確認しました。"
   ]
  },
  {
   "cell_type": "markdown",
   "metadata": {},
   "source": [
    "#### 解答例"
   ]
  },
  {
   "cell_type": "code",
   "execution_count": null,
   "metadata": {
    "collapsed": true,
    "id": "answer"
   },
   "outputs": [],
   "source": [
    "# 変数cに「red」「blue」「yellow」の3つの文字列を代入してください。\n",
    "c = [\"red\", \"blue\", \"yellow\"]\n",
    "\n",
    "print(c)\n",
    "\n",
    "# cの型の出力\n",
    "print(type(c))\n"
   ]
  },
  {
   "cell_type": "markdown",
   "metadata": {},
   "source": [
    "***"
   ]
  },
  {
   "cell_type": "markdown",
   "metadata": {
    "courseId": 3010,
    "exerciseId": "H1SWYhLoUez",
    "id": "code_session_name",
    "important": false,
    "isDL": false,
    "timeoutSecs": 5
   },
   "source": [
    "### 2.1.2 リスト型②"
   ]
  },
  {
   "cell_type": "markdown",
   "metadata": {
    "id": "description"
   },
   "source": [
    "通常、変数には1つの型の値しか格納できませんが、リスト型には **異なる型の要素を一緒に格納することが可能です**。\n",
    "\n",
    "```python\n",
    "[\"りんご\", 3, \"ゴリラ\"]\n",
    "```\n",
    "\n",
    "また、数値や文字列だけでなく、変数を格納することもできます。\n",
    "\n",
    "```python\n",
    "n = 3\n",
    "[\"りんご\", n, \"ゴリラ\"]\n",
    "```"
   ]
  },
  {
   "cell_type": "markdown",
   "metadata": {},
   "source": [
    "#### 問題"
   ]
  },
  {
   "cell_type": "markdown",
   "metadata": {
    "id": "question"
   },
   "source": [
    "- 変数名`fruits`にリスト型で、`apple、grape、banana`の変数を要素として格納してください。"
   ]
  },
  {
   "cell_type": "code",
   "execution_count": null,
   "metadata": {
    "collapsed": true,
    "id": "index"
   },
   "outputs": [],
   "source": [
    "apple = 4\n",
    "grape = 3\n",
    "banana = 6\n",
    "\n",
    "# 変数名fruitsにリスト型で変数を要素としてapple、grape、bananaの順に格納してください\n",
    "\n",
    "\n",
    "print(fruits)\n"
   ]
  },
  {
   "cell_type": "markdown",
   "metadata": {},
   "source": [
    "#### ヒント"
   ]
  },
  {
   "cell_type": "markdown",
   "metadata": {
    "id": "hint"
   },
   "source": [
    "- 中に入れる変数の順番に注意しましょう"
   ]
  },
  {
   "cell_type": "markdown",
   "metadata": {},
   "source": [
    "#### 解答例"
   ]
  },
  {
   "cell_type": "code",
   "execution_count": null,
   "metadata": {
    "collapsed": true,
    "id": "answer"
   },
   "outputs": [],
   "source": [
    "apple = 4\n",
    "grape = 3\n",
    "banana = 6\n",
    "\n",
    "# 変数名fruitsにリスト型で変数を要素としてapple、grape、bananaの順に格納してください\n",
    "fruits = [apple, grape, banana]\n",
    "\n",
    "print(fruits)\n"
   ]
  },
  {
   "cell_type": "markdown",
   "metadata": {},
   "source": [
    "***"
   ]
  },
  {
   "cell_type": "markdown",
   "metadata": {
    "courseId": 3010,
    "exerciseId": "ryUZt2Li8xz",
    "id": "code_session_name",
    "important": true,
    "isDL": false,
    "timeoutSecs": 5
   },
   "source": [
    "### 2.1.3 リスト in リスト"
   ]
  },
  {
   "cell_type": "markdown",
   "metadata": {
    "id": "description"
   },
   "source": [
    "リスト型では、リストの中にリストを格納して「入れ子構造」を作ることも可能です。記述例では、リストの中に複数のリストが格納されています。\n",
    "\n",
    "```python\n",
    "[[1, 2], [3, 4], [5, 6]]\n",
    "```\n",
    "\n",
    "なお、このようにリストの中にリストが含まれるオブジェクトを、「多次元配列」「多次元リスト」と呼ぶこともあります。\n",
    "今回のリストは2層構造なので、2次元配列・2次元リストとなります。"
   ]
  },
  {
   "cell_type": "markdown",
   "metadata": {},
   "source": [
    "#### 問題"
   ]
  },
  {
   "cell_type": "markdown",
   "metadata": {
    "id": "question"
   },
   "source": [
    "- 変数`fruits`は果物の名前とその個数が変数の要素のリストです。\n",
    "- `[[\"りんご\", 2], [\"みかん\", 10]]`という出力になるように、fruitsに変数を代入してください。"
   ]
  },
  {
   "cell_type": "code",
   "execution_count": null,
   "metadata": {
    "collapsed": true,
    "id": "index"
   },
   "outputs": [],
   "source": [
    "fruits_name_1 = \"りんご\"\n",
    "fruits_num_1 = 2\n",
    "fruits_name_2 = \"みかん\"\n",
    "fruits_num_2 = 10\n",
    "\n",
    "# [[\"りんご\", 2], [\"みかん\", 10]]という出力になるように、fruitsに変数をリスト型に代入してください\n",
    "\n",
    "\n",
    "# 出力\n",
    "print(fruits)\n"
   ]
  },
  {
   "cell_type": "markdown",
   "metadata": {},
   "source": [
    "#### ヒント"
   ]
  },
  {
   "cell_type": "markdown",
   "metadata": {
    "id": "hint"
   },
   "source": [
    "- リストの要素にリストを格納する場合でも同様に格納することが可能です。\n",
    "- 変数を格納する時は「`\"`」は不要です。"
   ]
  },
  {
   "cell_type": "markdown",
   "metadata": {},
   "source": [
    "#### 解答例"
   ]
  },
  {
   "cell_type": "code",
   "execution_count": null,
   "metadata": {
    "collapsed": true,
    "id": "answer",
    "scrolled": true
   },
   "outputs": [],
   "source": [
    "fruits_name_1 = \"りんご\"\n",
    "fruits_num_1 = 2\n",
    "fruits_name_2 = \"みかん\"\n",
    "fruits_num_2 = 10\n",
    "\n",
    "# [[\"りんご\", 2], [\"みかん\", 10]]という出力になるように、fruitsに変数をリスト型に代入してください\n",
    "fruits = [[fruits_name_1, fruits_num_1], [fruits_name_2, fruits_num_2]]\n",
    "\n",
    "# 出力\n",
    "print(fruits)\n"
   ]
  },
  {
   "cell_type": "markdown",
   "metadata": {},
   "source": [
    "***"
   ]
  },
  {
   "cell_type": "markdown",
   "metadata": {
    "courseId": 3010,
    "exerciseId": "ByDZYn8oLlz",
    "id": "code_session_name",
    "important": true,
    "isDL": false,
    "timeoutSecs": 5
   },
   "source": [
    "### 2.1.4 リストから値を取り出す"
   ]
  },
  {
   "cell_type": "markdown",
   "metadata": {
    "id": "description"
   },
   "source": [
    "リストの各要素には、自動で**<font color=#AA0000>インデックス(index)</font>** が割り振られます。インデックスの **先頭は「0」** で、その後1、2、3…と順番に続きます。<br >\n",
    "インデックスはリストの要素を取得する際に使用し、`リスト[インデックス]` と記述します。\n",
    "\n",
    "```python\n",
    "ListSample = [1, 2, 3, 4]\n",
    "print(ListSample [1])  #インデックスが1の「2」が出力される\n",
    "```\n",
    "\n",
    "繰り返しになりますが、先頭の要素のインデックスは「0」です。「1」と勘違いしやすいので、注意しましょう。\n",
    "また、インデックスは後ろから指定することも可能です。後ろからの指定では、「-1」が最後の要素、「-2」が最後から２番目の要素になります。\n",
    "\n",
    "```python\n",
    "ListSample = [1, 2, 3, 4]\n",
    "print(ListSample [-2])  # リストの後ろから2番目の「3」が出力される\n",
    "```"
   ]
  },
  {
   "cell_type": "markdown",
   "metadata": {},
   "source": [
    "#### 問題"
   ]
  },
  {
   "cell_type": "markdown",
   "metadata": {
    "id": "question"
   },
   "source": [
    "\n",
    "- 変数`fruits`の2つ目の要素を出力してください。\n",
    "- 変数`fruits`の最後の要素を出力してください。\n",
    "- 出力はprint関数を用いてください。"
   ]
  },
  {
   "cell_type": "code",
   "execution_count": null,
   "metadata": {
    "collapsed": true,
    "id": "index"
   },
   "outputs": [],
   "source": [
    "fruits = [\"apple\", 2, \"orange\", 4, \"grape\", 3, \"banana\", 1]\n",
    "\n",
    "# 変数fruitsの2番目の要素を出力してください\n",
    "\n",
    "\n",
    "# 変数fruitsの最後の要素を出力してください\n",
    "\n"
   ]
  },
  {
   "cell_type": "markdown",
   "metadata": {},
   "source": [
    "#### ヒント"
   ]
  },
  {
   "cell_type": "markdown",
   "metadata": {
    "id": "hint"
   },
   "source": [
    "- インデックス番号は0から始まるので、2番目の要素のインデックス番号は1です。\n",
    "- 最後の要素は-1を使うと楽です。"
   ]
  },
  {
   "cell_type": "markdown",
   "metadata": {},
   "source": [
    "#### 解答例"
   ]
  },
  {
   "cell_type": "code",
   "execution_count": null,
   "metadata": {
    "collapsed": true,
    "id": "answer"
   },
   "outputs": [],
   "source": [
    "fruits = [\"apple\", 2, \"orange\", 4, \"grape\", 3, \"banana\", 1]\n",
    "\n",
    "# 変数fruitsの2番目の要素を出力してください\n",
    "print(fruits[1]) #print(fruits[-7])も正解です\n",
    "\n",
    "# 変数fruitsの最後の要素を出力してください\n",
    "print(fruits[7]) #print(fruits[-1])も正解です\n"
   ]
  },
  {
   "cell_type": "markdown",
   "metadata": {},
   "source": [
    "***"
   ]
  },
  {
   "cell_type": "markdown",
   "metadata": {
    "courseId": 3010,
    "exerciseId": "By_WF3IsLlf",
    "id": "code_session_name",
    "important": true,
    "isDL": false,
    "timeoutSecs": 5
   },
   "source": [
    "### 2.1.5 リストからリストを取り出す(スライス)"
   ]
  },
  {
   "cell_type": "markdown",
   "metadata": {
    "id": "description"
   },
   "source": [
    "リストからは、ひとつの値だけでなく範囲を指定して一度に複数の要素を取得することもできます。リストから一部の要素を切り取ることを **<font color=#AA0000>スライス</font>** といいます。<br>\n",
    "\n",
    "例えば、インデックス1～3の要素をスライスしたい場合は`リスト[ 1 : 4 ]`という記述をします。この時、**スライスの終端のインデックスは、「インデックス+1」で指定します。**<br>\n",
    "\n",
    "また、**`リスト[ 1 :]`と記述した場合には、「インデックス1から末尾まで」、`リスト[: 10 ]`** の場合は、先頭からインデックス9までが指定できます。このように、スライスの始点が先頭の場合と、終点が末尾の場合には省略が可能です。\n",
    "\n",
    "```python\n",
    "alphabet = [\"a\", \"b\", \"c\", \"d\", \"e\", \"f\", \"g\", \"h\", \"i\", \"j\"]\n",
    "print(alphabet[1:5])  # インデックス1～4までの[\"b\", \"c\", \"d\", \"e\"]が出力される\n",
    "print(alphabet[:5])  #先頭からインデックス4までの [\"a\", \"b\", \"c\", \"d\", \"e\"]が出力される\n",
    "print(alphabet[6:])  #インデックス6から末尾までの [\"g\", \"h\", \"i\", \"j\"]が出力される\n",
    "print(alphabet[0:20])  #インデックスは9までなので19までという指定では、 [\"a\",\"b\", \"c\", \"d\", \"e\", \"f\", \"g\", \"h\", \"i\", \"j\"]と全てが出力される\n",
    "```\n",
    "スライスを使用する際に注意すべきは、下記の点です。\n",
    "-\tインデックスの先頭は0である\n",
    "-\t始点に指定されたインデックスの要素についてはスライスに含まれる\n",
    "-\t終点で指定したインデックスの1つ前の要素までがスライスに含まれる\n",
    "\n",
    "なお、終点が「指定したインデックスの一つ前」になることは、後ろからの指定(マイナスのインデックス)の場合にも適応されます。\n",
    "\n",
    "```python\n",
    "alphabet = [\"a\", \"b\", \"c\", \"d\", \"e\", \"f\", \"g\", \"h\", \"i\", \"j\"]\n",
    "print(alphabet[1:-5])  #インデックス1～後ろから6番目までの [\"b\", \"c\", \"d\", \"e\"]が出力される\n",
    "```"
   ]
  },
  {
   "cell_type": "markdown",
   "metadata": {},
   "source": [
    "#### 問題"
   ]
  },
  {
   "cell_type": "markdown",
   "metadata": {
    "id": "question"
   },
   "source": [
    "- リスト`chaos`から以下のリストを取り出し、変数`fruits`に代入してください。<br>`[\"apple\", 2, \"orange\", 4, \"grape\", 3, \"banana\", 1]`\n",
    "- 変数fruitsをprint関数で出力してください。"
   ]
  },
  {
   "cell_type": "code",
   "execution_count": null,
   "metadata": {
    "collapsed": true,
    "id": "index"
   },
   "outputs": [],
   "source": [
    "chaos = [\"cat\", \"apple\", 2, \"orange\", 4, \"grape\", 3, \"banana\", 1, \"elephant\", \"dog\"]\n",
    "\n",
    "# リストchaosから[\"apple\", 2, \"orange\", 4, \"grape\", 3, \"banana\", 1]というリストを取り出し、変数fruitsに代入してください\n",
    "\n",
    "\n",
    "# 変数fruitsを出力\n",
    "print(fruits)\n"
   ]
  },
  {
   "cell_type": "markdown",
   "metadata": {},
   "source": [
    "#### ヒント"
   ]
  },
  {
   "cell_type": "markdown",
   "metadata": {
    "id": "hint"
   },
   "source": [
    "- `chaos[start:end]`で`chaos`の`start`から(`end-1`)のインデックス番号までのリストを取り出すことができます。"
   ]
  },
  {
   "cell_type": "markdown",
   "metadata": {},
   "source": [
    "#### 解答例"
   ]
  },
  {
   "cell_type": "code",
   "execution_count": null,
   "metadata": {
    "collapsed": true,
    "id": "answer"
   },
   "outputs": [],
   "source": [
    "chaos = [\"cat\", \"apple\", 2, \"orange\", 4, \"grape\", 3, \"banana\", 1, \"elephant\", \"dog\"]\n",
    "\n",
    "# リストchaosから[\"apple\", 2, \"orange\", 4, \"grape\", 3, \"banana\", 1]というリストを取り出し、変数fruitsに代入してください\n",
    "fruits = chaos[1:9]  #chaos[1:-2]でも可能\n",
    "\n",
    "# 変数fruitsを出力\n",
    "print(fruits)\n"
   ]
  },
  {
   "cell_type": "markdown",
   "metadata": {},
   "source": [
    "***"
   ]
  },
  {
   "cell_type": "markdown",
   "metadata": {
    "courseId": 3010,
    "exerciseId": "SyYbF3UjLgz",
    "id": "code_session_name",
    "important": true,
    "isDL": false,
    "timeoutSecs": 5
   },
   "source": [
    "### 2.1.6 リストの要素の更新と追加"
   ]
  },
  {
   "cell_type": "markdown",
   "metadata": {
    "id": "description"
   },
   "source": [
    "指定したインデックスの要素に値を入力するには、**`リスト[インデックス] = 値`**と記述します。要素は、変数と同様で最後に入力された値で上書きされます。\n",
    "\n",
    "```python\n",
    "alphabet = [\"a\", \"b\", \"c\", \"d\", \"e\"]\n",
    "alphabet[0] = \"A\" #先頭の要素の値を上書き\n",
    "print(alphabet)  # [\"A\", \"b\", \"c\", \"d\", \"e\"]が出力される\n",
    "```\n",
    "\n",
    "また、スライスで指定した範囲の値をまとめて上書きすることもできます。\n",
    "\n",
    "```python\n",
    "alphabet = [\"a\", \"b\", \"c\", \"d\", \"e\"]\n",
    "alphabet[1:3] = [\"B\", \"C\"] #インデックス１と2にそれぞれ値を代入\n",
    "print(alphabet)  # [\"a\", \"B\", \"C\", \"d\", \"e\"]が出力される\n",
    "```\n",
    "\n",
    "リストに新しい要素を１つ追加したい場合には、 **`リスト名.append(追加する要素)`** という記述をします。\n",
    "\n",
    "```python\n",
    "alphabet = [\"a\", \"b\", \"c\", \"d\", \"e\"]\n",
    "alphabet.append(\"f\") #ひとつだけ追加する場合はappendを使う\n",
    "print(alphabet) # [\"a\", \"b\", \"c\", \"d\", \"e\", \"f\"]が出力される\n",
    "```\n",
    "\n",
    "なお、 **`append`は、 <font color=#AA0000>複数の要素を追加することはできません。</font>**\n",
    "複数の値を追加したい場合には、「`+`」を使って下記のようにリスト同士を連結させます。<br>\n",
    "\n",
    "```python\n",
    "alphabet = [\"a\", \"b\", \"c\", \"d\", \"e\"]\n",
    "alphabet += [\"f\",\"g\"] #複数追加する場合は+を使う\n",
    "print(alphabet) # [\"a\", \"b\", \"c\", \"d\", \"e\", \"f\", \"g\"]が出力される\n",
    "```"
   ]
  },
  {
   "cell_type": "markdown",
   "metadata": {},
   "source": [
    "#### 問題"
   ]
  },
  {
   "cell_type": "markdown",
   "metadata": {
    "id": "question"
   },
   "source": [
    "- リスト`c`の最初の要素を「`red`」に更新してください。\n",
    "- リストの末尾に文字列「`green`」を追加してください。"
   ]
  },
  {
   "cell_type": "code",
   "execution_count": null,
   "metadata": {
    "collapsed": true,
    "id": "index"
   },
   "outputs": [],
   "source": [
    "c = [\"dog\", \"blue\", \"yellow\"]\n",
    "\n",
    "# 変数cの最初の要素を「red」に更新してください\n",
    "\n",
    "print(c)\n",
    "\n",
    "# リストの末尾に文字列「green」を追加してください\n",
    "\n",
    "print(c)"
   ]
  },
  {
   "cell_type": "markdown",
   "metadata": {},
   "source": [
    "#### ヒント"
   ]
  },
  {
   "cell_type": "markdown",
   "metadata": {
    "id": "hint"
   },
   "source": [
    "- リスト[インデックス番号] = 値\n",
    "- `append()`を用いない場合は、リストの結合なので`[]`で囲わなければいけません。"
   ]
  },
  {
   "cell_type": "markdown",
   "metadata": {},
   "source": [
    "#### 解答例"
   ]
  },
  {
   "cell_type": "code",
   "execution_count": null,
   "metadata": {
    "collapsed": true,
    "id": "answer"
   },
   "outputs": [],
   "source": [
    "c = [\"dog\", \"blue\", \"yellow\"]\n",
    "\n",
    "# 変数cの最初の要素を「red」に更新してください\n",
    "c[0] = \"red\"\n",
    "print(c)\n",
    "\n",
    "# リストの末尾に文字列「green」を追加してください\n",
    "c = c + [\"green\"]  # c.append(\"green\")でも可能\n",
    "print(c)"
   ]
  },
  {
   "cell_type": "markdown",
   "metadata": {},
   "source": [
    "***"
   ]
  },
  {
   "cell_type": "markdown",
   "metadata": {
    "courseId": 3010,
    "exerciseId": "Sk9-Kn8sIgM",
    "id": "code_session_name",
    "important": false,
    "isDL": false,
    "timeoutSecs": 5
   },
   "source": [
    "### 2.1.7 リストから要素の削除"
   ]
  },
  {
   "cell_type": "markdown",
   "metadata": {
    "id": "description"
   },
   "source": [
    "リストから要素を削除するには「del」を使用し、 **`del リスト[インデックス]`** と記述します。\n",
    "\n",
    "```python\n",
    "alphabet = [\"a\", \"b\", \"c\", \"d\", \"e\"]\n",
    "del alphabet[3:] #インデックス3以降の要素を削除\n",
    "print(alphabet)  # [\"a\",\"b\", \"c\"]が出力される\n",
    "```\n",
    "\n",
    "また、削除の範囲をスライスで指定することも可能です。\n",
    "\n",
    "```python\n",
    "alphabet = [\"a\", \"b\", \"c\", \"d\", \"e\"]\n",
    "del alphabet[1:3] #インデックス1～2までの要素を削除\n",
    "print(alphabet)  # [\"a\",\"d\", \"e\"]が出力される\n",
    "```"
   ]
  },
  {
   "cell_type": "markdown",
   "metadata": {},
   "source": [
    "#### 問題"
   ]
  },
  {
   "cell_type": "markdown",
   "metadata": {
    "id": "question"
   },
   "source": [
    "- 変数`c`の一番最初の要素を削除してください。"
   ]
  },
  {
   "cell_type": "code",
   "execution_count": null,
   "metadata": {
    "collapsed": true,
    "id": "index"
   },
   "outputs": [],
   "source": [
    "c = [\"dog\", \"blue\", \"yellow\"]\n",
    "print(c)\n",
    "\n",
    "# 変数cの最初の要素を削除してください\n",
    "\n",
    "print(c)"
   ]
  },
  {
   "cell_type": "markdown",
   "metadata": {},
   "source": [
    "#### ヒント"
   ]
  },
  {
   "cell_type": "markdown",
   "metadata": {
    "id": "hint"
   },
   "source": [
    "- `del リスト[インデックス番号]`"
   ]
  },
  {
   "cell_type": "markdown",
   "metadata": {},
   "source": [
    "#### 解答例"
   ]
  },
  {
   "cell_type": "code",
   "execution_count": null,
   "metadata": {
    "collapsed": true,
    "id": "answer"
   },
   "outputs": [],
   "source": [
    "c = [\"dog\", \"blue\", \"yellow\"]\n",
    "print(c)\n",
    "\n",
    "# 変数cの最初の要素を削除してください\n",
    "del c[0]\n",
    "print(c)"
   ]
  },
  {
   "cell_type": "markdown",
   "metadata": {},
   "source": [
    "***"
   ]
  },
  {
   "cell_type": "markdown",
   "metadata": {
    "courseId": 3010,
    "exerciseId": "BJiZY28jLgz",
    "id": "code_session_name",
    "important": true,
    "isDL": false,
    "timeoutSecs": 5
   },
   "source": [
    "### 2.1.8 リスト型の注意点"
   ]
  },
  {
   "cell_type": "markdown",
   "metadata": {
    "id": "description"
   },
   "source": [
    "リストを取り扱う上で注意が必要なことがあります。それは、リストの値をそのまま他の変数に代入し、代入した変数に別の値を上書きした場合、もともとの変数の値にもその変更が適応されるということです。\n",
    "\n",
    "```python\n",
    "alphabet = [\"a\", \"b\", \"c\"]\n",
    "alphabet_copy = alphabet # alphabet_copyにalphabetの値を代入する\n",
    "alphabet_copy[0] = \"A\" # alphabet_copyの先頭の値を上書きする\n",
    "print(alphabet_copy)  # [\"A\", \"b\", \"c\"]と出力される\n",
    "print(alphabet)  # alphabet の値も[\"A\", \"b\", \"c\"]に変更される\n",
    "```\n",
    "\n",
    "元のリストに変更が適用されないようにするには、値を代入する際に「` alphabet_copy = alphabet [:]`」または「` alphabet_copy = list(alphabet )`」という記述をします。\n",
    "\n",
    "```python\n",
    "alphabet = [\"a\", \"b\", \"c\"]\n",
    "alphabet_copy = alphabet[:]\n",
    "alphabet_copy[0] = \"A\"\n",
    "print(alphabet_copy)  # [\"A\", \"b\", \"c\"]と出力される\n",
    "print(alphabet)  # 変更が適用されず、[\"a\", \"b\", \"c\"]と出力される\n",
    "```"
   ]
  },
  {
   "cell_type": "markdown",
   "metadata": {},
   "source": [
    "#### 問題"
   ]
  },
  {
   "cell_type": "markdown",
   "metadata": {
    "id": "question"
   },
   "source": [
    "- 変数`c`のリストの要素が変化しないように、「`c_copy = c`」の部分を訂正してください"
   ]
  },
  {
   "cell_type": "code",
   "execution_count": null,
   "metadata": {
    "collapsed": true,
    "id": "index"
   },
   "outputs": [],
   "source": [
    "c = [\"red\", \"blue\", \"yellow\"]\n",
    "\n",
    "# 変数cの値が変化しないように訂正してください\n",
    "c_copy = c\n",
    "\n",
    "c_copy[1] = \"green\"\n",
    "print(c)"
   ]
  },
  {
   "cell_type": "markdown",
   "metadata": {},
   "source": [
    "#### ヒント"
   ]
  },
  {
   "cell_type": "markdown",
   "metadata": {
    "id": "hint"
   },
   "source": [
    "- `y  = x[:]`\n",
    "- `y = list(x)`"
   ]
  },
  {
   "cell_type": "markdown",
   "metadata": {},
   "source": [
    "#### 解答例"
   ]
  },
  {
   "cell_type": "code",
   "execution_count": null,
   "metadata": {
    "collapsed": true,
    "id": "answer"
   },
   "outputs": [],
   "source": [
    "c = [\"red\", \"blue\", \"yellow\"]\n",
    "\n",
    "# 変数cの値が変化しないように訂正してください\n",
    "c_copy = list(c) #c[:]も正解です\n",
    "\n",
    "c_copy[1] = \"green\"\n",
    "print(c)"
   ]
  },
  {
   "cell_type": "markdown",
   "metadata": {},
   "source": [
    "***"
   ]
  },
  {
   "cell_type": "markdown",
   "metadata": {
    "id": "section_name",
    "sectionId": "B1LdA7blWf"
   },
   "source": [
    "## 2.2 辞書型"
   ]
  },
  {
   "cell_type": "markdown",
   "metadata": {
    "courseId": 3010,
    "exerciseId": "H13WthIiLlz",
    "id": "code_session_name",
    "important": true,
    "isDL": false,
    "timeoutSecs": 5
   },
   "source": [
    "### 2.2.1 辞書型"
   ]
  },
  {
   "cell_type": "markdown",
   "metadata": {
    "id": "description"
   },
   "source": [
    "複数のデータを扱うオブジェクトには、リスト型の他に<font color=#AA0000>**辞書型**</font>というものがあります。<br>\n",
    "ただし、辞書型の場合にはインデックスが割り振られず、**キー(key)** と **バリュー(値)** をセットで格納します。これは、他のプログラミング言語では、JSON形式にあたるものです。\n",
    "\n",
    "`{キー1: バリュー1, キー2: バリュー2, ...}`と記述し、要素と要素の間はカンマ(,)で区切ります。バリューが文字列の場合には「`\"`」または「`’`」で囲みます。\n",
    "\n",
    "```python\n",
    "dic ={\"Japan\": \"Tokyo\", \"Korea\": \"Seoul\"}\n",
    "print(dic)\n",
    "```"
   ]
  },
  {
   "cell_type": "markdown",
   "metadata": {},
   "source": [
    "#### 問題"
   ]
  },
  {
   "cell_type": "markdown",
   "metadata": {
    "id": "question"
   },
   "source": [
    "- 辞書townを用いて、変数`town`に以下のキーとバリューを持つ辞書を作って代入してください。\n",
    "- キー１：`Aichi`、 バリュー１:`Nagoya`、 キー２:`Kanagawa`、 バリュー２:`Yokohama`"
   ]
  },
  {
   "cell_type": "code",
   "execution_count": null,
   "metadata": {
    "collapsed": true,
    "id": "index"
   },
   "outputs": [],
   "source": [
    "# 変数townに辞書を代入してください\n",
    "\n",
    "\n",
    "# townの出力\n",
    "print(town)\n",
    "# 型の出力\n",
    "print(type(town))"
   ]
  },
  {
   "cell_type": "markdown",
   "metadata": {},
   "source": [
    "#### ヒント"
   ]
  },
  {
   "cell_type": "markdown",
   "metadata": {
    "id": "hint"
   },
   "source": [
    "- 辞書型は`{\"yellow\": \"banana\", \"red\": \"tomato\", \"purple\": \"grape\"}`のように`{\"キー\": \"値\", ...}`の形式です。"
   ]
  },
  {
   "cell_type": "markdown",
   "metadata": {},
   "source": [
    "#### 解答例"
   ]
  },
  {
   "cell_type": "code",
   "execution_count": null,
   "metadata": {
    "collapsed": true,
    "id": "answer"
   },
   "outputs": [],
   "source": [
    "# 変数townに辞書を代入してください\n",
    "town = {\"Aichi\": \"Nagoya\", \"Kanagawa\": \"Yokohama\"}\n",
    "\n",
    "# townの出力\n",
    "print(town)\n",
    "# 型の出力\n",
    "print(type(town))"
   ]
  },
  {
   "cell_type": "markdown",
   "metadata": {},
   "source": [
    "***"
   ]
  },
  {
   "cell_type": "markdown",
   "metadata": {
    "courseId": 3010,
    "exerciseId": "S1a-Y2UoLgG",
    "id": "code_session_name",
    "important": true,
    "isDL": false,
    "timeoutSecs": 5
   },
   "source": [
    "### 2.2.2 辞書の要素を取り出す"
   ]
  },
  {
   "cell_type": "markdown",
   "metadata": {
    "id": "description"
   },
   "source": [
    "辞書型の変数から要素を取得するときには、`辞書名[\"キー\"]`という形式で記述します。\n",
    "\n",
    "```python\n",
    "dic ={\"Japan\": \"Tokyo\", \"Korea\": \"Soul\"}\n",
    "print(dic[\"Japan\"])  # Tokyoと出力される\n",
    "```\n",
    "\n",
    "このとき、 **キーを囲むのは、`{}`でなく`[]`である** という点を間違えないようにしましょう。"
   ]
  },
  {
   "cell_type": "markdown",
   "metadata": {},
   "source": [
    "#### 問題"
   ]
  },
  {
   "cell_type": "markdown",
   "metadata": {
    "id": "question"
   },
   "source": [
    "- 辞書townを用いて、「`Aichi`の県庁所在地は`Nagoya`です」と出力してください。\n",
    "- 辞書townを用いて、「`Kanagawa`の県庁所在地は`Yokohama`です」と出力してください。\n",
    "- 出力はprint関数を用いてください。"
   ]
  },
  {
   "cell_type": "code",
   "execution_count": null,
   "metadata": {
    "collapsed": true,
    "id": "index"
   },
   "outputs": [],
   "source": [
    "town = {\"Aichi\": \"Nagoya\", \"Kanagawa\": \"Yokohama\"}\n",
    "\n",
    "# 「Aichiの県庁所在地はNagoyaです」と出力してください\n",
    "\n",
    "\n",
    "# 「Kanagawaの県庁所在地はYokohamaです」と出力してください\n",
    "\n"
   ]
  },
  {
   "cell_type": "markdown",
   "metadata": {},
   "source": [
    "#### ヒント"
   ]
  },
  {
   "cell_type": "markdown",
   "metadata": {
    "id": "hint"
   },
   "source": [
    "- `town[\"取り出したい値のキー\"]`"
   ]
  },
  {
   "cell_type": "markdown",
   "metadata": {},
   "source": [
    "#### 解答例"
   ]
  },
  {
   "cell_type": "code",
   "execution_count": null,
   "metadata": {
    "collapsed": true,
    "id": "answer"
   },
   "outputs": [],
   "source": [
    "town = {\"Aichi\": \"Nagoya\", \"Kanagawa\": \"Yokohama\"}\n",
    "\n",
    "# 「Aichiの県庁所在地はNagoyaです」と出力してください\n",
    "print(\"Aichiの県庁所在地は\" + town[\"Aichi\"] + \"です\")\n",
    "\n",
    "# 「Kanagawaの県庁所在地はYokohamaです」と出力してください\n",
    "print(\"Kanagawaの県庁所在地は\" + town[\"Kanagawa\"] + \"です\")"
   ]
  },
  {
   "cell_type": "markdown",
   "metadata": {},
   "source": [
    "***"
   ]
  },
  {
   "cell_type": "markdown",
   "metadata": {
    "courseId": 3010,
    "exerciseId": "B1R-F3IoUeG",
    "id": "code_session_name",
    "important": true,
    "isDL": false,
    "timeoutSecs": 5
   },
   "source": [
    "### 2.2.3 辞書の更新と追加"
   ]
  },
  {
   "cell_type": "markdown",
   "metadata": {
    "id": "description"
   },
   "source": [
    "辞書のバリューを別の値で上書きしたいときは、`辞書名[\"上書きしたい要素のキー\"] = 新しいバリュー`という記述をします。\n",
    "\n",
    "```python\n",
    "dic ={\"Japan\":\"Tokyo\",\"Korea\":\"Soul\"}\n",
    "dic[\"Japan\"] = \"Osaka\"\n",
    "print(dic)  # {\"Japan\": \"Osaka\", \"Korea\": \"Soul\"}と出力される\n",
    "```\n",
    "\n",
    "また、辞書に新しい要素を追加したい場合は、`辞書名[\"追加したいキー\"] = 追加したいバリュー`と記述します。\n",
    "\n",
    "```python\n",
    "dic ={\"Japan\":\"Osaka\",\"Korea\":\"Soul\"}\n",
    "dic[\"China\"] = \"Beijin\"　#要素を追加\n",
    "print(dic)  # {\"Japan\": \"Osaka\", \"Korea\": \"Soul\", \"China\": \"Beijin\"}と出力される\n",
    "```"
   ]
  },
  {
   "cell_type": "markdown",
   "metadata": {},
   "source": [
    "#### 問題"
   ]
  },
  {
   "cell_type": "markdown",
   "metadata": {
    "id": "question"
   },
   "source": [
    "- キー`「Hokkaido」`、バリュー`「Sapporo」`の要素を追加し出力してください\n",
    "- キー`「Aichi」`のバリューを「`Nagoya」`に変更し出力してください"
   ]
  },
  {
   "cell_type": "code",
   "execution_count": null,
   "metadata": {
    "collapsed": true,
    "id": "index"
   },
   "outputs": [],
   "source": [
    "town = {\"Aichi\": \"aichi\", \"Kanagawa\": \"Yokohama\"}\n",
    "\n",
    "# キー「Hokkaido」、バリュー「Sapporo」を追加してください\n",
    "\n",
    "print(town)\n",
    "\n",
    "# キー「Aichi」のバリューを「Nagoya」に変更してください\n",
    "\n",
    "print(town)"
   ]
  },
  {
   "cell_type": "markdown",
   "metadata": {},
   "source": [
    "#### ヒント"
   ]
  },
  {
   "cell_type": "markdown",
   "metadata": {
    "id": "hint"
   },
   "source": [
    "- `辞書名[\"更新したい値のキー\"] = 値`\n",
    "- `辞書名[\"追加したいキー\"] = 値`"
   ]
  },
  {
   "cell_type": "markdown",
   "metadata": {},
   "source": [
    "#### 解答例"
   ]
  },
  {
   "cell_type": "code",
   "execution_count": null,
   "metadata": {
    "collapsed": true,
    "id": "answer"
   },
   "outputs": [],
   "source": [
    "town = {\"Aichi\": \"aichi\", \"Kanagawa\": \"Yokohama\"}\n",
    "\n",
    "# キー「Hokkaido」、バリュー「Sapporo」を追加してください\n",
    "town[\"Hokkaido\"] = \"Sapporo\"\n",
    "print(town)\n",
    "\n",
    "# キー「Aichi」のバリューを「Nagoya」に変更してください\n",
    "town[\"Aichi\"] = \"Nagoya\"\n",
    "print(town)"
   ]
  },
  {
   "cell_type": "markdown",
   "metadata": {},
   "source": [
    "***"
   ]
  },
  {
   "cell_type": "markdown",
   "metadata": {
    "courseId": 3010,
    "exerciseId": "r1JGKhLsUeG",
    "id": "code_session_name",
    "important": false,
    "isDL": false,
    "timeoutSecs": 5
   },
   "source": [
    "### 2.2.4 辞書の要素の削除"
   ]
  },
  {
   "cell_type": "markdown",
   "metadata": {
    "id": "description"
   },
   "source": [
    "`del 辞書名[\"削除したいキー\"]`という記述で、指定したキーの要素を削除できます。\n",
    "\n",
    "```python\n",
    "dic ={\"Japan\": \"Tokyo\", \"Korea\": \"Soul\", \"China\": \"Beijin\"}\n",
    "del dic[\"China\"]　#指定した要素を削除\n",
    "print(dic)  # {\"Japan\": \"Tokyo\", \"Korea\": \"Soul\"}と出力されます。\n",
    "```"
   ]
  },
  {
   "cell_type": "markdown",
   "metadata": {},
   "source": [
    "#### 問題"
   ]
  },
  {
   "cell_type": "markdown",
   "metadata": {
    "id": "question"
   },
   "source": [
    "- キーが「`Aichi`」の要素を削除してください。"
   ]
  },
  {
   "cell_type": "code",
   "execution_count": null,
   "metadata": {
    "collapsed": true,
    "id": "index"
   },
   "outputs": [],
   "source": [
    "town = {\"Aichi\": \"aichi\", \"Kanagawa\": \"Yokohama\", \"Hokkaido\": \"Sapporo\"}\n",
    "\n",
    "# キーが「Aichi」の要素を削除してください\n",
    "\n",
    "print(town)"
   ]
  },
  {
   "cell_type": "markdown",
   "metadata": {},
   "source": [
    "#### ヒント"
   ]
  },
  {
   "cell_type": "markdown",
   "metadata": {
    "id": "hint"
   },
   "source": [
    "- `del 辞書名[\"削除したいキー\"]`"
   ]
  },
  {
   "cell_type": "markdown",
   "metadata": {},
   "source": [
    "#### 解答例"
   ]
  },
  {
   "cell_type": "code",
   "execution_count": null,
   "metadata": {
    "collapsed": true,
    "id": "answer"
   },
   "outputs": [],
   "source": [
    "town = {\"Aichi\": \"aichi\", \"Kanagawa\": \"Yokohama\", \"Hokkaido\": \"Sapporo\"}\n",
    "\n",
    "# キーが「Aichi」の要素を削除してください\n",
    "del town[\"Aichi\"]\n",
    "print(town)"
   ]
  },
  {
   "cell_type": "markdown",
   "metadata": {},
   "source": [
    "***"
   ]
  },
  {
   "cell_type": "markdown",
   "metadata": {
    "id": "section_name",
    "sectionId": "Bkv_C7bgWz"
   },
   "source": [
    "## 2.3 while文"
   ]
  },
  {
   "cell_type": "markdown",
   "metadata": {
    "courseId": 3010,
    "exerciseId": "rygzF3Ui8lG",
    "id": "quiz_session_name",
    "important": true,
    "isDL": false,
    "timeoutSecs": 5
   },
   "source": [
    "### 2.3.1 while文①"
   ]
  },
  {
   "cell_type": "markdown",
   "metadata": {
    "id": "description"
   },
   "source": [
    "**条件式がFalseになるまで処理を繰り返す** には、**<font color=#AA0000>while</font>** を使います。<br>\n",
    "while文では条件式がTrueになる間は、何度も処理を繰り返します。基本的な書き方は`if`文と同じで、下記のようになります。\n",
    "\n",
    "`while 条件式：<br>\n",
    "条件式がTrueの場合に行われる処理`\n",
    "\n",
    "なお、while文もif文同様、インデントを下げることで処理の箇所を明示します。繰り返しになりますが、その際のインデントは半角スペース4つ分が推奨されています。\n",
    "\n",
    "```python\n",
    "n = 2\n",
    "while n >0:　# nが0より大きい場合、下記の処理を行う\n",
    "    print(n)\n",
    "    n -= 1　# nを-1する\n",
    "```\n",
    "\n",
    "このWhile文では2回処理を繰り返し、「２」「１」が出力された後はnが0となり、条件式がFalseとなるので処理が終了となります。\n",
    "\n",
    "```\n",
    "> out\n",
    "2\n",
    "1\n",
    "```\n"
   ]
  },
  {
   "cell_type": "markdown",
   "metadata": {},
   "source": [
    "#### 問題"
   ]
  },
  {
   "cell_type": "markdown",
   "metadata": {
    "id": "question"
   },
   "source": [
    "- 以下のコードを実行した時、`print(\"Aidemy\")`は何回実行されるでしょう？\n",
    "```python\n",
    "x = 5\n",
    "while x > 0:\n",
    "    print(\"Aidemy\")\n",
    "    x -= 2\n",
    "```"
   ]
  },
  {
   "cell_type": "markdown",
   "metadata": {
    "id": "choices"
   },
   "source": [
    "- 0\n",
    "- 1\n",
    "- 2\n",
    "- 3\n",
    "- 4"
   ]
  },
  {
   "cell_type": "markdown",
   "metadata": {},
   "source": [
    "#### ヒント"
   ]
  },
  {
   "cell_type": "markdown",
   "metadata": {
    "id": "hint"
   },
   "source": [
    "- xの値が一回ループするごとに2小さくなります。\n",
    "- xが0より大きければ、ループが続きます。"
   ]
  },
  {
   "cell_type": "markdown",
   "metadata": {},
   "source": [
    "#### 解答"
   ]
  },
  {
   "cell_type": "markdown",
   "metadata": {
    "collapsed": true,
    "id": "answer"
   },
   "source": [
    "3"
   ]
  },
  {
   "cell_type": "markdown",
   "metadata": {},
   "source": [
    "***"
   ]
  },
  {
   "cell_type": "markdown",
   "metadata": {
    "courseId": 3010,
    "exerciseId": "SJbGKnIoUlf",
    "id": "code_session_name",
    "important": false,
    "isDL": false,
    "timeoutSecs": 5
   },
   "source": [
    "### 2.3.2 while文②"
   ]
  },
  {
   "cell_type": "markdown",
   "metadata": {
    "id": "description"
   },
   "source": [
    "while文でよくあるミスとしては、どんなに処理を繰り返してもFalseになることのない条件式を設定してしまうということが挙げられます。\n",
    "その場合、永遠に同じ処理を行い続け、プログラムはその先に進めなくなります。この現象を **無限ループ** と呼びます。プログラミングの世界では、比較的起きやすいバグなので注意しましょう。<br>\n",
    "なお、今回の問題では3秒以上は処理が続かないように、強制的にストップさせています。"
   ]
  },
  {
   "cell_type": "markdown",
   "metadata": {},
   "source": [
    "#### 問題"
   ]
  },
  {
   "cell_type": "markdown",
   "metadata": {
    "id": "question"
   },
   "source": [
    "- `while`文を用いて、変数xが0ではない間、ループするように作ってください。\n",
    "- `while`文の中で実行させる処理は、変数xから1を引く処理と、引いた後にxの値を出力する処理を書いてください。\n",
    "- 出力はprint関数を用いてください。\n",
    "- 実行結果は以下のようになります。\n",
    "```python\n",
    "4\n",
    "3\n",
    "2\n",
    "1\n",
    "0\n",
    "```"
   ]
  },
  {
   "cell_type": "code",
   "execution_count": null,
   "metadata": {
    "collapsed": true,
    "id": "index"
   },
   "outputs": [],
   "source": [
    "x = 5\n",
    "\n",
    "# whileを用いて、変数xが0ではない間、ループするように作ってください\n",
    "\n",
    "    # whileの中で実行される処理は、変数xから1を引く処理と引いた後に出力させる処理です。\n",
    "    \n",
    "    "
   ]
  },
  {
   "cell_type": "markdown",
   "metadata": {},
   "source": [
    "#### ヒント"
   ]
  },
  {
   "cell_type": "markdown",
   "metadata": {
    "id": "hint"
   },
   "source": [
    "- 「0ではない」は「`x != 0`」と表記できます。\n",
    "- `while 条件式: ...`"
   ]
  },
  {
   "cell_type": "markdown",
   "metadata": {},
   "source": [
    "#### 解答例"
   ]
  },
  {
   "cell_type": "code",
   "execution_count": null,
   "metadata": {
    "collapsed": true,
    "id": "answer",
    "scrolled": true
   },
   "outputs": [],
   "source": [
    "x = 5\n",
    "\n",
    "# whileを用いて、変数xが0ではない間、ループするように作ってください\n",
    "while x != 0:\n",
    "    # whileの中で実行される処理は、変数xから1を引く処理と引いた後に出力させる処理です。\n",
    "    x -= 1\n",
    "    print(x)"
   ]
  },
  {
   "cell_type": "markdown",
   "metadata": {},
   "source": [
    "***"
   ]
  },
  {
   "cell_type": "markdown",
   "metadata": {
    "courseId": 3010,
    "exerciseId": "r1GfF3UoUgz",
    "id": "code_session_name",
    "important": false,
    "isDL": false,
    "timeoutSecs": 5
   },
   "source": [
    "### 2.3.3 while+if"
   ]
  },
  {
   "cell_type": "markdown",
   "metadata": {
    "id": "description"
   },
   "source": [
    "このセッションでは、`if文`と`while文`を使って問題を解いてみましょう。"
   ]
  },
  {
   "cell_type": "markdown",
   "metadata": {},
   "source": [
    "#### 問題"
   ]
  },
  {
   "cell_type": "markdown",
   "metadata": {
    "id": "question"
   },
   "source": [
    "- 前のセッションで書いたコードを改良してみましょう。\n",
    "- `if`文を用いて、以下のような出力になるように、このコードを改良してください。\n",
    "```python\n",
    "4\n",
    "3\n",
    "2\n",
    "1\n",
    "Bang\n",
    "```"
   ]
  },
  {
   "cell_type": "code",
   "execution_count": null,
   "metadata": {
    "collapsed": true,
    "id": "index"
   },
   "outputs": [],
   "source": [
    "x = 5\n",
    "\n",
    "# whileを用いて、変数xが0ではない間、ループするように作ってください\n",
    "while x != 0:\n",
    "    # whileの中で実行される処理は、変数xから1を引く処理と引いた後に出力させる処理です。\n",
    "    x -= 1\n",
    "    print(x)"
   ]
  },
  {
   "cell_type": "markdown",
   "metadata": {},
   "source": [
    "#### ヒント"
   ]
  },
  {
   "cell_type": "markdown",
   "metadata": {
    "id": "hint"
   },
   "source": [
    "- `if`を使って、`print(x)`と`print(\"Bang\")`を条件分岐しましょう。\n",
    "- `x != 0`の場合と`x = 0`の場合でコードを書き分ければ良いです。"
   ]
  },
  {
   "cell_type": "markdown",
   "metadata": {},
   "source": [
    "#### 解答例"
   ]
  },
  {
   "cell_type": "code",
   "execution_count": null,
   "metadata": {
    "collapsed": true,
    "id": "answer"
   },
   "outputs": [],
   "source": [
    "x = 5\n",
    "\n",
    "# whileを用いて、変数xが0ではない間、ループするように作ってください\n",
    "while x != 0:\n",
    "    # whileの中で実行される処理は、変数xから1を引く処理と引いた後に出力させる処理です。\n",
    "    x -= 1\n",
    "    if x != 0:\n",
    "        print(x)\n",
    "    else:\n",
    "        print(\"Bang\")"
   ]
  },
  {
   "cell_type": "markdown",
   "metadata": {},
   "source": [
    "***"
   ]
  },
  {
   "cell_type": "markdown",
   "metadata": {
    "id": "section_name",
    "sectionId": "B1_uRmZgbf"
   },
   "source": [
    "## 2.4 for文"
   ]
  },
  {
   "cell_type": "markdown",
   "metadata": {
    "courseId": 3010,
    "exerciseId": "Bk7GF2IiUxG",
    "id": "code_session_name",
    "important": true,
    "isDL": false,
    "timeoutSecs": 5
   },
   "source": [
    "### 2.4.1 for文"
   ]
  },
  {
   "cell_type": "markdown",
   "metadata": {
    "id": "description"
   },
   "source": [
    "リスト型や辞書型といった複数のデータを持つ変数から、要素を全て出力する際などに使われるのが **<font color=#AA0000>for文</font>** です。「 **`for 変数　in リスト:`** 」で、変数に含まれる要素の個数分、処理を繰り返します。<br>\n",
    "\n",
    "```python\n",
    "animals = [\"tiger\", \"dog\", \"elephant\"]\n",
    "for animal in animals: # animalsに含まれる要素の数＝3回処理を繰り返す\n",
    "    print(animal)\n",
    "# 出力結果\n",
    "tiger\n",
    "dog\n",
    "elephant\n",
    "```\n",
    "\n",
    "この例では1回目の処理で「tiger」、2回目で「dog」、3回目で「elephant」が出力され、animalsに含まれる全ての要素の出力が完了したところで、for文の処理が終了します。\n",
    "\n",
    "for文を書く時には、While文と同様に**最後にコロン(:)をつけること**と、**インデントで処理の範囲を明示すること** の2点を忘れないようにしましょう。\n",
    "\n",
    "なお、辞書型のfor文については、この後の「2.5.3 辞書型のループ」で学習します。"
   ]
  },
  {
   "cell_type": "markdown",
   "metadata": {},
   "source": [
    "#### 問題"
   ]
  },
  {
   "cell_type": "markdown",
   "metadata": {
    "id": "question"
   },
   "source": [
    "- `for`文を使って変数`storages`の要素を1つずつ出力してください。\n",
    "- 出力はprint関数を用いてください。\n",
    "- `for`の後におく変数は任意とします。"
   ]
  },
  {
   "cell_type": "code",
   "execution_count": null,
   "metadata": {
    "collapsed": true,
    "id": "index"
   },
   "outputs": [],
   "source": [
    "storages = [1, 2, 3, 4]\n",
    "\n",
    "# for文を使って変数storagesの要素を出力してください\n"
   ]
  },
  {
   "cell_type": "markdown",
   "metadata": {},
   "source": [
    "#### ヒント"
   ]
  },
  {
   "cell_type": "markdown",
   "metadata": {
    "id": "hint"
   },
   "source": [
    "- `for`の文末には`:`(コロン)を付けるのを忘れないようにしましょう。"
   ]
  },
  {
   "cell_type": "markdown",
   "metadata": {},
   "source": [
    "#### 解答例"
   ]
  },
  {
   "cell_type": "code",
   "execution_count": null,
   "metadata": {
    "collapsed": true,
    "id": "answer"
   },
   "outputs": [],
   "source": [
    "storages = [1, 2, 3, 4]\n",
    "\n",
    "# for文を使って変数storagesの要素を出力してください\n",
    "for n in storages:\n",
    "    print(n)"
   ]
  },
  {
   "cell_type": "markdown",
   "metadata": {},
   "source": [
    "***"
   ]
  },
  {
   "cell_type": "markdown",
   "metadata": {
    "courseId": 3010,
    "exerciseId": "r14GKnUsUez",
    "id": "code_session_name",
    "important": true,
    "isDL": false,
    "timeoutSecs": 5
   },
   "source": [
    "### 2.4.2 break"
   ]
  },
  {
   "cell_type": "markdown",
   "metadata": {
    "id": "description"
   },
   "source": [
    "処理の繰り返しを終了したい場合、**`break`** を使います。breakは主にif文の中でよく使われます。\n",
    "\n",
    "```python\n",
    "storages = [1, 2, 3, 4, 5, 6, 7, 8, 9, 10]\n",
    "for n in storages: # storagesに含まれる要素の数=10回処理を繰り返す\n",
    "    print(n)\n",
    "    if n >= 5: # nが5以上になった場合、下記の処理を行う\n",
    "        print(\"nが5以上になったので処理を終了します\")\n",
    "        break # for文の処理を終了する\n",
    "```\n",
    "\n",
    "このfor文では本来は、要素の個数である10回分の処理が繰り返されるはずです。\n",
    "しかし、「1」「2」「3」「4」「5」と順番に出力された後、if文の条件式がtrueになり、breakが実行されるので処理は5回で終了します。"
   ]
  },
  {
   "cell_type": "markdown",
   "metadata": {},
   "source": [
    "#### 問題"
   ]
  },
  {
   "cell_type": "markdown",
   "metadata": {
    "id": "question"
   },
   "source": [
    "- 変数`n`の値が4の時に処理を終了させてください。"
   ]
  },
  {
   "cell_type": "code",
   "execution_count": null,
   "metadata": {
    "collapsed": true,
    "id": "index"
   },
   "outputs": [],
   "source": [
    "storages = [1, 2, 3, 4, 5, 6]\n",
    "\n",
    "for n in storages:\n",
    "    print(n)\n",
    "    # 変数nの値が4の時に処理を終了させてください\n",
    "    "
   ]
  },
  {
   "cell_type": "markdown",
   "metadata": {},
   "source": [
    "#### ヒント"
   ]
  },
  {
   "cell_type": "markdown",
   "metadata": {
    "id": "hint"
   },
   "source": [
    "- 数式の等号を示す記号は「`=`」ではなく「`==`」です。\n",
    "- インデントを下げるのを忘れないようにしましょう。"
   ]
  },
  {
   "cell_type": "markdown",
   "metadata": {},
   "source": [
    "#### 解答例"
   ]
  },
  {
   "cell_type": "code",
   "execution_count": null,
   "metadata": {
    "collapsed": true,
    "id": "answer"
   },
   "outputs": [],
   "source": [
    "storages = [1, 2, 3, 4, 5, 6]\n",
    "\n",
    "for n in storages:\n",
    "    print(n)\n",
    "    # 変数nの値が4の時に処理を終了させてください\n",
    "    if n == 4:\n",
    "        break"
   ]
  },
  {
   "cell_type": "markdown",
   "metadata": {},
   "source": [
    "***"
   ]
  },
  {
   "cell_type": "markdown",
   "metadata": {
    "courseId": 3010,
    "exerciseId": "HyrMKnIjLlG",
    "id": "code_session_name",
    "important": true,
    "isDL": false,
    "timeoutSecs": 5
   },
   "source": [
    "### 2.4.3 continue"
   ]
  },
  {
   "cell_type": "markdown",
   "metadata": {
    "id": "description"
   },
   "source": [
    "**`continue`** は処理をスキップしたい場合に使用します。スキップとは処理を行わないことを意味します。`break`同様、`if`文と組み合わせて使用されることが多いです。\n",
    "\n",
    "```python\n",
    "storages = [1, 2, 3, 4, 5, 6] # storagesに含まれる要素の数=6回処理を繰り返す\n",
    "for n in storages:\n",
    "    if n < 3: #nが3より小さい場合、処理を行わない(スキップする)\n",
    "        continue\n",
    "    print(n)\n",
    "```\n",
    "\n",
    "このfor文では、「1」「2」のときはif文がtrueとなるため、continueが実行されて処理がスキップされ、「3」「4」「5」「6」の4つの要素が出力されます。"
   ]
  },
  {
   "cell_type": "markdown",
   "metadata": {},
   "source": [
    "#### 問題"
   ]
  },
  {
   "cell_type": "markdown",
   "metadata": {
    "id": "question"
   },
   "source": [
    "- 変数`n`の値が2の倍数の時だけ、`continue`を使用して処理をスキップさせてください。"
   ]
  },
  {
   "cell_type": "code",
   "execution_count": null,
   "metadata": {
    "collapsed": true,
    "id": "index"
   },
   "outputs": [],
   "source": [
    "storages = [1, 2, 3, 4, 5, 6]\n",
    "\n",
    "for n in storages:\n",
    "    # 変数nの値が2の倍数の時だけ、処理をスキップさせてください\n",
    "    \n",
    "        \n",
    "    print(n)"
   ]
  },
  {
   "cell_type": "markdown",
   "metadata": {},
   "source": [
    "#### ヒント"
   ]
  },
  {
   "cell_type": "markdown",
   "metadata": {
    "id": "hint"
   },
   "source": [
    "- 2の倍数とは「2で割った時に余りが0」と言い換えることができます。\n",
    "- 余りを求める算術演算子は%です。"
   ]
  },
  {
   "cell_type": "markdown",
   "metadata": {},
   "source": [
    "#### 解答例"
   ]
  },
  {
   "cell_type": "code",
   "execution_count": null,
   "metadata": {
    "collapsed": true,
    "id": "answer"
   },
   "outputs": [],
   "source": [
    "storages = [1, 2, 3, 4, 5, 6]\n",
    "\n",
    "for n in storages:\n",
    "    # 変数nの値が2の倍数の時だけ、処理をスキップさせてください\n",
    "    if n % 2 == 0:\n",
    "        continue\n",
    "    print(n)\n",
    "    "
   ]
  },
  {
   "cell_type": "markdown",
   "metadata": {},
   "source": [
    "***"
   ]
  },
  {
   "cell_type": "markdown",
   "metadata": {
    "id": "section_name",
    "sectionId": "S1KuRQWx-z"
   },
   "source": [
    "## 2.5 Appendix"
   ]
  },
  {
   "cell_type": "markdown",
   "metadata": {
    "courseId": 3010,
    "exerciseId": "HkLzYnLoIxM",
    "id": "code_session_name",
    "important": false,
    "isDL": false,
    "timeoutSecs": 5
   },
   "source": [
    "### 2.5.1 for文でindex表示"
   ]
  },
  {
   "cell_type": "markdown",
   "metadata": {
    "id": "description"
   },
   "source": [
    "`for`文の中で、リストの値だけでなくインデックスも同時に取得したいケースがあります。 そのような場合に使われる関数が、 **`enumerate()`** です。関数についてはchapter3で詳しく説明します。\n",
    "\n",
    "```python\n",
    "list = [\"a\", \"b\"]\n",
    "for index, value in enumerate(list): # listのインデックスと値を取得する\n",
    "    print(index, value)\n",
    "```\n",
    "\n",
    "この例では、indexにはインデックスが、valueには値が代入されます。最初のループで「0 a」、2回目に「1 b」というように、インデックスと値の両方を出力します。"
   ]
  },
  {
   "cell_type": "markdown",
   "metadata": {},
   "source": [
    "#### 問題"
   ]
  },
  {
   "cell_type": "markdown",
   "metadata": {
    "id": "question"
   },
   "source": [
    "- `for`文と`enumerate()`を用いて以下の出力をするようなコードを書いてください。\n",
    "- 出力はprint関数を用いてください。\n",
    "```python\n",
    "index:0 tiger\n",
    "index:1 dog\n",
    "index:2 elephant\n",
    "```"
   ]
  },
  {
   "cell_type": "code",
   "execution_count": null,
   "metadata": {
    "collapsed": true,
    "id": "index"
   },
   "outputs": [],
   "source": [
    "animals = [\"tiger\", \"dog\", \"elephant\"]\n",
    "\n",
    "# enumerate()を用いて出力してください\n",
    "\n"
   ]
  },
  {
   "cell_type": "markdown",
   "metadata": {},
   "source": [
    "#### ヒント"
   ]
  },
  {
   "cell_type": "markdown",
   "metadata": {
    "id": "hint"
   },
   "source": [
    "- `for`の直後に置く変数は自由です。\n",
    "- `print(a, b)  # 出力結果 a b `\n",
    "- 文字列と数値を一度に出力する場合は`print('文字列'+str(数値の変数))`とします。\n",
    "- 複数の変数をprintの中で呼び出すためにはカンマで区切ります。`print(index,animal)`とすると、0 tigerのように出力されます。"
   ]
  },
  {
   "cell_type": "markdown",
   "metadata": {},
   "source": [
    "#### 解答例"
   ]
  },
  {
   "cell_type": "code",
   "execution_count": null,
   "metadata": {
    "collapsed": true,
    "id": "answer"
   },
   "outputs": [],
   "source": [
    "animals = [\"tiger\", \"dog\", \"elephant\"]\n",
    "\n",
    "# enumerate()を用いて出力してください\n",
    "for index, animal in enumerate(animals):\n",
    "    print(\"index:\" + str(index), animal)"
   ]
  },
  {
   "cell_type": "markdown",
   "metadata": {},
   "source": [
    "***"
   ]
  },
  {
   "cell_type": "markdown",
   "metadata": {
    "courseId": 3010,
    "exerciseId": "HywGt3IjUxf",
    "id": "code_session_name",
    "important": false,
    "isDL": false,
    "timeoutSecs": 5
   },
   "source": [
    "### 2.5.2 リスト in リストのループ"
   ]
  },
  {
   "cell_type": "markdown",
   "metadata": {
    "id": "description"
   },
   "source": [
    "リストの要素がリスト型で構成されている場合、下記の書き方で中のリストの要素を出力することができます。\n",
    "\n",
    "```python\n",
    "list = [[1, 2, 3], [4, 5, 6]]\n",
    "for a, b, c in list:\n",
    "    print(a, b, c)\n",
    "```\n",
    "\n",
    "この例文の場合、リスト内のリストには3つの値が格納されているので、変数を3つ用意しています。これが4つの値のリストであれば、変数が4つ必要となります。\n",
    "つまり、**要素の個数分の変数を用意する必要がある。** ということです。\n",
    "\n",
    "ただし、この方法は中のリストの数が全て同じである場合にのみ使用可能です。下記のようなケースではエラーになります。\n",
    "\n",
    "```python\n",
    "list = [[1, 2, 3], [4, 5]]\n",
    "for a, b, c in list:\n",
    "    print(a, b, c) # エラーになる\n",
    "```"
   ]
  },
  {
   "cell_type": "markdown",
   "metadata": {},
   "source": [
    "#### 問題"
   ]
  },
  {
   "cell_type": "markdown",
   "metadata": {
    "id": "question"
   },
   "source": [
    "- `for`文を用いて、以下の出力をするようなコードを書いてください。\n",
    "- 出力はprint関数を用いてください。\n",
    "\n",
    "```\n",
    "strawberry is red\n",
    "peach is pink\n",
    "banana is yellow\n",
    "```"
   ]
  },
  {
   "cell_type": "code",
   "execution_count": null,
   "metadata": {
    "collapsed": true,
    "id": "index"
   },
   "outputs": [],
   "source": [
    "fruits = [[\"strawberry\", \"red\"],\n",
    "          [\"peach\", \"pink\"],\n",
    "          [\"banana\", \"yellow\"]]\n",
    "\n",
    "# for文を用いて出力してください          \n",
    "\n"
   ]
  },
  {
   "cell_type": "markdown",
   "metadata": {},
   "source": [
    "#### ヒント"
   ]
  },
  {
   "cell_type": "markdown",
   "metadata": {
    "id": "hint"
   },
   "source": [
    "- `for`の後に置く変数は自由です。\n",
    "- 例えば`for fruit, color in fruits:`と記述すると良いでしょう。"
   ]
  },
  {
   "cell_type": "markdown",
   "metadata": {},
   "source": [
    "#### 解答例"
   ]
  },
  {
   "cell_type": "code",
   "execution_count": null,
   "metadata": {
    "collapsed": true,
    "id": "answer",
    "scrolled": true
   },
   "outputs": [],
   "source": [
    "fruits = [[\"strawberry\", \"red\"],\n",
    "          [\"peach\", \"pink\"],\n",
    "          [\"banana\", \"yellow\"]]\n",
    "\n",
    "# for文を用いて出力してください          \n",
    "for fruit, color in fruits:\n",
    "    print(fruit + \" is \" + color)"
   ]
  },
  {
   "cell_type": "markdown",
   "metadata": {},
   "source": [
    "***"
   ]
  },
  {
   "cell_type": "markdown",
   "metadata": {
    "courseId": 3010,
    "exerciseId": "BJ_fK28oIgG",
    "id": "code_session_name",
    "important": false,
    "isDL": false,
    "timeoutSecs": 5
   },
   "source": [
    "### 2.5.3 辞書型のループ"
   ]
  },
  {
   "cell_type": "markdown",
   "metadata": {
    "id": "description"
   },
   "source": [
    "辞書型では、**`items()`** という関数を使うことで、キーとバリューの両方を変数に格納することができます。\n",
    "\n",
    "```python\n",
    "fruits = {\"strawberry\": \"red\", \"peach\": \"pink\", \"banana\": \"yellow\"}\n",
    "for fruit, color in fruits.items(): # fruitにキー、colorにバリューが格納される\n",
    "        print(fruit+\" is \"+color)\n",
    "```\n",
    "\n",
    "この例文では「strawberry is red」「peach is pink」「banana is yellow」が出力されます。"
   ]
  },
  {
   "cell_type": "markdown",
   "metadata": {},
   "source": [
    "#### 問題"
   ]
  },
  {
   "cell_type": "markdown",
   "metadata": {
    "id": "question"
   },
   "source": [
    "- `for`文を用いて以下の出力をするようなコードを書いてください。\n",
    "- 出力はprint関数を用いてください。\n",
    "```python\n",
    "Aichi Nagoya\n",
    "Kanagawa Yokohama\n",
    "Hokkaido Sapporo\n",
    "```"
   ]
  },
  {
   "cell_type": "code",
   "execution_count": null,
   "metadata": {
    "collapsed": true,
    "id": "index"
   },
   "outputs": [],
   "source": [
    "town = {\"Aichi\": \"Nagoya\", \"Kanagawa\": \"Yokohama\", \"Hokkaido\": \"Sapporo\"}\n",
    "\n",
    "# for文を用いて出力してください\n",
    "\n"
   ]
  },
  {
   "cell_type": "markdown",
   "metadata": {},
   "source": [
    "#### ヒント"
   ]
  },
  {
   "cell_type": "markdown",
   "metadata": {
    "id": "hint"
   },
   "source": [
    "- `for`の後に置く変数は自由です。\n",
    "- `for key, value in town.items():`"
   ]
  },
  {
   "cell_type": "markdown",
   "metadata": {},
   "source": [
    "#### 解答例"
   ]
  },
  {
   "cell_type": "code",
   "execution_count": null,
   "metadata": {
    "collapsed": true,
    "id": "answer",
    "scrolled": true
   },
   "outputs": [],
   "source": [
    "town = {\"Aichi\": \"Nagoya\", \"Kanagawa\": \"Yokohama\", \"Hokkaido\": \"Sapporo\"}\n",
    "\n",
    "# for文を用いて出力してください\n",
    "for prefecture, capital in town.items():\n",
    "        print(prefecture, capital)"
   ]
  },
  {
   "cell_type": "markdown",
   "metadata": {},
   "source": [
    "***"
   ]
  },
  {
   "cell_type": "markdown",
   "metadata": {
    "id": "chapter_exam"
   },
   "source": [
    "## 2.6 添削問題"
   ]
  },
  {
   "cell_type": "markdown",
   "metadata": {
    "collapsed": true,
    "id": "description"
   },
   "source": [
    "商品の値段と個数を表示し、金額に対してお釣りの額を表示するプログラムを作成してもらいます。"
   ]
  },
  {
   "cell_type": "markdown",
   "metadata": {},
   "source": [
    "#### 問題"
   ]
  },
  {
   "cell_type": "markdown",
   "metadata": {
    "id": "question"
   },
   "source": [
    "- 変数itemsをfor文でループさせてください。ただし変数をitemとしてください。\n",
    "- for文の中の処理\n",
    "    - 「＊＊は一個＊＊円です」と出力してください。 \n",
    "    - 変数total_priceに値段×個数を足して代入してください。\n",
    "- 「支払金額は＊＊円です」と出力してください。\n",
    "- 変数moneyに好きな値を代入してください。\n",
    "- money > total_priceの時「お釣りは＊＊円です」と出力してください。\n",
    "- money = total_priceの時「お釣りはありません」と出力してください。\n",
    "- money < total_priceの時「お金が足りません」と出力してください。\n",
    "- 出力はprint関数を用いてください。"
   ]
  },
  {
   "cell_type": "code",
   "execution_count": null,
   "metadata": {
    "collapsed": true,
    "id": "index"
   },
   "outputs": [],
   "source": [
    "items = {\"eracer\" : [100, 2], \"pen\" : [200, 3], \"notebook\" : [400,5]}\n",
    "total_price = 0\n",
    "\n",
    "# 変数itemsをfor文を変数itemでループさせてください\n",
    "\n",
    "    \n",
    "    # 「＊＊は一個＊＊円で、＊＊個購入します」と出力してください\n",
    "    \n",
    "    # 変数total_priceに値段×個数を足して代入してください\n",
    "    \n",
    "\n",
    "# 「支払金額は＊＊円です」と出力してください\n",
    "\n",
    "# 変数moneyに好きな値を代入してください\n",
    "\n",
    "\n",
    "# money > total_priceの時「お釣りは＊＊円です」と出力してください\n",
    "\n",
    "\n",
    "# money == total_priceの時「お釣りはありません」と出力してください\n",
    "\n",
    "\n",
    "# money < total_priceの時「お金が足りません」と出力してください\n",
    "\n"
   ]
  },
  {
   "cell_type": "markdown",
   "metadata": {},
   "source": [
    "#### ヒント"
   ]
  },
  {
   "cell_type": "markdown",
   "metadata": {
    "id": "hint"
   },
   "source": [
    "- for文でループしたい範囲はインデントで示します。\n",
    "- 数値型を文字列型に変換するにはstr型を用います。\n",
    "- 辞書型のバリューがリストの時は二つ目の`[]`で要素を指定することができます。\n",
    "- 文字列型を数値型に変換するにはint型を用います。\n",
    "- `if`,`elif`,`else`をうまく使いましょう。"
   ]
  },
  {
   "cell_type": "markdown",
   "metadata": {},
   "source": [
    "#### 解答例"
   ]
  },
  {
   "cell_type": "code",
   "execution_count": null,
   "metadata": {
    "collapsed": true,
    "id": "answer",
    "scrolled": true
   },
   "outputs": [],
   "source": [
    "items = {\"eracer\" : [100, 2], \"pen\" : [200, 3], \"notebook\" : [400,5]}\n",
    "total_price = 0\n",
    "\n",
    "# 変数itemsをfor文を変数itemでループさせてください。\n",
    "for item in items:\n",
    "    \n",
    "    # 「＊＊は一個＊＊円で、＊＊個購入します」と出力してください\n",
    "    print(item + \"は一個\" + str(items[item][0]) + \"円で、\" \n",
    "          + str(items[item][1]) + \"個購入します\")\n",
    "    # 変数total_priceに値段×個数を足して代入してください。\n",
    "    total_price += items[item][0] * items[item][1]\n",
    "\n",
    "# 「支払金額は＊＊円です」と出力してください\n",
    "print(\"支払い金額は\" + str(total_price) + \"円です\")\n",
    "# 変数moneyに好きな値を代入してください。\n",
    "money = 4000\n",
    "\n",
    "# money > total_priceの時「お釣りは＊＊円です」と出力してください\n",
    "if money > total_price:\n",
    "    print(\"お釣りは\" + str(money - total_price) + \"円です\")\n",
    "# money == total_priceの時「お釣りはありません」と出力してください\n",
    "elif money == total_price:\n",
    "    print(\"お釣りはありません\")\n",
    "# money < total_priceの時「お金が足りません」と出力してください\n",
    "else:\n",
    "    print(\"お金が足りません\")"
   ]
  },
  {
   "cell_type": "markdown",
   "metadata": {
    "collapsed": true,
    "id": "commentary"
   },
   "source": [
    "```python\n",
    "items = {\"eracer\" : [100, 2], \"pen\" : [200, 3], \"notebook\" : [400,5]}\n",
    "print(items[\"pen\"][1])\n",
    "```\n",
    "出力結果： `3`\n",
    "\n",
    "`items[\"キー\"]`によってバリューであるリストのことを取り出すことができます。つまり`items[\"キー\"][\"index番号\"]`によりバリューの要素を取り出すことができます。\n",
    "\n",
    "そのため今回の課題の値段と個数は、`items[item][0], items[item][1]`により取り出すことが可能です。\n",
    "\n",
    "`str()`の`()`の中で演算子を用いることは可能です。\n"
   ]
  },
  {
   "cell_type": "markdown",
   "metadata": {},
   "source": [
    "***"
   ]
  }
 ],
 "metadata": {
  "celltoolbar": "Edit Metadata",
  "kernelspec": {
   "display_name": "Python 3",
   "language": "python",
   "name": "python3"
  },
  "language_info": {
   "codemirror_mode": {
    "name": "ipython",
    "version": 3
   },
   "file_extension": ".py",
   "mimetype": "text/x-python",
   "name": "python",
   "nbconvert_exporter": "python",
   "pygments_lexer": "ipython3",
   "version": "3.6.4"
  },
  "latex_envs": {
   "LaTeX_envs_menu_present": true,
   "autoclose": false,
   "autocomplete": true,
   "bibliofile": "biblio.bib",
   "cite_by": "apalike",
   "current_citInitial": 1,
   "eqLabelWithNumbers": true,
   "eqNumInitial": 1,
   "hotkeys": {
    "equation": "Ctrl-E",
    "itemize": "Ctrl-I"
   },
   "labels_anchors": false,
   "latex_user_defs": false,
   "report_style_numbering": false,
   "user_envs_cfg": false
  },
  "toc": {
   "base_numbering": 1,
   "nav_menu": {},
   "number_sections": true,
   "sideBar": true,
   "skip_h1_title": false,
   "title_cell": "Table of Contents",
   "title_sidebar": "Contents",
   "toc_cell": false,
   "toc_position": {},
   "toc_section_display": true,
   "toc_window_display": true
  },
  "varInspector": {
   "cols": {
    "lenName": 16,
    "lenType": 16,
    "lenVar": 40
   },
   "kernels_config": {
    "python": {
     "delete_cmd_postfix": "",
     "delete_cmd_prefix": "del ",
     "library": "var_list.py",
     "varRefreshCmd": "print(var_dic_list())"
    },
    "r": {
     "delete_cmd_postfix": ") ",
     "delete_cmd_prefix": "rm(",
     "library": "var_list.r",
     "varRefreshCmd": "cat(var_dic_list()) "
    }
   },
   "types_to_exclude": [
    "module",
    "function",
    "builtin_function_or_method",
    "instance",
    "_Feature"
   ],
   "window_display": false
  }
 },
 "nbformat": 4,
 "nbformat_minor": 2
}