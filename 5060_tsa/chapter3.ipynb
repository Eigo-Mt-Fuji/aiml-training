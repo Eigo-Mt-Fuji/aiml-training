{
 "cells": [
  {
   "cell_type": "markdown",
   "metadata": {
    "chapterId": "BkjrOCXZxZf",
    "id": "chapter_name"
   },
   "source": [
    "#  時系列データの前処理"
   ]
  },
  {
   "cell_type": "markdown",
   "metadata": {
    "id": "table"
   },
   "source": [
    "- **[3.1時系列データをpandasで扱う](#3.1-時系列データをpandasで扱う)**\n",
    "    - **[3.1.1 データの読み込みと表示](#3.1.1-)**\n",
    "    - **[3.1.2 日付データの変換](#3.1.2-)**\n",
    "    - **[3.1.3 データの確認と表示](#3.1.3-)**\n",
    "<br><br>\n",
    "- **[3.2 時系列データを定常過程にする方法](#3.3-)**\n",
    "    - **[3.2.1 トレンド成分・季節変動の除去](#3.3.1-)**\n",
    "    - **[3.2.2 対数変換を用いる](#3.3.2-)**\n",
    "    - **[3.2.3 移動平均を用いる](#3.3.3-)**\n",
    "    - **[3.2.4 階差を用いる](#3.3.4-)**\n",
    "    - **[3.2.5 季節調整を行う](#3.3.5-)**\n",
    "<br><br>\n",
    "- **[3.3 添削問題](#3.5-添削問題)**"
   ]
  },
  {
   "cell_type": "markdown",
   "metadata": {
    "id": "section_name",
    "sectionId": "Bk2HO0m-x-f"
   },
   "source": [
    "## 3.1 時系列データをpandasで扱う"
   ]
  },
  {
   "cell_type": "markdown",
   "metadata": {
    "courseId": 5060,
    "exerciseId": "r1rSchLjLlf",
    "id": "code_session_name",
    "important": true,
    "isDL": false,
    "timeoutSecs": 5
   },
   "source": [
    "### 3.1.1 データの読み込みと表示"
   ]
  },
  {
   "cell_type": "markdown",
   "metadata": {
    "id": "description"
   },
   "source": [
    "時系列データを分析するには与えられたデータに対して幾つかの処理を行わなければなりません。このセクションではCSV形式で与えられた時系列データの扱いについて学んでいきましょう。 <br>\n",
    "まずは、データをpandasで読み込んで表示させてみます。\n",
    "pandasの読み込みには`pd.read_csv()`引数に`filepath_or_buffer=`**\"読み込み元のファイルのパスや URL を指定\"**を用います。\n",
    "読み込んだデータの先頭を調べたいときは`df.head(データ数)`、後尾を調べたいときには`df.tail(データ数)`を用います。\n",
    "\n",
    "head, tailはそれぞれ先頭、後尾から５つのデータを取り出す関数でした。"
   ]
  },
  {
   "cell_type": "markdown",
   "metadata": {},
   "source": [
    "#### 問題"
   ]
  },
  {
   "cell_type": "markdown",
   "metadata": {
    "id": "question"
   },
   "source": [
    "- head, tailを用いてスパークリングワインの売上データについてCSVデータをpandasで読み込んで、その先頭5つと後尾5つのデータを表示させてください。\n",
    "- csvデータの拡張子は\".csv\"です。"
   ]
  },
  {
   "cell_type": "code",
   "execution_count": null,
   "metadata": {
    "id": "index"
   },
   "outputs": [],
   "source": [
    "import numpy as np\n",
    "import pandas as pd\n",
    "import matplotlib.pyplot as plt\n",
    "import statsmodels.api as sm\n",
    "from pandas import datetime\n",
    "%matplotlib inline\n",
    "\n",
    "# データの読み込みと整理\n",
    "sales_sparkling = pd.read_csv(filepath_or_buffer = \"https://aidemyexcontentsdata.blob.core.windows.net/data/5060_tsa/monthly-australian-wine-sales-th-sparkling.csv\")\n",
    "\n",
    "# 先頭5つのデータを表示、.head()を用いてください\n",
    "print(#ここに答えを書き込んでください)\n",
    "# 後尾5つのデータを表示、.tail()を用いてください\n",
    "print(#ここに答えを書き込んでください"
   ]
  },
  {
   "cell_type": "markdown",
   "metadata": {},
   "source": [
    "#### ヒント"
   ]
  },
  {
   "cell_type": "markdown",
   "metadata": {
    "id": "hint"
   },
   "source": [
    "- pandasの読み込みには`pd.read_csv(\"CSVデータファイル名\")`を用います\n",
    "\n",
    "- 読み込んだデータの先頭を調べたいときは`df.head(データ数)`、後尾を調べたいときには`df.tail(データ数)`を用います"
   ]
  },
  {
   "cell_type": "markdown",
   "metadata": {},
   "source": [
    "#### 解答例"
   ]
  },
  {
   "cell_type": "code",
   "execution_count": null,
   "metadata": {
    "id": "answer"
   },
   "outputs": [],
   "source": [
    "import numpy as np\n",
    "import pandas as pd\n",
    "import matplotlib.pyplot as plt\n",
    "import statsmodels.api as sm\n",
    "from pandas import datetime\n",
    "%matplotlib inline\n",
    "\n",
    "# データの読み込みと整理\n",
    "sales_sparkling = pd.read_csv(filepath_or_buffer = \"https://aidemyexcontentsdata.blob.core.windows.net/data/5060_tsa/monthly-australian-wine-sales-th-sparkling.csv\")\n",
    "\n",
    "# 先頭5つのデータを表示\n",
    "print(sales_sparkling.head(5))\n",
    "# 後尾5つのデータを表示\n",
    "print(sales_sparkling.tail(5))"
   ]
  },
  {
   "cell_type": "markdown",
   "metadata": {},
   "source": [
    "***"
   ]
  },
  {
   "cell_type": "markdown",
   "metadata": {
    "courseId": 5060,
    "exerciseId": "SJIH52LiLlG",
    "id": "code_session_name",
    "important": false,
    "isDL": false,
    "timeoutSecs": 5
   },
   "source": [
    "### 3.1.2 時間情報をインデックスにする"
   ]
  },
  {
   "cell_type": "markdown",
   "metadata": {
    "id": "description"
   },
   "source": [
    "時系列データを分析する際は時間情報(先程の例ですとMonthのデータ)をpandasのインデックス(先程の例では一番左端にある0, 1, 2 ......の部分)にすることでデータを扱いやすくします。\n",
    "この加工は、\n",
    "\n",
    "1.index情報を`pd.date_range(\"開始時\", \"終了時\", freq=\"間隔\")`にまとめる <br>\n",
    "2.その情報をもとのデータのインデックスに代入する <br>\n",
    "3.もとのデータの\"Month\"を削除する <br>\n",
    "\n",
    "の手順で行います。\n",
    "例えば、2017/1/1～2018/1/1の期間を日にち間隔で収集したい場合は、\n",
    "pd.date_range(\"2017-01-01\", \"2018-01-01\", freq = \"D\")の様に引数を渡しましょう。\n",
    "\n",
    "freqには、収集したい間隔の頭文字を渡しましょう。\n",
    "（second➡S, minute➡M, hour➡H, Day➡D, Month➡M）\n",
    "\n",
    "\"開始時\"や\"終了時\"、\"間隔\"に関しては`df.head()`, `df.tail()`によって確認して決定します。\n",
    "\n",
    "また今回のスパークリングワインのような月ごとのデータの場合は月末の日付を自分で設定したほうが扱いやすくなります。"
   ]
  },
  {
   "cell_type": "markdown",
   "metadata": {},
   "source": [
    "#### 問題"
   ]
  },
  {
   "cell_type": "markdown",
   "metadata": {
    "id": "question"
   },
   "source": [
    "- 先程読み込んだデータのインデックスに日付データを代入してください。\n",
    "- \"開始時\"、\"終了時’は前セクションも参考にしてください、\"間隔\"は\"M\"(月ごと)にしてください。\n",
    "- \"1980-01-31\"から\"1995-07-31\"を指定してください"
   ]
  },
  {
   "cell_type": "code",
   "execution_count": null,
   "metadata": {
    "id": "index"
   },
   "outputs": [],
   "source": [
    "import numpy as np\n",
    "import pandas as pd\n",
    "import matplotlib.pyplot as plt\n",
    "import statsmodels.api as sm\n",
    "from pandas import datetime\n",
    "%matplotlib inline\n",
    "\n",
    "# データの読み込みと整理\n",
    "sales_sparkling = pd.read_csv(filepath_or_buffer = \"https://aidemyexcontentsdata.blob.core.windows.net/data/5060_tsa/monthly-australian-wine-sales-th-sparkling.csv\")\n",
    "\n",
    "\n",
    "# インデックスデータの作成\n",
    "index = pd.date_range(#ここに答えを書き込んでください,freq = \"M\")\n",
    "\n",
    "# インデックスデータの代入\n",
    "sales_sparkling.index = index\n",
    "\n",
    "# \"Month\"カラムの削除\n",
    "# ここに答えを書き込んでください\n",
    "\n",
    "# データの表示    \n",
    "print(sales_sparkling.head())"
   ]
  },
  {
   "cell_type": "markdown",
   "metadata": {},
   "source": [
    "#### ヒント"
   ]
  },
  {
   "cell_type": "markdown",
   "metadata": {
    "id": "hint"
   },
   "source": [
    "- Monthカラムの削除は`del sales_sparkling[\"Month\"]`で行われます\n",
    "- インデックスデータの作成では月末日を設定します"
   ]
  },
  {
   "cell_type": "markdown",
   "metadata": {},
   "source": [
    "#### 解答例"
   ]
  },
  {
   "cell_type": "code",
   "execution_count": null,
   "metadata": {
    "id": "answer"
   },
   "outputs": [],
   "source": [
    "import numpy as np\n",
    "import pandas as pd\n",
    "import matplotlib.pyplot as plt\n",
    "import statsmodels.api as sm\n",
    "from pandas import datetime\n",
    "%matplotlib inline\n",
    "\n",
    "# データの読み込みと整理\n",
    "sales_sparkling = pd.read_csv(filepath_or_buffer = \"https://aidemyexcontentsdata.blob.core.windows.net/data/5060_tsa/monthly-australian-wine-sales-th-sparkling.csv\")\n",
    "# インデックスデータの作成\n",
    "index = pd.date_range(\"1980-01-31\", \"1995-07-31\", freq = \"M\")\n",
    "# インデックスデータの代入\n",
    "sales_sparkling.index = index\n",
    "# \"Month\"カラムの削除\n",
    "del sales_sparkling[\"Month\"]\n",
    "# データの表示   \n",
    "print(sales_sparkling.head())"
   ]
  },
  {
   "cell_type": "markdown",
   "metadata": {},
   "source": [
    "***"
   ]
  },
  {
   "cell_type": "markdown",
   "metadata": {
    "courseId": 5060,
    "exerciseId": "HyPHc2LoLeM",
    "id": "code_session_name",
    "important": false,
    "isDL": false,
    "timeoutSecs": 5
   },
   "source": [
    "### 3.1.3 折れ線グラフで表示"
   ]
  },
  {
   "cell_type": "markdown",
   "metadata": {
    "id": "description"
   },
   "source": [
    "最後に整理したデータを折れ線グラフで表してみましょう"
   ]
  },
  {
   "cell_type": "markdown",
   "metadata": {},
   "source": [
    "#### 問題"
   ]
  },
  {
   "cell_type": "markdown",
   "metadata": {
    "id": "question"
   },
   "source": [
    "- いままで整理してきたスパークリングワインの売上データを折れ線グラフで表してください。\n",
    "- ___の中に適切な変数を入れて折れ線グラフを出力してください。"
   ]
  },
  {
   "cell_type": "code",
   "execution_count": null,
   "metadata": {
    "id": "index"
   },
   "outputs": [],
   "source": [
    "import numpy as np\n",
    "import pandas as pd\n",
    "import matplotlib.pyplot as plt\n",
    "import statsmodels.api as sm\n",
    "from pandas import datetime\n",
    "%matplotlib inline\n",
    "\n",
    "# データの読み込みと整理\n",
    "sales_sparkling = pd.read_csv(filepath_or_buffer = \"https://aidemyexcontentsdata.blob.core.windows.net/data/5060_tsa/monthly-australian-wine-sales-th-sparkling.csv\")\n",
    "# インデックスデータの作成\n",
    "index = pd.date_range(\"1980-01-31\", \"1995-07-31\", freq = \"M\")\n",
    "# インデックスデータの代入\n",
    "sales_sparkling.index = index\n",
    "# \"Month\"カラムの削除\n",
    "del sales_sparkling[\"Month\"]\n",
    "\n",
    "# データを折れ線グラフで表します\n",
    "# グラフのタイトルを設定\n",
    "plt.title(\"monthly-australian-wine-sales-th-sparkling\")\n",
    "# グラフのx軸とy軸の名前設定\n",
    "plt.xlabel(\"date\")\n",
    "plt.ylabel(\"sales\")\n",
    "\n",
    "# データのプロット\n",
    "# ここに答えを入力してください\n",
    "plt.plot(_____)\n",
    "plt.show()"
   ]
  },
  {
   "cell_type": "markdown",
   "metadata": {},
   "source": [
    "#### ヒント"
   ]
  },
  {
   "cell_type": "markdown",
   "metadata": {
    "id": "hint"
   },
   "source": [
    "- 折れ線グラフの出力は`plt.plot(DATA)`でできます。"
   ]
  },
  {
   "cell_type": "markdown",
   "metadata": {},
   "source": [
    "#### 解答例"
   ]
  },
  {
   "cell_type": "code",
   "execution_count": null,
   "metadata": {
    "id": "answer"
   },
   "outputs": [],
   "source": [
    "import numpy as np\n",
    "import pandas as pd\n",
    "import matplotlib.pyplot as plt\n",
    "import statsmodels.api as sm\n",
    "from pandas import datetime\n",
    "%matplotlib inline\n",
    "\n",
    "# データの読み込みと整理\n",
    "sales_sparkling = pd.read_csv(filepath_or_buffer = \"https://aidemyexcontentsdata.blob.core.windows.net/data/5060_tsa/monthly-australian-wine-sales-th-sparkling.csv\")\n",
    "# インデックスデータの作成\n",
    "index = pd.date_range(\"1980-01-31\", \"1995-07-31\", freq = \"M\")\n",
    "# インデックスデータの代入\n",
    "sales_sparkling.index = index\n",
    "# \"Month\"カラムの削除\n",
    "del sales_sparkling[\"Month\"]\n",
    "\n",
    "\n",
    "# データを折れ線グラフで表します\n",
    "# グラフのタイトルを設定\n",
    "plt.title(\"monthly-australian-wine-sales-th-sparkling\")\n",
    "# グラフのx軸とy軸の名前設定\n",
    "plt.xlabel(\"date\")\n",
    "plt.ylabel(\"sales\")\n",
    "# データのプロット\n",
    "plt.plot(sales_sparkling)\n",
    "plt.show()"
   ]
  },
  {
   "cell_type": "markdown",
   "metadata": {},
   "source": [
    "***"
   ]
  },
  {
   "cell_type": "markdown",
   "metadata": {
    "courseId": 5060,
    "exerciseId": "Hy_S5nIs8gf",
    "id": "quiz_session_name",
    "important": false,
    "isDL": false,
    "timeoutSecs": 5
   },
   "source": [
    "### 3.1.4 時系列データを非定常にしているもの"
   ]
  },
  {
   "cell_type": "markdown",
   "metadata": {
    "id": "description"
   },
   "source": [
    "前チャプターで定常性の重要さについて説明しましたが、時系列データが定常性を持たないとき、その理由は何でしょうか。<br>\n",
    "これには\n",
    "\n",
    "・**トレンド**\n",
    "\n",
    "・**季節変動**\n",
    "\n",
    "の二つの要因が考えられます。<br>\n",
    "**トレンド** に関しては定常性の条件である、期待値が一定という条件を思い出してみてください。もしもデータが正のトレンドを有していれば、その期待値も上昇傾向にあるため定常性があるとは言えません。\n",
    "\n",
    "**季節変動** に関しては定常性の条件である自己相関係数(つまりデータの値の散らばり具合)が一定という条件を思い出してください。おでんのようにある時期において急激に売り上げの増加するような時系列データはこの条件を満たしません。\n",
    "\n",
    "これらが、時系列データを非定常にしているのであればどのようにして非定常な時系列データを定常性ある時系列データに変換できるでしょうか。答えは簡単で、 **トレンド** 、 **季節変動** を取り除くような変換を行えばいいのです。\n",
    "\n",
    "**トレンド** 、 **季節変動** を取り除き,時系列データを定常化した上で分析を行い、定常化したデータのモデルを構築する。そして再び **トレンド** や **季節変動** を合成することで原系列のモデルを構築する。ARIMAモデルは、このような流れで時系列データのモデリングを行います。(正確に言えば季節変動がある場合はSARIMAモデルと言われるモデルを扱います)"
   ]
  },
  {
   "cell_type": "markdown",
   "metadata": {},
   "source": [
    "#### 問題"
   ]
  },
  {
   "cell_type": "markdown",
   "metadata": {
    "id": "question"
   },
   "source": [
    "- 次の[]を埋める言葉の組み合わせを選んでください\n",
    "- 時系列データを非定常にする要因は[]と[]である"
   ]
  },
  {
   "cell_type": "markdown",
   "metadata": {
    "id": "choices"
   },
   "source": [
    "1. トレンド,季節変動\n",
    "1. トレンド,誤差\n",
    "1. 誤差,季節変動\n",
    "1. 階差,誤差"
   ]
  },
  {
   "cell_type": "markdown",
   "metadata": {},
   "source": [
    "#### ヒント"
   ]
  },
  {
   "cell_type": "markdown",
   "metadata": {
    "id": "hint"
   },
   "source": [
    "- ARIMAモデルやSARIMAモデルの構築はトレンド、季節変動を取り除き,時系列データを定常化した上で分析を行い、定常化したデータのモデルを構築する。そして再びトレンドや季節変動を合成することで原系列のモデルを構築する、という流れで行われます。"
   ]
  },
  {
   "cell_type": "markdown",
   "metadata": {},
   "source": [
    "#### 解答"
   ]
  },
  {
   "cell_type": "markdown",
   "metadata": {
    "collapsed": true,
    "id": "answer"
   },
   "source": [
    "1. トレンド,季節変動"
   ]
  },
  {
   "cell_type": "markdown",
   "metadata": {},
   "source": [
    "***"
   ]
  },
  {
   "cell_type": "markdown",
   "metadata": {
    "id": "section_name",
    "sectionId": "HJTBdCQblWG"
   },
   "source": [
    "## 3.2 時系列データを定常性にする方法"
   ]
  },
  {
   "cell_type": "markdown",
   "metadata": {
    "courseId": 5060,
    "exerciseId": "HyKBq28oLlf",
    "id": "quiz_session_name",
    "important": true,
    "isDL": false,
    "timeoutSecs": 5
   },
   "source": [
    "### 3.2.1 トレンド・季節変動の除去"
   ]
  },
  {
   "cell_type": "markdown",
   "metadata": {
    "id": "description"
   },
   "source": [
    "時系列を定常過程にする方法は\n",
    "\n",
    "**対数変換** によって、変動の **分散** を一様にしたり\n",
    "\n",
    "**移動平均を取ることによってトレンドを推定した後に、トレンド成分を除去する**\n",
    "\n",
    "**階差系列に変換することでトレンド・季節変動を除去する**\n",
    "\n",
    "**季節調整を利用する**\n",
    "\n",
    "などがあります。"
   ]
  },
  {
   "cell_type": "markdown",
   "metadata": {},
   "source": [
    "#### 問題"
   ]
  },
  {
   "cell_type": "markdown",
   "metadata": {
    "id": "question"
   },
   "source": [
    "- 時系列データを定常過程にする方法に当てはまるものはどれでしょうか"
   ]
  },
  {
   "cell_type": "markdown",
   "metadata": {
    "id": "choices"
   },
   "source": [
    "- 移動平均を取ることによってトレンドを推定した後に、トレンド成分を除去する\n",
    "- 階差系列に変換することでトレンド・季節変動を除去する\n",
    "- 季節調整を利用する\n",
    "- 上記のすべて"
   ]
  },
  {
   "cell_type": "markdown",
   "metadata": {},
   "source": [
    "#### ヒント"
   ]
  },
  {
   "cell_type": "markdown",
   "metadata": {
    "id": "hint"
   },
   "source": [
    "- トレンドと季節成分を除去することが時系列データを定常過程にする方法です。"
   ]
  },
  {
   "cell_type": "markdown",
   "metadata": {},
   "source": [
    "#### 解答"
   ]
  },
  {
   "cell_type": "markdown",
   "metadata": {
    "id": "answer"
   },
   "source": [
    "上記のすべて"
   ]
  },
  {
   "cell_type": "markdown",
   "metadata": {},
   "source": [
    "***"
   ]
  },
  {
   "cell_type": "markdown",
   "metadata": {
    "courseId": 5060,
    "exerciseId": "r1crcnIoLxz",
    "id": "code_session_name",
    "important": true,
    "isDL": false,
    "timeoutSecs": 5
   },
   "source": [
    "### 3.2.2 対数変換を用いる方法"
   ]
  },
  {
   "cell_type": "markdown",
   "metadata": {
    "id": "description"
   },
   "source": [
    "　前も説明したように対数変換を行うことで、データの変動を穏やかにできます。対数をとることで、数字が大きければ大きいほど、小さめの数に結果が出力されるためです。<br>\n",
    "つまり、変動の激しい時系列に対して自己共分散を一様にすることができます。\n",
    " \n",
    " 実際に時系列を対数変換してみましょう。対数変換してもトレンドを除去できない場合はさらにトレンドを除去するなどしなくてはなりません。\n",
    " 対数変換には`np.log()`を用います。"
   ]
  },
  {
   "cell_type": "markdown",
   "metadata": {},
   "source": [
    "\n",
    "#### 問題"
   ]
  },
  {
   "cell_type": "markdown",
   "metadata": {
    "id": "question"
   },
   "source": [
    "- 次の各年の太陽の黒点の数を表した時系列データを対数変換してみましょう"
   ]
  },
  {
   "cell_type": "code",
   "execution_count": null,
   "metadata": {
    "id": "index"
   },
   "outputs": [],
   "source": [
    "import pandas as pd\n",
    "import matplotlib.pyplot as plt\n",
    "import statsmodels.api as sm\n",
    "from pandas import datetime\n",
    "%matplotlib inline\n",
    "import numpy as np\n",
    "\n",
    "# データの読み込み\n",
    "sunspots = sm.datasets.sunspots.load_pandas().data\n",
    "sunspots.index = pd.Index(sm.tsa.datetools.dates_from_range(\"1700\", \"2008\"))\n",
    "del sunspots[\"YEAR\"]\n",
    "\n",
    "# 対数変換\n",
    "sunspots_log = #ここに書き込んでください\n",
    "\n",
    "# 対数変換後のグラフ\n",
    "plt.title(\"Sunspots\")\n",
    "plt.xlabel(\"date\")\n",
    "plt.ylabel(\"sunspots_log\")\n",
    "plt.plot(sunspots_log)\n",
    "plt.show()"
   ]
  },
  {
   "cell_type": "markdown",
   "metadata": {},
   "source": [
    "#### ヒント"
   ]
  },
  {
   "cell_type": "markdown",
   "metadata": {
    "id": "hint"
   },
   "source": [
    "- 対数変換には`np.log`を用います"
   ]
  },
  {
   "cell_type": "markdown",
   "metadata": {},
   "source": [
    "#### 解答例"
   ]
  },
  {
   "cell_type": "code",
   "execution_count": null,
   "metadata": {
    "id": "answer"
   },
   "outputs": [],
   "source": [
    "import pandas as pd\n",
    "import matplotlib.pyplot as plt\n",
    "import statsmodels.api as sm\n",
    "from pandas import datetime\n",
    "%matplotlib inline\n",
    "\n",
    "import numpy as np\n",
    "# データの読み込み\n",
    "sunspots = sm.datasets.sunspots.load_pandas().data\n",
    "sunspots.index = pd.Index(sm.tsa.datetools.dates_from_range(\"1700\", \"2008\"))\n",
    "del sunspots[\"YEAR\"]\n",
    "# 対数変換\n",
    "sunspots_log = np.log(sunspots)\n",
    "# 対数変換後のグラフ\n",
    "plt.title(\"Sunspots\")\n",
    "plt.xlabel(\"date\")\n",
    "plt.ylabel(\"sunspots_log\")\n",
    "plt.plot(sunspots_log)\n",
    "plt.show()"
   ]
  },
  {
   "cell_type": "markdown",
   "metadata": {},
   "source": [
    "***"
   ]
  },
  {
   "cell_type": "markdown",
   "metadata": {
    "courseId": 5060,
    "exerciseId": "BkoBcnUiUlz",
    "id": "code_session_name",
    "important": false,
    "isDL": false,
    "timeoutSecs": 5
   },
   "source": [
    "### 3.2.3 移動平均を用いる"
   ]
  },
  {
   "cell_type": "markdown",
   "metadata": {
    "id": "description"
   },
   "source": [
    "　移動平均をとるには、k個の連続する値の平均値をとります。\n",
    " \n",
    " 移動平均とは時系列データのある一定の区間で”平均”をとる、ということを区間を”移動”させながら繰り返すことです。\n",
    " \n",
    " こうすることで、元のデータの特徴を残しつつ、データを滑らかにすることができます。\n",
    " \n",
    " 例えば月ごとのデータに季節変動がある場合、12個の連続する値の移動平均を求めることで、季節変動を除去することができトレンド成分を抽出することができます。\n",
    "\n",
    "　次に、もとめた移動平均をもとの系列から引き算します。こうすることで系列のトレンド成分を除去することができます。"
   ]
  },
  {
   "cell_type": "markdown",
   "metadata": {},
   "source": [
    "#### 問題"
   ]
  },
  {
   "cell_type": "markdown",
   "metadata": {
    "id": "question"
   },
   "source": [
    "- マウナロア観測所のCO2濃度のデータについて、51週間ごと(ちょうど一年間)の移動平均をとり、トレンドを確認してみましょう。\n",
    "- また、原系列から移動平均を引いたデータが定常過程に近づいていることを確認してください。"
   ]
  },
  {
   "cell_type": "code",
   "execution_count": null,
   "metadata": {
    "id": "index"
   },
   "outputs": [],
   "source": [
    "import pandas as pd\n",
    "import matplotlib.pyplot as plt\n",
    "import statsmodels.api as sm\n",
    "from pandas import datetime\n",
    "%matplotlib inline\n",
    "import numpy as np\n",
    "\n",
    "co2_tsdata = sm.datasets.co2.load_pandas().data\n",
    "# 欠損値の処理\n",
    "co2_tsdata2 = co2_tsdata.fillna(method=\"ffill\")\n",
    "# 原系列のグラフ\n",
    "plt.subplot(6, 1, 1)\n",
    "plt.xlabel(\"date\")\n",
    "plt.ylabel(\"co2\")\n",
    "plt.plot(co2_tsdata2)\n",
    "# 移動平均を求める\n",
    "co2_moving_avg = co2_tsdata2.rolling(window=51).mean()\n",
    "# 移動平均のグラフ\n",
    "plt.subplot(6, 1, 3)\n",
    "plt.xlabel(\"date\")\n",
    "plt.ylabel(\"co2\")\n",
    "plt.plot(co2_moving_avg)\n",
    "# 原系列-移動平均グラフ\n",
    "plt.subplot(6, 1, 5)\n",
    "plt.xlabel(\"date\")\n",
    "plt.ylabel(\"co2\")\n",
    "mov_diff_co2_tsdata = co2_tsdata2-co2_moving_avg \n",
    "plt.plot(mov_diff_co2_tsdata)\n",
    "plt.show()\n",
    "# 何も書き込まず実行してください"
   ]
  },
  {
   "cell_type": "markdown",
   "metadata": {},
   "source": [
    "#### ヒント"
   ]
  },
  {
   "cell_type": "markdown",
   "metadata": {
    "id": "hint"
   },
   "source": [
    "- 移動平均は`DATA.rolling(window=何個分の移動平均をとるか).mean()`によって求めることができます"
   ]
  },
  {
   "cell_type": "markdown",
   "metadata": {},
   "source": [
    "#### 解答"
   ]
  },
  {
   "cell_type": "code",
   "execution_count": null,
   "metadata": {
    "id": "answer"
   },
   "outputs": [],
   "source": [
    "import pandas as pd\n",
    "import matplotlib.pyplot as plt\n",
    "import statsmodels.api as sm\n",
    "from pandas import datetime\n",
    "%matplotlib inline\n",
    "import numpy as np\n",
    "\n",
    "co2_tsdata = sm.datasets.co2.load_pandas().data\n",
    "# 欠損値の処理\n",
    "co2_tsdata2 = co2_tsdata.fillna(method=\"ffill\")\n",
    "# 原系列のグラフ\n",
    "plt.subplot(6, 1, 1)\n",
    "plt.xlabel(\"date\")\n",
    "plt.ylabel(\"co2\")\n",
    "plt.plot(co2_tsdata2)\n",
    "# 移動平均を求める\n",
    "co2_moving_avg = co2_tsdata2.rolling(window=51).mean()\n",
    "# 移動平均のグラフ\n",
    "plt.subplot(6, 1, 3)\n",
    "plt.xlabel(\"date\")\n",
    "plt.ylabel(\"co2\")\n",
    "plt.plot(co2_moving_avg)\n",
    "# 原系列-移動平均グラフ\n",
    "plt.subplot(6, 1, 5)\n",
    "plt.xlabel(\"date\")\n",
    "plt.ylabel(\"co2\")\n",
    "mov_diff_co2_tsdata = co2_tsdata2-co2_moving_avg \n",
    "plt.plot(mov_diff_co2_tsdata)\n",
    "plt.show()\n",
    "# 何も書き込まず実行してください"
   ]
  },
  {
   "cell_type": "markdown",
   "metadata": {},
   "source": [
    "***"
   ]
  },
  {
   "cell_type": "markdown",
   "metadata": {
    "courseId": 5060,
    "exerciseId": "Hk2HqnIiUlf",
    "id": "code_session_name",
    "important": false,
    "isDL": false,
    "timeoutSecs": 10
   },
   "source": [
    "### 3.2.4 階差をとる"
   ]
  },
  {
   "cell_type": "markdown",
   "metadata": {
    "id": "description"
   },
   "source": [
    "前チャプターで学んだ階差系列への変換は定常性を持たせるために用いられる最も一般的な方法です。\n",
    "階差を取ることでトレンドと季節変動を除去することができます。\n",
    "\n",
    "階差系列は、時系列データの中の隣り合うデータ同士で引き算していった系列のことでした。<br>\n",
    "例えば`[1, 5, 3, 5, 3, 2, 2, 9]`という時系列データの階差系列は`[4, -2, 2, -2, -1, 0, 7]`です。\n",
    "\n",
    "1次の階差は`DATA.diff()`によって求められます。\n",
    "\n",
    "もし、生成した階差系列からさらに階差系列をとると２次の階差系列ということになります。"
   ]
  },
  {
   "cell_type": "markdown",
   "metadata": {},
   "source": [
    "#### 問題"
   ]
  },
  {
   "cell_type": "markdown",
   "metadata": {
    "id": "question"
   },
   "source": [
    "- マウナロア観測所の二酸化炭素濃度のデータを1階差系列に変換して、原系列が定常過程に近づいていることを確認してみましょう。"
   ]
  },
  {
   "cell_type": "code",
   "execution_count": null,
   "metadata": {
    "id": "index"
   },
   "outputs": [],
   "source": [
    "import pandas as pd\n",
    "import matplotlib.pyplot as plt\n",
    "import statsmodels.api as sm\n",
    "from pandas import datetime\n",
    "%matplotlib inline\n",
    "import numpy as np\n",
    "\n",
    "co2_tsdata = sm.datasets.co2.load_pandas().data\n",
    "# 欠損値の処理\n",
    "co2_tsdata2 = co2_tsdata.fillna(method=\"ffill\")\n",
    "# 原系列のプロット\n",
    "plt.subplot(2, 1, 1)\n",
    "plt.xlabel(\"date\")\n",
    "plt.ylabel(\"co2\")\n",
    "plt.plot(co2_tsdata2)\n",
    "# 階差をとる\n",
    "plt.subplot(2, 1, 2)\n",
    "plt.xlabel(\"date\")\n",
    "plt.ylabel(\"co2_diff\")\n",
    "\n",
    "co2_data_diff = #ここに書き込んでください\n",
    "\n",
    "# 階差系列のプロット\n",
    "plt.plot(co2_data_diff)\n",
    "plt.show()"
   ]
  },
  {
   "cell_type": "markdown",
   "metadata": {},
   "source": [
    "#### ヒント"
   ]
  },
  {
   "cell_type": "markdown",
   "metadata": {
    "id": "hint"
   },
   "source": [
    "- 1次の階差は`DATA.diff()`によって求められます。"
   ]
  },
  {
   "cell_type": "markdown",
   "metadata": {},
   "source": [
    "#### 解答例"
   ]
  },
  {
   "cell_type": "code",
   "execution_count": null,
   "metadata": {
    "id": "answer"
   },
   "outputs": [],
   "source": [
    "import pandas as pd\n",
    "import matplotlib.pyplot as plt\n",
    "import statsmodels.api as sm\n",
    "from pandas import datetime\n",
    "%matplotlib inline\n",
    "import numpy as np\n",
    "\n",
    "co2_tsdata = sm.datasets.co2.load_pandas().data\n",
    "# 欠損値の処理\n",
    "co2_tsdata2 = co2_tsdata.fillna(method=\"ffill\")\n",
    "# 原系列のプロット\n",
    "plt.subplot(2, 1, 1)\n",
    "plt.xlabel(\"date\")\n",
    "plt.ylabel(\"co2\")\n",
    "plt.plot(co2_tsdata2)\n",
    "# 階差をとる\n",
    "plt.subplot(2, 1, 2)\n",
    "plt.xlabel(\"date\")\n",
    "plt.ylabel(\"co2_diff\")\n",
    "co2_data_diff = co2_tsdata2.diff()\n",
    "# 階差系列のプロット\n",
    "plt.plot(co2_data_diff)\n",
    "plt.show()"
   ]
  },
  {
   "cell_type": "markdown",
   "metadata": {},
   "source": [
    "***"
   ]
  },
  {
   "cell_type": "markdown",
   "metadata": {
    "courseId": 5060,
    "exerciseId": "SJpB9n8iLlf",
    "id": "code_session_name",
    "important": false,
    "isDL": false,
    "timeoutSecs": 30
   },
   "source": [
    "### 3.2.5 季節調整の利用"
   ]
  },
  {
   "cell_type": "markdown",
   "metadata": {
    "id": "description"
   },
   "source": [
    "前チャプターで階差系列について学びました。そのときは原系列をトレンド、季節変動、残差に分けました。\n",
    "この変換は <br>\n",
    "(原系列 = トレンド + 季節変動 + 残差) <br>\n",
    "のように表されますからこの式を変換して <br>\n",
    "原系列 - トレンド - 季節変動 = 残差 <br>\n",
    "となります。つまり残差はトレンドと季節変動が取り除かれた定常性のある時系列データになっています。\n",
    "その残差が定常過程になっているを確認してください"
   ]
  },
  {
   "cell_type": "markdown",
   "metadata": {},
   "source": [
    "#### 問題"
   ]
  },
  {
   "cell_type": "markdown",
   "metadata": {
    "id": "question"
   },
   "source": [
    "- マウナロアの二酸化炭素濃度のデータをトレンド、季節変動、残差に分けて残差データが定常過程に近づいていることを確認してください。"
   ]
  },
  {
   "cell_type": "code",
   "execution_count": null,
   "metadata": {
    "id": "index"
   },
   "outputs": [],
   "source": [
    "import pandas as pd\n",
    "import matplotlib.pyplot as plt\n",
    "import statsmodels.api as sm\n",
    "from pandas import datetime\n",
    "%matplotlib inline\n",
    "import numpy as np\n",
    "# データの読み込み\n",
    "co2_tsdata = sm.datasets.co2.load_pandas().data\n",
    "# 欠損値の処理\n",
    "co2_tsdata2 = co2_tsdata.dropna()\n",
    "# 季節調整とグラフのプロット\n",
    "res = sm.tsa.seasonal_decompose(co2_tsdata2,freq=51)\n",
    "fig = res.plot()\n",
    "plt.show()\n",
    "# 何も書き込まず実行してください"
   ]
  },
  {
   "cell_type": "markdown",
   "metadata": {},
   "source": [
    "#### ヒント"
   ]
  },
  {
   "cell_type": "markdown",
   "metadata": {
    "id": "hint"
   },
   "source": [
    "- 残差データはトレンド成分や季節成分が除去されます。"
   ]
  },
  {
   "cell_type": "markdown",
   "metadata": {},
   "source": [
    "#### 解答例"
   ]
  },
  {
   "cell_type": "code",
   "execution_count": 1,
   "metadata": {
    "id": "answer"
   },
   "outputs": [
    {
     "name": "stderr",
     "output_type": "stream",
     "text": [
      "/anaconda3/lib/python3.6/site-packages/statsmodels/compat/pandas.py:56: FutureWarning: The pandas.core.datetools module is deprecated and will be removed in a future version. Please use the pandas.tseries module instead.\n",
      "  from pandas.core import datetools\n"
     ]
    },
    {
     "data": {
      "image/png": "[encoded data removed]",
      "text/plain": [
       "<matplotlib.figure.Figure at 0x1082cadd8>"
      ]
     },
     "metadata": {},
     "output_type": "display_data"
    }
   ],
   "source": [
    "import pandas as pd\n",
    "import matplotlib.pyplot as plt\n",
    "import statsmodels.api as sm\n",
    "from pandas import datetime\n",
    "%matplotlib inline\n",
    "import numpy as np\n",
    "# データの読み込み\n",
    "co2_tsdata = sm.datasets.co2.load_pandas().data\n",
    "# 欠損値の処理\n",
    "co2_tsdata2 = co2_tsdata.dropna()\n",
    "# 季節調整とグラフのプロット\n",
    "res = sm.tsa.seasonal_decompose(co2_tsdata2,freq=51)\n",
    "fig = res.plot()\n",
    "plt.show()\n",
    "# 何も書き込まず実行してください"
   ]
  },
  {
   "cell_type": "markdown",
   "metadata": {},
   "source": [
    "***"
   ]
  },
  {
   "cell_type": "markdown",
   "metadata": {
    "id": "chapter_exam"
   },
   "source": [
    "## 3.3 添削問題"
   ]
  },
  {
   "cell_type": "markdown",
   "metadata": {
    "id": "description"
   },
   "source": []
  },
  {
   "cell_type": "markdown",
   "metadata": {},
   "source": [
    "#### 問題"
   ]
  },
  {
   "cell_type": "markdown",
   "metadata": {
    "id": "question"
   },
   "source": [
    "- スパークリングワインの売上データを読み込んだのち、整理して、季節調整を行って残差を表示させましょう。"
   ]
  },
  {
   "cell_type": "code",
   "execution_count": null,
   "metadata": {
    "id": "index"
   },
   "outputs": [],
   "source": [
    "import numpy as np\n",
    "import pandas as pd\n",
    "import matplotlib.pyplot as plt\n",
    "import statsmodels.api as sm\n",
    "from pandas import datetime\n",
    "%matplotlib inline\n",
    "\n",
    "#データの読み込みと整理\n",
    "#ここに答えを書き込んでください\n",
    "\n",
    "#インデックスデータの作成\n",
    "#ここに答えを書き込んでください\n",
    "\n",
    "#インデックスデータの代入\n",
    "#ここに答えを書き込んでください\n",
    "\n",
    "#\"Month\"カラムの削除\n",
    "#ここに答えを書き込んでください\n",
    "\n",
    "#データを折れ線グラフで表します\n",
    "# グラフのタイトルを設定\n",
    "plt.title(\"monthly-australian-wine-sales-th-sparkling-Resid\")\n",
    "# グラフのx軸とy軸の名前設定\n",
    "plt.xlabel(\"date\")\n",
    "plt.ylabel(\"sales-Resid\")\n",
    "\n",
    "#季節調整を行います\n",
    "res = #ここに答えを書き込んでください\n",
    "\n",
    "#残差を折れ線グラフで表します\n",
    "#ここに答えを書き込んでください"
   ]
  },
  {
   "cell_type": "markdown",
   "metadata": {},
   "source": [
    "#### ヒント"
   ]
  },
  {
   "cell_type": "markdown",
   "metadata": {
    "id": "hint"
   },
   "source": [
    "- 季節調整の際`freq=12`としましょう。\n",
    "- 残差の出力は`plt.plot(res.resid)`で行うことができます。"
   ]
  },
  {
   "cell_type": "markdown",
   "metadata": {},
   "source": [
    "#### 解答例"
   ]
  },
  {
   "cell_type": "code",
   "execution_count": null,
   "metadata": {
    "id": "answer"
   },
   "outputs": [],
   "source": [
    "import numpy as np\n",
    "import pandas as pd\n",
    "import matplotlib.pyplot as plt\n",
    "import statsmodels.api as sm\n",
    "from pandas import datetime\n",
    "%matplotlib inline\n",
    "\n",
    "# データの読み込みと整理\n",
    "sales_sparkring = pd.read_csv(\"monthly-australian-wine-sales-th-sparkling.csv\")\n",
    "# インデックスデータの作成\n",
    "index = pd.date_range(\"1980-01-31\", \"1995-07-31\", freq = \"M\")\n",
    "# インデックスデータの代入\n",
    "sales_sparkring.index = index\n",
    "# \"Month\"カラムの削除\n",
    "del sales_sparkring[\"Month\"]\n",
    "\n",
    "# データを折れ線グラフで表します\n",
    "# グラフのタイトルを設定\n",
    "plt.title(\"monthly-australian-wine-sales-th-sparkling-Resid\")\n",
    "# グラフのx軸とy軸の名前設定\n",
    "plt.xlabel(\"date\")\n",
    "plt.ylabel(\"sales-Resid\")\n",
    "\n",
    "#　季節調整を行います\n",
    "res = sm.tsa.seasonal_decompose(sales_sparkring, freq=12)\n",
    "#　残差を折れ線グラフで表します\n",
    "plt.plot(res.resid)"
   ]
  },
  {
   "cell_type": "markdown",
   "metadata": {},
   "source": [
    "#### 解説"
   ]
  },
  {
   "cell_type": "markdown",
   "metadata": {
    "id": "commentary"
   },
   "source": [
    "コメントが各コードの解説になっています。\n",
    "```python\n",
    "#データの読み込みと整理\n",
    "sales_sparkring = pd.read_csv(\"monthly-australian-wine-sales-th-sparkling.csv\")\n",
    "#インデックスデータの作成\n",
    "index = pd.date_range(\"1980-01-31\", \"1995-07-31\", freq = \"M\")\n",
    "#インデックスデータの代入\n",
    "sales_sparkring.index = index\n",
    "#\"Month\"カラムの削除\n",
    "del sales_sparkring[\"Month\"]\n",
    "\n",
    "#データを折れ線グラフで表します\n",
    "# グラフのタイトルを設定\n",
    "plt.title(\"monthly-australian-wine-sales-th-sparkling-Resid\")\n",
    "# グラフのx軸とy軸の名前設定\n",
    "plt.xlabel(\"date\")\n",
    "plt.ylabel(\"sales-Resid\")\n",
    "\n",
    "#季節調整を行います\n",
    "res = sm.tsa.seasonal_decompose(sales_sparkring, freq=12)\n",
    "#残差を折れ線グラフで表します\n",
    "plt.plot(res.resid)```"
   ]
  },
  {
   "cell_type": "markdown",
   "metadata": {},
   "source": [
    "***"
   ]
  },
  {
   "cell_type": "code",
   "execution_count": null,
   "metadata": {},
   "outputs": [],
   "source": []
  }
 ],
 "metadata": {
  "celltoolbar": "Edit Metadata",
  "kernelspec": {
   "display_name": "Python 3",
   "language": "python",
   "name": "python3"
  },
  "language_info": {
   "codemirror_mode": {
    "name": "ipython",
    "version": 3
   },
   "file_extension": ".py",
   "mimetype": "text/x-python",
   "name": "python",
   "nbconvert_exporter": "python",
   "pygments_lexer": "ipython3",
   "version": "3.6.4"
  },
  "toc": {
   "base_numbering": 1,
   "nav_menu": {},
   "number_sections": true,
   "sideBar": true,
   "skip_h1_title": false,
   "title_cell": "Table of Contents",
   "title_sidebar": "Contents",
   "toc_cell": false,
   "toc_position": {
    "height": "calc(100% - 180px)",
    "left": "10px",
    "top": "150px",
    "width": "228px"
   },
   "toc_section_display": true,
   "toc_window_display": true
  }
 },
 "nbformat": 4,
 "nbformat_minor": 2
}