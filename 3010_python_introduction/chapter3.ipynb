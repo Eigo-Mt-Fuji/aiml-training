{
 "cells": [
  {
   "cell_type": "markdown",
   "metadata": {
    "chapterId": "B19uCmWx-G",
    "id": "chapter_name"
   },
   "source": [
    "# 関数の基礎"
   ]
  },
  {
   "cell_type": "markdown",
   "metadata": {
    "id": "table"
   },
   "source": [
    "- **[3.1 組み込み関数とメソッド](#3.1-組み込み関数とメソッド)**\n",
    "    - **[3.1.1 関数の基礎と組み込み関数](#3.1.1-関数の基礎と組み込み関数)**\n",
    "    - **[3.1.2 関数とメソッド](#3.1.2-関数とメソッド)**\n",
    "    - **[3.1.3 文字列型のメソッド（upper/count）](#3.1.3-文字列型のメソッド（upper/count）)**\n",
    "    - **[3.1.4 文字列型のメソッド（format）](#3.1.4-文字列型のメソッド（format）)**\n",
    "    - **[3.1.5 リスト型のメソッド（index）](#3.1.5-リスト型のメソッド（index）)**\n",
    "    - **[3.1.6 リスト型のメソッド（sort）](#3.1.6-リスト型のメソッド（sort）)**\n",
    "<br><br>\n",
    "- **[3.2 関数](#3.2-関数)**\n",
    "    - **[3.2.1 関数の作成](#3.2.1-関数の作成)**\n",
    "    - **[3.2.2 引数](#3.2.2-引数)**\n",
    "    - **[3.2.3 複数の引数](#3.2.3-複数の引数)**\n",
    "    - **[3.2.4 引数の初期値](#3.2.4-引数の初期値)**\n",
    "    - **[3.2.5 return](#3.2.5-return)**\n",
    "    - **[3.2.6 関数のインポート](#3.2.6-関数のインポート)**\n",
    "<br><br>\n",
    "- **[3.3 クラス](#3.3-クラス)**\n",
    "    - **[3.3.1 オブジェクト](#3.3.1-オブジェクト)**\n",
    "    - **[3.3.2 クラス（メンバとコンストラクタ）](#3.3.2-クラス（メンバとコンストラクタ）)**\n",
    "    - **[3.3.3 クラス（メソッド）](#3.3.3-クラス（メソッド）)**\n",
    "    - **[3.3.4 クラス（継承、オーバーライド、スーパー）](#3.3.4-クラス（継承、オーバーライド、スーパー）)**\n",
    "<br><br>\n",
    "- **[3.4 Appendix](#3.4-Appendix)**\n",
    "    - **[3.4.1 文字列のフォーマット指定](#3.4.1-文字列のフォーマット指定)**\n",
    "<br><br>\n",
    "- **[3.5 このコースのまとめ](#3.5-このコースのまとめ)**\n",
    "<br><br>\n",
    "- **[3.5 添削問題](#3.5-添削問題)**\n"
   ]
  },
  {
   "cell_type": "markdown",
   "metadata": {},
   "source": [
    "***"
   ]
  },
  {
   "cell_type": "markdown",
   "metadata": {
    "id": "section_name",
    "sectionId": "ryjuRXWxWf"
   },
   "source": [
    "## 3.1 組み込み関数とメソッド"
   ]
  },
  {
   "cell_type": "markdown",
   "metadata": {
    "courseId": 3010,
    "exerciseId": "BkKEYlPxM",
    "id": "code_session_name",
    "important": true,
    "isDL": false,
    "timeoutSecs": 5
   },
   "source": [
    "### 3.1.1 関数の基礎と組み込み関数"
   ]
  },
  {
   "cell_type": "markdown",
   "metadata": {
    "id": "description"
   },
   "source": [
    " **<font color=#AA0000>関数</font>** は、**特定の処理をまとめたプログラム** です。誰でも自由に定義することが可能で、ライブラリやフレームワークと呼ばれるパッケージも存在します。関数の` ()`内に入力する値のことを「 **引数** (ひきすう)」またはパラメータと呼びます。\n",
    "\n",
    "一方、 **<font color=#AA0000>組み込み関数</font>** とは、効率的にプログラミングするために **Pythonにあらかじめ定義されている関数** のことです。`print(), type(), int()`や`str()`なども組み込み関数になります。\n",
    "それ以外によく使われる組み込み関数としては、`len()`があります。`len()`は**オブジェクトの長さや要素の数** を取得するときに使用します。<br>\n",
    "\n",
    "`len()`の引数には、str型(文字列型)とlist型(リスト型)を使うことができますが、int型(整数型)、float型(浮動小数点型)、bool型(真偽値型)などは使用できません。つまり、 **関数ごとに使える引数の型** は決まっているということです。関数に使用できる型を確認したい場合には、「Python言語リファレンス」などのwebページを参照しましょう。\n",
    "\n",
    "なお、関数に使用できない引数を入力した場合には、プログラムが上手く動かずにエラーが出力されます。\n",
    "\n",
    "◎正しい引数の使用例\n",
    "```python\n",
    "len(\"tomato\")  # 「6」と出力される\n",
    "len([1,2,3])  # 「3」と出力される\n",
    "```\n",
    "\n",
    "☓誤った引数の使用例\n",
    "```python\n",
    "len(3)  # 「TypeError: object of type 'int' has no len()」というエラーを出力\n",
    "len(2.1)  # 「TypeError: object of type 'float' has no len()」というエラーを出力\n",
    "len(True)  # 「TypeError: object of type 'bool' has no len()」というエラーを出力\n",
    "```\n",
    "\n",
    "***\n",
    "変数名に組み込み関数と同じ名前をつけてしまうと、組み込み関数が上書きされてしまい、コードが正常に動かなくなる可能性があります。変数に組み込み関数と同じ名前を付けないように注意しましょう。"
   ]
  },
  {
   "cell_type": "markdown",
   "metadata": {},
   "source": [
    "#### 問題"
   ]
  },
  {
   "cell_type": "markdown",
   "metadata": {
    "id": "question"
   },
   "source": [
    "- 変数`vege`のオブジェクトの長さを`len()`と`print()`を用いて出力してください。\n",
    "- 変数`n`のオブジェクトの長さを`len()`と`print()`を用いて出力してください。\n",
    "- 出力はprint関数を用いてください。"
   ]
  },
  {
   "cell_type": "code",
   "execution_count": null,
   "metadata": {
    "id": "index"
   },
   "outputs": [],
   "source": [
    "vege = \"potato\"\n",
    "n = [4, 5, 2, 7, 6]\n",
    "\n",
    "# 変数vegeのオブジェクトの長さを出力してください\n",
    "\n",
    "\n",
    "# 変数nのオブジェクトの長さを出力してください\n"
   ]
  },
  {
   "cell_type": "markdown",
   "metadata": {},
   "source": [
    "#### ヒント"
   ]
  },
  {
   "cell_type": "markdown",
   "metadata": {
    "id": "hint"
   },
   "source": [
    "- `len([2, 4, 5])  # 出力結果 3`\n",
    "- `len(\"hello\")  # 出力結果 5`"
   ]
  },
  {
   "cell_type": "markdown",
   "metadata": {},
   "source": [
    "#### 解答例"
   ]
  },
  {
   "cell_type": "code",
   "execution_count": null,
   "metadata": {
    "id": "answer"
   },
   "outputs": [],
   "source": [
    "vege = \"potato\"\n",
    "n = [4, 5, 2, 7, 6]\n",
    "\n",
    "# 変数vegeのオブジェクトの長さを出力してください\n",
    "print(len(vege))\n",
    "\n",
    "# 変数nのオブジェクトの長さを出力してください\n",
    "print(len(n))"
   ]
  },
  {
   "cell_type": "markdown",
   "metadata": {},
   "source": [
    "***"
   ]
  },
  {
   "cell_type": "markdown",
   "metadata": {
    "courseId": 3010,
    "exerciseId": "HyxtEKlwxG",
    "id": "quiz_session_name",
    "important": true,
    "isDL": false,
    "timeoutSecs": 5
   },
   "source": [
    "### 3.1.2 関数とメソッド"
   ]
  },
  {
   "cell_type": "markdown",
   "metadata": {
    "id": "description"
   },
   "source": [
    "関数の他に、特定の値に対して処理を行うものに **<font color=#AA0000>メソッド</font>** があります。実は、Chapter2で学んだ`append`もメソッドのひとつです。`append`は、リストに新しい要素を１つだけ追加したい場合に使用します。\n",
    "\n",
    "```python\n",
    "alphabet = [\"a\",\"b\",\"c\",\"d\",\"e\"]\n",
    "alphabet.append(\"f\")\n",
    "print(alphabet)  # [\"a\", \"b\", \"c\", \"d\", \"e\", \"f\"]が出力される\n",
    "```\n",
    "\n",
    "このように、メソッドは **`値.メソッド名()`** という形式で書きます。役割は関数とほぼ同じですが、書き方に違いがあります。\n",
    "\n",
    "-\t関数は処理する値を`()`の中に入力する\n",
    "-\tメソッドは`処理する値.メソッド()`と書く\n",
    "\n",
    "**メソッドも、処理できる値の型が決まっています**。例えば、`append()`の場合はリスト型にのみ対応しています。"
   ]
  },
  {
   "cell_type": "markdown",
   "metadata": {},
   "source": [
    "#### 問題"
   ]
  },
  {
   "cell_type": "markdown",
   "metadata": {
    "id": "question"
   },
   "source": [
    "- 以下のコードを実行した時の出力結果を選んでください。\n",
    "\n",
    "（1問目）\n",
    "```python\n",
    "alphabet = [\"b\", \"a\", \"e\", \"c\", \"d\"]\n",
    "sorted(alphabet)\n",
    "print(alphabet)\n",
    "```\n",
    "\n",
    "（2問目）\n",
    "```python\n",
    "alphabet = [\"b\", \"a\", \"e\", \"c\", \"d\"]\n",
    "alphabet.sort()\n",
    "print(alphabet)\n",
    "```"
   ]
  },
  {
   "cell_type": "markdown",
   "metadata": {
    "id": "choices"
   },
   "source": [
    "- 1問目：`[\"a\", \"b\", \"c\", \"d\", \"e\"]` 2問目：`[\"a\", \"b\", \"c\", \"d\", \"e\"]`\n",
    "- 1問目：`[\"a\", \"b\", \"c\", \"d\", \"e\"]` 2問目：`[\"b\", \"a\", \"e\", \"c\", \"d\"]`\n",
    "- 1問目：`[\"b\", \"a\", \"e\", \"c\", \"d\"]` 2問目：`[\"a\", \"b\", \"c\", \"d\", \"e\"]`\n",
    "- 1問目：`[\"b\", \"a\", \"e\", \"c\", \"d\"]` 2問目：`[\"b\", \"a\", \"e\", \"c\", \"d\"]`"
   ]
  },
  {
   "cell_type": "markdown",
   "metadata": {},
   "source": [
    "#### ヒント"
   ]
  },
  {
   "cell_type": "markdown",
   "metadata": {
    "id": "hint"
   },
   "source": [
    "- 「組み込み関数の`sorted()`」と「メソッドの`sort()`」の違いをよく確認しましょう。"
   ]
  },
  {
   "cell_type": "markdown",
   "metadata": {},
   "source": [
    "#### 解答"
   ]
  },
  {
   "cell_type": "markdown",
   "metadata": {
    "id": "answer"
   },
   "source": [
    "1問目：`[\"b\", \"a\", \"e\", \"c\", \"d\"]` 2問目：`[\"a\", \"b\", \"c\", \"d\", \"e\"]`"
   ]
  },
  {
   "cell_type": "markdown",
   "metadata": {},
   "source": [
    "***"
   ]
  },
  {
   "cell_type": "markdown",
   "metadata": {
    "courseId": 3010,
    "exerciseId": "S1-tEYgwxf",
    "id": "code_session_name",
    "important": true,
    "isDL": false,
    "timeoutSecs": 10
   },
   "source": [
    "### 3.1.3 文字列型のメソッド（upper/count）"
   ]
  },
  {
   "cell_type": "markdown",
   "metadata": {
    "id": "description"
   },
   "source": [
    "**`upper()`メソッド** と **`count()`メソッド**は、**文字列型のオブジェクトに使用できるメソッド** です。`upper()`は入力した文字列を全て大文字にして出力し、`count()`は文字列の中に含まれる指定した要素の個数を出力します。<br>\n",
    "\n",
    "```python\n",
    "city = \"Tokyo\"\n",
    "print(city.upper())  # 「TOKYO」が出力される\n",
    "print(city.count(\"o\"))  # 「2」が出力される。\n",
    "```"
   ]
  },
  {
   "cell_type": "markdown",
   "metadata": {},
   "source": [
    "#### 問題"
   ]
  },
  {
   "cell_type": "markdown",
   "metadata": {
    "id": "question"
   },
   "source": [
    "- 変数`animal_big`に変数`animal`に格納された文字列を大文字にしたものを代入してください。\n",
    "- 変数`animal`に「`e`」が何個存在するか出力してください。\n",
    "- 出力はprint関数を用いてください。"
   ]
  },
  {
   "cell_type": "code",
   "execution_count": null,
   "metadata": {
    "id": "index"
   },
   "outputs": [],
   "source": [
    "animal = \"elephant\"\n",
    "\n",
    "# 変数animal_bigに変数animalに格納された文字列を大文字にしたものを代入してください\n",
    "\n",
    "\n",
    "print(animal)\n",
    "print(animal_big)\n",
    "\n",
    "# 変数animalに「e」が何個存在するか出力してください\n"
   ]
  },
  {
   "cell_type": "markdown",
   "metadata": {},
   "source": [
    "#### ヒント"
   ]
  },
  {
   "cell_type": "markdown",
   "metadata": {
    "id": "hint"
   },
   "source": [
    "- `color = \"red\"`\n",
    "- `color.upper()`\n",
    "- `color.count(\"r\")`"
   ]
  },
  {
   "cell_type": "markdown",
   "metadata": {},
   "source": [
    "#### 解答例"
   ]
  },
  {
   "cell_type": "code",
   "execution_count": null,
   "metadata": {
    "id": "answer"
   },
   "outputs": [],
   "source": [
    "animal = \"elephant\"\n",
    "\n",
    "# 変数animal_bigに文字列を大文字にしたものを代入してください\n",
    "animal_big = animal.upper()\n",
    "\n",
    "print(animal)\n",
    "print(animal_big)\n",
    "\n",
    "# 変数animalに「e」が何個存在するか出力してください\n",
    "print(animal.count(\"e\"))"
   ]
  },
  {
   "cell_type": "markdown",
   "metadata": {},
   "source": [
    "***"
   ]
  },
  {
   "cell_type": "markdown",
   "metadata": {
    "courseId": 3010,
    "exerciseId": "B1zKVFlDxG",
    "id": "code_session_name",
    "important": true,
    "isDL": false,
    "timeoutSecs": 10
   },
   "source": [
    "### 3.1.4 文字列型のメソッド（format）"
   ]
  },
  {
   "cell_type": "markdown",
   "metadata": {
    "id": "description"
   },
   "source": [
    "**`format()`メソッド** は文字列型に使えるメソッドで、**文字列に変数を埋め込むことができます。** 主にテンプレートに変数の値を挿入するときに使用します。値を埋め込みたい箇所を`{}`で指定します。\n",
    "\n",
    "```python\n",
    "print(\"私は{}生まれ、{}育ち\".format(\"東京\", \"埼玉\"))\n",
    " #「私は東京生まれ、埼玉育ち」と出力される\n",
    "```\n",
    "\n",
    "`{}`に挿入する値は、挿入する順番を指定することも可能です。また、同じ値を繰り返し挿入することもできます。\n",
    "\n",
    "```python\n",
    "print(\"私は{1}生まれ、{0}育ち、{1}在住\".format(\"東京\", \"埼玉\"))\n",
    "# 「私は埼玉生まれ、東京育ち、埼玉在住」と出力される\n",
    "```"
   ]
  },
  {
   "cell_type": "markdown",
   "metadata": {},
   "source": [
    "#### 問題"
   ]
  },
  {
   "cell_type": "markdown",
   "metadata": {
    "id": "question"
   },
   "source": [
    "- `format()`を用いて「`bananaはyellowです`」と出力してください。\n",
    "- 出力はprint関数を用いてください。"
   ]
  },
  {
   "cell_type": "code",
   "execution_count": null,
   "metadata": {
    "id": "index"
   },
   "outputs": [],
   "source": [
    "fruit = \"banana\"\n",
    "color = \"yellow\"\n",
    "\n",
    "# 「bananaはyellowです」と出力してください\n"
   ]
  },
  {
   "cell_type": "markdown",
   "metadata": {},
   "source": [
    "#### ヒント"
   ]
  },
  {
   "cell_type": "markdown",
   "metadata": {
    "id": "hint"
   },
   "source": [
    "- `print(\"私は{}生まれ、{}育ち\".format(\"東京\", \"埼玉\"))`"
   ]
  },
  {
   "cell_type": "markdown",
   "metadata": {},
   "source": [
    "#### 解答例"
   ]
  },
  {
   "cell_type": "code",
   "execution_count": null,
   "metadata": {
    "id": "answer"
   },
   "outputs": [],
   "source": [
    "fruit = \"banana\"\n",
    "color = \"yellow\"\n",
    "\n",
    "# 「bananaはyellowです」と出力してください\n",
    "print(\"{}は{}です\".format(fruit, color))"
   ]
  },
  {
   "cell_type": "markdown",
   "metadata": {},
   "source": [
    "***"
   ]
  },
  {
   "cell_type": "markdown",
   "metadata": {
    "courseId": 3010,
    "exerciseId": "HkXF4tlDxG",
    "id": "code_session_name",
    "important": true,
    "isDL": false,
    "timeoutSecs": 10
   },
   "source": [
    "### 3.1.5 リスト型のメソッド（index）"
   ]
  },
  {
   "cell_type": "markdown",
   "metadata": {
    "id": "description"
   },
   "source": [
    "chapter2で学んだようにリスト型にはインデックス番号が存在します。 **インデックス番号とは、リストの中身を0から順番に数えた時の番号** でしたね。目的のオブジェクトが **どのインデックス番号にあるのか探すためのメソッド** として **`index()`** があります。<br>\n",
    "また、リスト型でも先ほど扱った`count()`メソッドを使うことができます。使い方は以下の通りです。\n",
    "```python\n",
    "alphabet = [\"a\", \"b\", \"c\", \"d\", \"d\"]\n",
    "print(alphabet.index(\"a\")  # インデックス番号0番目にあるので、「0」と出力されます\n",
    "print(alphabet.count(\"d\")  # \"d\"がインデックス番号3番目と4番目にあるので、「2」と出力されます\n",
    "```"
   ]
  },
  {
   "cell_type": "markdown",
   "metadata": {},
   "source": [
    "#### 問題"
   ]
  },
  {
   "cell_type": "markdown",
   "metadata": {
    "id": "question"
   },
   "source": [
    "- 「`2`」のインデックス番号を出力してください。\n",
    "- 変数nの中に「`6`」がいくつあるか出力してください。\n",
    "- 出力はprint関数を用いてください。"
   ]
  },
  {
   "cell_type": "code",
   "execution_count": null,
   "metadata": {
    "id": "index"
   },
   "outputs": [],
   "source": [
    "n = [3, 6, 8, 6, 3, 2, 4, 6]\n",
    "\n",
    "# 「2」のインデックス番号を出力してください\n",
    "\n",
    "\n",
    "# 変数nの中に「6」がいくつあるか出力してください\n",
    "\n"
   ]
  },
  {
   "cell_type": "markdown",
   "metadata": {},
   "source": [
    "#### ヒント"
   ]
  },
  {
   "cell_type": "markdown",
   "metadata": {
    "id": "hint"
   },
   "source": [
    "- `print()`を使う必要があります。\n",
    "- `n.index(2)`\n",
    "- `n.count(6)`"
   ]
  },
  {
   "cell_type": "markdown",
   "metadata": {},
   "source": [
    "#### 解答例"
   ]
  },
  {
   "cell_type": "code",
   "execution_count": null,
   "metadata": {
    "id": "answer"
   },
   "outputs": [],
   "source": [
    "n = [3, 6, 8, 6, 3, 2, 4, 6]\n",
    "\n",
    "# 「2」のインデックス番号を出力してください\n",
    "print(n.index(2))\n",
    "\n",
    "# 変数nの中に「6」がいくつあるか出力してください\n",
    "print(n.count(6))\n"
   ]
  },
  {
   "cell_type": "markdown",
   "metadata": {},
   "source": [
    "***"
   ]
  },
  {
   "cell_type": "markdown",
   "metadata": {
    "courseId": 3010,
    "exerciseId": "BkVY4KxvgG",
    "id": "code_session_name",
    "important": true,
    "isDL": false,
    "timeoutSecs": 10
   },
   "source": [
    "### 3.1.6 リスト型のメソッド（sort）"
   ]
  },
  {
   "cell_type": "markdown",
   "metadata": {
    "id": "description"
   },
   "source": [
    "リスト型のメソッドとしてよく用いられるものに「関数とメソッド」の章で扱った **`sort()メソッド`** があります。`sort()`メソッドはリストの中を小さい順にソートして並べ替えてくれます。 **`reverse()`メソッドを用いるとリストの要素の順番を反対** にすることができます。<br>\n",
    "なお、**`sort()`メソッドを使うと、リストの中身がそのまま変更されます。**<br>\n",
    "もし、単純に並べ替えたリストを参照したいだけであれば、組み込み関数の`sorted()`を扱うのが良いでしょう。\n",
    "\n",
    "`sort()`の利用例\n",
    "```python\n",
    "list = [1, 10, 2, 20]\n",
    "list.sort()\n",
    "print(list)  # [1, 2, 10, 20]と表示されます。\n",
    "```\n",
    "`reverse()`の利用例\n",
    "```python\n",
    "list = [\"あ\", \"い\", \"う\", \"え\", \"お\"]\n",
    "list.reverse()\n",
    "print(list)  # [\"お\", \"え\", \"う\", \"い\", \"あ\"]と表示されます。\n",
    "```"
   ]
  },
  {
   "cell_type": "markdown",
   "metadata": {},
   "source": [
    "#### 問題"
   ]
  },
  {
   "cell_type": "markdown",
   "metadata": {
    "id": "question"
   },
   "source": [
    "- 変数`n`をソートし、数字が小さい順になるように出力してください。\n",
    "- `n.reverse()`をもちいて、数字が小さい順になるようにソートされた変数`n`の要素の順番を反対にし、数字が大きい順になるように出力してください。\n",
    "- 出力はprint関数を用いてください。"
   ]
  },
  {
   "cell_type": "code",
   "execution_count": null,
   "metadata": {
    "id": "index"
   },
   "outputs": [],
   "source": [
    "n = [53, 26, 37, 69, 24, 2]\n",
    "\n",
    "# nをソートし、数字が小さい順になるように出力してください\n",
    "\n",
    "print(n)\n",
    "\n",
    "# 数字が小さい順になるようにソートされたnの要素の順番を反対にし、数字が大きい順になるように出力してください\n",
    "\n",
    "print(n)\n",
    "\n"
   ]
  },
  {
   "cell_type": "markdown",
   "metadata": {},
   "source": [
    "#### ヒント"
   ]
  },
  {
   "cell_type": "markdown",
   "metadata": {
    "id": "hint"
   },
   "source": [
    "- `リスト.sort()`\n",
    "- `リスト.reverse()`\n",
    "- リストの中身が直接書き換えられます。"
   ]
  },
  {
   "cell_type": "markdown",
   "metadata": {},
   "source": [
    "#### 解答例"
   ]
  },
  {
   "cell_type": "code",
   "execution_count": null,
   "metadata": {
    "id": "answer"
   },
   "outputs": [],
   "source": [
    "n = [53, 26, 37, 69, 24, 2]\n",
    "\n",
    "# nをソートし、数字が小さい順になるように出力してください\n",
    "n.sort()\n",
    "print(n)\n",
    "\n",
    "# 数字が小さい順になるようにソートされたnの要素の順番を反対にし、数字が大きい順になるように出力してください\n",
    "n.reverse()\n",
    "print(n)\n"
   ]
  },
  {
   "cell_type": "markdown",
   "metadata": {},
   "source": [
    "***"
   ]
  },
  {
   "cell_type": "markdown",
   "metadata": {
    "id": "section_name",
    "important": true,
    "sectionId": "Sk3dRXWgbf"
   },
   "source": [
    "## 3.2 関数"
   ]
  },
  {
   "cell_type": "markdown",
   "metadata": {
    "courseId": 3010,
    "exerciseId": "HySF4KxveG",
    "id": "code_session_name",
    "important": true,
    "isDL": false,
    "timeoutSecs": 5
   },
   "source": [
    "### 3.2.1 関数の作成"
   ]
  },
  {
   "cell_type": "markdown",
   "metadata": {
    "id": "description"
   },
   "source": [
    "新しい関数を作る場合には、「 **`def 関数名():`** 」という書き方をします。\n",
    "関数には必要な処理をまとめられるのでプログラムが簡潔になり、全体の動きが把握しやすくなるというメリットがあります。<br>\n",
    "\n",
    "関数の定義も、下記のように **インデントで処理の範囲を明示します。**\n",
    "\n",
    "```python\n",
    "def sing():\n",
    "    print (\"歌います！\")\n",
    "```\n",
    "\n",
    "また、定義した関数の呼び出しは「**`関数名()`**」と書きます。\n",
    "\n",
    "```\n",
    "sing()  # 歌います！と出力される\n",
    "```\n",
    "\n",
    "当然のことですが、定義していない関数を呼び出すとエラーが出力されます。\n",
    "プログラムは上から順番に読み込まれるので、関数の定義は呼び出しよりも前に記述しましょう。"
   ]
  },
  {
   "cell_type": "markdown",
   "metadata": {},
   "source": [
    "#### 問題"
   ]
  },
  {
   "cell_type": "markdown",
   "metadata": {
    "id": "question"
   },
   "source": [
    "- 「`Yamadaです`」と出力する関数`introduce`を作ってください。\n",
    "- 出力はprint関数を用いてください。"
   ]
  },
  {
   "cell_type": "code",
   "execution_count": null,
   "metadata": {
    "id": "index"
   },
   "outputs": [],
   "source": [
    "# 「Yamadaです」と出力する関数introduceを作ってください\n",
    "\n",
    "\n",
    "\n",
    "# 関数の呼び出し\n",
    "introduce()"
   ]
  },
  {
   "cell_type": "markdown",
   "metadata": {},
   "source": [
    "#### ヒント"
   ]
  },
  {
   "cell_type": "markdown",
   "metadata": {
    "id": "hint"
   },
   "source": [
    "- `def introduce():`"
   ]
  },
  {
   "cell_type": "markdown",
   "metadata": {},
   "source": [
    "#### 解答例"
   ]
  },
  {
   "cell_type": "code",
   "execution_count": null,
   "metadata": {
    "id": "answer"
   },
   "outputs": [],
   "source": [
    "# 「Yamadaです」と出力する関数introduceを作ってください\n",
    "def introduce():\n",
    "    print(\"Yamadaです\")\n",
    "\n",
    "# 関数の呼び出し\n",
    "introduce()"
   ]
  },
  {
   "cell_type": "markdown",
   "metadata": {},
   "source": [
    "***"
   ]
  },
  {
   "cell_type": "markdown",
   "metadata": {
    "courseId": 3010,
    "exerciseId": "H1LFEFgwez",
    "id": "code_session_name",
    "important": true,
    "isDL": false,
    "timeoutSecs": 5
   },
   "source": [
    "### 3.2.2 引数"
   ]
  },
  {
   "cell_type": "markdown",
   "metadata": {
    "id": "description"
   },
   "source": [
    "関数を定義する際に引数を設定しておけば、関数内でその値を使用できるようになります。引数は、`def 関数名(引数):`という形で指定します。\n",
    "\n",
    "```python\n",
    "def introduce(n):\n",
    "    print(n + \"です\")\n",
    "\n",
    "introduce(\"Yamada\")　# 「Yamadaです」と出力される\n",
    "```\n",
    "\n",
    "この時、 **引数を変数で指定すると、引数を直接変えなくても出力結果を変えること** ができます。\n",
    "\n",
    "```python\n",
    "def introduce(n):\n",
    "    print(n + \"です\")\n",
    "\n",
    "name=”Yamada”\n",
    "introduce(\"name\") 　# 「Yamadaです」と出力される\n",
    "\n",
    "name=”Tanaka”\n",
    "introduce(\"name\") 　# 「Tanakaです」と出力される\n",
    "```\n",
    "\n",
    "なお、関数内で定義した変数や引数は、関数内でのみ使用可能となります。"
   ]
  },
  {
   "cell_type": "markdown",
   "metadata": {},
   "source": [
    "#### 問題"
   ]
  },
  {
   "cell_type": "markdown",
   "metadata": {
    "id": "question"
   },
   "source": [
    "- 引数`n`を用いて、引数を３乗した値を表示する関数`cube_cal`を作ってください。 "
   ]
  },
  {
   "cell_type": "code",
   "execution_count": null,
   "metadata": {
    "id": "index"
   },
   "outputs": [],
   "source": [
    "# 引数nを用いて、引数を３乗した値を出力する関数cube_calを作ってください \n",
    "\n",
    "\n",
    "# 関数の呼び出し\n",
    "cube_cal(4)"
   ]
  },
  {
   "cell_type": "markdown",
   "metadata": {},
   "source": [
    "#### ヒント"
   ]
  },
  {
   "cell_type": "markdown",
   "metadata": {
    "id": "hint"
   },
   "source": [
    "- `def cube_cal(n):`\n",
    "- 乗数の計算を行う算術演算子は`**`です。"
   ]
  },
  {
   "cell_type": "markdown",
   "metadata": {},
   "source": [
    "#### 解答例"
   ]
  },
  {
   "cell_type": "code",
   "execution_count": null,
   "metadata": {
    "id": "answer"
   },
   "outputs": [],
   "source": [
    "# 引数nを用いて、引数を３乗した値を出力する関数cube_calを作ってください。\n",
    "def cube_cal(n):\n",
    "    print(n ** 3)\n",
    "\n",
    "# 関数の呼び出し\n",
    "cube_cal(4)"
   ]
  },
  {
   "cell_type": "markdown",
   "metadata": {},
   "source": [
    "***"
   ]
  },
  {
   "cell_type": "markdown",
   "metadata": {
    "courseId": 3010,
    "exerciseId": "SyvtVYlPgf",
    "id": "code_session_name",
    "important": true,
    "isDL": false,
    "timeoutSecs": 5
   },
   "source": [
    "### 3.2.3 複数の引数"
   ]
  },
  {
   "cell_type": "markdown",
   "metadata": {
    "id": "description"
   },
   "source": [
    "**引数はカンマで区切って複数指定することが可能** です。\n",
    "\n",
    "```python\n",
    "def introduce(first,family):\n",
    "    print(\"名字は\"+ family + \"で、名前は\"+ first + \"です。\")\n",
    "\n",
    "introduce(\"taro\",\"Yamada\")  #「名字はYamadaで、名前はtaroです。」と出力される\n",
    "```"
   ]
  },
  {
   "cell_type": "markdown",
   "metadata": {},
   "source": [
    "#### 問題"
   ]
  },
  {
   "cell_type": "markdown",
   "metadata": {
    "id": "question"
   },
   "source": [
    "- 第一引数`n`、第二引数`age`を用いて「`＊＊です。＊＊歳です。`」と出力する関数`introduce`を作ってください。\n",
    "- 関数`introduce`に「`Yamada`」「`18`」を引数として関数を呼びだしてください。\n",
    "- 「`Yamada`」は文字列、「`18`」は整数としてください。"
   ]
  },
  {
   "cell_type": "code",
   "execution_count": null,
   "metadata": {
    "id": "index"
   },
   "outputs": [],
   "source": [
    "# 関数introduceを作ってください\n",
    "\n",
    "\n",
    "# 関数の呼び出し\n",
    "\n"
   ]
  },
  {
   "cell_type": "markdown",
   "metadata": {},
   "source": [
    "#### ヒント"
   ]
  },
  {
   "cell_type": "markdown",
   "metadata": {
    "id": "hint"
   },
   "source": [
    "- `def introduce(n, age):`\n",
    "- 数値型を文字列型に変換してください。\n",
    "- `introduce(\"Yamada\", 18)`"
   ]
  },
  {
   "cell_type": "markdown",
   "metadata": {},
   "source": [
    "#### 解答例"
   ]
  },
  {
   "cell_type": "code",
   "execution_count": null,
   "metadata": {
    "id": "answer"
   },
   "outputs": [],
   "source": [
    "# 関数introduceを作ってください\n",
    "def introduce(n, age):\n",
    "    print(n + \"です。\" + str(age) + \"歳です。\")\n",
    "\n",
    "# 関数の呼び出し\n",
    "introduce(\"Yamada\", 18)\n"
   ]
  },
  {
   "cell_type": "markdown",
   "metadata": {},
   "source": [
    "***"
   ]
  },
  {
   "cell_type": "markdown",
   "metadata": {
    "courseId": 3010,
    "exerciseId": "HyOFNtgPgz",
    "id": "code_session_name",
    "important": false,
    "isDL": false,
    "timeoutSecs": 5
   },
   "source": [
    "### 3.2.4 引数の初期値"
   ]
  },
  {
   "cell_type": "markdown",
   "metadata": {
    "id": "description",
    "important": true
   },
   "source": [
    "引数に **<font color=#AA0000>初期(デフォルト)値</font>** を設定すると、引数が空欄の場合、自動的に初期値が設定されます。 **`引数 = 初期値`** という形で設定します。\n",
    "\n",
    "```python\n",
    "def introduce(family= \"Yamada\", first = \"Taro\"):\n",
    "    print(\"名字は\"+ family + \"で、名前は\"+ first + \"です。\")\n",
    "\n",
    "introduce(\"Suzuki\")　#「名字はSuzukiで、名前はTaroです。」と出力される\n",
    "```\n",
    "\n",
    "この場合は、`first`のみが初期値として設定され、`family`は` “Suzuki” `で上書きされています。\n",
    "\n",
    "なお、初期値を設定した引数の後ろの引数にも、必ず初期値を設定する必要があります。したがって、次のように後ろの引数にだけ初期値を設定することは可能です。\n",
    "\n",
    "```python\n",
    "def introduce(family,first = \"Taro\"):\n",
    "    print(\"名字は\"+ family + \"で、名前は\"+ first + \"です。\")\n",
    "```\n",
    "\n",
    "しかし、次のように前の引数にだけ初期値を設定し、後ろの引数に設定しないとエラーになります。\n",
    "\n",
    "```python\n",
    "def introduce(family = \"Suzuki\",first):\n",
    "    print(\"名字は\"+ family + \"で、名前は\"+ first + \"です。\")\n",
    "```\n",
    "この場合に出力されるエラーは、`non-default argument follows default argument`です。"
   ]
  },
  {
   "cell_type": "markdown",
   "metadata": {},
   "source": [
    "#### 問題"
   ]
  },
  {
   "cell_type": "markdown",
   "metadata": {
    "id": "question"
   },
   "source": [
    "- 引数`n`の初期値を「`Yamada`」にしてください。\n",
    "- 引数に「18」のみ入れて関数の呼び出しを行なってください。"
   ]
  },
  {
   "cell_type": "code",
   "execution_count": null,
   "metadata": {
    "id": "index"
   },
   "outputs": [],
   "source": [
    "# 初期値を設定してください\n",
    "def introduce(age, n):\n",
    "    print(n + \"です。\" + str(age) + \"歳です。\")\n",
    "\n",
    "# 関数の呼び出し\n",
    "\n"
   ]
  },
  {
   "cell_type": "markdown",
   "metadata": {},
   "source": [
    "#### ヒント"
   ]
  },
  {
   "cell_type": "markdown",
   "metadata": {
    "id": "hint"
   },
   "source": [
    "- 関数を定義する時点で`引数=初期値`とします。\n",
    "- 初期値を与えられた引数のあとに、初期値を与えられていない引数を置くことはできません。"
   ]
  },
  {
   "cell_type": "markdown",
   "metadata": {},
   "source": [
    "#### 解答例"
   ]
  },
  {
   "cell_type": "code",
   "execution_count": null,
   "metadata": {
    "id": "answer"
   },
   "outputs": [],
   "source": [
    "# 初期値を設定してください\n",
    "def introduce(age, n = \"Yamada\"):\n",
    "    print(n + \"です。\" + str(age) + \"歳です。\")\n",
    "\n",
    "# 関数の呼び出し\n",
    "introduce(18)\n"
   ]
  },
  {
   "cell_type": "markdown",
   "metadata": {},
   "source": [
    "***"
   ]
  },
  {
   "cell_type": "markdown",
   "metadata": {
    "courseId": 3010,
    "exerciseId": "SJtY4FevlG",
    "id": "code_session_name",
    "important": true,
    "isDL": false,
    "timeoutSecs": 5
   },
   "source": [
    "### 3.2.5 return"
   ]
  },
  {
   "cell_type": "markdown",
   "metadata": {
    "id": "description"
   },
   "source": [
    "関数で定義した変数や引数は関数外では使用できません。しかし、`return`を使用することで、**関数の呼び出し元に戻り値を渡す** ことができるようになります。\n",
    "`return`は値を出力する`print()`と時々混同されますが、出力するだけで戻り値のない`print()`とは処理が異なります。書き方は「 **`return 戻り値`** 」です。\n",
    "\n",
    "まずは、returnを使用しない例から見ていきましょう。\n",
    "\n",
    "```python\n",
    "def introduce(family = \"Yamada\",first = \"Taro\"):\n",
    "    comment = \"名字は\"+ family + \"で、名前は\"+ first + \"です。\"\n",
    "\n",
    "print(introduce(\"Suzuki\")) #Noneが出力される\n",
    "```\n",
    "\n",
    "こちらは戻り値がないので、出力結果が「None(なし)」になります。次にreturnを使用した例です。\n",
    "\n",
    "```python\n",
    "def introduce(family = \"Yamada\",first = \"Taro\"):\n",
    "    comment = \"名字は\"+ family + \"で、名前は\"+ first + \"です。\"\n",
    "    return comment　#関数に戻り値を渡す\n",
    "\n",
    "print(introduce(\"Suzuki\")) #「名字はSuzukiで、名前はTaroです。」と出力される\n",
    "```\n",
    "\n",
    "このように、returnを使用することで、関数の呼び出し元に戻り値を渡すことができるのです。"
   ]
  },
  {
   "cell_type": "markdown",
   "metadata": {},
   "source": [
    "#### 問題"
   ]
  },
  {
   "cell_type": "markdown",
   "metadata": {
    "id": "question"
   },
   "source": [
    "- `bmi`を計算する関数を作り、`bmi`の値を返り値としてください。\n",
    "- $bmi = \\frac{weight}{height^{2}}$で計算できます。\n",
    "- 2つの変数は、weight、heightを用いてください。"
   ]
  },
  {
   "cell_type": "code",
   "execution_count": null,
   "metadata": {
    "id": "index"
   },
   "outputs": [],
   "source": [
    "# bmiを計算する関数を作り、bmiの値を返り値としてください\n",
    "\n",
    "\n",
    "\n",
    "print(bmi(1.65, 65))"
   ]
  },
  {
   "cell_type": "markdown",
   "metadata": {},
   "source": [
    "#### ヒント"
   ]
  },
  {
   "cell_type": "markdown",
   "metadata": {
    "id": "hint"
   },
   "source": [
    "- `weight / height**2`を返しましょう"
   ]
  },
  {
   "cell_type": "markdown",
   "metadata": {},
   "source": [
    "#### 解答例"
   ]
  },
  {
   "cell_type": "code",
   "execution_count": null,
   "metadata": {
    "id": "answer"
   },
   "outputs": [],
   "source": [
    "# bmiを計算する関数を作り、bmiの値を返り値としてください\n",
    "def bmi(height, weight):\n",
    "    return weight / height**2\n",
    "\n",
    "print(bmi(1.65, 65))"
   ]
  },
  {
   "cell_type": "markdown",
   "metadata": {},
   "source": [
    "***"
   ]
  },
  {
   "cell_type": "markdown",
   "metadata": {
    "courseId": 3010,
    "exerciseId": "Hkl2bccdM",
    "id": "code_session_name",
    "important": true,
    "isDL": false,
    "timeoutSecs": 10
   },
   "source": [
    "### 3.2.6 関数のインポート"
   ]
  },
  {
   "cell_type": "markdown",
   "metadata": {
    "id": "description"
   },
   "source": [
    "関数には、 **<font color=#AA0000>パッケージ</font>** というものが存在します。パッケージは、 **同じような処理を行う複数の関数をセットにしたもの** で、web上で公開されています。このパッケージの中の関数を **<font color=#AA0000>モジュール</font>** と呼びます。\n",
    "\n",
    "<img src=\"https://aidemyexstorage.blob.core.windows.net/aidemycontents/1520098973942278.png\" width = 300>\n",
    "\n",
    "パッケージはたくさんありますが、そのひとつにtimeがあります。上図には3つしか書かれていませんが、timeパッケージには数十個のモジュールが含まれています。<br>\n",
    "\n",
    "プログラム内でパッケージを使用する際には、下記のような **<font color=#AA0000>インポート</font>** という処理が必要になります。\n",
    "\n",
    "```python\n",
    "import time　# timeパッケージをインポートする\n",
    "```\n",
    "\n",
    "インポートしたパッケージ内のモジュールを使用する場合は、 **`パッケージ名.モジュール名`** と書きます。下記の例ではtimeパッケージのtimeというモジュールを使用して、現在の時刻を出力しています。<br>\n",
    "\n",
    "```python\n",
    "now_time = time.time()　#現在時刻をnow_timeに代入する\n",
    "\n",
    "print(now_time)　#現在時刻が出力される\n",
    "```\n",
    "\n",
    "また、　**`from パッケージ名 import モジュール名`** という書き方で、モジュールを直接読み込む方法もあります。この場合はモジュール呼び出しの際に、パッケージ名が省略できます。<br>\n",
    "\n",
    "```python\n",
    "from time import time　# timeパッケージのtimeモジュールをインポートする\n",
    "\n",
    "now_time = time()　#パッケージ名を省略できる\n",
    "\n",
    "print(now_time) 　#現在時刻が出力される\n",
    "```\n",
    "***\n",
    "PythonにはPyPIというパッケージ管理システムが用意されており、time以外にもたくさんのパッケージが公開されています。\n",
    "\n",
    "しかし、PyPIに公開されている膨大な数のパッケージをひとつずつダウンロードしたり、インストールしたりするのは手間がかかりすぎます。\n",
    "そこで、パッケージ管理ではpipというツールを使用します。Pipを使用すれば、コマンドプロンプト (Windows以外であればterminal)で、 **`pip install パッケージ名`** と入力するだけでパッケージのインストールが完了するのです。\n"
   ]
  },
  {
   "cell_type": "markdown",
   "metadata": {},
   "source": [
    "#### 問題"
   ]
  },
  {
   "cell_type": "markdown",
   "metadata": {
    "id": "question"
   },
   "source": [
    "- fromを利用してtimeパッケージのtimeモジュールをインポートしてください。\n",
    "- time()を利用して、現在時刻を出力してください。"
   ]
  },
  {
   "cell_type": "code",
   "execution_count": null,
   "metadata": {
    "id": "index"
   },
   "outputs": [],
   "source": [
    "# fromを利用してtimeをインポートしてください\n",
    "from  import \n",
    "\n",
    "# now_timeに現在の時刻を代入してください\n",
    "now_time =\n",
    "\n",
    "print(now_time)"
   ]
  },
  {
   "cell_type": "markdown",
   "metadata": {},
   "source": [
    "#### ヒント"
   ]
  },
  {
   "cell_type": "markdown",
   "metadata": {
    "id": "hint"
   },
   "source": [
    "- 現在の時刻はtimeパッケージのtimeモジュールで出力できます。\n",
    "- モジュールを直接インポートしているので、`time.time()`で呼び出そうとしてもエラーになります。"
   ]
  },
  {
   "cell_type": "markdown",
   "metadata": {},
   "source": [
    "#### 解答例"
   ]
  },
  {
   "cell_type": "code",
   "execution_count": null,
   "metadata": {
    "id": "answer"
   },
   "outputs": [],
   "source": [
    "# fromを利用してtimeをインポートしてください\n",
    "from time import time\n",
    "\n",
    "# now_timeに現在の時刻を代入してください\n",
    "now_time = time()\n",
    "\n",
    "print(now_time)"
   ]
  },
  {
   "cell_type": "markdown",
   "metadata": {},
   "source": [
    "***"
   ]
  },
  {
   "cell_type": "markdown",
   "metadata": {
    "id": "section_name",
    "important": true,
    "sectionId": "ByhE71EOf"
   },
   "source": [
    "## 3.3 クラス"
   ]
  },
  {
   "cell_type": "markdown",
   "metadata": {
    "courseId": 3010,
    "exerciseId": "BkVLDge9f",
    "id": "quiz_session_name",
    "important": false,
    "isDL": false,
    "timeoutSecs": 5
   },
   "source": [
    "### 3.3.1 オブジェクト"
   ]
  },
  {
   "cell_type": "markdown",
   "metadata": {
    "id": "description"
   },
   "source": [
    "Pythonはオブジェクト指向言語なので、全てが **<font color=#AA0000>オブジェクト</font>** で構成されています。変数やクラス、関数やメソッドも一つひとつが全てオブジェクトとして扱われ、変数や関数をまとめたものもオブジェクトとなります。\n",
    "\n",
    "オブジェクト指向言語には様々な用語があります。この章で説明する用語はJava や Ruby などの他のオブジェクト指向言語でも共通して使われるものなので覚えておきましょう。"
   ]
  },
  {
   "cell_type": "markdown",
   "metadata": {},
   "source": [
    "#### 問題"
   ]
  },
  {
   "cell_type": "markdown",
   "metadata": {
    "id": "question"
   },
   "source": [
    "- 以下の選択肢のうち **<font color=#AA0000>正しくない</font>** 説明文はどれでしょう？"
   ]
  },
  {
   "cell_type": "markdown",
   "metadata": {
    "id": "choices"
   },
   "source": [
    "- 変数はオブジェクトである\n",
    "- オブジェクトは変数である\n",
    "- オブジェクト指向言語はpythonだけでなく、JavaやRubyなど他にもある\n",
    "- 関数のまとまりをオブジェクトという\n",
    "- オブジェクト指向言語では共通の用語がある"
   ]
  },
  {
   "cell_type": "markdown",
   "metadata": {},
   "source": [
    "#### ヒント"
   ]
  },
  {
   "cell_type": "markdown",
   "metadata": {
    "id": "hint"
   },
   "source": [
    "- オブジェクトとは概念です。Pythonでは全てをオブジェクトとして扱います。"
   ]
  },
  {
   "cell_type": "markdown",
   "metadata": {},
   "source": [
    "#### 解答"
   ]
  },
  {
   "cell_type": "markdown",
   "metadata": {
    "id": "answer"
   },
   "source": [
    "- オブジェクトは変数である"
   ]
  },
  {
   "cell_type": "markdown",
   "metadata": {},
   "source": [
    "***"
   ]
  },
  {
   "cell_type": "markdown",
   "metadata": {
    "courseId": 3010,
    "exerciseId": "r1ehV7yVdM",
    "id": "code_session_name",
    "important": false,
    "isDL": false,
    "timeoutSecs": 20
   },
   "source": [
    "### 3.3.2  クラス（メンバとコンストラクタ）"
   ]
  },
  {
   "cell_type": "markdown",
   "metadata": {
    "id": "description"
   },
   "source": [
    "<font color=#AA0000>クラス</font>は、オブジェクトの構造の **設計図** のようなものです。クラスを図にすると下記のようになります。\n",
    "\n",
    "<img src=\"https://aidemyexstorage.blob.core.windows.net/aidemycontents/1527412305978518.png\" width=\"600\">\n",
    "\n",
    "クラスはコンストラクタ、メンバ、メソッドの3つで定義されます。\n",
    "**コンストラクタ**というのは、クラスを呼び出した際に最初に実行される「初期化用の特殊なメソッド」のことで、インスタンスを生成する時に一度だけ呼び出されます。\n",
    "\n",
    "**<font color=#AA0000>メンバ</font>** はクラス内で使用する変数のことで、他のオブジェクト指向言語では、「プライベート(クラス外からアクセスできない)」と「パブリック(クラス外からもアクセスできる)」の2種類がありますが、Pythonでは全てパブリックになります。ただし、プロパティという手法を使うことでアクセス制限も可能です。\n",
    "\n",
    "また、クラスで生成するオブジェクトをインスタンスといいます。\n",
    "\n",
    "図で分かるように、クラスは<a href=\"https://aidemy.net/courses/3010/exercises/Hkl2bccdM\"  target=\"_blank\">[3.2.6 関数のインポート]</a>でお話ししたパッケージやモジュールと似ています。厳密な使い分けのルールはありませんが、ひとつしかインスタンスを生成しない時はモジュール、複数のインスタンスを生成する場合はクラスを定義することが推奨されています。\n",
    "\n",
    "例えば、時間を計算するためのtimeモジュールはプログラム内にひとつあれば十分かもしれませんが、複数のインスタンスを生成することが多いので、クラスで定義しておいた方が無難という判断になります。\n",
    "\n",
    "それでは、実際に下記のようなインスタンスを生成してみましょう。\n",
    "\n",
    "- オブジェクトの内容\n",
    "    - 商品\n",
    "- メンバ\n",
    "    - 商品名: name\n",
    "    - 価格: price\n",
    "    - 在庫: stock\n",
    "    - 売上: sales\n",
    "\n",
    "まずは、インスタンスを生成するためのクラスを定義します。\n",
    "pythonではクラス名の先頭文字を大文字にするという慣習があり、複数の単語を含む場合はそれぞれの先頭を「MyProduct」というように大文字にします。\n",
    "そして、コンストラクタは `__init__` という名前で定義し、変数の前に`self.`を付け、最初の引数も `self`にするという決まりがあります。\n",
    "\n",
    "```Python\n",
    "class MyProduct: #クラスを定義\n",
    "    def __init__(self, name, price):  # コンストラクタを定義\n",
    "        self.name = name　#引数をメンバに格納\n",
    "        self.price = price\n",
    "        self.stock = 0\n",
    "        self.sales = 0\n",
    "```\n",
    "\n",
    "次に、定義したクラスからインスタンスを生成しましょう。\n",
    "インスタンス生成では、最初にクラス(`MyProduct`)を呼び出します。\n",
    "\n",
    "```Python\n",
    "# MyProductを呼び出し、product1を作成\n",
    "product1 = MyProduct(\"cake\", 500)\n",
    "```\n",
    "\n",
    "`MyProduct`が呼び出されると、コンストラクタが実行されて`name`,` price` が初期化された後、`name = \"cake\"`、`price = 500`が引数に設定されます。 \n",
    "なお、インスタンスのメンバを参照する際は、`オブジェクト.変数名`で直接参照することができます。直接参照の際にメンバの変更も可能です。"
   ]
  },
  {
   "cell_type": "markdown",
   "metadata": {},
   "source": [
    "#### 問題"
   ]
  },
  {
   "cell_type": "markdown",
   "metadata": {
    "id": "question"
   },
   "source": [
    "- `MyProduct`クラスのコンストラクタを修正して、クラス呼び出し時に`name, price, stock`の初期値を指定できるようにしてください。その際それぞれの引数名は以下のようにして下さい。\n",
    "    - 商品名: name\n",
    "    - 値段: price\n",
    "    - 在庫: stock\n",
    "\n",
    "- `product_1`の`stock`を直接参照して、`print`してください。"
   ]
  },
  {
   "cell_type": "code",
   "execution_count": null,
   "metadata": {
    "id": "index"
   },
   "outputs": [],
   "source": [
    "# MyProductクラスを定義\n",
    "class MyProduct:\n",
    "    # コンストラクタを修正してください\n",
    "    def __init__():\n",
    "        # 引数をメンバに格納してください\n",
    "        \n",
    "        \n",
    "        \n",
    "        self.sales = 0\n",
    "        \n",
    "# MyProductを呼び出し、オブジェクトproduct_1を作成\n",
    "product_1 = MyProduct(\"cake\", 500, 20)\n",
    "\n",
    "# product_1のstockを出力してください\n",
    "print()"
   ]
  },
  {
   "cell_type": "markdown",
   "metadata": {},
   "source": [
    "#### ヒント"
   ]
  },
  {
   "cell_type": "markdown",
   "metadata": {
    "id": "hint"
   },
   "source": [
    "- メソッドは第一引数に`self`を持つことに注意してください。\n",
    "- メンバ定義の際は、変数名の前に`self.`を付けます。"
   ]
  },
  {
   "cell_type": "markdown",
   "metadata": {},
   "source": [
    "#### 解答例"
   ]
  },
  {
   "cell_type": "code",
   "execution_count": null,
   "metadata": {
    "id": "answer"
   },
   "outputs": [],
   "source": [
    "# MyProductクラスを定義\n",
    "class MyProduct:\n",
    "    # コンストラクタを修正してください\n",
    "    def __init__(self, name, price, stock):\n",
    "        # 引数をメンバに格納してください\n",
    "        self.name = name\n",
    "        self.price = price\n",
    "        self.stock = stock\n",
    "        self.sales = 0\n",
    "        \n",
    "# MyProductを呼び出し、オブジェクトproduct_1を作成\n",
    "product_1 = MyProduct(\"cake\", 500, 20)\n",
    "\n",
    "# product_1のstockを出力してください\n",
    "print(product_1.stock)"
   ]
  },
  {
   "cell_type": "markdown",
   "metadata": {},
   "source": [
    "***"
   ]
  },
  {
   "cell_type": "markdown",
   "metadata": {
    "courseId": 3010,
    "exerciseId": "HkW2Emy4_G",
    "id": "code_session_name",
    "important": false,
    "isDL": false,
    "timeoutSecs": 20
   },
   "source": [
    "### 3.3.3 クラス（メソッド）"
   ]
  },
  {
   "cell_type": "markdown",
   "metadata": {
    "id": "description"
   },
   "source": [
    "クラスで定義できるメソッドには3種類あります。1つ目が通常のメソッドで、第一引数が`self `になります。そして、2つ目がクラス全体の操作を行うクラスメソッドで、3つ目は引数がなくても実行できるスタティックメソッド(静的メソッド)です。\n",
    "\n",
    "```python\n",
    "class MyClass:　#クラス名\n",
    "    def __init__(self,引数2,引数3, …):　#コンストラクタ\n",
    "        self.変数名 = 初期値　#変数を初期化する\n",
    "    def normal_method(self, 引数2,引数3,…):　#通常メソッド\n",
    "        self.name = name\n",
    "        return name\n",
    "    @classmethod #クラスメソッド\n",
    "    def class_method(cls,引数2,引数3,…):\n",
    "        cls.name = cname\n",
    "        return cname\n",
    "    @staticmethod #スタティックメソッド\n",
    "    def static_method(引数1,引数2,引数3,…):\n",
    "        引数1.name = sname\n",
    "        return sname\n",
    "```\n",
    "\n",
    "クラスメソッドは第一引数を`cls`にするという決まりがありますが、スタティックメソッドは決まりがなく、引数自体が必須ではありません。\n",
    "\n",
    "それでは、「3.3.2 クラス（メンバとコンストラクタ）」で作成したMyProductクラスに、次の3つのメソッドを定義してみましょう。\n",
    "\n",
    "- 商品をn個仕入れ、在庫を更新する: buy_up(n)　 # 仕入れメソッド\n",
    "- 商品をn個販売し、在庫と売上げを更新する: sell(n)  # 販売メソッド\n",
    "- 商品の概要を出力する: summary() # 概要メソッド\n",
    "\n",
    "```Python\n",
    "class MyProduct:\n",
    "    def __init__(self, name, price, stock):\n",
    "        self.name = name\n",
    "        self.price = price\n",
    "        self.stock = stock\n",
    "        self.sales = 0\n",
    "\n",
    "    def buy_up(self, n):  # 仕入れメソッド\n",
    "        self.stock += n\n",
    "\n",
    "    def sell(self, n):  # 販売メソッド\n",
    "        self.stock -= n\n",
    "        self.sales += n*self.price\n",
    "\n",
    "    def summary(self):  # 概要メソッド\n",
    "        message = \"called summary().\\n name: \" + self.name + \\\n",
    "        \"\\n price: \" + str(self.price) + \\\n",
    "        \"\\n stock: \" + str(self.stock) + \\\n",
    "        \"\\n sales: \" + str(self.sales)\n",
    "        print(message)\n",
    "```\n",
    "\n",
    "今回は通常メソッドで定義しています。そのため、コンストラクタ同様、メンバの先頭に`self.`を付け、第一引数に`self`を指定します。それ以外は、通常の関数と同様です。\n",
    "\n",
    "また、メソッドの呼び出しは、`オブジェクト.メソッド名`と書きます。\n",
    "\n",
    "***\n",
    "\n",
    "実はメンバが容易に参照できたり、変更できたりすることは、オブジェクト指向ではあまり好ましくないことです。なぜなら、クラスはメンバが容易に変更できないように設計することが基本とされているからです。\n",
    "メンバの参照や変更が必要な場合は、専用のメソッドを用意するようにしましょう。"
   ]
  },
  {
   "cell_type": "markdown",
   "metadata": {},
   "source": [
    "#### 問題"
   ]
  },
  {
   "cell_type": "markdown",
   "metadata": {
    "id": "question"
   },
   "source": [
    "- `MyProduct`クラスに、以下のメソッドを追加して下さい。\n",
    "    - `name`の値を取得して返す: get_name()\n",
    "    - `price`をnだけ減らす: discount(n)\n",
    "- 作成された`product_2`の`price`を5000減らし、`summary()`メソッドを用いてその概要を出力して下さい。"
   ]
  },
  {
   "cell_type": "code",
   "execution_count": null,
   "metadata": {
    "id": "index"
   },
   "outputs": [],
   "source": [
    "# MyProductクラスを定義\n",
    "class MyProduct:\n",
    "    def __init__(self, name, price, stock):\n",
    "        self.name = name\n",
    "        self.price = price\n",
    "        self.stock = stock\n",
    "        self.sales = 0\n",
    "    # 概要メソッド\n",
    "    # 文字列と「自分自身のメソッド」や「自分自身のメンバ」を連結して出力します\n",
    "    def summary(self):\n",
    "        message = \"called summary().\"  + \\\n",
    "        \"\\n name: \"  + self.get_name() + \\\n",
    "        \"\\n price: \" + str(self.price) + \\\n",
    "        \"\\n stock: \" + str(self.stock) + \\\n",
    "        \"\\n sales: \" + str(self.sales)\n",
    "        print(message)\n",
    "    # nameを返すget_name()を作成して下さい\n",
    "    def get_name():\n",
    "        \n",
    "    # 引数のぶんだけpriceを減らすdiscount()を作成して下さい\n",
    "    def discount():\n",
    "        \n",
    "\n",
    "product_2 = MyProduct(\"phone\", 30000, 100)\n",
    "# 5000だけdiscountして下さい\n",
    "\n",
    "# product_2のsummaryを出力して下さい\n"
   ]
  },
  {
   "cell_type": "markdown",
   "metadata": {},
   "source": [
    "#### ヒント"
   ]
  },
  {
   "cell_type": "markdown",
   "metadata": {
    "id": "hint"
   },
   "source": [
    "- メソッドの第一引数に注意しましょう。\n",
    "- 通常の関数定義と同様に、`return`とすることで返り値を指定できます。"
   ]
  },
  {
   "cell_type": "markdown",
   "metadata": {},
   "source": [
    "#### 解答"
   ]
  },
  {
   "cell_type": "code",
   "execution_count": null,
   "metadata": {
    "id": "answer"
   },
   "outputs": [],
   "source": [
    "# MyProductクラスを定義\n",
    "class MyProduct:\n",
    "    def __init__(self, name, price, stock):\n",
    "        self.name = name\n",
    "        self.price = price\n",
    "        self.stock = stock\n",
    "        self.sales = 0\n",
    "    # 概要メソッド\n",
    "    # 文字列と「自分自身のメソッド」や「自分自身のメンバ」を連結して出力します\n",
    "    def summary(self):\n",
    "        message = \"called summary().\\n name: \" + self.get_name() + \\\n",
    "        \"\\n price: \" + str(self.price) + \\\n",
    "        \"\\n stock: \" + str(self.stock) + \\\n",
    "        \"\\n sales: \" + str(self.sales)\n",
    "        print(message)\n",
    "    # nameを返すget_name()を作成して下さい\n",
    "    def get_name(self):\n",
    "        return self.name\n",
    "    # 引数のぶんだけpriceを減らすdiscount()を作成して下さい\n",
    "    def discount(self, n):\n",
    "        self.price -= n\n",
    "\n",
    "product_2 = MyProduct(\"phone\", 30000, 100)\n",
    "# 5000だけdiscountして下さい\n",
    "product_2.discount(5000)\n",
    "# product_2のsummaryを出力して下さい\n",
    "product_2.summary()\n"
   ]
  },
  {
   "cell_type": "markdown",
   "metadata": {},
   "source": [
    "***"
   ]
  },
  {
   "cell_type": "markdown",
   "metadata": {
    "courseId": 3010,
    "exerciseId": "HkW2Emy4kG",
    "id": "code_session_name",
    "important": false,
    "isDL": false,
    "timeoutSecs": 20
   },
   "source": [
    "### 3.3.4 クラス（継承、オーバーライド、スーパー）"
   ]
  },
  {
   "cell_type": "markdown",
   "metadata": {
    "id": "description"
   },
   "source": [
    "既存のクラスに機能を追加する場合に、直接変更してしまうと同じクラスを使用している別のプログラムに影響が出る可能性があります。クラスをコピーして新しく定義することもできますが、同じようなクラスが2つ存在することはあまり好ましい状態ではありません。\n",
    "\n",
    "そのため、オブジェクト指向言語には継承(インヘリタンス)という仕組みが用意されています。この仕組みを利用することで、既存のクラスをコピーしたり、直接変更したりすることなく、メソッドやメンバの追加や変更が可能となります。\n",
    "\n",
    "継承元となるクラスを「親クラス」「スーパークラス」「基底クラス」、継承先のクラスを「子クラス」「サブクラス」「派生クラス」と呼びます。\n",
    "子クラスは親クラスに対し、下記のようなことができます。\n",
    "\n",
    "- メソッド/メンバの利用\n",
    "- メソッド/メンバの上書き\n",
    "- メソッド/メンバの呼び出し\n",
    "- 自分自身のメソッド/メンバの追加\n",
    "\n",
    "それでは、MyProductを継承し、消費税10%の対応を追加したMyProductSalesTaxを作成してみましょう。\n",
    "\n",
    "継承の手順は下記の通りです。\n",
    "\n",
    "```Python\n",
    "\n",
    "# MyProductクラスを継承してMyProductSalesTaxを定義\n",
    "class MyProductSalesTax(MyProduct):\n",
    "\n",
    "    #コンストラクタの第四引数に消費税率を設定\n",
    "    def __init__(self, name, price, stock, tax_rate):\n",
    "        #親クラスのコンストラクタを呼び出す\n",
    "        super().__init__(name, price, stock)\n",
    "        self.tax_rate = tax_rate\n",
    "\n",
    "    # MyProductのget_nameを上書き\n",
    "    def get_name(self):\n",
    "        return self.name + \"(税込)\"\n",
    " \n",
    "    #get_price_with_taxを追加\n",
    "    def get_price_with_tax(self):\n",
    "        return int(self.price * (1 + self.tax_rate))\n",
    "    \n",
    "```\n",
    "\n",
    "super()で親クラスのメソッドを呼び出すことができます。このプログラムを実行すると下記のようになります。\n",
    "\n",
    "```Python\n",
    "product_3 = MyProductSalesTax(\"phone\", 30000, 100, 0.1)\n",
    "print(product_3.get_name())\n",
    "print(product_3.get_price_with_tax())\n",
    "# MyProductのsummaryメソッドを呼び出す\n",
    "product_3.summary()\n",
    "\n",
    "phone(税込)　# 期待通りの出力\n",
    "33000　　　　# 期待通りの出力\n",
    "called summary().　# priceが税抜き価格になってしまっています！\n",
    "name: phone(税込)\n",
    "price: 30000\n",
    "stock: 100\n",
    "sales: 0\n",
    "\n",
    "```\n",
    "追加したget_nameメソッドとget_price_with_taxメソッドは期待通りの動作をしましたが、今回のプログラムではMyProductから継承したsummaryメソッドが税抜価格を返してしまっています。"
   ]
  },
  {
   "cell_type": "markdown",
   "metadata": {},
   "source": [
    "#### 問題"
   ]
  },
  {
   "cell_type": "markdown",
   "metadata": {
    "id": "question"
   },
   "source": [
    "MyProductのsummaryメソッドをオーバーライドしてsummaryが税込み価格を出力するようにしてください。"
   ]
  },
  {
   "cell_type": "code",
   "execution_count": null,
   "metadata": {
    "id": "index"
   },
   "outputs": [],
   "source": [
    "class MyProduct:\n",
    "    def __init__(self, name, price, stock):\n",
    "        self.name = name\n",
    "        self.price = price\n",
    "        self.stock = stock\n",
    "        self.sales = 0\n",
    "\n",
    "    def summary(self):\n",
    "        message = \"called summary().\\n name: \" + self.get_name() + \\\n",
    "                    \"\\n price: \" + str(self.price) + \\\n",
    "                    \"\\n stock: \" + str(self.stock) + \\\n",
    "                    \"\\n sales: \" + str(self.sales)\n",
    "        print(message)\n",
    "\n",
    "    def get_name(self):\n",
    "        return self.name\n",
    "\n",
    "    def discount(self, n):\n",
    "        self.price -= n\n",
    "\n",
    "\n",
    "class MyProductSalesTax(MyProduct):\n",
    "    # MyProductSalesTaxでは第四引数に消費税率を受け取る事にします\n",
    "    def __init__(self, name, price, stock, tax_rate):\n",
    "        # super()を使うと親クラスのメソッドを呼び出す事ができます\n",
    "        # ここでは、MyProductクラスのコンストラクタを呼び出しています\n",
    "        super().__init__(name, price, stock)\n",
    "        self.tax_rate = tax_rate\n",
    "\n",
    "    # MyProductSalesTaxではMyProductのget_nameをオーバーライド(上書き)します\n",
    "    def get_name(self):\n",
    "        return self.name + \"(税込)\"\n",
    " \n",
    "    # MyProductSalesTaxにget_price_with_taxを新規実装します\n",
    "    def get_price_with_tax(self):\n",
    "        return int(self.price * (1 + self.tax_rate))\n",
    "    \n",
    "    # MyProductのsummaryメソッドをオーバーライドしてsummaryが税込み価格を出力するようにしてください\n",
    "\n",
    "\n",
    "product_3 = MyProductSalesTax(\"phone\", 30000, 100, 0.1)\n",
    "print(product_3.get_name())\n",
    "print(product_3.get_price_with_tax())\n",
    "product_3.summary()"
   ]
  },
  {
   "cell_type": "markdown",
   "metadata": {},
   "source": [
    "#### ヒント"
   ]
  },
  {
   "cell_type": "markdown",
   "metadata": {
    "id": "hint"
   },
   "source": [
    "- メソッドの中からメソッドを呼ぶ事ができます。\n",
    "- 税抜き価格を表示するメソッドを呼び出す部分を税込み価格を表示するメソッドに書き換えましょう。"
   ]
  },
  {
   "cell_type": "markdown",
   "metadata": {},
   "source": [
    "#### 解答"
   ]
  },
  {
   "cell_type": "code",
   "execution_count": null,
   "metadata": {
    "id": "answer"
   },
   "outputs": [],
   "source": [
    "class MyProduct:\n",
    "    def __init__(self, name, price, stock):\n",
    "        self.name = name\n",
    "        self.price = price\n",
    "        self.stock = stock\n",
    "        self.sales = 0\n",
    "\n",
    "    def summary(self):\n",
    "        message = \"called summary().\\n name: \" + self.get_name() + \\\n",
    "                    \"\\n price: \" + str(self.price) + \\\n",
    "                    \"\\n stock: \" + str(self.stock) + \\\n",
    "                    \"\\n sales: \" + str(self.sales)\n",
    "        print(message)\n",
    "\n",
    "    def get_name(self):\n",
    "        return self.name\n",
    "\n",
    "    def discount(self, n):\n",
    "        self.price -= n\n",
    "\n",
    "\n",
    "class MyProductSalesTax(MyProduct):\n",
    "    # MyProductSalesTaxでは第四引数に消費税率を受け取る事にします\n",
    "    def __init__(self, name, price, stock, tax_rate):\n",
    "        # super()を使うと親クラスのメソッドを呼び出す事ができます\n",
    "        # ここでは、MyProductクラスのコンストラクタを呼び出しています\n",
    "        super().__init__(name, price, stock)\n",
    "        self.tax_rate = tax_rate\n",
    "\n",
    "    # MyProductSalesTaxではMyProductのget_nameをオーバーライド(上書き)します\n",
    "    def get_name(self):\n",
    "        return self.name + \"(税込)\"\n",
    " \n",
    "    # MyProductSalesTaxにget_price_with_taxを新規実装します\n",
    "    def get_price_with_tax(self):\n",
    "        return int(self.price * (1 + self.tax_rate))\n",
    "    \n",
    "    # MyProductのsummaryメソッドをオーバーライドしてsummaryが税込み価格を出力するようにしてください\n",
    "    def summary(self):\n",
    "        message = \"called summary().\\n name: \" + self.get_name() + \\\n",
    "                    \"\\n price: \" + str(self.get_price_with_tax()) + \\\n",
    "                    \"\\n stock: \" + str(self.stock) + \\\n",
    "                    \"\\n sales: \" + str(self.sales)\n",
    "        print(message)\n",
    "\n",
    "\n",
    "product_3 = MyProductSalesTax(\"phone\", 30000, 100, 0.1)\n",
    "print(product_3.get_name())\n",
    "print(product_3.get_price_with_tax())\n",
    "product_3.summary()"
   ]
  },
  {
   "cell_type": "markdown",
   "metadata": {},
   "source": [
    "***"
   ]
  },
  {
   "cell_type": "markdown",
   "metadata": {
    "id": "section_name",
    "sectionId": "r1pdAQ-xbf"
   },
   "source": [
    "## 3.4 Appendix"
   ]
  },
  {
   "cell_type": "markdown",
   "metadata": {
    "courseId": 3010,
    "exerciseId": "BJcY4tlwef",
    "id": "code_session_name",
    "important": true,
    "isDL": false,
    "timeoutSecs": 5
   },
   "source": [
    "### 3.4.1 文字列のフォーマット指定"
   ]
  },
  {
   "cell_type": "markdown",
   "metadata": {
    "id": "description"
   },
   "source": [
    "`format()`以外でも、演算子の「 **`%`** 」を使うことで文字列をフォーマットすることが可能です。`「%」`には下記のような種類があります。<br>\n",
    "\n",
    "```\n",
    "%d : 整数で表示\n",
    "%f : 小数で表示\n",
    "%.2f : 小数第2位まで表示\n",
    "%s : 文字列として表示\n",
    "```\n",
    "\n",
    "ダブルクォートやシングルクォートで囲まれた文字列の中に`「%」`を記述することで、**後ろのオブジェクトを指定のフォーマットに変更して埋め込み**ます。\n",
    "\n",
    "```python\n",
    "pi = 3.141592\n",
    "print(\"円周率は%f\" % pi)  # 「円周率は3.141592」と出力される\n",
    "print(\"円周率は%.2f\" % pi)  # 「円周率は3.14」と出力される。\n",
    "```"
   ]
  },
  {
   "cell_type": "markdown",
   "metadata": {},
   "source": [
    "#### 問題"
   ]
  },
  {
   "cell_type": "markdown",
   "metadata": {
    "id": "question"
   },
   "source": [
    "- ___を埋めて、「bmiは＊＊です」と出力させてください。ただし小数第4位まで求めてください。\n",
    "- 身長と体重の値は自由です。（ただし、身長を0として体重を割ると0除算でエラーとなります）"
   ]
  },
  {
   "cell_type": "code",
   "execution_count": null,
   "metadata": {
    "id": "index"
   },
   "outputs": [],
   "source": [
    "def bmi(height, weight):\n",
    "    return weight / height**2\n",
    "\n",
    "# 「bmiは＊＊です」と出力させてください\n",
    "print(\"bmiは___です\" % ______)\n"
   ]
  },
  {
   "cell_type": "markdown",
   "metadata": {},
   "source": [
    "#### ヒント"
   ]
  },
  {
   "cell_type": "markdown",
   "metadata": {
    "id": "hint"
   },
   "source": [
    "- `%.4f`で小数第4位まで求められます。"
   ]
  },
  {
   "cell_type": "markdown",
   "metadata": {},
   "source": [
    "#### 解答例"
   ]
  },
  {
   "cell_type": "code",
   "execution_count": null,
   "metadata": {
    "id": "answer"
   },
   "outputs": [],
   "source": [
    "def bmi(height, weight):\n",
    "    return weight / height**2\n",
    "\n",
    "# 「bmiは＊＊です」と出力させてください\n",
    "print(\"bmiは%.4fです\" % bmi(1.65, 65))"
   ]
  },
  {
   "cell_type": "markdown",
   "metadata": {},
   "source": [
    "***"
   ]
  },
  {
   "cell_type": "markdown",
   "metadata": {
    "exerciseId": "WuW19Afmr",
    "id": "movie_session_name",
    "important": false,
    "isDL": false,
    "timeoutSecs": 10
   },
   "source": [
    "## このコースのまとめ"
   ]
  },
  {
   "cell_type": "markdown",
   "metadata": {
    "id": "description"
   },
   "source": [
    "- このコースのまとめ\n",
    "- 次にオススメのコース"
   ]
  },
  {
   "cell_type": "markdown",
   "metadata": {},
   "source": [
    "#### 問題"
   ]
  },
  {
   "cell_type": "markdown",
   "metadata": {
    "id": "question"
   },
   "source": [
    "- 次の動画をみてください。"
   ]
  },
  {
   "cell_type": "code",
   "execution_count": null,
   "metadata": {
    "id": "movielink"
   },
   "outputs": [],
   "source": [
    "https://www.youtube.com/embed/xHKUAjswSb4"
   ]
  },
  {
   "cell_type": "markdown",
   "metadata": {},
   "source": [
    "***"
   ]
  },
  {
   "cell_type": "markdown",
   "metadata": {
    "id": "chapter_exam"
   },
   "source": [
    "## 3.5 添削問題"
   ]
  },
  {
   "cell_type": "markdown",
   "metadata": {
    "id": "description"
   },
   "source": [
    "このチャプターで習ったことを用いて解いてみましょう。"
   ]
  },
  {
   "cell_type": "markdown",
   "metadata": {},
   "source": [
    "#### 問題"
   ]
  },
  {
   "cell_type": "markdown",
   "metadata": {
    "id": "question"
   },
   "source": [
    "- `object`の中から`character`を含む要素数を数える関数の作成です。\n",
    "- 引数に`object, character`をとる関数`check_chatacter`を作成してください。\n",
    "- 戻り値として`count()`メソッドで文字列やリストの中の要素の数を返してください。\n",
    "\n",
    "`check_character([1, 2 ,4 ,5 ,5 ,3], 5)  # 出力結果 2`\n",
    "\n",
    "- 関数`check_character`に調べたい文字列やリストと個数を調べたい要素を入力してください。"
   ]
  },
  {
   "cell_type": "code",
   "execution_count": null,
   "metadata": {
    "id": "index"
   },
   "outputs": [],
   "source": [
    "# 関数check_characterを作成してください\n",
    "\n",
    "\n",
    "# 関数check_characterに入力してください\n"
   ]
  },
  {
   "cell_type": "markdown",
   "metadata": {},
   "source": [
    "#### ヒント"
   ]
  },
  {
   "cell_type": "markdown",
   "metadata": {
    "id": "hint"
   },
   "source": [
    "- `変数.count(character)`"
   ]
  },
  {
   "cell_type": "markdown",
   "metadata": {},
   "source": [
    "#### 解答例"
   ]
  },
  {
   "cell_type": "code",
   "execution_count": null,
   "metadata": {
    "id": "answer"
   },
   "outputs": [],
   "source": [
    "# 関数check_characterを作成してください\n",
    "def check_character(object, character):\n",
    "    return object.count(character)\n",
    "\n",
    "# 関数check_characterに入力してください\n",
    "print(check_character([1, 3, 4, 5, 6, 4, 3, 2, 1, 3, 3, 4, 3], 3))\n",
    "print(check_character(\"asdgaoirnoiafvnwoeo\", \"d\"))"
   ]
  },
  {
   "cell_type": "markdown",
   "metadata": {
    "id": "commentary"
   },
   "source": [
    "`count()`メソッドを用いることにより、文字列やリストの中のある要素や文字の数を取り出すことができます。"
   ]
  },
  {
   "cell_type": "markdown",
   "metadata": {},
   "source": [
    "***"
   ]
  }
 ],
 "metadata": {
  "celltoolbar": "Edit Metadata",
  "kernelspec": {
   "display_name": "Python 3",
   "language": "python",
   "name": "python3"
  },
  "language_info": {
   "codemirror_mode": {
    "name": "ipython",
    "version": 3
   },
   "file_extension": ".py",
   "mimetype": "text/x-python",
   "name": "python",
   "nbconvert_exporter": "python",
   "pygments_lexer": "ipython3",
   "version": "3.6.4"
  },
  "toc": {
   "base_numbering": 1,
   "nav_menu": {},
   "number_sections": true,
   "sideBar": true,
   "skip_h1_title": false,
   "title_cell": "Table of Contents",
   "title_sidebar": "Contents",
   "toc_cell": false,
   "toc_position": {
    "height": "calc(100% - 180px)",
    "left": "10px",
    "top": "150px",
    "width": "254.391px"
   },
   "toc_section_display": true,
   "toc_window_display": true
  },
  "varInspector": {
   "cols": {
    "lenName": 16,
    "lenType": 16,
    "lenVar": 40
   },
   "kernels_config": {
    "python": {
     "delete_cmd_postfix": "",
     "delete_cmd_prefix": "del ",
     "library": "var_list.py",
     "varRefreshCmd": "print(var_dic_list())"
    },
    "r": {
     "delete_cmd_postfix": ") ",
     "delete_cmd_prefix": "rm(",
     "library": "var_list.r",
     "varRefreshCmd": "cat(var_dic_list()) "
    }
   },
   "types_to_exclude": [
    "module",
    "function",
    "builtin_function_or_method",
    "instance",
    "_Feature"
   ],
   "window_display": false
  }
 },
 "nbformat": 4,
 "nbformat_minor": 2
}