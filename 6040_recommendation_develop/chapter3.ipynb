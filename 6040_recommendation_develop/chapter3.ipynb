{
 "cells": [
  {
   "cell_type": "markdown",
   "metadata": {
    "id": "chapter_name"
   },
   "source": [
    "#  レコメンデーション発展"
   ]
  },
  {
   "cell_type": "markdown",
   "metadata": {
    "id": "table"
   },
   "source": [
    "- **[3.1 コンテンツベースフィルタリング](#3.1-コンテンツベースフィルタリング)**\n",
    "    - **[3.1.1 単語の情報を利用して重みづけをする。](#3.1.1-単語の情報を利用して重みづけをする。)**\n",
    "    - **[3.1.2 対象の単語の出現回数で重みづけする。](#3.1.2-対象の単語の出現回数で重みづけする。)**\n",
    "    - **[3.1.3 単語の位置による重みづけ](#3.1.3-単語の位置による重みづけ)**\n",
    "    - **[3.1.4 単語間の距離による重みづけ](#3.1.4-単語間の距離による重みづけ)**\n",
    "    - **[3.1.5 インバウンドリンクによる重みづけ](#3.1.5-インバウンドリンクによる重みづけ)**\n",
    "<br><br>\n",
    "- **[3.2 PageRankアルゴリズム](#3.2-PageRankアルゴリズム)**\n",
    "    - **[3.2.1 PageRankアルゴリズムの概要](#3.2.1-PageRankアルゴリズムの概要)**\n",
    "    - **[3.2.2 PageRankの計算(1)](#3.2.2-PageRankの計算(1)**\n",
    "    - **[3.2.3 PageRankの計算(2)](#3.2.3-PageRankの計算(2)**\n",
    "    - **[3.2.4 PageRankで重みづけする関数を作成する。](#3.2.4-PageRankで重みづけする関数を作成する。)**\n",
    "<br><br>\n",
    "- **[3.5 添削問題](#3.5-添削問題)**"
   ]
  },
  {
   "cell_type": "markdown",
   "metadata": {},
   "source": [
    "***"
   ]
  },
  {
   "cell_type": "markdown",
   "metadata": {
    "id": "section_name"
   },
   "source": [
    "## 3.1 コンテンツベースフィルタリング"
   ]
  },
  {
   "cell_type": "markdown",
   "metadata": {
    "id": "quiz_session_name"
   },
   "source": [
    "### 3.1.1 単語の情報を利用して重みづけをする。"
   ]
  },
  {
   "cell_type": "markdown",
   "metadata": {
    "id": "description"
   },
   "source": [
    "chapter1,2ではクローリングされた順番にURLが表示されていました。   \n",
    "そこでWEBページから取得した情報をもとに各WEBページに重みをつけてレコメンドしましょう。   \n",
    "\n",
    "重みをつけて返すための関数を作成します。   \n",
    "weightには後ほど重みを評価する関数を入れていきます。   \n",
    "\n",
    "```python\n",
    "def weightlist(rows, words_list):\n",
    "    totalscores = dict([(row[0],0) for row in rows])\n",
    "\n",
    "    weights = []\n",
    "\n",
    "    for (weight, scores) in weights:\n",
    "        for url in totalscores:\n",
    "            totalscores[url] += weight * scores[url]\n",
    "    return totalscores\n",
    "        \n",
    "```\n",
    "後ほどweightsには(評価関数の重み, そのWEBページの重み)を返すリストを追加していきます。   \n",
    "\n",
    "rowsには[url,単語1の位置, 単語2の位置, ...]が入ります。   \n",
    "totalscoreはURLをkeyにした辞書型となり、{url:重み} となります。   \n"
   ]
  },
  {
   "cell_type": "markdown",
   "metadata": {},
   "source": [
    "#### 問題"
   ]
  },
  {
   "cell_type": "markdown",
   "metadata": {
    "id": "question"
   },
   "source": [
    "- 評価関数として有効なものはどれでしょう"
   ]
  },
  {
   "cell_type": "markdown",
   "metadata": {
    "id": "choices"
   },
   "source": [
    "- クエリとなっている言葉のフォントのサイズ\n",
    "- クエリとなっている言葉の出現頻度\n",
    "- WEBページの閲覧者数\n",
    "- 上記のすべて"
   ]
  },
  {
   "cell_type": "markdown",
   "metadata": {},
   "source": [
    "#### ヒント"
   ]
  },
  {
   "cell_type": "markdown",
   "metadata": {
    "id": "hint"
   },
   "source": [
    "- 評価関数には様々なものがあります。\n",
    "- 評価関数はWEBページの推薦度と相関のあるものを選びましょう。"
   ]
  },
  {
   "cell_type": "markdown",
   "metadata": {},
   "source": [
    "#### 解答"
   ]
  },
  {
   "cell_type": "markdown",
   "metadata": {
    "id": "answer"
   },
   "source": [
    "上記のすべて"
   ]
  },
  {
   "cell_type": "markdown",
   "metadata": {},
   "source": [
    "***"
   ]
  },
  {
   "cell_type": "markdown",
   "metadata": {
    "id": "code_session_name"
   },
   "source": [
    "### 3.1.2 対象の単語の出現回数で重みづけする。   "
   ]
  },
  {
   "cell_type": "markdown",
   "metadata": {
    "id": "description"
   },
   "source": [
    "最も単純な重みづけの基準として検索している単語がページ中何回出現したか、というものがあります。\n",
    "\n",
    "単語の出現回数をそのまま重みにするのでは評価方法によって重みが変化しすぎてしまいます。   \n",
    "そこで重みを０～１の範囲に正規化することによって異なる評価方法でも妥当に比較できるようにしましょう。   \n",
    "\n",
    "正規化関数は値の大きいほうが推薦度の高くなる場合と小さいほうが推薦度が高くなる場合が考えられます。   \n",
    "そこで正規化関数ではこれを分けられるようにします。   \n",
    "\n",
    "```python\n",
    "def normalizescores(scores, small_flag=0):\n",
    "    vsmall = 0.00001\n",
    "    # small_flagが1だと小さいほうが重みが1に近づくようになる。\n",
    "    if small_flag:\n",
    "        minscore = min(scores.values())\n",
    "        return dict([(url,float(minscore)/max(vsmall,l)) for (url,l) in scores.items()])\n",
    "    else:\n",
    "        maxscore = max(scores.values())\n",
    "        if maxscore == 0:\n",
    "            maxscore = vsmall\n",
    "        return dict([(url,float(count) / maxscore) for (url,count) in scores.items()])\n",
    "```\n",
    "\n",
    "注意点として小さいほう優先のとき値が0だと値が無限になってしまいエラーになってしまします。   \n",
    "そのため十分小さい数をしきい値として設定して計算します。"
   ]
  },
  {
   "cell_type": "markdown",
   "metadata": {},
   "source": [
    "#### 問題"
   ]
  },
  {
   "cell_type": "markdown",
   "metadata": {
    "id": "question"
   },
   "source": [
    "- frequeryscoreは単語の頻度を計算する関数です。空欄を埋めてこれを完成させてください。\n",
    "- countsは{URL : 出現回数}の辞書型にしてください。"
   ]
  },
  {
   "cell_type": "code",
   "execution_count": null,
   "metadata": {},
   "outputs": [],
   "source": [
    "def normalizescores(scores, small_flag=0):\n",
    "    # 十分に小さいしきい値を設定してください。\n",
    "    \n",
    "    # small_flagが1だと小さいほうが重みが1に近づくようになる。\n",
    "    if small_flag:\n",
    "        # ０～１の範囲に正規化を行ってください。\n",
    "        \n",
    "        \n",
    "    else:\n",
    "        # ０～１の範囲に正規化を行ってください。\n",
    "\n",
    "        \n",
    "        \n",
    "        \n",
    "    \n",
    "# 単語の出現頻度を計算する関数を実装してください。\n",
    "def frequeryscore(rows):\n",
    "    counts = dict([(row[0], 0) for row in rows])\n",
    "\n",
    "    \n",
    "    return　normalizescores(counts)"
   ]
  },
  {
   "cell_type": "markdown",
   "metadata": {},
   "source": [
    "#### ヒント"
   ]
  },
  {
   "cell_type": "markdown",
   "metadata": {
    "id": "hint"
   },
   "source": [
    "- countsのkeyはurlの名前なのでcounts[url]でURLの値が操作できます。"
   ]
  },
  {
   "cell_type": "markdown",
   "metadata": {},
   "source": [
    "#### 解答例"
   ]
  },
  {
   "cell_type": "code",
   "execution_count": null,
   "metadata": {
    "collapsed": true,
    "id": "answer"
   },
   "outputs": [],
   "source": [
    "def normalizescores(scores, small_flag=0):\n",
    "    # 十分に小さいしきい値を設定してください。\n",
    "    vsmall = 0.00001\n",
    "    # small_flagが1だと小さいほうが重みが1に近づくようになる。\n",
    "    if small_flag:\n",
    "        # ０～１の範囲に正規化を行ってください。\n",
    "        minscore = min(scores.values())\n",
    "        return dict([(url,float(minscore)/max(vsmall,l)) for (url,l) in scores.items()])\n",
    "    else:\n",
    "        # ０～１の範囲に正規化を行ってください。\n",
    "        maxscore = max(scores.values())\n",
    "        if maxscore == 0:\n",
    "            maxscore = vsmall\n",
    "        return dict([(url,float(count) / maxscore) for (url,count) in scores.items()])\n",
    "    \n",
    "# 単語の出現頻度を計算する関数を実装してください。\n",
    "def frequeryscore(rows):\n",
    "    counts = dict([(row[0], 0) for row in rows])\n",
    "    for row in rows:\n",
    "        counts[row[0]] += 1\n",
    "    return normalizescores(counts)"
   ]
  },
  {
   "cell_type": "markdown",
   "metadata": {},
   "source": [
    "***"
   ]
  },
  {
   "cell_type": "markdown",
   "metadata": {
    "id": "code_session_name"
   },
   "source": [
    "### 3.1.3 単語の位置による重みづけ"
   ]
  },
  {
   "cell_type": "markdown",
   "metadata": {
    "id": "description"
   },
   "source": [
    "検索したい単語はWEBページの初めにあるほどメインのトピックである可能性が高いと考えられます。   \n",
    "そこで単語の出現した位置の和で重みを評価します。   "
   ]
  },
  {
   "cell_type": "markdown",
   "metadata": {},
   "source": [
    "#### 問題"
   ]
  },
  {
   "cell_type": "markdown",
   "metadata": {
    "id": "question"
   },
   "source": [
    "- 単語の出現した位置で評価する関数を実装してください。\n",
    "- クエリの単語の出現した位置の和を求めて正規化関数に渡してください。"
   ]
  },
  {
   "cell_type": "code",
   "execution_count": null,
   "metadata": {},
   "outputs": [],
   "source": [
    "# 単語の出現した位置で評価する関数を実装してください。\n",
    "def locationscore(rows):\n",
    "    locations = dict([(row[0],1000000) for row in rows])\n",
    "\n",
    "    \n",
    "    \n",
    "        return normalizescores(locations, small_flag=1)"
   ]
  },
  {
   "cell_type": "markdown",
   "metadata": {},
   "source": [
    "#### ヒント"
   ]
  },
  {
   "cell_type": "markdown",
   "metadata": {
    "id": "hint"
   },
   "source": [
    "- 重みの初期値は十分大きい数を利用してください。\n",
    "- 正規化関数に渡すとき、小さいほうが優れているので small_flagを設定しましょう。"
   ]
  },
  {
   "cell_type": "markdown",
   "metadata": {},
   "source": [
    "#### 解答例"
   ]
  },
  {
   "cell_type": "code",
   "execution_count": null,
   "metadata": {
    "collapsed": true,
    "id": "answer"
   },
   "outputs": [],
   "source": [
    "# 単語の出現した位置で評価する関数を実装してください。\n",
    "def locationscore(rows):\n",
    "    locations = dict([(row[0],1000000) for row in rows])\n",
    "    for row in rows:\n",
    "        location = sum(row[1:])\n",
    "        if location < locations[row[0]]:\n",
    "            locations[row[0]] = location\n",
    "        return normalizescores(locations, small_flag=1)"
   ]
  },
  {
   "cell_type": "markdown",
   "metadata": {},
   "source": [
    "***"
   ]
  },
  {
   "cell_type": "markdown",
   "metadata": {
    "id": "code_session_name"
   },
   "source": [
    "### 3.1.4 単語間の距離による重みづけ"
   ]
  },
  {
   "cell_type": "markdown",
   "metadata": {
    "id": "description"
   },
   "source": [
    "複数の単語で検索するときそれらの単語が近いほど求めている内容である可能性は高まります。   \n",
    "そこで単語間の距離でも重みを評価してみましょう。   \n",
    "\n",
    "複数クエリが存在する場合隣接する単語間の距離の合計を評価値とします。   \n",
    "単語が一つだけの場合はすべてに1を返しましょう"
   ]
  },
  {
   "cell_type": "markdown",
   "metadata": {},
   "source": [
    "#### 問題"
   ]
  },
  {
   "cell_type": "markdown",
   "metadata": {
    "id": "question"
   },
   "source": [
    "- 空欄を埋めて単語間距離を計算する関数を実装してください。\n",
    "- 返し値は{URL:評価値}の辞書型で正規化関数を利用して正規化してください。"
   ]
  },
  {
   "cell_type": "code",
   "execution_count": null,
   "metadata": {},
   "outputs": [],
   "source": [
    "# 単語間の距離を評価する関数を実装してください。\n",
    "def distancescore(rows):\n",
    "    if len(rows[0]) <= 2:\n",
    "        return dict([(row[0],1.0) for row in rows])\n",
    "    # 初期値を設定します。\n",
    "    mindistance = \n",
    "    for row in rows:\n",
    "        dist = 0\n",
    "        # distに単語間距離の合計を計算してください。\n",
    "\n",
    "        \n",
    "        \n",
    "        if dist < mindistance[row[0]]:\n",
    "            mindistance[row[0]] = dist\n",
    "    return normalizescores(mindistance, small_flag=1)"
   ]
  },
  {
   "cell_type": "markdown",
   "metadata": {},
   "source": [
    "#### ヒント"
   ]
  },
  {
   "cell_type": "markdown",
   "metadata": {
    "id": "hint"
   },
   "source": [
    "- mindistanceの初期値は十分大きいものを使用してください。\n",
    "- minidistanceは{URL:評価値}な辞書型です。"
   ]
  },
  {
   "cell_type": "markdown",
   "metadata": {},
   "source": [
    "#### 解答例"
   ]
  },
  {
   "cell_type": "code",
   "execution_count": null,
   "metadata": {
    "collapsed": true,
    "id": "answer"
   },
   "outputs": [],
   "source": [
    "# 単語間の距離を評価する関数を実装してください。\n",
    "def distancescore(rows):\n",
    "    if len(rows[0]) <= 2:\n",
    "        return dict([(row[0],1.0) for row in rows])\n",
    "    # 初期値を設定します。\n",
    "    mindistance = dict([(row[0],1000000) for row in rows])\n",
    "    for row in rows:\n",
    "        # distに単語間距離の合計を計算してください。\n",
    "        dist = sum([abs(row[i] - row[i-1]) for i in range(2,len(row))])\n",
    "        if dist < mindistance[row[0]]:\n",
    "            mindistance[row[0]] = dist\n",
    "    return normalizescores(mindistance, small_flag=1)"
   ]
  },
  {
   "cell_type": "markdown",
   "metadata": {},
   "source": [
    "***"
   ]
  },
  {
   "cell_type": "markdown",
   "metadata": {
    "id": "code_session_name"
   },
   "source": [
    "### 3.1.5 インバウンドリンクによる重みづけ"
   ]
  },
  {
   "cell_type": "markdown",
   "metadata": {
    "id": "description"
   },
   "source": [
    "外部のサイトなどから自分のサイト内のページへのリンクのことをインバウンドリンクと呼びます。   \n",
    "価値のあるWEBページほど多くのWEBページからリンクされることが多くあります。   \n",
    "\n",
    "実際にアカデミックな論文などではインバウンドリンクの数で評価されることがあります。   \n",
    "ただしこの評価方法はクエリの情報を使用していないためほかの評価方法と合わせて使用することが必要です。   \n",
    "\n",
    "インバウンドリンクの数を数えるのにはselectメソッドでcountメソッドを使いましょう。\n",
    "SQL文のselectメソッドでは計算結果を出力することができます。   \n",
    "\n",
    "例題から考えてみましょう。   \n",
    "sample.dbの T テーブルにはカラムa,b,cがあり、   \n",
    "[0,1,2]   \n",
    "[3,4,5]   \n",
    "[6,7,8]   \n",
    "となっているとします。\n",
    "```python\n",
    "# a+bの値を出力する。\n",
    "add = conn.execute(\"select a+b from T\").fetchall()\n",
    "print(add)\n",
    "print()\n",
    "\n",
    "# 行数を数える。\n",
    "count = conn.execute(\"select count(*) from T\")\n",
    "print(count)\n",
    "```\n",
    "出力\n",
    "```\n",
    "[1,]\n",
    "[7,]\n",
    "[13,]\n",
    "\n",
    "3\n",
    "```\n",
    "となります。\n"
   ]
  },
  {
   "cell_type": "markdown",
   "metadata": {},
   "source": [
    "#### 問題"
   ]
  },
  {
   "cell_type": "markdown",
   "metadata": {
    "id": "question"
   },
   "source": [
    "- インバウンドリンクの数を数える評価関数を実装してください。\n",
    "- 正規化関数を渡して正規化してください。"
   ]
  },
  {
   "cell_type": "code",
   "execution_count": null,
   "metadata": {},
   "outputs": [],
   "source": [
    "def inboundlinkscore(rows):\n",
    "    uniqueurls = set([row[0] for row in rows])\n",
    "    # SQLからインバウンドリンクの数を返してください。\n",
    "    sql = \n",
    "    inboundcount = dict([(url, conn.execute(sql % url).fetchone()) for url in uniqueurls])\n",
    "    return normalizescores(inboundcount)"
   ]
  },
  {
   "cell_type": "markdown",
   "metadata": {},
   "source": [
    "#### ヒント"
   ]
  },
  {
   "cell_type": "markdown",
   "metadata": {
    "id": "hint"
   },
   "source": [
    "- %sに ' を付けることを忘れないようにしましょう。"
   ]
  },
  {
   "cell_type": "markdown",
   "metadata": {},
   "source": [
    "#### 解答例"
   ]
  },
  {
   "cell_type": "code",
   "execution_count": null,
   "metadata": {
    "collapsed": true,
    "id": "answer"
   },
   "outputs": [],
   "source": [
    "def inboundlinkscore(rows):\n",
    "    uniqueurls = set([row[0] for row in rows])\n",
    "    # SQLからインバウンドリンクの数を返してください。\n",
    "    sql = \"select count(*) from link where url_to = '%s'\"\n",
    "    inboundcount = dict([(url, conn.execute(sql % url).fetchone()) for url in uniqueurls])\n",
    "    return normalizescores(inboundcount)"
   ]
  },
  {
   "cell_type": "markdown",
   "metadata": {},
   "source": [
    "***"
   ]
  },
  {
   "cell_type": "markdown",
   "metadata": {
    "id": "section_name"
   },
   "source": [
    "## 3.2 PageRankアルゴリズム"
   ]
  },
  {
   "cell_type": "markdown",
   "metadata": {
    "id": "quiz_session_name"
   },
   "source": [
    "### 3.2.1 PageRankアルゴリズムの概要"
   ]
  },
  {
   "attachments": {
    "%E3%82%B9%E3%82%AF%E3%83%AA%E3%83%BC%E3%83%B3%E3%82%B7%E3%83%A7%E3%83%83%E3%83%88%20%2851%29.png": {
     "image/png": "[encoded data removed]"
    }
   },
   "cell_type": "markdown",
   "metadata": {
    "id": "description"
   },
   "source": [
    "\n",
    "PageRankとはもともとGoogleの創設者によって発明されたアルゴリズムでそのページがすべてのページからしてどの程度大切なのかを割り当てたものです。<br> \n",
    "他のページからのリンクが多いほどランキングは高く、ランキングの高いページからのリンクは高く評価するという発想からできています。<br>\n",
    "\n",
    "\n",
    "Pagerankの実際の計算の方法としては次の図をご覧ください。   \n",
    "\n",
    "![%E3%82%B9%E3%82%AF%E3%83%AA%E3%83%BC%E3%83%B3%E3%82%B7%E3%83%A7%E3%83%83%E3%83%88%20%2851%29.png](attachment:%E3%82%B9%E3%82%AF%E3%83%AA%E3%83%BC%E3%83%B3%E3%82%B7%E3%83%A7%E3%83%83%E3%83%88%20%2851%29.png)\n",
    "\n",
    "AのPageRankをB,C,DのPageRankから計算します。   \n",
    "茶色の矢印はほかのページへのリンクを表し、薄橙の矢印がAへのリンクを表しています。   \n",
    "PageRankは$\\gamma$ ×$\\frac{リンク元のPageRank}{リンク元のリンク先の数}$これの和で計算されます。   \n",
    "\n",
    "AのPageRankは$\\gamma$ = 1、   \n",
    "$ PageRank_A = 6.0/3 + 3/2 + 2.5/1 = 6.0 $   \n",
    "と計算できます。"
   ]
  },
  {
   "cell_type": "markdown",
   "metadata": {},
   "source": [
    "#### 問題"
   ]
  },
  {
   "attachments": {
    "%E3%82%B9%E3%82%AF%E3%83%AA%E3%83%BC%E3%83%B3%E3%82%B7%E3%83%A7%E3%83%83%E3%83%88%20%2852%29.png": {
     "image/png": "[encoded data removed]"
    }
   },
   "cell_type": "markdown",
   "metadata": {
    "id": "question"
   },
   "source": [
    "- 以下の図からAのPageRankとして正しいものを選んでください。\n",
    "![%E3%82%B9%E3%82%AF%E3%83%AA%E3%83%BC%E3%83%B3%E3%82%B7%E3%83%A7%E3%83%83%E3%83%88%20%2852%29.png](attachment:%E3%82%B9%E3%82%AF%E3%83%AA%E3%83%BC%E3%83%B3%E3%82%B7%E3%83%A7%E3%83%83%E3%83%88%20%2852%29.png)\n",
    "\n",
    "ただし$\\gamma$=1とします。"
   ]
  },
  {
   "cell_type": "markdown",
   "metadata": {
    "id": "choices"
   },
   "source": [
    "- 4.0\n",
    "- 4.5\n",
    "- 5.0"
   ]
  },
  {
   "cell_type": "markdown",
   "metadata": {},
   "source": [
    "#### ヒント"
   ]
  },
  {
   "cell_type": "markdown",
   "metadata": {
    "id": "hint"
   },
   "source": [
    "- PageRankは$\\gamma$ × $\\frac{リンク元のPageRank}{リンク元のリンク先の数}$これの和で計算されます。   "
   ]
  },
  {
   "cell_type": "markdown",
   "metadata": {},
   "source": [
    "#### 解答"
   ]
  },
  {
   "cell_type": "markdown",
   "metadata": {
    "id": "answer"
   },
   "source": [
    "- 4.5"
   ]
  },
  {
   "cell_type": "markdown",
   "metadata": {},
   "source": [
    "***"
   ]
  },
  {
   "cell_type": "markdown",
   "metadata": {
    "id": "code_session_name"
   },
   "source": [
    "### 3.2.2 PageRankの計算(1)"
   ]
  },
  {
   "cell_type": "markdown",
   "metadata": {
    "id": "description"
   },
   "source": [
    "それでは実際にPageRankの計算を行います。   \n",
    "3.2.1で行ったように計算できればいいのですが、ひとつ問題が発生します。   \n",
    "先ほどはAのPageRankを求めるために必要なPageRankがすべて求まっていたのですが、実際はそうはいきません。   \n",
    "\n",
    "そこで解決策としては初期値に任意の値をすべてのPageRankとして与え、PageRankの計算を何度か繰り返すといったものがあります。   \n",
    "計算を繰り返すことによってそれぞれのPageRankは真のPageRankの値に近づいていきます。   \n",
    "\n",
    "それではPageRankを計算するアルゴリズムは次のようになります。\n",
    "1. PageRankテーブルがすでに存在していれば削除する。\n",
    "2. PageRankテーブルをカラムはURLとscoreで作成する。\n",
    "3. PageRankテーブルにurllistからURLを与え、scoreに初期値を代入する。\n",
    "4. すべてのURLでPageRankを計算する。\n",
    "5. PageRankを更新する。\n",
    "\n",
    "となっています。   \n",
    "このアルゴリズムを作成するのに必要となるSQL文を勉強しましょう。   \n",
    "\n",
    "1.PageRankテーブルがすでに存在していれば削除する。   \n",
    "これは if exists メソッドを利用することでこのように書けます。   \n",
    "drop table if exists pagerank   \n",
    "if exists A は条件文であり、Aが存在すれば実行ということになります。   \n",
    "\n",
    "3.PageRankテーブルにurllistからURLを与え、scoreに初期値を代入する。   \n",
    "chapter1で学んだinsert文ですが値の部分にほかのカラムを入れても使うことができます。   \n",
    "insert into pagerank select url,1.0 from urllist   \n",
    "このようにするとpagerankのurlにはurllistのurlが入れられ、scoreにはすべて1.0が代入されます。  \n",
    "\n",
    "4.すべてのurlでPageRankを計算する。     \n",
    "SQLの更新にはupdateメソッドを利用します。   \n",
    "update テーブル名 set カラム名 = 更新したい値 where 条件式   \n",
    "で更新することができます。   \n",
    "更新後は必ずcommitメソッドを呼び出すことを忘れないでください。   "
   ]
  },
  {
   "cell_type": "markdown",
   "metadata": {},
   "source": [
    "#### 問題"
   ]
  },
  {
   "cell_type": "markdown",
   "metadata": {
    "id": "question"
   },
   "source": [
    "データベースの更新を行ってください。sample.dbはdataフォルダ内にあります。\n",
    "- sample.dbで a = 1の行のaの値を100に変えてください。\n",
    "- sample.dbで a = 100の行のすべてのカラムの値を表示してください。\n",
    "- sample.dbで a = 100 の行のaの値を1に変えてください。"
   ]
  },
  {
   "cell_type": "code",
   "execution_count": null,
   "metadata": {},
   "outputs": [],
   "source": [
    "import sqlite3\n",
    "\n",
    "dbname = \"data/sample.db\"\n",
    "conn = sqlite3.connect(dbname)\n",
    "#  a = 1 の行の a を100に変更してください。\n",
    "\n",
    "\n",
    "# a = 100 の行のすべてのデータを取得してください。\n",
    "data = \n",
    "print(data)\n",
    "\n",
    "#  a = 100 の行の a を1に変更してください。\n",
    "\n",
    "conn.close()"
   ]
  },
  {
   "cell_type": "markdown",
   "metadata": {},
   "source": [
    "#### ヒント"
   ]
  },
  {
   "cell_type": "markdown",
   "metadata": {
    "id": "hint"
   },
   "source": [
    "- データを更新した後は必ずcommitメソッドを呼び出しましょう。"
   ]
  },
  {
   "cell_type": "markdown",
   "metadata": {},
   "source": [
    "#### 解答例"
   ]
  },
  {
   "cell_type": "code",
   "execution_count": null,
   "metadata": {
    "id": "answer"
   },
   "outputs": [],
   "source": [
    "import sqlite3\n",
    "\n",
    "dbname = \"data/sample.db\"\n",
    "conn = sqlite3.connect(dbname)\n",
    "#  a = 1 の行の a を100に変更してください。\n",
    "conn.execute(\"update T set a = 100 where a = 1\")\n",
    "conn.commit()\n",
    "\n",
    "# a = 100 の行のすべてのデータを取得してください。\n",
    "data = conn.execute(\"select * from T where a = 100\").fetchall()[0]\n",
    "print(data)\n",
    "#  a = 100 の行の a を1に変更してください。\n",
    "conn.execute(\"update T set a = 1 where a = 100\")\n",
    "conn.commit()\n",
    "\n",
    "\n",
    "conn.close()"
   ]
  },
  {
   "cell_type": "markdown",
   "metadata": {},
   "source": [
    "***"
   ]
  },
  {
   "cell_type": "markdown",
   "metadata": {
    "id": "code_session_name"
   },
   "source": [
    "### 3.2.3 PageRankの計算(2)"
   ]
  },
  {
   "cell_type": "markdown",
   "metadata": {
    "id": "description"
   },
   "source": [
    "PageRankを実装します。   \n",
    "すぐ上でも書きましたが、PageRankの計算アルゴリズムは次のようになります。   \n",
    "\n",
    "1. PageRankテーブルがすでに存在していれば削除する。\n",
    "2. PageRankテーブルをカラムはurlとscoreで作成する。\n",
    "3. PageRankテーブルにurllistからurlを与え、scoreに初期値を代入する。\n",
    "4. すべてのurlでPageRankを計算する。\n",
    "5. PageRankを更新する。\n",
    "\n",
    "select文でdistinctを利用すると内部のデータが重複ない形で抜き出すことができます。\n"
   ]
  },
  {
   "cell_type": "markdown",
   "metadata": {},
   "source": [
    "#### 問題"
   ]
  },
  {
   "cell_type": "markdown",
   "metadata": {
    "id": "question"
   },
   "source": [
    "- calculate_pagerankを完成させてページランクを計算する関数を実装してください。\n",
    "- $\\gamma$ = 0.85とします。"
   ]
  },
  {
   "cell_type": "code",
   "execution_count": null,
   "metadata": {
    "id": "index"
   },
   "outputs": [],
   "source": [
    "def calculate_pagerank(conn, iterations=3):\n",
    "    # PageRankがすでにあれば削除してください。\n",
    "    \n",
    "    # PageRankテーブルを作成してください。\n",
    "    \n",
    "    # PageRankの初期値を設定します。\n",
    "    conn.execute(\"insert into pagerank select url,1.0 from urllist\")\n",
    "    conn.commit()\n",
    "\n",
    "    for i in range(iterations):\n",
    "        print(\"Iteration %d\" % (i))\n",
    "        for url, in conn.execute(\"select url from urllist\"):\n",
    "            pr = 0.15\n",
    "            \n",
    "            for (linker,) in conn.execute(\"select distinct url_from from link where url_to = '%s'\" % url):\n",
    "                # リンク元のPageRankを取得してください。\n",
    "                linkingpr = \n",
    "                # リンク元のリンク先の数を取得してください。\n",
    "                linkingcount =\n",
    "                pr += gamma*(linkingpr/linkingcount)\n",
    "                # PageRankの値を更新してください。\n",
    "\n",
    "                \n",
    "    print('finish create pagerank')\n",
    "conn.close()"
   ]
  },
  {
   "cell_type": "markdown",
   "metadata": {},
   "source": [
    "#### ヒント"
   ]
  },
  {
   "cell_type": "markdown",
   "metadata": {
    "id": "hint"
   },
   "source": [
    "- fetchone()で取得したデータはリストの形なので[0]をつけて数字にしてください。"
   ]
  },
  {
   "cell_type": "markdown",
   "metadata": {},
   "source": [
    "#### 解答例"
   ]
  },
  {
   "cell_type": "code",
   "execution_count": null,
   "metadata": {
    "collapsed": true,
    "id": "answer"
   },
   "outputs": [],
   "source": [
    "def calculate_pagerank(conn, iterations=3):\n",
    "    gamma = 0.85\n",
    "    # pagerankがすでにあれば削除してください。\n",
    "    conn.execute(\"drop table if exists pagerank\")\n",
    "    # pagerankテーブルを作成してください。\n",
    "    conn.execute(\"create table pagerank(url,score)\")\n",
    "    # PageRankの初期値を設定します。\n",
    "    conn.execute(\"insert into pagerank select url,1.0 from urllist\")\n",
    "    conn.commit()\n",
    "\n",
    "    for i in range(iterations):\n",
    "        print(\"Iteration %d\" % (i))\n",
    "        for url, in conn.execute(\"select url from urllist\"):\n",
    "            pr = 0.15\n",
    "            \n",
    "            for (linker,) in conn.execute(\"select distinct url_from from link where url_to = '%s'\" % url):\n",
    "                # リンク元のPageRankを取得してください。\n",
    "                linkingpr = conn.execute(\"select score from pagerank where url='%s'\" % linker).fetchone()[0]\n",
    "                # リンク元のリンク先の数を取得してください。\n",
    "                linkingcount =conn.execute(\"select count(*) from link where url_from = '%s'\" % linker).fetchone()[0]\n",
    "                pr += gamma*(linkingpr/linkingcount)\n",
    "                # PageRankの値を更新してください。\n",
    "                conn.execute(\"update pagerank set score = %f where url = '%s'\" % (pr, url))\n",
    "                conn.commit()\n",
    "    \n",
    "    print('finish create pagerank')\n",
    "conn.close()"
   ]
  },
  {
   "cell_type": "markdown",
   "metadata": {},
   "source": [
    "***"
   ]
  },
  {
   "cell_type": "markdown",
   "metadata": {
    "id": "code_session_name"
   },
   "source": [
    "### 3.2.4 PageRankで重みづけする関数を作成する。"
   ]
  },
  {
   "cell_type": "markdown",
   "metadata": {
    "id": "description"
   },
   "source": [
    "PageRankが計算できたのでこれを利用してページの重みづけをしましょう。   \n",
    "インバウンドリンクと同様PageRankもクエリの情報を使用していないので他の評価方法と合わせて使用する必要があります。   "
   ]
  },
  {
   "cell_type": "markdown",
   "metadata": {},
   "source": [
    "#### 問題"
   ]
  },
  {
   "cell_type": "markdown",
   "metadata": {
    "id": "question"
   },
   "source": [
    "- PageRankによりページの重みづけをしてください。\n",
    "- 出力は正規化関数に渡して０～１で正規化してください。"
   ]
  },
  {
   "cell_type": "code",
   "execution_count": null,
   "metadata": {},
   "outputs": [],
   "source": [
    "def pagerankscore(rows):\n",
    "    # pagerankに{URL:PageRank}の辞書型を代入してください。\n",
    "    pagerank = \n",
    "    return normalizescores(pagerank)"
   ]
  },
  {
   "cell_type": "markdown",
   "metadata": {},
   "source": [
    "#### ヒント"
   ]
  },
  {
   "cell_type": "markdown",
   "metadata": {
    "id": "hint"
   },
   "source": [
    "- PageRankを得るときfetchoneメソッドではリストの形になってしまうので[0]をつけましょう。"
   ]
  },
  {
   "cell_type": "markdown",
   "metadata": {},
   "source": [
    "#### 解答例"
   ]
  },
  {
   "cell_type": "code",
   "execution_count": null,
   "metadata": {
    "collapsed": true,
    "id": "answer"
   },
   "outputs": [],
   "source": [
    "def pagerankscore(rows):\n",
    "    # pagerankに{URL:PageRank}の辞書型を代入してください。\n",
    "    pagerank = dict([(row[0], self.con.execute(\"select score from pagerank where url = '%s'\" % row[0]).fetchone()[0]) for row in rows])\n",
    "    return normalizescores(pagerank)"
   ]
  },
  {
   "cell_type": "markdown",
   "metadata": {
    "id": "section_name"
   },
   "source": [
    "## 3.3 searcherをクラスにまとめる。"
   ]
  },
  {
   "cell_type": "markdown",
   "metadata": {
    "id": "quiz_session_name"
   },
   "source": [
    "### 3.3.1 初期値の設定"
   ]
  },
  {
   "cell_type": "markdown",
   "metadata": {
    "id": "description"
   },
   "source": [
    "検索に関するものをまとめてsearcherという一つのクラスで管理します。   \n",
    "searcherクラスでは、\n",
    "1. クエリを受け取る。\n",
    "2. クエリの含まれるページのURLを取得する。\n",
    "3. 取得されたURLを評価関数によって重みづけする。\n",
    "4. 評価値の高いものからいくつかをレコメンドする。\n",
    "\n",
    "をします。      \n",
    "crawlerクラスと同様にsearcherクラスでも初期値を設定していきます。"
   ]
  },
  {
   "cell_type": "markdown",
   "metadata": {},
   "source": [
    "#### 問題"
   ]
  },
  {
   "cell_type": "markdown",
   "metadata": {
    "id": "question"
   },
   "source": [
    "- crawlerと同様にsearcherでも初期設定で変数connをtest.dbにつなげてください。\n",
    "- searcherが破棄されたとき、接続を閉じるようにしてください。"
   ]
  },
  {
   "cell_type": "code",
   "execution_count": null,
   "metadata": {
    "id": "choices"
   },
   "outputs": [],
   "source": [
    "import sqlite3\n",
    "\n",
    "class searcher:\n",
    "    # 初期設定をしてください。\n",
    "\n",
    "    conn = \n",
    "    # コネクションが削除されたときデータベースとの接続が切れるようにしてください。\n",
    "\n",
    "    "
   ]
  },
  {
   "cell_type": "markdown",
   "metadata": {},
   "source": [
    "#### ヒント"
   ]
  },
  {
   "cell_type": "markdown",
   "metadata": {
    "id": "hint"
   },
   "source": [
    "- 初期設定には`__init__`メソッド、削除されたときには`__del__`メソッドが使えます。"
   ]
  },
  {
   "cell_type": "markdown",
   "metadata": {},
   "source": [
    "#### 解答"
   ]
  },
  {
   "cell_type": "code",
   "execution_count": null,
   "metadata": {
    "collapsed": true
   },
   "outputs": [],
   "source": [
    "import sqlite3\n",
    "\n",
    "class searcher:\n",
    "    # 初期設定をしてください。\n",
    "    def __init__(self,dbname):\n",
    "        self.conn = sqlite3.connect(dbname)\n",
    "    # コネクションが削除されたときデータベースとの接続が切れるようにしてください。\n",
    "    def __del__(self):\n",
    "        self.conn.close()"
   ]
  },
  {
   "cell_type": "markdown",
   "metadata": {},
   "source": [
    "***"
   ]
  },
  {
   "cell_type": "markdown",
   "metadata": {
    "id": "code_session_name"
   },
   "source": [
    "### 3.3.2 評価値の高いものをレコメンドする。"
   ]
  },
  {
   "cell_type": "markdown",
   "metadata": {
    "id": "description"
   },
   "source": [
    "ここまででクエリの含まれているページを選定し、様々な評価方法によりページの重みを決定しました。   \n",
    "この重みを利用してレコメンドします。   \n",
    "これらの情報を使用して実際におすすめするページのURLをリストにして返す関数を作成しましょう。   "
   ]
  },
  {
   "cell_type": "markdown",
   "metadata": {},
   "source": [
    "#### 問題"
   ]
  },
  {
   "cell_type": "markdown",
   "metadata": {
    "id": "question"
   },
   "source": [
    "- 空欄を埋めて重みの大きい１０のWEBページをリストで返してください。"
   ]
  },
  {
   "cell_type": "code",
   "execution_count": null,
   "metadata": {
    "id": "index"
   },
   "outputs": [],
   "source": [
    "def query(q):\n",
    "    rows,words = get_match_rows(q)\n",
    "    # scoresに評価値を代入してください。\n",
    "    scores = \n",
    "    # rankedscoresに並び替え済みの評価値を代入してください。\n",
    "    rankedscores = \n",
    "    recommend_list = []\n",
    "    # recommend_listに評価値の高いURLを１０代入してください。\n",
    "\n",
    "    \n",
    "    return recommend_list"
   ]
  },
  {
   "cell_type": "markdown",
   "metadata": {},
   "source": [
    "#### ヒント"
   ]
  },
  {
   "cell_type": "markdown",
   "metadata": {
    "id": "hint"
   },
   "source": [
    "- get_match_rows() は クエリがすべて含まれているURL、クエリの単語の位置、クエリの単語を返す関数です。\n",
    "- weightlist() は 評価関数によって求められた評価値を返す関数です。"
   ]
  },
  {
   "cell_type": "markdown",
   "metadata": {},
   "source": [
    "#### 解答例"
   ]
  },
  {
   "cell_type": "code",
   "execution_count": null,
   "metadata": {
    "collapsed": true,
    "id": "answer"
   },
   "outputs": [],
   "source": [
    "def query(q):\n",
    "    rows,words = get_match_rows(q)\n",
    "    # scoresに評価値を代入してください。\n",
    "    scores = weightlist(rows, words)\n",
    "    # rankedscoresに並び替え済みの評価値を代入してください。\n",
    "    rankedscores = sorted([(score, url) for (url,score) in scores.items()], reverse = 1)\n",
    "    recommend_list = []\n",
    "    # recommend_listに評価値の高いURLを１０代入してください。\n",
    "    for i,(score, url) in enumerate(rankedscores[0:10]):\n",
    "        recommen_list.append(url)\n",
    "    return recommend_list\n"
   ]
  },
  {
   "cell_type": "markdown",
   "metadata": {},
   "source": [
    "***"
   ]
  },
  {
   "cell_type": "markdown",
   "metadata": {
    "id": "code_session_name"
   },
   "source": [
    "### 3.3.3 これまでの関数をsearcherクラスに入れます。"
   ]
  },
  {
   "cell_type": "markdown",
   "metadata": {
    "id": "description"
   },
   "source": [
    "以下のものがsearchクラスで作成した関数一覧になります。   \n",
    "これらを修正してsearchクラスにいれます。   \n",
    "\n",
    "クラスにいれるときはよりメインとなる関数は下に配置しましょう。   \n",
    "```python\n",
    "\n",
    "def get_match_rows(conn, q):\n",
    "    columnlist = 'w0.url'\n",
    "    tablelist = ''\n",
    "    conditionlist = ''\n",
    "    words_list = []\n",
    "\n",
    "    words = q.split(' ')\n",
    "    tablenumber = 0\n",
    "    for word in words:\n",
    "        wordrow = conn.execute(\"select word from wordlist where word='%s'\" %word).fetchone()\n",
    "        if wordrow :\n",
    "            words_list.append(word)\n",
    "            if tablenumber > 0:\n",
    "                tablelist += ','\n",
    "                conditionlist += ' and w%d.url=w%d.url and ' % (tablenumber-1,tablenumber)\n",
    "                \n",
    "            columnlist += ',w%d.location' % tablenumber\n",
    "            tablelist += 'wordlocation w%d' % tablenumber\n",
    "            conditionlist+=\"w%d.word='%s'\" % (tablenumber,word)\n",
    "            tablenumber += 1\n",
    "    sql=\"select %s from %s where %s\" % (columnlist,tablelist,conditionlist)\n",
    "    cur=conn.execute(sql)\n",
    "    rows=[row for row in cur]\n",
    "    return rows,words_list\n",
    "    \n",
    "\n",
    "def normalizescores(scores, small_flag=0):\n",
    "    vsmall = 0.00001\n",
    "    if small_flag:\n",
    "        minscore = min(scores.values())\n",
    "        return dict([(url,float(minscore)/max(vsmall,l)) for (url,l) in scores.items()])\n",
    "    else:\n",
    "        maxscore = max(scores.values())\n",
    "        if maxscore == 0:\n",
    "            maxscore = vsmall\n",
    "        return dict([(url,float(count) / maxscore) for (url,count) in scores.items()])\n",
    "    \n",
    "def frequeryscore(rows):\n",
    "    counts = dict([(row[0], 0) for row in rows])\n",
    "    for row in rows:\n",
    "        counts[row[0]] += 1\n",
    "    return　normalizescores(counts)\n",
    "\n",
    "    \n",
    "def locationscore(rows):\n",
    "    locations = dict([(row[0],1000000) for row in rows])\n",
    "    for row in rows:\n",
    "        location = sum(row[1:])\n",
    "        if location < locations[row[0]]:\n",
    "            locations[row[0]] = location\n",
    "        return normalizescores(locations, small_flag=1)\n",
    "        \n",
    "def distancescore(rows):\n",
    "    if len(rows[0]) <= 2:\n",
    "        return dict([(row[0],1.0) for row in rows])\n",
    "    mindistance = dict([(row[0],1000000) for row in rows])\n",
    "    for row in rows:\n",
    "        dist = sum([abs(row[i] - row[i-1]) for i in range(2,len(row))])\n",
    "        if dist < mindistance[row[0]]:\n",
    "            mindistance[row[0]] = dist\n",
    "    return normalizescores(mindistance, small_flag=1)\n",
    "\n",
    "def pagerankscore(rows):\n",
    "    pagerank = dict([(row[0], self.conn.execute(\"select score from pagerank where url = '%s'\" % row[0]).fetchone()[0]) for row in rows])\n",
    "    return normalizescores(pagerank)\n",
    "    \n",
    "\n",
    "def weightlist(rows, words_list):\n",
    "    totalscores = dict([(row[0],0) for row in rows])\n",
    "\n",
    "    weights = []\n",
    "\n",
    "    for (weight, scores) in weights:\n",
    "        for url in totalscores:\n",
    "            totalscores[url] += weight * scores[url]\n",
    "    return totalscores\n",
    "    \n",
    "def query(q):\n",
    "    rows,words = get_match_rows(q)\n",
    "    scores = weightlist(rows, words)\n",
    "    rankedscores = sorted([(score, url) for (url,score) in scores.items()], reverse = 1)\n",
    "    recommend_list = []\n",
    "    for i,(score, url) in enumerate(rankedscores[0:10]):\n",
    "        recommend_list.append(url)\n",
    "    return recommend_list\n",
    "\n",
    "```\n"
   ]
  },
  {
   "cell_type": "markdown",
   "metadata": {},
   "source": [
    "#### 問題"
   ]
  },
  {
   "cell_type": "markdown",
   "metadata": {
    "id": "question"
   },
   "source": [
    "- これまで作ってきた関数を変換してsearchクラスにいれてください。\n",
    "- 同時にweightlist()メソッドのweightを変更して4つの評価関数で評価できるようにしてください。   \n",
    "  評価関数自体の重みはすべて1とします。"
   ]
  },
  {
   "cell_type": "code",
   "execution_count": null,
   "metadata": {
    "collapsed": true,
    "id": "index"
   },
   "outputs": [],
   "source": [
    "import sqlite3\n",
    "\n",
    "class searcher:\n",
    "    def __init__(self,dbname):\n",
    "        import sqlite3\n",
    "        self.conn = sqlite3.connect(dbname)\n",
    "        \n",
    "    def __del__(self):\n",
    "        self.conn.close()\n",
    "    \n",
    "    # 上の関数をクラスの関数の形に変換して書き加えてください。\n"
   ]
  },
  {
   "cell_type": "markdown",
   "metadata": {},
   "source": [
    "#### ヒント"
   ]
  },
  {
   "cell_type": "markdown",
   "metadata": {
    "id": "hint"
   },
   "source": [
    "- 関数の第一引数にはselfを渡してください。\n",
    "- クラス内の変数や関数を呼び出すときはself.関数名・変数名とする必要があります。"
   ]
  },
  {
   "cell_type": "markdown",
   "metadata": {},
   "source": [
    "#### 解答例"
   ]
  },
  {
   "cell_type": "code",
   "execution_count": null,
   "metadata": {
    "collapsed": true,
    "id": "answer"
   },
   "outputs": [],
   "source": [
    "import sqlite3\n",
    "\n",
    "class searcher:\n",
    "    def __init__(self,dbname):\n",
    "        import sqlite3\n",
    "        self.conn = sqlite3.connect(dbname)\n",
    "        \n",
    "    def __del__(self):\n",
    "        self.conn.close()\n",
    "    \n",
    "    # 上の関数をクラスの関数の形に変換して書き加えてください。\n",
    "    def get_match_rows(self, q):\n",
    "        columnlist = 'w0.url'\n",
    "        tablelist = ''\n",
    "        conditionlist = ''\n",
    "        words_list = []\n",
    "\n",
    "        words = q.split(' ')\n",
    "        tablenumber = 0\n",
    "        for word in words:\n",
    "            wordrow = self.conn.execute(\"select word from wordlist where word='%s'\" %word).fetchone()\n",
    "            if wordrow :\n",
    "                words_list.append(word)\n",
    "                if tablenumber > 0:\n",
    "                    tablelist += ','\n",
    "                    conditionlist += ' and w%d.url=w%d.url and ' % (tablenumber-1,tablenumber)\n",
    "                columnlist += ',w%d.location' % tablenumber\n",
    "                tablelist += 'wordlocation w%d' % tablenumber\n",
    "                conditionlist+=\"w%d.word='%s'\" % (tablenumber,word) \n",
    "                tablenumber += 1\n",
    "\n",
    "\n",
    "        sql=\"select %s from %s where %s\" % (columnlist,tablelist,conditionlist)\n",
    "        cur=self.conn.execute(sql)\n",
    "        rows=[row for row in cur]\n",
    "        return rows,words_list\n",
    "\n",
    "    def normalizescores(self, scores, small_flag=0):\n",
    "        vsmall = 0.00001\n",
    "        # small_flagが1だと小さいほうが重みが1に近づくようになる。\n",
    "        if small_flag:\n",
    "            minscore = min(scores.values())\n",
    "            return dict([(url,float(minscore)/max(vsmall,l)) for (url,l) in scores.items()])\n",
    "        else:\n",
    "            maxscore = max(scores.values())\n",
    "            if maxscore == 0:\n",
    "                maxscore = vsmall\n",
    "            return dict([(url,float(count) / maxscore) for (url,count) in scores.items()])\n",
    "\n",
    "\n",
    "    def frequeryscore(self, rows):\n",
    "        counts = dict([(row[0], 0) for row in rows])\n",
    "        for row in rows:\n",
    "            counts[row[0]] += 1\n",
    "        return self.normalizescores(counts)\n",
    "\n",
    "    def locationscore(self, rows):\n",
    "        locations = dict([(row[0],1000000) for row in rows])\n",
    "        for row in rows:\n",
    "            location = sum(row[1:])\n",
    "            if location < locations[row[0]]:\n",
    "                locations[row[0]] = location\n",
    "            return self.normalizescores(locations, small_flag=1)\n",
    "    \n",
    "    def distancescore(self,rows):\n",
    "        if len(rows[0]) <= 2:\n",
    "            return dict([(row[0],1.0) for row in rows])\n",
    "        mindistance = dict([(row[0],1000000) for row in rows])\n",
    "        for row in rows:\n",
    "            dist = sum([abs(row[i] - row[i-1]) for i in range(2,len(row))])\n",
    "            if dist < mindistance[row[0]]:\n",
    "                mindistance[row[0]] = dist\n",
    "        return self.normalizescores(mindistance, small_flag=1)\n",
    "    \n",
    "    def pagerankscore(self, rows):\n",
    "        pagerank = dict([(row[0], self.conn.execute(\"select score from pagerank where url = '%s'\" % row[0]).fetchone()[0]) for row in rows])\n",
    "        return self.normalizescores(pagerank)\n",
    "\n",
    "    def weightlist(self, rows):\n",
    "        totalscores = dict([(row[0],0) for row in rows])\n",
    "\n",
    "        weights = [(1.0, self.frequeryscore(rows))\n",
    "                    ,(1.0, self.locationscore(rows))\n",
    "                    ,(1.0, self.distancescore(rows))\n",
    "                    ,(1.0, self.pagerankscore(rows))]\n",
    "\n",
    "        for (weight, scores) in weights:\n",
    "            for url in totalscores:\n",
    "                totalscores[url] += weight * scores[url]\n",
    "        return totalscores\n",
    "\n",
    "\n",
    "\n",
    "    def query(self, q):\n",
    "        rows,words = self.get_match_rows(q)\n",
    "        scores = self.weightlist(rows)\n",
    "        rankedscores = sorted([(score, url) for (url,score) in scores.items()], reverse = 1)\n",
    "        recommend_list = []\n",
    "        for i,(score, url) in enumerate(rankedscores[0:10]):\n",
    "            recommend_list.append((url,score))\n",
    "        return recommend_list\n",
    "    "
   ]
  },
  {
   "cell_type": "markdown",
   "metadata": {},
   "source": [
    "***"
   ]
  },
  {
   "cell_type": "markdown",
   "metadata": {
    "id": "chapter_exam"
   },
   "source": [
    "## 添削問題"
   ]
  },
  {
   "cell_type": "markdown",
   "metadata": {
    "id": "description"
   },
   "source": [
    "searchクラスを利用して、program study で検索した結果推薦度の高い10のURLを表示してください。"
   ]
  },
  {
   "cell_type": "markdown",
   "metadata": {},
   "source": [
    "#### 問題"
   ]
  },
  {
   "cell_type": "markdown",
   "metadata": {
    "id": "question"
   },
   "source": [
    "- searchクラスを利用して、program study で検索した結果推薦度の高い10のURLを表示してください。\n",
    "- データベースはdataフォルダ内のwebpage.dbを利用してください。\n",
    "- webpage.dbはクローリング済みなのでそのまま利用できます。\n",
    "- 評価関数はインバウンドリンク以外の4つを使用し、評価関数の重みはすべて1にしてください。"
   ]
  },
  {
   "cell_type": "code",
   "execution_count": null,
   "metadata": {
    "collapsed": true
   },
   "outputs": [],
   "source": [
    "# 今まで学んだことを利用して推薦度の高いURLを10表示してください。\n"
   ]
  },
  {
   "cell_type": "markdown",
   "metadata": {},
   "source": [
    "#### ヒント"
   ]
  },
  {
   "cell_type": "markdown",
   "metadata": {
    "id": "hint"
   },
   "source": [
    "- 上で学んだsearcherクラスを利用してください。"
   ]
  },
  {
   "cell_type": "markdown",
   "metadata": {},
   "source": [
    "#### 解答例"
   ]
  },
  {
   "cell_type": "code",
   "execution_count": null,
   "metadata": {
    "id": "answer"
   },
   "outputs": [],
   "source": [
    "# 今まで学んだことを利用して推薦度の高いURLを10表示してください。\n",
    "\n",
    "dbname = \"data/webpage.db\"\n",
    "s = searcher(dbname)\n",
    "query = \"program study\"\n",
    "urls_list = s.query(query)\n",
    "for url,score in urls_list:\n",
    "    print(score,url)\n"
   ]
  },
  {
   "cell_type": "markdown",
   "metadata": {},
   "source": [
    "#### 解説"
   ]
  },
  {
   "cell_type": "markdown",
   "metadata": {
    "id": "commentary"
   },
   "source": [
    "評価関数の重みを変えることによってより精度よくレコメンドすることができます。"
   ]
  },
  {
   "cell_type": "markdown",
   "metadata": {},
   "source": [
    "***"
   ]
  }
 ],
 "metadata": {
  "celltoolbar": "Edit Metadata",
  "kernelspec": {
   "display_name": "Python 3",
   "language": "python",
   "name": "python3"
  },
  "language_info": {
   "codemirror_mode": {
    "name": "ipython",
    "version": 3
   },
   "file_extension": ".py",
   "mimetype": "text/x-python",
   "name": "python",
   "nbconvert_exporter": "python",
   "pygments_lexer": "ipython3",
   "version": "3.6.4"
  },
  "toc": {
   "base_numbering": 1,
   "nav_menu": {},
   "number_sections": true,
   "sideBar": true,
   "skip_h1_title": false,
   "title_cell": "Table of Contents",
   "title_sidebar": "Contents",
   "toc_cell": false,
   "toc_position": {},
   "toc_section_display": true,
   "toc_window_display": false
  }
 },
 "nbformat": 4,
 "nbformat_minor": 2
}