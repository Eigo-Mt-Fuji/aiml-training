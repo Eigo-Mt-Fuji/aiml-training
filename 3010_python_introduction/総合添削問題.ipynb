{
  "cells": [
    {
      "cell_type": "markdown",
      "metadata": {
        "id": "final_exam"
      },
      "source": [
        "# 総合添削問題"
      ]
    },
    {
      "cell_type": "markdown",
      "metadata": {
        "id": "description"
      },
      "source": [
        "二分探索法（バイナリーサーチ）を用いて探索を行うアルゴリズムのプログラムを作成してもらいます。アルゴリズムとは、問題を解くための手順のことです。探すデータが大きくなるほどライナーサーチ（初めから順番に探す方法）と比べ、探索にかかる時間が圧倒的に短く済むアルゴリズムとなっています。\n",
        "\n",
        "バイナリーサーチのアルゴリズムは以下のようになります。\n",
        "1. データの中央値を取ります。\n",
        "1. 取り出したデータが目的のものか比較し、一致する場合終了です。\n",
        "1. 中央値が目的のデータより小さい場合は、探索範囲の最小値を中央値に1足した値にし、大きい場合は探索範囲の最大値を中央値から1引いた値にします。"
      ]
    },
    {
      "cell_type": "markdown",
      "metadata": {},
      "source": [
        "#### 問題"
      ]
    },
    {
      "cell_type": "markdown",
      "metadata": {
        "id": "question"
      },
      "source": [
        "- 関数`binary_search`の中に、二分探索法を用いてリストの`numbers`から`target_number`を探し出すプログラムを作成してください。\n",
        "- 関数を実行した時に「`11は10番目にあります`」と出力させるようにしてください。\n",
        "- 変数`target_number`を変更し自分のプログラムが正しく動いているか確認してください。"
      ]
    },
    {
      "cell_type": "markdown",
      "metadata": {},
      "source": [
        "#### ヒント"
      ]
    },
    {
      "cell_type": "markdown",
      "metadata": {
        "id": "hint"
      },
      "source": [
        "- 初めに求める中央値はリストの`index`である点に注意しましょう。\n",
        "- 中央値を求めるとき「`/`」（余りが出る）ではなく、「`//`」（切り捨て除算）を用いると良いです。"
      ]
    },
    {
      "cell_type": "code",
      "execution_count": null,
      "metadata": {
        "collapsed": true,
        "id": "index"
      },
      "outputs": [],
      "source": [
        "# 関数binary_searchの中を作成してください\n",
        "def binary_search(numbers, target_number):\n",
        "\n",
        "# 探索するデータ\n",
        "numbers = [1, 2, 3, 4, 5, 6, 7, 8, 9, 10, 11, 12, 13]\n",
        "# 探索したい値\n",
        "target_number = 11\n",
        "# バイナリーサーチの実行\n",
        "binary_search(numbers, target_number)"
      ]
    },
    {
      "cell_type": "markdown",
      "metadata": {},
      "source": [
        "##  解答例"
      ]
    },
    {
      "cell_type": "markdown",
      "metadata": {
        "id": "commentary"
      },
      "source": [
        "添削課題の提出は以下のアドレスから提出いただきますようお願いします。<br>\n\b",
        "\n",
        "https://goo.gl/forms/fW7CAspZMwHuWuqk2<br><br>\n",
        "以下のアドレスからアンケートにご協力頂きたく存じます。<br>\n",
        "ご回答のほど、よろしくお願いいたします。\n",
        "\n",
        "https://goo.gl/forms/WHjJQYeodIndRvyz2"
      ]
    }
  ],
  "metadata": {
    "kernelspec": {
      "display_name": "Python 3",
      "language": "python",
      "name": "python3"
    },
    "language_info": {
      "codemirror_mode": {
        "name": "ipython",
        "version": 3
      },
      "file_extension": ".py",
      "mimetype": "text/x-python",
      "name": "python",
      "nbconvert_exporter": "python",
      "pygments_lexer": "ipython3",
      "version": "3.6.1"
    }
  },
  "nbformat": 4,
  "nbformat_minor": 2
}