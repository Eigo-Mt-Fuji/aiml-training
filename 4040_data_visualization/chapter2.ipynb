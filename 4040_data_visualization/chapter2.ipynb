{
 "cells": [
  {
   "cell_type": "markdown",
   "metadata": {
    "chapterId": "H1NeLCPx07M",
    "id": "chapter_name"
   },
   "source": [
    "# matplotlibの使い方"
   ]
  },
  {
   "cell_type": "markdown",
   "metadata": {
    "id": "table"
   },
   "source": [
    "- **[2.1 1種類のデータを可視化する](#2.1-1種類のデータを可視化する)**\n",
    "    - **[2.1.1 グラフにデータをプロットする](#2.1.1-グラフにデータをプロットする)**\n",
    "    - **[2.1.2 グラフの表示範囲を設定する](#2.1.2-グラフの表示範囲を設定する)**\n",
    "    - **[2.1.3 グラフの要素に名前を設定する](#2.1.3-グラフの要素に名前を設定する)**\n",
    "    - **[2.1.4 グラフにグリッドを表示する](#2.1.4-グラフにグリッドを表示する)**\n",
    "    - **[2.1.5 グラフの軸にラベルを設定する](#2.1.5-グラフの軸にラベルを設定する)**\n",
    "<br><br>\n",
    "- **[2.2 複数のデータを可視化する1](#2.2-複数のデータを可視化する1)**\n",
    "    - **[2.2.1 1つのグラフに2種類のデータをプロットする](#2.2.1-1つのグラフに2種類のデータをプロットする)**\n",
    "    - **[2.2.2 系列ラベルを設定する](#2.2.2-系列ラベルを設定する)**\n",
    "<br><br>\n",
    "- **[2.3 複数のデータを可視化する2](#2.3-複数のデータを可視化する2)**\n",
    "    - **[2.3.1 図の大きさを設定する](#2.3.1-図の大きさを設定する)**\n",
    "    - **[2.3.2 サブプロットを作成する](#2.3.2-サブプロットを作成する)**\n",
    "    - **[2.3.3 サブプロットのまわりの余白を調整する](#2.3.3-サブプロットのまわりの余白を調整する)**\n",
    "    - **[2.3.4 サブプロット内のグラフの表示範囲を設定する](#2.3.4-サブプロット内のグラフの表示範囲を設定する)**\n",
    "    - **[2.3.5 サブプロット内のグラフの要素に名前を設定する](#2.3.5-サブプロット内のグラフの要素に名前を設定する)**\n",
    "    - **[2.3.6 サブプロット内のグラフにグリッドを表示する](#2.3.6-サブプロット内のグラフにグリッドを表示する)**\n",
    "    - **[2.3.7 サブプロット内のグラフの軸にラベルを設定する](#2.3.7-サブプロット内のグラフの軸にラベルを設定する)**"
   ]
  },
  {
   "cell_type": "markdown",
   "metadata": {},
   "source": [
    "***"
   ]
  },
  {
   "cell_type": "markdown",
   "metadata": {
    "id": "section_name",
    "sectionId": "S1HxUAPlC7M"
   },
   "source": [
    "## 2.1 1種類のデータを可視化する"
   ]
  },
  {
   "cell_type": "markdown",
   "metadata": {
    "courseId": 4040,
    "exerciseId": "r1IgLRDe0mf",
    "id": "code_session_name",
    "important": false,
    "isDL": false,
    "timeoutSecs": 10
   },
   "source": [
    "### 2.1.1 グラフにデータをプロットする"
   ]
  },
  {
   "cell_type": "markdown",
   "metadata": {
    "id": "description"
   },
   "source": [
    "**データ分析を行う上でデータを視覚化することはとても有効**な手段の一つです。 \n",
    "\n",
    "**<font color=#AA0000>matplotlib</font>** というライブラリはデータを視覚化するための機能が豊富に揃っています。`matplotlib.pyplot.plot(x軸に対応するデータ, y軸に対応するデータ)` を用いることでグラフのx軸(横軸)とy軸(縦軸)にデータを簡単に対応させてグラフを作成することができます。\n",
    "\n",
    "その後、`matplotlib.pyplot.show()`を使うことで画面上に表示されます。それでは、早速使ってみましょう。"
   ]
  },
  {
   "cell_type": "markdown",
   "metadata": {},
   "source": [
    "#### 問題"
   ]
  },
  {
   "cell_type": "markdown",
   "metadata": {
    "id": "question"
   },
   "source": [
    "- 一番初めに`matplotlib.pyplot`を`plt`として`import`してください。\n",
    "- `plt.plot()`を用いて **x軸に変数`x`、y軸に変数`y`のデータを対応させて** ください。"
   ]
  },
  {
   "cell_type": "code",
   "execution_count": null,
   "metadata": {
    "id": "index"
   },
   "outputs": [],
   "source": [
    "# matplotlib.pyplotをpltとしてimport\n",
    "import\n",
    "import numpy as np\n",
    "%matplotlib inline\n",
    "\n",
    "x = np.linspace(0, 2*np.pi)\n",
    "y = np.sin(x)\n",
    "\n",
    "# データx,yをグラフにプロットし、表示してください\n",
    "\n",
    "\n",
    "plt.show()\n"
   ]
  },
  {
   "cell_type": "markdown",
   "metadata": {},
   "source": [
    "#### ヒント"
   ]
  },
  {
   "cell_type": "markdown",
   "metadata": {
    "id": "hint"
   },
   "source": [
    "- `plt.plot(x軸に対応するデータ, y軸に対応するデータ)` でグラフを作成します\n",
    "- `plt.pyplot.show()` で表示します"
   ]
  },
  {
   "cell_type": "markdown",
   "metadata": {},
   "source": [
    "#### 解答例"
   ]
  },
  {
   "cell_type": "code",
   "execution_count": null,
   "metadata": {
    "id": "answer"
   },
   "outputs": [],
   "source": [
    "# matplotlib.pyplotをpltとしてimport\n",
    "import matplotlib.pyplot as plt\n",
    "import numpy as np\n",
    "%matplotlib inline\n",
    "\n",
    "x = np.linspace(0, 2*np.pi)\n",
    "y = np.sin(x)\n",
    "\n",
    "# データx,yをグラフにプロットし、表示してください\n",
    "plt.plot(x,y)\n",
    "\n",
    "plt.show()\n"
   ]
  },
  {
   "cell_type": "markdown",
   "metadata": {},
   "source": [
    "***"
   ]
  },
  {
   "cell_type": "markdown",
   "metadata": {
    "courseId": 4040,
    "exerciseId": "r1wgUADeAQG",
    "id": "code_session_name",
    "important": false,
    "isDL": false,
    "timeoutSecs": 10
   },
   "source": [
    "### 2.1.2 グラフの表示範囲を設定する"
   ]
  },
  {
   "cell_type": "markdown",
   "metadata": {
    "id": "description"
   },
   "source": [
    "`matplotlib.pyplot`を用いてグラフを作成する際、**グラフの表示範囲は自動で設定**されます。\n",
    "\n",
    "それぞれに軸に割り当てたデータ（リスト）の`min()`及び`max()`が表示範囲の最小値と最大値になるため、**データのすべての部分が自動で可視化**されます。\n",
    "\n",
    "しかし、グラフの一部だけを表示させたい場合もあります。この場合は\n",
    "\n",
    "`matplotlib.pyplot.xlim([0,10])`\n",
    "\n",
    "などでグラフの表示範囲を指定することができます。ここで用いた`xlim`はx軸の範囲を指定する関数です。"
   ]
  },
  {
   "cell_type": "markdown",
   "metadata": {},
   "source": [
    "#### 問題"
   ]
  },
  {
   "cell_type": "markdown",
   "metadata": {
    "id": "question"
   },
   "source": [
    "- `plt.plot()`を用いて **x軸に変数x** 、**y軸に変数y**のデータを対応させてください。ただし、**y軸の表示範囲を`[0,1]`** にしてください。"
   ]
  },
  {
   "cell_type": "code",
   "execution_count": null,
   "metadata": {
    "id": "index"
   },
   "outputs": [],
   "source": [
    "# matplotlib.pyplotをpltとしてimport\n",
    "import matplotlib.pyplot as plt\n",
    "import numpy as np\n",
    "\n",
    "%matplotlib inline\n",
    "# np.piは円周率を表します\n",
    "x = np.linspace(0, 2*np.pi)\n",
    "y = np.sin(x)\n",
    "\n",
    "# y軸の表示範囲を[0,1]に指定してください\n",
    "\n",
    "\n",
    "# データx,yをグラフにプロットし、表示します\n",
    "plt.plot(x, y)\n",
    "plt.show()\n"
   ]
  },
  {
   "cell_type": "markdown",
   "metadata": {},
   "source": [
    "#### ヒント"
   ]
  },
  {
   "cell_type": "markdown",
   "metadata": {
    "id": "hint"
   },
   "source": [
    "- y軸の表示範囲は`plot.ylim(\"範囲\")`で指定することができます。"
   ]
  },
  {
   "cell_type": "markdown",
   "metadata": {},
   "source": [
    "#### 解答例"
   ]
  },
  {
   "cell_type": "code",
   "execution_count": null,
   "metadata": {
    "id": "answer",
    "scrolled": true
   },
   "outputs": [],
   "source": [
    "# matplotlib.pyplotをpltとしてimport\n",
    "import matplotlib.pyplot as plt\n",
    "import numpy as np\n",
    "\n",
    "%matplotlib inline\n",
    "# np.piは円周率を表します\n",
    "x = np.linspace(0, 2*np.pi)\n",
    "y = np.sin(x)\n",
    "\n",
    "# y軸の表示範囲を[0,1]に指定してください\n",
    "plt.ylim([0, 1])\n",
    "\n",
    "# データx,yをグラフにプロットし、表示します\n",
    "plt.plot(x, y)\n",
    "plt.show()\n"
   ]
  },
  {
   "cell_type": "markdown",
   "metadata": {},
   "source": [
    "***"
   ]
  },
  {
   "cell_type": "markdown",
   "metadata": {
    "courseId": 4040,
    "exerciseId": "HJdxU0DgAXf",
    "id": "code_session_name",
    "important": false,
    "isDL": false,
    "timeoutSecs": 10
   },
   "source": [
    "### 2.1.3 グラフの要素に名前を設定する"
   ]
  },
  {
   "cell_type": "markdown",
   "metadata": {
    "id": "description"
   },
   "source": [
    "見やすいグラフにはタイトルがついていたり、それぞれの軸が何を表しているのかが示されています。\n",
    "\n",
    "`matplotlib.pyplot`がもつメソッドを用いることで、**グラフの様々な要素に名前を設定**することができます。\n",
    "\n",
    "例えば、\n",
    "グラフのタイトルは`matplotlib.pyplot.title(\"タイトル\")`、\n",
    "グラフのx軸の名前は`matplotlib.pyplot.xlabel(\"x軸の名前\")`\n",
    "\n",
    "で設定することができます。"
   ]
  },
  {
   "cell_type": "markdown",
   "metadata": {},
   "source": [
    "#### 問題"
   ]
  },
  {
   "cell_type": "markdown",
   "metadata": {
    "id": "question"
   },
   "source": [
    "- グラフのタイトルは **\"y=sin(x)( 0< y< 1)\"** と設定してください\n",
    "- グラフの **x軸に\"x-axis\"** 、**y軸に\"y-axis\"** と名前を設定してください。"
   ]
  },
  {
   "cell_type": "code",
   "execution_count": null,
   "metadata": {
    "id": "index"
   },
   "outputs": [],
   "source": [
    "# matplotlib.pyplotをpltとしてimport\n",
    "import matplotlib.pyplot as plt\n",
    "import numpy as np\n",
    "\n",
    "%matplotlib inline\n",
    "\n",
    "x = np.linspace(0, 2*np.pi)\n",
    "y = np.sin(x)\n",
    "\n",
    "# グラフのタイトルを設定してください\n",
    "\n",
    "# グラフのx軸とy軸に名前を設定してください\n",
    "\n",
    "\n",
    "# y軸の表示範囲を[0,1]に指定してください\n",
    "plt.ylim([0, 1])\n",
    "# データx,yをグラフにプロットし、表示します\n",
    "plt.plot(x, y)\n",
    "plt.show()\n"
   ]
  },
  {
   "cell_type": "markdown",
   "metadata": {},
   "source": [
    "#### ヒント"
   ]
  },
  {
   "cell_type": "markdown",
   "metadata": {
    "id": "hint"
   },
   "source": [
    "- `plt.title(\"タイトル\")`でタイトルを設定します\n",
    "- `plt.xlabel(\"x軸の名前\")`でx軸の名前を設定します\n",
    "- `plt.ylabel(\"y軸の名前\")`でy軸の名前を設定します"
   ]
  },
  {
   "cell_type": "markdown",
   "metadata": {},
   "source": [
    "#### 解答例"
   ]
  },
  {
   "cell_type": "code",
   "execution_count": null,
   "metadata": {
    "id": "answer",
    "scrolled": true
   },
   "outputs": [],
   "source": [
    "# matplotlib.pyplotをpltとしてimport\n",
    "import matplotlib.pyplot as plt\n",
    "import numpy as np\n",
    "\n",
    "%matplotlib inline\n",
    "\n",
    "x = np.linspace(0, 2*np.pi)\n",
    "y = np.sin(x)\n",
    "\n",
    "# グラフのタイトルを設定してください\n",
    "plt.title(\"y=sin(x)( 0< y< 1)\")\n",
    "# グラフのx軸とy軸に名前を設定してください\n",
    "plt.xlabel(\"x-axis\")\n",
    "plt.ylabel(\"y-axis\")\n",
    "# y軸の表示範囲を[0,1]に指定してください\n",
    "plt.ylim([0, 1])\n",
    "# データx,yをグラフにプロットし、表示します\n",
    "plt.plot(x, y)\n",
    "plt.show()\n"
   ]
  },
  {
   "cell_type": "markdown",
   "metadata": {},
   "source": [
    "***"
   ]
  },
  {
   "cell_type": "markdown",
   "metadata": {
    "courseId": 4040,
    "exerciseId": "ryYlL0vxCXz",
    "id": "code_session_name",
    "important": false,
    "isDL": false,
    "timeoutSecs": 10
   },
   "source": [
    "### 2.1.4 グラフにグリッドを表示する"
   ]
  },
  {
   "cell_type": "markdown",
   "metadata": {
    "id": "description"
   },
   "source": [
    "見やすいグラフには、**<font color=#AA0000>グリッド（格子）</font>** が描かれています。`matplotlib.pyplot.grid(True)`とすることでグリッドが表されます。デフォルトでは、グリッドが表示されないようになっています。"
   ]
  },
  {
   "cell_type": "markdown",
   "metadata": {},
   "source": [
    "#### 問題"
   ]
  },
  {
   "cell_type": "markdown",
   "metadata": {
    "id": "question"
   },
   "source": [
    "- グラフにグリッドを表示させてください。"
   ]
  },
  {
   "cell_type": "code",
   "execution_count": null,
   "metadata": {
    "id": "index"
   },
   "outputs": [],
   "source": [
    "# matplotlib.pyplotをpltとしてimport\n",
    "import matplotlib.pyplot as plt\n",
    "import numpy as np\n",
    "\n",
    "%matplotlib inline\n",
    "\n",
    "x = np.linspace(0, 2*np.pi)\n",
    "y = np.sin(x)\n",
    "\n",
    "# グラフのタイトルを設定してください\n",
    "plt.title(\"y=sin(x)\")\n",
    "# グラフのx軸とy軸に名前を設定してください\n",
    "plt.xlabel(\"x-axis\")\n",
    "plt.ylabel(\"y-axis\")\n",
    "# グラフにグリッドを表示してください\n",
    "\n",
    "\n",
    "# データx,yをグラフにプロットし、表示します\n",
    "plt.plot(x, y)\n",
    "plt.show()\n"
   ]
  },
  {
   "cell_type": "markdown",
   "metadata": {},
   "source": [
    "#### ヒント"
   ]
  },
  {
   "cell_type": "markdown",
   "metadata": {
    "id": "hint"
   },
   "source": [
    "- `plt.grid(True)`でグリッドを表示します"
   ]
  },
  {
   "cell_type": "markdown",
   "metadata": {},
   "source": [
    "#### 解答例"
   ]
  },
  {
   "cell_type": "code",
   "execution_count": null,
   "metadata": {
    "id": "answer",
    "scrolled": true
   },
   "outputs": [],
   "source": [
    "# matplotlib.pyplotをpltとしてimport\n",
    "import matplotlib.pyplot as plt\n",
    "import numpy as np\n",
    "\n",
    "%matplotlib inline\n",
    "\n",
    "x = np.linspace(0, 2*np.pi)\n",
    "y = np.sin(x)\n",
    "\n",
    "# グラフのタイトルを設定してください\n",
    "plt.title(\"y=sin(x)\")\n",
    "# グラフのx軸とy軸に名前を設定してください\n",
    "plt.xlabel(\"x-axis\")\n",
    "plt.ylabel(\"y-axis\")\n",
    "# グラフにグリッドを表示してください\n",
    "plt.grid(True)\n",
    "\n",
    "# データx,yをグラフにプロットし、表示します\n",
    "plt.plot(x, y)\n",
    "plt.show()\n"
   ]
  },
  {
   "cell_type": "markdown",
   "metadata": {},
   "source": [
    "***"
   ]
  },
  {
   "cell_type": "markdown",
   "metadata": {
    "courseId": 4040,
    "exerciseId": "ByceU0wgAQG",
    "id": "code_session_name",
    "important": false,
    "isDL": false,
    "timeoutSecs": 10
   },
   "source": [
    "### 2.1.5 グラフの軸に目盛りを設定する"
   ]
  },
  {
   "cell_type": "markdown",
   "metadata": {
    "id": "description"
   },
   "source": [
    "matplotlibを用いてグラフを作成した際、**x軸とy軸に自動で目盛りがつきます。** \n",
    "\n",
    "大抵の場合、それぞれの軸のきりのいい値の箇所で目盛りが付けられますが、データの種類によっては都合が悪いときもあります。\n",
    "\n",
    "そこで、x軸に挿入する目盛りは、\n",
    "\n",
    "`matplotlib.pyplot.xticks(目盛りを挿入する位置,挿入する目盛り)`\n",
    "\n",
    "で設定することができます。"
   ]
  },
  {
   "cell_type": "markdown",
   "metadata": {},
   "source": [
    "#### 問題"
   ]
  },
  {
   "cell_type": "markdown",
   "metadata": {
    "id": "question"
   },
   "source": [
    "- グラフのx軸に目盛りを設定してください\n",
    "- 目盛りを挿入する位置は`positions`に入っています。目盛りは`labels`に入っています。"
   ]
  },
  {
   "cell_type": "code",
   "execution_count": null,
   "metadata": {
    "id": "index"
   },
   "outputs": [],
   "source": [
    "# matplotlib.pyplotをpltとしてimport\n",
    "import matplotlib.pyplot as plt\n",
    "import numpy as np\n",
    "\n",
    "%matplotlib inline\n",
    "\n",
    "x = np.linspace(0, 2*np.pi)\n",
    "y = np.sin(x)\n",
    "# グラフのタイトルを設定してください\n",
    "plt.title(\"y=sin(x)\")\n",
    "# グラフのx軸とy軸に名前を設定してください\n",
    "plt.xlabel(\"x-axis\")\n",
    "plt.ylabel(\"y-axis\")\n",
    "# グラフにグリッドを表示させてください\n",
    "plt.grid(True)\n",
    "# positionsとlabelsの設定\n",
    "positions = [0, np.pi/2, np.pi, np.pi*3/2, np.pi*2]\n",
    "labels = [\"0°\", \"90°\", \"180°\", \"270°\", \"360°\"]\n",
    "# グラフのx軸に目盛りを設定してください\n",
    "\n",
    "\n",
    "# データx,yをグラフにプロットし、表示します\n",
    "plt.plot(x,y)\n",
    "plt.show()\n"
   ]
  },
  {
   "cell_type": "markdown",
   "metadata": {},
   "source": [
    "#### ヒント"
   ]
  },
  {
   "cell_type": "markdown",
   "metadata": {
    "id": "hint"
   },
   "source": [
    "- `plt.xticks(目盛りを挿入する位置, 挿入する目盛り)`で設定します。"
   ]
  },
  {
   "cell_type": "markdown",
   "metadata": {},
   "source": [
    "#### 解答例"
   ]
  },
  {
   "cell_type": "code",
   "execution_count": null,
   "metadata": {
    "id": "answer",
    "scrolled": true
   },
   "outputs": [],
   "source": [
    "# matplotlib.pyplotをpltとしてimport\n",
    "import matplotlib.pyplot as plt\n",
    "import numpy as np\n",
    "\n",
    "%matplotlib inline\n",
    "\n",
    "x = np.linspace(0, 2*np.pi)\n",
    "y = np.sin(x)\n",
    "# グラフのタイトルを設定してください\n",
    "plt.title(\"y=sin(x)\")\n",
    "# グラフのx軸とy軸に名前を設定してください\n",
    "plt.xlabel(\"x-axis\")\n",
    "plt.ylabel(\"y-axis\")\n",
    "# グラフにグリッドを表示させてください\n",
    "plt.grid(True)\n",
    "# positionsとlabelsの設定\n",
    "positions = [0, np.pi/2, np.pi, np.pi*3/2, np.pi*2]\n",
    "labels = [\"0°\", \"90°\", \"180°\", \"270°\", \"360°\"]\n",
    "# グラフのx軸に目盛りを設定してください\n",
    "plt.xticks(positions, labels)\n",
    "\n",
    "# データx,yをグラフにプロットし、表示します\n",
    "plt.plot(x,y)\n",
    "plt.show()\n"
   ]
  },
  {
   "cell_type": "markdown",
   "metadata": {},
   "source": [
    "***"
   ]
  },
  {
   "cell_type": "markdown",
   "metadata": {
    "id": "section_name",
    "sectionId": "HyjlIRvgAmf"
   },
   "source": [
    "## 2.2 複数のデータを可視化する1"
   ]
  },
  {
   "cell_type": "markdown",
   "metadata": {
    "courseId": 4040,
    "exerciseId": "ry3xU0veA7f",
    "id": "code_session_name",
    "important": false,
    "isDL": false,
    "timeoutSecs": 10
   },
   "source": [
    "### 2.2.1 1つのグラフに2種類のデータをプロットする"
   ]
  },
  {
   "cell_type": "markdown",
   "metadata": {
    "id": "description"
   },
   "source": [
    "1つのグラフに複数のデータを表示させたいときがあります。この場合、 **2つのデータがグラフ上で区別できなければなりません。**\n",
    "\n",
    "`matplotlib.pyplot.plot(x, y, color=\"色指定\")`\n",
    "\n",
    "でデータがグラフ上に**プロットされる時の色を指定**することができます。\n",
    "\n",
    "また、一回の実行で`matplotlib.pyplot.plot()`に異なる変数を複数回渡すごとに、プロットがグラフ上に反映されます。\n",
    "\n",
    "プロットの色は**HTMLカラーコード**で指定できます。\n",
    "\n",
    "**HTMLカラーコード** とは、\n",
    " `#0000ff` のような、#の後の16進数（0～9＋A～F）6桁の英数字で色を表したものです\n",
    "\n",
    "例えば <font color=#AA0000>この色</font> は `#AA0000`と表すことができます。\n",
    "\n",
    "また、以下の文字でも指定することができます。\n",
    "- `\"b\"` : 青\n",
    "- `\"g\"` : 緑\n",
    "- `\"r\"` : 赤\n",
    "- `\"c\"` : シアン\n",
    "- `\"m\"` : マゼンタ\n",
    "- `\"y\"` : 黄色\n",
    "- `\"k\"` : 黒\n",
    "- `\"w\"` : 白"
   ]
  },
  {
   "cell_type": "markdown",
   "metadata": {},
   "source": [
    "#### 問題"
   ]
  },
  {
   "cell_type": "markdown",
   "metadata": {
    "id": "question"
   },
   "source": [
    "- `plt.plot()`を用いて**x軸に変数x** 、**y軸に変数y1** のデータを対応させてください。その際、**赤でプロット** してください。\n",
    "- `plt.plot()`を用いて**x軸に変数x** 、**y軸に変数y2** のデータを対応させてください。その際、**青でプロット** してください。\n",
    "- 色の指定は **赤** は `'r'`、**青** は`'b'` を用いてください"
   ]
  },
  {
   "cell_type": "code",
   "execution_count": null,
   "metadata": {
    "id": "index"
   },
   "outputs": [],
   "source": [
    "# matplotlib.pyplotをpltとしてimport\n",
    "import matplotlib.pyplot as plt\n",
    "import numpy as np\n",
    "\n",
    "%matplotlib inline\n",
    "\n",
    "x = np.linspace(0, 2*np.pi)\n",
    "y1 = np.sin(x)\n",
    "y2 = np.cos(x)\n",
    "labels = [\"90°\", \"180°\", \"270°\", \"360°\"]\n",
    "positions = [np.pi/2, np.pi, np.pi*3/2, np.pi*2]\n",
    "# グラフのタイトルを設定する\n",
    "plt.title(\"graphs of trigonometric functions\")\n",
    "# グラフのx軸とy軸に名前を設定する\n",
    "plt.xlabel(\"x-axis\")\n",
    "plt.ylabel(\"y-axis\")\n",
    "# グラフにグリッドを表示する\n",
    "plt.grid(True)\n",
    "# グラフのx軸にラベルを設定する\n",
    "plt.xticks(positions, labels)\n",
    "# データx, y1をグラフにプロットし、赤で表示してください\n",
    "\n",
    "\n",
    "# データx, y2をグラフにプロットし、青で表示してください\n",
    "\n",
    "\n",
    "plt.show()\n"
   ]
  },
  {
   "cell_type": "markdown",
   "metadata": {},
   "source": [
    "#### ヒント"
   ]
  },
  {
   "cell_type": "markdown",
   "metadata": {
    "id": "hint"
   },
   "source": [
    "- `plt.plot(x, y, color=\"色\")`で色を指定してプロットできます。異なるデータで複数行書くとそれぞれが同じグラフにプロットされます。\n",
    "- 赤は`\"r\"` 青は`\"b\"`  指定できます。"
   ]
  },
  {
   "cell_type": "markdown",
   "metadata": {},
   "source": [
    "#### 解答例"
   ]
  },
  {
   "cell_type": "code",
   "execution_count": null,
   "metadata": {
    "id": "answer",
    "scrolled": false
   },
   "outputs": [],
   "source": [
    "# matplotlib.pyplotをpltとしてimport\n",
    "import matplotlib.pyplot as plt\n",
    "import numpy as np\n",
    "\n",
    "%matplotlib inline\n",
    "\n",
    "x = np.linspace(0, 2*np.pi)\n",
    "y1 = np.sin(x)\n",
    "y2 = np.cos(x)\n",
    "labels = [\"90°\", \"180°\", \"270°\", \"360°\"]\n",
    "positions = [np.pi/2, np.pi, np.pi*3/2, np.pi*2]\n",
    "# グラフのタイトルを設定する\n",
    "plt.title(\"graphs of trigonometric functions\")\n",
    "# グラフのx軸とy軸に名前を設定する\n",
    "plt.xlabel(\"x-axis\")\n",
    "plt.ylabel(\"y-axis\")\n",
    "# グラフにグリッドを表示する\n",
    "plt.grid(True)\n",
    "# グラフのx軸にラベルを設定する\n",
    "plt.xticks(positions, labels)\n",
    "# データx, y1をグラフにプロットし、赤で表示してください\n",
    "plt.plot(x, y1, color=\"r\") \n",
    "\n",
    "# データx, y2をグラフにプロットし、青で表示してください\n",
    "plt.plot(x, y2, color=\"b\") \n",
    "\n",
    "plt.show()\n"
   ]
  },
  {
   "cell_type": "markdown",
   "metadata": {},
   "source": [
    "***"
   ]
  },
  {
   "cell_type": "markdown",
   "metadata": {
    "courseId": 4040,
    "exerciseId": "S16gICvlRmz",
    "id": "code_session_name",
    "important": false,
    "isDL": false,
    "timeoutSecs": 10
   },
   "source": [
    "### 2.2.2 系列ラベルを設定する"
   ]
  },
  {
   "cell_type": "markdown",
   "metadata": {
    "id": "description"
   },
   "source": [
    "1つのグラフ内に複数の系列のデータを表示し色で区別することができても、それぞれの系列が何を表しているのかが分からなければ複数の系列のデータを1つのグラフにまとめた意味がありません。\n",
    "\n",
    "そこで、`matplotlib.pyplot.legend([\"ラベル名1\", \"ラベル名2\"...])`でグラフ内の系列ラベルを設定することができます。"
   ]
  },
  {
   "cell_type": "markdown",
   "metadata": {},
   "source": [
    "#### 問題"
   ]
  },
  {
   "cell_type": "markdown",
   "metadata": {
    "id": "question"
   },
   "source": [
    "- `plt.plot()`を用いてx軸に変数`x`、y軸に変数`y1`のデータを対応させてください。その際、\"y=sin(x)\"とラベルを付けて赤でプロットしてください。\n",
    "- `plt.plot()`を用いてx軸に変数`x`、y軸に変数`y2`のデータを対応させてください。その際、\"y=cos(x)\"とラベルを付けて青でプロットしてください。"
   ]
  },
  {
   "cell_type": "code",
   "execution_count": null,
   "metadata": {
    "id": "index"
   },
   "outputs": [],
   "source": [
    "# matplotlib.pyplotをpltとしてimport\n",
    "import matplotlib.pyplot as plt\n",
    "import numpy as np\n",
    "\n",
    "%matplotlib inline\n",
    "\n",
    "x = np.linspace(0, 2*np.pi)\n",
    "y1 = np.sin(x)\n",
    "y2 = np.cos(x)\n",
    "labels = [\"90°\", \"180°\", \"270°\", \"360°\"]\n",
    "positions = [np.pi/2, np.pi, np.pi*3/2, np.pi*2]\n",
    "# グラフのタイトルを設定する\n",
    "plt.title(\"graphs of trigonometric functions\")\n",
    "# グラフのx軸とy軸に名前を設定する\n",
    "plt.xlabel(\"x-axis\")\n",
    "plt.ylabel(\"y-axis\")\n",
    "# グラフにグリッドを表示する\n",
    "plt.grid(True)\n",
    "# グラフのx軸にラベルを設定する\n",
    "plt.xticks(positions, labels)\n",
    "# データx, y1をグラフにプロットし、\"y=sin(x)\"とラベルを付けて赤で表示してください\n",
    "plt.plot(x, y1, color=\"r\", label=  )\n",
    "# データx, y2をグラフにプロットし、\"y=cos(x)\"とラベルを付けて青で表示してください\n",
    "plt.plot(x, y2, color=\"b\", label=  )\n",
    "# 系列ラベルを設定してください\n",
    "plt.legend([\"y=sin(x)\", \"y=cos(x)\"])\n",
    "\n",
    "plt.show()\n"
   ]
  },
  {
   "cell_type": "markdown",
   "metadata": {},
   "source": [
    "#### ヒント"
   ]
  },
  {
   "cell_type": "markdown",
   "metadata": {
    "id": "hint"
   },
   "source": [
    "- `matplotlib.pyplot.legend([\"ラベル名1\", \"ラベル名2\"...])`でラベルを設定することができます。"
   ]
  },
  {
   "cell_type": "markdown",
   "metadata": {},
   "source": [
    "#### 解答例"
   ]
  },
  {
   "cell_type": "code",
   "execution_count": null,
   "metadata": {
    "id": "answer",
    "scrolled": true
   },
   "outputs": [],
   "source": [
    "# matplotlib.pyplotをpltとしてimport\n",
    "import matplotlib.pyplot as plt\n",
    "import numpy as np\n",
    "\n",
    "%matplotlib inline\n",
    "\n",
    "x = np.linspace(0, 2*np.pi)\n",
    "y1 = np.sin(x)\n",
    "y2 = np.cos(x)\n",
    "labels = [\"90°\", \"180°\", \"270°\", \"360°\"]\n",
    "positions = [np.pi/2, np.pi, np.pi*3/2, np.pi*2]\n",
    "# グラフのタイトルを設定する\n",
    "plt.title(\"graphs of trigonometric functions\")\n",
    "# グラフのx軸とy軸に名前を設定する\n",
    "plt.xlabel(\"x-axis\")\n",
    "plt.ylabel(\"y-axis\")\n",
    "# グラフにグリッドを表示する\n",
    "plt.grid(True)\n",
    "# グラフのx軸にラベルを設定する\n",
    "plt.xticks(positions, labels)\n",
    "# データx, y1をグラフにプロットし、\"y=sin(x)\"とラベルを付けて赤で表示してください\n",
    "plt.plot(x, y1, color=\"r\", label=\"y=sin(x)\")\n",
    "# データx, y2をグラフにプロットし、\"y=cos(x)\"とラベルを付けて青で表示してください\n",
    "plt.plot(x, y2, color=\"b\", label=\"y=cos(x)\")\n",
    "# 系列ラベルを設定してください\n",
    "plt.legend([\"y=sin(x)\", \"y=cos(x)\"])\n",
    "\n",
    "plt.show()\n"
   ]
  },
  {
   "cell_type": "markdown",
   "metadata": {},
   "source": [
    "***"
   ]
  },
  {
   "cell_type": "markdown",
   "metadata": {
    "id": "section_name",
    "sectionId": "SyCe8Rvx07M"
   },
   "source": [
    "## 2.3 複数のデータを可視化する2"
   ]
  },
  {
   "cell_type": "markdown",
   "metadata": {
    "courseId": 4040,
    "exerciseId": "H11-8AwgCQM",
    "id": "code_session_name",
    "important": false,
    "isDL": false,
    "timeoutSecs": 10
   },
   "source": [
    "### 2.3.1 図の大きさを設定する"
   ]
  },
  {
   "cell_type": "markdown",
   "metadata": {
    "id": "description"
   },
   "source": [
    "このセクションでは**複数のグラフを作成し、それらを編集する方法**を学びます。\n",
    "\n",
    "matplotlibは図という領域内にグラフを描画します。まずは**図の大きさを指定する方法**を見ていきましょう。\n",
    "\n",
    "`matplotlib.pyplot.figure()`を活用することで図が表示される領域内のすべてを操作できます。\n",
    "\n",
    "`matplotlib.pyplot.figure(figsize=(横の大きさ, 縦の大きさ))`で図の大きさを指定できます。大きさを指定するときの単位は、**インチ**です。"
   ]
  },
  {
   "cell_type": "markdown",
   "metadata": {},
   "source": [
    "#### 問題"
   ]
  },
  {
   "cell_type": "markdown",
   "metadata": {
    "id": "question"
   },
   "source": [
    "- 図が表示される領域の大きさが **4インチ×4インチになるように設定** してください。"
   ]
  },
  {
   "cell_type": "code",
   "execution_count": null,
   "metadata": {
    "id": "index"
   },
   "outputs": [],
   "source": [
    "# matplotlib.pyplotをpltとしてimport\n",
    "import matplotlib.pyplot as plt\n",
    "import numpy as np\n",
    "\n",
    "%matplotlib inline\n",
    "\n",
    "x = np.linspace(0, 2*np.pi)\n",
    "y = np.sin(x)\n",
    "\n",
    "# 図の大きさを設定してください\n",
    "\n",
    "\n",
    "# データx,yをグラフにプロットし、表示する\n",
    "plt.plot(x, y)\n",
    "plt.show()\n"
   ]
  },
  {
   "cell_type": "markdown",
   "metadata": {},
   "source": [
    "#### ヒント"
   ]
  },
  {
   "cell_type": "markdown",
   "metadata": {
    "id": "hint"
   },
   "source": [
    "- `plt.figure(figsize=(横の大きさ, 縦の大きさ))`で図の大きさを指定できます。単位はインチです。"
   ]
  },
  {
   "cell_type": "markdown",
   "metadata": {},
   "source": [
    "#### 解答例"
   ]
  },
  {
   "cell_type": "code",
   "execution_count": null,
   "metadata": {
    "id": "answer",
    "scrolled": true
   },
   "outputs": [],
   "source": [
    "# matplotlib.pyplotをpltとしてimport\n",
    "import matplotlib.pyplot as plt\n",
    "import numpy as np\n",
    "\n",
    "%matplotlib inline\n",
    "\n",
    "x = np.linspace(0, 2*np.pi)\n",
    "y = np.sin(x)\n",
    "\n",
    "# 図の大きさを設定してください\n",
    "plt.figure(figsize=(4, 4))\n",
    "\n",
    "# データx,yをグラフにプロットし、表示する\n",
    "plt.plot(x, y)\n",
    "plt.show()\n"
   ]
  },
  {
   "cell_type": "markdown",
   "metadata": {},
   "source": [
    "***"
   ]
  },
  {
   "cell_type": "markdown",
   "metadata": {
    "courseId": 4040,
    "exerciseId": "B1xW8CPx0mz",
    "id": "code_session_name",
    "important": false,
    "isDL": false,
    "timeoutSecs": 10
   },
   "source": [
    "### 2.3.2 サブプロットを作成する"
   ]
  },
  {
   "cell_type": "markdown",
   "metadata": {
    "id": "description"
   },
   "source": [
    "matplotlibでは、**図よりも小さいサブプロットという単位でグラフを描画する領域を操作**します。\n",
    "\n",
    "サブプロットを作成する際、**図を分割するレイアウト及びその中での当該サブプロットの位置を指定**します。\n",
    "\n",
    "サブプロット関数の引数はこのようになっています。\n",
    "subplot(行数, 列数, 何番目)\n",
    "行数：何行のグラフを作成するのか。\n",
    "列数：何列のグラフを作成するのか。\n",
    "何番目：1行目の左から1,2,3....となります。\n",
    "\n",
    "例えば、図の大きさを4インチ×4インチとし、図を2×3のレイアウトに分割した時の上から2行目、左から2列目に挿入したい場合は次のように指定します。\n",
    "\n",
    "```python\n",
    "\n",
    "fig = matplotlib.pyplot.figure(4, 4)\n",
    "fig.add_subplot(2, 3, 5)\n",
    "```"
   ]
  },
  {
   "cell_type": "markdown",
   "metadata": {},
   "source": [
    "#### 問題"
   ]
  },
  {
   "cell_type": "markdown",
   "metadata": {
    "id": "question"
   },
   "source": [
    "- **2×3のレイアウトの図の上から2行目、左から2列目** にグラフを挿入してください。\n",
    "- 用意された変数figを用いてサブプロットを作成し、**変数axに代入** してください。"
   ]
  },
  {
   "cell_type": "code",
   "execution_count": null,
   "metadata": {
    "id": "index"
   },
   "outputs": [],
   "source": [
    "# matplotlib.pyplotをpltとしてimport\n",
    "import matplotlib.pyplot as plt\n",
    "import numpy as np\n",
    "\n",
    "%matplotlib inline\n",
    "\n",
    "x = np.linspace(0, 2*np.pi)\n",
    "y = np.sin(x)\n",
    "\n",
    "# Figureオブジェクトを作成\n",
    "fig = plt.figure(figsize=(9, 6))\n",
    "# 2×3のレイアウトの上から2行目、左から2列目にサブプロットオブジェクトを作ってください\n",
    "ax =  \n",
    "\n",
    "# データx,yをグラフにプロットし、表示する\n",
    "ax.plot(x,y)\n",
    "\n",
    "# グラフがどこに追加されるか確認するため空白部分をサブプロットで埋める\n",
    "axi = []\n",
    "for i in range(6):\n",
    "    if i==4:\n",
    "        continue\n",
    "    fig.add_subplot(2, 3, i+1)\n",
    "plt.show()\n"
   ]
  },
  {
   "cell_type": "markdown",
   "metadata": {},
   "source": [
    "#### ヒント"
   ]
  },
  {
   "cell_type": "markdown",
   "metadata": {
    "id": "hint"
   },
   "source": [
    "- 図を「サブプロットの縦の数」×「サブプロットの横の数」に分割して左上からの位置を指定します。\n",
    "- 上から2行目、左から2列目は左上から数えて5番目です"
   ]
  },
  {
   "cell_type": "markdown",
   "metadata": {},
   "source": [
    "#### 解答例"
   ]
  },
  {
   "cell_type": "code",
   "execution_count": null,
   "metadata": {
    "id": "answer",
    "scrolled": false
   },
   "outputs": [],
   "source": [
    "# matplotlib.pyplotをpltとしてimport\n",
    "import matplotlib.pyplot as plt\n",
    "import numpy as np\n",
    "\n",
    "%matplotlib inline\n",
    "\n",
    "x = np.linspace(0, 2*np.pi)\n",
    "y = np.sin(x)\n",
    "\n",
    "# Figureオブジェクトを作成\n",
    "fig = plt.figure(figsize=(9, 6))\n",
    "# 2×3のレイアウトの上から2行目、左から2列目にサブプロットオブジェクトを作ってください\n",
    "ax = fig.add_subplot(2, 3, 5) \n",
    "\n",
    "# データx,yをグラフにプロットし、表示する\n",
    "ax.plot(x,y)\n",
    "\n",
    "# グラフがどこに追加されるか確認するため空白部分をサブプロットで埋める\n",
    "axi = []\n",
    "for i in range(6):\n",
    "    if i==4:\n",
    "        continue\n",
    "    fig.add_subplot(2, 3, i+1)\n",
    "plt.show()\n"
   ]
  },
  {
   "cell_type": "markdown",
   "metadata": {},
   "source": [
    "***"
   ]
  },
  {
   "cell_type": "markdown",
   "metadata": {
    "courseId": 4040,
    "exerciseId": "BJZW8ADxCQM",
    "id": "code_session_name",
    "important": false,
    "isDL": false,
    "timeoutSecs": 10
   },
   "source": [
    "### 2.3.3 サブプロットのまわりの余白を調整する"
   ]
  },
  {
   "cell_type": "markdown",
   "metadata": {
    "id": "description"
   },
   "source": [
    "図の中にサブプロットを隣り合わせに配置した場合、軸の名前やタイトルを設定することでサブプロット同士が干渉することがあります。そこで、**サブプロットの周りの余白を調整することでサブプロット同士の干渉を防ぐことができます。**\n",
    "\n",
    "`matplotlib.pyplot.subplots_adjust(wspace=横間隔を空ける割合, hspace=縦間隔を空ける割合)`\n",
    "\n",
    "で**サブプロット間の余白を設定**することができます。"
   ]
  },
  {
   "cell_type": "markdown",
   "metadata": {},
   "source": [
    "#### 問題"
   ]
  },
  {
   "cell_type": "markdown",
   "metadata": {
    "id": "question"
   },
   "source": [
    "- 2×3のレイアウトになっている図内のサブプロット間を、**縦横ともに1の割合**で空けてください。"
   ]
  },
  {
   "cell_type": "code",
   "execution_count": null,
   "metadata": {
    "id": "index"
   },
   "outputs": [],
   "source": [
    "# matplotlib.pyplotをpltとしてimport\n",
    "import matplotlib.pyplot as plt\n",
    "import numpy as np\n",
    "\n",
    "%matplotlib inline\n",
    "\n",
    "x = np.linspace(0, 2*np.pi)\n",
    "y = np.sin(x)\n",
    "labels = [\"90°\", \"180°\", \"270°\", \"360°\"]\n",
    "positions = [np.pi/2, np.pi, np.pi*3/2, np.pi*2]\n",
    "\n",
    "# Figureオブジェクトを作成\n",
    "fig = plt.figure(figsize=(9, 6))\n",
    "# 2×3のレイアウトの上から2行目、左から2列目にサブプロットオブジェクトaxを作る\n",
    "ax = fig.add_subplot(2, 3, 5)\n",
    "# 図内のサブプロット間を、縦横ともに1の割合で空けてください。\n",
    "\n",
    "\n",
    "# データx,yをグラフにプロットし、表示する\n",
    "ax.plot(x, y)\n",
    "#空白部分をサブプロットで埋める\n",
    "axi = []\n",
    "for i in range(6):\n",
    "    if i==4:\n",
    "        continue\n",
    "    fig.add_subplot(2, 3, i+1)\n",
    "plt.show()\n"
   ]
  },
  {
   "cell_type": "markdown",
   "metadata": {},
   "source": [
    "#### ヒント"
   ]
  },
  {
   "cell_type": "markdown",
   "metadata": {
    "id": "hint"
   },
   "source": [
    "- `plt.subplots_adjust(wspace=横間隔を空ける割合, hspace=縦間隔を空ける割合)`でサブプロット間の余白を設定することができます。"
   ]
  },
  {
   "cell_type": "markdown",
   "metadata": {},
   "source": [
    "#### 解答例"
   ]
  },
  {
   "cell_type": "code",
   "execution_count": null,
   "metadata": {
    "id": "answer",
    "scrolled": false
   },
   "outputs": [],
   "source": [
    "# matplotlib.pyplotをpltとしてimport\n",
    "import matplotlib.pyplot as plt\n",
    "import numpy as np\n",
    "\n",
    "%matplotlib inline\n",
    "\n",
    "x = np.linspace(0, 2*np.pi)\n",
    "y = np.sin(x)\n",
    "labels = [\"90°\", \"180°\", \"270°\", \"360°\"]\n",
    "positions = [np.pi/2, np.pi, np.pi*3/2, np.pi*2]\n",
    "\n",
    "# Figureオブジェクトを作成\n",
    "fig = plt.figure(figsize=(9, 6))\n",
    "# 2×3のレイアウトの上から2行目、左から2列目にサブプロットオブジェクトaxを作る\n",
    "ax = fig.add_subplot(2, 3, 5)\n",
    "# 図内のサブプロット間を、縦横ともに1の割合で空けてください。\n",
    "plt.subplots_adjust(wspace=1, hspace=1)\n",
    "\n",
    "# データx,yをグラフにプロットし、表示する\n",
    "ax.plot(x, y)\n",
    "#空白部分をサブプロットで埋める\n",
    "axi = []\n",
    "for i in range(6):\n",
    "    if i==4:\n",
    "        continue\n",
    "    fig.add_subplot(2, 3, i+1)\n",
    "plt.show()\n"
   ]
  },
  {
   "cell_type": "markdown",
   "metadata": {},
   "source": [
    "***"
   ]
  },
  {
   "cell_type": "markdown",
   "metadata": {
    "courseId": 4040,
    "exerciseId": "ryGWURwxCXf",
    "id": "code_session_name",
    "important": false,
    "isDL": false,
    "timeoutSecs": 10
   },
   "source": [
    "### 2.3.4 サブプロット内のグラフの表示範囲を設定する"
   ]
  },
  {
   "cell_type": "markdown",
   "metadata": {
    "id": "description"
   },
   "source": [
    "図の中にグラフを描写するとき、 **グラフの表示範囲を設定することができます。** 設定するときは **x軸、y軸のそれぞれについて設定することができます。** 設定方法は以下の通りです。\n",
    "\n",
    "以下がサブプロット内のグラフの表示範囲の設定方法です。`ax`をサブプロットオブジェクトとします。\n",
    "\n",
    "- x軸の表示範囲を設定する：`ax.set_xlim(範囲)`\n",
    "- y軸の表示範囲を設定する：`ax.set_ylim(範囲)`\n",
    "\n",
    "例えばx軸の表示範囲を[0, 1]とする場合は以下のように設定します。\n",
    "\n",
    "`ax.set_xlim([0, 1])`"
   ]
  },
  {
   "cell_type": "markdown",
   "metadata": {},
   "source": [
    "#### 問題"
   ]
  },
  {
   "cell_type": "markdown",
   "metadata": {
    "id": "question"
   },
   "source": [
    "- サブプロット **`ax`** が用意されています。\n",
    "- `ax`のグラフの **y軸の表示範囲を[0, 1]** に設定してください。"
   ]
  },
  {
   "cell_type": "code",
   "execution_count": null,
   "metadata": {
    "id": "index"
   },
   "outputs": [],
   "source": [
    "# matplotlib.pyplotをpltとしてimport\n",
    "import matplotlib.pyplot as plt\n",
    "import numpy as np\n",
    "\n",
    "%matplotlib inline\n",
    "\n",
    "x = np.linspace(0, 2*np.pi)\n",
    "y = np.sin(x)\n",
    "labels = [\"90°\", \"180°\", \"270°\", \"360°\"]\n",
    "positions = [np.pi/2, np.pi, np.pi*3/2, np.pi*2]\n",
    "\n",
    "# Figureオブジェクトを作成\n",
    "fig = plt.figure(figsize=(9, 6))\n",
    "# 2×3のレイアウトの上から2行目、左から2列目にサブプロットオブジェクトaxを作る\n",
    "ax = fig.add_subplot(2, 3, 5)\n",
    "# 図内のサブプロット間を、縦横ともに1の割合で空ける\n",
    "plt.subplots_adjust(wspace=1, hspace=1)\n",
    "# サブプロットaxのグラフのy軸の表示範囲を[0,1]に設定してください\n",
    "\n",
    "\n",
    "# データx,yをグラフにプロットし、表示する\n",
    "ax.plot(x,y)\n",
    "#空白部分をサブプロットで埋める\n",
    "axi = []\n",
    "for i in range(6):\n",
    "    if i==4:\n",
    "        continue\n",
    "    fig.add_subplot(2, 3, i+1)\n",
    "plt.show()\n"
   ]
  },
  {
   "cell_type": "markdown",
   "metadata": {},
   "source": [
    "#### ヒント"
   ]
  },
  {
   "cell_type": "markdown",
   "metadata": {
    "id": "hint"
   },
   "source": [
    "- 例えば、サブプロットaxのx軸の表示範囲を0から1とする時は、`ax.set_xlim([0, 1])` とします。y軸に関しても同様です。"
   ]
  },
  {
   "cell_type": "markdown",
   "metadata": {},
   "source": [
    "#### 解答例"
   ]
  },
  {
   "cell_type": "code",
   "execution_count": null,
   "metadata": {
    "id": "answer",
    "scrolled": false
   },
   "outputs": [],
   "source": [
    "# matplotlib.pyplotをpltとしてimport\n",
    "import matplotlib.pyplot as plt\n",
    "import numpy as np\n",
    "\n",
    "%matplotlib inline\n",
    "\n",
    "x = np.linspace(0, 2*np.pi)\n",
    "y = np.sin(x)\n",
    "labels = [\"90°\", \"180°\", \"270°\", \"360°\"]\n",
    "positions = [np.pi/2, np.pi, np.pi*3/2, np.pi*2]\n",
    "\n",
    "# Figureオブジェクトを作成\n",
    "fig = plt.figure(figsize=(9, 6))\n",
    "# 2×3のレイアウトの上から2行目、左から2列目にサブプロットオブジェクトaxを作る\n",
    "ax = fig.add_subplot(2, 3, 5)\n",
    "# 図内のサブプロット間を、縦横ともに1の割合で空ける\n",
    "plt.subplots_adjust(wspace=1, hspace=1)\n",
    "# サブプロットaxのグラフのy軸の表示範囲を[0,1]に設定してください\n",
    "ax.set_ylim([0, 1])\n",
    "\n",
    "# データx,yをグラフにプロットし、表示する\n",
    "ax.plot(x,y)\n",
    "#空白部分をサブプロットで埋める\n",
    "axi = []\n",
    "for i in range(6):\n",
    "    if i==4:\n",
    "        continue\n",
    "    fig.add_subplot(2, 3, i+1)\n",
    "plt.show()\n"
   ]
  },
  {
   "cell_type": "markdown",
   "metadata": {},
   "source": [
    "***"
   ]
  },
  {
   "cell_type": "markdown",
   "metadata": {
    "courseId": 4040,
    "exerciseId": "Hkm-I0vxRmf",
    "id": "code_session_name",
    "important": false,
    "isDL": false,
    "timeoutSecs": 10
   },
   "source": [
    "### 2.3.5 サブプロット内のグラフの要素に名前を設定する"
   ]
  },
  {
   "cell_type": "markdown",
   "metadata": {
    "id": "description"
   },
   "source": [
    "図の中に表示した複数のサブプロットのそれぞれが持っているグラフについて、**タイトルやラベルといった要素を設定することができます。** \n",
    "\n",
    "各サブプロットについて、セクション2.1.3で行ったようにグラフの要素に名前を設定していきます。しかし、それぞれのサブプロットについて要素に名前を設定する場合、セクション1で行った方法とは少し違うので注意が必要です。\n",
    "\n",
    "以下がサブプロット内のグラフの要素の名前の設定方法です。`ax`をサブプロットオブジェクトとします。\n",
    "\n",
    "- グラフのタイトルを設定する：`ax.set_title(\"タイトル\")`\n",
    "- x軸の名前を設定する：`ax.set_xlabel(\"x軸の名前\")`\n",
    "- y軸の名前を設定する：`ax.set_ylabel(\"y軸の名前\")`"
   ]
  },
  {
   "cell_type": "markdown",
   "metadata": {},
   "source": [
    "#### 問題"
   ]
  },
  {
   "cell_type": "markdown",
   "metadata": {
    "id": "question"
   },
   "source": [
    "- サブプロット **`ax`** が用意されています。\n",
    "- `ax`のグラフのタイトルを **\"y=sin(x)\"** に設定してください。\n",
    "- `ax`のグラフのx軸の名前を **\"x-axis\"** ,y軸の名前を **\"y-axis** \"に設定してください。"
   ]
  },
  {
   "cell_type": "code",
   "execution_count": null,
   "metadata": {
    "id": "index"
   },
   "outputs": [],
   "source": [
    "# matplotlib.pyplotをpltとしてimport\n",
    "import matplotlib.pyplot as plt\n",
    "import numpy as np\n",
    "\n",
    "%matplotlib inline\n",
    "\n",
    "x = np.linspace(0, 2*np.pi)\n",
    "y = np.sin(x)\n",
    "labels = [\"90°\", \"180°\", \"270°\", \"360°\"]\n",
    "positions = [np.pi/2, np.pi, np.pi*3/2, np.pi*2]\n",
    "\n",
    "# Figureオブジェクトを作成\n",
    "fig = plt.figure(figsize=(9, 6))\n",
    "# 2×3のレイアウトの上から2行目、左から2列目にサブプロットオブジェクトaxを作る\n",
    "ax = fig.add_subplot(2, 3, 5)\n",
    "# 図内のサブプロット間を、縦横ともに1.0の割合で空ける\n",
    "plt.subplots_adjust(wspace=1.0, hspace=1.0)\n",
    "# サブプロットaxのグラフのタイトルを設定してください\n",
    "\n",
    "\n",
    "# サブプロットaxのグラフのx軸、y軸に名前を設定してください\n",
    "\n",
    "\n",
    "\n",
    "# データx,yをグラフにプロットし、表示する\n",
    "ax.plot(x,y)\n",
    "\n",
    "#空白部分をサブプロットで埋める\n",
    "axi = []\n",
    "for i in range(6):\n",
    "    if i==4:\n",
    "        continue\n",
    "    fig.add_subplot(2, 3, i+1)\n",
    "plt.show()\n"
   ]
  },
  {
   "cell_type": "markdown",
   "metadata": {},
   "source": [
    "#### ヒント"
   ]
  },
  {
   "cell_type": "markdown",
   "metadata": {
    "id": "hint"
   },
   "source": [
    "- セクション1で行った設定方法とは少し違います。\n",
    "- グラフのタイトルを設定する：`ax.set_title(\"タイトル\")`\n",
    "- x軸の名前を設定する：`ax.set_xlabel(\"x軸の名前\")`\n",
    "- y軸の名前を設定する：`ax.set_ylabel(\"y軸の名前\")`"
   ]
  },
  {
   "cell_type": "markdown",
   "metadata": {},
   "source": [
    "#### 解答例"
   ]
  },
  {
   "cell_type": "code",
   "execution_count": null,
   "metadata": {
    "id": "answer",
    "scrolled": false
   },
   "outputs": [],
   "source": [
    "# matplotlib.pyplotをpltとしてimport\n",
    "import matplotlib.pyplot as plt\n",
    "import numpy as np\n",
    "\n",
    "%matplotlib inline\n",
    "\n",
    "x = np.linspace(0, 2*np.pi)\n",
    "y = np.sin(x)\n",
    "labels = [\"90°\", \"180°\", \"270°\", \"360°\"]\n",
    "positions = [np.pi/2, np.pi, np.pi*3/2, np.pi*2]\n",
    "\n",
    "# Figureオブジェクトを作成\n",
    "fig = plt.figure(figsize=(9, 6))\n",
    "# 2×3のレイアウトの上から2行目、左から2列目にサブプロットオブジェクトaxを作る\n",
    "ax = fig.add_subplot(2, 3, 5)\n",
    "# 図内のサブプロット間を、縦横ともに1.0の割合で空ける\n",
    "plt.subplots_adjust(wspace=1.0, hspace=1.0)\n",
    "# サブプロットaxのグラフのタイトルを設定してください\n",
    "ax.set_title(\"y=sin(x)\")\n",
    "\n",
    "# サブプロットaxのグラフのx軸、y軸に名前を設定してください\n",
    "ax.set_xlabel(\"x-axis\")\n",
    "ax.set_ylabel(\"y-axis\")\n",
    "\n",
    "# データx,yをグラフにプロットし、表示する\n",
    "ax.plot(x,y)\n",
    "\n",
    "#空白部分をサブプロットで埋める\n",
    "axi = []\n",
    "for i in range(6):\n",
    "    if i==4:\n",
    "        continue\n",
    "    fig.add_subplot(2, 3, i+1)\n",
    "plt.show()\n"
   ]
  },
  {
   "cell_type": "markdown",
   "metadata": {},
   "source": [
    "***"
   ]
  },
  {
   "cell_type": "markdown",
   "metadata": {
    "courseId": 4040,
    "exerciseId": "r14WURPxRQG",
    "id": "code_session_name",
    "important": false,
    "isDL": false,
    "timeoutSecs": 10
   },
   "source": [
    "### 2.3.6 サブプロット内のグラフにグリッドを表示する"
   ]
  },
  {
   "cell_type": "markdown",
   "metadata": {
    "id": "description"
   },
   "source": [
    "このコースのセクション2.1.4でグラフにグリッドを表示させたように、サブプロットごとにグリッドを表示させることができます。サブプロット`ax`のグラフにグリッドを表示させるには、`ax.grid(True)`とします。"
   ]
  },
  {
   "cell_type": "markdown",
   "metadata": {},
   "source": [
    "#### 問題"
   ]
  },
  {
   "cell_type": "markdown",
   "metadata": {
    "id": "question"
   },
   "source": [
    "- サブプロット **`ax`** が用意されています。\n",
    "- `ax`のグラフにグリッドを表示させてください。"
   ]
  },
  {
   "cell_type": "code",
   "execution_count": null,
   "metadata": {
    "id": "index"
   },
   "outputs": [],
   "source": [
    "# matplotlib.pyplotをpltとしてimport\n",
    "import matplotlib.pyplot as plt\n",
    "import numpy as np\n",
    "\n",
    "%matplotlib inline\n",
    "\n",
    "x = np.linspace(0, 2*np.pi)\n",
    "y = np.sin(x)\n",
    "\n",
    "# Figureオブジェクトを作成\n",
    "fig = plt.figure(figsize=(9, 6))\n",
    "# 2×3のレイアウトの上から2行目、左から2列目にサブプロットオブジェクトaxを作る\n",
    "ax = fig.add_subplot(2, 3, 5)\n",
    "# 図内のサブプロット間を、縦横ともに1.0の割合で空ける\n",
    "plt.subplots_adjust(wspace=1.0, hspace=1.0)\n",
    "# サブプロットaxのグラフにグリッドを設定してください\n",
    "\n",
    "\n",
    "# サブプロットaxのグラフのタイトルを設定する\n",
    "ax.set_title(\"y=sin(x)\")\n",
    "# サブプロットaxのグラフのx軸、y軸に名前を設定する\n",
    "ax.set_xlabel(\"x-axis\")\n",
    "ax.set_ylabel(\"y-axis\")\n",
    "# データx,yをグラフにプロットし、表示する\n",
    "ax.plot(x,y)\n",
    "#空白部分をサブプロットで埋める\n",
    "axi = []\n",
    "for i in range(6):\n",
    "    if i==4:\n",
    "        continue\n",
    "    fig.add_subplot(2, 3, i+1)\n",
    "plt.show()"
   ]
  },
  {
   "cell_type": "markdown",
   "metadata": {},
   "source": [
    "#### ヒント"
   ]
  },
  {
   "cell_type": "markdown",
   "metadata": {
    "id": "hint"
   },
   "source": [
    "- サブプロットaxのグラフにグリッドを表示させるには、`ax.grid(True)`とします。"
   ]
  },
  {
   "cell_type": "markdown",
   "metadata": {},
   "source": [
    "#### 解答例"
   ]
  },
  {
   "cell_type": "code",
   "execution_count": null,
   "metadata": {
    "id": "answer",
    "scrolled": false
   },
   "outputs": [],
   "source": [
    "# matplotlib.pyplotをpltとしてimport\n",
    "import matplotlib.pyplot as plt\n",
    "import numpy as np\n",
    "\n",
    "%matplotlib inline\n",
    "\n",
    "x = np.linspace(0, 2*np.pi)\n",
    "y = np.sin(x)\n",
    "\n",
    "# Figureオブジェクトを作成\n",
    "fig = plt.figure(figsize=(9, 6))\n",
    "# 2×3のレイアウトの上から2行目、左から2列目にサブプロットオブジェクトaxを作る\n",
    "ax = fig.add_subplot(2, 3, 5)\n",
    "# 図内のサブプロット間を、縦横ともに1.0の割合で空ける\n",
    "plt.subplots_adjust(wspace=1.0, hspace=1.0)\n",
    "# サブプロットaxのグラフにグリッドを設定してください\n",
    "ax.grid(True)\n",
    "\n",
    "# サブプロットaxのグラフのタイトルを設定する\n",
    "ax.set_title(\"y=sin(x)\")\n",
    "# サブプロットaxのグラフのx軸、y軸に名前を設定する\n",
    "ax.set_xlabel(\"x-axis\")\n",
    "ax.set_ylabel(\"y-axis\")\n",
    "# データx,yをグラフにプロットし、表示する\n",
    "ax.plot(x,y)\n",
    "#空白部分をサブプロットで埋める\n",
    "axi = []\n",
    "for i in range(6):\n",
    "    if i==4:\n",
    "        continue\n",
    "    fig.add_subplot(2, 3, i+1)\n",
    "plt.show()"
   ]
  },
  {
   "cell_type": "markdown",
   "metadata": {},
   "source": [
    "***"
   ]
  },
  {
   "cell_type": "markdown",
   "metadata": {
    "courseId": 4040,
    "exerciseId": "SyS-ICPeAXG",
    "id": "code_session_name",
    "important": false,
    "isDL": false,
    "timeoutSecs": 10
   },
   "source": [
    "### 2.3.7 サブプロット内のグラフの軸に目盛りを設定する"
   ]
  },
  {
   "cell_type": "markdown",
   "metadata": {
    "id": "description"
   },
   "source": [
    "このコースのセクション2.1.5で行ったように、**サブプロットに対して軸の目盛りを設定することができます。** \n",
    "\n",
    "セクション2.1.5で設定した方法とは少し違うので注意が必要です。\n",
    "\n",
    "サブプロット `ax` のx軸に挿入する目盛りの位置は、\n",
    "\n",
    "`ax.set_xticks(\"挿入位置のリスト\")`で設定できます。\n",
    "\n",
    "挿入するラベルは\n",
    "`ax.set_xticklabels(\"目盛りのリスト\")`で指定できます。"
   ]
  },
  {
   "cell_type": "markdown",
   "metadata": {},
   "source": [
    "#### 問題"
   ]
  },
  {
   "cell_type": "markdown",
   "metadata": {
    "id": "question"
   },
   "source": [
    "- サブプロット **`ax`** が用意されています。\n",
    "- `ax`のx軸に目盛りを設定してください。目盛りの挿入位置は`positions`, 目盛りは`labels`に入っています。"
   ]
  },
  {
   "cell_type": "code",
   "execution_count": null,
   "metadata": {
    "id": "index"
   },
   "outputs": [],
   "source": [
    "# matplotlib.pyplotをpltとしてimport\n",
    "import matplotlib.pyplot as plt\n",
    "import numpy as np\n",
    "\n",
    "%matplotlib inline\n",
    "\n",
    "x = np.linspace(0, 2*np.pi)\n",
    "y = np.sin(x)\n",
    "positions = [0, np.pi/2, np.pi, np.pi*3/2, np.pi*2]\n",
    "labels = [\"0°\", \"90°\", \"180°\", \"270°\", \"360°\"]\n",
    "\n",
    "# Figureオブジェクトを作成\n",
    "fig = plt.figure(figsize=(9, 6))\n",
    "# 2×3のレイアウトの上から2行目、左から2列目にサブプロットオブジェクトaxを作る\n",
    "ax = fig.add_subplot(2, 3, 5)\n",
    "# 図内のサブプロット間を、縦横ともに1の割合で空ける\n",
    "plt.subplots_adjust(wspace=1, hspace=1)\n",
    "# サブプロットaxのグラフにグリッドを表示する\n",
    "ax.grid(True)\n",
    "# サブプロットaxのグラフのタイトルを設定する\n",
    "ax.set_title(\"y=sin(x)\")\n",
    "# サブプロットaxのグラフのx軸、y軸に名前を設定する\n",
    "ax.set_xlabel(\"x-axis\")\n",
    "ax.set_ylabel(\"y-axis\")\n",
    "# サブプロットaxのグラフのx軸に目盛りを設定してください\n",
    "\n",
    "\n",
    "\n",
    "# データx,yをグラフにプロットし、表示する\n",
    "ax.plot(x,y)\n",
    "#空白部分をサブプロットで埋める\n",
    "axi = []\n",
    "for i in range(6):\n",
    "    if i==4:\n",
    "        continue\n",
    "    fig.add_subplot(2, 3, i+1)\n",
    "plt.show()\n"
   ]
  },
  {
   "cell_type": "markdown",
   "metadata": {},
   "source": [
    "#### ヒント"
   ]
  },
  {
   "cell_type": "markdown",
   "metadata": {
    "id": "hint"
   },
   "source": [
    "- サブプロット`ax`のx軸に挿入する目盛りの位置は、`ax.set_xticks(\"挿入位置のリスト\")`で設定できます。挿入する目盛りは`ax.set_xticklabels(\"目盛りのリスト\")`で指定できます。"
   ]
  },
  {
   "cell_type": "markdown",
   "metadata": {},
   "source": [
    "#### 解答例"
   ]
  },
  {
   "cell_type": "code",
   "execution_count": null,
   "metadata": {
    "id": "answer",
    "scrolled": false
   },
   "outputs": [],
   "source": [
    "# matplotlib.pyplotをpltとしてimport\n",
    "import matplotlib.pyplot as plt\n",
    "import numpy as np\n",
    "\n",
    "%matplotlib inline\n",
    "\n",
    "x = np.linspace(0, 2*np.pi)\n",
    "y = np.sin(x)\n",
    "positions = [0, np.pi/2, np.pi, np.pi*3/2, np.pi*2]\n",
    "labels = [\"0°\", \"90°\", \"180°\", \"270°\", \"360°\"]\n",
    "\n",
    "# Figureオブジェクトを作成\n",
    "fig = plt.figure(figsize=(9, 6))\n",
    "# 2×3のレイアウトの上から2行目、左から2列目にサブプロットオブジェクトaxを作る\n",
    "ax = fig.add_subplot(2, 3, 5)\n",
    "# 図内のサブプロット間を、縦横ともに1の割合で空ける\n",
    "plt.subplots_adjust(wspace=1, hspace=1)\n",
    "# サブプロットaxのグラフにグリッドを表示する\n",
    "ax.grid(True)\n",
    "# サブプロットaxのグラフのタイトルを設定する\n",
    "ax.set_title(\"y=sin(x)\")\n",
    "# サブプロットaxのグラフのx軸、y軸に名前を設定する\n",
    "ax.set_xlabel(\"x-axis\")\n",
    "ax.set_ylabel(\"y-axis\")\n",
    "# サブプロットaxのグラフのx軸に目盛りを設定してください\n",
    "ax.set_xticks(positions)\n",
    "ax.set_xticklabels(labels)\n",
    "\n",
    "# データx,yをグラフにプロットし、表示する\n",
    "ax.plot(x,y)\n",
    "#空白部分をサブプロットで埋める\n",
    "axi = []\n",
    "for i in range(6):\n",
    "    if i==4:\n",
    "        continue\n",
    "    fig.add_subplot(2, 3, i+1)\n",
    "plt.show()\n",
    "print(positions)"
   ]
  },
  {
   "cell_type": "markdown",
   "metadata": {},
   "source": [
    "***"
   ]
  },
  {
   "cell_type": "markdown",
   "metadata": {
    "id": "chapter_exam"
   },
   "source": [
    "## 添削問題"
   ]
  },
  {
   "cell_type": "markdown",
   "metadata": {
    "id": "description"
   },
   "source": [
    "サブプロットのオブジェクトを増やすことで複数のグラフを同時に表示させることができます。"
   ]
  },
  {
   "cell_type": "markdown",
   "metadata": {},
   "source": [
    "#### 問題"
   ]
  },
  {
   "cell_type": "markdown",
   "metadata": {
    "id": "question"
   },
   "source": [
    "- 3×2のグラフレイアウトを作成し、上段には左から$y=x,y=x^2,y=x^3$、下段には左から$y=sin(x),y=cos(x),y=tan(x)$のグラフをプロットしてください。\n",
    "- それぞれのサブプロットには適切なタイトルをつけてください。また、グリッドを表示させてください。\n",
    "- 上段には\\_upperの付いた変数を、下段には\\_lowerの付いた変数を用いてください。\n",
    "- $y=tan(x)$だけ範囲が違うので\\_tanの付いた変数を代わりに使ってください。"
   ]
  },
  {
   "cell_type": "markdown",
   "metadata": {},
   "source": [
    "#### ヒント"
   ]
  },
  {
   "cell_type": "markdown",
   "metadata": {
    "id": "hint"
   },
   "source": [
    "- $x^2,x^3$にはPythonの演算子**を用います。\n",
    "- $sin(x),cos(x),tan(x)$は全てnumpyモジュールの中にあります。\n",
    "- グラフのタイトルで$x^2$や$x^3$を表示させるには以下のようにします。  \n",
    "`ax.set_title(\"$x^2$\")`"
   ]
  },
  {
   "cell_type": "code",
   "execution_count": null,
   "metadata": {
    "id": "index"
   },
   "outputs": [],
   "source": [
    "# matplotlib.pyplotをpltとしてimport\n",
    "import matplotlib.pyplot as plt\n",
    "import numpy as np\n",
    "\n",
    "%matplotlib inline\n",
    "\n",
    "x_upper = np.linspace(0, 5)\n",
    "x_lower = np.linspace(0, 2 * np.pi)\n",
    "x_tan = np.linspace(-np.pi / 2, np.pi / 2)\n",
    "positions_upper = [i for i in range(5)]\n",
    "positions_lower = [0, np.pi / 2, np.pi, np.pi * 3 / 2, np.pi * 2]\n",
    "positions_tan = [-np.pi / 2, 0, np.pi / 2]\n",
    "labels_upper = [i for i in range(5)]\n",
    "labels_lower = [\"0°\", \"90°\", \"180°\", \"270°\", \"360°\"]\n",
    "labels_tan = [\"-90°\", \"0°\", \"90°\"]\n",
    "\n",
    "# Figureオブジェクトを作成\n",
    "fig = plt.figure(figsize=(9, 6))\n",
    "\n",
    "# 3×2のレイアウトをもつ複数の関数のグラフをプロットしてください\n",
    "\n",
    "\n",
    "plt.show()"
   ]
  },
  {
   "cell_type": "markdown",
   "metadata": {},
   "source": [
    "#### 解答例"
   ]
  },
  {
   "cell_type": "code",
   "execution_count": null,
   "metadata": {
    "id": "answer",
    "scrolled": true
   },
   "outputs": [],
   "source": [
    "# matplotlib.pyplotをpltとしてimport\n",
    "import matplotlib.pyplot as plt\n",
    "import numpy as np\n",
    "\n",
    "%matplotlib inline\n",
    "\n",
    "x_upper = np.linspace(0, 5)\n",
    "x_lower = np.linspace(0, 2 * np.pi)\n",
    "x_tan = np.linspace(-np.pi / 2, np.pi / 2)\n",
    "positions_upper = [i for i in range(5)]\n",
    "positions_lower = [0, np.pi / 2, np.pi, np.pi * 3 / 2, np.pi * 2]\n",
    "positions_tan = [-np.pi / 2, 0, np.pi / 2]\n",
    "labels_upper = [i for i in range(5)]\n",
    "labels_lower = [\"0°\", \"90°\", \"180°\", \"270°\", \"360°\"]\n",
    "labels_tan = [\"-90°\", \"0°\", \"90°\"]\n",
    "\n",
    "# Figureオブジェクトを作成\n",
    "fig = plt.figure(figsize=(9, 6))\n",
    "\n",
    "# 3×2のレイアウトをもつ複数の関数のグラフをプロットしてください\n",
    "# サブプロット同士が重ならないように設定する\n",
    "plt.subplots_adjust(wspace=0.4, hspace=0.4)\n",
    "\n",
    "# 上段のサブプロット作成\n",
    "for i in range(3):\n",
    "    y_upper = x_upper ** (i + 1)\n",
    "    ax = fig.add_subplot(2, 3, i + 1)\n",
    "    # サブプロットaxのグラフにグリッドを表示する\n",
    "    ax.grid(True)\n",
    "    # サブプロットaxのグラフのタイトルを設定する\n",
    "    ax.set_title(\"$y=x^%i$\" % (i + 1))\n",
    "    # サブプロットaxのグラフのx軸、y軸に名前を設定する\n",
    "    ax.set_xlabel(\"x-axis\")\n",
    "    ax.set_ylabel(\"y-axis\")\n",
    "    # サブプロットaxのグラフのx軸にラベルを設定する\n",
    "    ax.set_xticks(positions_upper)\n",
    "    ax.set_xticklabels(labels_upper)\n",
    "    # データx,yをグラフにプロットし、表示する\n",
    "    ax.plot(x_upper, y_upper)\n",
    "\n",
    "# 下段のサブプロット作成\n",
    "# あらかじめリストに使う関数とタイトルを入れておくことでfor文による処理を可能にする\n",
    "y_lower_list = [np.sin(x_lower), np.cos(x_lower)]\n",
    "title_list = [\"$y=sin(x)$\", \"$y=cos(x)$\"]\n",
    "for i in range(2):\n",
    "    y_lower = y_lower_list[i]\n",
    "    ax = fig.add_subplot(2, 3, i + 4)\n",
    "    # サブプロットaxのグラフにグリッドを表示する\n",
    "    ax.grid(True)\n",
    "    # サブプロットaxのグラフのタイトルを設定する\n",
    "    ax.set_title(title_list[i])\n",
    "    # サブプロットaxのグラフのx軸、y軸に名前を設定する\n",
    "    ax.set_xlabel(\"x-axis\")\n",
    "    ax.set_ylabel(\"y-axis\")\n",
    "    # サブプロットaxのグラフのx軸にラベルを設定する\n",
    "    ax.set_xticks(positions_lower)\n",
    "    ax.set_xticklabels(labels_lower)\n",
    "    # データx,yをグラフにプロットし、表示する\n",
    "    ax.plot(x_lower, y_lower)\n",
    "\n",
    "# y=tan(x)のグラフのプロット\n",
    "ax = fig.add_subplot(2, 3, 6)\n",
    "# サブプロットaxのグラフにグリッドを表示する\n",
    "ax.grid(True)\n",
    "# サブプロットaxのグラフのタイトルを設定する\n",
    "ax.set_title(\"$y=tan(x)$\")\n",
    "# サブプロットaxのグラフのx軸、y軸に名前を設定する\n",
    "ax.set_xlabel(\"x-axis\")\n",
    "ax.set_ylabel(\"y-axis\")\n",
    "# サブプロットaxのグラフのx軸にラベルを設定する\n",
    "ax.set_xticks(positions_tan)\n",
    "ax.set_xticklabels(labels_tan)\n",
    "# サブプロットaxのグラフのyの範囲を設定する\n",
    "ax.set_ylim(-1, 1)\n",
    "# データx,yをグラフにプロットし、表示する\n",
    "ax.plot(x_tan, np.tan(x_tan))\n",
    "    \n",
    "plt.show()"
   ]
  },
  {
   "cell_type": "markdown",
   "metadata": {},
   "source": [
    "***"
   ]
  }
 ],
 "metadata": {
  "celltoolbar": "Edit Metadata",
  "kernelspec": {
   "display_name": "Python 3",
   "language": "python",
   "name": "python3"
  },
  "language_info": {
   "codemirror_mode": {
    "name": "ipython",
    "version": 3
   },
   "file_extension": ".py",
   "mimetype": "text/x-python",
   "name": "python",
   "nbconvert_exporter": "python",
   "pygments_lexer": "ipython3",
   "version": "3.6.4"
  },
  "toc": {
   "base_numbering": 1,
   "nav_menu": {},
   "number_sections": true,
   "sideBar": true,
   "skip_h1_title": false,
   "title_cell": "Table of Contents",
   "title_sidebar": "Contents",
   "toc_cell": false,
   "toc_position": {},
   "toc_section_display": true,
   "toc_window_display": true
  }
 },
 "nbformat": 4,
 "nbformat_minor": 2
}