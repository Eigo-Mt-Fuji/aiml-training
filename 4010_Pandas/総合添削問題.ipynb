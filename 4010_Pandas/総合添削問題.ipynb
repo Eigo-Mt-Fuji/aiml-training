{
 "cells": [
  {
   "cell_type": "markdown",
   "metadata": {
    "id": "final_exam",
    "timeout": 60
   },
   "source": [
    "# 総合添削問題"
   ]
  },
  {
   "cell_type": "markdown",
   "metadata": {
    "id": "description"
   },
   "source": [
    "Chapter1とChapter２で学んだことの総復習をします。"
   ]
  },
  {
   "cell_type": "markdown",
   "metadata": {},
   "source": [
    "#### 問題"
   ]
  },
  {
   "cell_type": "markdown",
   "metadata": {
    "id": "question"
   },
   "source": [
    "- 以下のDataFrameについて、コメントアウトの処理を行ってください。"
   ]
  },
  {
   "cell_type": "code",
   "execution_count": 10,
   "metadata": {
    "id": "index"
   },
   "outputs": [
    {
     "name": "stdout",
     "output_type": "stream",
     "text": [
      "       国語  数学  社会  理科  英語\n",
      "taro   30  45  12  45  87\n",
      "mike   65  47  83  17  58\n",
      "kana   64  63  86  57  46\n",
      "jun    38  47  62  91  63\n",
      "sachi  65  36  85  94  36\n",
      "\n",
      "       国語  数学  社会  理科  英語\n",
      "sachi  65  36  85  94  36\n",
      "taro   30  45  12  45  87\n",
      "mike   65  47  83  17  58\n",
      "jun    38  47  62  91  63\n",
      "kana   64  63  86  57  46\n",
      "\n",
      "       国語  数学  社会  理科  英語\n",
      "sachi  70  41  90  99  41\n",
      "taro   35  50  17  50  92\n",
      "mike   70  52  88  22  63\n",
      "jun    43  52  67  96  68\n",
      "kana   69  68  91  62  51\n",
      "\n",
      "              国語         数学         社会         理科         英語\n",
      "count   5.000000   5.000000   5.000000   5.000000   5.000000\n",
      "mean   52.400000  47.600000  65.600000  60.800000  58.000000\n",
      "std    17.038192   9.736529  31.548376  32.391357  19.326148\n",
      "min    30.000000  36.000000  12.000000  17.000000  36.000000\n",
      "25%    38.000000  45.000000  62.000000  45.000000  46.000000\n",
      "50%    64.000000  47.000000  83.000000  57.000000  58.000000\n",
      "75%    65.000000  47.000000  85.000000  91.000000  63.000000\n",
      "max    65.000000  63.000000  86.000000  94.000000  87.000000\n",
      "        国語    数学    社会    理科    英語\n",
      "mean  52.4  47.6  65.6  60.8  58.0\n",
      "max   65.0  63.0  86.0  94.0  87.0\n",
      "min   30.0  36.0  12.0  17.0  36.0\n"
     ]
    }
   ],
   "source": [
    "import pandas as pd\n",
    "\n",
    "index = [\"taro\", \"mike\", \"kana\", \"jun\", \"sachi\"]\n",
    "columns = [\"国語\", \"数学\", \"社会\", \"理科\", \"英語\"]\n",
    "data = [[30, 45, 12, 45, 87], [65, 47, 83, 17, 58], [64, 63, 86, 57, 46, ], [38, 47, 62, 91, 63], [65, 36, 85, 94, 36]]\n",
    "df = pd.DataFrame(data, index=index, columns=columns)\n",
    "\n",
    "# dfの新しい列\"体育\"にpe_columnのデータを追加してください\n",
    "pe_column = pd.Series([56, 43, 73, 82, 62],  index=[\"taro\", \"mike\", \"kana\", \"jun\", \"sachi\"])\n",
    "df\n",
    "print(df)\n",
    "print()\n",
    "\n",
    "# 数学を昇順で並び替えてください\n",
    "df1 = df.sort_values(by=[\"数学\"], ascending = True)\n",
    "print(df1)\n",
    "print()\n",
    "\n",
    "# df1の各要素に5点を足してください\n",
    "df2 = df1 + 5\n",
    "print(df2)\n",
    "print()\n",
    "\n",
    "# dfの要約統計量のうち、\"mean\",  \"max\",  \"min\"を出力してください\n",
    "print(df.describe())\n",
    "print(df.describe().loc[[\"mean\", \"max\", \"min\"]])\n"
   ]
  },
  {
   "cell_type": "markdown",
   "metadata": {},
   "source": [
    "#### ヒント"
   ]
  },
  {
   "cell_type": "markdown",
   "metadata": {
    "id": "hint"
   },
   "source": [
    "- DataFrameの追加はapend()とdf['列の名前']　= Seriesで追加できましたね。"
   ]
  },
  {
   "cell_type": "markdown",
   "metadata": {},
   "source": [
    "##  解答例"
   ]
  },
  {
   "cell_type": "markdown",
   "metadata": {
    "id": "commentary"
   },
   "source": [
    "添削課題の提出は以下のアドレスから提出いただきますようお願いします。<br>\n",
    "\b\n",
    "https://goo.gl/forms/fW7CAspZMwHuWuqk2<br><br>\n",
    "以下のアドレスからアンケートにご協力頂きたく存じます。<br>\n",
    "ご回答のほど、よろしくお願いいたします。\n",
    "\n",
    "https://goo.gl/forms/WHjJQYeodIndRvyz2"
   ]
  }
 ],
 "metadata": {
  "celltoolbar": "Edit Metadata",
  "kernelspec": {
   "display_name": "Python 3",
   "language": "python",
   "name": "python3"
  },
  "language_info": {
   "codemirror_mode": {
    "name": "ipython",
    "version": 3
   },
   "file_extension": ".py",
   "mimetype": "text/x-python",
   "name": "python",
   "nbconvert_exporter": "python",
   "pygments_lexer": "ipython3",
   "version": "3.7.0"
  },
  "toc": {
   "base_numbering": 1,
   "nav_menu": {},
   "number_sections": true,
   "sideBar": true,
   "skip_h1_title": false,
   "title_cell": "Table of Contents",
   "title_sidebar": "Contents",
   "toc_cell": false,
   "toc_position": {},
   "toc_section_display": true,
   "toc_window_display": false
  }
 },
 "nbformat": 4,
 "nbformat_minor": 2
}
