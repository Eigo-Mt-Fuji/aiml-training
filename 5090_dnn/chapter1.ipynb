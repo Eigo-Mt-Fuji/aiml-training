{
 "cells": [
  {
   "cell_type": "markdown",
   "metadata": {
    "chapterId": "HkW8_RQ-gWM",
    "id": "chapter_name"
   },
   "source": [
    "#  深層学習の実践"
   ]
  },
  {
   "cell_type": "markdown",
   "metadata": {
    "id": "table"
   },
   "source": [
    "- **[1.1 深層学習の概要](#1.1-深層学習の概要)**\n",
    "    - **[1.1.1 深層学習を体験してみよう](#1.1.1-深層学習を体験してみよう)**\n",
    "    - **[1.1.2 深層学習とは](#1.1.2-深層学習とは)**\n",
    "    - **[1.1.3 深層学習を用いた分類の流れ](#1.1.3-深層学習を用いた分類の流れ)**\n",
    "<br><br>\n",
    "- **[1.2 手書き数字の分類](#1.2-手書き数字の分類)**\n",
    "    - **[1.2.1 分類までの流れ](#1.2.1-分類までの流れ)**\n",
    "    - **[1.2.2 ディープニューラルネットワーク](#1.2.2-ディープニューラルネットワーク)**\n",
    "    - **[1.2.3 Kerasの導入](#1.2.3-Kerasの導入)**\n",
    "    - **[1.2.4 データの用意](#1.2.4-データの用意)**\n",
    "    - **[1.2.5 モデルの生成](#1.2.5-モデルの生成)**\n",
    "    - **[1.2.6 モデルの学習](#1.2.6-モデルの学習)**\n",
    "    - **[1.2.7 モデルの評価](#1.2.7-モデルの評価)**\n",
    "    - **[1.2.8 モデルによる分類](#1.2.8-モデルによる分類)**\n",
    "<br><br>\n",
    "- **[1.3 添削問題](#1.3-添削問題)**"
   ]
  },
  {
   "cell_type": "markdown",
   "metadata": {},
   "source": [
    "***"
   ]
  },
  {
   "cell_type": "markdown",
   "metadata": {
    "id": "section_name",
    "sectionId": "S1fLdCmZgWz"
   },
   "source": [
    "## 1.1 深層学習の概要"
   ]
  },
  {
   "cell_type": "markdown",
   "metadata": {
    "courseId": 5090,
    "exerciseId": "S1JPdmieG",
    "id": "code_session_name",
    "important": true,
    "isDL": false,
    "timeoutSecs": 30
   },
   "source": [
    "### 1.1.1 深層学習を体験してみよう"
   ]
  },
  {
   "cell_type": "markdown",
   "metadata": {
    "id": "description"
   },
   "source": [
    "それでは、始めにこの講座のゴール地点を体験してみましょう。<br>\n",
    "この講座を最後まで受講すると **課題のような、手書き数字画像データから数字を判別できるコードを書けるようになります。**\n",
    "\n",
    "本講座では、ディープラーニングのなかでも最も基本的な、 **全結合層のみで作られる多層ニューラルネットワーク** を扱います。**全結合層**については、**1.2.2 ディープニューラルネットワーク** で解説します。<br>\n",
    "また、ライブラリは **Keras + Tensorflow** を利用しています。 **Tensorflow** とは、Google社製のディープラーニング用ライブラリであり、最も人気のあるディープラーニングライブラリの一つです。 **Keras** とは、 Tensorflowを扱いやすくするためのライブラリです。<br>\n",
    "コードの各内容についてはこの後のセッションで詳しく説明していきます。<br>"
   ]
  },
  {
   "cell_type": "markdown",
   "metadata": {},
   "source": [
    "#### 問題"
   ]
  },
  {
   "cell_type": "markdown",
   "metadata": {
    "id": "question"
   },
   "source": [
    "次のコードを **RUN(実行)** してエポック数が上がるにつれて**訓練データに対する正解率** `acc` と**テストデータに対する正解率**`val_acc`が上がっている様子を確認してみましょう。"
   ]
  },
  {
   "cell_type": "code",
   "execution_count": null,
   "metadata": {
    "id": "index",
    "timeoutSecs": 30
   },
   "outputs": [],
   "source": [
    "import numpy as np\n",
    "import matplotlib.pyplot as plt\n",
    "from keras.datasets import mnist\n",
    "from keras.layers import Activation, Dense, Dropout\n",
    "from keras.models import Sequential, load_model\n",
    "from keras import optimizers\n",
    "from keras.utils.np_utils import to_categorical\n",
    "\n",
    "(X_train, y_train), (X_test, y_test) = mnist.load_data()\n",
    "\n",
    "X_train = X_train.reshape(X_train.shape[0], 784)[:6000]\n",
    "X_test = X_test.reshape(X_test.shape[0], 784)[:1000]\n",
    "y_train = to_categorical(y_train)[:6000]\n",
    "y_test = to_categorical(y_test)[:1000]\n",
    "\n",
    "model = Sequential()\n",
    "model.add(Dense(256, input_dim=784))\n",
    "model.add(Activation(\"sigmoid\"))\n",
    "model.add(Dense(128))\n",
    "model.add(Activation(\"sigmoid\"))\n",
    "model.add(Dropout(rate=0.5))\n",
    "model.add(Dense(10))\n",
    "model.add(Activation(\"softmax\"))\n",
    "\n",
    "sgd = optimizers.SGD(lr=0.1)\n",
    "model.compile(optimizer=sgd, loss=\"categorical_crossentropy\", metrics=[\"accuracy\"])\n",
    "\n",
    "# epochs数は5を指定\n",
    "history = model.fit(X_train, y_train, batch_size=500, epochs=5, verbose=1, validation_data=(X_test, y_test))\n",
    "\n",
    "#acc, val_accのプロット\n",
    "plt.plot(history.history[\"acc\"], label=\"acc\", ls=\"-\", marker=\"o\")\n",
    "plt.plot(history.history[\"val_acc\"], label=\"val_acc\", ls=\"-\", marker=\"x\")\n",
    "plt.ylabel(\"accuracy\")\n",
    "plt.xlabel(\"epoch\")\n",
    "plt.legend(loc=\"best\")\n",
    "plt.show()"
   ]
  },
  {
   "cell_type": "markdown",
   "metadata": {},
   "source": [
    "#### ヒント"
   ]
  },
  {
   "cell_type": "markdown",
   "metadata": {
    "id": "hint"
   },
   "source": [
    "- エポック数とは学習データを何回繰り返し学習させるかを表します。"
   ]
  },
  {
   "cell_type": "markdown",
   "metadata": {},
   "source": [
    "#### 解答例"
   ]
  },
  {
   "cell_type": "code",
   "execution_count": null,
   "metadata": {
    "id": "answer",
    "timeoutSecs": 30
   },
   "outputs": [],
   "source": [
    "import numpy as np\n",
    "import matplotlib.pyplot as plt\n",
    "from keras.datasets import mnist\n",
    "from keras.layers import Activation, Dense, Dropout\n",
    "from keras.models import Sequential, load_model\n",
    "from keras import optimizers\n",
    "from keras.utils.np_utils import to_categorical\n",
    "\n",
    "(X_train, y_train), (X_test, y_test) = mnist.load_data()\n",
    "\n",
    "X_train = X_train.reshape(X_train.shape[0], 784)[:6000]\n",
    "X_test = X_test.reshape(X_test.shape[0], 784)[:1000]\n",
    "y_train = to_categorical(y_train)[:6000]\n",
    "y_test = to_categorical(y_test)[:1000]\n",
    "\n",
    "model = Sequential()\n",
    "model.add(Dense(256, input_dim=784))\n",
    "model.add(Activation(\"sigmoid\"))\n",
    "model.add(Dense(128))\n",
    "model.add(Activation(\"sigmoid\"))\n",
    "model.add(Dropout(rate=0.5))\n",
    "model.add(Dense(10))\n",
    "model.add(Activation(\"softmax\"))\n",
    "\n",
    "sgd = optimizers.SGD(lr=0.1)\n",
    "model.compile(optimizer=sgd, loss=\"categorical_crossentropy\", metrics=[\"accuracy\"])\n",
    "\n",
    "# epochs数は5を指定\n",
    "history = model.fit(X_train, y_train, batch_size=500, epochs=5, verbose=1, validation_data=(X_test, y_test))\n",
    "\n",
    "#acc, val_accのプロット\n",
    "plt.plot(history.history[\"acc\"], label=\"acc\", ls=\"-\", marker=\"o\")\n",
    "plt.plot(history.history[\"val_acc\"], label=\"val_acc\", ls=\"-\", marker=\"x\")\n",
    "plt.ylabel(\"accuracy\")\n",
    "plt.xlabel(\"epoch\")\n",
    "plt.legend(loc=\"best\")\n",
    "plt.show()"
   ]
  },
  {
   "cell_type": "markdown",
   "metadata": {},
   "source": [
    "***"
   ]
  },
  {
   "cell_type": "markdown",
   "metadata": {
    "exerciseId": "wHeeKlidI",
    "id": "movie_session_name",
    "important": false,
    "isDL": false,
    "timeoutSecs": 10
   },
   "source": [
    "### 1.1.2 ディープラーニングとは？"
   ]
  },
  {
   "cell_type": "markdown",
   "metadata": {
    "id": "description"
   },
   "source": [
    "- ディープラーニングの概要\n",
    "- ニューロンの概要\n",
    "- ディープラーニングの分野\n",
    "（DNN/CNN/RNN)<br>\n",
    "**※修正事項**<br>\n",
    "動画内で「2012年にこのディープラーニングというアルゴリズムが発見された」と説明していますが、正確には2012年はディープラーニングが注目されるきっかけを生んだ年であり、ディープラーニングのアルゴリズムそのものは2012年以前から存在しています。"
   ]
  },
  {
   "cell_type": "markdown",
   "metadata": {},
   "source": [
    "#### 問題"
   ]
  },
  {
   "cell_type": "markdown",
   "metadata": {
    "id": "question"
   },
   "source": [
    "- 次の動画をみてください。"
   ]
  },
  {
   "cell_type": "markdown",
   "metadata": {
    "id": "movielink",
    "scrolled": true
   },
   "source": [
    "https://www.youtube.com/embed/M7exy0SSWfk"
   ]
  },
  {
   "cell_type": "markdown",
   "metadata": {},
   "source": [
    "***"
   ]
  },
  {
   "cell_type": "markdown",
   "metadata": {
    "courseId": 5090,
    "exerciseId": "HJRS53UiLlM",
    "id": "quiz_session_name",
    "important": true,
    "isDL": false,
    "timeoutSecs": 10
   },
   "source": [
    "### 1.1.3 深層学習とは(1)"
   ]
  },
  {
   "cell_type": "markdown",
   "metadata": {
    "id": "description"
   },
   "source": [
    " **<font color=#AA0000>深層学習</font>** は日常生活の多くの場面で利用されています。\n",
    "例えば、画像認識、映像解析を利用した自動運転技術や、音声解析で実現するスマートスピーカー（「LINE Clova」や「Google Home」など）や「Siri」などが挙げられます。\n",
    "\n",
    "深層学習とは、動物の神経ネットワークを参考にした **ディープニューラルネットワーク** というモデルを使い、データの分類や回帰を行う手法です。 **深層学習は機械学習の一手法である** ことに注意しましょう。ディープニューラルネットワークの発想の起点は神経ネットワークにありますが、脳の神経ネットワークの再現を目標にはしておらず、現在は純粋に画像や音声などの認識精度を高めるような研究が盛んにされています。\n",
    "\n",
    "<img src='https://aidemyexcontentspic.blob.core.windows.net/contents-pic/5090_dnn/dnn_chap1_10.png'>\n",
    "\n",
    "**<center>図1.1.3-1 神経ニューラルネットワーク</center>**\n",
    "\n",
    "なぜここまで深層学習が注目されているかと言うと、従来の手法では人手がかかる作業が自動化され、かつ認識精度が高いためです。<br>\n",
    "例えば、車を検出するタスクを考えます。従来では、車の検出に重要と思われる特徴部分(タイヤやフロントガラスなど)をあらかじめ人間が決めて、それを重点的に捉えられるようなモデルを考えます。しかし、深層学習はそのような特徴を **自動** で見つけます。\n",
    "\n",
    "<img src='https://aidemyexcontentspic.blob.core.windows.net/contents-pic/5090_dnn/car.png'>\n",
    "\n",
    "**<center>図1.1.3-2 車を検出する場合</center>**\n"
   ]
  },
  {
   "cell_type": "markdown",
   "metadata": {},
   "source": [
    "#### 問題"
   ]
  },
  {
   "cell_type": "markdown",
   "metadata": {
    "id": "question"
   },
   "source": [
    "- 深層学習、ニューラルネットワークについて正しい記述を選択してください。"
   ]
  },
  {
   "cell_type": "markdown",
   "metadata": {
    "id": "choices"
   },
   "source": [
    "- ディープニューラルネットワークは動物の脳を完全に再現したモデルである。\n",
    "- ニューラルネットワークでは、人間がプログラムに注目すべき特徴を指定する必要がある。\n",
    "- ニューラルネットワークが注目されている理由は、人間のように知能を持つからである。\n",
    "- 深層学習は、機械学習の一手法である。"
   ]
  },
  {
   "cell_type": "markdown",
   "metadata": {},
   "source": [
    "#### ヒント"
   ]
  },
  {
   "cell_type": "markdown",
   "metadata": {
    "id": "hint"
   },
   "source": [
    "- 深層学習と機械学習の関係性をよく考えましょう。"
   ]
  },
  {
   "cell_type": "markdown",
   "metadata": {},
   "source": [
    "#### 解答"
   ]
  },
  {
   "cell_type": "markdown",
   "metadata": {
    "id": "answer"
   },
   "source": [
    "- 深層学習は、機械学習の一手法である。"
   ]
  },
  {
   "cell_type": "markdown",
   "metadata": {},
   "source": [
    "***"
   ]
  },
  {
   "cell_type": "markdown",
   "metadata": {
    "exerciseId": "Cz4GZjnmsf",
    "id": "movie_session_name",
    "important": false,
    "isDL": false,
    "timeoutSecs": 10
   },
   "source": [
    "### 1.1.4 ニューロンの計算方法と学習方法"
   ]
  },
  {
   "cell_type": "markdown",
   "metadata": {
    "id": "description"
   },
   "source": [
    "- ニューロンの内部の処理\n",
    "- 活性化関数の処理の例"
   ]
  },
  {
   "cell_type": "markdown",
   "metadata": {},
   "source": [
    "#### 問題"
   ]
  },
  {
   "cell_type": "markdown",
   "metadata": {
    "id": "question"
   },
   "source": [
    "- 次の動画をみてください。"
   ]
  },
  {
   "cell_type": "markdown",
   "metadata": {
    "id": "movielink",
    "scrolled": true
   },
   "source": [
    "https://www.youtube.com/embed/2xxc9n0G3OA"
   ]
  },
  {
   "cell_type": "markdown",
   "metadata": {},
   "source": [
    "***"
   ]
  },
  {
   "cell_type": "markdown",
   "metadata": {
    "courseId": 5090,
    "exerciseId": "SylrP-gAgf",
    "id": "quiz_session_name",
    "important": true,
    "isDL": false,
    "timeoutSecs": 10
   },
   "source": [
    "### 1.1.5 深層学習とは(2)"
   ]
  },
  {
   "cell_type": "markdown",
   "metadata": {
    "id": "description"
   },
   "source": [
    "近年、盛んに耳にするニューラルネットワークですが、発想自体は1950年代から存在しました。下の図がニューラルネットワークの基本となるニューロンです。\n",
    "$x_1, x_2$が入力で$w_1, w_2$が **重みパラメータ** です。$x_1w_1 + x_2w_2$の値が 閾値$\\theta$よりも高ければこのニューロンは発火して1を出力し、そうでなければ0を出力する、というモデルです。\n",
    "\n",
    "<img src=\"https://aidemyexcontentspic.blob.core.windows.net/contents-pic/5090_dnn/dnn_chap1_30.png\">\n",
    "\n",
    "**<center>図1.1.5-1 ニューロン</center>**\n",
    "\n",
    "このニューロンですが、これだけではあまり複雑な問題を解くことができませんでした。しかし下図のように層を積み重ねることで複雑な問題を扱えるようになりました。\n",
    "これが **ディープニューラルネットワーク** です。ディープと言われる所以は層が積み重なっており、深い構造をしているためです。<br>\n",
    "近年急激にディープニューラルネットワークが注目された理由は、層が深くてもうまく学習できるような手法が発見され、かつ学習できるような計算環境が整ったからです。\n",
    "\n",
    "ニューラルネットワークは、入力X（ベクトルや行列など）を受け取ると連鎖的に反応を起こし、最終的にある値y（スカラーやベクトルなど）を出力します。\n",
    "例えば画像認識では、画像のピクセルのデータを入力することで、カテゴリ(ネコ、イヌ、ライオン...)に属する確率が得られます。\n",
    "\n",
    "<img src=\"https://aidemyexcontentspic.blob.core.windows.net/contents-pic/5090_dnn/dnn_chap1_20.gif\">\n",
    "\n",
    "**<center>図1.1.5-2 ニューラルネットワーク</center>**\n",
    "\n",
    "深層学習では、 **各ニューロンの重みパラメータを機械的に調整する** ことで分類モデルや回帰モデルを作ります。\n",
    "\n",
    "> 出典：http://www.opennn.net/"
   ]
  },
  {
   "cell_type": "markdown",
   "metadata": {},
   "source": [
    "#### 問題"
   ]
  },
  {
   "cell_type": "markdown",
   "metadata": {
    "id": "question"
   },
   "source": [
    "- 次のうち、ニューラルネットワーク、深層学習についての正しい説明を選んでください。 "
   ]
  },
  {
   "cell_type": "markdown",
   "metadata": {
    "id": "choices"
   },
   "source": [
    "- ディープラーニングが急激に盛んになったのは、高性能な計算機の登場が理由の一つに挙げられる。\n",
    "- ディープニューラルネットワークはニューロンを積み重ねて作られている。\n",
    "- ディープラーニングでは、重みパラメータが学習される。\n",
    "- 上記のすべて"
   ]
  },
  {
   "cell_type": "markdown",
   "metadata": {},
   "source": [
    "#### ヒント"
   ]
  },
  {
   "cell_type": "markdown",
   "metadata": {
    "id": "hint"
   },
   "source": [
    "- ディープラーニングが注目されているのは、計算環境が整い、ニューロンを積み重ねても重みパラメータがうまく学習できるようになったためです。"
   ]
  },
  {
   "cell_type": "markdown",
   "metadata": {},
   "source": [
    "#### 解答"
   ]
  },
  {
   "cell_type": "markdown",
   "metadata": {
    "id": "answer"
   },
   "source": [
    "- 上記のすべて"
   ]
  },
  {
   "cell_type": "markdown",
   "metadata": {},
   "source": [
    "***"
   ]
  },
  {
   "cell_type": "markdown",
   "metadata": {
    "courseId": 5090,
    "exerciseId": "HyJ8c2UiIlz",
    "id": "quiz_session_name",
    "important": true,
    "isDL": false,
    "timeoutSecs": 10
   },
   "source": [
    "### 1.1.6 深層学習を用いた分類の流れ"
   ]
  },
  {
   "cell_type": "markdown",
   "metadata": {
    "id": "description"
   },
   "source": [
    "- **ネットワークモデルを作る**\n",
    "\n",
    "いくつかのニューロンを束ねた層を図のように重ねていくことで深いネットワークを構築します。\n",
    "\n",
    "<img src=\"https://aidemyexcontentspic.blob.core.windows.net/contents-pic/5090_dnn/dnn_chap1_40.gif\">\n",
    "\n",
    "**<center>図1.1.6-1 ディープニューラルネットワーク</center>**\n",
    "\n",
    "はじめの内は、各ニューロンは入力に対してランダムに反応するので、でたらめな値を出力をします。\n",
    "\n",
    "\n",
    "\n",
    "- **モデルに訓練用のデータを与え、学習を行う**\n",
    "\n",
    "\n",
    "モデルはXを入力として受け取り、yを出力します。  \n",
    "このとき出力yと正解データ(教師ラベル)Tの間の差$ΔE$を小さくするように、誤差逆伝播法という方法で自動的に各ニューロンの重みを調整します。  \n",
    "**多量の画像などの生データXと正解データTを与えることで繰り返し重みが調整され、次第に求めたい出力が得られるようになります。**\n",
    "\n",
    "<img src='https://aidemyexstorage.blob.core.windows.net/aidemycontents/1539649698690986.png'>\n",
    "\n",
    "**<center>図1.1.6-2 モデルにトレーニングデータを渡す</center>**\n",
    "\n",
    "うまく学習が進むと、適切な予測値を返すモデルができあがります。\n",
    "\n",
    "- **分類したいデータをモデルに渡す**\n",
    "\n",
    "<img src=\"https://aidemyexcontentspic.blob.core.windows.net/contents-pic/5090_dnn/dnn_chap1_70.png\">\n",
    "\n",
    "**<center>図1.1.6-3 学習データを渡す</center>**\n",
    "\n",
    "以上のような流れで、深層学習による分類ができます。\n",
    "\n",
    "深層学習において、各ニューロンが何に反応しているかは調べないとわかりません。  \n",
    "逆に言うと、深層学習を用いれば具体的な分類の手順がわからなくても分類や回帰のモデルが作れるため、とても便利な手法であると言えます。\n",
    "\n",
    "> 出典:http://opencv.jp/"
   ]
  },
  {
   "cell_type": "markdown",
   "metadata": {},
   "source": [
    "#### 問題"
   ]
  },
  {
   "cell_type": "markdown",
   "metadata": {
    "id": "question"
   },
   "source": [
    "- 以下のうち、ニューラルネットワークモデルを用いた分類についての正しい説明を選んでください。"
   ]
  },
  {
   "cell_type": "markdown",
   "metadata": {
    "id": "choices"
   },
   "source": [
    "- ニューラルネットワークモデルは分類モデルしか作ることができない。\n",
    "- ニューラルネットワークモデルは構築されてすぐ、入力に対して期待する反応を示す。\n",
    "- ニューラルネットワークモデルの各重みを自動的に更新する手法はない。\n",
    "- ニューラルネットワークモデルを使って様々な分類、回帰モデルを構築することができる。"
   ]
  },
  {
   "cell_type": "markdown",
   "metadata": {},
   "source": [
    "#### ヒント"
   ]
  },
  {
   "cell_type": "markdown",
   "metadata": {
    "id": "hint"
   },
   "source": [
    "ニューラルネットワークモデルでは大量のデータの入力によって繰り返し重みが調整され、次第に求めたい出力が得られるようになります。"
   ]
  },
  {
   "cell_type": "markdown",
   "metadata": {},
   "source": [
    "#### 解答"
   ]
  },
  {
   "cell_type": "markdown",
   "metadata": {
    "id": "answer"
   },
   "source": [
    "- ニューラルネットワークモデルを使って様々な分類、回帰モデルを構築することができる。"
   ]
  },
  {
   "cell_type": "markdown",
   "metadata": {},
   "source": [
    "***"
   ]
  },
  {
   "cell_type": "markdown",
   "metadata": {
    "id": "section_name",
    "sectionId": "BJmLOCmZl-f"
   },
   "source": [
    "## 1.2 手書き数字の分類"
   ]
  },
  {
   "cell_type": "markdown",
   "metadata": {
    "courseId": 5090,
    "exerciseId": "BylUqn8j8lM",
    "id": "quiz_session_name",
    "important": true,
    "isDL": false,
    "timeoutSecs": 10
   },
   "source": [
    "### 1.2.1 分類までの流れ"
   ]
  },
  {
   "cell_type": "markdown",
   "metadata": {
    "id": "description"
   },
   "source": [
    "このchapterでは、KerasというPythonのライブラリを使って実際に以下のようなニューラルネットワークモデルを実装し、  \n",
    "深層学習の入門として定番の手書き数字の分類を行います。\n",
    "\n",
    "流れとしては、\n",
    "1. データを用意\n",
    "1. ニューラルネットワークモデルの構築\n",
    "1. モデルにデータを与え学習させる\n",
    "1. モデルの分類精度を評価 \n",
    "\n",
    "です。最後に実際に手書き数字の画像を渡して予測される値を見てみます。\n",
    "\n",
    "<img src=\"https://aidemyexcontentspic.blob.core.windows.net/contents-pic/5090_dnn/dnn_chap1_80.png\">\n",
    "\n",
    "**<center>図1.2.1-1 分類までの流れ</center>**"
   ]
  },
  {
   "cell_type": "markdown",
   "metadata": {},
   "source": [
    "#### 問題"
   ]
  },
  {
   "cell_type": "markdown",
   "metadata": {
    "id": "question"
   },
   "source": [
    "- 以下のうち、今回行う分類において必要ない作業を選んでください。"
   ]
  },
  {
   "cell_type": "markdown",
   "metadata": {
    "id": "choices"
   },
   "source": [
    "- データを用意する\n",
    "- データを分類する上で注目すべき部分を抽出する方法を考え、実装する\n",
    "- ネットワークモデルにデータを与え、学習を行う\n",
    "- 上記のすべて"
   ]
  },
  {
   "cell_type": "markdown",
   "metadata": {},
   "source": [
    "#### ヒント"
   ]
  },
  {
   "cell_type": "markdown",
   "metadata": {
    "id": "hint"
   },
   "source": [
    "ニューラルネットワークモデルを用います。前のセッションの内容を踏まえましょう。"
   ]
  },
  {
   "cell_type": "markdown",
   "metadata": {},
   "source": [
    "#### 解答"
   ]
  },
  {
   "cell_type": "markdown",
   "metadata": {
    "id": "answer"
   },
   "source": [
    "- データを分類する上で注目すべき部分を抽出する方法を考え、実装する"
   ]
  },
  {
   "cell_type": "markdown",
   "metadata": {},
   "source": [
    "***"
   ]
  },
  {
   "cell_type": "markdown",
   "metadata": {
    "courseId": 5090,
    "exerciseId": "HJb8c38sIxz",
    "id": "quiz_session_name",
    "important": true,
    "isDL": false,
    "timeoutSecs": 10
   },
   "source": [
    "### 1.2.2 ディープニューラルネットワーク"
   ]
  },
  {
   "cell_type": "markdown",
   "metadata": {
    "id": "description"
   },
   "source": [
    "今回は以下のような形のニューラルネットワークを作ります。  \n",
    "このニューラルネットワークは、全てのニューロンが前の層のニューロンに結合している **全結合層** と呼ばれる層を2つもっただけの、シンプルなネットワーク構造になっています。  このネットワークの\n",
    "このようなある程度深さのあるニューラルネットワークを、 **<font color=#AA0000>ディープニューラルネットワーク</font>** と呼びます。\n",
    "入力を請け負う層を **入力層** 、 出力をする層を **出力層** 、入力層と出力層の間の層を **隠れ層** と言います。\n",
    "\n",
    "今回のモデルでは、入力には28x28のモノクロ画像を一次元配列に平坦化した784次元のベクトルを渡します。  \n",
    "出力は10次元のベクトルです。 この縦に並んだベクトルのひとつひとつの要素を **ノード** と呼び、その次元数のことを **ノード数** と呼びます。\n",
    "手書き数字を0~9の連続値に分類するのではなく、0~9の10個のクラスに分類すると考えるのが自然であるため、出力ユニットの数を1でなく10にします。\n",
    "\n",
    "正解が7の画像データに対する教師データtは図のように、クラスラベルが7のところだけ値が1となり、それ以外の値が0となります。このようなデータのことを **<font color=#AA0000>one-hot ベクトル</font>** と言います。\n",
    "\n",
    "<img src=\"https://aidemyexcontentspic.blob.core.windows.net/contents-pic/5090_dnn/dnn_chap1_90.png\">\n",
    "\n",
    "**<center>図1.2.2-1 one-hot ベクトル</center>**"
   ]
  },
  {
   "cell_type": "markdown",
   "metadata": {},
   "source": [
    "#### 問題"
   ]
  },
  {
   "cell_type": "markdown",
   "metadata": {
    "id": "question"
   },
   "source": [
    "- 次のうち、説明文中のモデルの説明として間違ったものを選んでください。"
   ]
  },
  {
   "cell_type": "markdown",
   "metadata": {
    "id": "choices"
   },
   "source": [
    "- 入力層のノード数は784\n",
    "- 出力層のノード数は1\n",
    "- 隠れ層の数は1"
   ]
  },
  {
   "cell_type": "markdown",
   "metadata": {},
   "source": [
    "#### ヒント"
   ]
  },
  {
   "cell_type": "markdown",
   "metadata": {
    "id": "hint"
   },
   "source": [
    "- 手書き数字を0~9の連続値に分類するのではなく、0~9の10個のクラスに分類すると考えるのが自然です。"
   ]
  },
  {
   "cell_type": "markdown",
   "metadata": {},
   "source": [
    "#### 解答例"
   ]
  },
  {
   "cell_type": "markdown",
   "metadata": {
    "id": "answer"
   },
   "source": [
    "- 出力層のノード数は1"
   ]
  },
  {
   "cell_type": "markdown",
   "metadata": {},
   "source": [
    "***"
   ]
  },
  {
   "cell_type": "markdown",
   "metadata": {
    "exerciseId": "YntEXJboEU",
    "id": "movie_session_name",
    "important": false,
    "isDL": false,
    "timeoutSecs": 10
   },
   "source": [
    "### 1.2.3 Keras+Tensorflow"
   ]
  },
  {
   "cell_type": "markdown",
   "metadata": {
    "id": "description"
   },
   "source": [
    "- Tensorflowとは？\n",
    "- Kerasとは？\n",
    "- Kerasのメリットとデメリット"
   ]
  },
  {
   "cell_type": "markdown",
   "metadata": {},
   "source": [
    "#### 問題"
   ]
  },
  {
   "cell_type": "markdown",
   "metadata": {
    "id": "question"
   },
   "source": [
    "- 次の動画をみてください。"
   ]
  },
  {
   "cell_type": "markdown",
   "metadata": {
    "id": "movielink",
    "scrolled": true
   },
   "source": [
    "https://www.youtube.com/embed/0ObCbapKWIs"
   ]
  },
  {
   "cell_type": "markdown",
   "metadata": {},
   "source": [
    "***"
   ]
  },
  {
   "cell_type": "markdown",
   "metadata": {
    "courseId": 5090,
    "exerciseId": "HyGUq3UiIxM",
    "id": "quiz_session_name",
    "important": true,
    "isDL": false,
    "timeoutSecs": 10
   },
   "source": [
    "### 1.2.3 Kerasの導入"
   ]
  },
  {
   "cell_type": "markdown",
   "metadata": {
    "id": "description"
   },
   "source": [
    "このchapterでは、 **<font color=#AA0000>Keras</font>** というPythonのライブラリを使います。  \n",
    "KerasはTensorFlowのラッパーライブラリで、TensorFlowをそのまま使うよりも **直感的でより簡潔にコードを書くこと** ができます。  \n",
    "TensorFlowはGoogle社によって開発された、機械学習用のオープンソースソフトウェアライブラリです。  \n",
    "ラッパーというのは、もともとある他のシステムに対し、そのシステムを内包してより使いやすくしたもののことをいいます。"
   ]
  },
  {
   "cell_type": "markdown",
   "metadata": {},
   "source": [
    "#### 問題"
   ]
  },
  {
   "cell_type": "markdown",
   "metadata": {
    "id": "question"
   },
   "source": [
    "- Kerasの説明として正しいものを1つ選んでください。"
   ]
  },
  {
   "cell_type": "markdown",
   "metadata": {
    "id": "choices"
   },
   "source": [
    "- KerasはTensorflowのラッパーライブラリである。\n",
    "- Tensorflowのコア部分はC++で実装されているので、Kerasはpythonで使うことはできない。\n",
    "- Kerasは高水準なライブラリであるため、月々の使用料が発生する。\n",
    "- Kerasはオープンソースライブラリなので、著作権を気にせずに誰でも自由に使って良い。"
   ]
  },
  {
   "cell_type": "markdown",
   "metadata": {},
   "source": [
    "#### ヒント"
   ]
  },
  {
   "cell_type": "markdown",
   "metadata": {
    "id": "hint"
   },
   "source": [
    "- オープンソースライブラリでも、著作権は発生します。"
   ]
  },
  {
   "cell_type": "markdown",
   "metadata": {},
   "source": [
    "#### 解答例"
   ]
  },
  {
   "cell_type": "markdown",
   "metadata": {
    "id": "answer"
   },
   "source": [
    "- KerasはTensorflowのラッパーライブラリである。"
   ]
  },
  {
   "cell_type": "markdown",
   "metadata": {},
   "source": [
    "***"
   ]
  },
  {
   "cell_type": "markdown",
   "metadata": {
    "exerciseId": "xAn5J4vMUg",
    "id": "movie_session_name",
    "important": false,
    "isDL": false,
    "timeoutSecs": 10
   },
   "source": [
    "### 1.2.5 データの概要"
   ]
  },
  {
   "cell_type": "markdown",
   "metadata": {
    "id": "description"
   },
   "source": [
    "- 画像データをどのように扱うのか？\n",
    "- 画像データをどのように数値に変換するのか"
   ]
  },
  {
   "cell_type": "markdown",
   "metadata": {},
   "source": [
    "#### 問題"
   ]
  },
  {
   "cell_type": "markdown",
   "metadata": {
    "id": "question"
   },
   "source": [
    "- 次の動画をみてください。"
   ]
  },
  {
   "cell_type": "markdown",
   "metadata": {
    "id": "movielink",
    "scrolled": true
   },
   "source": [
    "https://www.youtube.com/embed/VY3m1gfABcc"
   ]
  },
  {
   "cell_type": "markdown",
   "metadata": {},
   "source": [
    "***"
   ]
  },
  {
   "cell_type": "markdown",
   "metadata": {
    "courseId": 5090,
    "exerciseId": "S1QL9hIj8xf",
    "id": "code_session_name",
    "important": true,
    "isDL": false,
    "timeoutSecs": 30
   },
   "source": [
    "### 1.2.6 データの用意"
   ]
  },
  {
   "cell_type": "markdown",
   "metadata": {
    "id": "description"
   },
   "source": [
    "手書き数字のデータセットにはMNISTというデータセットを用います。  \n",
    "MNISTには、膨大な数の手書き数字画像とそれぞれの画像に対し「０～９」で示された正解ラベルが含まれています。  \n",
    "MNISTは[Yann LeCun's website](http://yann.lecun.com/exdb/mnist/)で公開されていますが、  \n",
    "Kerasで以下のコードを実行することで比較的簡単にローカル（ご自身のPC）にダウンロードできます。\n",
    "```python\n",
    "from keras.datasets import mnist\n",
    "(X_train, y_train), (X_test, y_test) = mnist.load_data()\n",
    "```\n",
    "このコードは、はじめて実行する際はネットからデータのダウンロードを行います。  \n",
    "すでにローカルにダウンロードされた状態で実行すると、ローカルからデータの読み込みが行えます。\n",
    "\n",
    "Xが大量の画像データ、yが大量の教師ラベルのデータを意味します。  \n",
    "trainはモデルの学習用のデータ、testはモデルの性能を評価する際に使うデータです。  \n",
    "ただしtrainデータとtestデータには、データとして本質的な違いはありません。"
   ]
  },
  {
   "cell_type": "markdown",
   "metadata": {},
   "source": [
    "#### 問題"
   ]
  },
  {
   "cell_type": "markdown",
   "metadata": {
    "id": "question"
   },
   "source": [
    "- X_train、y_train、X_test、y_test はすべてnumpy.ndarray型です。\n",
    "- X_train、y_train、X_test、y_test について、 **それぞれの大きさを出力する** ように変更してください。"
   ]
  },
  {
   "cell_type": "code",
   "execution_count": null,
   "metadata": {
    "id": "index",
    "timeoutSecs": 30
   },
   "outputs": [],
   "source": [
    "from keras.datasets import mnist\n",
    "\n",
    "(X_train, y_train), (X_test, y_test) = mnist.load_data()\n",
    "\n",
    "#---------------------------\n",
    "#次の一行を変更してください\n",
    "print(X_train, y_train, X_test, y_test) \n",
    "#---------------------------"
   ]
  },
  {
   "cell_type": "markdown",
   "metadata": {},
   "source": [
    "#### ヒント"
   ]
  },
  {
   "cell_type": "markdown",
   "metadata": {
    "id": "hint"
   },
   "source": [
    "numpy.ndarray型は以下で大きさが取得できます。\n",
    "```python\n",
    "import numpy as np\n",
    "A = np.array([[1,2], [3,4], [5,6]])\n",
    "A.shape \n",
    "# 出力結果\n",
    "(3, 2)\n",
    "```"
   ]
  },
  {
   "cell_type": "markdown",
   "metadata": {},
   "source": [
    "#### 解答例"
   ]
  },
  {
   "cell_type": "code",
   "execution_count": null,
   "metadata": {
    "id": "answer",
    "timeoutSecs": 30
   },
   "outputs": [],
   "source": [
    "from keras.datasets import mnist\n",
    "\n",
    "(X_train, y_train), (X_test, y_test) = mnist.load_data()\n",
    "\n",
    "#---------------------------\n",
    "#次の一行を変更してください\n",
    "print(X_train.shape, y_train.shape, X_test.shape, y_test.shape)       \n",
    "#---------------------------"
   ]
  },
  {
   "cell_type": "markdown",
   "metadata": {},
   "source": [
    "***"
   ]
  },
  {
   "cell_type": "markdown",
   "metadata": {
    "courseId": 5090,
    "exerciseId": "ryVLqhUsIgG",
    "id": "code_session_name",
    "important": true,
    "isDL": false,
    "timeoutSecs": 30
   },
   "source": [
    "### 1.2.7 モデルの生成"
   ]
  },
  {
   "cell_type": "markdown",
   "metadata": {
    "id": "description"
   },
   "source": [
    "<img src=\"https://aidemyexcontentspic.blob.core.windows.net/contents-pic/5090_dnn/dnn_chap1_100.gif\">\n",
    "\n",
    "**<center>図1.2.7-1 ニューラルネットワーク</center>**\n",
    "\n",
    "Kerasでは、まずモデルを管理するインスタンスを作り、addメソッドで層を一層ずつ定義していきます。\n",
    "\n",
    "インスタンスを作ります。\n",
    "```python\n",
    "model = Sequential()\n",
    "```\n",
    "以下のようにaddメソッドを用いてモデルの層を一層ずつ定義します。  \n",
    "ユニット数128の全結合層を定義しています。\n",
    "```python\n",
    "model.add(Dense(128))\n",
    "```\n",
    "各全結合層の出力には、次のようにして **活性化関数** と呼ばれる関数を適用します。   \n",
    "これは本来動物の神経の発火に相当するような仕組みです。シグモイド関数 `sigmoid` やReLU関数 `relu` などを設定できます。詳しくはchapter2で扱います。\n",
    "\n",
    "```python\n",
    "model.add(Activation(\"sigmoid\"))\n",
    "```\n",
    "最後にコンパイルメソッド `compile()` を用いてどのような学習処理を行うのかを設定して、モデルの生成が終了します。  \n",
    "様々なパラメータがありますが詳しくはchapter2で扱います。\n",
    "```python\n",
    "model.compile(optimizer=sgd, loss=\"categorical_crossentropy\", metrics=[\"accuracy\"])\n",
    "```\n",
    "\n",
    "はじめはネットワークモデルの構築のイメージがよくわからないと思うので、次の問題を見て流れを理解してください。"
   ]
  },
  {
   "cell_type": "markdown",
   "metadata": {},
   "source": [
    "#### 問題"
   ]
  },
  {
   "cell_type": "markdown",
   "metadata": {
    "id": "question"
   },
   "source": [
    "- 以下のコードでは、隠れ層1つのネットワークモデルを生成しています。空欄を埋めて、隠れ層を2つ持つ、下図のようなモデルが生成されるようにしてください。活性化関数にはReLU関数 `relu` を用いてください。\n",
    "\n",
    "<img src=\"https://aidemyexcontentspic.blob.core.windows.net/contents-pic/5090_dnn/dnn_chap1_110.png\" width=30%>\n",
    "\n",
    "**<center>図1.2.7-2 モデル</center>**"
   ]
  },
  {
   "cell_type": "code",
   "execution_count": null,
   "metadata": {
    "id": "index"
   },
   "outputs": [],
   "source": [
    "from keras.datasets import mnist\n",
    "from keras.models import Sequential\n",
    "from keras.layers import Dense, Activation\n",
    "from keras.utils.vis_utils import plot_model\n",
    "from keras.utils.np_utils import to_categorical\n",
    "import matplotlib.pyplot as plt\n",
    "\n",
    "(X_train, y_train), (X_test, y_test) = mnist.load_data()\n",
    "\n",
    "X_train = X_train.reshape(X_train.shape[0], 784)[:6000]\n",
    "X_test = X_test.reshape(X_test.shape[0], 784)[:1000]\n",
    "y_train = to_categorical(y_train)[:6000]\n",
    "y_test = to_categorical(y_test)[:1000]\n",
    "\n",
    "model = Sequential()\n",
    "# 入力ユニット数は784, 1つ目の全結合層の出力ユニット数は256\n",
    "model.add(Dense(256, input_dim=784))\n",
    "model.add(Activation(\"sigmoid\"))\n",
    "\n",
    "# 2つ目の全結合層の出力ユニット数は128\n",
    "#---------------------------\n",
    "#        ここを書いて下さい\n",
    "\n",
    "\n",
    "#---------------------------\n",
    "\n",
    "# 3つ目の全結合層（出力層）の出力ユニット数は10\n",
    "model.add(Dense(10))\n",
    "model.add(Activation(\"softmax\"))\n",
    "\n",
    "model.compile(optimizer=\"sgd\", loss=\"categorical_crossentropy\", metrics=[\"accuracy\"])\n",
    "\n",
    "# モデル構造の出力\n",
    "plot_model(model, \"model125.png\", show_layer_names=False)\n",
    "# モデル構造の可視化\n",
    "image = plt.imread(\"model125.png\")\n",
    "plt.figure(dpi=150)\n",
    "plt.imshow(image)\n",
    "plt.show()"
   ]
  },
  {
   "cell_type": "markdown",
   "metadata": {},
   "source": [
    "#### ヒント"
   ]
  },
  {
   "cell_type": "markdown",
   "metadata": {
    "id": "hint"
   },
   "source": [
    "- 以下の文でモデルの構造png画像に出力しています。  \n",
    "```python\n",
    "plot_model(model, \"model125.png\", show_layer_names=False)\n",
    "```\n",
    "出力画像が上の図と一致するように、モデルを定義してください。"
   ]
  },
  {
   "cell_type": "markdown",
   "metadata": {},
   "source": [
    "#### 解答例"
   ]
  },
  {
   "cell_type": "code",
   "execution_count": null,
   "metadata": {
    "id": "answer"
   },
   "outputs": [],
   "source": [
    "from keras.datasets import mnist\n",
    "from keras.models import Sequential\n",
    "from keras.layers import Dense, Activation\n",
    "from keras.utils.vis_utils import plot_model\n",
    "from keras.utils.np_utils import to_categorical\n",
    "import matplotlib.pyplot as plt\n",
    "\n",
    "(X_train, y_train), (X_test, y_test) = mnist.load_data()\n",
    "\n",
    "X_train = X_train.reshape(X_train.shape[0], 784)[:6000]\n",
    "X_test = X_test.reshape(X_test.shape[0], 784)[:1000]\n",
    "y_train = to_categorical(y_train)[:6000]\n",
    "y_test = to_categorical(y_test)[:1000]\n",
    "\n",
    "model = Sequential()\n",
    "# 入力がユニット数は784, 1つ目の全結合層の出力ユニット数は256\n",
    "model.add(Dense(256, input_dim=784))\n",
    "model.add(Activation(\"sigmoid\"))\n",
    "\n",
    "# 2つ目の全結合層の出力ユニット数は128\n",
    "#---------------------------\n",
    "#        ここを書いて下さい\n",
    "model.add(Dense(128))\n",
    "model.add(Activation(\"relu\"))\n",
    "#---------------------------\n",
    "\n",
    "# 3つ目の全結合層（出力層）の出力ユニット数は10\n",
    "model.add(Dense(10))\n",
    "model.add(Activation(\"softmax\"))\n",
    "\n",
    "model.compile(optimizer=\"sgd\", loss=\"categorical_crossentropy\", metrics=[\"accuracy\"])\n",
    "\n",
    "# モデル構造の出力\n",
    "plot_model(model, \"model125.png\", show_layer_names=False)\n",
    "# モデル構造の可視化\n",
    "image = plt.imread(\"model125.png\")\n",
    "plt.figure(dpi=150)\n",
    "plt.imshow(image)\n",
    "plt.show()"
   ]
  },
  {
   "cell_type": "markdown",
   "metadata": {},
   "source": [
    "***"
   ]
  },
  {
   "cell_type": "markdown",
   "metadata": {
    "courseId": 5090,
    "exerciseId": "BJB85hLsIlG",
    "id": "code_session_name",
    "important": true,
    "isDL": false,
    "timeoutSecs": 30
   },
   "source": [
    "### 1.2.8 モデルの学習"
   ]
  },
  {
   "cell_type": "markdown",
   "metadata": {
    "id": "description"
   },
   "source": [
    "モデルに訓練データを渡して学習を行います。以下のようにfitメソッドを使います。\n",
    "```python\n",
    "model.fit(X_train, y_train, verbose=1, epochs=3)\n",
    "```\n",
    "X_train、y_trainは、学習用の入力データと教師データです。  \n",
    "`verbose` は指定した数字によって学習の進捗度合いを表示するかしないかを指定でき、 `verbose=1` と入力することで、学習等の進捗度合いを出力し `verbose=0` にすると進捗度合いを出力しません。  \n",
    "`epochs`で、同じデータセットを使って何回繰り返し学習を行うかを指定します。詳しくは、chapter2の反復学習についてのセッションで学びます。  \n",
    "fitメソッドでは、学習用のデータ（トレーニングデータ）を順にモデルに入力し、 **出力と教師データとの間の差が小さくなるよう少しずつ各ニューロンの重みを更新します。**  \n",
    "これによって誤差が減少していき、モデルの予測精度が向上します。"
   ]
  },
  {
   "cell_type": "markdown",
   "metadata": {},
   "source": [
    "#### 問題"
   ]
  },
  {
   "cell_type": "markdown",
   "metadata": {
    "id": "question"
   },
   "source": [
    "- 空欄を埋めて実際に学習を行ってください。また徐々に正解率 `acc：` が上がっていることを確認してください。"
   ]
  },
  {
   "cell_type": "code",
   "execution_count": null,
   "metadata": {
    "id": "index"
   },
   "outputs": [],
   "source": [
    "from keras.datasets import mnist\n",
    "from keras.layers import Activation, Dense\n",
    "from keras.models import Sequential\n",
    "from keras import optimizers\n",
    "from keras.utils.np_utils import to_categorical\n",
    "import matplotlib.pyplot as plt\n",
    "\n",
    "(X_train, y_train), (X_test, y_test) = mnist.load_data()\n",
    "\n",
    "X_train = X_train.reshape(X_train.shape[0], 784)[:6000]\n",
    "X_test = X_test.reshape(X_test.shape[0], 784)[:1000]\n",
    "y_train = to_categorical(y_train)[:6000]\n",
    "y_test = to_categorical(y_test)[:1000]\n",
    "\n",
    "model = Sequential()\n",
    "model.add(Dense(256, input_dim=784))\n",
    "model.add(Activation(\"sigmoid\"))\n",
    "model.add(Dense(128))\n",
    "model.add(Activation(\"sigmoid\"))\n",
    "model.add(Dense(10))\n",
    "model.add(Activation(\"softmax\"))\n",
    "\n",
    "model.compile(optimizer=\"sgd\", loss=\"categorical_crossentropy\", metrics=[\"accuracy\"])\n",
    "#---------------------------\n",
    "#        ここを書いて下さい\n",
    "#---------------------------\n",
    "#acc, val_accのプロット\n",
    "plt.plot(history.history[\"acc\"], label=\"acc\", ls=\"-\", marker=\"o\")\n",
    "plt.ylabel(\"accuracy\")\n",
    "plt.xlabel(\"epoch\")\n",
    "plt.legend(loc=\"best\")\n",
    "plt.show()"
   ]
  },
  {
   "cell_type": "markdown",
   "metadata": {},
   "source": [
    "#### ヒント"
   ]
  },
  {
   "cell_type": "markdown",
   "metadata": {
    "id": "hint"
   },
   "source": [
    "- `model.fit(...)` の出力 `acc:` の後に正解率が表示されています。"
   ]
  },
  {
   "cell_type": "markdown",
   "metadata": {},
   "source": [
    "#### 解答例"
   ]
  },
  {
   "cell_type": "code",
   "execution_count": null,
   "metadata": {
    "id": "answer"
   },
   "outputs": [],
   "source": [
    "from keras.datasets import mnist\n",
    "from keras.layers import Activation, Dense\n",
    "from keras.models import Sequential\n",
    "from keras import optimizers\n",
    "from keras.utils.np_utils import to_categorical\n",
    "import matplotlib.pyplot as plt\n",
    "\n",
    "(X_train, y_train), (X_test, y_test) = mnist.load_data()\n",
    "\n",
    "X_train = X_train.reshape(X_train.shape[0], 784)[:6000]\n",
    "X_test = X_test.reshape(X_test.shape[0], 784)[:1000]\n",
    "y_train = to_categorical(y_train)[:6000]\n",
    "y_test = to_categorical(y_test)[:1000]\n",
    "\n",
    "model = Sequential()\n",
    "model.add(Dense(256, input_dim=784))\n",
    "model.add(Activation(\"sigmoid\"))\n",
    "model.add(Dense(128))\n",
    "model.add(Activation(\"sigmoid\"))\n",
    "model.add(Dense(10))\n",
    "model.add(Activation(\"softmax\"))\n",
    "\n",
    "model.compile(optimizer=\"sgd\", loss=\"categorical_crossentropy\", metrics=[\"accuracy\"])\n",
    "#---------------------------\n",
    "history = model.fit(X_train, y_train, verbose=1, epochs=3)\n",
    "#---------------------------\n",
    "#acc, val_accのプロット\n",
    "plt.plot(history.history[\"acc\"], label=\"acc\", ls=\"-\", marker=\"o\")\n",
    "plt.ylabel(\"accuracy\")\n",
    "plt.xlabel(\"epoch\")\n",
    "plt.legend(loc=\"best\")\n",
    "plt.show()"
   ]
  },
  {
   "cell_type": "markdown",
   "metadata": {},
   "source": [
    "***"
   ]
  },
  {
   "cell_type": "markdown",
   "metadata": {
    "courseId": 5090,
    "exerciseId": "BkLUq28iIlf",
    "id": "code_session_name",
    "important": true,
    "isDL": false,
    "timeoutSecs": 30
   },
   "source": [
    "### 1.2.9 モデルの評価"
   ]
  },
  {
   "cell_type": "markdown",
   "metadata": {
    "id": "description"
   },
   "source": [
    "訓練データを用いて学習を行い、モデルのチューニングが無事に進みました。<br>\n",
    "しかし、モデルが、訓練データのみに通用する手法を学習してしまっている可能性もあるため、<br>\n",
    "これだけではモデルの性能を正しく評価することはできません。<br>\n",
    "\n",
    "そこで、ここでは **学習に用いなかったテストデータを用いてモデルに分類をさせ、モデルの評価** を行います。<br>\n",
    "モデルにテストデータを渡した時の分類の精度を、 <font color=#AA0000>汎化精度</font> といいます。<br>\n",
    "\n",
    "汎化精度の計算には以下のように **`evaluateメソッド`** を使います。\n",
    "```python\n",
    "score = model.evaluate(X_test, y_test, verbose=1)\n",
    "```\n",
    "`X_test, y_test` は評価用の入力データと教師データです。<br>\n",
    "`evaluateメソッド` では、損失関数の値と正解率が取得でき、上の例の場合両方ともscoreに格納されます。<br>\n",
    "\n",
    "テストデータは汎化精度の計算のためにあり、テストデータで学習を行うことは望ましくありません。"
   ]
  },
  {
   "cell_type": "markdown",
   "metadata": {},
   "source": [
    "#### 問題"
   ]
  },
  {
   "cell_type": "markdown",
   "metadata": {
    "id": "question"
   },
   "source": [
    "- 空欄を埋めて実際に汎化精度を計算してださい。訓練データを用いた時の正解率とテストデータを用いた時の正解率が異なることを確認してください。"
   ]
  },
  {
   "cell_type": "code",
   "execution_count": null,
   "metadata": {
    "id": "index"
   },
   "outputs": [],
   "source": [
    "import numpy as np\n",
    "import matplotlib.pyplot as plt\n",
    "from keras.datasets import mnist\n",
    "from keras.layers import Activation, Dense\n",
    "from keras.models import Sequential, load_model\n",
    "from keras import optimizers\n",
    "from keras.utils.np_utils import to_categorical\n",
    "\n",
    "(X_train, y_train), (X_test, y_test) = mnist.load_data()\n",
    "\n",
    "X_train = X_train.reshape(X_train.shape[0], 784)[:10000]\n",
    "X_test = X_test.reshape(X_test.shape[0], 784)[:1000]\n",
    "y_train = to_categorical(y_train)[:10000]\n",
    "y_test = to_categorical(y_test)[:1000]\n",
    "\n",
    "model = Sequential()\n",
    "model.add(Dense(256, input_dim=784))\n",
    "model.add(Activation(\"sigmoid\"))\n",
    "model.add(Dense(128))\n",
    "model.add(Activation(\"sigmoid\"))\n",
    "model.add(Dense(10))\n",
    "model.add(Activation(\"softmax\"))\n",
    "\n",
    "model.compile(optimizer=\"sgd\", loss=\"categorical_crossentropy\", metrics=[\"accuracy\"])\n",
    "\n",
    "model.fit(X_train, y_train, verbose=1)\n",
    "\n",
    "#---------------------------\n",
    "#        ここを書いて下さい\n",
    "#---------------------------\n",
    "print(\"evaluate loss: {0[0]}\\nevaluate acc: {0[1]}\".format(score))"
   ]
  },
  {
   "cell_type": "markdown",
   "metadata": {},
   "source": [
    "#### ヒント"
   ]
  },
  {
   "cell_type": "markdown",
   "metadata": {
    "id": "hint"
   },
   "source": [
    "`model.evaluate()`を用いて汎化制度の評価が行えます。"
   ]
  },
  {
   "cell_type": "markdown",
   "metadata": {},
   "source": [
    "#### 解答例"
   ]
  },
  {
   "cell_type": "code",
   "execution_count": null,
   "metadata": {
    "id": "answer",
    "scrolled": true
   },
   "outputs": [],
   "source": [
    "import numpy as np\n",
    "import matplotlib.pyplot as plt\n",
    "from keras.datasets import mnist\n",
    "from keras.layers import Activation, Dense, Dropout\n",
    "from keras.models import Sequential, load_model\n",
    "from keras import optimizers\n",
    "from keras.utils.np_utils import to_categorical\n",
    "\n",
    "(X_train, y_train), (X_test, y_test) = mnist.load_data()\n",
    "\n",
    "X_train = X_train.reshape(X_train.shape[0], 784)[:6000]\n",
    "X_test = X_test.reshape(X_test.shape[0], 784)[:1000]\n",
    "y_train = to_categorical(y_train)[:6000]\n",
    "y_test = to_categorical(y_test)[:1000]\n",
    "\n",
    "model = Sequential()\n",
    "model.add(Dense(256, input_dim=784))\n",
    "model.add(Activation(\"sigmoid\"))\n",
    "model.add(Dense(128))\n",
    "model.add(Activation(\"sigmoid\"))\n",
    "model.add(Dense(10))\n",
    "model.add(Activation(\"softmax\"))\n",
    "\n",
    "model.compile(optimizer=\"sgd\", loss=\"categorical_crossentropy\", metrics=[\"accuracy\"])\n",
    "\n",
    "model.fit(X_train, y_train)\n",
    "\n",
    "#---------------------------\n",
    "score = model.evaluate(X_test, y_test, verbose=1)\n",
    "#---------------------------\n",
    "print(\"evaluate loss: {0[0]}\\nevaluate acc: {0[1]}\".format(score))"
   ]
  },
  {
   "cell_type": "markdown",
   "metadata": {
    "courseId": 5090,
    "exerciseId": "H1PL928jIxf",
    "id": "code_session_name",
    "important": true,
    "isDL": false,
    "timeoutSecs": 30
   },
   "source": [
    "### 1.2.10 モデルによる分類"
   ]
  },
  {
   "cell_type": "markdown",
   "metadata": {
    "id": "description"
   },
   "source": [
    "modelの **`predictメソッド`** を使って予測値を取得できます。  \n",
    "例えば `X_test` の初めの画像１枚の数字を予測するには以下のようにします。\n",
    "(`predict` は複数枚の画像を引数に取ることを想定しているため、画像一枚を予測させる場合は次元に注意する必要があります。）\n",
    "```python\n",
    "pred = np.argmax(model.predict([X_test[0]]))\n",
    "print(\"予測値 :\" + str(pred))\n",
    "```\n",
    "`predictメソッド` の出力は10次元あるので、 `argmax関数` を使って、一番大きい値を返すニューロンの場所を取得しています。"
   ]
  },
  {
   "cell_type": "markdown",
   "metadata": {},
   "source": [
    "#### 問題"
   ]
  },
  {
   "cell_type": "markdown",
   "metadata": {
    "id": "question"
   },
   "source": [
    "- 学習を行った上で、test[0:10]の予測値を出力をしてください。"
   ]
  },
  {
   "cell_type": "code",
   "execution_count": null,
   "metadata": {
    "id": "index"
   },
   "outputs": [],
   "source": [
    "import numpy as np\n",
    "import matplotlib.pyplot as plt\n",
    "from keras.datasets import mnist\n",
    "from keras.layers import Activation, Dense\n",
    "from keras.models import Sequential, load_model\n",
    "from keras.utils.np_utils import to_categorical\n",
    "\n",
    "(X_train, y_train), (X_test, y_test) = mnist.load_data()\n",
    "\n",
    "X_train = X_train.reshape(X_train.shape[0], 784)[:6000]\n",
    "X_test = X_test.reshape(X_test.shape[0], 784)[:1000]\n",
    "y_train = to_categorical(y_train)[:6000]\n",
    "y_test = to_categorical(y_test)[:1000]\n",
    "\n",
    "model = Sequential()\n",
    "model.add(Dense(256, input_dim=784))\n",
    "model.add(Activation(\"sigmoid\"))\n",
    "model.add(Dense(128))\n",
    "model.add(Activation(\"sigmoid\"))\n",
    "model.add(Dense(10))\n",
    "model.add(Activation(\"softmax\"))\n",
    "\n",
    "model.compile(optimizer=\"sgd\", loss=\"categorical_crossentropy\", metrics=[\"accuracy\"])\n",
    "\n",
    "model.fit(X_train, y_train, verbose=1)\n",
    "\n",
    "score = model.evaluate(X_test, y_test, verbose=0)\n",
    "print(\"evaluate loss: {0[0]}\\nevaluate acc: {0[1]}\".format(score))\n",
    "\n",
    "# テストデータの最初の10枚を表示します\n",
    "for i in range(10):\n",
    "    plt.subplot(1, 10, i+1)\n",
    "    plt.imshow(X_test[i].reshape((28,28)), \"gray\")\n",
    "plt.show()\n",
    "\n",
    "# X_testの最初の10枚の予測されたラベルを表示しましょう\n",
    "#---------------------------\n",
    "#        ここを書いて下さい\n",
    "#---------------------------"
   ]
  },
  {
   "cell_type": "markdown",
   "metadata": {},
   "source": [
    "#### ヒント"
   ]
  },
  {
   "cell_type": "markdown",
   "metadata": {
    "id": "hint"
   },
   "source": [
    "`model.predict()`を用いて予測を行うことができます。\n",
    "`argmax()`関数で行列の軸を指定するのを忘れないようにしましょう。\n",
    "`axis=1`を引数に指定することで行ごとの最大値のインデックスを取得できます。"
   ]
  },
  {
   "cell_type": "markdown",
   "metadata": {},
   "source": [
    "#### 解答例"
   ]
  },
  {
   "cell_type": "code",
   "execution_count": null,
   "metadata": {
    "id": "answer",
    "scrolled": true
   },
   "outputs": [],
   "source": [
    "import numpy as np\n",
    "import matplotlib.pyplot as plt\n",
    "from keras.datasets import mnist\n",
    "from keras.layers import Activation, Dense\n",
    "from keras.models import Sequential, load_model\n",
    "from keras.utils.np_utils import to_categorical\n",
    "\n",
    "(X_train, y_train), (X_test, y_test) = mnist.load_data()\n",
    "\n",
    "X_train = X_train.reshape(X_train.shape[0], 784)[:6000]\n",
    "X_test = X_test.reshape(X_test.shape[0], 784)[:1000]\n",
    "y_train = to_categorical(y_train)[:6000]\n",
    "y_test = to_categorical(y_test)[:1000]\n",
    "\n",
    "model = Sequential()\n",
    "model.add(Dense(256, input_dim=784))\n",
    "model.add(Activation(\"sigmoid\"))\n",
    "model.add(Dense(128))\n",
    "model.add(Activation(\"sigmoid\"))\n",
    "model.add(Dense(10))\n",
    "model.add(Activation(\"softmax\"))\n",
    "\n",
    "model.compile(optimizer=\"sgd\", loss=\"categorical_crossentropy\", metrics=[\"accuracy\"])\n",
    "\n",
    "model.fit(X_train, y_train, verbose=1)\n",
    "\n",
    "score = model.evaluate(X_test, y_test, verbose=0)\n",
    "print(\"evaluate loss: {0[0]}\\nevaluate acc: {0[1]}\".format(score))\n",
    "\n",
    "# テストデータの最初の10枚を表示します\n",
    "for i in range(10):\n",
    "    plt.subplot(1, 10, i+1)\n",
    "    plt.imshow(X_test[i].reshape((28,28)), \"gray\")\n",
    "plt.show()\n",
    "\n",
    "# X_testの最初の10枚の予測されたラベルを表示しましょう\n",
    "#---------------------------\n",
    "pred = np.argmax(model.predict(X_test[0:10]), axis=1)\n",
    "print(pred)\n",
    "#---------------------------"
   ]
  },
  {
   "cell_type": "markdown",
   "metadata": {},
   "source": [
    "***"
   ]
  },
  {
   "cell_type": "markdown",
   "metadata": {
    "exerciseId": "SyYJJT_Iez",
    "id": "chapter_exam"
   },
   "source": [
    "## 1.3 添削問題"
   ]
  },
  {
   "cell_type": "markdown",
   "metadata": {
    "id": "description"
   },
   "source": [
    "ここまでで簡単な深層学習手法が使えるようになりました。  \n",
    "添削問題で復習をします。"
   ]
  },
  {
   "cell_type": "markdown",
   "metadata": {},
   "source": [
    "#### 問題"
   ]
  },
  {
   "cell_type": "markdown",
   "metadata": {
    "id": "question"
   },
   "source": [
    "- 以下は、MNISTの分類のコードです。  \n",
    "コードを読んで、モデルの生成、学習、モデルによる分類、がどの行（複数行選択可）で行われいるかを答えてください。"
   ]
  },
  {
   "cell_type": "code",
   "execution_count": null,
   "metadata": {
    "id": "index"
   },
   "outputs": [],
   "source": [
    "import numpy as np\n",
    "import matplotlib.pyplot as plt\n",
    "from keras.datasets import mnist\n",
    "from keras.layers import Activation, Dense\n",
    "from keras.models import Sequential, load_model\n",
    "from keras.utils.np_utils import to_categorical\n",
    "\n",
    "# データセットの読み込み\n",
    "(X_train, y_train), (X_test, y_test) = mnist.load_data()\n",
    "\n",
    "X_train = X_train.reshape(X_train.shape[0], 784)[:10000]\n",
    "X_test = X_test.reshape(X_test.shape[0], 784)[:1000]\n",
    "y_train = to_categorical(y_train)[:10000]\n",
    "y_test = to_categorical(y_test)[:1000]\n",
    "\n",
    "model = Sequential()\n",
    "model.add(Dense(256, input_dim=784))\n",
    "model.add(Activation(\"sigmoid\"))\n",
    "model.add(Dense(128))\n",
    "model.add(Activation(\"sigmoid\"))\n",
    "model.add(Dense(10))\n",
    "model.add(Activation(\"softmax\"))\n",
    "\n",
    "model.compile(optimizer=\"sgd\", loss=\"categorical_crossentropy\", metrics=[\"accuracy\"])\n",
    "\n",
    "model.fit(X_train, y_train, verbose=1)\n",
    "\n",
    "score = model.evaluate(X_test, y_test, verbose=0)\n",
    "print(\"evaluate loss: {0[0]}\\nevaluate acc: {0[1]}\".format(score))\n",
    "\n",
    "for i in range(10):\n",
    "    plt.subplot(1, 10, i+1)\n",
    "    plt.imshow(X_test[i].reshape((28,28)), \"gray\")\n",
    "plt.show()\n",
    "\n",
    "pred = np.argmax(model.predict(X_test[0:10]), axis=1)\n",
    "print(pred)"
   ]
  },
  {
   "cell_type": "markdown",
   "metadata": {},
   "source": [
    "#### ヒント"
   ]
  },
  {
   "cell_type": "markdown",
   "metadata": {
    "id": "hint"
   },
   "source": [
    "- modelに着目してみてください。"
   ]
  },
  {
   "cell_type": "markdown",
   "metadata": {},
   "source": [
    "#### 解答例"
   ]
  },
  {
   "cell_type": "code",
   "execution_count": null,
   "metadata": {
    "id": "answer"
   },
   "outputs": [],
   "source": [
    "import numpy as np\n",
    "import matplotlib.pyplot as plt\n",
    "from keras.datasets import mnist\n",
    "from keras.layers import Activation, Dense\n",
    "from keras.models import Sequential, load_model\n",
    "from keras.utils.np_utils import to_categorical\n",
    "\n",
    "# データセットの読み込み\n",
    "(X_train, y_train), (X_test, y_test) = mnist.load_data()\n",
    "\n",
    "X_train = X_train.reshape(X_train.shape[0], 784)[:10000]\n",
    "X_test = X_test.reshape(X_test.shape[0], 784)[:1000]\n",
    "y_train = to_categorical(y_train)[:10000]\n",
    "y_test = to_categorical(y_test)[:1000]\n",
    "\n",
    "#1.  モデルの生成\n",
    "model = Sequential()\n",
    "model.add(Dense(256, input_dim=784))\n",
    "model.add(Activation(\"sigmoid\"))\n",
    "model.add(Dense(128))\n",
    "model.add(Activation(\"sigmoid\"))\n",
    "model.add(Dense(10))\n",
    "model.add(Activation(\"softmax\"))\n",
    "\n",
    "model.compile(optimizer=\"sgd\", loss=\"categorical_crossentropy\", metrics=[\"accuracy\"])\n",
    "\n",
    "#2. 学習\n",
    "model.fit(X_train, y_train, verbose=1)\n",
    "\n",
    "score = model.evaluate(X_test, y_test, verbose=0)\n",
    "print(\"evaluate loss: {0[0]}\\nevaluate acc: {0[1]}\".format(score))\n",
    "\n",
    "for i in range(10):\n",
    "    plt.subplot(1, 10, i+1)\n",
    "    plt.imshow(X_test[i].reshape((28,28)), \"gray\")\n",
    "plt.show()\n",
    "\n",
    "# 3.　モデルによる分類\n",
    "pred = np.argmax(model.predict(X_test[0:10]), axis=1)\n",
    "print(pred)"
   ]
  },
  {
   "cell_type": "markdown",
   "metadata": {},
   "source": [
    "***"
   ]
  }
 ],
 "metadata": {
  "celltoolbar": "Edit Metadata",
  "kernelspec": {
   "display_name": "Python 3",
   "language": "python",
   "name": "python3"
  },
  "language_info": {
   "codemirror_mode": {
    "name": "ipython",
    "version": 3
   },
   "file_extension": ".py",
   "mimetype": "text/x-python",
   "name": "python",
   "nbconvert_exporter": "python",
   "pygments_lexer": "ipython3",
   "version": "3.6.5"
  },
  "toc": {
   "base_numbering": 1,
   "nav_menu": {},
   "number_sections": true,
   "sideBar": true,
   "skip_h1_title": false,
   "title_cell": "Table of Contents",
   "title_sidebar": "Contents",
   "toc_cell": false,
   "toc_position": {
    "height": "calc(100% - 180px)",
    "left": "10px",
    "top": "150px",
    "width": "261.188px"
   },
   "toc_section_display": true,
   "toc_window_display": true
  },
  "varInspector": {
   "cols": {
    "lenName": 16,
    "lenType": 16,
    "lenVar": 40
   },
   "kernels_config": {
    "python": {
     "delete_cmd_postfix": "",
     "delete_cmd_prefix": "del ",
     "library": "var_list.py",
     "varRefreshCmd": "print(var_dic_list())"
    },
    "r": {
     "delete_cmd_postfix": ") ",
     "delete_cmd_prefix": "rm(",
     "library": "var_list.r",
     "varRefreshCmd": "cat(var_dic_list()) "
    }
   },
   "types_to_exclude": [
    "module",
    "function",
    "builtin_function_or_method",
    "instance",
    "_Feature"
   ],
   "window_display": false
  }
 },
 "nbformat": 4,
 "nbformat_minor": 2
}