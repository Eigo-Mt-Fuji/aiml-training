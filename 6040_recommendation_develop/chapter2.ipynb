{
 "cells": [
  {
   "cell_type": "markdown",
   "metadata": {
    "id": "chapter_name"
   },
   "source": [
    "#  レコメンデーション応用\n"
   ]
  },
  {
   "cell_type": "markdown",
   "metadata": {
    "id": "table"
   },
   "source": [
    "- **[2.1 データをテーブルに保存する。](#2.1-データをテーブルに保存する。)**\n",
    "    - **[2.1.1 取得したデータを保存する。](#2.1.1-取得したデータを保存する。)**\n",
    "    - **[2.1.2 URLの対応関係をデータベースに保存する。](#2.1.2-URLの対応関係をデータベースに保存する。)**\n",
    "    - **[2.1.3 データが重複していないかどうか確かめる。](#2.1.3-データが重複していないかどうか確かめる。)**\n",
    "    - **[2.1.4 crawl関数を書き直す。](#2.1.4-crawl関数を書き直す。)**\n",
    "<br><br>\n",
    "- **[2.2 クローラーをクラスにまとめる。](#2.2-クローラーをクラスにまとめる。)**\n",
    "    - **[2.2.1 クラスの使い方](#2.2.1-クラスの使い方)**\n",
    "    - **[2.2.2 初期値の設定](#2.2.2-初期値の設定)**\n",
    "    - **[2.2.3 関数をクラスに入れる。](#2.2.3-関数をクラスに入れる。)**\n",
    "<br><br>\n",
    "- **[2.3 検索部分の作成](#2.3-検索部分の作成)**\n",
    "    - **[2.3.1 クエリが含まれるURLを探す。(1)](#2.3.1-クエリが含まれるURLを探す。1)**\n",
    "    - **[2.3.2 クエリが含まれるURLを探す。(2)](#2.3.2-クエリが含まれるURLを探す。2)**\n",
    "<br><br>\n",
    "- **[2.5 添削問題](#2.5-添削問題)**"
   ]
  },
  {
   "cell_type": "markdown",
   "metadata": {},
   "source": [
    "***"
   ]
  },
  {
   "cell_type": "markdown",
   "metadata": {
    "id": "section_name"
   },
   "source": [
    "## 2.1 データをテーブルに保存する。"
   ]
  },
  {
   "cell_type": "markdown",
   "metadata": {
    "id": "quiz_session_name"
   },
   "source": [
    "### 2.1.1 取得したデータを保存する。"
   ]
  },
  {
   "cell_type": "markdown",
   "metadata": {
    "id": "description"
   },
   "source": [
    "chapter1よりスクレイピングで取得したデータをテーブルに保存します。  \n",
    "urllistテーブルとwordlistテーブル、wordlocationテーブルにデータを保存します。   \n",
    "\n",
    "ignore_wordsにはchapter1の添削問題で求めた単語をセット型にして使用します。<br>\n",
    "広く探索したものなので実際の結果とは異なる場合があります。\n",
    "\n",
    "SQL文のinsertメソッドで特定のカラムに値を代入したいとき、   \n",
    "insert into テーブル名(カラム1,カラム2,...) values(値1,値2,...)   \n",
    "で代入することができます。   \n",
    "\n",
    "```python\n",
    "\n",
    "ignore_words = {'the','and','python','ext','ready','wikipedia','user','false','mediawiki','true'\n",
    "                ,'for','page','styles','articles','template','gadget','not','help','article','from'}\n",
    "\n",
    "\n",
    "def add_list(conn, url, soup):\n",
    "    words = separate_words(soup)\n",
    "    conn.execute(\"insert into urllist(url) values('%s')\" % url)\n",
    "    for i,word in enumerate(words):\n",
    "        if word in ignore_words:\n",
    "            continue\n",
    "        conn.execute(\"insert into wordlist(word) values('%s')\" % word)\n",
    "        conn.execute(\"insert into wordlocation(urlid, wordid, location) values ('%s','%s',%d)\" % (url,word, i))\n",
    "    conn.commit()\n",
    "\n",
    "```\n",
    "\n",
    "\n",
    "% を使って文字列中に変数を代入する方法を %記法 といいます。   \n",
    "SQL文に変数を入れたいとき%記法を利用しましょう。   \n",
    "\n",
    "変数が数字の時 : %d   \n",
    "変数が文字列の時 : %s   \n",
    "と表すことができます。%記法のこの二つは使う機会が多いので覚えましょう。   \n",
    "値は文字型なので '%s' としましょう。"
   ]
  },
  {
   "cell_type": "markdown",
   "metadata": {},
   "source": [
    "#### 問題"
   ]
  },
  {
   "cell_type": "markdown",
   "metadata": {
    "id": "question"
   },
   "source": [
    "- URLから入手したリンクのURLと単語をテーブルに保存してください。"
   ]
  },
  {
   "cell_type": "code",
   "execution_count": null,
   "metadata": {
    "collapsed": true
   },
   "outputs": [],
   "source": [
    "'''このchapterを通じてsoup_baseのWEBデータを共通して使います。上書きしないようにしてください。\n",
    "    上書きしてしまったときもう一度このセルを実行してください。'''\n",
    "\n",
    "import re\n",
    "import sqlite3\n",
    "import urllib.request\n",
    "from bs4 import BeautifulSoup\n",
    "\n",
    "ignore_words = {'the','and','python','ext','ready','wikipedia','user','false','mediawiki','true'\n",
    "                ,'for','page','styles','articles','template','gadget','not','help','article','from'}\n",
    "\n",
    "\n",
    "# chapter1で利用したseparate_word関数を利用します。\n",
    "def separate_words(soup):\n",
    "    text = soup.text\n",
    "    pattern = re.compile(\"\\W\")\n",
    "    words = [s.lower() for s in pattern.split(text) if len(s) > 2]\n",
    "    return words\n",
    "\n",
    "\n",
    "def add_list(conn, url, soup):\n",
    "    words = separate_words(soup)\n",
    "    # urllistにURLを追加してください。\n",
    "    \n",
    "    for i,word in enumerate(words):\n",
    "        if word in ignore_words:\n",
    "            continue\n",
    "        # wordlistに単語を追加してください。\n",
    "        \n",
    "        # wordlocationにURLと単語、単語の位置を追加してください。\n",
    "        \n",
    "    # 値を追加し終わったときcommitメソッドを呼び出しましょう。\n",
    "\n",
    "dbname = (\"test.db\")\n",
    "conn = sqlite3.connect(dbname)\n",
    "url = \"https://en.wikipedia.org/wiki/Python_(programming_language)\"\n",
    "html = urllib.request.urlopen(url)\n",
    "soup_base = BeautifulSoup(html, \"html.parser\")\n",
    "\n",
    "add_list(conn,url,soup=soup_base)\n",
    "\n",
    "data = conn.execute(\"select * from wordlocation\")\n",
    "data_list = data.fetchall()\n",
    "print(data_list)\n",
    "\n",
    "conn.close()"
   ]
  },
  {
   "cell_type": "markdown",
   "metadata": {},
   "source": [
    "#### ヒント"
   ]
  },
  {
   "cell_type": "markdown",
   "metadata": {
    "id": "hint"
   },
   "source": [
    "- 値を追加した後は.commitメソッドを呼び出してください。\n",
    "- 文字列を置き換えるのには %s 、数字を置き換えるのには %d を使ってください。\n",
    "- データベースを扱っているので何度も実行するとその都度データが追加されます。気になる場合は1.2.4を実行して作り直してください。"
   ]
  },
  {
   "cell_type": "markdown",
   "metadata": {},
   "source": [
    "#### 解答\n"
   ]
  },
  {
   "cell_type": "code",
   "execution_count": null,
   "metadata": {
    "collapsed": true
   },
   "outputs": [],
   "source": [
    "'''このchapterを通じてsoup_baseのWEBデータを共通して使います。上書きしないようにしてください。\n",
    "    上書きしてしまったときもう一度このセルを実行してください。'''\n",
    "\n",
    "import re\n",
    "import sqlite3\n",
    "import urllib.request\n",
    "from bs4 import BeautifulSoup\n",
    "\n",
    "ignore_words = {'the','and','python','ext','ready','wikipedia','user','false','mediawiki','true'\n",
    "                ,'for','page','styles','articles','template','gadget','not','help','article','from'}\n",
    "\n",
    "\n",
    "# chapter1で利用したseparate_word関数を利用します。\n",
    "def separate_words(soup):\n",
    "    text = soup.text\n",
    "    pattern = re.compile(\"\\W\")\n",
    "    words = [s.lower() for s in pattern.split(text) if len(s) > 2]\n",
    "    return words\n",
    "\n",
    "def add_list(conn, url, soup):\n",
    "    words = separate_words(soup)\n",
    "    # urllistにURLを追加してください。\n",
    "    conn.execute(\"insert into urllist(url) values('%s')\" % url)\n",
    "    for i,word in enumerate(words):\n",
    "        if word in ignore_words:\n",
    "            continue\n",
    "        # wordlistに単語を追加してください。\n",
    "        conn.execute(\"insert into wordlist(word) values('%s')\" % word)\n",
    "        # wordlocationにURLと単語、単語の位置を追加してください。\n",
    "        conn.execute(\"insert into wordlocation(url, word, location) values ('%s','%s',%d)\" % (url,word, i))\n",
    "    # 値を追加し終わったときcommitメソッドを呼び出しましょう。\n",
    "    conn.commit()\n",
    "\n",
    "dbname = (\"test.db\")\n",
    "conn = sqlite3.connect(dbname)\n",
    "url = \"https://en.wikipedia.org/wiki/Python_(programming_language)\"\n",
    "html = urllib.request.urlopen(url)\n",
    "soup_base = BeautifulSoup(html, \"html.parser\")\n",
    "\n",
    "add_list(conn,url,soup=soup_base)\n",
    "\n",
    "data = conn.execute(\"select * from wordlocation\")\n",
    "data_list = data.fetchall()\n",
    "print(data_list)\n",
    "\n",
    "conn.close()"
   ]
  },
  {
   "cell_type": "markdown",
   "metadata": {},
   "source": [
    "***"
   ]
  },
  {
   "cell_type": "markdown",
   "metadata": {
    "id": "code_session_name"
   },
   "source": [
    "### 2.1.2 URLの対応関係をデータベースに保存する。"
   ]
  },
  {
   "cell_type": "markdown",
   "metadata": {
    "id": "description"
   },
   "source": [
    "urllistテーブル,linkテーブルにURLのリスト,URLの対応関係を保存します。   \n",
    "url_fromをリンク元となるurl,url_toをリンクされたurlとします。   \n",
    "url_toは上のadd_list関数のみではurllistに追加されない可能性があるのでここで追加します。   \n",
    "\n",
    "```python\n",
    "def add_url_list(conn, url_from_value, url_to_value):\n",
    "    conn.execute(\"insert into urllist(url) values('%s')\" % url_to_value)\n",
    "    conn.commit()\n",
    "    if url_from_value == url_to_value:\n",
    "        return\n",
    "    conn.execute(\"insert into link(url_from,url_to) values('%s','%s')\", % (url_from_value, url_to_value))\n",
    "    conn.commit()\n",
    "```\n",
    "url_fromとurl_toが同じの場合、linkには入れないことに注意してください。  \n",
    "<br><br>\n",
    "ここでURLに ' いれなかった理由を説明します。   \n",
    "URLに ' がはいっている場合を考えてみます。   \n",
    "url_to_value = \"http ://aidemy'net\" とするとSQL文は   \n",
    "\n",
    "insert into urllist(url) values('http ://aidemy'net')   \n",
    "\n",
    "となります。   \n",
    "\n",
    "こうなると ' が三つ存在し、どこまでで値が切れるのかがわからなくなりエラーになってしまいます。   \n",
    "そのためクローリングの時に' を除きました。"
   ]
  },
  {
   "cell_type": "markdown",
   "metadata": {},
   "source": [
    "#### 問題"
   ]
  },
  {
   "cell_type": "markdown",
   "metadata": {
    "id": "question"
   },
   "source": [
    "- 二つのURLをurllistとlinkテーブルに追加してください。"
   ]
  },
  {
   "cell_type": "code",
   "execution_count": null,
   "metadata": {
    "collapsed": true
   },
   "outputs": [],
   "source": [
    "import sqlite3\n",
    "\n",
    "dbname = \"test.db\"\n",
    "conn = sqlite3.connect(dbname)\n",
    "\n",
    "def add_url_list(conn, url_from_value, url_to_value):\n",
    "    # urllistにリンク先のURL(url_to)を追加してください。\n",
    "    \n",
    "    \n",
    "    if url_from_value == url_to_value:\n",
    "        return\n",
    "    # URLの関係を追加してください。\n",
    "\n",
    "    \n",
    "    \n",
    "url_from = \"http://aidemy.net\"\n",
    "url_to = \"http://blog.aidemy.net/\"\n",
    "add_url_list(conn,url_from,url_to)\n",
    "\n",
    "conn.close()"
   ]
  },
  {
   "cell_type": "markdown",
   "metadata": {},
   "source": [
    "#### ヒント"
   ]
  },
  {
   "cell_type": "markdown",
   "metadata": {
    "id": "hint"
   },
   "source": [
    "- 値を追加した後はcommitメソッドを忘れずに呼び出してください。\n",
    "- データベースを扱っているので何度も実行するとその都度データが追加されます。気になる場合は1.2.4を実行して作り直してください。"
   ]
  },
  {
   "cell_type": "markdown",
   "metadata": {},
   "source": [
    "#### 解答例"
   ]
  },
  {
   "cell_type": "code",
   "execution_count": null,
   "metadata": {
    "collapsed": true
   },
   "outputs": [],
   "source": [
    "import sqlite3\n",
    "\n",
    "dbname = \"test.db\"\n",
    "conn = sqlite3.connect(dbname)\n",
    "\n",
    "def add_url_list(conn, url_from_value, url_to_value):\n",
    "    # urllistにリンク先のURL(url_to)を追加してください。\n",
    "    conn.execute(\"insert into urllist(url) values('%s')\" % url_to_value)\n",
    "    conn.commit()\n",
    "    if url_from_value == url_to_value:\n",
    "        return\n",
    "    # URLの関係を追加してください。\n",
    "    conn.execute(\"insert into link(url_from,url_to) values('%s','%s')\" % (url_from_value, url_to_value))\n",
    "    conn.commit()\n",
    "\n",
    "url_from = \"https://en.wikipedia.org/wiki/Python_(programming_language)\"\n",
    "url_to = \"https://en.wikipedia.org/wiki/Interpreted_language\"\n",
    "add_url_list(conn, url_from, url_to)\n",
    "\n",
    "data = conn.execute(\"select * from link\")\n",
    "data_list = data.fetchall()\n",
    "print(data_list)\n",
    "\n",
    "conn.close()"
   ]
  },
  {
   "cell_type": "markdown",
   "metadata": {},
   "source": [
    "***"
   ]
  },
  {
   "cell_type": "markdown",
   "metadata": {
    "id": "code_session_name"
   },
   "source": [
    "### 2.1.3 データが重複していないかどうか確かめる。"
   ]
  },
  {
   "cell_type": "markdown",
   "metadata": {
    "id": "description"
   },
   "source": [
    "urllistテーブルとwordテーブルの要素はすべて重複していない必要があります。   \n",
    "しかし現段階ではどちらも入力されたものはすべて追加してしまうため重複が生まれています。   \n",
    "そこですでに追加されているか確認できる関数を作成します。   \n",
    "\n",
    "重複を確認するためにselectメソッドを利用します。   \n",
    "select文のおさらいです。   \n",
    "select カラム名 from テーブル名 where 条件式   \n",
    "で条件式に一致するデータのみを抜き出すことができます。   \n",
    "\n",
    "value は URLか単語になるのでstr型にするため　'　'　でくくることを忘れないようにしましょう。   \n",
    "\n",
    "ここでは重複を確認するcheck関数を実装します。<br>\n",
    "check関数では値を確認し、重複指定内容であればテーブルに追加します。\n",
    "```python\n",
    "def check(conn, table, column, value):\n",
    "    flag = conn.execute(\"select %s from %s where %s = '%s'\" % (column, table, column, value)).fetchone()\n",
    "    if flag:\n",
    "        return \n",
    "    else :\n",
    "        conn.execute(\"insert into %s(%s) values('%s')\" % (table, column, value))\n",
    "```"
   ]
  },
  {
   "cell_type": "markdown",
   "metadata": {},
   "source": [
    "#### 問題"
   ]
  },
  {
   "cell_type": "markdown",
   "metadata": {
    "id": "question"
   },
   "source": [
    "- 重複があるかどうか確認し、重複しないようであれば値を追加する関数を作成してください。   \n",
    "- 関数では、コネクション・テーブル名・カラム名・値を受け取ります。"
   ]
  },
  {
   "cell_type": "code",
   "execution_count": null,
   "metadata": {
    "collapsed": true
   },
   "outputs": [],
   "source": [
    "import re\n",
    "import sqlite3\n",
    "\n",
    "dbname = (\"test.db\")\n",
    "conn = sqlite3.connect(dbname)\n",
    "\n",
    "ignore_words = {'the','and','python','ext','ready','wikipedia','user','false','mediawiki','true'\n",
    "                ,'for','page','styles','articles','template','gadget','not','help','article','from'}\n",
    "\n",
    "# 重複を確認し、重複しないようであれば値を追加する関数を作成してください。\n",
    "def check(conn, table, column, value):\n",
    "\n",
    "    \n",
    "\n",
    "\n",
    "def separate_words(soup):\n",
    "    text = soup.text\n",
    "    pattern = re.compile(\"\\W\")\n",
    "    words = [s.lower() for s in pattern.split(text) if len(s) > 2]\n",
    "    return words\n",
    "\n",
    "\n",
    "def add_list(conn, url, soup):\n",
    "    print('Indexing '+url)\n",
    "    words = separate_words(soup)\n",
    "    for i,word_value in enumerate(words):\n",
    "        if word_value in ignore_words:\n",
    "            continue\n",
    "        # check関数を利用してテーブルに値を追加してください。\n",
    "        \n",
    "        conn.execute(\"insert into wordlocation(url, word, location) values ('%s','%s',%d)\" % (url,word_value, i))\n",
    "        \n",
    "        \n",
    "def add_lli_st(conn, url_from_value, url_to_value):\n",
    "    # check関数を利用してテーブルに値を追加してください。\n",
    "    \n",
    "    conn.commit()\n",
    "    if url_from_value == url_to_value:\n",
    "        return\n",
    "    conn.execute(\"insert into link(url_from,url_to) values('%s','%s')\" % (url_from_value, url_to_value))\n",
    "    conn.commit()\n",
    "\n",
    "url_from = \"https://en.wikipedia.org/wiki/Python_(programming_language)\"\n",
    "url_to = \"https://en.wikipedia.org/wiki/Interpreted_language\"\n",
    "add_url_list(conn, url_from, url_to)\n",
    "\n",
    "        \n",
    "url = \"https://en.wikipedia.org/wiki/Python_(programming_language)\"\n",
    "soup = soup_base\n",
    "\n",
    "add_list(conn, url, soup)\n",
    "\n",
    "data = conn.execute(\"select * from urllist\")\n",
    "data_list = data.fetchall()\n",
    "print(data_list)\n",
    "\n",
    "conn.close()"
   ]
  },
  {
   "cell_type": "markdown",
   "metadata": {},
   "source": [
    "#### ヒント"
   ]
  },
  {
   "cell_type": "markdown",
   "metadata": {
    "id": "hint"
   },
   "source": [
    "- SQLにおいて値として追加するときは'%s'となりますが、テーブル名などは %s のみです。"
   ]
  },
  {
   "cell_type": "markdown",
   "metadata": {},
   "source": [
    "#### 解答例"
   ]
  },
  {
   "cell_type": "code",
   "execution_count": null,
   "metadata": {
    "collapsed": true,
    "id": "answer"
   },
   "outputs": [],
   "source": [
    "import re\n",
    "import sqlite3\n",
    "\n",
    "dbname = (\"test.db\")\n",
    "conn = sqlite3.connect(dbname)\n",
    "\n",
    "ignore_words = {'the','and','python','ext','ready','wikipedia','user','false','mediawiki','true'\n",
    "                ,'for','page','styles','articles','template','gadget','not','help','article','from'}\n",
    "\n",
    "# 重複を確認し、重複しないようであれば値を追加する関数を作成してください。\n",
    "def check(conn, table, column, value):\n",
    "    flag = conn.execute(\"select %s from %s where %s = '%s'\" % (column, table, column, value)).fetchone()\n",
    "    if flag:\n",
    "        return \n",
    "    else :\n",
    "        conn.execute(\"insert into %s(%s) values('%s')\" % (table, column, value))\n",
    "\n",
    "\n",
    "def separate_words(soup):\n",
    "    text = soup.text\n",
    "    pattern = re.compile(\"\\W\")\n",
    "    words = [s.lower() for s in pattern.split(text) if len(s) > 2]\n",
    "    return words\n",
    "\n",
    "def add_list(conn, url, soup):\n",
    "    print('Indexing '+url)\n",
    "    words = separate_words(soup)\n",
    "    for i,word_value in enumerate(words):\n",
    "        if word_value in ignore_words:\n",
    "            continue\n",
    "        # check関数を利用してテーブルに値を追加してください。\n",
    "        check(conn,'wordlist','word',word_value)\n",
    "        conn.execute(\"insert into wordlocation(url, word, location) values ('%s','%s',%d)\" % (url,word_value, i))\n",
    "        \n",
    "        \n",
    "def add_url_list(conn, url_from_value, url_to_value):\n",
    "    # check関数を利用してテーブルに値を追加してください。\n",
    "    check(conn,'urllist','url',url_to_value)\n",
    "    conn.commit()\n",
    "    if url_from_value == url_to_value:\n",
    "        return\n",
    "    conn.execute(\"insert into link(url_from,url_to) values('%s','%s')\" % (url_from_value, url_to_value))\n",
    "    conn.commit()\n",
    "\n",
    "url_from = \"https://en.wikipedia.org/wiki/Python_(programming_language)\"\n",
    "url_to = \"https://en.wikipedia.org/wiki/Interpreted_language\"\n",
    "add_url_list(conn, url_from, url_to)\n",
    "\n",
    "        \n",
    "url = \"https://en.wikipedia.org/wiki/Python_(programming_language)\"\n",
    "soup = soup_base\n",
    "\n",
    "add_list(conn, url, soup)\n",
    "\n",
    "data = conn.execute(\"select * from urllist\")\n",
    "data_list = data.fetchall()\n",
    "print(data_list)\n",
    "\n",
    "conn.close()"
   ]
  },
  {
   "cell_type": "markdown",
   "metadata": {},
   "source": [
    "***"
   ]
  },
  {
   "cell_type": "markdown",
   "metadata": {
    "id": "code_session_name"
   },
   "source": [
    "### 2.1.4 crawl関数を書き直す。"
   ]
  },
  {
   "cell_type": "markdown",
   "metadata": {
    "id": "description"
   },
   "source": [
    "完成したadd_listメソッドとadd_url_listメソッドをcrawlメソッドに書き加えてURLと単語、URLの関係をデータベースに保存できるようにしましょう。   \n",
    "下のものがchapter1で作成したcrawlメソッドです。   \n",
    "```python\n",
    "\n",
    "def crawl(pages, depth=2):\n",
    "    words_list = []\n",
    "    for i in range(depth):\n",
    "        newpages = set()\n",
    "        pages_list = pages\n",
    "        for page in pages:\n",
    "            #print(page)\n",
    "            count = 0\n",
    "            try:\n",
    "                html = urllib.request.urlopen(page)\n",
    "            except:\n",
    "                print('こちらのURLは開けませんでした : %s' % page)\n",
    "                continue\n",
    "            soup = BeautifulSoup(html, \"html.parser\")\n",
    "            words_list.append((page,separate_word(soup)))\n",
    "            links = soup.find_all('a')\n",
    "            for link in links:\n",
    "                if ('href' in link.attrs):\n",
    "                    url = urllib.parse.urljoin(page, link['href'])\n",
    "                    url = url.split('#')[0]\n",
    "                    if url.find(\"'\") != -1:\n",
    "                                continue\n",
    "                    if url[0:4] == 'http' and not url in (pages_list):\n",
    "                        newpages.add(url)\n",
    "                    count += 1\n",
    "                    if count > 10:\n",
    "                        break\n",
    "            pages = newpages\n",
    "            pages_list = pages_list | pages\n",
    "    return words_list\n",
    "            \n",
    "```"
   ]
  },
  {
   "cell_type": "markdown",
   "metadata": {},
   "source": [
    "#### 問題"
   ]
  },
  {
   "cell_type": "markdown",
   "metadata": {
    "id": "question"
   },
   "source": [
    "- crawlメソッドにadd_listメソッドとadd_url_listメソッドを加えて、入手データをデータベースに書き込めるようにしてください。"
   ]
  },
  {
   "cell_type": "code",
   "execution_count": null,
   "metadata": {
    "collapsed": true,
    "id": "index"
   },
   "outputs": [],
   "source": [
    "# 適切な部分に関数を書き加えてください。\n",
    "def crawl(pages, depth=2):\n",
    "    words_list = []\n",
    "    for i in range(depth):\n",
    "        newpages = set()\n",
    "        pages_list = pages\n",
    "        for page in pages:\n",
    "            #print(page)\n",
    "            count = 0\n",
    "            try:\n",
    "                html = urllib.request.urlopen(page)\n",
    "            except:\n",
    "                print('こちらのURLは開けませんでした : %s' % page)\n",
    "                continue\n",
    "            soup = BeautifulSoup(html, \"html.parser\")\n",
    "            words_list.append((page,separate_word(soup)))\n",
    "            links = soup.find_all('a')\n",
    "            for link in links:\n",
    "                if ('href' in link.attrs):\n",
    "                    url = urllib.parse.urljoin(page, link['href'])\n",
    "                    url = url.split('#')[0]\n",
    "                    if url.find(\"'\") != -1:\n",
    "                                continue\n",
    "                    if url[0:4] == 'http' and not url in (pages_list):\n",
    "                        newpages.add(url)\n",
    "                    count += 1\n",
    "                    if count > 10:\n",
    "                        break\n",
    "            pages = newpages\n",
    "            pages_list = pages_list | pages\n",
    "    return words_list"
   ]
  },
  {
   "cell_type": "markdown",
   "metadata": {},
   "source": [
    "#### ヒント"
   ]
  },
  {
   "cell_type": "markdown",
   "metadata": {
    "id": "hint"
   },
   "source": [
    "- インデックスに注意して書き加えてください。"
   ]
  },
  {
   "cell_type": "markdown",
   "metadata": {},
   "source": [
    "#### 解答例"
   ]
  },
  {
   "cell_type": "code",
   "execution_count": null,
   "metadata": {
    "collapsed": true
   },
   "outputs": [],
   "source": [
    "# 適切な部分に関数を書き加えてください。\n",
    "def crawl(pages, depth=2):\n",
    "    words_list = []\n",
    "    for i in range(depth):\n",
    "        newpages = set()\n",
    "        pages_list = pages\n",
    "        for page in pages:\n",
    "            #print(page)\n",
    "            count = 0\n",
    "            try:\n",
    "                html = urllib.request.urlopen(page)\n",
    "            except:\n",
    "                print('こちらのURLは開けませんでした : %s' % page)\n",
    "                continue\n",
    "            soup = BeautifulSoup(html, \"html.parser\")\n",
    "            add_list(conn,page,soup)\n",
    "            words_list.append((page,separate_word(soup)))\n",
    "            links = soup.find_all('a')\n",
    "            for link in links:\n",
    "                if ('href' in link.attrs):\n",
    "                    url = urllib.parse.urljoin(page, link['href'])\n",
    "                    url = url.split('#')[0]\n",
    "                    if url.find(\"'\") != -1:\n",
    "                                continue\n",
    "                    if url[0:4] == 'http' and not url in (pages_list):\n",
    "                        newpages.add(url)\n",
    "                        add_url_list(conn,page,url)\n",
    "                    count += 1\n",
    "                    if count > 10:\n",
    "                        break\n",
    "            pages = newpages\n",
    "            pages_list = pages_list | pages\n",
    "    return words_list"
   ]
  },
  {
   "cell_type": "markdown",
   "metadata": {
    "id": "section_name"
   },
   "source": [
    "## 2.2 クローラーをクラスにまとめる。"
   ]
  },
  {
   "cell_type": "markdown",
   "metadata": {
    "id": "code_session_name"
   },
   "source": [
    "### 2.2.1 クラスの使い方"
   ]
  },
  {
   "cell_type": "markdown",
   "metadata": {
    "id": "description"
   },
   "source": [
    "pythonではクラスと呼ばれるものを利用することによって、いくつかのモジュールをまとめて一つにすることができます。   \n",
    "クラスとはどういうものか理解するために例として車のクラスを考えてみます。   \n",
    "車は分解してみると、\n",
    "- タイヤ  \n",
    "- ドア  \n",
    "- ハンドル  \n",
    "- 値段   \n",
    "\n",
    "といったように車は様々なパーツに分解することができとします。   \n",
    "これをクラスで表すと、   \n",
    "\n",
    "```python\n",
    "\n",
    "class car:\n",
    "    def __init__(self):\n",
    "        self.price = 1000\n",
    "       \n",
    "    def wheel(self,size):\n",
    "        self.wheel_size = size\n",
    "        '''その他タイヤを作るのに必要な処理'''\n",
    "    \n",
    "    def door(self):\n",
    "        '''ドアを作るのに必要な処理'''\n",
    "    \n",
    "    def handle(self):\n",
    "        '''ハンドルを作るのに必要な処理'''\n",
    "\n",
    "```\n",
    "と表すことができます。   \n",
    "このように車を構成するような関数をまとめたものが車のクラスとなります。   \n",
    "クラスの使い方は上の車の例を参考に覚えましょう。   \n",
    "   \n",
    "クラス内で定義した変数や関数を使用したい場合はself.wheel()のように関数名の前にselfを付けます。   \n",
    "クラス内で変数を定義したいときは wheelモジュールでwheel_sizeを定義しているように関数と同様selfを付けてください。   \n",
    "関数名の第一引数にselfとありますがこれはおまじないとして覚えてください。   \n",
    "関数内はクラス内の変数、関数以外は今まで通りのコードを書くことができます。   \n",
    "\n",
    "\n",
    "実はクラスはこのままでは使えず、   \n",
    "``` python\n",
    "C = car()\n",
    "```\n",
    "のようにクラスの入れ物を生成する必要があります。   \n",
    "この C をオブジェクトといいます。   \n",
    "クラスの関数をよびだすときには オブジェクト.関数名 としてください。   \n",
    "\n",
    "クラスには` __init__()`　という特別な関数があります。   \n",
    "`__init__()`はオブジェクトが生成されたときに必ず実行される関数です。   \n",
    "すべてのオブジェクトに共通して実行したい命令をここに代入します。   \n"
   ]
  },
  {
   "cell_type": "markdown",
   "metadata": {},
   "source": [
    "#### 問題"
   ]
  },
  {
   "cell_type": "markdown",
   "metadata": {
    "id": "question"
   },
   "source": [
    "- 数字を計算するクラスを作成してください。\n",
    "- 関数を埋めて元の数に四則演算を行います。\n",
    "- オブジェクト生成時に与えた数字はinitに渡されます。"
   ]
  },
  {
   "cell_type": "code",
   "execution_count": null,
   "metadata": {
    "collapsed": true,
    "id": "index"
   },
   "outputs": [],
   "source": [
    "class calculate:\n",
    "    # 以下の空欄を埋めて関数を定義してください。\n",
    "    def __init__(self, base):\n",
    "        self.num = \n",
    "        \n",
    "    def add(self, add_num):\n",
    "        self.num += add_num\n",
    "        return self.num\n",
    "    \n",
    "    def sub(self, sub_num):\n",
    "        self.num -= sub_num\n",
    "        return self.num\n",
    "    \n",
    "    # 空欄を埋めて関数を完成させてください。\n",
    "    def mul(self, mul_num):\n",
    "\n",
    "        \n",
    "    \n",
    "    # クラスが持っている数を入力された数字で割る関数divを定義してください。\n",
    "\n",
    "    \n",
    "    \n",
    "    \n",
    "number = calculate(100)\n",
    "print(number.add(20))\n",
    "print(number.mul(0.5))\n"
   ]
  },
  {
   "cell_type": "markdown",
   "metadata": {},
   "source": [
    "#### ヒント"
   ]
  },
  {
   "cell_type": "markdown",
   "metadata": {
    "id": "hint"
   },
   "source": [
    "- クラス内の関数は第一引数にselfを持つことに注意してください。"
   ]
  },
  {
   "cell_type": "markdown",
   "metadata": {},
   "source": [
    "#### 解答例"
   ]
  },
  {
   "cell_type": "code",
   "execution_count": null,
   "metadata": {
    "collapsed": true
   },
   "outputs": [],
   "source": [
    "class calculate:\n",
    "    # 以下の空欄を埋めて関数を定義してください。\n",
    "    def __init__(self, base):\n",
    "        self.num = base\n",
    "        \n",
    "    def add(self, add_num):\n",
    "        self.num += add_num\n",
    "        return self.num\n",
    "    \n",
    "    def sub(self, sub_num):\n",
    "        self.num -= sub_num\n",
    "        return self.num\n",
    "    # 空欄を埋めて関数を完成させてください。\n",
    "    def mul(self, mul_num):\n",
    "        self.num *= mul_num\n",
    "        return self.num\n",
    "    \n",
    "    # クラスが持っている数を入力された数字で割る関数を定義してください。\n",
    "    def div(self, div_num):\n",
    "        self.num /= div_num\n",
    "        return self.num\n",
    "    \n",
    "number = calculate(100)\n",
    "print(number.add(20))\n",
    "print(number.mul(0.5))\n"
   ]
  },
  {
   "cell_type": "markdown",
   "metadata": {},
   "source": [
    "***"
   ]
  },
  {
   "cell_type": "markdown",
   "metadata": {
    "id": "quiz_session_name"
   },
   "source": [
    "### 2.2.2 初期値の設定"
   ]
  },
  {
   "cell_type": "markdown",
   "metadata": {
    "id": "description"
   },
   "source": [
    "クラスメソッドには`__init__()`といったような特殊メソッドが存在することをchapter1で学びました。   \n",
    "他にも特殊メソッドは数多く存在します。   \n",
    "- `__add__()` :   \n",
    "同じクラスのオブジェクト同士で+演算子を使用したときに呼び出される。   \n",
    "- `__mul__()` :   \n",
    "同じクラスのオブジェクト同士で * 演算子を使用したときに呼び出される。  \n",
    "- `__del__()` :   \n",
    "オブジェクトが削除されるときに呼び出される。   \n",
    "\n",
    "これ以外にも様々な特殊メソッドがあります。   \n",
    "`__init__()`はよく使用するので覚えておきましょう。   "
   ]
  },
  {
   "cell_type": "markdown",
   "metadata": {},
   "source": [
    "#### 問題"
   ]
  },
  {
   "cell_type": "markdown",
   "metadata": {
    "id": "question"
   },
   "source": [
    "- crawlerクラスを作成してください。\n",
    "- オブジェクト生成時にデータベースにつなげ、オブジェクト削除時にデータベースとのつながりを閉じてください。"
   ]
  },
  {
   "cell_type": "code",
   "execution_count": null,
   "metadata": {
    "collapsed": true
   },
   "outputs": [],
   "source": [
    "class crawler:\n",
    "    # 初期設定でコネクションを作成してください。\n",
    "\n",
    "    \n",
    "    # オブジェクトが削除されるときに接続が切れるようにしてください。\n",
    "\n",
    "    "
   ]
  },
  {
   "cell_type": "markdown",
   "metadata": {},
   "source": [
    "#### ヒント"
   ]
  },
  {
   "cell_type": "markdown",
   "metadata": {
    "id": "hint"
   },
   "source": [
    "- クラス内で使う変数はself.変数名となります。\n",
    "- オブジェクトが削除されると`__del__`メソッドが呼び出されます。"
   ]
  },
  {
   "cell_type": "markdown",
   "metadata": {},
   "source": [
    "#### 解答"
   ]
  },
  {
   "cell_type": "code",
   "execution_count": null,
   "metadata": {
    "collapsed": true
   },
   "outputs": [],
   "source": [
    "class crawler:\n",
    "    # 初期設定でコネクションを作成してください。\n",
    "    def __init__(self,dbname):\n",
    "        self.conn = sqlite3.connect(dbname)\n",
    "    \n",
    "    # オブジェクトが削除されるときに接続が切れるようにしてください。\n",
    "    def __del__(self):\n",
    "        self.conn.close()\n",
    "        "
   ]
  },
  {
   "cell_type": "markdown",
   "metadata": {},
   "source": [
    "***"
   ]
  },
  {
   "cell_type": "markdown",
   "metadata": {
    "id": "code_session_name"
   },
   "source": [
    "### 2.2.3 関数をクラスに入れる。"
   ]
  },
  {
   "cell_type": "markdown",
   "metadata": {
    "id": "description"
   },
   "source": [
    "ここまでで多数の関数を作成してきました。  \n",
    "ただ量が多くなるとどれがなんのための関数かわからなくなってしまいます。   \n",
    "クローラーに関する関数はわかりやすくするためにクラスにまとめましょう。   \n",
    "\n",
    "クラスで定義するときの注意点をおさらいしてみると、   \n",
    "1. クラス内の関数の第一引数はselfになります。\n",
    "2. クラス内で関数の呼び出し、共通の変数を使用するときはself.関数名または変数名とします。   \n",
    "3. クラス内では一つインデックスを下げる必要があります。\n",
    "\n",
    "などがあります。"
   ]
  },
  {
   "cell_type": "markdown",
   "metadata": {},
   "source": [
    "#### 問題"
   ]
  },
  {
   "cell_type": "markdown",
   "metadata": {
    "id": "question"
   },
   "source": [
    "- 以下にchapter1,2で定義してきた関数があります。\n",
    "- これらをcrawlerクラスの関数として書き換えてください。\n",
    "\n",
    "```python\n",
    "                \n",
    "def separate_word(soup):\n",
    "    text = soup.text\n",
    "    pattern = re.compile(\"\\W\")\n",
    "    words = [s.lower() for s in pattern.split(text) if len(s) > 2]\n",
    "    return words\n",
    "\n",
    "def check(conn,table,column,value):\n",
    "    flag = conn.execute(\"select %s from %s where %s = '%s'\" % (column, table, column, value)).fetchone()\n",
    "    if flag:\n",
    "        return \n",
    "    else :\n",
    "        conn.execute(\"insert into %s(%s) values(%s)\" % (table, column, value))\n",
    "\n",
    "\n",
    "def add_list(conn, url, soup):\n",
    "    \n",
    "    print('Indexing '+url)\n",
    "    words = separate_words(soup)\n",
    "    for i,word_value in enumerate(words):\n",
    "        if word_value in ignorewords:\n",
    "            continue\n",
    "        check(conn,'wordlist','word',word_value)\n",
    "        conn.execute(\"insert into wordlocation(url, word, location) values (%d,%d,%d)\" % (url,word, i))\n",
    "        \n",
    "        \n",
    "def add_url_list(conn, url_from_value, url_to_value):\n",
    "    check(conn,'urllist','url_from',url_from_value)\n",
    "    check(conn,'urllist','url_to',url_to_value)\n",
    "    conn.commit()\n",
    "    if url_from_value == url_to_value:\n",
    "        return\n",
    "    conn.execute(\"insert into link(from,to) values(%s,%s)\" % (url_from, url_to))\n",
    "    conn.commit()\n",
    "    \n",
    "\n",
    "def crawl(pages, depth=2):\n",
    "    words_list = []\n",
    "    for i in range(depth):\n",
    "        newpages = set()\n",
    "        pages_list = pages\n",
    "        for page in pages:\n",
    "            #print(page)\n",
    "            count = 0\n",
    "            try:\n",
    "                html = urllib.request.urlopen(page)\n",
    "            except:\n",
    "                print('こちらのURLは開けませんでした : %s' % page)\n",
    "                continue\n",
    "            soup = BeautifulSoup(html, \"html.parser\")\n",
    "            add_list(conn,page,soup)\n",
    "            words_list.append((page,separate_word(soup)))\n",
    "            links = soup.find_all('a')\n",
    "            for link in links:\n",
    "                if ('href' in link.attrs):\n",
    "                    url = urllib.parse.urljoin(page, link['href'])\n",
    "                    url = url.split('#')[0]\n",
    "                    if url.find(\"'\") != -1:\n",
    "                                continue\n",
    "                    if url[0:4] == 'http' and not url in (pages_list):\n",
    "                        newpages.add(url)\n",
    "                        add_url_list(conn,page,url)\n",
    "                    count += 1\n",
    "                    if count > 10:\n",
    "                        break\n",
    "            pages = newpages\n",
    "            pages_list = pages_list | pages\n",
    "    return words_list\n",
    "            \n",
    "def create_table(conn):\n",
    "    conn.execute(\"create table urllist(url)\")\n",
    "    conn.execute(\"create table wordlist(word)\")\n",
    "    conn.execute(\"create table wordlocation(url, word, location)\")\n",
    "    conn.execute(\"create table link(url_from, url_to)\")\n",
    "    \n",
    "```\n"
   ]
  },
  {
   "cell_type": "code",
   "execution_count": null,
   "metadata": {
    "collapsed": true
   },
   "outputs": [],
   "source": [
    "class crawler:\n",
    "    def __init__(self, dbname):\n",
    "        self.conn = sqlite3.connect(dbname)\n",
    "    \n",
    "    def __del__(self):\n",
    "        self.conn.close()\n",
    "        \n",
    "    # 続けて関数を定義してください。\n",
    "        "
   ]
  },
  {
   "cell_type": "markdown",
   "metadata": {},
   "source": [
    "#### ヒント"
   ]
  },
  {
   "cell_type": "markdown",
   "metadata": {
    "id": "hint"
   },
   "source": [
    "- 関数の第一引数にはselfを渡してください。\n",
    "- クラス内の変数や関数を呼び出すときはself.関数名・変数名とする必要があります。"
   ]
  },
  {
   "cell_type": "markdown",
   "metadata": {},
   "source": [
    "#### 解答例"
   ]
  },
  {
   "cell_type": "code",
   "execution_count": null,
   "metadata": {
    "collapsed": true,
    "id": "index"
   },
   "outputs": [],
   "source": [
    "class crawler:\n",
    "    \n",
    "    def __init__(self, dbname):\n",
    "        self.conn = sqlite3.connect(dbname)\n",
    "    \n",
    "    def __del__(self):\n",
    "        self.conn.close()\n",
    "    \n",
    "    # 続けて関数を定義してください。\n",
    "    def separate_word(self, soup):\n",
    "        text = soup.text\n",
    "        pattern = re.compile(\"\\W\")\n",
    "        words = [s.lower() for s in pattern.split(text) if len(s) > 2]\n",
    "        return words\n",
    "\n",
    "    def check(self, table, column, value):\n",
    "        flag = self.conn.execute(\"select %s from %s where %s = '%s'\" % (column, table, column, value)).fetchone()\n",
    "        if flag:\n",
    "            return \n",
    "        else :\n",
    "            self.conn.execute(\"insert into %s(%s) values(%s)\" % (table, column, value))\n",
    "\n",
    "\n",
    "    def add_list(self, url, soup):\n",
    "\n",
    "        print('Indexing '+url)\n",
    "        words = separate_words(soup)\n",
    "        for i,word_value in enumerate(words):\n",
    "            if word_value in ignorewords:\n",
    "                continue\n",
    "            self.check('wordlist','word',word_value)\n",
    "            self.conn.execute(\"insert into wordlocation(url, word, location) values (%d,%d,%d)\" % (url,word, i))\n",
    "\n",
    "\n",
    "    def add_url_list(self, url_from_value, url_to_value):\n",
    "        self.check('urllist','url_from',url_from_value)\n",
    "        self.check('urllist','url_to',url_to_value)\n",
    "        self.conn.commit()\n",
    "        if url_from_value == url_to_value:\n",
    "            return\n",
    "        self.conn.execute(\"insert into link(from,to) values(%s,%s)\" % (url_from, url_to))\n",
    "        self.conn.commit()\n",
    "\n",
    "\n",
    "    def crawl(self, pages, depth=2):\n",
    "        words_list = []\n",
    "        for i in range(depth):\n",
    "            newpages = set()\n",
    "            pages_list = pages\n",
    "            for page in pages:\n",
    "                #print(page)\n",
    "                count = 0\n",
    "                try:\n",
    "                    html = urllib.request.urlopen(page)\n",
    "                except:\n",
    "                    print('こちらのURLは開けませんでした : %s' % page)\n",
    "                    continue\n",
    "                soup = BeautifulSoup(html, \"html.parser\")\n",
    "                add_list(conn,page,soup)\n",
    "                words_list.append((page,separate_word(soup)))\n",
    "                links = soup.find_all('a')\n",
    "                for link in links:\n",
    "                    if ('href' in link.attrs):\n",
    "                        url = urllib.parse.urljoin(page, link['href'])\n",
    "                        url = url.split('#')[0]\n",
    "                        if url.find(\"'\") != -1:\n",
    "                                    continue\n",
    "                        if url[0:4] == 'http' and not url in (pages_list):\n",
    "                            newpages.add(url)\n",
    "                            add_url_list(conn,page,url)\n",
    "                        count += 1\n",
    "                        if count > 10:\n",
    "                            break\n",
    "                pages = newpages\n",
    "                pages_list = pages_list | pages\n",
    "        return words_list\n",
    "                \n",
    "    \n",
    "    def create_table(self):\n",
    "        self.execute(\"create table urllist(url)\")\n",
    "        self.execute(\"create table wordlist(word)\")\n",
    "        self.execute(\"create table wordlocation(url, word, location)\")\n",
    "        self.execute(\"create table link(url_from, url_to)\")"
   ]
  },
  {
   "cell_type": "markdown",
   "metadata": {},
   "source": [
    "***"
   ]
  },
  {
   "cell_type": "markdown",
   "metadata": {
    "id": "section_name"
   },
   "source": [
    "## 2.3 検索部分の作成"
   ]
  },
  {
   "cell_type": "markdown",
   "metadata": {
    "id": "quiz_session_name"
   },
   "source": [
    "### 2.3.1 クエリが含まれるURLを探す。1"
   ]
  },
  {
   "attachments": {
    "%E3%82%B9%E3%82%AF%E3%83%AA%E3%83%BC%E3%83%B3%E3%82%B7%E3%83%A7%E3%83%83%E3%83%88%20%2853%29.png": {
     "image/png": "[encoded data removed]"
    }
   },
   "cell_type": "markdown",
   "metadata": {
    "id": "description"
   },
   "source": [
    "ソフトウェアに対するデータの問い合わせや要求などのことをクエリと呼びます。   \n",
    "入力されたクエリを用いて、クエリが含まれているURLを返す関数を作成していきます。   \n",
    "\n",
    "関数の実装をする前にSQL文を利用して複数のテーブルからほしいデータを取り出す手法を学びましょう。   \n",
    "SQL文のselectメソッドで複数のテーブルを指定したいとき次のように指定できます。  \n",
    "\n",
    "select テーブル名1.カラム名1 テーブル名2.カラム名2 from テーブル名1,テーブル名2 \n",
    "\n",
    "またテーブルには\n",
    "\n",
    "テーブル名 別名\n",
    "\n",
    "で別名をつけることもできます。   \n",
    "別名を付けたテーブルはイメージとして複製されたと考えます。   \n",
    "例として以下のSQL文の実行されたときを考えてみます。   \n",
    "```python\n",
    "select w0.url from wordlocation w0, wordlocation w1 where w0.url = w1.url and w0.word = 'python' and w1.word = 'recommend'\n",
    "```\n",
    "同じwordlocationでもw0とw1ができたと考えます。 <br>\n",
    "以下の図を参考にしてください。   \n",
    "\n",
    "![%E3%82%B9%E3%82%AF%E3%83%AA%E3%83%BC%E3%83%B3%E3%82%B7%E3%83%A7%E3%83%83%E3%83%88%20%2853%29.png](attachment:%E3%82%B9%E3%82%AF%E3%83%AA%E3%83%BC%E3%83%B3%E3%82%B7%E3%83%A7%E3%83%83%E3%83%88%20%2853%29.png)\n",
    "\n",
    "\n"
   ]
  },
  {
   "cell_type": "markdown",
   "metadata": {},
   "source": [
    "#### 問題"
   ]
  },
  {
   "cell_type": "markdown",
   "metadata": {
    "id": "question"
   },
   "source": [
    "- dataフォルダ内にあるwebpage.dbのwordlocationテーブルのカラムにはurl,word,locationがあります。\n",
    "- pythonとrecommendの両方入ったURLを抜き出して、url_listにリストの形で代入してください。"
   ]
  },
  {
   "cell_type": "code",
   "execution_count": null,
   "metadata": {
    "collapsed": true
   },
   "outputs": [],
   "source": [
    "import sqlite3\n",
    "\n",
    "dbname = \"data/webpage.db\"\n",
    "conn = sqlite3.connect(dbname)\n",
    "\n",
    "# URLをリストにして抜き出してください。\n",
    "\n",
    "print(url_list)\n",
    "\n",
    "conn.close()"
   ]
  },
  {
   "cell_type": "markdown",
   "metadata": {},
   "source": [
    "#### ヒント"
   ]
  },
  {
   "cell_type": "markdown",
   "metadata": {
    "id": "hint"
   },
   "source": [
    "- webpage.dbはwikipediaでのpythonの検索ページから200ページ分クロールしたデータセットです。\n",
    "- 条件を複数選択したい場合は and が使えます。"
   ]
  },
  {
   "cell_type": "markdown",
   "metadata": {},
   "source": [
    "#### 解答"
   ]
  },
  {
   "cell_type": "code",
   "execution_count": null,
   "metadata": {
    "collapsed": true,
    "id": "answer"
   },
   "outputs": [],
   "source": [
    "import sqlite3\n",
    "\n",
    "dbname = \"data/webpage.db\"\n",
    "conn = sqlite3.connect(dbname)\n",
    "\n",
    "# URLをリストにして抜き出してください。\n",
    "sql = \"select w0.url from wordlocation w0, wordlocation w1 where w0.url = w1.url and w0.word = 'python' and w1.word = 'recommend'\"\n",
    "url_list = conn.execute(sql).fetchall()\n",
    "\n",
    "print(url_list)\n",
    "\n",
    "conn.close()"
   ]
  },
  {
   "cell_type": "markdown",
   "metadata": {},
   "source": [
    "***"
   ]
  },
  {
   "cell_type": "markdown",
   "metadata": {
    "id": "code_session_name"
   },
   "source": [
    "### 2.3.2 クエリが含まれるURLを探す。2"
   ]
  },
  {
   "cell_type": "markdown",
   "metadata": {
    "id": "description"
   },
   "source": [
    "それでは関数を実装していきます。   \n",
    "関数のアルゴリズムは、\n",
    "1. クエリを単語ごとに分解する。   \n",
    "2. 単語が含まれているか判断するSQL文を作成する。   \n",
    "3. SQL文を実行してURLとクエリの単語の位置のリストを受け取る。   \n",
    "\n",
    "になります。   \n",
    "2.で単語ごとにSQL文を作成するには\n",
    "- clumnlist :   \n",
    "抜き出したいカラムを設定する。   \n",
    "- tablelist :   \n",
    "対象となるテーブルを設定する。   \n",
    "- conitionlist :   \n",
    "条件文を設定する。   \n",
    "\n",
    "の三つを作成します。\n",
    "\n",
    "```python\n",
    "def get_match_rows(conn, q):\n",
    "    columnlist = 'w0.urlid'\n",
    "    tablelist = ''\n",
    "    conditionlist = ''\n",
    "    words_list = []\n",
    "\n",
    "    words = q.split(' ')\n",
    "    tablenumber = 0\n",
    "    for word in words:\n",
    "        wordrow = cocn.execute(\"select word from wordlist where word='%s'\" %word).fetchone()\n",
    "        if wordrow :\n",
    "            words_list.append(word)\n",
    "            if tablenumber > 0:\n",
    "                tablelist += ','\n",
    "                clauselist += ' and w%d.urlid=w%d.urlid and ' % (tablenumber-1,tablenumber)\n",
    "            fieldlist += ',w%d.location' % tablenumber\n",
    "            tablelist += 'wordlocation w%d' % tablenumber\n",
    "            clauselist+='w%d.wordid=%d' % (tablenumber,word)\n",
    "            tablenumber += 1\n",
    "\n",
    "    sql=\"select %s from %s where %s\" % (fieldlist,tablelist,clauselist)\n",
    "    cur=conn.execute(sql)\n",
    "    rows=[row for row in cur]\n",
    "    return rows,words_list\n",
    "    \n",
    "```"
   ]
  },
  {
   "cell_type": "markdown",
   "metadata": {},
   "source": [
    "#### 問題"
   ]
  },
  {
   "cell_type": "markdown",
   "metadata": {
    "id": "question"
   },
   "source": [
    "- クエリの含まれたURLとクエリの単語の位置を返す関数を実装してください。\n",
    "- SQL文が複雑になるので単語が二つの場合を考えて実装していくと理解しやすいです。"
   ]
  },
  {
   "cell_type": "code",
   "execution_count": null,
   "metadata": {
    "collapsed": true
   },
   "outputs": [],
   "source": [
    "def get_match_rows(conn, q):\n",
    "    # それぞれに初期状態を設定してください。\n",
    "    columnlist = \n",
    "    tablelist = \n",
    "    conditionlist = \n",
    "    words_list = []\n",
    "\n",
    "    words = q.split(' ')\n",
    "    tablenumber = 0\n",
    "    for word in words:\n",
    "        \n",
    "        wordrow = cocn.execute(\"select word from wordlist where word='%s'\" %word).fetchone()\n",
    "        if wordrow :\n",
    "            words_list.append(word)\n",
    "            if tablenumber > 0:\n",
    "                # ふたつめ以降の単語が追加されたときの処理を書いてください。\n",
    "                tablelist += \n",
    "                conditionlist += \n",
    "                \n",
    "            # 単語が追加されたときの処理を書いてください。\n",
    "            columnlist += \n",
    "            tablelist += \n",
    "            conditionlist+=\n",
    "            tablenumber += 1\n",
    "    # 条件に合うURLとそのURLにおけるクエリの単語の位置を返してください。\n",
    "    sql=\n",
    "    cur=conn.execute(sql)\n",
    "    rows=[row for row in cur]\n",
    "    return rows,words_list\n",
    "\n",
    "rows,words_list = "
   ]
  },
  {
   "cell_type": "markdown",
   "metadata": {},
   "source": [
    "#### ヒント"
   ]
  },
  {
   "cell_type": "markdown",
   "metadata": {
    "id": "hint"
   },
   "source": [
    "- 入手したいデータはURLだけでなく、クエリの単語の位置もあるので注意してください。"
   ]
  },
  {
   "cell_type": "markdown",
   "metadata": {},
   "source": [
    "#### 解答例"
   ]
  },
  {
   "cell_type": "code",
   "execution_count": null,
   "metadata": {
    "collapsed": true,
    "id": "answer"
   },
   "outputs": [],
   "source": [
    "import sqlite3\n",
    "\n",
    "def get_match_rows(conn, q):\n",
    "     # それぞれに初期状態を設定してください。\n",
    "    columnlist = 'w0.url'\n",
    "    tablelist = ''\n",
    "    conditionlist = ''\n",
    "    words_list = []\n",
    "\n",
    "    words = q.split(' ')\n",
    "    tablenumber = 0\n",
    "    for word in words:\n",
    "        wordrow = conn.execute(\"select word from wordlist where word='%s'\" %word).fetchone()\n",
    "        if wordrow :\n",
    "            words_list.append(word)\n",
    "            if tablenumber > 0:\n",
    "                # ふたつめ以降の単語が追加されたときの処理を書いてください。\n",
    "                tablelist += ','\n",
    "                conditionlist += ' and w%d.url=w%d.url and ' % (tablenumber-1,tablenumber)\n",
    "            # 単語が追加されたときの処理を書いてください。\n",
    "            columnlist += ',w%d.location' % tablenumber\n",
    "            tablelist += 'wordlocation w%d' % tablenumber\n",
    "            conditionlist+=\"w%d.word='%s'\" % (tablenumber,word) \n",
    "            tablenumber += 1\n",
    "\n",
    "    # 条件に合うURLとそのURLにおけるクエリの単語の位置を返してください。\n",
    "    sql=\"select %s from %s where %s\" % (columnlist,tablelist,conditionlist)\n",
    "    try:\n",
    "        cur=conn.execute(sql)\n",
    "    except:\n",
    "        print('探しているページは見つかりませんでした。')\n",
    "        rows = []\n",
    "        return  rows,words_list\n",
    "    rows=[row for row in cur]\n",
    "    return rows,words_list\n",
    "\n",
    "dbname = 'webpage.db'\n",
    "conn = sqlite3.connect(dbname)\n",
    "query = \"python machine\"\n",
    "\n",
    "rows, words_list = get_match_rows(conn, query)\n",
    "print(rows[:30])"
   ]
  },
  {
   "cell_type": "markdown",
   "metadata": {},
   "source": [
    "***"
   ]
  },
  {
   "cell_type": "markdown",
   "metadata": {
    "id": "chapter_exam"
   },
   "source": [
    "##  添削問題"
   ]
  },
  {
   "cell_type": "markdown",
   "metadata": {
    "id": "description"
   },
   "source": [
    "これまで実装してきたものを利用して、クエリで入力した文字の含まれるURLをおすすめできているか確認しましょう。   \n",
    "データベースにはdataフォルダ内のwebpage.dbを利用してください。   \n",
    "webpage.dbにはwikipediaでのpythonの検索結果のURLからのクローリングの結果が200ページ分入っています。"
   ]
  },
  {
   "cell_type": "markdown",
   "metadata": {},
   "source": [
    "#### 問題"
   ]
  },
  {
   "cell_type": "markdown",
   "metadata": {
    "id": "question"
   },
   "source": [
    "- getmatchrow関数を利用して、クエリで入力した文字の含まれるURLを10表示しておすすめできているか確認してください。\n",
    "- クエリはinputメソッドを利用して入力できるようにしてください。\n",
    "- try,exceptメソッドを利用して、一致する単語が見つからなくてもエラーが出ないようにしてください。"
   ]
  },
  {
   "cell_type": "code",
   "execution_count": null,
   "metadata": {
    "collapsed": true,
    "id": "index"
   },
   "outputs": [],
   "source": [
    "import sqlite3\n",
    "\n",
    "# クエリで入力した文字の含まれるURLを返す関数を実装してください。\n",
    "def get_match_rows(conn, q):\n",
    "\n",
    "    \n",
    "\n",
    "dbname = \"data/webpage.db\"\n",
    "conn = sqlite3.connect(dbname)\n",
    "\n",
    "# クエリを自分で入力できるようにしてください。\n",
    "\n",
    "\n",
    "rows, words_list = get_match_rows(conn, query)\n",
    "\n",
    "# 返されたURLを10表示してください。\n",
    "\n"
   ]
  },
  {
   "cell_type": "markdown",
   "metadata": {},
   "source": [
    "#### ヒント"
   ]
  },
  {
   "cell_type": "markdown",
   "metadata": {
    "id": "hint"
   },
   "source": [
    "- try中でエラーが出た場合、exceptの内容が実行されます。"
   ]
  },
  {
   "cell_type": "markdown",
   "metadata": {},
   "source": [
    "#### 解答例"
   ]
  },
  {
   "cell_type": "code",
   "execution_count": null,
   "metadata": {
    "collapsed": true
   },
   "outputs": [],
   "source": [
    "import sqlite3\n",
    "\n",
    "# クエリで入力した文字の含まれるURLを返す関数を実装してください。\n",
    "def get_match_rows(conn,q):\n",
    "    columnlist = 'w0.url'\n",
    "    tablelist = ''\n",
    "    conditionlist = ''\n",
    "    words_list = []\n",
    "\n",
    "    words = q.split(' ')\n",
    "    tablenumber = 0\n",
    "    for word in words:\n",
    "        wordrow = conn.execute(\"select word from wordlist where word='%s'\" %word).fetchone()\n",
    "        if wordrow :\n",
    "            words_list.append(word)\n",
    "            if tablenumber > 0:\n",
    "                tablelist += ','\n",
    "                conditionlist += ' and w%d.url=w%d.url and ' % (tablenumber-1,tablenumber)\n",
    "            columnlist += ',w%d.location' % tablenumber\n",
    "            tablelist += 'wordlocation w%d' % tablenumber\n",
    "            conditionlist+=\"w%d.word='%s'\" % (tablenumber,word) \n",
    "            tablenumber += 1\n",
    "\n",
    "    sql=\"select %s from %s where %s\" % (columnlist,tablelist,conditionlist)\n",
    "    try:\n",
    "        cur=conn.execute(sql)\n",
    "    except:\n",
    "        print('探しているページは見つかりませんでした。')\n",
    "        rows = []\n",
    "        return  rows,words_list\n",
    "    rows=[row for row in cur]\n",
    "    return rows,words_list\n",
    "\n",
    "dbname = \"data/webpage.db\"\n",
    "conn = sqlite3.connect(dbname)\n",
    "\n",
    "# クエリを自分で入力できるようにしてください。\n",
    "query = input(\"input what word do you want to search ?\")\n",
    "rows, words_list = get_match_rows(conn, query)\n",
    "\n",
    "# 返されたURLを10表示してください。\n",
    "for row in rows[:10]:\n",
    "    print(row[0])\n"
   ]
  },
  {
   "cell_type": "markdown",
   "metadata": {},
   "source": [
    "#### 解説"
   ]
  },
  {
   "cell_type": "markdown",
   "metadata": {
    "id": "commentary"
   },
   "source": [
    "wordlocationからURLを持ってきているのでURLが重複してしまいます。   \n",
    "chapter3ではレコメンドに重みをつけ、URLも重複しないように改善します。"
   ]
  },
  {
   "cell_type": "markdown",
   "metadata": {},
   "source": [
    "***"
   ]
  }
 ],
 "metadata": {
  "celltoolbar": "Edit Metadata",
  "kernelspec": {
   "display_name": "Python 3",
   "language": "python",
   "name": "python3"
  },
  "language_info": {
   "codemirror_mode": {
    "name": "ipython",
    "version": 3
   },
   "file_extension": ".py",
   "mimetype": "text/x-python",
   "name": "python",
   "nbconvert_exporter": "python",
   "pygments_lexer": "ipython3",
   "version": "3.6.4"
  }
 },
 "nbformat": 4,
 "nbformat_minor": 2
}