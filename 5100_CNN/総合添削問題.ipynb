{
  "cells": [
    {
      "cell_type": "markdown",
      "metadata": {},
      "source": [
        "プログラムを埋めて、cifar10をvgg16のモデルの転移学習させてください。\n",
        "\n",
        "- cifar10のデータは全て用いて良いです\n",
        "- データのかさ増し、拡張はなしとします\n",
        "- 重みの固定は15層目までとしましょう\n",
        "- epoch数3で65%以上の精度を出しましょう"
      ]
    },
    {
      "cell_type": "code",
      "execution_count": null,
      "metadata": {},
      "outputs": [],
      "source": [
        "from keras import optimizers\n",
        "from keras.applications.vgg16 import VGG16\n",
        "from keras.datasets import cifar10\n",
        "from keras.layers import Dense, Dropout, Flatten, Input\n",
        "from keras.models import Model, Sequential\n",
        "from keras.utils.np_utils import to_categorical\n",
        "import matplotlib.pyplot as plt\n",
        "import numpy as np\n",
        "\n",
        "# データのロードをしてください\n",
        "(X_train, y_train), (X_test, y_test) = \n",
        "y_train = to_categorical(y_train)\n",
        "y_test = to_categorical(y_test)\n",
        "\n",
        "#input_tensorの定義をして、vggのImageNetによる学習済みモデルを作成してください\n",
        "input_tensor = \n",
        "vgg16 = \n",
        "\n",
        "# 特徴量抽出部分のモデルを作成しています\n",
        "top_model = vgg16.output\n",
        "top_model = Flatten(input_shape=vgg16.output_shape[1:])(top_model)\n",
        "top_model = Dense(256, activation='sigmoid')(top_model)\n",
        "top_model = Dropout(0.5)(top_model)\n",
        "top_model = Dense(10, activation='softmax')(top_model)\n",
        "\n",
        "# vgg16とtop_modelを連結してください\n",
        "model = \n",
        "\n",
        "# 以下のfor文を完成させて、15層目までの重みを固定させてください\n",
        "for layer in :\n",
        "    layer.trainable =\n",
        "\n",
        "#　学習の前に、モデル構造を確認してください\n",
        "model.summary()\n",
        "\n",
        "# コンパイルをしています\n",
        "model.compile(loss='categorical_crossentropy',\n",
        "              optimizer=optimizers.SGD(lr=1e-4, momentum=0.9),\n",
        "              metrics=['accuracy'])\n",
        "\n",
        "# すでに学習済みのモデルを保存している場合、以下のように学習済みモデルを取得できます\n",
        "# model.load_weights('param_vgg_15.hdf5')\n",
        "\n",
        "# バッチサイズ32で学習を行ってください\n",
        "model.fit()\n",
        "\n",
        "# 以下の式でモデルを保存することができます\n",
        "model.save_weights('param_vgg_15.hdf5')\n",
        "\n",
        "# 精度の評価をしています\n",
        "scores = model.evaluate(X_test, y_test, verbose=1)\n",
        "print('Test loss:', scores[0])\n",
        "print('Test accuracy:', scores[1])\n"
      ]
    },
    {
      "cell_type": "markdown",
      "metadata": {},
      "source": [
        "ヒント\n",
        "\n",
        "モデルの作成は、転移学習のVGG16の章を参考にしてください。\n"
      ]
    },
    {
      "cell_type": "markdown",
      "metadata": {},
      "source": [
        "#### 解答例"
      ]
    },
    {
      "cell_type": "code",
      "execution_count": null,
      "metadata": {
        "scrolled": false
      },
      "outputs": [],
      "source": [
        "from keras import optimizers\n",
        "from keras.applications.vgg16 import VGG16\n",
        "from keras.datasets import cifar10\n",
        "from keras.layers import Dense, Dropout, Flatten, Input\n",
        "from keras.models import Model, Sequential\n",
        "from keras.utils.np_utils import to_categorical\n",
        "import matplotlib.pyplot as plt\n",
        "import numpy as np\n",
        "\n",
        "# データのロードをしてください\n",
        "(X_train, y_train), (X_test, y_test) = cifar10.load_data()\n",
        "y_train = to_categorical(y_train)\n",
        "y_test = to_categorical(y_test)\n",
        "\n",
        "#input_tensorの定義をして、vggのImageNetによる学習済みモデルを作成してください\n",
        "input_tensor = Input(shape=(32, 32, 3))\n",
        "vgg16 = VGG16(include_top=False, weights='imagenet', input_tensor=input_tensor)\n",
        "\n",
        "# 特徴量抽出部分のモデルを作成しています\n",
        "top_model = vgg16.output\n",
        "top_model = Flatten(input_shape=vgg16.output_shape[1:])(top_model)\n",
        "top_model = Dense(256, activation='sigmoid')(top_model)\n",
        "top_model = Dropout(0.5)(top_model)\n",
        "top_model = Dense(10, activation='softmax')(top_model)\n",
        "\n",
        "# vgg16とtop_modelを連結してください\n",
        "model = Model(inputs=vgg16.input, outputs=top_model)\n",
        "\n",
        "# 以下のfor文を完成させて、15層目までの重みを固定させてください\n",
        "for layer in model.layers[:15]:\n",
        "    layer.trainable = False\n",
        "\n",
        "#　学習の前に、モデル構造を確認してください\n",
        "model.summary()\n",
        "\n",
        "model.compile(loss='categorical_crossentropy',\n",
        "              optimizer=optimizers.SGD(lr=1e-4, momentum=0.9),\n",
        "              metrics=['accuracy'])\n",
        "\n",
        "# すでに学習済みのモデルを保存している場合、以下のように学習済みモデルを取得できます\n",
        "# model.load_weights('param_vgg_15.hdf5')\n",
        "\n",
        "# バッチサイズ32で学習を行ってください\n",
        "model.fit(X_train, y_train, validation_data=(X_test, y_test), batch_size=32, epochs=3)\n",
        "\n",
        "# 以下の式でモデルを保存することができます\n",
        "model.save_weights('param_vgg_15.hdf5')\n",
        "\n",
        "# 精度の評価をしています\n",
        "scores = model.evaluate(X_test, y_test, verbose=1)\n",
        "print('Test loss:', scores[0])\n",
        "print('Test accuracy:', scores[1])\n"
      ]
    },
    {
      "cell_type": "markdown",
      "metadata": {},
      "source": [
        "解説\n",
        "\n",
        "転移学習のVGG16の章とは異なり、すべての層を固定するのではなく、一部の層だけ固定して学習してみました。\n",
        "今回作成したmodelの19層目まではImageNetによる重みの学習が完了していますが、今回はそのうちの15層目までを固定しました。\n",
        "o.o.oでは、同じ学習方法で、およそ47%の精度が出たのに対して、今回は70%近くまで精度をあげられました。ただし、実行時間はおよそ2,3倍になりました。\n",
        "固定する層を一部にしたことで、学習が必要なパラメータの数が増えたため、計算量が増えた一方、精度は向上しました。\n",
        "\n",
        "データの数が少ない時などは、このように一部の層だけを固定する方法はとても有用ですが、精度と学習時間はトレードオフの関係にあることを意識しましょう。"
      ]
    },
    {
      "cell_type": "code",
      "execution_count": null,
      "metadata": {},
      "outputs": [],
      "source": []
    }
  ],
  "metadata": {
    "kernelspec": {
      "display_name": "Python 3",
      "language": "python",
      "name": "python3"
    },
    "language_info": {
      "codemirror_mode": {
        "name": "ipython",
        "version": 3
      },
      "file_extension": ".py",
      "mimetype": "text/x-python",
      "name": "python",
      "nbconvert_exporter": "python",
      "pygments_lexer": "ipython3",
      "version": "3.6.4"
    },
    "toc": {
      "base_numbering": 1,
      "nav_menu": {},
      "number_sections": true,
      "sideBar": true,
      "skip_h1_title": false,
      "title_cell": "Table of Contents",
      "title_sidebar": "Contents",
      "toc_cell": false,
      "toc_position": {},
      "toc_section_display": true,
      "toc_window_display": false
    },
    "varInspector": {
      "cols": {
        "lenName": 16,
        "lenType": 16,
        "lenVar": 40
      },
      "kernels_config": {
        "python": {
          "delete_cmd_postfix": "",
          "delete_cmd_prefix": "del ",
          "library": "var_list.py",
          "varRefreshCmd": "print(var_dic_list())"
        },
        "r": {
          "delete_cmd_postfix": ") ",
          "delete_cmd_prefix": "rm(",
          "library": "var_list.r",
          "varRefreshCmd": "cat(var_dic_list()) "
        }
      },
      "types_to_exclude": [
        "module",
        "function",
        "builtin_function_or_method",
        "instance",
        "_Feature"
      ],
      "window_display": false
    }
  },
  "nbformat": 4,
  "nbformat_minor": 2
}