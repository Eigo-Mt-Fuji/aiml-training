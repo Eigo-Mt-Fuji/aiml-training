{
 "cells": [
  {
   "cell_type": "markdown",
   "metadata": {
    "chapterId": "r1PBu07blZf",
    "id": "chapter_name"
   },
   "source": [
    "   # 定常性、ARMA・ARIMAモデル"
   ]
  },
  {
   "cell_type": "markdown",
   "metadata": {
    "id": "table"
   },
   "source": [
    "- **[2.1 定常性](#2.1-)**\n",
    "    - **[2.1.1 定常性とは](#2.1.1-)**\n",
    "    - **[2.1.2 弱定常性・強定常性](#2.1.2-)**\n",
    "    - **[2.1.3 ホワイトノイズ](#2.1.3-)**\n",
    "<br><br>\n",
    "- **[2.2 定常性の確認](#3.2-)**\n",
    "    - **[2.2.1 なぜ定常性が重要なのか](#3.2.1-)**\n",
    "    - **[2.2.2 定常性の確認(視覚化)](#3.2.2-)**\n",
    "    - **[2.2.3 時系列データを非定常にしているもの](#3.2.3-)**\n",
    "<br><br>\n",
    "- **[2.3 ARMA・ARIMAモデル](#2.2-)**\n",
    "    - **[2.3.1 ARMAモデルとは](#2.2.1-)**\n",
    "    - **[2.3.2 MAモデル](#2.2.2-)**\n",
    "    - **[2.3.3 ARモデル](#2.2.3-)**\n",
    "    - **[2.3.4 ARMAモデル](#2.2.4-)**\n",
    "    - **[2.3.5 ARIMAモデル](#2.2.5-)**\n",
    "<br><br>\n",
    "- **[2.3 添削問題](#2.3-添削問題)**"
   ]
  },
  {
   "cell_type": "markdown",
   "metadata": {
    "id": "section_name",
    "sectionId": "BJOH_C7ZxZf"
   },
   "source": [
    "## 2.1 定常性"
   ]
  },
  {
   "cell_type": "markdown",
   "metadata": {
    "courseId": 5060,
    "exerciseId": "rkjN5hLoUlM",
    "id": "quiz_session_name",
    "important": false,
    "isDL": false,
    "timeoutSecs": 5
   },
   "source": [
    "### 2.1.1 定常性とは"
   ]
  },
  {
   "cell_type": "markdown",
   "metadata": {
    "id": "description"
   },
   "source": [
    "時系列分析においてとても重要な概念が **<font color=#AA0000>定常性</font>** です。時間や位置によってその確率分布が変化しないという確率過程の性質を表します。わかりやすく述べると\n",
    "\n",
    "**時間の経過によらず一定の値を軸に**\n",
    "\n",
    "**同程度の幅で振れて変化する**\n",
    "\n",
    "時系列データは定常性があるといえます。\n",
    "この後も数式がたくさん出て来ますが、時系列解析入門では数式そのものよりもその **数式が意味すること** と **グラフの形状** について注目して理解していきましょう。"
   ]
  },
  {
   "cell_type": "markdown",
   "metadata": {},
   "source": [
    "#### 問題"
   ]
  },
  {
   "cell_type": "markdown",
   "metadata": {
    "id": "question"
   },
   "source": [
    "- 次の[ ]に当てはまる文を選んでください。\n",
    "- 定常性がある時系列データは[ ]するデータである。"
   ]
  },
  {
   "cell_type": "markdown",
   "metadata": {
    "id": "choices"
   },
   "source": [
    "1. 時間の経過に伴って上昇する直線を軸とし、異なる幅で振れて変化する\n",
    "1. 時間の経過に伴って上昇する直線を軸とし、同程度の幅で振れて変化する\n",
    "1. 時間の経過によらず一定の値を軸とし、異なる幅で振れて変化する\n",
    "1. 時間の経過によらず一定の値を軸とし、同程度の幅で振れて変化する"
   ]
  },
  {
   "cell_type": "markdown",
   "metadata": {},
   "source": [
    "#### ヒント"
   ]
  },
  {
   "cell_type": "markdown",
   "metadata": {
    "id": "hint"
   },
   "source": [
    "- 何が一定で、何が変動するのか確認しましょう。"
   ]
  },
  {
   "cell_type": "markdown",
   "metadata": {},
   "source": [
    "#### 解答"
   ]
  },
  {
   "cell_type": "markdown",
   "metadata": {
    "id": "answer"
   },
   "source": [
    "時間の経過によらず一定の値を軸とし、同程度の幅で振れて変化する"
   ]
  },
  {
   "cell_type": "markdown",
   "metadata": {
    "courseId": 5060,
    "exerciseId": "H12E928j8lz",
    "id": "quiz_session_name",
    "important": false,
    "isDL": false,
    "timeoutSecs": 5
   },
   "source": [
    "### 2.1.2 弱定常性・強定常性"
   ]
  },
  {
   "cell_type": "markdown",
   "metadata": {
    "id": "description"
   },
   "source": [
    "定常性には **<font color=#AA0000>弱定常性</font>** と **<font color=#AA0000>強定常性</font>** の2つに分類されます。今後、時系列データ分析においては主に弱定常について扱うので単に定常性などという場合は弱定常を指すとお考えください。\n",
    "\n",
    "弱定常は時系列データの**期待値と自己共分散が時間を通して一定**であるという意味です。 <br>\n",
    "自己共分散とは今の自分からt時（時間）離れた自分との間の共分散、両者の間にどれくらいのばらつきがあるか、のことです。<br>\n",
    "\n",
    "平均値を$\\mu$,$k$次元の自己共分散を$\\gamma_k$とすると\n",
    "\n",
    "<img src=\"https://aidemyexcontentspic.blob.core.windows.net/contents-pic/5060_tsa/02_01.jpg\">\n",
    "\n",
    "と表わされます。**期待値が一定**ということは**時間の経過によらず一定の値を軸に変動している**ということを表し、**自己共分散が一定**ということは**データのばらつきが一定**ということですから**同程度の幅で振れて変化する**ということを表しています。"
   ]
  },
  {
   "cell_type": "markdown",
   "metadata": {},
   "source": [
    "#### 問題"
   ]
  },
  {
   "cell_type": "markdown",
   "metadata": {
    "id": "question"
   },
   "source": [
    "- 次の[ ]に入る言葉を答えてください\n",
    "- 弱定常性は期待値と[ ]が時間を通して一定であるという意味である。"
   ]
  },
  {
   "cell_type": "markdown",
   "metadata": {
    "id": "choices"
   },
   "source": [
    "1. 相関係数\n",
    "1. 自己共分散\n",
    "1. 偏差値\n",
    "1. トレンド"
   ]
  },
  {
   "cell_type": "markdown",
   "metadata": {},
   "source": [
    "#### ヒント"
   ]
  },
  {
   "cell_type": "markdown",
   "metadata": {
    "id": "hint"
   },
   "source": [
    "弱定常の定義を確認してみましょう。"
   ]
  },
  {
   "cell_type": "markdown",
   "metadata": {},
   "source": [
    "#### 解答"
   ]
  },
  {
   "cell_type": "markdown",
   "metadata": {
    "collapsed": true,
    "id": "answer"
   },
   "source": [
    "自己共分散"
   ]
  },
  {
   "cell_type": "markdown",
   "metadata": {
    "courseId": 5060,
    "exerciseId": "Sk6V5hIoLxf",
    "id": "code_session_name",
    "important": false,
    "isDL": false,
    "timeoutSecs": 5
   },
   "source": [
    "### 2.1.3 ホワイトノイズ"
   ]
  },
  {
   "cell_type": "markdown",
   "metadata": {
    "id": "description"
   },
   "source": [
    "全ての時点 $t$ において\n",
    "\n",
    "<img src=\"https://aidemyexcontentspic.blob.core.windows.net/contents-pic/5060_tsa/02_02.jpg\">\n",
    "\n",
    "\n",
    "が成り立つとき\n",
    "このような時系列を **<font color=#AA0000>ホワイトノイズ</font>** といい、上記の定義に基づいた弱定常性を持ちます。上の式ははホワイトノイズ $\\varepsilon_t$ の期待値がどの様な時点 $t$ であっても $0$ であることを表し、下の式はホワイトノイズの自己共分散が自分自身とでは $0$ でありそれ以外の$k$次では $s^2$ で一定となることを表しています。\n",
    "**ホワイトノイズ**は時系列モデルにおける **不規則変動パターン** を担います。不規則変動自体は数学的な再現が難しいため、**ホワイトノイズ**を用いるのです。"
   ]
  },
  {
   "cell_type": "markdown",
   "metadata": {},
   "source": [
    "#### 問題"
   ]
  },
  {
   "cell_type": "markdown",
   "metadata": {
    "id": "question"
   },
   "source": [
    "- ホワイトノイズを出力してどのような時系列データであるかを確認しましょう。次のコードを実行してみてください"
   ]
  },
  {
   "cell_type": "code",
   "execution_count": null,
   "metadata": {
    "id": "index"
   },
   "outputs": [],
   "source": [
    "import pandas as pd\n",
    "import matplotlib.pyplot as plt\n",
    "import statsmodels.api as sm\n",
    "import numpy as np\n",
    "from pandas import datetime\n",
    "%matplotlib inline\n",
    "\n",
    "#ホワイトノイズの設定\n",
    "mean = 0\n",
    "std = 1 \n",
    "num_samples = 1000\n",
    "samples = np.random.normal(mean, std, size=num_samples)\n",
    "# ホワイトノイズのプロット\n",
    "plt.title(\"Whitenoise\")\n",
    "plt.plot(samples)\n",
    "plt.show()\n",
    "# 何も書き込まずに実行してください"
   ]
  },
  {
   "cell_type": "markdown",
   "metadata": {},
   "source": [
    "#### ヒント"
   ]
  },
  {
   "cell_type": "markdown",
   "metadata": {
    "id": "hint"
   },
   "source": [
    "- `mean=0`が$E(\\varepsilon_t) = 0$\n",
    "- `sted=1`が$\\gamma_k = s^2 (= 1)$を表します。 "
   ]
  },
  {
   "cell_type": "markdown",
   "metadata": {},
   "source": [
    "#### 解答例"
   ]
  },
  {
   "cell_type": "code",
   "execution_count": null,
   "metadata": {
    "id": "answer"
   },
   "outputs": [],
   "source": [
    "import pandas as pd\n",
    "import matplotlib.pyplot as plt\n",
    "import statsmodels.api as sm\n",
    "import numpy as np\n",
    "from pandas import datetime\n",
    "%matplotlib inline\n",
    "\n",
    "#ホワイトノイズの設定\n",
    "mean = 0\n",
    "std = 1 \n",
    "num_samples = 1000\n",
    "samples = np.random.normal(mean, std, size=num_samples)\n",
    "# ホワイトノイズのプロット\n",
    "plt.title(\"Whitenoise\")\n",
    "plt.plot(samples)\n",
    "plt.show()\n",
    "# 何も書き込まずに実行してください"
   ]
  },
  {
   "cell_type": "markdown",
   "metadata": {},
   "source": [
    "***"
   ]
  },
  {
   "cell_type": "markdown",
   "metadata": {
    "id": "section_name",
    "sectionId": "rkYru0m-gZG"
   },
   "source": [
    "## 2.2 定常性の確認"
   ]
  },
  {
   "cell_type": "markdown",
   "metadata": {
    "courseId": 5060,
    "exerciseId": "S104528jIlG",
    "id": "quiz_session_name",
    "important": false,
    "isDL": false,
    "timeoutSecs": 5
   },
   "source": [
    "### 2.2.1 なぜ定常性が重要なのか"
   ]
  },
  {
   "cell_type": "markdown",
   "metadata": {
    "id": "description"
   },
   "source": [
    "　前チャプターで定常性について学びましたが、なぜ **定常性** が重要なのでしょうか。それは、時系列データにおいては定常性がないデータを分析した結果全く意味のない相関(Aが上がればBも上がる、もしくは下がるという関係)を検出してしまう可能性があるからです。時系列データとは時間の経過に沿って変化するデータですから、 **「時間の経過」という共通項目** が無意味な相関関係を産んでしまうのです。(このような無意味な相関のことを **擬似相関** といいます)\n",
    "　\n",
    " \n",
    " 例を挙げましょう、私が生まれたのは1994年なのですが、それから20になるまでの20年間私の体重は増え続けています。一方で近年発展の目覚ましい中国のGDPも1994年頃から20年間伸び続けています。このとき、「中国のGDPが伸びたのは私の体重が増えたからだ」というのはナンセンスでしょう。\n",
    " \n",
    " このような **時系列データの無意味な相関を検出しないため** に、定常性のない時系列は階差をとる等の変換を行い定常性のある時系列にしてから分析を進める必要があるのです。"
   ]
  },
  {
   "cell_type": "markdown",
   "metadata": {},
   "source": [
    "#### 問題"
   ]
  },
  {
   "cell_type": "markdown",
   "metadata": {
    "id": "question"
   },
   "source": [
    "- 時系列データにおいて、定常性のないデータを分析してしまうとなぜいけないのでしょうか"
   ]
  },
  {
   "cell_type": "markdown",
   "metadata": {
    "id": "choices"
   },
   "source": [
    "1. 階差が生じてしまうため\n",
    "1. 擬似相関が生じてしまうため\n",
    "1. トレンドが生じてしまうため"
   ]
  },
  {
   "cell_type": "markdown",
   "metadata": {},
   "source": [
    "#### ヒント"
   ]
  },
  {
   "cell_type": "markdown",
   "metadata": {
    "id": "hint"
   },
   "source": [
    "- 擬似相関とは全く無意味な相関のことです。"
   ]
  },
  {
   "cell_type": "markdown",
   "metadata": {},
   "source": [
    "#### 解答"
   ]
  },
  {
   "cell_type": "markdown",
   "metadata": {
    "id": "answer"
   },
   "source": [
    "擬似相関が生じてしまうため"
   ]
  },
  {
   "cell_type": "markdown",
   "metadata": {
    "courseId": 5060,
    "exerciseId": "rJkrc2LjUlf",
    "id": "code_session_name",
    "important": false,
    "isDL": false,
    "timeoutSecs": 5
   },
   "source": [
    "### 2.2.2 定常性の確認 (視覚化)"
   ]
  },
  {
   "cell_type": "markdown",
   "metadata": {
    "id": "description"
   },
   "source": [
    "　ある時系列が定常であるかどうか確認するための最も有効な方法は実際に観察することです。コースの冒頭でも述べたようにデータの視覚化は時系列分析、もっと言えばデータ分析の基本です。先程も述べたように定常性のある時系列データには\n",
    "\n",
    "**時間の経過によらず一定の値を軸に**\n",
    "\n",
    "**同程度の幅で振れて変化する**\n",
    "\n",
    "という特徴があります。"
   ]
  },
  {
   "cell_type": "markdown",
   "metadata": {},
   "source": [
    "#### 問題"
   ]
  },
  {
   "cell_type": "markdown",
   "metadata": {
    "id": "question"
   },
   "source": [
    "- ホワイトノイズを可視化して定常性がありそうか確認してみましょう。次のコードを実行してください。"
   ]
  },
  {
   "cell_type": "code",
   "execution_count": null,
   "metadata": {
    "id": "index"
   },
   "outputs": [],
   "source": [
    "import pandas as pd\n",
    "import matplotlib.pyplot as plt\n",
    "import statsmodels.api as sm\n",
    "import numpy as np\n",
    "from pandas import datetime\n",
    "%matplotlib inline\n",
    "\n",
    "#ホワイトノイズの設定\n",
    "mean = 0\n",
    "std = 1 \n",
    "num_samples = 1000\n",
    "samples = np.random.normal(mean, std, size=num_samples)\n",
    "# ホワイトノイズのプロット\n",
    "plt.title(\"Whitenoise\")\n",
    "plt.plot(samples)\n",
    "plt.show()\n",
    "# 何も書き込まずに実行してください"
   ]
  },
  {
   "cell_type": "markdown",
   "metadata": {},
   "source": [
    "#### ヒント"
   ]
  },
  {
   "cell_type": "markdown",
   "metadata": {
    "id": "hint"
   },
   "source": [
    "- ホワイトノイズは **期待値と自己相関係数が一定の過程** です"
   ]
  },
  {
   "cell_type": "markdown",
   "metadata": {},
   "source": [
    "#### 解答例"
   ]
  },
  {
   "cell_type": "code",
   "execution_count": null,
   "metadata": {
    "id": "answer"
   },
   "outputs": [],
   "source": [
    "import pandas as pd\n",
    "import matplotlib.pyplot as plt\n",
    "import statsmodels.api as sm\n",
    "import numpy as np\n",
    "from pandas import datetime\n",
    "%matplotlib inline\n",
    "\n",
    "#ホワイトノイズの設定\n",
    "mean = 0\n",
    "std = 1 \n",
    "num_samples = 1000\n",
    "samples = np.random.normal(mean, std, size=num_samples)\n",
    "# ホワイトノイズのプロット\n",
    "plt.title(\"Whitenoise\")\n",
    "plt.plot(samples)\n",
    "plt.show()\n",
    "# 何も書き込まずに実行してください"
   ]
  },
  {
   "cell_type": "markdown",
   "metadata": {},
   "source": [
    "***"
   ]
  },
  {
   "cell_type": "markdown",
   "metadata": {
    "id": "section_name",
    "sectionId": "BJqHuR7be-G"
   },
   "source": [
    "## 2.3 ARMA・ARIMAモデル"
   ]
  },
  {
   "cell_type": "markdown",
   "metadata": {
    "courseId": 5060,
    "exerciseId": "r1xH5nIs8ef",
    "id": "quiz_session_name",
    "important": true,
    "isDL": false,
    "timeoutSecs": 5
   },
   "source": [
    "### 2.3.1 ARMAモデルとは"
   ]
  },
  {
   "cell_type": "markdown",
   "metadata": {
    "id": "description"
   },
   "source": [
    "このコースでは、 **1変量の時系列データ** を分析するための基本的なモデル、 **<font color=#AA0000>ARMAモデル（アーマ）</font>** と **<font color=#AA0000>ARIMAモデル（アリマ）</font>** について学び、その発展形である **<font color=#AA0000>SARIMAモデル（サリマ）</font>** を用いて時系列データのモデリングをおこないます。\n",
    "\n",
    "**ARMAモデル** とはその名前の通り後述する **ARモデル** と **MAモデル** をあわせたモデルになります。\n",
    "\n",
    "**ARMAモデル** は **SARIMAモデル** だけでなくその他の発展的なモデルの基礎となっており非常に重要です。"
   ]
  },
  {
   "cell_type": "markdown",
   "metadata": {},
   "source": [
    "#### 問題"
   ]
  },
  {
   "cell_type": "markdown",
   "metadata": {
    "id": "question"
   },
   "source": [
    "- ARMAモデルはどの2つのモデルを組み合わせたデータでしょうか、次の選択肢から選んでください。"
   ]
  },
  {
   "cell_type": "markdown",
   "metadata": {
    "id": "choices"
   },
   "source": [
    "1. AR,I\n",
    "1. AR, MA\n",
    "1. VR, MA\n",
    "1. I,MA"
   ]
  },
  {
   "cell_type": "markdown",
   "metadata": {},
   "source": [
    "#### ヒント"
   ]
  },
  {
   "cell_type": "markdown",
   "metadata": {
    "id": "hint"
   },
   "source": [
    "- ARMAモデルは名前の表す通りのモデルです。 "
   ]
  },
  {
   "cell_type": "markdown",
   "metadata": {},
   "source": [
    "#### 解答"
   ]
  },
  {
   "cell_type": "markdown",
   "metadata": {
    "id": "answer"
   },
   "source": [
    "AR, MA"
   ]
  },
  {
   "cell_type": "markdown",
   "metadata": {
    "courseId": 5060,
    "exerciseId": "rkWS9nUi8xG",
    "id": "quiz_session_name",
    "important": true,
    "isDL": false,
    "timeoutSecs": 5
   },
   "source": [
    "### 2.3.2 MAモデル"
   ]
  },
  {
   "cell_type": "markdown",
   "metadata": {
    "id": "description"
   },
   "source": [
    " **<font color=##AA0000>MAモデル(移動平均モデル)</font>** はホワイトノイズを $\\varepsilon_{t}$ として\n",
    "\n",
    "<img src=\"https://aidemyexcontentspic.blob.core.windows.net/contents-pic/5060_tsa/02_03.jpg\">\n",
    "\n",
    "のように表されるモデルです。(1次過程の場合) <br>\n",
    "ホワイトノイズとは\n",
    "\n",
    "<img src=\"https://aidemyexcontentspic.blob.core.windows.net/contents-pic/5060_tsa/02_02.jpg\">\n",
    "\n",
    "を成り立たせる時系列のことでした。\n",
    "\n",
    "このモデルは **ホワイトノイズ** を拡張したモデルです。一時点ずらした値と比べてみますと\n",
    "\n",
    "<img src=\"https://aidemyexcontentspic.blob.core.windows.net/contents-pic/5060_tsa/02_04.jpg\">\n",
    "\n",
    "のように $\\varepsilon_{t-1}$ が共通部分になるために、自己相関を持ちます。\n",
    "そして、この **MAモデル** は**過去の誤差に影響されるモデル**であり、直前の $q$ 個の値の誤差の影響を受けるモデルを $MA(q)$ と表します。\n",
    "\n",
    "<img src=\"https://aidemyexcontentspic.blob.core.windows.net/contents-pic/5060_tsa/02_05.jpg\">\n",
    "\n",
    "のように$MA(q)$モデルは$y_t$と$y_{t-1}$にq個の共通部分を持ちます。そのため\n",
    "\n",
    " **$q$期前までは自己相関をもち、$q+1$期前のデータとは自己相関を持たない** \n",
    "という性質を持ちます。\n",
    "\n"
   ]
  },
  {
   "cell_type": "markdown",
   "metadata": {},
   "source": [
    "#### 問題"
   ]
  },
  {
   "cell_type": "markdown",
   "metadata": {
    "id": "question"
   },
   "source": [
    "- 次の[ ]に入る言葉を答えてください\n",
    "- MAモデルは過去の[　]に影響されるモデルであり、直前 $q$ 個の[　]の影響を受けるモデルを $MA(q)$ と表します。"
   ]
  },
  {
   "cell_type": "markdown",
   "metadata": {
    "id": "choices"
   },
   "source": [
    "1. 誤差\n",
    "1. トレンド\n",
    "1. 自己相関係数\n",
    "1. 期待値"
   ]
  },
  {
   "cell_type": "markdown",
   "metadata": {},
   "source": [
    "#### ヒント"
   ]
  },
  {
   "cell_type": "markdown",
   "metadata": {
    "id": "hint"
   },
   "source": [
    "- 過去のデータの誤差に影響されるのがMAモデルです。"
   ]
  },
  {
   "cell_type": "markdown",
   "metadata": {},
   "source": [
    "#### 解答"
   ]
  },
  {
   "cell_type": "markdown",
   "metadata": {
    "id": "answer"
   },
   "source": [
    "誤差"
   ]
  },
  {
   "cell_type": "markdown",
   "metadata": {
    "courseId": 5060,
    "exerciseId": "ryGrc28oLxG",
    "id": "quiz_session_name",
    "important": true,
    "isDL": false,
    "timeoutSecs": 5
   },
   "source": [
    "### 2.3.3 ARモデル"
   ]
  },
  {
   "cell_type": "markdown",
   "metadata": {
    "id": "description"
   },
   "source": [
    "**<font color=##AA0000>ARモデル(自己回帰モデル)</font>** は規則的に値が変化していくモデルで\n",
    "\n",
    "<img src=\"https://aidemyexcontentspic.blob.core.windows.net/contents-pic/5060_tsa/02_06.jpg\">\n",
    "\n",
    "のように表されるモデルです。このように $y_t$ がそこから一時点ずらした $y_{t-1}$ で表されるためにそこに自己相関が表現されます。ARモデルは過去の値から回帰的にある時点の値を推定するモデルで、直前の $p$ 個の値を用いて次の値を予測するモデルを $AR(p)$ と表現します。"
   ]
  },
  {
   "cell_type": "markdown",
   "metadata": {},
   "source": [
    "#### 問題"
   ]
  },
  {
   "cell_type": "markdown",
   "metadata": {
    "id": "question"
   },
   "source": [
    "- 次の[　]を埋めてください。\n",
    "- ARモデルは$y_t$が$y_{t-1}$で表されるために[　]が表現される。"
   ]
  },
  {
   "cell_type": "code",
   "execution_count": null,
   "metadata": {
    "id": "choices"
   },
   "outputs": [],
   "source": [
    "1. 自己相関\n",
    "1. 期待値\n",
    "1. トレンド\n",
    "1. 誤差"
   ]
  },
  {
   "cell_type": "markdown",
   "metadata": {},
   "source": [
    "#### ヒント"
   ]
  },
  {
   "cell_type": "markdown",
   "metadata": {
    "id": "hint"
   },
   "source": [
    "- ARモデルは $y_t$ がそこから一次点ずらした $y_{t-1}$ で表されるためにそこに自己相関が表現されます。"
   ]
  },
  {
   "cell_type": "markdown",
   "metadata": {},
   "source": [
    "#### 解答"
   ]
  },
  {
   "cell_type": "markdown",
   "metadata": {
    "collapsed": true,
    "id": "answer"
   },
   "source": [
    "自己相関"
   ]
  },
  {
   "cell_type": "markdown",
   "metadata": {},
   "source": [
    "***"
   ]
  },
  {
   "cell_type": "markdown",
   "metadata": {
    "courseId": 5060,
    "exerciseId": "rJmBqh8j8gz",
    "id": "quiz_session_name",
    "important": true,
    "isDL": false,
    "timeoutSecs": 5
   },
   "source": [
    "### 2.3.4 ARMAモデル"
   ]
  },
  {
   "cell_type": "markdown",
   "metadata": {
    "id": "description"
   },
   "source": [
    "ARモデルとMAモデルは互いに競合する性質がありません。そのためこの2つを組み合わせて定式化することが可能です。AR(p)のARモデルとMA(q)のMAモデルを組み合わせたときARMA(p,q)のように表すことができます。\n",
    "\n",
    "**ARモデルは過去の値から回帰的にある時点の値を推定するモデル**\n",
    "\n",
    "**MAモデルは単に時系列が異なる式との間に共通部分を持つために相関性が存在するという性質のこと**\n",
    "\n",
    "でしたね。"
   ]
  },
  {
   "cell_type": "markdown",
   "metadata": {},
   "source": [
    "#### 問題"
   ]
  },
  {
   "cell_type": "markdown",
   "metadata": {
    "id": "question"
   },
   "source": [
    "- [  ]に当てはまる言葉を埋めてください。\n",
    "- ARモデルとMAモデルを組み合わせることができるのは[ ]からである。"
   ]
  },
  {
   "cell_type": "markdown",
   "metadata": {
    "id": "choices"
   },
   "source": [
    "1. 同じトレンドを有するため\n",
    "1. 誤差が等しいため\n",
    "1. お互いに競合する性質がないため\n",
    "1. 同じ周期を持つため"
   ]
  },
  {
   "cell_type": "markdown",
   "metadata": {},
   "source": [
    "#### ヒント"
   ]
  },
  {
   "cell_type": "markdown",
   "metadata": {
    "id": "hint"
   },
   "source": [
    "- ARモデルとMAモデルは互いに競合する性質がありません"
   ]
  },
  {
   "cell_type": "markdown",
   "metadata": {},
   "source": [
    "#### 解答"
   ]
  },
  {
   "cell_type": "markdown",
   "metadata": {
    "collapsed": true,
    "id": "answer"
   },
   "source": [
    "お互いに競合する性質がないため"
   ]
  },
  {
   "cell_type": "markdown",
   "metadata": {
    "courseId": 5060,
    "exerciseId": "SyEHq28jUxM",
    "id": "quiz_session_name",
    "important": true,
    "isDL": false,
    "timeoutSecs": 5
   },
   "source": [
    "### 2.3.5 ARIMAモデル"
   ]
  },
  {
   "cell_type": "markdown",
   "metadata": {
    "id": "description"
   },
   "source": [
    "先程のARMAモデルへ原系列を階差系列に変換し適応したものをARIMAモデルと言います。ARMAモデルは定常過程にしか適応できませんがARIMAモデルは非定常過程（データの平均や分散が時間に依存している過程）にも適応可能です。\n",
    "\n",
    "d時点前との差分をとった場合のARMA(p,q)で構築したARIMAモデルをARIMA(p,d,q)と表します。\n",
    "このARIMAモデルにおける\n",
    "\n",
    "\n",
    "・$p$を**自己相関度**\n",
    "\n",
    "・$d$を**誘導**\n",
    "\n",
    "・$q$を **移動平均**\n",
    "\n",
    "と呼びます。"
   ]
  },
  {
   "cell_type": "markdown",
   "metadata": {},
   "source": [
    "#### 問題"
   ]
  },
  {
   "cell_type": "markdown",
   "metadata": {
    "id": "question"
   },
   "source": [
    "- [ ]に入る言葉を埋めてください。\n",
    "- 非定常過程の原系列の[ ]をとり、ARMAモデルを適応したモデルをARIMAモデルという。"
   ]
  },
  {
   "cell_type": "markdown",
   "metadata": {
    "id": "choices"
   },
   "source": [
    "1. 偏差値\n",
    "1. トレンド\n",
    "1. 相関\n",
    "1. 差分"
   ]
  },
  {
   "cell_type": "markdown",
   "metadata": {},
   "source": [
    "#### ヒント"
   ]
  },
  {
   "cell_type": "markdown",
   "metadata": {
    "id": "hint"
   },
   "source": [
    "- ARMAモデルへ原系列を階差系列に変換し適応したものをARIMAモデルと言います。"
   ]
  },
  {
   "cell_type": "markdown",
   "metadata": {},
   "source": [
    "#### 解答"
   ]
  },
  {
   "cell_type": "markdown",
   "metadata": {
    "collapsed": true,
    "id": "answer"
   },
   "source": [
    "差分"
   ]
  },
  {
   "cell_type": "markdown",
   "metadata": {},
   "source": [
    "***"
   ]
  }
 ],
 "metadata": {
  "celltoolbar": "Edit Metadata",
  "kernelspec": {
   "display_name": "Python 3",
   "language": "python",
   "name": "python3"
  },
  "language_info": {
   "codemirror_mode": {
    "name": "ipython",
    "version": 3
   },
   "file_extension": ".py",
   "mimetype": "text/x-python",
   "name": "python",
   "nbconvert_exporter": "python",
   "pygments_lexer": "ipython3",
   "version": "3.6.5"
  },
  "toc": {
   "base_numbering": 1,
   "nav_menu": {},
   "number_sections": true,
   "sideBar": true,
   "skip_h1_title": false,
   "title_cell": "Table of Contents",
   "title_sidebar": "Contents",
   "toc_cell": false,
   "toc_position": {
    "height": "calc(100% - 180px)",
    "left": "10px",
    "top": "150px",
    "width": "228px"
   },
   "toc_section_display": true,
   "toc_window_display": true
  }
 },
 "nbformat": 4,
 "nbformat_minor": 2
}