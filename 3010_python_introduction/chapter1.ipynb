{
 "cells": [
  {
   "cell_type": "markdown",
   "metadata": {
    "chapterId": "BJ_RXbl-f",
    "id": "chapter_name"
   },
   "source": [
    "# Pythonの基礎"
   ]
  },
  {
   "cell_type": "markdown",
   "metadata": {
    "id": "table"
   },
   "source": [
    "- **[1.1 基礎](#1.1-基礎)**\n",
    "    - **[1.1.1 Hello world](#1.1.1-Hello-world)**\n",
    "    - **[1.1.2 Pythonとは](#1.1.2-Pythonとは)**\n",
    "    - **[1.1.3 Pythonの用途](#1.1.3-Pythonの用途)**\n",
    "    - **[1.1.4 コメントの入力](#1.1.4-コメントの入力)**\n",
    "    - **[1.1.5 数値と文字列](#1.1.5-数値と文字列)**\n",
    "    - **[1.1.6 演算](#1.1.6-演算)**\n",
    "<br><br>\n",
    "- **[1.2 変数](#1.2-変数)**\n",
    "    - **[1.2.1 変数](#1.2.1-変数)** \n",
    "    - **[1.2.2 変数の更新](#1.2.2-変数の更新)**\n",
    "    - **[1.2.3 文字列の連結](#1.2.3-文字列の連結)**\n",
    "<br><br>\n",
    "- **[1.3 型](#1.3-型)**\n",
    "    - **[1.3.1 型](#1.3.1-型)**\n",
    "    - **[1.3.2 型の変換](#1.3.2-型の変換)**\n",
    "    - **[1.3.3 型の理解確認](#1.3.3-型の理解確認)**\n",
    "<br><br>\n",
    "- **[1.4 if文](#1.4-if文)**\n",
    "    - **[1.4.1 比較演算子](#1.4.1-比較演算子)**\n",
    "    - **[1.4.2 if文](#1.4.2-if文)**\n",
    "    - **[1.4.3 else](#1.4.3-else)**\n",
    "    - **[1.4.4 elif](#1.4.4-elif)**\n",
    "    - **[1.4.5 and・not・or](#1.4.5-and・not・or)**\n",
    "<br><br>\n",
    "- **[1.5 添削問題](#1.5-添削問題)**"
   ]
  },
  {
   "cell_type": "markdown",
   "metadata": {},
   "source": [
    "***"
   ]
  },
  {
   "cell_type": "markdown",
   "metadata": {
    "id": "section_name",
    "sectionId": "r1edAmZg-f"
   },
   "source": [
    "## 1.1 基礎"
   ]
  },
  {
   "cell_type": "markdown",
   "metadata": {
    "courseId": 3010,
    "exerciseId": "ByrlF2UsLeG",
    "id": "code_session_name",
    "important": true,
    "isDL": false,
    "timeoutSecs": 5
   },
   "source": [
    "### 1.1.1 Hello world"
   ]
  },
  {
   "cell_type": "markdown",
   "metadata": {
    "id": "description"
   },
   "source": [
    "**<font color=#AA0000>Python(パイソン)</font>** では、 **`print()`** という関数を使って、変数やオブジェクトの内容を画面に出力(表示)することができます。この基本の関数を使って、まずは **Hello world**  という文字列を出力してみましょう。<br>\n",
    "なお、プログラムにはアルファベットだけでなく、スペース、数字、記号も全て **半角英数字** のみが使用できます。全角の文字を入力したい場合には、「`\"あいうえお\"`」のように「`\"`」か「`'`」のどちらかで文字列を囲む必要があります。 "
   ]
  },
  {
   "cell_type": "markdown",
   "metadata": {},
   "source": [
    "#### 問題"
   ]
  },
  {
   "cell_type": "markdown",
   "metadata": {
    "id": "question"
   },
   "source": [
    "- 次のコードを **RUN(実行)** して「 **`Hello world`** 」を出力してください。"
   ]
  },
  {
   "cell_type": "code",
   "execution_count": null,
   "metadata": {
    "collapsed": true,
    "id": "index"
   },
   "outputs": [],
   "source": [
    "# Pythonでは行頭に#を置いた行はコメントして扱われます\n",
    "# 半角英文字で「Hello world」と出力してください\n",
    "print(\"Hello world\")"
   ]
  },
  {
   "cell_type": "markdown",
   "metadata": {},
   "source": [
    "#### ヒント"
   ]
  },
  {
   "cell_type": "markdown",
   "metadata": {
    "id": "hint"
   },
   "source": [
    "- `print(\"文字\")`\n",
    "- `print('文字')`"
   ]
  },
  {
   "cell_type": "markdown",
   "metadata": {},
   "source": [
    "#### 解答例"
   ]
  },
  {
   "cell_type": "code",
   "execution_count": null,
   "metadata": {
    "collapsed": true,
    "id": "answer"
   },
   "outputs": [],
   "source": [
    "# Pythonでは行頭に#を置いた行はコメントして扱われます\n",
    "# 半角英文字で「Hello world」と出力してください\n",
    "print(\"Hello world\")"
   ]
  },
  {
   "cell_type": "markdown",
   "metadata": {},
   "source": [
    "***"
   ]
  },
  {
   "cell_type": "markdown",
   "metadata": {
    "courseId": 3010,
    "exerciseId": "krQZ6vOvh",
    "id": "movie_session_name",
    "important": false,
    "isDL": false,
    "timeoutSecs": 10
   },
   "source": [
    "### 1.1.2 Pythonとは？"
   ]
  },
  {
   "cell_type": "markdown",
   "metadata": {
    "id": "description"
   },
   "source": [
    "- このコースの目的\n",
    "- このコースで学べること\n",
    "- このコースの対象者"
   ]
  },
  {
   "cell_type": "markdown",
   "metadata": {},
   "source": [
    "#### 問題"
   ]
  },
  {
   "cell_type": "markdown",
   "metadata": {
    "id": "question"
   },
   "source": [
    "- 次の動画をみてください"
   ]
  },
  {
   "cell_type": "code",
   "execution_count": null,
   "metadata": {
    "collapsed": true,
    "id": "movielink"
   },
   "outputs": [],
   "source": [
    "https://www.youtube.com/embed/3KI1QiBWHk0"
   ]
  },
  {
   "cell_type": "markdown",
   "metadata": {
    "courseId": 3010,
    "exerciseId": "Sk4lFn8iIef",
    "id": "quiz_session_name",
    "important": false,
    "isDL": false,
    "timeoutSecs": 5
   },
   "source": [
    "### 1.1.3 Pythonの用途"
   ]
  },
  {
   "cell_type": "markdown",
   "metadata": {
    "id": "description"
   },
   "source": [
    "**<font color=#AA0000>Python</font>** は幅広い目的に使用できて、書きやすく・読みやすいように設計されている人気の高いプログラミング言語です。\n",
    "**科学技術計算やデータ分析のための言語** には **R(アール)** 、 **MATLAB(マトラボ)** などもありますが、人工知能や機械学習分野ではPythonが最も使われています。AIエンジニアになるには、Pythonの技術が必須といえるでしょう。\n",
    "\n",
    "Pythonの統合開発環境としては、**Jupyter Notebook(ジュピターノートブック)**、 **PyCharm(パイチャーム)** 、テキストエディタの **Atom(アトム)** 、 **Sublime Text(サブライムテキスト)** などが良く使われています。中でも、**Jupyter Notebook(ジュピターノートブック)**　は、起動時にデータをメモリに保持し、さらにデータ加工のログを残すことができるため、データの前処理に適しています。\n",
    "\n",
    "また、フレームワーク(汎用的な機能をまとめた基盤となるソフトウェア)も数多く用意されており、Webアプリ制作であれば、 **Django(ジャンゴ)** 、 **Flask(フラスク)** などが有名です。"
   ]
  },
  {
   "cell_type": "markdown",
   "metadata": {},
   "source": [
    "#### 問題"
   ]
  },
  {
   "cell_type": "markdown",
   "metadata": {
    "id": "question"
   },
   "source": [
    "- Pythonの **Webアプリ制作のフレームワーク** を選んでください。"
   ]
  },
  {
   "cell_type": "markdown",
   "metadata": {
    "id": "choices"
   },
   "source": [
    "- Django （ジャンゴ）\n",
    "- PyCharm （パイチャーム）\n",
    "- Jupyter Notebook （ジュピターノートブック）\n",
    "- Atom （アトム）"
   ]
  },
  {
   "cell_type": "markdown",
   "metadata": {},
   "source": [
    "#### ヒント"
   ]
  },
  {
   "cell_type": "markdown",
   "metadata": {
    "id": "hint"
   },
   "source": [
    "- DjangoはWebアプリ制作のフレームワーク、PyCharmは統合開発環境、Jupyter Notebookはノートブック、Atomはテキストエディタです。"
   ]
  },
  {
   "cell_type": "markdown",
   "metadata": {},
   "source": [
    "#### 解答"
   ]
  },
  {
   "cell_type": "markdown",
   "metadata": {
    "id": "answer"
   },
   "source": [
    "- Django （ジャンゴ）"
   ]
  },
  {
   "cell_type": "markdown",
   "metadata": {},
   "source": [
    "***"
   ]
  },
  {
   "cell_type": "markdown",
   "metadata": {
    "courseId": 3010,
    "exerciseId": "rkUlFhLsUxG",
    "id": "code_session_name",
    "important": true,
    "isDL": false,
    "timeoutSecs": 5
   },
   "source": [
    "### 1.1.4 コメントの入力"
   ]
  },
  {
   "cell_type": "markdown",
   "metadata": {
    "id": "description"
   },
   "source": [
    "プログラミングをしている中で、　**コードの意図や内容の要約** をメモしておきたい場合があります。Pythonでは、「`#`」を先頭につけることで、**<font color=#AA0000>コメントアウト(コメントをプログラムに影響のないものにすること)</font>** できます。<br>\n",
    "\n",
    "特に共同開発の場では正確にコードを書くだけでなく、自分以外の開発者にもスムーズにプログラムを引き継げるように、わかりやすいコメントを入れることも大切なことです。"
   ]
  },
  {
   "cell_type": "markdown",
   "metadata": {},
   "source": [
    "#### 問題"
   ]
  },
  {
   "cell_type": "markdown",
   "metadata": {
    "id": "question"
   },
   "source": [
    "- `print(3 + 8)`の上に「 **`# 3 + 8の結果を出力する`** 」とコメントしてください。"
   ]
  },
  {
   "cell_type": "code",
   "execution_count": null,
   "metadata": {
    "collapsed": true,
    "id": "index",
    "scrolled": true
   },
   "outputs": [],
   "source": [
    "# 5 + 2の結果を出力してください\n",
    "print(5 + 2)\n",
    "\n",
    "\n",
    "print(3 + 8)"
   ]
  },
  {
   "cell_type": "markdown",
   "metadata": {},
   "source": [
    "#### ヒント"
   ]
  },
  {
   "cell_type": "markdown",
   "metadata": {
    "id": "hint"
   },
   "source": [
    "- 数字や記号は半角にしましょう。"
   ]
  },
  {
   "cell_type": "markdown",
   "metadata": {},
   "source": [
    "#### 解答例"
   ]
  },
  {
   "cell_type": "code",
   "execution_count": null,
   "metadata": {
    "collapsed": true,
    "id": "answer"
   },
   "outputs": [],
   "source": [
    "# 5 + 2の結果を出力してください\n",
    "print(5 + 2)\n",
    "\n",
    "# 3 + 8の結果を出力する\n",
    "print(3 + 8)"
   ]
  },
  {
   "cell_type": "markdown",
   "metadata": {},
   "source": [
    "***"
   ]
  },
  {
   "cell_type": "markdown",
   "metadata": {
    "courseId": 3010,
    "exerciseId": "BkPetnLs8gz",
    "id": "code_session_name",
    "important": true,
    "isDL": false,
    "timeoutSecs": 5
   },
   "source": [
    "### 1.1.5 数値と文字列\n"
   ]
  },
  {
   "cell_type": "markdown",
   "metadata": {
    "id": "description"
   },
   "source": [
    "Pythonで数値を出力する際にも、文字列の出力と同様にprint関数を使用します。なお、 **数値の出力には「`\"`」や「`'`」は不要です。**\n",
    "また、print関数の`()`内に計算式を入力した場合には、計算結果が整数(int型)で出力されます。\n",
    "\n",
    "```python\n",
    "print(3 + 6)\n",
    "# 出力結果\n",
    "9\n",
    "```\n",
    "また、同じ計算式であっても、「`\"`」や「`'`」で囲むと文字列(str型)として扱われるので、そのまま出力されます。\n",
    "\n",
    "```python\n",
    "print(\"3 + 6\")\n",
    "# 出力結果\n",
    "3 + 6\n",
    "```\n",
    "str型、int型といった「型」の詳細については、この後の「1.3 型」で学習します。"
   ]
  },
  {
   "cell_type": "markdown",
   "metadata": {},
   "source": [
    "#### 問題"
   ]
  },
  {
   "cell_type": "markdown",
   "metadata": {
    "id": "question"
   },
   "source": [
    "- 数値の「`18`」を出力してください。\n",
    "- 数値の`2+6`を計算し、計算結果を出力してください。\n",
    "- 「`2 + 6`」という文字列を出力してください。\n",
    "- 全てprint()関数を用いて出力してください。"
   ]
  },
  {
   "cell_type": "code",
   "execution_count": null,
   "metadata": {
    "collapsed": true,
    "id": "index"
   },
   "outputs": [],
   "source": [
    "# 数値の「18」を出力してください\n",
    "\n",
    "\n",
    "# 数値の2に6を足したものを出力してください\n",
    "\n",
    "\n",
    "#　「2 + 6」を出力してください\n"
   ]
  },
  {
   "cell_type": "markdown",
   "metadata": {},
   "source": [
    "#### ヒント"
   ]
  },
  {
   "cell_type": "markdown",
   "metadata": {
    "id": "hint"
   },
   "source": [
    "- 数値の出力：　`print(5)`, `print(7 + 2)`\n",
    "- 文字列の出力：`print(\"7 + 2\")`"
   ]
  },
  {
   "cell_type": "markdown",
   "metadata": {},
   "source": [
    "#### 解答例"
   ]
  },
  {
   "cell_type": "code",
   "execution_count": null,
   "metadata": {
    "collapsed": true,
    "id": "answer"
   },
   "outputs": [],
   "source": [
    "# 数値の「18」を出力してください\n",
    "print(18)\n",
    "\n",
    "# 数値の2に6を足したものを出力してください\n",
    "print(2 + 6)\n",
    "\n",
    "# 「2 + 6」を出力してください\n",
    "print(\"2 + 6\")"
   ]
  },
  {
   "cell_type": "markdown",
   "metadata": {},
   "source": [
    "***"
   ]
  },
  {
   "cell_type": "markdown",
   "metadata": {
    "courseId": 3010,
    "exerciseId": "SydlFhUiUxM",
    "id": "code_session_name",
    "important": true,
    "isDL": false,
    "timeoutSecs": 5
   },
   "source": [
    "### 1.1.6 演算"
   ]
  },
  {
   "cell_type": "markdown",
   "metadata": {
    "id": "description",
    "important": true
   },
   "source": [
    "Pythonは基本的な四則演算だけでなく、べき乗($x^{2}$など)や、割り算の余りの計算などにも対応しています。\n",
    "\n",
    "計算の際に使用できる算術演算子は、<br>\n",
    "・足し算：「`＋`」<br>\n",
    "・引き算：「`-`」　<br>\n",
    "・掛け算：「`*`」<br>\n",
    "・割り算：「`/`」<br>\n",
    "・余りの計算：「`%`」<br>\n",
    "・べき乗：「`**`」<br>\n",
    "となります。"
   ]
  },
  {
   "cell_type": "markdown",
   "metadata": {},
   "source": [
    "#### 問題"
   ]
  },
  {
   "cell_type": "markdown",
   "metadata": {
    "id": "question"
   },
   "source": [
    "- `3 + 5`の結果を出力してください。\n",
    "- `3 - 5`の結果を出力してください。\n",
    "- `3 × 5`の結果を出力してください。\n",
    "- `3 ÷ 5`の結果を出力してください。\n",
    "- `3`を`5`で割った余りを出力してください。\n",
    "- `3`の`5`乗の結果を出力してください。\n",
    "- 全てprint関数を用いて出力してください。"
   ]
  },
  {
   "cell_type": "code",
   "execution_count": null,
   "metadata": {
    "collapsed": true,
    "id": "index"
   },
   "outputs": [],
   "source": [
    "# 3 + 5\n",
    "\n",
    "\n",
    "# 3 - 5\n",
    "\n",
    "\n",
    "# 3 × 5\n",
    "\n",
    "\n",
    "# 3 ÷ 5\n",
    "\n",
    "\n",
    "# 3を5で割った余り\n",
    "\n",
    "\n",
    "# 3の5乗\n",
    "\n"
   ]
  },
  {
   "cell_type": "markdown",
   "metadata": {},
   "source": [
    "#### ヒント"
   ]
  },
  {
   "cell_type": "markdown",
   "metadata": {
    "id": "hint"
   },
   "source": [
    "- `print(2 + 5)`  # 出力結果`7`\n",
    "- `print(2 - 5)`  # 出力結果`-3`\n",
    "- `print(2 * 5)`  # 出力結果`10`\n",
    "- `print(2 / 5)`  # 出力結果`0.4`\n",
    "- `print(2 % 5)`  # 出力結果`2`\n",
    "- `print(2 ** 5)`  # 出力結果`32`"
   ]
  },
  {
   "cell_type": "markdown",
   "metadata": {},
   "source": [
    "#### 解答例"
   ]
  },
  {
   "cell_type": "code",
   "execution_count": null,
   "metadata": {
    "collapsed": true,
    "id": "answer"
   },
   "outputs": [],
   "source": [
    "# 3 + 5\n",
    "print(3 + 5)\n",
    "\n",
    "# 3 - 5\n",
    "print(3 - 5)\n",
    "\n",
    "# 3 × 5\n",
    "print(3 * 5)\n",
    "\n",
    "#　3 ÷ 5\n",
    "print(3 / 5)\n",
    "\n",
    "# 3を5で割った余り\n",
    "print(3 % 5)\n",
    "\n",
    "# 3の5乗\n",
    "print(3 ** 5)\n"
   ]
  },
  {
   "cell_type": "markdown",
   "metadata": {},
   "source": [
    "***"
   ]
  },
  {
   "cell_type": "markdown",
   "metadata": {
    "id": "section_name",
    "sectionId": "S1Z_0QWe-f"
   },
   "source": [
    "## 1.2 変数\n"
   ]
  },
  {
   "cell_type": "markdown",
   "metadata": {
    "courseId": 3010,
    "exerciseId": "B1teK2LoIxM",
    "id": "code_session_name",
    "important": true,
    "isDL": false,
    "timeoutSecs": 5
   },
   "source": [
    "### 1.2.1 変数"
   ]
  },
  {
   "cell_type": "markdown",
   "metadata": {
    "id": "description"
   },
   "source": [
    "プログラムでは**<font color=#AA0000>変数</font>** というものが頻繁に使用されます。変数はその名の通り、変化する値の入れ物で、 **「`変数名 = 値`」** という風に使います。\n",
    "\n",
    "プログラミング上の「`=`」は右辺の値を左辺の値に **代入する(格納する)** という意味で、数学でいう「等しい」とは異なります。\n",
    "-\tなお、変数名に使える文字は下記の3種類。\n",
    "・半角アルファベット(大文字、小文字)\n",
    "・半角数字\n",
    "・_(アンダースコア)\n",
    "Python3では日本語名で変数を作る事も可能ですが、あまり推奨はされていません。\n",
    "\n",
    "また、**変数の命名**にはその他にもいくつかのルールがあり、以下の条件を満たす必要があります。\n",
    "-\t先頭の文字に数字は使用不可\n",
    "-\t定義されている関数名(`print`や`list`など)\n",
    "-\t<a href='https://docs.python.org/2/reference/lexical_analysis.html#keywords' target=\"_blank\">予約語やキーワード</a>と同じ文字列\n",
    "予約語とは、Pythonのプログラムで使用する文法のようなもので、「if」、「for」、「True」、「False」など33種類あります。\n",
    "\n",
    "変数名は、プログラム作成者以外にも用途がわかりやすいものが望ましいでしょう。例えば、`n`という名前にしてしまうと、何に使うためのものなのか変数名からは想像がつきにくくなります。なお、変数名の大文字と小文字は区別されるので、「hensu」と「Hensu」はそれぞれ別の変数として扱われます。\n",
    "\n",
    "たとえば、hensuという変数に\"テスト“という文字列を代入し、それを画面に出力する場合には下記のような記述になります。\n",
    "```python\n",
    "hensu = \"テスト\"\n",
    "print(hensu)\n",
    "```\n",
    "***\n",
    "\n",
    "ちなみに、予約語・キーワード、関数の名前を変数名に使用しても、すぐにエラーはでません。変数と同じ名前の処理文を使った時に初めてエラーとなります。\n",
    "\n",
    "```python\n",
    "# printを変数名に使うと、print()を使用した段階でエラーが出る\n",
    "print = \"Hello\"\n",
    "print(print) # TypeError: 'str' object is not callable\n",
    "```\n",
    "\n",
    "こういった場合には、下記のような記述で変数を削除します。\n",
    "```python\n",
    "del(変数名)\n",
    "```"
   ]
  },
  {
   "cell_type": "markdown",
   "metadata": {},
   "source": [
    "#### 問題"
   ]
  },
  {
   "cell_type": "markdown",
   "metadata": {
    "id": "question"
   },
   "source": [
    "- 変数`n`に「`ねこ`」を代入してください。\n",
    "- 変数`n`を出力してください。print関数で出力してください。\n",
    "- 「`n`」という文字列を出力してください。print関数で出力してください。\n",
    "- 変数`n`に`3 + 7`という数式を代入してください。\n",
    "- 変数`n`を出力してください。print関数で出力してください。"
   ]
  },
  {
   "cell_type": "code",
   "execution_count": null,
   "metadata": {
    "collapsed": true,
    "id": "index"
   },
   "outputs": [],
   "source": [
    "# 変数nに「ねこ」を代入してください\n",
    "\n",
    "\n",
    "# 変数nを出力してください\n",
    "\n",
    "\n",
    "# 「n」という文字列を出力してください\n",
    "\n",
    "\n",
    "# 変数nに3 + 7という数式を代入してください\n",
    "\n",
    "\n",
    "# 変数nを出力してください\n",
    "\n"
   ]
  },
  {
   "cell_type": "markdown",
   "metadata": {},
   "source": [
    "#### ヒント"
   ]
  },
  {
   "cell_type": "markdown",
   "metadata": {
    "id": "hint"
   },
   "source": [
    "- 変数`animal`に\"とら\"を代入 # 出力結果 `とら`\n",
    "- 変数を出力したい場合は「`\"`」で囲みません。\n",
    "- `n`に数式`2 + 5`の結果を代入 # 出力結果`７`"
   ]
  },
  {
   "cell_type": "markdown",
   "metadata": {},
   "source": [
    "#### 解答例"
   ]
  },
  {
   "cell_type": "code",
   "execution_count": null,
   "metadata": {
    "collapsed": true,
    "id": "answer"
   },
   "outputs": [],
   "source": [
    "# 変数nに「ねこ」を代入してください\n",
    "n = \"ねこ\"\n",
    "\n",
    "# 変数nを出力してください\n",
    "print(n)\n",
    "\n",
    "# 「n」という文字列を出力してください\n",
    "print(\"n\")\n",
    "\n",
    "# 変数nに3 + 7という数式を代入してください\n",
    "n = 3 + 7\n",
    "\n",
    "# 変数nを出力してください\n",
    "print(n)\n",
    "\n"
   ]
  },
  {
   "cell_type": "markdown",
   "metadata": {},
   "source": [
    "***"
   ]
  },
  {
   "cell_type": "markdown",
   "metadata": {
    "courseId": 3010,
    "exerciseId": "ry5eFnIo8xG",
    "id": "code_session_name",
    "important": true,
    "isDL": false,
    "timeoutSecs": 5
   },
   "source": [
    "### 1.2.2 変数の更新"
   ]
  },
  {
   "cell_type": "markdown",
   "metadata": {
    "id": "description"
   },
   "source": [
    "プログラムのコードは基本的に上から下へと読み込まれていきます。そのため、 **変数の値は後から代入された値で上書き** されます。<br>\n",
    "下記は、xという変数を用いた例です。\n",
    "\n",
    "```python\n",
    "x = 1\n",
    "print(x)  # 1が出力される\n",
    "x = x + 1\n",
    "print(x)  # 2が出力される\n",
    "```\n",
    "\n",
    "なお、`x = x + 1`という記述は、`x += 1`と短く記述することもできます。\n",
    "つまり、`x = x - 1`は`x -= 1`、 `x = x * 2` は `x *= 2`、 `x = x / 2` は `x /= 2` と記述します。\n",
    "\n",
    "```python\n",
    "x = 5\n",
    "x *= 2\n",
    "print(x)  # 5×2の結果である10が出力される\n",
    "```"
   ]
  },
  {
   "cell_type": "markdown",
   "metadata": {},
   "source": [
    "#### 問題"
   ]
  },
  {
   "cell_type": "markdown",
   "metadata": {
    "id": "question"
   },
   "source": [
    "- 変数`m`に「いぬ」を上書きして、値をprint関数で出力してください。\n",
    "- 変数`n`に`5`をかけて、上書きしてください。"
   ]
  },
  {
   "cell_type": "code",
   "execution_count": null,
   "metadata": {
    "collapsed": true,
    "id": "index"
   },
   "outputs": [],
   "source": [
    "m = \"ねこ\"\n",
    "print(m)\n",
    "\n",
    "# 変数mに「いぬ」を上書きして、出力してください\n",
    "\n",
    "\n",
    "\n",
    "\n",
    "n = 14\n",
    "print(n)\n",
    "\n",
    "# 変数nに5をかけて、上書きしてください\n",
    "\n",
    "\n",
    "print(n)"
   ]
  },
  {
   "cell_type": "markdown",
   "metadata": {},
   "source": [
    "#### ヒント"
   ]
  },
  {
   "cell_type": "markdown",
   "metadata": {
    "id": "hint"
   },
   "source": [
    "- 上書きするときは、代入の時と同様の方法です。\n",
    "- 今回は、 `n = n * 5`を利用しても、`n *= 5`を利用してもどちらでも構いません。"
   ]
  },
  {
   "cell_type": "markdown",
   "metadata": {},
   "source": [
    "#### 解答例"
   ]
  },
  {
   "cell_type": "code",
   "execution_count": null,
   "metadata": {
    "collapsed": true,
    "id": "answer"
   },
   "outputs": [],
   "source": [
    "m = \"ねこ\"\n",
    "print(m)\n",
    "\n",
    "# 変数mに「いぬ」を上書きして、出力してください\n",
    "m = \"いぬ\"\n",
    "print(m)\n",
    "\n",
    "\n",
    "n = 14\n",
    "print(n)\n",
    "\n",
    "# 変数nに5をかけて、上書きしてください n = n * 5, n = 5 * n　も正解です\n",
    "n *= 5\n",
    "\n",
    "print(n)"
   ]
  },
  {
   "cell_type": "markdown",
   "metadata": {},
   "source": [
    "***"
   ]
  },
  {
   "cell_type": "markdown",
   "metadata": {
    "courseId": 3010,
    "exerciseId": "BJjlF2UjUgz",
    "id": "code_session_name",
    "important": true,
    "isDL": false,
    "timeoutSecs": 5
   },
   "source": [
    "### 1.2.3 文字列の連結"
   ]
  },
  {
   "cell_type": "markdown",
   "metadata": {
    "id": "description"
   },
   "source": [
    "「`＋`」は数値の計算だけではなく、 **文字列の連結** にも用いることができます。もちろん変数と文字列、変数同士の連結もすることができます。\n",
    "変数に文字列を追加して出力したい時には、以下のように記述します。\n",
    "\n",
    "```python\n",
    "m = \"太郎\"\n",
    "print(\"私の名前は\" + m + \"です\") \n",
    "```\n",
    "\n",
    "この時、変数は`\"`や`'`で囲わないように注意しましょう。"
   ]
  },
  {
   "cell_type": "markdown",
   "metadata": {},
   "source": [
    "#### 問題"
   ]
  },
  {
   "cell_type": "markdown",
   "metadata": {
    "id": "question"
   },
   "source": [
    "- 変数`p`に「`東京`」を代入してください。\n",
    "- 変数`p`を用いて「`私は東京出身です`」とprint関数で出力してください。\n"
   ]
  },
  {
   "cell_type": "code",
   "execution_count": null,
   "metadata": {
    "collapsed": true,
    "id": "index"
   },
   "outputs": [],
   "source": [
    "# 変数pに「東京」を代入してください\n",
    "\n",
    "\n",
    "# 変数pを用いて「私は東京出身です」と出力してください\n",
    "\n"
   ]
  },
  {
   "cell_type": "markdown",
   "metadata": {},
   "source": [
    "#### ヒント"
   ]
  },
  {
   "cell_type": "markdown",
   "metadata": {
    "id": "hint"
   },
   "source": [
    "- 文字列同士:`p = \"東京\" + \"都\"`　# 出力結果`東京都`\n",
    "- 文字列と変数:`print(p + \"出身\")`　# 出力結果`東京都出身`"
   ]
  },
  {
   "cell_type": "markdown",
   "metadata": {},
   "source": [
    " #### 解答例"
   ]
  },
  {
   "cell_type": "code",
   "execution_count": null,
   "metadata": {
    "collapsed": true,
    "id": "answer"
   },
   "outputs": [],
   "source": [
    "# 変数pに「東京」を代入してください\n",
    "p = \"東京\"\n",
    "\n",
    "# 変数pを用いて「私は東京出身です」と出力してください\n",
    "print(\"私は\" + p + \"出身です\")\n"
   ]
  },
  {
   "cell_type": "markdown",
   "metadata": {},
   "source": [
    "***"
   ]
  },
  {
   "cell_type": "markdown",
   "metadata": {
    "id": "section_name",
    "sectionId": "BJzdCQ-ebM"
   },
   "source": [
    "## 1.3 型"
   ]
  },
  {
   "cell_type": "markdown",
   "metadata": {
    "courseId": 3010,
    "exerciseId": "rk2gK2IsLlf",
    "id": "code_session_name",
    "important": true,
    "isDL": false,
    "timeoutSecs": 5
   },
   "source": [
    "### 1.3.1 型"
   ]
  },
  {
   "cell_type": "markdown",
   "metadata": {
    "id": "description"
   },
   "source": [
    "Pythonの値には次の3つの「型」という概念があります。\n",
    "\n",
    "-\tStr型：文字列\n",
    "-\tInt型：整数\n",
    "-\tFloat型：浮動小数点\n",
    "\n",
    "なお、 **「Float型」とは小数点を含む数値型のこと** です。\n",
    "\n",
    "**変数の型を調べる方法** として、type関数があります。`type()`を用いることで`()`内の変数に格納されている値の型を知ることができます。\n",
    "\n",
    "```python\n",
    "height = 177\n",
    "type(height)  # int型であることが分かる。\n",
    "```\n",
    "\n",
    "なお、`type()`では1度に複数の変数をチェックすることはできません。`()`内に入力する変数はひとつだけにしましょう。"
   ]
  },
  {
   "cell_type": "markdown",
   "metadata": {},
   "source": [
    "#### 問題"
   ]
  },
  {
   "cell_type": "markdown",
   "metadata": {
    "id": "question"
   },
   "source": [
    "- 変数`h`,`w`の型を出力してください。\n",
    "- 変数`bmi`に計算結果を代入し、値を出力してください。ここで`bmi`とは肥満度を表す指数を指します。\n",
    "- $bmi = \\frac{w}{h^{2}}$で計算できます。（体重÷身長の二乗で計算できます。ただし身長の単位はメートルです）\n",
    "- 変数`bmi`の型を出力してください。\n",
    "- 全て出力はprint関数を使ってください。（型の出力も含みます）"
   ]
  },
  {
   "cell_type": "code",
   "execution_count": null,
   "metadata": {
    "collapsed": true,
    "id": "index"
   },
   "outputs": [],
   "source": [
    "h = 1.7\n",
    "w = 60\n",
    "\n",
    "# 変数h,wの型を出力してください\n",
    "\n",
    "\n",
    "\n",
    "# 変数bmiに計算結果を代入してください\n",
    "\n",
    "\n",
    "# 変数bmiを出力してください\n",
    "\n",
    "\n",
    "# 変数bmiの型を出力してください\n"
   ]
  },
  {
   "cell_type": "markdown",
   "metadata": {},
   "source": [
    "#### ヒント"
   ]
  },
  {
   "cell_type": "markdown",
   "metadata": {
    "id": "hint"
   },
   "source": [
    "- `print(type(型を知りたい変数))`"
   ]
  },
  {
   "cell_type": "markdown",
   "metadata": {},
   "source": [
    "#### 解答例"
   ]
  },
  {
   "cell_type": "code",
   "execution_count": null,
   "metadata": {
    "collapsed": true,
    "id": "answer"
   },
   "outputs": [],
   "source": [
    "h = 1.7\n",
    "w = 60\n",
    "\n",
    "# 変数h,wの型を出力してください\n",
    "print(type(h))\n",
    "print(type(w))\n",
    "\n",
    "# 変数bmiに計算結果を代入してください\n",
    "bmi = w / h ** 2\n",
    "\n",
    "# 変数bmiを出力してください\n",
    "print(bmi)\n",
    "\n",
    "# 変数bmiの型を出力してください\n",
    "print(type(bmi))"
   ]
  },
  {
   "cell_type": "markdown",
   "metadata": {},
   "source": [
    "***"
   ]
  },
  {
   "cell_type": "markdown",
   "metadata": {
    "courseId": 3010,
    "exerciseId": "ByTxK2UiUxf",
    "id": "code_session_name",
    "important": true,
    "isDL": false,
    "timeoutSecs": 5
   },
   "source": [
    " ### 1.3.2 型の変換"
   ]
  },
  {
   "cell_type": "markdown",
   "metadata": {
    "id": "description"
   },
   "source": [
    "異なる型同士の計算や連結をしようとするとエラーが発生することがあります。\n",
    "例えば、 **以下のコードでは、「身長は177cmです。」と出力されそうですが、実行してみるとエラーが出力** されます。\n",
    "\n",
    "```python\n",
    "height = 177\n",
    "print(\"身長は\" + height + \"cmです。\")   # 「TypeError: must be str, not int」というエラーが出力される。\n",
    "```\n",
    "\n",
    "違う型同士の計算や結合をするためには **<font color=#AA0000>型の変換</font>** を行います。<br>\n",
    "\n",
    "-\t**`str()`** : 文字列に変換\n",
    "-\t**`int()`** : 整数値に変換\n",
    "-\t**`float()`** : 小数点を含む数値型に変換\n",
    "<br>\n",
    "\n",
    "下記のように前後の型に合わせて、「177」を文字列に変換することで、「身長は177cmです。」と出力することができるようになります。\n",
    "\n",
    "```python\n",
    "h = 177\n",
    "print(\"身長は\" + str(h) + \"cmです。\")\n",
    "```\n",
    "\n",
    "なお、「Float型」と「Int型」はどちらも数値なので、下記のように **型の変換をしなくても計算することができます**。\n",
    "\n",
    "```python\n",
    "a = 35.4\n",
    "b = 10\n",
    "print(a + b)\n",
    "```"
   ]
  },
  {
   "cell_type": "markdown",
   "metadata": {},
   "source": [
    "#### 問題"
   ]
  },
  {
   "cell_type": "markdown",
   "metadata": {
    "id": "question"
   },
   "source": [
    "- `print(\"あなたのbmiは\" + bmi + \"です\")`をエラーが出ないように訂正してください。"
   ]
  },
  {
   "cell_type": "code",
   "execution_count": null,
   "metadata": {
    "collapsed": true,
    "id": "index"
   },
   "outputs": [],
   "source": [
    "h = 1.7\n",
    "w = 60\n",
    "bmi = w / h ** 2\n",
    "\n",
    "# 「あなたのbmiは〇〇です」と出力してください\n",
    "print(\"あなたのbmiは\" + bmi + \"です\")"
   ]
  },
  {
   "cell_type": "markdown",
   "metadata": {},
   "source": [
    "#### ヒント"
   ]
  },
  {
   "cell_type": "markdown",
   "metadata": {
    "id": "hint"
   },
   "source": [
    "- 数値型を文字列型に変換するには`str()`を用いましょう。"
   ]
  },
  {
   "cell_type": "markdown",
   "metadata": {},
   "source": [
    "#### 解答例"
   ]
  },
  {
   "cell_type": "code",
   "execution_count": null,
   "metadata": {
    "collapsed": true,
    "id": "answer"
   },
   "outputs": [],
   "source": [
    "h = 1.7\n",
    "w = 60\n",
    "bmi = w / h ** 2\n",
    "\n",
    "# 「あなたのbmiは〇〇です」と出力してください\n",
    "print(\"あなたのbmiは\" + str(bmi) + \"です\")"
   ]
  },
  {
   "cell_type": "markdown",
   "metadata": {},
   "source": [
    "***"
   ]
  },
  {
   "cell_type": "markdown",
   "metadata": {
    "courseId": 3010,
    "exerciseId": "SyAxKhUsIgG",
    "id": "quiz_session_name",
    "important": false,
    "isDL": false,
    "timeoutSecs": 5
   },
   "source": [
    "### 1.3.3 型の理解確認"
   ]
  },
  {
   "cell_type": "markdown",
   "metadata": {
    "id": "description"
   },
   "source": [
    "型について最も重要なポイントは、 下記の2点です。\n",
    "\n",
    "-\t異なる型同士では結合・計算できない\n",
    "-\t数値であっても、Str型で保存されている場合には計算できない\n",
    "\n",
    "この2つのポイントを忘れないようにしましょう。\n",
    "ちなみに、下記のように **Str型の値で掛け算** をした場合、 **値が乗数の個数分並んで出力** されます。\n",
    "\n",
    "```python\n",
    "greeting = \"HELLO\"\n",
    "print(greeting*2)  # HELLO HELLO と表示される。\n",
    "```\n",
    "\n",
    "この他、 **「 <font color=#AA0000>None型(値が存在しない型)</font> 」** , **「 <font color=#AA0000>bool型(真偽値型)</font> 」** という型もあります。None型はその名の通り、値が存在しない型で、bool型は`True`か`False`のみの値を持つ型です。bool型をint型に変換すると、`True`は`1`、`False`は`0`として変換されます。また、比較演算子を用いた式が成立するときは`True`となり、成立しないときは`False`となります。\n",
    "\n",
    "例えば、\n",
    "```python\n",
    "print(1 + 1 == 3)  # Falseと出力される。\n",
    "```\n",
    "となります。"
   ]
  },
  {
   "cell_type": "markdown",
   "metadata": {},
   "source": [
    "#### 問題"
   ]
  },
  {
   "cell_type": "markdown",
   "metadata": {
    "id": "question"
   },
   "source": [
    "- 以下のコードを実行した時の出力結果と型を選んでください。\n",
    "```python\n",
    "n = \"10\"\n",
    "print(n*3)\n",
    "```"
   ]
  },
  {
   "cell_type": "markdown",
   "metadata": {
    "collapsed": true,
    "id": "choices"
   },
   "source": [
    "- int型で30\n",
    "- int型で101010\n",
    "- str型で30\n",
    "- str型で101010"
   ]
  },
  {
   "cell_type": "markdown",
   "metadata": {},
   "source": [
    "#### ヒント"
   ]
  },
  {
   "cell_type": "markdown",
   "metadata": {
    "id": "hint"
   },
   "source": [
    "- numberには「`\"`」付きで値が格納されています。これは、str型であることを示しています。"
   ]
  },
  {
   "cell_type": "markdown",
   "metadata": {},
   "source": [
    "#### 解答"
   ]
  },
  {
   "cell_type": "markdown",
   "metadata": {
    "collapsed": true,
    "id": "answer"
   },
   "source": [
    "- str型で101010"
   ]
  },
  {
   "cell_type": "markdown",
   "metadata": {},
   "source": [
    "***"
   ]
  },
  {
   "cell_type": "markdown",
   "metadata": {
    "id": "section_name",
    "sectionId": "rJXdR7Wl-z"
   },
   "source": [
    "## 1.4 if文\n",
    "\n"
   ]
  },
  {
   "cell_type": "markdown",
   "metadata": {
    "courseId": 3010,
    "exerciseId": "HJ1-tnUsIxG",
    "id": "code_session_name",
    "important": true,
    "isDL": false,
    "timeoutSecs": 5
   },
   "source": [
    "### 1.4.1 比較演算子"
   ]
  },
  {
   "cell_type": "markdown",
   "metadata": {
    "id": "description"
   },
   "source": [
    "ここからは 「 **<font color=#AA0000>比較演算子</font>** 」 について説明します。比較演算子というのは、演算子を挟んだ二つの値の関係性を表すものです。比較演算子の記述方法と意味については下記の通りとなります。\n",
    "\n",
    "```python\n",
    "a == b  #aとbは等しい\n",
    "a != b  #aはbと等しくない\n",
    "a > b  #aはbより大きい\n",
    "a >= b  #aはbより大きいまたは等しい\n",
    "a < b  #aはbより小さい\n",
    "a <= b  #aはbより小さいまたは等しい\n",
    "```\n",
    "なお、「`=`」は比較演算子としては使用しません。なぜなら、 **プログラミングの世界では、「`=`」は代入を意味する** ためです。大切なことなので、覚えておきましょう。"
   ]
  },
  {
   "cell_type": "markdown",
   "metadata": {},
   "source": [
    "#### 問題"
   ]
  },
  {
   "cell_type": "markdown",
   "metadata": {
    "id": "question"
   },
   "source": [
    "- `4 + 6`と`-10`を「`!=`」を用いて関係式を作り、`True`を出力してください。\n",
    "- 出力はprint関数を用いてください\n"
   ]
  },
  {
   "cell_type": "code",
   "execution_count": null,
   "metadata": {
    "collapsed": true,
    "id": "index"
   },
   "outputs": [],
   "source": [
    "# 4 + 6と-10を「!=」を用いて関係式を作り出力してください。\n",
    "\n"
   ]
  },
  {
   "cell_type": "markdown",
   "metadata": {},
   "source": [
    "#### ヒント"
   ]
  },
  {
   "cell_type": "markdown",
   "metadata": {
    "id": "hint"
   },
   "source": [
    "- `print()`の`()`の中で比較演算子を用いて式を作りましょう。"
   ]
  },
  {
   "cell_type": "markdown",
   "metadata": {},
   "source": [
    "#### 解答例"
   ]
  },
  {
   "cell_type": "code",
   "execution_count": null,
   "metadata": {
    "collapsed": true,
    "id": "answer"
   },
   "outputs": [],
   "source": [
    "# 4 + 6と-10を「!=」を用いて関係式を作り出力してください\n",
    "print(4 + 6 != -10)"
   ]
  },
  {
   "cell_type": "markdown",
   "metadata": {},
   "source": [
    "***"
   ]
  },
  {
   "cell_type": "markdown",
   "metadata": {
    "courseId": 3010,
    "exerciseId": "HJebY3LiLgM",
    "id": "code_session_name",
    "important": true,
    "isDL": false,
    "timeoutSecs": 5
   },
   "source": [
    "### 1.4.2 if文"
   ]
  },
  {
   "cell_type": "markdown",
   "metadata": {
    "id": "description"
   },
   "source": [
    "if文は条件分岐を行いたい場合に使用する構文で、下記のような記述をします。\n",
    "\n",
    "```python\n",
    "n = 1\n",
    "if n == 1:  #nが1と等しい場合は下記の処理を行う\n",
    "    print(“これは1番目の処理です。\")\n",
    "```\n",
    "\n",
    "この場合の「n == 1」のことを条件式といいます。条件式には比較演算子が使われます。そして、条件式が成立、つまり`True`の時にだけ後半の処理が行われます。なお、 **条件式の末尾には`:`が必要** です。`:`を入れないとif文が成立しないので、注意しましょう。\n",
    "\n",
    "また、pythonの場合は、**インデント(字下げ)の書き方も重要** です。正しくインデントされていなかった場合、処理が進まずにエラーになります。つまり、 **条件式が`True`だった場合、条件式の後のインデントされた処理が行われる ** ということです。\n",
    "\n",
    "PEP8というPythonのコーディング規約では、 **インデントはスペース4つ分が望ましい** とされています。そのため、Jupyter NotebookやAidemyのWebアプリでは、`:`の後に改行キーを打つと、自動的にスペース4つ分のインデントが入るようになっています。"
   ]
  },
  {
   "cell_type": "markdown",
   "metadata": {},
   "source": [
    "#### 問題"
   ]
  },
  {
   "cell_type": "markdown",
   "metadata": {
    "id": "question"
   },
   "source": [
    "- `if`を用いて変数`n`が`15`より大きい場合「`とても大きい数字。`」と出力してください。\n",
    "- 出力はprint関数を用いてください。\n"
   ]
  },
  {
   "cell_type": "code",
   "execution_count": null,
   "metadata": {
    "collapsed": true,
    "id": "index"
   },
   "outputs": [],
   "source": [
    "n = 16\n",
    "\n",
    "# ifを用いて変数nが15より大きい場合「とても大きい数字。」と出力してください\n"
   ]
  },
  {
   "cell_type": "markdown",
   "metadata": {},
   "source": [
    "#### ヒント"
   ]
  },
  {
   "cell_type": "markdown",
   "metadata": {
    "id": "hint"
   },
   "source": [
    "- 「`15より大きい`」を示すには「`a > 15`」とします。\n",
    "- 「`:`」を忘れないようにしましょう。"
   ]
  },
  {
   "cell_type": "markdown",
   "metadata": {},
   "source": [
    "#### 解答例"
   ]
  },
  {
   "cell_type": "code",
   "execution_count": null,
   "metadata": {
    "collapsed": true,
    "id": "answer"
   },
   "outputs": [],
   "source": [
    "n = 16\n",
    "\n",
    "# ifを用いて変数nが15より大きい場合「とても大きい数字。」と出力してください\n",
    "if n > 15:\n",
    "    print(\"とても大きい数字。\")"
   ]
  },
  {
   "cell_type": "markdown",
   "metadata": {},
   "source": [
    "***"
   ]
  },
  {
   "cell_type": "markdown",
   "metadata": {
    "courseId": 3010,
    "exerciseId": "SJb-K2LjLez",
    "id": "code_session_name",
    "important": true,
    "isDL": false,
    "timeoutSecs": 5
   },
   "source": [
    "### 1.4.3 else"
   ]
  },
  {
   "cell_type": "markdown",
   "metadata": {
    "id": "description"
   },
   "source": [
    "`if`文の条件分岐では、 **「`if`」だけでなく、「`else`」も使用します。「`else`」の後ろにはその前までの条件式がTrueにならなかった場合の処理を指定します。** 「`if`」と同じインデントの位置に「`else:`」と記述し、処理の部分はスペース4つ分のインデントを行います。\n",
    "\n",
    "```python\n",
    "n = 2\n",
    "if n == 1:  #nが1と等しい場合は下記の処理を行う\n",
    "    print(\"これは1番目の処理です。\") \n",
    "else:　 # n == 1が成立しない場合は下記の処理を行う\n",
    "    print(\"これは2番目以降の処理です。\")  \n",
    "```\n",
    "\n",
    "なお、elseはif文の中に1つのみ使用できます。"
   ]
  },
  {
   "cell_type": "markdown",
   "metadata": {},
   "source": [
    "#### 問題"
   ]
  },
  {
   "cell_type": "markdown",
   "metadata": {
    "id": "question"
   },
   "source": [
    "- `else`を用いて`n`が15以下のときに「`小さい数字`」を出力してください。\n",
    "- 出力は全てprint関数を用いてください。"
   ]
  },
  {
   "cell_type": "code",
   "execution_count": null,
   "metadata": {
    "collapsed": true,
    "id": "index"
   },
   "outputs": [],
   "source": [
    "n = 14\n",
    "\n",
    "if n > 15:\n",
    "    print(\"とても大きい数字。\")\n",
    "# elseを用いて「小さい数字」を出力してください\n"
   ]
  },
  {
   "cell_type": "markdown",
   "metadata": {},
   "source": [
    "#### ヒント"
   ]
  },
  {
   "cell_type": "markdown",
   "metadata": {
    "id": "hint"
   },
   "source": [
    "- `else:`の記載は、ifとインデントを揃える必要があります。\n",
    "- `print(\"小さい数字\")`の記載は、インデントを下げる必要があります。"
   ]
  },
  {
   "cell_type": "markdown",
   "metadata": {},
   "source": [
    "#### 解答例"
   ]
  },
  {
   "cell_type": "code",
   "execution_count": null,
   "metadata": {
    "collapsed": true,
    "id": "answer"
   },
   "outputs": [],
   "source": [
    "n = 14\n",
    "\n",
    "if n > 15:\n",
    "    print(\"とても大きい数字。\")\n",
    "# elseを用いて「小さい数字」を出力してください\n",
    "else:\n",
    "    print(\"小さい数字\")"
   ]
  },
  {
   "cell_type": "markdown",
   "metadata": {},
   "source": [
    "***"
   ]
  },
  {
   "cell_type": "markdown",
   "metadata": {
    "courseId": 3010,
    "exerciseId": "BJGbKnUjLeG",
    "id": "code_session_name",
    "important": true,
    "isDL": false,
    "timeoutSecs": 5
   },
   "source": [
    "### 1.4.4 elif"
   ]
  },
  {
   "cell_type": "markdown",
   "metadata": {
    "id": "description"
   },
   "source": [
    "if文では **条件文を複数定義したい場合に「`elif`」を使用します。** `elif`は **複数個設定することが可能です。**「`if`」と同じインデントの位置に記述します。\n",
    "\n",
    "```python\n",
    "n = 2\n",
    "if n == 1:  #nが1と等しい場合は下記の処理を行う\n",
    "    print(\"これは1番目の処理です。\") \n",
    "elif n == 2:  #nが2と等しい場合は下記の処理を行う\n",
    "    print(\"これは2番目の処理です。\") \n",
    "elif n == 3:  #nが3と等しい場合は下記の処理を行う\n",
    "    print(\"これは3番目の処理です。\") \n",
    "else　 #上記の3つの条件式が全て成立しない場合、下記の処理を行う\n",
    "    print(\"これは4番目以降の処理です。\")  \n",
    "```"
   ]
  },
  {
   "cell_type": "markdown",
   "metadata": {},
   "source": [
    "#### 問題"
   ]
  },
  {
   "cell_type": "markdown",
   "metadata": {
    "id": "question"
   },
   "source": [
    "- `elif`を用いて`n`が11以上15以下の時、「`中くらいの数字`」と出力してください。"
   ]
  },
  {
   "cell_type": "code",
   "execution_count": null,
   "metadata": {
    "collapsed": true,
    "id": "index"
   },
   "outputs": [],
   "source": [
    "n = 14\n",
    "\n",
    "if n > 15:\n",
    "    print(\"とても大きい数字\")\n",
    "# elifを用いてnが11以上15以下の時、「中くらいの数字」と出力してください\n",
    "\n",
    "\n",
    "    \n",
    "else:\n",
    "    print(\"小さい数字\")"
   ]
  },
  {
   "cell_type": "markdown",
   "metadata": {},
   "source": [
    "#### ヒント"
   ]
  },
  {
   "cell_type": "markdown",
   "metadata": {
    "id": "hint"
   },
   "source": [
    "- `elif`のインデントは、`if`と`else`と同じ位置に揃えましょう。"
   ]
  },
  {
   "cell_type": "markdown",
   "metadata": {},
   "source": [
    "#### 解答例"
   ]
  },
  {
   "cell_type": "code",
   "execution_count": null,
   "metadata": {
    "collapsed": true,
    "id": "answer"
   },
   "outputs": [],
   "source": [
    "n = 14\n",
    "\n",
    "if n > 15:\n",
    "    print(\"とても大きい数字\")\n",
    "# elifを用いてnが11以上15以下の時、「中くらいの数字」と出力してください\n",
    "elif n >= 11:\n",
    "    print(\"中くらいの数字\")\n",
    "else:\n",
    "    print(\"小さい数字\")"
   ]
  },
  {
   "cell_type": "markdown",
   "metadata": {},
   "source": [
    "***"
   ]
  },
  {
   "cell_type": "markdown",
   "metadata": {
    "courseId": 3010,
    "exerciseId": "rymWth8iIeM",
    "id": "code_session_name",
    "important": true,
    "isDL": false,
    "timeoutSecs": 5
   },
   "source": [
    "### 1.4.5 and・not・or"
   ]
  },
  {
   "cell_type": "markdown",
   "metadata": {
    "id": "description"
   },
   "source": [
    "`and・not・or`は **<font color=#AA0000>ブール演算子</font>** と呼ばれ、下記のように使用します。\n",
    "\n",
    "```python\n",
    "条件式A and 条件式B　#A、B両方の条件式が`True`の場合、処理を行う\n",
    "条件式A or 条件式B　#A、Bどちらかの条件式が`True`の場合、処理を行う\n",
    "not 条件式　#条件式が`True`の時`False`を、`False`の時`True`を返す\n",
    "```\n",
    "`and・or`は条件式と条件式の間に使われ、`and`は複数の条件式が全て`True`の場合に、`or`は複数の条件式のうち1つでも`True`であれば`True`を返します。また、`not`は条件式の前に記述し、条件式が`True`の時`False`を、`False`の時`True`を返します。"
   ]
  },
  {
   "cell_type": "markdown",
   "metadata": {},
   "source": [
    "#### 問題"
   ]
  },
  {
   "cell_type": "markdown",
   "metadata": {
    "id": "question"
   },
   "source": [
    "- 変数`n_1`が`8`より大きく`14`より小さい、という条件式を作り、結果`False`を`print`で出力してください。\n",
    "- 変数`n_1`の2乗が変数`n_2`の5倍より小さい、という条件式を作り、`not`を用いて結果を反転させ、結果`True`を`print`で出力してください。\n",
    "- 出力はprint関数を用いてください。"
   ]
  },
  {
   "cell_type": "code",
   "execution_count": null,
   "metadata": {
    "collapsed": true,
    "id": "index"
   },
   "outputs": [],
   "source": [
    "n_1 = 14\n",
    "n_2 = 28\n",
    "\n",
    "# n_1が8より大きく14より小さい条件式を作りandを用いて出力してください\n",
    "print()\n",
    "\n",
    "# n_1の2乗がn_2の5倍より小さい条件式を作りnotを用いて出力してください\n",
    "print()\n"
   ]
  },
  {
   "cell_type": "markdown",
   "metadata": {},
   "source": [
    "#### ヒント"
   ]
  },
  {
   "cell_type": "markdown",
   "metadata": {
    "id": "hint"
   },
   "source": [
    "- `変数n_1が8より大きい and 変数n_1が14より小さい`\n",
    "- `not 変数n_1の2乗が変数n_2の5倍より小さい`"
   ]
  },
  {
   "cell_type": "markdown",
   "metadata": {},
   "source": [
    "#### 解答例"
   ]
  },
  {
   "cell_type": "code",
   "execution_count": null,
   "metadata": {
    "collapsed": true,
    "id": "answer"
   },
   "outputs": [],
   "source": [
    "n_1 = 14\n",
    "n_2 = 28\n",
    "\n",
    "# number_1が8より大きく14より小さい条件式を作りandを用いて出力してください\n",
    "print(n_1 > 8 and n_1 < 14)\n",
    "\n",
    "# n_1の2乗がn_2の5倍より小さい条件式を作りnotを用いて出力してください\n",
    "print(not n_1 ** 2 < n_2 * 5)"
   ]
  },
  {
   "cell_type": "markdown",
   "metadata": {},
   "source": [
    "***"
   ]
  },
  {
   "cell_type": "markdown",
   "metadata": {
    "id": "chapter_exam"
   },
   "source": [
    "## 1.5 添削問題"
   ]
  },
  {
   "cell_type": "markdown",
   "metadata": {
    "id": "description"
   },
   "source": [
    "ここまで学んだことを復習しましょう。"
   ]
  },
  {
   "cell_type": "markdown",
   "metadata": {},
   "source": [
    "#### 問題"
   ]
  },
  {
   "cell_type": "markdown",
   "metadata": {
    "id": "question"
   },
   "source": [
    "- nに１を足してください。\n",
    "- nが50のとき、nをそのまま出力してください。\n",
    "- nが51とき、nを2で割ってください。\n",
    "- それ以外のときは、nを二乗してください。\n",
    "- nを'変数nの値は〇〇です'と出力してください。"
   ]
  },
  {
   "cell_type": "code",
   "execution_count": null,
   "metadata": {
    "collapsed": true,
    "id": "index"
   },
   "outputs": [],
   "source": [
    "n = 50\n",
    "\n",
    "# nに1を足して変数nを更新してください。\n",
    "n += \n",
    "\n",
    "#  \n",
    "if n == :\n",
    "    print('変数nの値は'+ +'です')\n",
    "elif n ==:\n",
    "    print('変数nの値は'+ +'です')\n",
    "else:\n",
    "    print('変数nの値は'+ +'です')"
   ]
  },
  {
   "cell_type": "markdown",
   "metadata": {},
   "source": [
    "#### ヒント"
   ]
  },
  {
   "cell_type": "markdown",
   "metadata": {
    "id": "hint"
   },
   "source": []
  },
  {
   "cell_type": "markdown",
   "metadata": {},
   "source": [
    "#### 解答例"
   ]
  },
  {
   "cell_type": "code",
   "execution_count": 3,
   "metadata": {
    "id": "answer"
   },
   "outputs": [
    {
     "name": "stdout",
     "output_type": "stream",
     "text": [
      "変数nの値は25.5です\n"
     ]
    }
   ],
   "source": [
    "n = 50\n",
    "\n",
    "# nに1を足して変数nを更新してください。\n",
    "n += 1\n",
    "\n",
    "#  \n",
    "if n == 50:\n",
    "    print('変数nの値は'+ str(n)+'です')\n",
    "elif n ==51:\n",
    "    print('変数nの値は'+ str(n / 2)+'です')\n",
    "else:\n",
    "    print('変数nの値は'+ str(n ** 2)+'です')"
   ]
  },
  {
   "cell_type": "markdown",
   "metadata": {
    "id": "commentary"
   },
   "source": []
  },
  {
   "cell_type": "markdown",
   "metadata": {},
   "source": [
    "***"
   ]
  }
 ],
 "metadata": {
  "celltoolbar": "Edit Metadata",
  "kernelspec": {
   "display_name": "Python 3",
   "language": "python",
   "name": "python3"
  },
  "language_info": {
   "codemirror_mode": {
    "name": "ipython",
    "version": 3
   },
   "file_extension": ".py",
   "mimetype": "text/x-python",
   "name": "python",
   "nbconvert_exporter": "python",
   "pygments_lexer": "ipython3",
   "version": "3.6.4"
  },
  "toc": {
   "base_numbering": 1,
   "nav_menu": {},
   "number_sections": true,
   "sideBar": true,
   "skip_h1_title": false,
   "title_cell": "Table of Contents",
   "title_sidebar": "Contents",
   "toc_cell": false,
   "toc_position": {
    "height": "calc(100% - 180px)",
    "left": "10px",
    "top": "150px",
    "width": "281.188px"
   },
   "toc_section_display": true,
   "toc_window_display": true
  },
  "varInspector": {
   "cols": {
    "lenName": 16,
    "lenType": 16,
    "lenVar": 40
   },
   "kernels_config": {
    "python": {
     "delete_cmd_postfix": "",
     "delete_cmd_prefix": "del ",
     "library": "var_list.py",
     "varRefreshCmd": "print(var_dic_list())"
    },
    "r": {
     "delete_cmd_postfix": ") ",
     "delete_cmd_prefix": "rm(",
     "library": "var_list.r",
     "varRefreshCmd": "cat(var_dic_list()) "
    }
   },
   "types_to_exclude": [
    "module",
    "function",
    "builtin_function_or_method",
    "instance",
    "_Feature"
   ],
   "window_display": false
  }
 },
 "nbformat": 4,
 "nbformat_minor": 2
}