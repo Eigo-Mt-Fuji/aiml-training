{
  "cells": [
    {
      "cell_type": "markdown",
      "metadata": {
        "id": "final_exam"
      },
      "source": [
        "# 総合添削問題"
      ]
    },
    {
      "cell_type": "markdown",
      "metadata": {
        "id": "description"
      },
      "source": []
    },
    {
      "cell_type": "markdown",
      "metadata": {},
      "source": [
        "#### 問題"
      ]
    },
    {
      "cell_type": "markdown",
      "metadata": {
        "id": "question"
      },
      "source": [
        "- 次の車の売上データ「sales_car」をこのコースを参考にしながらSARIMAモデルを用いて予測してみてください\n",
        "- ただし予測期間は'1968-01-31', '1972-01-31'とします。"
      ]
    },
    {
      "cell_type": "code",
      "execution_count": null,
      "metadata": {
        "id": "index"
      },
      "outputs": [],
      "source": [
        "import warnings\n",
        "import itertools\n",
        "import pandas as pd\n",
        "import numpy as np\n",
        "import statsmodels.api as sm\n",
        "import matplotlib.pyplot as plt\n",
        "%matplotlib inline\n",
        "\n",
        "# 1.データの読み込み\n",
        "sales_car = pd.read_csv(filepath_or_buffer = \"https://aidemyexcontentsdata.blob.core.windows.net/data/5060_tsa/monthly-car-sales-in-quebec-1960.csv\",dtype={'x02':'float64'})\n",
        "\n",
        "# 2.データの整理\n",
        "# ここに答えを記入してください\n",
        "\n",
        "# 5.モデルの構築\n",
        "# ここに答えを記入してください\n",
        "\n",
        "# 予測\n",
        "#ここに答えを記入してください"
      ]
    },
    {
      "cell_type": "markdown",
      "metadata": {},
      "source": [
        "#### ヒント"
      ]
    },
    {
      "cell_type": "markdown",
      "metadata": {
        "id": "hint"
      },
      "source": [
        "- チャプターで学んだことを思い出してみましょう。SARIMAを用いた時系列データの分析手順は\n",
        "- 1.データの読み込み\n",
        "　2.データの整理\n",
        "　3.データの可視化\n",
        "　4.データの周期の把握 (パラメーターsの決定)\n",
        "  5.s以外のパラメーターの決定\n",
        "  6.モデルの構築\n",
        "  7.データとの予測とその可視化\n",
        "  でした。この手順を踏まえて分析してみましょう\n",
        "- 5.s以外のパラメーターの決定には\n",
        "\n",
        "```python\n",
        "def selectparameter(DATA,s):\n",
        "    p = d = q = range(0, 2)\n",
        "    pdq = list(itertools.product(p, d, q))\n",
        "    seasonal_pdq = [(x[0], x[1], x[2], s) for x in list(itertools.product(p, d, q))]\n",
        "    parameters = []\n",
        "    BICs = np.array([])\n",
        "    for param in pdq:\n",
        "        for param_seasonal in seasonal_pdq:\n",
        "            try:\n",
        "                mod = sm.tsa.statespace.SARIMAX(DATA,\n",
        "                                            order=param,\n",
        "                                            seasonal_order=param_seasonal)\n",
        "                results = mod.fit()\n",
        "                parameters.append([param, param_seasonal, results.bic])\n",
        "                BICs = np.append(BICs,results.bic)\n",
        "            except:\n",
        "                continue\n",
        "    return parameters[np.argmin(BICs)]\n",
        "\n",
        "```\n",
        "\n",
        "を用いてください。\n",
        "- 3～5については、5.モデルの構築のパラメータ決定のための手順であるので、コードの記入は「2.データの整理,5.モデルの構築,7.データの予測とその可視化」のみが書かれていればOKです。"
      ]
    },
    {
      "cell_type": "markdown",
      "metadata": {},
      "source": [
        "##  解答例"
      ]
    }
  ],
  "metadata": {
    "celltoolbar": "Edit Metadata",
    "kernelspec": {
      "display_name": "Python 3",
      "language": "python",
      "name": "python3"
    },
    "language_info": {
      "codemirror_mode": {
        "name": "ipython",
        "version": 3
      },
      "file_extension": ".py",
      "mimetype": "text/x-python",
      "name": "python",
      "nbconvert_exporter": "python",
      "pygments_lexer": "ipython3",
      "version": "3.6.4"
    },
    "toc": {
      "base_numbering": 1,
      "nav_menu": {},
      "number_sections": true,
      "sideBar": true,
      "skip_h1_title": false,
      "title_cell": "Table of Contents",
      "title_sidebar": "Contents",
      "toc_cell": false,
      "toc_position": {},
      "toc_section_display": true,
      "toc_window_display": false
    }
  },
  "nbformat": 4,
  "nbformat_minor": 2
}