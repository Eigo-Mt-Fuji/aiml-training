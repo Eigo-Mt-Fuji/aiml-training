{
 "cells": [
  {
   "cell_type": "markdown",
   "metadata": {
    "id": "final_exam"
   },
   "source": [
    "# 総合添削問題"
   ]
  },
  {
   "cell_type": "markdown",
   "metadata": {
    "id": "description"
   },
   "source": [
    "　以下の画像の色を減らし、N色で構成された画像に変換することを考えます。このような場合、クラスタリングによりこの問題を解決することが可能です。\n",
    "\n",
    "<img src=\"./img_cluster/img_1_0.png\">\n",
    "\n",
    "　上記の画像を32色にまで減色すると以下のようになります。\n",
    "\n",
    "<img src=\"./img_cluster/output32.bmp\">\n",
    "\n",
    "具体的な流れは、以下のようになります。\n",
    "画像の中で代表的な色を数種類選ぶ。\n",
    "画像中の全ピクセルを一番色が近い1.で選ばれた色に置き換える。\n",
    "2.における色の近さの定義は、画像中の色は(R, G, B)=(それぞれ0~255)で表されるため、RGBの値の大きさの3次元のユークリッド距離で算出されます。\n",
    "\n",
    "　　　　 $(R1,G1,B1)と(R2,G2,B2)の距離=(R1−R2)^2+(G1−G2)^2+(B1−B2)^2$\n",
    " \n",
    "1.での代表的な色の選択は、クラスタリング手法であるk-means法を用います。\n",
    "はじめに、ランダムにN個の代表色を選択します。\n",
    "画像上の全ピクセルにおいて、一番近い代表色を選び、全ピクセルをN個のクラスターに割り当てます。\n",
    "それぞれのクラスターにおける平均色(R,G,Bのそれぞれの平均値をとった値)を算出します。\n",
    "新しい代表色を用いて、再度2.を繰り返します。\n",
    "これを繰り返すと、各クラスターの平均値が代表色の値と一致し、代表色の変化が止まります。これを最終的な代表色として割り当てます。"
   ]
  },
  {
   "cell_type": "markdown",
   "metadata": {},
   "source": [
    "#### 問題"
   ]
  },
  {
   "cell_type": "markdown",
   "metadata": {
    "id": "question"
   },
   "source": [
    "- 上記のアルゴリズムを理解し、画像とNを入力されると、画像をN色で構成される画像に変換するプログラムを構築してください。"
   ]
  },
  {
   "cell_type": "code",
   "execution_count": 15,
   "metadata": {
    "id": "index",
    "scrolled": true
   },
   "outputs": [
    {
     "name": "stdout",
     "output_type": "stream",
     "text": [
      "k=32\n",
      "<map object at 0x11bf1e320>\n"
     ]
    },
    {
     "name": "stderr",
     "output_type": "stream",
     "text": [
      "/usr/local/var/pyenv/versions/anaconda3-5.2.0/envs/py3.7.0/lib/python3.7/site-packages/ipykernel_launcher.py:65: RuntimeWarning: invalid value encountered in true_divide\n"
     ]
    },
    {
     "name": "stdout",
     "output_type": "stream",
     "text": [
      "<map object at 0x11bf1e208>\n",
      "Distortion = 3084750\n",
      "<map object at 0x11bf1e208>\n",
      "Distortion = 1662249\n",
      "<map object at 0x11bf1e208>\n",
      "Distortion = 1398362\n",
      "<map object at 0x11bf1e208>\n",
      "Distortion = 1187444\n",
      "<map object at 0x11bf1e208>\n",
      "Distortion = 1116256\n",
      "<map object at 0x11bf1e208>\n",
      "Distortion = 1064409\n",
      "<map object at 0x11bf1e208>\n",
      "Distortion = 1036880\n",
      "<map object at 0x11bf1e208>\n",
      "Distortion = 1027441\n",
      "<map object at 0x11bf1e208>\n",
      "Distortion = 1024334\n"
     ]
    }
   ],
   "source": [
    "import matplotlib.pyplot as plt\n",
    "import numpy as np\n",
    "from numpy.random import randint\n",
    "from PIL import Image\n",
    "import cv2\n",
    "\n",
    "#------------#\n",
    "# パラメータ #\n",
    "#------------#\n",
    "# 減色後の色数（任意の個数の色数を指定できます）\n",
    "Colors = [32]  \n",
    "\n",
    "\n",
    "# k平均法による減色処理\n",
    "def run_kmeans(pixels, k):\n",
    "    cls = [0] * len(pixels)\n",
    "\n",
    "    # 代表色の初期値をランダムに設定\n",
    "    center = []\n",
    "    # randintにより[R, G, B]をそれぞれ0~255の範囲でk個生成\n",
    "    for i in range(k):\n",
    "        center.append(np.array([randint(256), randint(256), randint(256)]))\n",
    "    # numpy.arrayをlist型に変換\n",
    "    print (map(lambda x: x.tolist(), center))\n",
    "    \n",
    "    distortion = 0\n",
    "\n",
    "    # 最大50回のIterationを実施\n",
    "    for iter_num in range(50): \n",
    "        # 各代表色のRBG値を保存するための空listを作成\n",
    "        center_new = []\n",
    "        for i in range(k):\n",
    "            center_new.append(np.array([0,0,0]))\n",
    "        \n",
    "        num_points = [0] * k\n",
    "#        print(num_points)\n",
    "        distortion_new = 0\n",
    "\n",
    "        # E Phase: 各データが属するグループ（代表色）を計算\n",
    "        for pix, point in enumerate(pixels):\n",
    "            min_dist = 256*256*3\n",
    "            point = np.array(point) \n",
    "            \n",
    "            # データ群の中からk個(任意の数)のデータ点を抽出し、 そのk個の点を初期のセントロイドとします。 \n",
    "            for i in range(k):\n",
    "                # ピクセルの座標におけるRGB値と代表色のユークリッド距離を算出\n",
    "                d = np.linalg.norm(point - center[i])\n",
    "                # dの値が設定した最小値より小さければ最小値にdを代入し、\n",
    "                # 各ピクセルの代表色の番号をリストclsに保存\n",
    "                if d < min_dist:\n",
    "                    min_dist = d\n",
    "                    cls[pix] = i\n",
    "                \n",
    "            # データ点に最も近い中心点の、所属データ件数に１加算\n",
    "            cls_idx = cls[pix]\n",
    "            num_points[cls_idx] += 1\n",
    "            # 重心を計算するため、上記中心点にRGB値を保持しておく\n",
    "            center_new[cls_idx] += point\n",
    "            # 中心点との距離の合計を更新（中心点との距離合計の変化量が0.5%未満になったら計算終了する番兵を実装するため、計算しておく）\n",
    "            distortion_new += min_dist\n",
    "        \n",
    "        # M Phase: 新しい代表色を求める\n",
    "        for i in range(k):\n",
    "            # グループごとのデータ点から重心を計算する\n",
    "            center[i] = center_new[i] / num_points[i]\n",
    "\n",
    "        print (map(lambda x: x.tolist(), center))\n",
    "        print (\"Distortion = %d\" % distortion_new)\n",
    "\n",
    "        # Distortion(J)の変化が0.5%未満になったら終了\n",
    "        if iter_num > 0 and distortion - distortion_new < distortion * 0.005:\n",
    "            break\n",
    "        distortion = distortion_new\n",
    "\n",
    "    # 画像データの各ピクセルを代表色で置き換え\n",
    "    for pix, point in enumerate(pixels):\n",
    "        pixels[pix] = tuple(map(lambda x: int(x), center[cls[pix]]))\n",
    "\n",
    "    return pixels\n",
    "        \n",
    "# 任意のデータ点を抽出\n",
    "for k in Colors:\n",
    "    print (\"k=%d\" % k)\n",
    "    # 画像ファイルの読み込み\n",
    "    im = Image.open(\"./img_cluster/img_1_0.png\")\n",
    "    pixels = list(im.convert('RGB').getdata())\n",
    "    # k平均法による減色処理\n",
    "    result = run_kmeans(pixels, k)\n",
    "    # 画像データの更新とファイル出力\n",
    "    im.putdata(result) # Update image\n",
    "    im.save(\"output%02d.bmp\" % k, \"BMP\")\n"
   ]
  },
  {
   "cell_type": "markdown",
   "metadata": {},
   "source": [
    "#### ヒント"
   ]
  },
  {
   "cell_type": "markdown",
   "metadata": {
    "id": "hint"
   },
   "source": [
    "- k-meansを実装する問題になります、わからなければ復習しましょう。"
   ]
  },
  {
   "cell_type": "markdown",
   "metadata": {},
   "source": [
    "##  解答例"
   ]
  },
  {
   "cell_type": "markdown",
   "metadata": {
    "id": "commentary"
   },
   "source": [
    "添削課題の提出は以下のアドレスから提出いただきますようお願いします。<br>\n",
    "\b\n",
    "https://goo.gl/forms/fW7CAspZMwHuWuqk2<br><br>\n",
    "以下のアドレスからアンケートにご協力頂きたく存じます。<br>\n",
    "ご回答のほど、よろしくお願いいたします。\n",
    "\n",
    "https://goo.gl/forms/WHjJQYeodIndRvyz2"
   ]
  }
 ],
 "metadata": {
  "celltoolbar": "Edit Metadata",
  "kernelspec": {
   "display_name": "Python 3",
   "language": "python",
   "name": "python3"
  },
  "language_info": {
   "codemirror_mode": {
    "name": "ipython",
    "version": 3
   },
   "file_extension": ".py",
   "mimetype": "text/x-python",
   "name": "python",
   "nbconvert_exporter": "python",
   "pygments_lexer": "ipython3",
   "version": "3.7.0"
  }
 },
 "nbformat": 4,
 "nbformat_minor": 2
}
